{
 "cells": [
  {
   "cell_type": "markdown",
   "metadata": {},
   "source": [
    "<div>\n",
    "    <img src=\"images/emlyon.png\" style=\"height:60px; float:left; padding-right:10px; margin-top:5px\" />\n",
    "    <span>\n",
    "        <h1 style=\"padding-bottom:5px;\"> AI Booster Week 01 - Python for Data Science </h1>\n",
    "        <a href=\"https://masters.em-lyon.com/fr/msc-in-data-science-artificial-intelligence-strategy\">[Emlyon]</a> MSc in Data Science & Artificial Intelligence Strategy (DSAIS) <br/>\n",
    "         Paris | © Saeed VARASTEH\n",
    "    </span>\n",
    "</div>"
   ]
  },
  {
   "cell_type": "markdown",
   "metadata": {},
   "source": [
    "<div class=\"alert-info\" style=\"border-bottom: solid 1px lightgray; background-color:#ece4f5;\">\n",
    "    <img src=\"images/assignment.png\" style=\"height:60px; float:left; padding-right:10px;\" />\n",
    "    <span style=\"font-weight:bold; color:#8966b0\">\n",
    "        <h4 style=\"padding-top:25px;\"> EXERCISES 05 </h4>\n",
    "    </span>\n",
    "</div>"
   ]
  },
  {
   "cell_type": "markdown",
   "metadata": {},
   "source": [
    "### Pandas II"
   ]
  },
  {
   "cell_type": "code",
   "execution_count": 6,
   "metadata": {},
   "outputs": [],
   "source": [
    "import numpy as np\n",
    "import pandas as pd\n",
    "import matplotlib.pyplot as plt"
   ]
  },
  {
   "cell_type": "markdown",
   "metadata": {},
   "source": [
    "<div style=' background-color:#fae8ea'> \n",
    "    <b>Q1</b> Netflix data.\n",
    "</div>\n",
    "\n",
    "You are given a file named __netflix_titles.csv__.\n",
    "\n",
    "This file contains data from a **Netflix** report, extracted by Flixable. The data columns are:\n",
    "\n",
    "- Id column\n",
    "- Type: Movie or TV Show\n",
    "- The movies or TV shows titles \n",
    "- The name of the director(s), \n",
    "- The cast (the list of actors separated by comma), \n",
    "- The country (ies) where the movie was produced,\n",
    "- The date on which it was added to Netflix,\n",
    "- The released year\n",
    "- The rating\n",
    "- The duration (in min for movies, and in number of seasons for TV shows),\n",
    "- The description\n",
    "\n",
    "<div class=\"alert-info\">\n",
    "<b>Note:</b> Open the file to have a look at it, make a first exploration.\n",
    "</div>"
   ]
  },
  {
   "cell_type": "markdown",
   "metadata": {},
   "source": [
    "1- Read the file into a Pandas `DataFrame`."
   ]
  },
  {
   "cell_type": "code",
   "execution_count": 7,
   "metadata": {},
   "outputs": [],
   "source": [
    "# your code\n",
    "df = pd.read_csv('./data/netflix_titles.csv')"
   ]
  },
  {
   "cell_type": "markdown",
   "metadata": {},
   "source": [
    "2- Display a summary of the basic information about the data."
   ]
  },
  {
   "cell_type": "code",
   "execution_count": 8,
   "metadata": {},
   "outputs": [
    {
     "name": "stdout",
     "output_type": "stream",
     "text": [
      "<class 'pandas.core.frame.DataFrame'>\n",
      "RangeIndex: 8804 entries, 0 to 8803\n",
      "Data columns (total 12 columns):\n",
      " #   Column        Non-Null Count  Dtype \n",
      "---  ------        --------------  ----- \n",
      " 0   show_id       8804 non-null   object\n",
      " 1   type          8804 non-null   object\n",
      " 2   title         8804 non-null   object\n",
      " 3   director      8804 non-null   object\n",
      " 4   cast          8804 non-null   object\n",
      " 5   country       8804 non-null   object\n",
      " 6   date_added    8804 non-null   object\n",
      " 7   release_year  8804 non-null   int64 \n",
      " 8   rating        8804 non-null   object\n",
      " 9   duration      8804 non-null   object\n",
      " 10  listed_in     8804 non-null   object\n",
      " 11  description   8804 non-null   object\n",
      "dtypes: int64(1), object(11)\n",
      "memory usage: 825.5+ KB\n"
     ]
    }
   ],
   "source": [
    "# your code\n",
    "df.info()"
   ]
  },
  {
   "cell_type": "markdown",
   "metadata": {},
   "source": [
    "3- Extract __a list__ where you can find all the released years without repetition."
   ]
  },
  {
   "cell_type": "code",
   "execution_count": 9,
   "metadata": {},
   "outputs": [
    {
     "data": {
      "text/plain": [
       "[2020,\n",
       " 2021,\n",
       " 1993,\n",
       " 2018,\n",
       " 1996,\n",
       " 1998,\n",
       " 1997,\n",
       " 2010,\n",
       " 2013,\n",
       " 2017,\n",
       " 1975,\n",
       " 1978,\n",
       " 1983,\n",
       " 1987,\n",
       " 2012,\n",
       " 2001,\n",
       " 2014,\n",
       " 2002,\n",
       " 2003,\n",
       " 2004,\n",
       " 2011,\n",
       " 2008,\n",
       " 2009,\n",
       " 2007,\n",
       " 2005,\n",
       " 2006,\n",
       " 1994,\n",
       " 2015,\n",
       " 2019,\n",
       " 2016,\n",
       " 1982,\n",
       " 1989,\n",
       " 1990,\n",
       " 1991,\n",
       " 1999,\n",
       " 1986,\n",
       " 1992,\n",
       " 1984,\n",
       " 1980,\n",
       " 1961,\n",
       " 2000,\n",
       " 1995,\n",
       " 1985,\n",
       " 1976,\n",
       " 1959,\n",
       " 1988,\n",
       " 1981,\n",
       " 1972,\n",
       " 1964,\n",
       " 1945,\n",
       " 1954,\n",
       " 1979,\n",
       " 1958,\n",
       " 1956,\n",
       " 1963,\n",
       " 1970,\n",
       " 1973,\n",
       " 1925,\n",
       " 1974,\n",
       " 1960,\n",
       " 1966,\n",
       " 1971,\n",
       " 1962,\n",
       " 1969,\n",
       " 1977,\n",
       " 1967,\n",
       " 1968,\n",
       " 1965,\n",
       " 1946,\n",
       " 1942,\n",
       " 1955,\n",
       " 1944,\n",
       " 1947,\n",
       " 1943]"
      ]
     },
     "execution_count": 9,
     "metadata": {},
     "output_type": "execute_result"
    }
   ],
   "source": [
    "release_year_unique = df['release_year'].unique()\n",
    "release_year_unique_list = release_year_unique.tolist()\n",
    "release_year_unique_list"
   ]
  },
  {
   "cell_type": "markdown",
   "metadata": {},
   "source": [
    "4- We have movies from which period in this dataset?\n",
    "\n",
    "__Hint:__ find the minimum and the maximum of the released years."
   ]
  },
  {
   "cell_type": "code",
   "execution_count": 10,
   "metadata": {},
   "outputs": [
    {
     "data": {
      "text/plain": [
       "2021"
      ]
     },
     "execution_count": 10,
     "metadata": {},
     "output_type": "execute_result"
    }
   ],
   "source": [
    "# your code\n",
    "release_year_unique.max()"
   ]
  },
  {
   "cell_type": "code",
   "execution_count": 11,
   "metadata": {},
   "outputs": [
    {
     "data": {
      "text/plain": [
       "1925"
      ]
     },
     "execution_count": 11,
     "metadata": {},
     "output_type": "execute_result"
    }
   ],
   "source": [
    "release_year_unique.min()"
   ]
  },
  {
   "cell_type": "markdown",
   "metadata": {},
   "source": [
    "5- Extract a __list__ containing all the (unique) release years of only __the movies__ in the dataset."
   ]
  },
  {
   "cell_type": "code",
   "execution_count": 12,
   "metadata": {},
   "outputs": [
    {
     "data": {
      "text/html": [
       "<div>\n",
       "<style scoped>\n",
       "    .dataframe tbody tr th:only-of-type {\n",
       "        vertical-align: middle;\n",
       "    }\n",
       "\n",
       "    .dataframe tbody tr th {\n",
       "        vertical-align: top;\n",
       "    }\n",
       "\n",
       "    .dataframe thead th {\n",
       "        text-align: right;\n",
       "    }\n",
       "</style>\n",
       "<table border=\"1\" class=\"dataframe\">\n",
       "  <thead>\n",
       "    <tr style=\"text-align: right;\">\n",
       "      <th></th>\n",
       "      <th>show_id</th>\n",
       "      <th>type</th>\n",
       "      <th>title</th>\n",
       "      <th>director</th>\n",
       "      <th>cast</th>\n",
       "      <th>country</th>\n",
       "      <th>date_added</th>\n",
       "      <th>release_year</th>\n",
       "      <th>rating</th>\n",
       "      <th>duration</th>\n",
       "      <th>listed_in</th>\n",
       "      <th>description</th>\n",
       "    </tr>\n",
       "  </thead>\n",
       "  <tbody>\n",
       "    <tr>\n",
       "      <th>0</th>\n",
       "      <td>s1</td>\n",
       "      <td>Movie</td>\n",
       "      <td>Dick Johnson Is Dead</td>\n",
       "      <td>Kirsten Johnson</td>\n",
       "      <td>None</td>\n",
       "      <td>United States</td>\n",
       "      <td>September 25, 2021</td>\n",
       "      <td>2020</td>\n",
       "      <td>PG-13</td>\n",
       "      <td>90 min</td>\n",
       "      <td>Documentaries</td>\n",
       "      <td>As her father nears the end of his life, filmm...</td>\n",
       "    </tr>\n",
       "    <tr>\n",
       "      <th>1</th>\n",
       "      <td>s2</td>\n",
       "      <td>TV Show</td>\n",
       "      <td>Blood &amp; Water</td>\n",
       "      <td>None</td>\n",
       "      <td>Ama Qamata, Khosi Ngema, Gail Mabalane, Thaban...</td>\n",
       "      <td>South Africa</td>\n",
       "      <td>September 24, 2021</td>\n",
       "      <td>2021</td>\n",
       "      <td>TV-MA</td>\n",
       "      <td>2 Seasons</td>\n",
       "      <td>International TV Shows, TV Dramas, TV Mysteries</td>\n",
       "      <td>After crossing paths at a party, a Cape Town t...</td>\n",
       "    </tr>\n",
       "    <tr>\n",
       "      <th>2</th>\n",
       "      <td>s3</td>\n",
       "      <td>TV Show</td>\n",
       "      <td>Ganglands</td>\n",
       "      <td>Julien Leclercq</td>\n",
       "      <td>Sami Bouajila, Tracy Gotoas, Samuel Jouy, Nabi...</td>\n",
       "      <td>None</td>\n",
       "      <td>September 24, 2021</td>\n",
       "      <td>2021</td>\n",
       "      <td>TV-MA</td>\n",
       "      <td>1 Season</td>\n",
       "      <td>Crime TV Shows, International TV Shows, TV Act...</td>\n",
       "      <td>To protect his family from a powerful drug lor...</td>\n",
       "    </tr>\n",
       "    <tr>\n",
       "      <th>3</th>\n",
       "      <td>s4</td>\n",
       "      <td>TV Show</td>\n",
       "      <td>Jailbirds New Orleans</td>\n",
       "      <td>None</td>\n",
       "      <td>None</td>\n",
       "      <td>None</td>\n",
       "      <td>September 24, 2021</td>\n",
       "      <td>2021</td>\n",
       "      <td>TV-MA</td>\n",
       "      <td>1 Season</td>\n",
       "      <td>Docuseries, Reality TV</td>\n",
       "      <td>Feuds, flirtations and toilet talk go down amo...</td>\n",
       "    </tr>\n",
       "    <tr>\n",
       "      <th>4</th>\n",
       "      <td>s5</td>\n",
       "      <td>TV Show</td>\n",
       "      <td>Kota Factory</td>\n",
       "      <td>None</td>\n",
       "      <td>Mayur More, Jitendra Kumar, Ranjan Raj, Alam K...</td>\n",
       "      <td>India</td>\n",
       "      <td>September 24, 2021</td>\n",
       "      <td>2021</td>\n",
       "      <td>TV-MA</td>\n",
       "      <td>2 Seasons</td>\n",
       "      <td>International TV Shows, Romantic TV Shows, TV ...</td>\n",
       "      <td>In a city of coaching centers known to train I...</td>\n",
       "    </tr>\n",
       "  </tbody>\n",
       "</table>\n",
       "</div>"
      ],
      "text/plain": [
       "  show_id     type                  title         director  \\\n",
       "0      s1    Movie   Dick Johnson Is Dead  Kirsten Johnson   \n",
       "1      s2  TV Show          Blood & Water             None   \n",
       "2      s3  TV Show              Ganglands  Julien Leclercq   \n",
       "3      s4  TV Show  Jailbirds New Orleans             None   \n",
       "4      s5  TV Show           Kota Factory             None   \n",
       "\n",
       "                                                cast        country  \\\n",
       "0                                               None  United States   \n",
       "1  Ama Qamata, Khosi Ngema, Gail Mabalane, Thaban...   South Africa   \n",
       "2  Sami Bouajila, Tracy Gotoas, Samuel Jouy, Nabi...           None   \n",
       "3                                               None           None   \n",
       "4  Mayur More, Jitendra Kumar, Ranjan Raj, Alam K...          India   \n",
       "\n",
       "           date_added  release_year rating   duration  \\\n",
       "0  September 25, 2021          2020  PG-13     90 min   \n",
       "1  September 24, 2021          2021  TV-MA  2 Seasons   \n",
       "2  September 24, 2021          2021  TV-MA   1 Season   \n",
       "3  September 24, 2021          2021  TV-MA   1 Season   \n",
       "4  September 24, 2021          2021  TV-MA  2 Seasons   \n",
       "\n",
       "                                           listed_in  \\\n",
       "0                                      Documentaries   \n",
       "1    International TV Shows, TV Dramas, TV Mysteries   \n",
       "2  Crime TV Shows, International TV Shows, TV Act...   \n",
       "3                             Docuseries, Reality TV   \n",
       "4  International TV Shows, Romantic TV Shows, TV ...   \n",
       "\n",
       "                                         description  \n",
       "0  As her father nears the end of his life, filmm...  \n",
       "1  After crossing paths at a party, a Cape Town t...  \n",
       "2  To protect his family from a powerful drug lor...  \n",
       "3  Feuds, flirtations and toilet talk go down amo...  \n",
       "4  In a city of coaching centers known to train I...  "
      ]
     },
     "execution_count": 12,
     "metadata": {},
     "output_type": "execute_result"
    }
   ],
   "source": [
    "df.head(5)"
   ]
  },
  {
   "cell_type": "code",
   "execution_count": 13,
   "metadata": {
    "scrolled": true
   },
   "outputs": [
    {
     "data": {
      "text/plain": [
       "[2020,\n",
       " 2021,\n",
       " 1993,\n",
       " 1996,\n",
       " 1998,\n",
       " 1997,\n",
       " 2010,\n",
       " 2013,\n",
       " 2017,\n",
       " 1975,\n",
       " 1978,\n",
       " 1983,\n",
       " 1987,\n",
       " 2012,\n",
       " 2001,\n",
       " 2002,\n",
       " 2003,\n",
       " 2004,\n",
       " 2011,\n",
       " 2008,\n",
       " 2009,\n",
       " 2007,\n",
       " 2005,\n",
       " 2006,\n",
       " 2018,\n",
       " 2019,\n",
       " 1994,\n",
       " 2015,\n",
       " 1982,\n",
       " 1989,\n",
       " 2014,\n",
       " 1990,\n",
       " 1991,\n",
       " 1999,\n",
       " 2016,\n",
       " 1986,\n",
       " 1984,\n",
       " 1980,\n",
       " 1961,\n",
       " 2000,\n",
       " 1995,\n",
       " 1985,\n",
       " 1992,\n",
       " 1976,\n",
       " 1959,\n",
       " 1988,\n",
       " 1981,\n",
       " 1972,\n",
       " 1964,\n",
       " 1954,\n",
       " 1979,\n",
       " 1958,\n",
       " 1956,\n",
       " 1963,\n",
       " 1970,\n",
       " 1973,\n",
       " 1960,\n",
       " 1974,\n",
       " 1966,\n",
       " 1971,\n",
       " 1962,\n",
       " 1969,\n",
       " 1977,\n",
       " 1967,\n",
       " 1968,\n",
       " 1965,\n",
       " 1945,\n",
       " 1946,\n",
       " 1942,\n",
       " 1955,\n",
       " 1944,\n",
       " 1947,\n",
       " 1943]"
      ]
     },
     "execution_count": 13,
     "metadata": {},
     "output_type": "execute_result"
    }
   ],
   "source": [
    "list_movie_year = df.loc[df['type'] == 'Movie','release_year'].unique().tolist()\n",
    "list_movie_year"
   ]
  },
  {
   "cell_type": "markdown",
   "metadata": {},
   "source": [
    "6- Write code to find the __average length (duration)__ (in minutes) of all the __movies__ in the dataset."
   ]
  },
  {
   "cell_type": "code",
   "execution_count": 14,
   "metadata": {
    "scrolled": true
   },
   "outputs": [
    {
     "name": "stdout",
     "output_type": "stream",
     "text": [
      "The average movie length is:  0    99.577187\n",
      "dtype: float64\n"
     ]
    }
   ],
   "source": [
    "avg_movie_length = df.loc[df['type'] == 'Movie','duration'].str.extract('(\\d+)').astype(int).mean()\n",
    "\n",
    "print(\"The average movie length is: \", avg_movie_length)"
   ]
  },
  {
   "cell_type": "markdown",
   "metadata": {},
   "source": [
    "7- Create __a dictionary__ where the titles are the keys and the cast names are the values.\n",
    "\n",
    "__Note__: Only add titles where the cast is not \"None\".\n",
    "\n",
    "__Note__: Name this dictionary as \"titles_and_cast\"."
   ]
  },
  {
   "cell_type": "code",
   "execution_count": 15,
   "metadata": {
    "scrolled": true
   },
   "outputs": [],
   "source": [
    "titles_and_cast = df.set_index(['title'])['cast'].to_dict()"
   ]
  },
  {
   "cell_type": "code",
   "execution_count": 16,
   "metadata": {},
   "outputs": [
    {
     "data": {
      "text/plain": [
       "dict"
      ]
     },
     "execution_count": 16,
     "metadata": {},
     "output_type": "execute_result"
    }
   ],
   "source": [
    "type(titles_and_cast)"
   ]
  },
  {
   "cell_type": "markdown",
   "metadata": {},
   "source": [
    "8- Using the \"titles_and_cast\" dictionary, write a piece of code to find out how many times \"Ryan Reynolds\" played in a movie or a TV show. Print the titles."
   ]
  },
  {
   "cell_type": "code",
   "execution_count": 17,
   "metadata": {},
   "outputs": [
    {
     "name": "stdout",
     "output_type": "stream",
     "text": [
      "13 times\n"
     ]
    }
   ],
   "source": [
    "count_ry = 0\n",
    "for key in titles_and_cast.keys():\n",
    "     if titles_and_cast[key].find('Ryan Reynolds') != -1:\n",
    "        count_ry += 1\n",
    "print(f\"{count_ry} times\")"
   ]
  },
  {
   "cell_type": "markdown",
   "metadata": {},
   "source": [
    "9- Using the \"titles_and_cast\" dictionary, write a piece of code to find out how many times \"Ryan Reynolds\" and \"Blake Lively\" played in a movie or a TV show together. Print the titles."
   ]
  },
  {
   "cell_type": "code",
   "execution_count": 18,
   "metadata": {},
   "outputs": [
    {
     "name": "stdout",
     "output_type": "stream",
     "text": [
      "1 times\n"
     ]
    }
   ],
   "source": [
    "count_ry = 0\n",
    "for key in titles_and_cast.keys():\n",
    "     if titles_and_cast[key].find('Ryan Reynolds') != -1 and titles_and_cast[key].find('Blake Lively') != -1:\n",
    "        count_ry += 1\n",
    "print(f\"{count_ry} times\")"
   ]
  },
  {
   "cell_type": "markdown",
   "metadata": {},
   "source": [
    "10- Create a new DataFrame from the dataset where the first column is the individual countries and the second column represents the total number of __movies__ produced by that country.\n",
    "\n",
    "__Note 1__: Check the values in the country column, you might have several country names for a movie.\n",
    "\n",
    "__Note 2__: Lower and strip the name of each country in order to gather all the counts. This will help you to calculate cumulative values."
   ]
  },
  {
   "cell_type": "code",
   "execution_count": 19,
   "metadata": {},
   "outputs": [
    {
     "name": "stdout",
     "output_type": "stream",
     "text": [
      "            Country  Total Movies\n",
      "0     united states          2748\n",
      "1             india           962\n",
      "2    united kingdom           532\n",
      "3              none           440\n",
      "4            canada           319\n",
      "..              ...           ...\n",
      "118         somalia             1\n",
      "119           sudan             1\n",
      "120          panama             1\n",
      "121          uganda             1\n",
      "122      montenegro             1\n",
      "\n",
      "[123 rows x 2 columns]\n"
     ]
    }
   ],
   "source": [
    "split_df = df.loc[df['type'] == 'Movie','country'].str.split(', ').explode()\n",
    "\n",
    "split_df = split_df.str.lower().str.strip()\n",
    "\n",
    "country_movie_counts = split_df.value_counts().reset_index()\n",
    "country_movie_counts.columns = ['Country', 'Total Movies']\n",
    "\n",
    "count_df = country_movie_counts.sort_values(by='Total Movies', ascending=False).reset_index(drop=True)\n",
    "\n",
    "print(count_df)"
   ]
  },
  {
   "cell_type": "markdown",
   "metadata": {},
   "source": [
    "11- Create a bar plot of the countries with more than 100 movies in the dataset."
   ]
  },
  {
   "cell_type": "code",
   "execution_count": 20,
   "metadata": {},
   "outputs": [
    {
     "data": {
      "image/png": "[encoded data removed]",
      "text/plain": [
       "<Figure size 640x480 with 1 Axes>"
      ]
     },
     "metadata": {},
     "output_type": "display_data"
    }
   ],
   "source": [
    "import matplotlib.pyplot as plt\n",
    "\n",
    "count_df = count_df[count_df['Total Movies'] > 100]\n",
    "\n",
    "plt.figure()\n",
    "plt.bar(count_df['Country'], count_df['Total Movies'])\n",
    "plt.xlabel('Country')\n",
    "plt.ylabel('Total Movies')\n",
    "plt.title('Countries with More than 100 Movies')\n",
    "plt.xticks(rotation=90)\n",
    "\n",
    "plt.show()"
   ]
  },
  {
   "cell_type": "markdown",
   "metadata": {},
   "source": [
    "---"
   ]
  },
  {
   "cell_type": "code",
   "execution_count": null,
   "metadata": {},
   "outputs": [],
   "source": []
  }
 ],
 "metadata": {
  "kernelspec": {
   "display_name": "Python 3 (ipykernel)",
   "language": "python",
   "name": "python3"
  },
  "language_info": {
   "codemirror_mode": {
    "name": "ipython",
    "version": 3
   },
   "file_extension": ".py",
   "mimetype": "text/x-python",
   "name": "python",
   "nbconvert_exporter": "python",
   "pygments_lexer": "ipython3",
   "version": "3.11.4"
  }
 },
 "nbformat": 4,
 "nbformat_minor": 2
}
