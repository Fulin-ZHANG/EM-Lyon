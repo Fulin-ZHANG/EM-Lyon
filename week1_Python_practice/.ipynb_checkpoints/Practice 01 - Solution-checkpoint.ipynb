{
 "cells": [
  {
   "cell_type": "markdown",
   "id": "cdec5c34",
   "metadata": {},
   "source": [
    "<div>\n",
    "    <img src=\"images/emlyon.png\" style=\"height:60px; float:left; padding-right:10px; margin-top:5px\" />\n",
    "    <span>\n",
    "        <h1 style=\"padding-bottom:5px;\"> AI Booster Week 01 - Python for Data Science </h1>\n",
    "        <a href=\"https://masters.em-lyon.com/fr/msc-in-data-science-artificial-intelligence-strategy\">[Emlyon]</a> MSc in Data Science & Artificial Intelligence Strategy (DSAIS) <br/>\n",
    "         Paris | © Laureline PINAULT\n",
    "    </span>\n",
    "</div>"
   ]
  },
  {
   "cell_type": "markdown",
   "id": "9bc04270",
   "metadata": {},
   "source": [
    "# Practice - 01: Basics of Python and Numpy\n",
    "The bonus questions are to be skipped. If you have time left at the end of the session or at home you can try them."
   ]
  },
  {
   "cell_type": "markdown",
   "id": "e1b28cbc",
   "metadata": {},
   "source": [
    "---\n",
    "### Objectives: \n",
    "\n",
    "\n",
    "*Gain familiarity with Python concepts and discover Numpy library by practice*\n",
    "\n",
    "---"
   ]
  },
  {
   "cell_type": "markdown",
   "id": "02663a69",
   "metadata": {},
   "source": [
    "## Part 1: Let's write some functions!"
   ]
  },
  {
   "cell_type": "markdown",
   "id": "13f96f42",
   "metadata": {},
   "source": [
    "__Exercise 1.__\n",
    "Write a function called mul_table that takes as input a number and prints the multiplication table of that number."
   ]
  },
  {
   "cell_type": "code",
   "execution_count": 23,
   "id": "7513782e",
   "metadata": {},
   "outputs": [
    {
     "name": "stdout",
     "output_type": "stream",
     "text": [
      "9 * 1 = 9\n",
      "9 * 2 = 18\n",
      "9 * 3 = 27\n",
      "9 * 4 = 36\n",
      "9 * 5 = 45\n",
      "9 * 6 = 54\n",
      "9 * 7 = 63\n",
      "9 * 8 = 72\n",
      "9 * 9 = 81\n",
      "9 * 10 = 90\n"
     ]
    }
   ],
   "source": [
    "def mul_table(n):\n",
    "    for i in range(1, 11):\n",
    "        print(\"{multiplier} * {multiplicand} = {multiplicantion}\".format(\n",
    "            multiplier=n, multiplicand=i, multiplicantion=n * i))\n",
    "\n",
    "mul_table(9)"
   ]
  },
  {
   "cell_type": "markdown",
   "id": "96da84db",
   "metadata": {},
   "source": [
    "__Exercise 2.__\n",
    "Write a function called prime_list that returns the list of prime factors of a number.\n",
    "\n",
    "For example, the prime factors of 110 are 2, 5 and 11 and the prime factors of 56 are 2, 2, 2, 7."
   ]
  },
  {
   "cell_type": "code",
   "execution_count": 20,
   "id": "b30a6010",
   "metadata": {},
   "outputs": [
    {
     "name": "stdout",
     "output_type": "stream",
     "text": [
      "[2, 5, 11]\n",
      "[2, 2, 2, 7]\n"
     ]
    }
   ],
   "source": [
    "def prime_list(n):\n",
    "    result=[]\n",
    "    for i in range(2,n+1):\n",
    "        while n%i == 0:\n",
    "            result.append(i)\n",
    "            n = n//i\n",
    "    return result\n",
    "\n",
    "print(prime_list(110))\n",
    "print(prime_list(56))"
   ]
  },
  {
   "cell_type": "markdown",
   "id": "52a8158c",
   "metadata": {},
   "source": [
    "__Exercise 3.__\n",
    "Create a function called most_common_char that takes a string as a argument and the returns the most common character in that string. If there is an equality it should return the first on to appear in the string.\n",
    "\n",
    "Tip: use a dictionnary."
   ]
  },
  {
   "cell_type": "code",
   "execution_count": 40,
   "id": "e5de1a7b",
   "metadata": {},
   "outputs": [
    {
     "data": {
      "text/plain": [
       "('o', 2)"
      ]
     },
     "execution_count": 40,
     "metadata": {},
     "output_type": "execute_result"
    }
   ],
   "source": [
    "def most_common_char(s):\n",
    "    dict = {}\n",
    "    for c in s:\n",
    "        if c in dict.keys():\n",
    "            dict[c] = dict[c]+1\n",
    "        else:\n",
    "            dict[c] = 1\n",
    "    m = max(list(dict.values()))\n",
    "    for c in dict.keys():\n",
    "        if dict[c] == m:\n",
    "            return c, m\n",
    "\n",
    "most_common_char(\"bonjour\")"
   ]
  },
  {
   "cell_type": "markdown",
   "id": "5f37ac8b",
   "metadata": {},
   "source": [
    "__Exercise 4.__\n",
    "Write a function called is_valid_date that takes a date in string format DD/MM/YYYY and checks to see if it is a valid date and in the correct format."
   ]
  },
  {
   "cell_type": "code",
   "execution_count": 54,
   "id": "855e4a08",
   "metadata": {},
   "outputs": [
    {
     "name": "stdout",
     "output_type": "stream",
     "text": [
      "True\n",
      "False\n",
      "False\n",
      "3\n",
      "False\n"
     ]
    }
   ],
   "source": [
    "def is_valid_date (date):\n",
    "    if len(date) != 10:\n",
    "        return False\n",
    "    if date[2] != '/' or date[5] != '/':\n",
    "        return False\n",
    "    if not(date[0:2].isnumeric()) or not(date[3:5].isnumeric()) or not(date[6:11].isnumeric()):\n",
    "        print(3)\n",
    "        return False\n",
    "    d = int(date[0:2])\n",
    "    m = int(date[3:5])\n",
    "    y = int(date[6:11])\n",
    "    if d < 1 or d > 31 or m < 1 or m > 12:\n",
    "        return False\n",
    "    return True\n",
    "\n",
    "print(is_valid_date(\"12/12/2059\"))\n",
    "print(is_valid_date(\"1/06/7896\"))\n",
    "print(is_valid_date(\"45/05/1997\"))\n",
    "print(is_valid_date(\"10/05/19a7\"))"
   ]
  },
  {
   "cell_type": "markdown",
   "id": "05a21984",
   "metadata": {},
   "source": [
    "__Exercise (bonus).__\n",
    "Create a function called encrypt that takes some text(String) and a Shift(Integer)and then encrypts the text using the Caesar Cipher algorithm, returning the encrypted text.\n",
    "\n",
    "Create a second function to decrypt an encrypted string, using the same input parameters and returning the decrypted text.\n",
    "\n",
    "See https://en.wikipedia.org/wiki/Caesar_cipher for more precisions"
   ]
  },
  {
   "cell_type": "code",
   "execution_count": null,
   "id": "48840911",
   "metadata": {},
   "outputs": [],
   "source": []
  },
  {
   "cell_type": "markdown",
   "id": "f6287518",
   "metadata": {},
   "source": [
    "## Part 2: Numpy"
   ]
  },
  {
   "cell_type": "code",
   "execution_count": 4,
   "id": "998f6714",
   "metadata": {},
   "outputs": [],
   "source": [
    "import numpy as np"
   ]
  },
  {
   "cell_type": "markdown",
   "id": "bd3dd62e",
   "metadata": {},
   "source": [
    "__Exercise 1.__\n",
    "Create a 4X2 array of arbitrary unsigned int16 and prints its following attributes:\n",
    "- The shape of an array.\n",
    "- Array dimensions.\n",
    "- The Length of each element of the array in bytes."
   ]
  },
  {
   "cell_type": "code",
   "execution_count": 8,
   "id": "24d2d2d2",
   "metadata": {},
   "outputs": [
    {
     "name": "stdout",
     "output_type": "stream",
     "text": [
      "Printing Array:\n",
      "[[ 7391 38943]\n",
      " [58673 54643]\n",
      " [20777 39895]\n",
      " [19488   878]]\n",
      "Printing numpy array Attributes\n",
      "Array Shape is:  (4, 2)\n",
      "Array dimensions are  2\n",
      "Length of each element of array in bytes is  2\n"
     ]
    }
   ],
   "source": [
    "array = np.empty([4,2], dtype = np.uint16) \n",
    "print(\"Printing Array:\")\n",
    "print(array)\n",
    "\n",
    "print(\"Printing numpy array Attributes\")\n",
    "print(\"Array Shape is: \", array.shape)\n",
    "print(\"Array dimensions are \", array.ndim)\n",
    "print(\"Length of each element of array in bytes is \", array.itemsize)"
   ]
  },
  {
   "cell_type": "markdown",
   "id": "b1d34f96",
   "metadata": {},
   "source": [
    "__Exercise 2.__ \n",
    "Create a 5X2 integer array from a range between 200 to 400 such that the difference between each element is 20\n",
    "(tip: think about the reshape() function)."
   ]
  },
  {
   "cell_type": "code",
   "execution_count": 32,
   "id": "e8762c57",
   "metadata": {},
   "outputs": [
    {
     "name": "stdout",
     "output_type": "stream",
     "text": [
      "[[200 220]\n",
      " [240 260]\n",
      " [280 300]\n",
      " [320 340]\n",
      " [360 380]]\n"
     ]
    }
   ],
   "source": [
    "sampleArray = np.arange(200, 400, 20)\n",
    "sampleArray = sampleArray.reshape(5,2)\n",
    "print (sampleArray)"
   ]
  },
  {
   "cell_type": "markdown",
   "id": "146359d3",
   "metadata": {},
   "source": [
    "__Exercise 3.__\n",
    "Following is the provided numPy array. Return array of items by taking the second column from all rows. Print it."
   ]
  },
  {
   "cell_type": "code",
   "execution_count": 33,
   "id": "3ed622cb",
   "metadata": {},
   "outputs": [
    {
     "name": "stdout",
     "output_type": "stream",
     "text": [
      "Input Array:\n",
      "[[11 22 33]\n",
      " [44 55 66]\n",
      " [77 88 99]]\n",
      "\n",
      "Printing array of items in the third column from all rows:\n",
      "[22 55 88]\n"
     ]
    }
   ],
   "source": [
    "sampleArray = np.array([[11 ,22, 33], [44, 55, 66], [77, 88, 99]]) \n",
    "print(\"Input Array:\")\n",
    "print(sampleArray)\n",
    "\n",
    "print(\"\\nPrinting array of items in the third column from all rows:\")\n",
    "newArray = sampleArray[:,1]\n",
    "print(newArray)\n"
   ]
  },
  {
   "cell_type": "markdown",
   "id": "947dd882",
   "metadata": {},
   "source": [
    "__Exercise 4.__\n",
    "Following is the provided numPy array. Return array of odd rows and even columns. Print it."
   ]
  },
  {
   "cell_type": "code",
   "execution_count": 31,
   "id": "a7681e5a",
   "metadata": {},
   "outputs": [
    {
     "name": "stdout",
     "output_type": "stream",
     "text": [
      "Input Array:\n",
      "[[  3   9   9  12]\n",
      " [ 16  18 231  24]\n",
      " [ 27  30  33  36]\n",
      " [ 39  42  45  58]\n",
      " [ 51  54  57  61]]\n",
      "\n",
      "Printing array of odd rows and even columns:\n",
      "[[ 9 12]\n",
      " [30 36]\n",
      " [54 61]]\n"
     ]
    }
   ],
   "source": [
    "sampleArray = np.array([[3 ,9, 9, 12], [16 ,18, 231, 24], \n",
    "[27 ,30, 33, 36], [39 ,42, 45, 58], [51 ,54, 57, 61]]) \n",
    "print(\"Input Array:\")\n",
    "print(sampleArray)\n",
    "\n",
    "print(\"\\nPrinting array of odd rows and even columns:\")\n",
    "newArray = sampleArray[::2, 1::2]\n",
    "print(newArray)"
   ]
  },
  {
   "cell_type": "markdown",
   "id": "25bc9f80",
   "metadata": {},
   "source": [
    "__Exercise 5.__\n",
    "Create a result array by adding the following two NumPy arrays. Next, modify the result array by calculating the square of each element. Print the resulting array at each step."
   ]
  },
  {
   "cell_type": "code",
   "execution_count": 30,
   "id": "fb680c76",
   "metadata": {},
   "outputs": [
    {
     "name": "stdout",
     "output_type": "stream",
     "text": [
      "Input Array:\n",
      "[[ 2  6  5]\n",
      " [ 2  4 27]]\n",
      "[[13  0  3]\n",
      " [16  7  1]]\n",
      "\n",
      "Addition of two arrays is:\n",
      "[[15  6  8]\n",
      " [18 11 28]]\n",
      "\n",
      "Result array after calculating square of all elements:\n",
      "[[225  36  64]\n",
      " [324 121 784]]\n"
     ]
    }
   ],
   "source": [
    "array1 = np.array([[2, 6, 5], [2 ,4, 27]])\n",
    "array2 = np.array([[13 ,0, 3], [16 ,7, 1]])\n",
    "\n",
    "print(\"Input Arrays:\")\n",
    "print(array1)\n",
    "print(array2)\n",
    "\n",
    "resultArray  = array1 + array2\n",
    "print(\"\\nAddition of two arrays is:\")\n",
    "print(resultArray)\n",
    "\n",
    "print(\"\\nResult array after calculating square of all elements:\")\n",
    "resultArray = resultArray ** 2\n",
    "print(resultArray)\n"
   ]
  },
  {
   "cell_type": "markdown",
   "id": "f3b5e37f",
   "metadata": {},
   "source": [
    "__Exercise 6.__\n",
    "Create an 8X5 integer array from a range starting at -20 and such that the difference between each element is 2 and then split the array into four equal-sized sub-arrays."
   ]
  },
  {
   "cell_type": "code",
   "execution_count": 27,
   "id": "8be07029",
   "metadata": {},
   "outputs": [
    {
     "name": "stdout",
     "output_type": "stream",
     "text": [
      "[[-20 -18 -16 -14 -12]\n",
      " [-10  -8  -6  -4  -2]\n",
      " [  0   2   4   6   8]\n",
      " [ 10  12  14  16  18]\n",
      " [ 20  22  24  26  28]\n",
      " [ 30  32  34  36  38]\n",
      " [ 40  42  44  46  48]\n",
      " [ 50  52  54  56  58]]\n",
      "[array([[-20, -18, -16, -14, -12],\n",
      "       [-10,  -8,  -6,  -4,  -2]]), array([[ 0,  2,  4,  6,  8],\n",
      "       [10, 12, 14, 16, 18]]), array([[20, 22, 24, 26, 28],\n",
      "       [30, 32, 34, 36, 38]]), array([[40, 42, 44, 46, 48],\n",
      "       [50, 52, 54, 56, 58]])]\n"
     ]
    }
   ],
   "source": [
    "sampleArray = np.arange(-20, 60, 2)\n",
    "sampleArray = sampleArray.reshape(8,5)\n",
    "print (sampleArray)\n",
    "\n",
    "subArrays = numpy.split(sampleArray, 4) \n",
    "print(subArrays)"
   ]
  },
  {
   "cell_type": "markdown",
   "id": "fb353ca6",
   "metadata": {},
   "source": [
    "__Exercise 7.__\n",
    "Following is the provided numPy array. Sort it by its third row and then by its second column."
   ]
  },
  {
   "cell_type": "code",
   "execution_count": 34,
   "id": "8fbb4254",
   "metadata": {},
   "outputs": [
    {
     "name": "stdout",
     "output_type": "stream",
     "text": [
      "Input array:\n",
      "[[ 54   3 723]\n",
      " [ 85  21   1]\n",
      " [ 56  54  66]]\n",
      "\n",
      "Sorting Original array by third row:\n",
      "[[  3  54 723]\n",
      " [ 21  85   1]\n",
      " [ 54  56  66]]\n",
      "\n",
      "Sorting Original array by second column:\n",
      "[[ 54   3 723]\n",
      " [ 85  21   1]\n",
      " [ 56  54  66]]\n"
     ]
    }
   ],
   "source": [
    "print(\"Input array:\")\n",
    "sampleArray = np.array([[54,3,723],[85,21,1],[56,54,66]]) \n",
    "print (sampleArray)\n",
    "\n",
    "sortArrayByRow = sampleArray[:,sampleArray[2,:].argsort()]\n",
    "print(\"\\nSorting Original array by third row:\")\n",
    "print(sortArrayByRow)\n",
    "\n",
    "print(\"\\nSorting Original array by second column:\")\n",
    "\n",
    "sortArrayByColumn = sampleArray[sampleArray[:,1].argsort()]\n",
    "print(sortArrayByColumn)\n",
    "\n"
   ]
  },
  {
   "cell_type": "markdown",
   "id": "e03ce260",
   "metadata": {},
   "source": [
    "__Exercise 9.__\n",
    "Following is the provided numPy array. \n",
    "Delete the second column from it and insert the following new column in its place."
   ]
  },
  {
   "cell_type": "code",
   "execution_count": 35,
   "id": "f0ca7ccc",
   "metadata": {},
   "outputs": [
    {
     "name": "stdout",
     "output_type": "stream",
     "text": [
      "Array after deleting column 2 on axis 1:\n",
      "[[34 93]\n",
      " [ 2 12]\n",
      " [ 4 86]]\n",
      "\n",
      "Array after inserting column 2 on axis 1:\n",
      "[[34 10 93]\n",
      " [ 2 10 12]\n",
      " [ 4 10 86]]\n"
     ]
    }
   ],
   "source": [
    "sampleArray = np.array([[34,3,93],[2,52,12],[4,5,86]]) \n",
    "newColumn = np.array([[9,8,7]])\n",
    "\n",
    "print(\"Array after deleting column 2 on axis 1:\")\n",
    "sampleArray = numpy.delete(sampleArray , 1, axis = 1) \n",
    "print (sampleArray)\n",
    "\n",
    "arr = numpy.array([[10,10,10]])\n",
    "\n",
    "print(\"\\nArray after inserting column 2 on axis 1:\")\n",
    "sampleArray = numpy.insert(sampleArray , 1, arr, axis = 1) \n",
    "print (sampleArray)"
   ]
  }
 ],
 "metadata": {
  "kernelspec": {
   "display_name": "Python 3 (ipykernel)",
   "language": "python",
   "name": "python3"
  },
  "language_info": {
   "codemirror_mode": {
    "name": "ipython",
    "version": 3
   },
   "file_extension": ".py",
   "mimetype": "text/x-python",
   "name": "python",
   "nbconvert_exporter": "python",
   "pygments_lexer": "ipython3",
   "version": "3.9.13"
  }
 },
 "nbformat": 4,
 "nbformat_minor": 5
}
