{
 "cells": [
  {
   "cell_type": "markdown",
   "id": "cdec5c34",
   "metadata": {},
   "source": [
    "<div>\n",
    "    <img src=\"images/emlyon.png\" style=\"height:60px; float:left; padding-right:10px; margin-top:5px\" />\n",
    "    <span>\n",
    "        <h1 style=\"padding-bottom:5px;\"> AI Booster Week 01 - Python for Data Science </h1>\n",
    "        <a href=\"https://masters.em-lyon.com/fr/msc-in-data-science-artificial-intelligence-strategy\">[Emlyon]</a> MSc in Data Science & Artificial Intelligence Strategy (DSAIS) <br/>\n",
    "         Paris | © Saeed VARASTEH\n",
    "    </span>\n",
    "</div>"
   ]
  },
  {
   "cell_type": "markdown",
   "id": "9bc04270",
   "metadata": {},
   "source": [
    "# Practice - 01: Basics of Python and Numpy\n",
    "The bonus questions are to be skipped. If you have time left at the end of the session or at home you can try them."
   ]
  },
  {
   "cell_type": "markdown",
   "id": "e1b28cbc",
   "metadata": {},
   "source": [
    "---\n",
    "### Objectives: \n",
    "\n",
    "\n",
    "*Gain familiarity with Python concepts and discover Numpy library by practice*\n",
    "\n",
    "---"
   ]
  },
  {
   "cell_type": "markdown",
   "id": "02663a69",
   "metadata": {},
   "source": [
    "## Part 1: Let's write some functions!"
   ]
  },
  {
   "cell_type": "markdown",
   "id": "13f96f42",
   "metadata": {},
   "source": [
    "__Exercise 1.__\n",
    "Write a function called mul_table that takes as input a number and prints the multiplication table of that number."
   ]
  },
  {
   "cell_type": "code",
   "execution_count": 16,
   "id": "db2f839a",
   "metadata": {},
   "outputs": [
    {
     "name": "stdout",
     "output_type": "stream",
     "text": [
      "Multiplication Table for: 5\n",
      "5 x 1 = 5\n",
      "5 x 2 = 10\n",
      "5 x 3 = 15\n",
      "5 x 4 = 20\n",
      "5 x 5 = 25\n",
      "5 x 6 = 30\n",
      "5 x 7 = 35\n",
      "5 x 8 = 40\n",
      "5 x 9 = 45\n",
      "5 x 10 = 50\n"
     ]
    }
   ],
   "source": [
    "def mul_table():\n",
    "    number = int(input(\"Multiplication Table for: \"))\n",
    "    for i in range(1,11):\n",
    "        result = number * i\n",
    "        print(f\"{number} x {i} = {result}\")\n",
    "\n",
    "mul_table()"
   ]
  },
  {
   "cell_type": "markdown",
   "id": "96da84db",
   "metadata": {},
   "source": [
    "__Exercise 2.__\n",
    "Write a function called prime_list that returns the list of prime factors of a number.\n",
    "\n",
    "For example, the prime factors of 110 are 2, 5 and 11 and the prime factors of 56 are 2, 2, 2, 7."
   ]
  },
  {
   "cell_type": "code",
   "execution_count": 45,
   "id": "b30a6010",
   "metadata": {},
   "outputs": [
    {
     "name": "stdout",
     "output_type": "stream",
     "text": [
      "pls input a int:110\n",
      "[2, 5, 11]\n"
     ]
    }
   ],
   "source": [
    "l1 = []\n",
    " \n",
    "def prime_list(n):\n",
    "    for i in range(2, n + 1):\n",
    "        if n % i == 0:\n",
    "            n = int(n / i)\n",
    "            l1.append(i)\n",
    "            prime_list(n)\n",
    "            break\n",
    "\n",
    "a = int(input(\"pls input a int:\"))\n",
    "prime_list(a)\n",
    "print(l1)"
   ]
  },
  {
   "cell_type": "markdown",
   "id": "52a8158c",
   "metadata": {},
   "source": [
    "__Exercise 3.__\n",
    "Create a function called most_common_char that takes a string as a argument and the returns the most common character in that string. If there is an equality it should return the first on to appear in the string.\n",
    "\n",
    "Tip: use a dictionnary."
   ]
  },
  {
   "cell_type": "code",
   "execution_count": 58,
   "id": "39248c87",
   "metadata": {},
   "outputs": [
    {
     "name": "stdout",
     "output_type": "stream",
     "text": [
      "The most common character is: l\n"
     ]
    }
   ],
   "source": [
    "def most_common_char(input_string):\n",
    "    \n",
    "    char_count = {}\n",
    "    \n",
    "    for char in input_string:\n",
    "        char_count[char] = char_count.get(char, 0) + 1\n",
    "\n",
    "    most_common = max(char_count, key=char_count.get)\n",
    "\n",
    "    return most_common\n",
    "\n",
    "input_str = \"hello\"\n",
    "result = most_common_char(input_str)\n",
    "print(f\"The most common character is: {result}\")"
   ]
  },
  {
   "cell_type": "markdown",
   "id": "5f37ac8b",
   "metadata": {},
   "source": [
    "__Exercise 4.__\n",
    "Write a function called is_valid_date that takes a date in string format DD/MM/YYYY and checks to see if it is a valid date and in the correct format."
   ]
  },
  {
   "cell_type": "code",
   "execution_count": 59,
   "id": "32197053",
   "metadata": {},
   "outputs": [],
   "source": [
    "import time"
   ]
  },
  {
   "cell_type": "code",
   "execution_count": 80,
   "id": "855e4a08",
   "metadata": {},
   "outputs": [
    {
     "ename": "SyntaxError",
     "evalue": "invalid syntax (2542796571.py, line 3)",
     "output_type": "error",
     "traceback": [
      "\u001b[1;36m  File \u001b[1;32m\"C:\\Users\\chino\\AppData\\Local\\Temp\\ipykernel_13964\\2542796571.py\"\u001b[1;36m, line \u001b[1;32m3\u001b[0m\n\u001b[1;33m    return date = time.strptime(date_string, '%d/%m/%Y')\u001b[0m\n\u001b[1;37m                ^\u001b[0m\n\u001b[1;31mSyntaxError\u001b[0m\u001b[1;31m:\u001b[0m invalid syntax\n"
     ]
    }
   ],
   "source": [
    "def is_valid_date(date_string):\n",
    "    try:\n",
    "        date = time.strptime(date_string, '%d/%m/%Y')\n",
    "    except Exception:\n",
    "        raise Exception(\"invalid date near : {}\".format(date_string))\n",
    "    else: print('True')"
   ]
  },
  {
   "cell_type": "code",
   "execution_count": 79,
   "id": "ab7fc9e6",
   "metadata": {
    "scrolled": true
   },
   "outputs": [
    {
     "ename": "Exception",
     "evalue": "invalid date near : 09/13/2023",
     "output_type": "error",
     "traceback": [
      "\u001b[1;31m---------------------------------------------------------------------------\u001b[0m",
      "\u001b[1;31mValueError\u001b[0m                                Traceback (most recent call last)",
      "\u001b[1;32m~\\AppData\\Local\\Temp\\ipykernel_13964\\3663211987.py\u001b[0m in \u001b[0;36mis_valid_date\u001b[1;34m(date_string)\u001b[0m\n\u001b[0;32m      2\u001b[0m     \u001b[1;32mtry\u001b[0m\u001b[1;33m:\u001b[0m\u001b[1;33m\u001b[0m\u001b[1;33m\u001b[0m\u001b[0m\n\u001b[1;32m----> 3\u001b[1;33m         \u001b[0mtime\u001b[0m\u001b[1;33m.\u001b[0m\u001b[0mstrptime\u001b[0m\u001b[1;33m(\u001b[0m\u001b[0mdate_string\u001b[0m\u001b[1;33m,\u001b[0m \u001b[1;34m'%d/%m/%Y'\u001b[0m\u001b[1;33m)\u001b[0m\u001b[1;33m\u001b[0m\u001b[1;33m\u001b[0m\u001b[0m\n\u001b[0m\u001b[0;32m      4\u001b[0m     \u001b[1;32mexcept\u001b[0m \u001b[0mException\u001b[0m\u001b[1;33m:\u001b[0m\u001b[1;33m\u001b[0m\u001b[1;33m\u001b[0m\u001b[0m\n",
      "\u001b[1;32mC:\\Anaconda3\\lib\\_strptime.py\u001b[0m in \u001b[0;36m_strptime_time\u001b[1;34m(data_string, format)\u001b[0m\n\u001b[0;32m    561\u001b[0m     format string.\"\"\"\n\u001b[1;32m--> 562\u001b[1;33m     \u001b[0mtt\u001b[0m \u001b[1;33m=\u001b[0m \u001b[0m_strptime\u001b[0m\u001b[1;33m(\u001b[0m\u001b[0mdata_string\u001b[0m\u001b[1;33m,\u001b[0m \u001b[0mformat\u001b[0m\u001b[1;33m)\u001b[0m\u001b[1;33m[\u001b[0m\u001b[1;36m0\u001b[0m\u001b[1;33m]\u001b[0m\u001b[1;33m\u001b[0m\u001b[1;33m\u001b[0m\u001b[0m\n\u001b[0m\u001b[0;32m    563\u001b[0m     \u001b[1;32mreturn\u001b[0m \u001b[0mtime\u001b[0m\u001b[1;33m.\u001b[0m\u001b[0mstruct_time\u001b[0m\u001b[1;33m(\u001b[0m\u001b[0mtt\u001b[0m\u001b[1;33m[\u001b[0m\u001b[1;33m:\u001b[0m\u001b[0mtime\u001b[0m\u001b[1;33m.\u001b[0m\u001b[0m_STRUCT_TM_ITEMS\u001b[0m\u001b[1;33m]\u001b[0m\u001b[1;33m)\u001b[0m\u001b[1;33m\u001b[0m\u001b[1;33m\u001b[0m\u001b[0m\n",
      "\u001b[1;32mC:\\Anaconda3\\lib\\_strptime.py\u001b[0m in \u001b[0;36m_strptime\u001b[1;34m(data_string, format)\u001b[0m\n\u001b[0;32m    348\u001b[0m     \u001b[1;32mif\u001b[0m \u001b[1;32mnot\u001b[0m \u001b[0mfound\u001b[0m\u001b[1;33m:\u001b[0m\u001b[1;33m\u001b[0m\u001b[1;33m\u001b[0m\u001b[0m\n\u001b[1;32m--> 349\u001b[1;33m         raise ValueError(\"time data %r does not match format %r\" %\n\u001b[0m\u001b[0;32m    350\u001b[0m                          (data_string, format))\n",
      "\u001b[1;31mValueError\u001b[0m: time data '09/13/2023' does not match format '%d/%m/%Y'",
      "\nDuring handling of the above exception, another exception occurred:\n",
      "\u001b[1;31mException\u001b[0m                                 Traceback (most recent call last)",
      "\u001b[1;32m~\\AppData\\Local\\Temp\\ipykernel_13964\\1134475749.py\u001b[0m in \u001b[0;36m<module>\u001b[1;34m\u001b[0m\n\u001b[1;32m----> 1\u001b[1;33m \u001b[0mis_valid_date\u001b[0m\u001b[1;33m(\u001b[0m\u001b[1;34m'09/13/2023'\u001b[0m\u001b[1;33m)\u001b[0m\u001b[1;33m\u001b[0m\u001b[1;33m\u001b[0m\u001b[0m\n\u001b[0m",
      "\u001b[1;32m~\\AppData\\Local\\Temp\\ipykernel_13964\\3663211987.py\u001b[0m in \u001b[0;36mis_valid_date\u001b[1;34m(date_string)\u001b[0m\n\u001b[0;32m      3\u001b[0m         \u001b[0mtime\u001b[0m\u001b[1;33m.\u001b[0m\u001b[0mstrptime\u001b[0m\u001b[1;33m(\u001b[0m\u001b[0mdate_string\u001b[0m\u001b[1;33m,\u001b[0m \u001b[1;34m'%d/%m/%Y'\u001b[0m\u001b[1;33m)\u001b[0m\u001b[1;33m\u001b[0m\u001b[1;33m\u001b[0m\u001b[0m\n\u001b[0;32m      4\u001b[0m     \u001b[1;32mexcept\u001b[0m \u001b[0mException\u001b[0m\u001b[1;33m:\u001b[0m\u001b[1;33m\u001b[0m\u001b[1;33m\u001b[0m\u001b[0m\n\u001b[1;32m----> 5\u001b[1;33m         \u001b[1;32mraise\u001b[0m \u001b[0mException\u001b[0m\u001b[1;33m(\u001b[0m\u001b[1;34m\"invalid date near : {}\"\u001b[0m\u001b[1;33m.\u001b[0m\u001b[0mformat\u001b[0m\u001b[1;33m(\u001b[0m\u001b[0mdate_string\u001b[0m\u001b[1;33m)\u001b[0m\u001b[1;33m)\u001b[0m\u001b[1;33m\u001b[0m\u001b[1;33m\u001b[0m\u001b[0m\n\u001b[0m\u001b[0;32m      6\u001b[0m     \u001b[1;32melse\u001b[0m\u001b[1;33m:\u001b[0m \u001b[0mprint\u001b[0m\u001b[1;33m(\u001b[0m\u001b[1;34m'True'\u001b[0m\u001b[1;33m)\u001b[0m\u001b[1;33m\u001b[0m\u001b[1;33m\u001b[0m\u001b[0m\n",
      "\u001b[1;31mException\u001b[0m: invalid date near : 09/13/2023"
     ]
    }
   ],
   "source": [
    "is_valid_date('09/12/2023')"
   ]
  },
  {
   "cell_type": "markdown",
   "id": "05a21984",
   "metadata": {},
   "source": [
    "__Exercise (bonus).__\n",
    "Create a function called encrypt that takes some text(String) and a Shift(Integer)and then encrypts the text using the Caesar Cipher algorithm, returning the encrypted text.\n",
    "\n",
    "Create a second function to decrypt an encrypted string, using the same input parameters and returning the decrypted text.\n",
    "\n",
    "See https://en.wikipedia.org/wiki/Caesar_cipher for more precisions"
   ]
  },
  {
   "cell_type": "code",
   "execution_count": null,
   "id": "48840911",
   "metadata": {},
   "outputs": [],
   "source": [
    "def encrypt(strings):\n",
    "    "
   ]
  },
  {
   "cell_type": "code",
   "execution_count": null,
   "id": "c1258908",
   "metadata": {},
   "outputs": [],
   "source": [
    "def decrypt(strings):\n",
    "    "
   ]
  },
  {
   "cell_type": "markdown",
   "id": "f6287518",
   "metadata": {},
   "source": [
    "## Part 2: Numpy"
   ]
  },
  {
   "cell_type": "code",
   "execution_count": 105,
   "id": "7aa860d2",
   "metadata": {},
   "outputs": [],
   "source": [
    "import numpy as np\n",
    "from random import randint"
   ]
  },
  {
   "cell_type": "markdown",
   "id": "4cc00550",
   "metadata": {},
   "source": [
    "__Exercise 1.__\n",
    "Create a 4X2 array of arbitrary unsigned int16 and prints its following attributes:\n",
    "- The shape of an array.\n",
    "- Array dimensions.\n",
    "- The Length of each element of the array in bytes."
   ]
  },
  {
   "cell_type": "code",
   "execution_count": 114,
   "id": "68063f08",
   "metadata": {},
   "outputs": [],
   "source": [
    "array1 = np.random.randint(10,size=(4,2),dtype = 'int16')"
   ]
  },
  {
   "cell_type": "code",
   "execution_count": 115,
   "id": "591e6ccd",
   "metadata": {},
   "outputs": [
    {
     "data": {
      "text/plain": [
       "array([[6, 6],\n",
       "       [4, 5],\n",
       "       [6, 0],\n",
       "       [2, 4]], dtype=int16)"
      ]
     },
     "execution_count": 115,
     "metadata": {},
     "output_type": "execute_result"
    }
   ],
   "source": [
    "array1"
   ]
  },
  {
   "cell_type": "code",
   "execution_count": 117,
   "id": "01e192ea",
   "metadata": {},
   "outputs": [
    {
     "name": "stdout",
     "output_type": "stream",
     "text": [
      "[[6 6]\n",
      " [4 5]\n",
      " [6 0]\n",
      " [2 4]]\n",
      "(4, 2)\n",
      "2\n",
      "2\n"
     ]
    }
   ],
   "source": [
    "print(array1)\n",
    "print(array1.shape)\n",
    "print(array1.ndim)\n",
    "print(array1.itemsize)\n"
   ]
  },
  {
   "cell_type": "markdown",
   "id": "34f04113",
   "metadata": {},
   "source": [
    "__Exercise 2.__ \n",
    "Create a 5X2 integer array from a range between 200 to 400 such that the difference between each element is 20\n",
    "(tip: think about the reshape() function)."
   ]
  },
  {
   "cell_type": "code",
   "execution_count": 124,
   "id": "fe7a857f",
   "metadata": {},
   "outputs": [
    {
     "data": {
      "text/plain": [
       "array([[200, 220],\n",
       "       [240, 260],\n",
       "       [280, 300],\n",
       "       [320, 340],\n",
       "       [360, 380]])"
      ]
     },
     "execution_count": 124,
     "metadata": {},
     "output_type": "execute_result"
    }
   ],
   "source": [
    "a = np.arange(200,400,20)\n",
    "a.reshape(5,2)"
   ]
  },
  {
   "cell_type": "markdown",
   "id": "d35797c5",
   "metadata": {},
   "source": [
    "__Exercise 3.__\n",
    "Following is the provided numPy array. Return array of items by taking the second column from all rows. Print it."
   ]
  },
  {
   "cell_type": "code",
   "execution_count": 128,
   "id": "cd9e515f",
   "metadata": {
    "scrolled": true
   },
   "outputs": [
    {
     "name": "stdout",
     "output_type": "stream",
     "text": [
      "Input Array:\n",
      "[[11 22 33]\n",
      " [44 55 66]\n",
      " [77 88 99]]\n"
     ]
    }
   ],
   "source": [
    "sampleArray = np.array([[11 ,22, 33], [44, 55, 66], [77, 88, 99]]) \n",
    "print(\"Input Array:\")\n",
    "print(sampleArray)\n"
   ]
  },
  {
   "cell_type": "code",
   "execution_count": 133,
   "id": "18e5aec3",
   "metadata": {},
   "outputs": [
    {
     "data": {
      "text/plain": [
       "[22, 55, 88]"
      ]
     },
     "execution_count": 133,
     "metadata": {},
     "output_type": "execute_result"
    }
   ],
   "source": [
    "col2 = [row[1] for row in sampleArray]\n",
    "col2"
   ]
  },
  {
   "cell_type": "code",
   "execution_count": 135,
   "id": "a03f9684",
   "metadata": {},
   "outputs": [
    {
     "data": {
      "text/plain": [
       "list"
      ]
     },
     "execution_count": 135,
     "metadata": {},
     "output_type": "execute_result"
    }
   ],
   "source": [
    "type(col2)"
   ]
  },
  {
   "cell_type": "code",
   "execution_count": 134,
   "id": "45a4a2a7",
   "metadata": {
    "scrolled": true
   },
   "outputs": [
    {
     "data": {
      "text/plain": [
       "array([22, 55, 88])"
      ]
     },
     "execution_count": 134,
     "metadata": {},
     "output_type": "execute_result"
    }
   ],
   "source": [
    "sampleArray[:,1]"
   ]
  },
  {
   "cell_type": "markdown",
   "id": "de9cf93d",
   "metadata": {},
   "source": [
    "__Exercise 4.__\n",
    "Following is the provided numPy array. Return array of odd rows and even columns. Print it."
   ]
  },
  {
   "cell_type": "code",
   "execution_count": 137,
   "id": "6b13e0e2",
   "metadata": {
    "scrolled": true
   },
   "outputs": [
    {
     "name": "stdout",
     "output_type": "stream",
     "text": [
      "Input Array:\n",
      "[[  3   9   9  12]\n",
      " [ 16  18 231  24]\n",
      " [ 27  30  33  36]\n",
      " [ 39  42  45  58]\n",
      " [ 51  54  57  61]]\n"
     ]
    }
   ],
   "source": [
    "sampleArray = np.array([[3 ,9, 9, 12], [16 ,18, 231, 24], \n",
    "[27 ,30, 33, 36], [39 ,42, 45, 58], [51 ,54, 57, 61]]) \n",
    "print(\"Input Array:\")\n",
    "print(sampleArray)\n"
   ]
  },
  {
   "cell_type": "code",
   "execution_count": 147,
   "id": "c5734265",
   "metadata": {},
   "outputs": [
    {
     "data": {
      "text/plain": [
       "array([[18, 24],\n",
       "       [42, 58]])"
      ]
     },
     "execution_count": 147,
     "metadata": {},
     "output_type": "execute_result"
    }
   ],
   "source": [
    "sampleArray[1::2,1::2]"
   ]
  },
  {
   "cell_type": "markdown",
   "id": "0bac820a",
   "metadata": {},
   "source": [
    "__Exercise 5.__\n",
    "Create a result array by adding the following two NumPy arrays. Next, modify the result array by calculating the square of each element. Print the resulting array at each step."
   ]
  },
  {
   "cell_type": "code",
   "execution_count": 149,
   "id": "80a0fca8",
   "metadata": {},
   "outputs": [
    {
     "name": "stdout",
     "output_type": "stream",
     "text": [
      "Input Arrays:\n",
      "[[ 2  6  5]\n",
      " [ 2  4 27]]\n",
      "[[13  0  3]\n",
      " [16  7  1]]\n"
     ]
    }
   ],
   "source": [
    "array1 = np.array([[2, 6, 5], [2 ,4, 27]])\n",
    "array2 = np.array([[13 ,0, 3], [16 ,7, 1]])\n",
    "\n",
    "print(\"Input Arrays:\")\n",
    "print(array1)\n",
    "print(array2)\n"
   ]
  },
  {
   "cell_type": "code",
   "execution_count": 154,
   "id": "7354a430",
   "metadata": {},
   "outputs": [
    {
     "data": {
      "text/plain": [
       "array([[15,  6,  8],\n",
       "       [18, 11, 28]])"
      ]
     },
     "execution_count": 154,
     "metadata": {},
     "output_type": "execute_result"
    }
   ],
   "source": [
    "array3 = array1 + array2\n",
    "array3"
   ]
  },
  {
   "cell_type": "code",
   "execution_count": 155,
   "id": "d2141721",
   "metadata": {},
   "outputs": [
    {
     "data": {
      "text/plain": [
       "array([[225,  36,  64],\n",
       "       [324, 121, 784]])"
      ]
     },
     "execution_count": 155,
     "metadata": {},
     "output_type": "execute_result"
    }
   ],
   "source": [
    "array4 = array3 ** 2\n",
    "array4"
   ]
  },
  {
   "cell_type": "markdown",
   "id": "446c8bce",
   "metadata": {},
   "source": [
    "__Exercise 6.__\n",
    "Create an 8X5 integer array from a range starting at -20 and such that the difference between each element is 2 and then split the array into four equal-sized sub-arrays."
   ]
  },
  {
   "cell_type": "code",
   "execution_count": 167,
   "id": "4c0412bf",
   "metadata": {},
   "outputs": [],
   "source": [
    "a = np.arange(-20,60,2)"
   ]
  },
  {
   "cell_type": "code",
   "execution_count": 169,
   "id": "676a98c4",
   "metadata": {},
   "outputs": [],
   "source": [
    "a = a.reshape(8,5)"
   ]
  },
  {
   "cell_type": "code",
   "execution_count": 170,
   "id": "6dbbb784",
   "metadata": {},
   "outputs": [
    {
     "data": {
      "text/plain": [
       "2"
      ]
     },
     "execution_count": 170,
     "metadata": {},
     "output_type": "execute_result"
    }
   ],
   "source": [
    "a.ndim"
   ]
  },
  {
   "cell_type": "code",
   "execution_count": 173,
   "id": "fe562b3c",
   "metadata": {},
   "outputs": [],
   "source": [
    "array1 = a[:2,:]"
   ]
  },
  {
   "cell_type": "code",
   "execution_count": 174,
   "id": "43609682",
   "metadata": {},
   "outputs": [
    {
     "data": {
      "text/plain": [
       "array([[-20, -18, -16, -14, -12],\n",
       "       [-10,  -8,  -6,  -4,  -2]])"
      ]
     },
     "execution_count": 174,
     "metadata": {},
     "output_type": "execute_result"
    }
   ],
   "source": [
    "array1"
   ]
  },
  {
   "cell_type": "code",
   "execution_count": 176,
   "id": "56ef9311",
   "metadata": {},
   "outputs": [
    {
     "data": {
      "text/plain": [
       "[array([[-20, -18, -16, -14, -12],\n",
       "        [-10,  -8,  -6,  -4,  -2]]),\n",
       " array([[ 0,  2,  4,  6,  8],\n",
       "        [10, 12, 14, 16, 18]]),\n",
       " array([[20, 22, 24, 26, 28],\n",
       "        [30, 32, 34, 36, 38]]),\n",
       " array([[40, 42, 44, 46, 48],\n",
       "        [50, 52, 54, 56, 58]])]"
      ]
     },
     "execution_count": 176,
     "metadata": {},
     "output_type": "execute_result"
    }
   ],
   "source": [
    "np.split(a,4)"
   ]
  },
  {
   "cell_type": "markdown",
   "id": "659cdd7c",
   "metadata": {},
   "source": [
    "__Exercise 7.__\n",
    "Following is the provided numPy array. Sort it by its third row and then by its second column."
   ]
  },
  {
   "cell_type": "code",
   "execution_count": 24,
   "id": "0e2273b4",
   "metadata": {
    "scrolled": false
   },
   "outputs": [
    {
     "name": "stdout",
     "output_type": "stream",
     "text": [
      "Input array:\n",
      "[[ 54   3 723]\n",
      " [ 85  21   1]\n",
      " [ 56  54  66]]\n"
     ]
    }
   ],
   "source": [
    "print(\"Input array:\")\n",
    "sampleArray = np.array([[54,3,723],[85,21,1],[56,54,66]]) \n",
    "print (sampleArray)"
   ]
  },
  {
   "cell_type": "code",
   "execution_count": 25,
   "id": "db5874c7",
   "metadata": {},
   "outputs": [
    {
     "name": "stdout",
     "output_type": "stream",
     "text": [
      "[[  3  54 723]\n",
      " [ 21  85   1]\n",
      " [ 54  56  66]]\n"
     ]
    }
   ],
   "source": [
    "array_index1 = np.argsort(sampleArray[2,:])\n",
    "array_final1 = sampleArray[:,array_index1]\n",
    "print(array_final1)"
   ]
  },
  {
   "cell_type": "code",
   "execution_count": 26,
   "id": "db7f7432",
   "metadata": {},
   "outputs": [
    {
     "name": "stdout",
     "output_type": "stream",
     "text": [
      "[[ 54   3 723]\n",
      " [ 85  21   1]\n",
      " [ 56  54  66]]\n"
     ]
    }
   ],
   "source": [
    "array_index2 = np.argsort(sampleArray[:,1])\n",
    "array_final2 = sampleArray[array_index2,:]\n",
    "print(array_final2)"
   ]
  },
  {
   "cell_type": "markdown",
   "id": "e65f2551",
   "metadata": {},
   "source": [
    "__Exercise 9.__\n",
    "Following is the provided numPy array. \n",
    "Delete the second column from it and insert the following new column in its place."
   ]
  },
  {
   "cell_type": "code",
   "execution_count": 13,
   "id": "a93fb975",
   "metadata": {},
   "outputs": [],
   "source": [
    "sampleArray = np.array([[34,3,93],[2,52,12],[4,5,86]]) \n",
    "newColumn = np.array([[9,8,7]])\n"
   ]
  },
  {
   "cell_type": "code",
   "execution_count": 14,
   "id": "3d996558",
   "metadata": {},
   "outputs": [],
   "source": [
    "sampleArray = np.delete(sampleArray,1,1)"
   ]
  },
  {
   "cell_type": "code",
   "execution_count": 16,
   "id": "015bda4c",
   "metadata": {},
   "outputs": [],
   "source": [
    "sampleArray = np.insert(sampleArray,1,newColumn,1)"
   ]
  },
  {
   "cell_type": "code",
   "execution_count": 18,
   "id": "0dbbe50a",
   "metadata": {},
   "outputs": [
    {
     "data": {
      "text/plain": [
       "array([[34,  9, 93],\n",
       "       [ 2,  8, 12],\n",
       "       [ 4,  7, 86]])"
      ]
     },
     "execution_count": 18,
     "metadata": {},
     "output_type": "execute_result"
    }
   ],
   "source": [
    "sampleArray"
   ]
  }
 ],
 "metadata": {
  "kernelspec": {
   "display_name": "Python 3 (ipykernel)",
   "language": "python",
   "name": "python3"
  },
  "language_info": {
   "codemirror_mode": {
    "name": "ipython",
    "version": 3
   },
   "file_extension": ".py",
   "mimetype": "text/x-python",
   "name": "python",
   "nbconvert_exporter": "python",
   "pygments_lexer": "ipython3",
   "version": "3.9.13"
  }
 },
 "nbformat": 4,
 "nbformat_minor": 5
}
