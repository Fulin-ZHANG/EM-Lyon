{
 "cells": [
  {
   "cell_type": "markdown",
   "id": "80f14cba",
   "metadata": {},
   "source": [
    "# Course : Linear programming\n",
    "\n",
    "<center><img src=\"https://algorist.com/images/figures/linear-programming-L.png\" title=\"LP \"/></center>"
   ]
  },
  {
   "cell_type": "markdown",
   "id": "b89e85b9",
   "metadata": {},
   "source": [
    "This course covers the modeling keys you will need so you can start using python for linear programming.  "
   ]
  },
  {
   "cell_type": "markdown",
   "id": "7f526075",
   "metadata": {},
   "source": [
    "# 1. Importing data"
   ]
  },
  {
   "cell_type": "code",
   "execution_count": 1,
   "id": "3006161e",
   "metadata": {},
   "outputs": [],
   "source": [
    "#define the network structure\n",
    "\n",
    "plants = ['P1', 'P2']\n",
    "\n",
    "warehouses = ['w1', 'w2']\n",
    "\n",
    "markets = ['c1', 'c2', 'c3']\n",
    "\n",
    "#define plant capacity\n",
    "plants_capacity = {'P1':200000 ,'P2':50000}\n",
    "\n",
    "#define markets' demand\n",
    "market_demand = {'c1':50000 , 'c2':100000, 'c3':50000}\n"
   ]
  },
  {
   "cell_type": "code",
   "execution_count": 2,
   "id": "8cc334dc",
   "metadata": {},
   "outputs": [],
   "source": [
    "#define a list of costs of each transportation path\n",
    "transport_plant_warehouse = [ # warehouses\n",
    "    # w1 w2\n",
    "    [0, 5], #P1   # Plants\n",
    "    [4, 2]] #P2\n",
    "\n",
    "# The cost data is made into a dictionary\n",
    "#costs_plant_warehouse = makeDict([plants, warehouses], transport_plant_warehouse, 0)\n"
   ]
  },
  {
   "cell_type": "code",
   "execution_count": 3,
   "id": "f61f520f",
   "metadata": {},
   "outputs": [],
   "source": [
    "#costs_plant_warehouse"
   ]
  },
  {
   "cell_type": "code",
   "execution_count": 4,
   "id": "6c51dc10",
   "metadata": {},
   "outputs": [],
   "source": [
    "#define  a list of costs of each transportation path\n",
    "transport_warehouse_market = [ # markets\n",
    "    #c1 c2 c3\n",
    "    [3, 4, 5], #w1 # warehouses\n",
    "    [2, 1, 2]  #w2 \n",
    "] \n",
    "\n",
    "# The cost data is made into a dictionary\n",
    "#costs_warehouse_market = makeDict([warehouses, markets], transport_warehouse_market, 0)\n",
    "\n",
    "#costs_warehouse_market"
   ]
  },
  {
   "cell_type": "markdown",
   "id": "125dfd18",
   "metadata": {},
   "source": [
    "# 2. Create the model and solve it"
   ]
  },
  {
   "cell_type": "code",
   "execution_count": 2,
   "id": "20c1267b",
   "metadata": {},
   "outputs": [
    {
     "name": "stdout",
     "output_type": "stream",
     "text": [
      "Requirement already satisfied: gurobipy in /Users/fulin/anaconda3/lib/python3.11/site-packages (11.0.0)\n"
     ]
    },
    {
     "ename": "ModuleNotFoundError",
     "evalue": "No module named 'gurobipy'",
     "output_type": "error",
     "traceback": [
      "\u001b[0;31m---------------------------------------------------------------------------\u001b[0m",
      "\u001b[0;31mModuleNotFoundError\u001b[0m                       Traceback (most recent call last)",
      "Cell \u001b[0;32mIn[2], line 5\u001b[0m\n\u001b[1;32m      2\u001b[0m get_ipython()\u001b[38;5;241m.\u001b[39msystem(\u001b[38;5;124m'\u001b[39m\u001b[38;5;124mpip install gurobipy\u001b[39m\u001b[38;5;124m'\u001b[39m)\n\u001b[1;32m      4\u001b[0m \u001b[38;5;66;03m# Import gurobi modeler functions\u001b[39;00m\n\u001b[0;32m----> 5\u001b[0m \u001b[38;5;28;01mfrom\u001b[39;00m \u001b[38;5;21;01mgurobipy\u001b[39;00m \u001b[38;5;28;01mimport\u001b[39;00m \u001b[38;5;241m*\u001b[39m\n\u001b[1;32m      6\u001b[0m \u001b[38;5;28;01mfrom\u001b[39;00m \u001b[38;5;21;01mgurobipy\u001b[39;00m \u001b[38;5;28;01mimport\u001b[39;00m Model\n\u001b[1;32m      7\u001b[0m \u001b[38;5;28;01mfrom\u001b[39;00m \u001b[38;5;21;01mgurobipy\u001b[39;00m \u001b[38;5;28;01mimport\u001b[39;00m GRB\n",
      "\u001b[0;31mModuleNotFoundError\u001b[0m: No module named 'gurobipy'"
     ]
    }
   ],
   "source": [
    "# install the solver\n",
    "!pip install gurobipy\n",
    "\n",
    "# Import gurobi modeler functions\n",
    "from gurobipy import *\n",
    "from gurobipy import Model\n",
    "from gurobipy import GRB"
   ]
  },
  {
   "cell_type": "markdown",
   "id": "f377e8e5",
   "metadata": {},
   "source": [
    "<div class=\"alert alert-block alert-info\">\n",
    "Exercise : Create a model and define your decision variable"
   ]
  },
  {
   "cell_type": "code",
   "execution_count": 6,
   "id": "a605ca94",
   "metadata": {},
   "outputs": [
    {
     "name": "stdout",
     "output_type": "stream",
     "text": [
      "Restricted license - for non-production use only - expires 2025-11-24\n"
     ]
    }
   ],
   "source": [
    "# Creates the 'prob' variable to contain the problem data\n",
    "prob = Model('allocationModel')"
   ]
  },
  {
   "cell_type": "code",
   "execution_count": 7,
   "id": "53a02371",
   "metadata": {},
   "outputs": [],
   "source": [
    "# the decision variables are created plant->warehouse\n",
    "allocationVar_plant_warehouse = prob.addVars(plants, warehouses, vtype=GRB.CONTINUOUS, name=\"allocP_W\")"
   ]
  },
  {
   "cell_type": "code",
   "execution_count": 8,
   "id": "8a643f74",
   "metadata": {},
   "outputs": [],
   "source": [
    "# the decision variables are created warehouse->market\n",
    "allocationVar_warehouse_market = prob.addVars(warehouses, markets, vtype=GRB.CONTINUOUS, name=\"allocW_M\")"
   ]
  },
  {
   "cell_type": "markdown",
   "id": "77088d64",
   "metadata": {},
   "source": [
    "<div class=\"alert alert-block alert-info\">\n",
    "Exercise : Add your first constraint, supply maximum constraints, capacity restriction"
   ]
  },
  {
   "cell_type": "code",
   "execution_count": 9,
   "id": "390570a1",
   "metadata": {},
   "outputs": [
    {
     "data": {
      "text/plain": [
       "{'P1': <gurobi.Constr *Awaiting Model Update*>,\n",
       " 'P2': <gurobi.Constr *Awaiting Model Update*>}"
      ]
     },
     "execution_count": 9,
     "metadata": {},
     "output_type": "execute_result"
    }
   ],
   "source": [
    "# the supply maximum constraints are added to prob for each plant\n",
    "# 用于计算每个生产厂向所有仓库分配的总数量。这个总数量被限制为不超过该生产厂的最大产能\n",
    "prob.addConstrs(\n",
    "    (quicksum(allocationVar_plant_warehouse[plant_id,warehouse_id] for warehouse_id in warehouses) <= plants_capacity[plant_id] for plant_id in plants),\n",
    "    name=\"CapLimitConstr\"\n",
    ")"
   ]
  },
  {
   "cell_type": "markdown",
   "id": "f1ecc53d",
   "metadata": {},
   "source": [
    "<div class=\"alert alert-block alert-info\">\n",
    "Exercise : add the constraint of the demand covering to the model"
   ]
  },
  {
   "cell_type": "code",
   "execution_count": 10,
   "id": "a0ec91e9",
   "metadata": {},
   "outputs": [
    {
     "data": {
      "text/plain": [
       "{'c1': <gurobi.Constr *Awaiting Model Update*>,\n",
       " 'c2': <gurobi.Constr *Awaiting Model Update*>,\n",
       " 'c3': <gurobi.Constr *Awaiting Model Update*>}"
      ]
     },
     "execution_count": 10,
     "metadata": {},
     "output_type": "execute_result"
    }
   ],
   "source": [
    "# the market demand covering constraints are added to prob for each market\n",
    "\n",
    "prob.addConstrs(\n",
    "    \n",
    "    (\n",
    "        quicksum(allocationVar_warehouse_market[warehouse_id,market_id] for warehouse_id in warehouses)\n",
    "        == \n",
    "        market_demand[market_id] \n",
    "\n",
    "    for market_id in markets ),\n",
    "    \n",
    "    name = \"DemCovering\"\n",
    ")"
   ]
  },
  {
   "cell_type": "markdown",
   "id": "3f9bf23b",
   "metadata": {},
   "source": [
    "<div class=\"alert alert-block alert-info\">\n",
    "Exercise : Add the flow balance constraints to the model"
   ]
  },
  {
   "cell_type": "code",
   "execution_count": 11,
   "id": "7d27f946",
   "metadata": {},
   "outputs": [
    {
     "data": {
      "text/plain": [
       "{'w1': <gurobi.Constr *Awaiting Model Update*>,\n",
       " 'w2': <gurobi.Constr *Awaiting Model Update*>}"
      ]
     },
     "execution_count": 11,
     "metadata": {},
     "output_type": "execute_result"
    }
   ],
   "source": [
    "# the flow balance contraints are added to prob for each warehouse: in warehouse = to out warehouse\n",
    "prob.addConstrs(\n",
    "\n",
    "    (\n",
    "        quicksum(allocationVar_plant_warehouse[plant_id,warehouse_id] for plant_id in plants) \n",
    "        == \n",
    "        quicksum(allocationVar_warehouse_market[warehouse_id,market_id] for market_id in markets)\n",
    "        \n",
    "    for warehouse_id in warehouses),\n",
    "\n",
    "    name = 'equilibrium'\n",
    ")\n"
   ]
  },
  {
   "cell_type": "markdown",
   "id": "2f96e8db",
   "metadata": {},
   "source": [
    "<div class=\"alert alert-block alert-info\">\n",
    "Exercise : Define your objective function and add it to the model"
   ]
  },
  {
   "cell_type": "code",
   "execution_count": 12,
   "id": "7843bb13",
   "metadata": {},
   "outputs": [],
   "source": [
    "# The objective function is added to prob first\n",
    "\n",
    "## cost plant -> warehouse\n",
    "cost_plant_warehouse = quicksum(allocationVar_plant_warehouse[plant_id,warehouse_id] * transport_plant_warehouse[plants.index(plant_id)][warehouses.index(warehouse_id)] \n",
    "                                for plant_id in plants for warehouse_id in warehouses\n",
    "                            )\n",
    "\n",
    "## cost warehouse -> market\n",
    "cost_warehouse_market = quicksum(allocationVar_warehouse_market[warehouse_id,market_id] * transport_warehouse_market[warehouses.index(warehouse_id)][markets.index(market_id)]\n",
    "                                 for warehouse_id in warehouses for market_id in markets\n",
    ")\n",
    "\n",
    "## compute total cost\n",
    "total_cost = cost_plant_warehouse + cost_warehouse_market\n",
    "\n",
    "\n",
    "# add objective fucntion to prob var\n",
    "prob.setObjective(total_cost,GRB.MINIMIZE)"
   ]
  },
  {
   "cell_type": "markdown",
   "id": "a2e25a95",
   "metadata": {},
   "source": [
    "<div class=\"alert alert-block alert-info\">\n",
    "Exercise : save the model into an lp form"
   ]
  },
  {
   "cell_type": "code",
   "execution_count": 13,
   "id": "e5531688",
   "metadata": {},
   "outputs": [],
   "source": [
    "# The problem data is written to an .lp file\n",
    "prob.write(\"allocationExample.lp\")"
   ]
  },
  {
   "cell_type": "markdown",
   "id": "7bdfc258",
   "metadata": {},
   "source": [
    "<div class=\"alert alert-block alert-info\">\n",
    "Exercise : Solve your model"
   ]
  },
  {
   "cell_type": "code",
   "execution_count": 14,
   "id": "5119336a",
   "metadata": {},
   "outputs": [
    {
     "name": "stdout",
     "output_type": "stream",
     "text": [
      "Gurobi Optimizer version 11.0.0 build v11.0.0rc2 (mac64[arm] - Darwin 23.3.0 23D60)\n",
      "\n",
      "CPU model: Apple M2\n",
      "Thread count: 8 physical cores, 8 logical processors, using up to 8 threads\n",
      "\n",
      "Optimize a model with 7 rows, 10 columns and 20 nonzeros\n",
      "Model fingerprint: 0xc3d27b8c\n",
      "Coefficient statistics:\n",
      "  Matrix range     [1e+00, 1e+00]\n",
      "  Objective range  [1e+00, 5e+00]\n",
      "  Bounds range     [0e+00, 0e+00]\n",
      "  RHS range        [5e+04, 2e+05]\n",
      "Presolve removed 3 rows and 4 columns\n",
      "Presolve time: 0.00s\n",
      "Presolved: 4 rows, 6 columns, 12 nonzeros\n",
      "\n",
      "Iteration    Objective       Primal Inf.    Dual Inf.      Time\n",
      "       0    2.0000000e+05   3.125000e+04   0.000000e+00      0s\n",
      "       2    7.5000000e+05   0.000000e+00   0.000000e+00      0s\n",
      "\n",
      "Solved in 2 iterations and 0.00 seconds (0.00 work units)\n",
      "Optimal objective  7.500000000e+05\n"
     ]
    }
   ],
   "source": [
    "# The problem is solved using gurobi's choice of Solver\n",
    "prob.optimize()"
   ]
  },
  {
   "cell_type": "markdown",
   "id": "85a81452",
   "metadata": {},
   "source": [
    "<div class=\"alert alert-block alert-info\">\n",
    "Exercise : Print out your decision variable values"
   ]
  },
  {
   "cell_type": "code",
   "execution_count": 15,
   "id": "2c7671d1",
   "metadata": {},
   "outputs": [
    {
     "data": {
      "text/plain": [
       "50000.0"
      ]
     },
     "execution_count": 15,
     "metadata": {},
     "output_type": "execute_result"
    }
   ],
   "source": [
    "allocationVar_warehouse_market['w1','c1'].X"
   ]
  },
  {
   "cell_type": "code",
   "execution_count": 16,
   "id": "a7158600",
   "metadata": {},
   "outputs": [
    {
     "name": "stdout",
     "output_type": "stream",
     "text": [
      "allocP_W[P1,w1] = 150000.0\n",
      "allocP_W[P1,w2] = 0.0\n",
      "allocP_W[P2,w1] = 0.0\n",
      "allocP_W[P2,w2] = 50000.0\n",
      "allocW_M[w1,c1] = 50000.0\n",
      "allocW_M[w1,c2] = 100000.0\n",
      "allocW_M[w1,c3] = 0.0\n",
      "allocW_M[w2,c1] = 0.0\n",
      "allocW_M[w2,c2] = 0.0\n",
      "allocW_M[w2,c3] = 50000.0\n"
     ]
    }
   ],
   "source": [
    "for v in prob.getVars():\n",
    "    print(f\"{v.Varname} = {v.X}\")"
   ]
  }
 ],
 "metadata": {
  "kernelspec": {
   "display_name": "Python 3 (ipykernel)",
   "language": "python",
   "name": "python3"
  },
  "language_info": {
   "codemirror_mode": {
    "name": "ipython",
    "version": 3
   },
   "file_extension": ".py",
   "mimetype": "text/x-python",
   "name": "python",
   "nbconvert_exporter": "python",
   "pygments_lexer": "ipython3",
   "version": "3.9.6"
  }
 },
 "nbformat": 4,
 "nbformat_minor": 5
}
