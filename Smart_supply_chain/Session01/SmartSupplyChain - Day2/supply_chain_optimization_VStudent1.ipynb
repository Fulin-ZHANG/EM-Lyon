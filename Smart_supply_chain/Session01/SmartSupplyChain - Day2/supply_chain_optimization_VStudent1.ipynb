{
 "cells": [
  {
   "cell_type": "markdown",
   "id": "80f14cba",
   "metadata": {},
   "source": [
    "# Supply Chain Network Design with Linear programming \n",
    "\n",
    "<center><img src=\"https://miro.medium.com/v2/resize:fit:1280/format:webp/1*haKSsgOaPd_oON5IlyAkIg.png\" title=\"Supply chain Network optimization Problem\"/></center>"
   ]
  },
  {
   "cell_type": "markdown",
   "id": "b89e85b9",
   "metadata": {},
   "source": [
    "<div class=\"alert alert-block alert-info\">In this note,  we are going to practice on the best use of data analytics for a better optimization of the supply chain. \n",
    "\n",
    "The objective is to find optimal locations of manufacturing facilities and distribution centers to meet the customers' demands with the supply capabilities and reduce production costs.\n",
    "    \n",
    "Here, we will present **a simple methodology using Linear Programming for Supply Chain Optimization**."
   ]
  },
  {
   "cell_type": "markdown",
   "id": "3810b19e",
   "metadata": {},
   "source": [
    "# 1. Problem Statement - \n",
    "As the Head of Supply Chain Management of an international manufacturing company, you want to redefine the Supply Chain Network for the next 5 years.\n",
    "\n",
    "We need to consider the recent **increase in shipping costs** and the forecasts of customers’ demand.\n",
    "\n",
    "<center><img src=\"https://miro.medium.com/v2/resize:fit:1400/format:webp/1*rtP7otnvgY2nT-ONqtAM6A.png\" title=\"Map of the supply chain network \"/></center>\n"
   ]
  },
  {
   "cell_type": "markdown",
   "id": "1ec4d850",
   "metadata": {},
   "source": [
    "The supply chain network includes:\n",
    "- **5 markets** in Brazil, USA, India, Japan, Germany\n",
    "- We can open factories in the five markets. There is choice between **2 types of manufacturing facilities**: low capacity and high capacity sites\n",
    "\n",
    "To design the supply chain network, we need to consider\n",
    "- Fixed production costs of the facilities ($/Month)\n",
    "\n",
    "- Variable production costs per unit produced ($/Unit)\n",
    "\n",
    "- Shipping costs ($/Container)\n",
    "\n",
    "- Customer's demand (Units/Year)\n",
    "\n"
   ]
  },
  {
   "cell_type": "markdown",
   "id": "f37180ed",
   "metadata": {},
   "source": [
    "# 2. Data Description\n",
    "\n",
    "### Manufacturing facility fixed costs include :\n",
    "\n",
    "- Capital expenditure for the equipment (Machines, Storage,..)\n",
    "- Utilities (Electricity, Water..)\n",
    "- Factory management, administrative staff\n",
    "- Space Rental\n",
    "\n",
    "And of course, these costs depend on the country and the type of plant, below is the detailed costs\n",
    "\n",
    "<center><img src=\"https://miro.medium.com/v2/resize:fit:706/format:webp/1*-ON0vY4MP4YI5GKSSQoCNQ.png\" title=\"Manufacturing Site Fixed Costs\"/></center>\n",
    "\n",
    "&nbsp;\n",
    "\n",
    "### Production Variable Costs\n",
    "\n",
    "- Production lines operators\n",
    "- Raw materials\n",
    "\n",
    "<center><img src=\"https://miro.medium.com/v2/resize:fit:1192/format:webp/1*gUdR8R48knkNwAn4CSUveA.png\" title=\"Manufacturing Site Variable Costs\"/></center>\n",
    "\n",
    "&nbsp;\n",
    "\n",
    "### Shipping Variable Costs\n",
    "\n",
    "- Cost per container ($/Container)\n",
    "\n",
    "- Assumption: 1 container can contain 1000 units\n",
    "\n",
    "<center><img src=\"https://miro.medium.com/v2/resize:fit:1296/format:webp/1*QyvXuHKn6rRhsCze6sLpOQ.png\" title=\"Sea Freight Shipping Costs\"/></center>\n",
    "\n",
    "&nbsp;\n",
    "\n",
    "### Manufacturing Capacity by Site\n",
    "\n",
    "<center><img src=\"https://miro.medium.com/v2/resize:fit:850/format:webp/1*sAX6GzuhcOexLPmEheXl7w.png\" title=\"Manufacturing Site capacity\"/></center>\n",
    "\n",
    "&nbsp;\n",
    "\n",
    "### Customers' demand per market\n",
    "\n",
    "<center><img src=\"https://miro.medium.com/v2/resize:fit:612/format:webp/1*5xEi_7n4YX8n3c01J3ew6Q.png\" title=\"Customers' demand per market Site \"/></center>\n",
    "\n",
    "\n",
    "\n",
    "\n",
    "\n",
    "\n",
    "\n"
   ]
  },
  {
   "cell_type": "markdown",
   "id": "0e5b0d9d",
   "metadata": {},
   "source": [
    "## The objective\n",
    "\n",
    "Our aim is to determine which **plant to operate** and under **which capacity level** and **which plant is supplying each market**\n",
    "\n",
    "We are going to test the following scenarios\n",
    "\n",
    "- Scenario 1: initial parameters\n",
    "- Scenario 2: we increase the production capacity of India (x2)\n",
    "- Scenario 3: Explosing shipping costs due to container shortage"
   ]
  },
  {
   "cell_type": "markdown",
   "id": "7f526075",
   "metadata": {},
   "source": [
    "# 3. Importing & loading data"
   ]
  },
  {
   "cell_type": "markdown",
   "id": "6aaad4dd",
   "metadata": {},
   "source": [
    "<div class=\"alert alert-block alert-info\">\n",
    "Exercise : Load and save the supply chain network into the appropriate form "
   ]
  },
  {
   "cell_type": "code",
   "execution_count": 1,
   "id": "c1fb99ab",
   "metadata": {},
   "outputs": [],
   "source": [
    "## define the structure of the network\n",
    "markets = ['USA', 'Germany', 'Japan', 'India', 'Brazil']\n",
    "\n",
    "## define the manufacturing capacity site levels \n",
    "capacity_levels = ['low', 'high']"
   ]
  },
  {
   "cell_type": "markdown",
   "id": "cdead3a2",
   "metadata": {},
   "source": [
    "<div class=\"alert alert-block alert-info\">\n",
    "Exercise :Load the fixed costs for each country"
   ]
  },
  {
   "cell_type": "code",
   "execution_count": 2,
   "id": "2d9d2edc",
   "metadata": {},
   "outputs": [],
   "source": [
    "## load the fixed costs for each country\n",
    "#prod_fixed_costs = [# capacity levels\n",
    "            # low     high\n",
    "#            [6500000, 9500000], # USA ## markets\n",
    "#            [4980000, 7270000], # Germany\n",
    "#            [6230000, 9100000], # Japan\n",
    "#            [3230000, 4730000], # Brazil\n",
    "#            [2110000, 3080000] ] #India\n",
    "\n",
    "prod_fixed_costs = {\n",
    "        'USA':{'low': 6500000, 'high': 9500000},\n",
    "        'Germany':{'low': 4980000, 'high': 7270000},\n",
    "        'Japan':{'low': 6230000, 'high': 9100000},\n",
    "        'Brazil':{'low': 3230000, 'high': 4730000},\n",
    "        'India':{'low': 2110000, 'high': 3080000},\n",
    "}"
   ]
  },
  {
   "cell_type": "markdown",
   "id": "b052658b",
   "metadata": {},
   "source": [
    "<div class=\"alert alert-block alert-info\">\n",
    "Exercise : Load the production variables costs"
   ]
  },
  {
   "cell_type": "code",
   "execution_count": 3,
   "id": "b36ead10",
   "metadata": {},
   "outputs": [],
   "source": [
    "## load production variable costs\n",
    "#prod_variable_costs = [#markets\n",
    "                #USA Germany Japan brazil India\n",
    "#                [12, 12, 12, 12, 12], #USA\n",
    "#                [13, 13, 13, 13, 13], #Germany\n",
    "#                [10, 10, 10, 10, 10], #Japan\n",
    "#                [8, 8, 8, 8, 8], #Brazil\n",
    "#                [5, 5, 5, 5, 5]] #India\n",
    "\n",
    "prod_variable_costs = {\n",
    "        'USA':12,\n",
    "        'Germany':13,\n",
    "        'Japan':10,\n",
    "        'Brazil':8,\n",
    "        'India':5,\n",
    "}"
   ]
  },
  {
   "cell_type": "markdown",
   "id": "0ca3f253",
   "metadata": {},
   "source": [
    "<div class=\"alert alert-block alert-info\">\n",
    "Exercise : Draw the shipping costs and the manufacturing capacity levels"
   ]
  },
  {
   "cell_type": "code",
   "execution_count": 4,
   "id": "b21de975",
   "metadata": {},
   "outputs": [],
   "source": [
    "## load shipping variable costs\n",
    "shipping_variable_costs = [#Markets\n",
    "              #USA Germany Japan brazil India\n",
    "                [0, 1750, 1100, 2300, 1254], #USA\n",
    "                [1905, 0, 1231, 2892, 1439], #Germany\n",
    "                [2200, 3250, 0, 6230, 2050], #Japan\n",
    "                [2350, 3150, 4000, 0, 4250], #Brazil\n",
    "                [1950, 2200, 3500, 4200, 0]] #India\n",
    "\n",
    "\n"
   ]
  },
  {
   "cell_type": "code",
   "execution_count": 5,
   "id": "27a4aa60",
   "metadata": {},
   "outputs": [],
   "source": [
    "## load manufacturing capacity by site\n",
    "manufacturing_capacity = {'low':500000,\n",
    "                          'high':1500000}"
   ]
  },
  {
   "cell_type": "markdown",
   "id": "d1cd9e5e",
   "metadata": {},
   "source": [
    "<div class=\"alert alert-block alert-info\">\n",
    "Exercise : Import the customers' demand"
   ]
  },
  {
   "cell_type": "code",
   "execution_count": 6,
   "id": "fbd0eb3f",
   "metadata": {},
   "outputs": [],
   "source": [
    "## load customers' demand per market\n",
    "\n",
    "demand_markets = {#market : demand\n",
    "                  'USA':2800000, \n",
    "                  'Germany':90000,\n",
    "                  'Japan':1700000, \n",
    "                  'Brazil':145000, \n",
    "                  'India':160000 }"
   ]
  },
  {
   "cell_type": "markdown",
   "id": "cb74eca2",
   "metadata": {},
   "source": [
    "# 4. Data analysis"
   ]
  },
  {
   "cell_type": "markdown",
   "id": "501d0827",
   "metadata": {},
   "source": [
    "<div class=\"alert alert-block alert-info\">\n",
    "Exercise : Compute the total demand "
   ]
  },
  {
   "cell_type": "code",
   "execution_count": 7,
   "id": "3006161e",
   "metadata": {},
   "outputs": [],
   "source": [
    "tot_dem = sum(demand_markets.values())"
   ]
  },
  {
   "cell_type": "markdown",
   "id": "a4e7ad9e",
   "metadata": {},
   "source": [
    "<div class=\"alert alert-block alert-info\">\n",
    "Exercise : Draw the demand markets on pie chart"
   ]
  },
  {
   "cell_type": "code",
   "execution_count": 8,
   "id": "19b5716d",
   "metadata": {},
   "outputs": [
    {
     "data": {
      "image/png": "[encoded data removed]",
      "text/plain": [
       "<Figure size 640x480 with 1 Axes>"
      ]
     },
     "metadata": {},
     "output_type": "display_data"
    }
   ],
   "source": [
    "import seaborn as sns\n",
    "import matplotlib.pyplot as plt\n",
    "\n",
    "plt.pie(demand_markets.values(), labels=demand_markets.keys());"
   ]
  },
  {
   "cell_type": "markdown",
   "id": "14427101",
   "metadata": {},
   "source": [
    "<div class=\"alert alert-block alert-info\">\n",
    "Exercise : Draw the manufacturing sites capacity on bar chart and compare it to the markets' demand"
   ]
  },
  {
   "cell_type": "code",
   "execution_count": null,
   "id": "0fd3e749",
   "metadata": {},
   "outputs": [],
   "source": []
  },
  {
   "cell_type": "markdown",
   "id": "be3dc458",
   "metadata": {},
   "source": [
    "<div class=\"alert alert-block alert-info\">\n",
    "Exercise : Draw the fixed costs manufacturing sites on bar chart"
   ]
  },
  {
   "cell_type": "code",
   "execution_count": null,
   "id": "78baf9b4",
   "metadata": {},
   "outputs": [],
   "source": []
  },
  {
   "cell_type": "markdown",
   "id": "6be88cbc",
   "metadata": {},
   "source": [
    "<div class=\"alert alert-block alert-info\">\n",
    "Exercise : Draw the variable production costs for each country on bar chart"
   ]
  },
  {
   "cell_type": "code",
   "execution_count": null,
   "id": "e7f77b06",
   "metadata": {},
   "outputs": [],
   "source": []
  },
  {
   "cell_type": "markdown",
   "id": "bad95096",
   "metadata": {},
   "source": [
    "# 5. Optimization -- Build the model"
   ]
  },
  {
   "cell_type": "code",
   "execution_count": 9,
   "id": "20c1267b",
   "metadata": {},
   "outputs": [],
   "source": [
    "#install the solver package\n",
    "#!pip install gurobipy\n",
    "\n",
    "# Import gurobi modeler functions\n",
    "from gurobipy import *"
   ]
  },
  {
   "cell_type": "code",
   "execution_count": 10,
   "id": "c8307915",
   "metadata": {},
   "outputs": [],
   "source": [
    "# yik = 1 if "
   ]
  },
  {
   "cell_type": "markdown",
   "id": "cd23d398",
   "metadata": {},
   "source": [
    "<div class=\"alert alert-block alert-info\">\n",
    "Exercise : Create a 'model' variable and define your decision variables"
   ]
  },
  {
   "cell_type": "code",
   "execution_count": 11,
   "id": "8a643f74",
   "metadata": {},
   "outputs": [
    {
     "name": "stdout",
     "output_type": "stream",
     "text": [
      "Restricted license - for non-production use only - expires 2025-11-24\n"
     ]
    }
   ],
   "source": [
    "locationM = Model(\"location\")\n",
    "plants = markets\n",
    "\n",
    "locationVar = locationM.addVars(markets, capacity_levels, vtype = GRB.BINARY, name=\"locationVar\")\n",
    "\n",
    "allocationVar=locationM.addVars(markets, markets, vtype = GRB.CONTINUOUS, name=\"allocationVar\")"
   ]
  },
  {
   "cell_type": "markdown",
   "id": "9343536a",
   "metadata": {},
   "source": [
    "<div class=\"alert alert-block alert-info\">\n",
    "Exercise : Define the capacity level selection constraint"
   ]
  },
  {
   "cell_type": "code",
   "execution_count": 12,
   "id": "81141bcd",
   "metadata": {},
   "outputs": [
    {
     "data": {
      "text/plain": [
       "{'USA': <gurobi.Constr *Awaiting Model Update*>,\n",
       " 'Germany': <gurobi.Constr *Awaiting Model Update*>,\n",
       " 'Japan': <gurobi.Constr *Awaiting Model Update*>,\n",
       " 'India': <gurobi.Constr *Awaiting Model Update*>,\n",
       " 'Brazil': <gurobi.Constr *Awaiting Model Update*>}"
      ]
     },
     "execution_count": 12,
     "metadata": {},
     "output_type": "execute_result"
    }
   ],
   "source": [
    "locationM.addConstrs((quicksum(locationVar[plant_id, cap_id] for cap_id in capacity_levels)\n",
    "                      <= 1 for plant_id in plants), name=\"CapChoice\")"
   ]
  },
  {
   "cell_type": "markdown",
   "id": "8f15b747",
   "metadata": {},
   "source": [
    "<div class=\"alert alert-block alert-info\">\n",
    "Exercise : Define the capacity restriction capacity on production site"
   ]
  },
  {
   "cell_type": "code",
   "execution_count": 13,
   "id": "390570a1",
   "metadata": {},
   "outputs": [
    {
     "data": {
      "text/plain": [
       "{'USA': <gurobi.Constr *Awaiting Model Update*>,\n",
       " 'Germany': <gurobi.Constr *Awaiting Model Update*>,\n",
       " 'Japan': <gurobi.Constr *Awaiting Model Update*>,\n",
       " 'India': <gurobi.Constr *Awaiting Model Update*>,\n",
       " 'Brazil': <gurobi.Constr *Awaiting Model Update*>}"
      ]
     },
     "execution_count": 13,
     "metadata": {},
     "output_type": "execute_result"
    }
   ],
   "source": [
    "locationM.addConstrs((quicksum(allocationVar[plant_id, market_id] for market_id in markets)\n",
    "                      <= quicksum(manufacturing_capacity[level_id]* locationVar[plant_id, level_id] for level_id in capacity_levels)\n",
    "                      for plant_id in plants\n",
    "                      ),name=\"CapLimit\")"
   ]
  },
  {
   "cell_type": "markdown",
   "id": "4fce6558",
   "metadata": {},
   "source": [
    "<div class=\"alert alert-block alert-info\">\n",
    "Exercise : Define the covering demand constraint"
   ]
  },
  {
   "cell_type": "code",
   "execution_count": 14,
   "id": "a0ec91e9",
   "metadata": {},
   "outputs": [
    {
     "data": {
      "text/plain": [
       "{'USA': <gurobi.Constr *Awaiting Model Update*>,\n",
       " 'Germany': <gurobi.Constr *Awaiting Model Update*>,\n",
       " 'Japan': <gurobi.Constr *Awaiting Model Update*>,\n",
       " 'India': <gurobi.Constr *Awaiting Model Update*>,\n",
       " 'Brazil': <gurobi.Constr *Awaiting Model Update*>}"
      ]
     },
     "execution_count": 14,
     "metadata": {},
     "output_type": "execute_result"
    }
   ],
   "source": [
    "locationM.addConstrs((quicksum(allocationVar[plant_id, market_id] for plant_id in plants)\n",
    "                      ==demand_markets[market_id] for market_id in markets), name=\"DemCovering\")"
   ]
  },
  {
   "cell_type": "markdown",
   "id": "e7d59d5a",
   "metadata": {},
   "source": [
    "<div class=\"alert alert-block alert-info\">\n",
    "Exercise : Define the problem objective function, consider expression from gurobi, save into lp and solve the model"
   ]
  },
  {
   "cell_type": "code",
   "execution_count": 15,
   "id": "7843bb13",
   "metadata": {},
   "outputs": [],
   "source": [
    "total_fixed = quicksum(locationVar[plant_id, cap_id]\n",
    "                       *prod_fixed_costs[plant_id][cap_id] for plant_id in plants for cap_id in capacity_levels)\n",
    "\n",
    "total_variable_costs = quicksum(prod_variable_costs[plant_id]* allocationVar[plant_id, market_id]\n",
    "                                for plant_id in plants for market_id in markets)\n",
    "\n",
    "total_shipping_cost = quicksum((1/10000)*shipping_variable_costs[plants.index(plant_id)][markets.index(market_id)]\n",
    "                               *allocationVar[plant_id, market_id]\n",
    "                               for plant_id in plants for market_id in markets)\n",
    "\n",
    "total_cost = total_fixed + total_variable_costs + total_shipping_cost\n",
    "\n",
    "\n",
    "locationM.setObjective(total_cost, GRB.MINIMIZE)"
   ]
  },
  {
   "cell_type": "code",
   "execution_count": 16,
   "id": "e5531688",
   "metadata": {},
   "outputs": [
    {
     "name": "stdout",
     "output_type": "stream",
     "text": [
      "Gurobi Optimizer version 11.0.0 build v11.0.0rc2 (mac64[arm] - Darwin 23.3.0 23D60)\n",
      "\n",
      "CPU model: Apple M2\n",
      "Thread count: 8 physical cores, 8 logical processors, using up to 8 threads\n",
      "\n",
      "Optimize a model with 15 rows, 35 columns and 70 nonzeros\n",
      "Model fingerprint: 0x57b0c297\n",
      "Variable types: 25 continuous, 10 integer (10 binary)\n",
      "Coefficient statistics:\n",
      "  Matrix range     [1e+00, 2e+06]\n",
      "  Objective range  [5e+00, 1e+07]\n",
      "  Bounds range     [1e+00, 1e+00]\n",
      "  RHS range        [1e+00, 3e+06]\n",
      "Presolve time: 0.00s\n",
      "Presolved: 15 rows, 35 columns, 70 nonzeros\n",
      "Variable types: 25 continuous, 10 integer (10 binary)\n",
      "Found heuristic solution: objective 6.325338e+07\n",
      "\n",
      "Root relaxation: objective 5.908318e+07, 25 iterations, 0.00 seconds (0.00 work units)\n",
      "\n",
      "    Nodes    |    Current Node    |     Objective Bounds      |     Work\n",
      " Expl Unexpl |  Obj  Depth IntInf | Incumbent    BestBd   Gap | It/Node Time\n",
      "\n",
      "     0     0 5.9083e+07    0    1 6.3253e+07 5.9083e+07  6.59%     -    0s\n",
      "H    0     0                    6.214875e+07 5.9083e+07  4.93%     -    0s\n",
      "     0     0 6.1073e+07    0    1 6.2149e+07 6.1073e+07  1.73%     -    0s\n",
      "\n",
      "Cutting planes:\n",
      "  Gomory: 1\n",
      "  Implied bound: 1\n",
      "\n",
      "Explored 1 nodes (27 simplex iterations) in 0.01 seconds (0.00 work units)\n",
      "Thread count was 8 (of 8 available processors)\n",
      "\n",
      "Solution count 2: 6.21487e+07 6.32534e+07 \n",
      "\n",
      "Optimal solution found (tolerance 1.00e-04)\n",
      "Best objective 6.214874750000e+07, best bound 6.214874699246e+07, gap 0.0000%\n"
     ]
    }
   ],
   "source": [
    "locationM.optimize()"
   ]
  },
  {
   "cell_type": "code",
   "execution_count": null,
   "id": "5119336a",
   "metadata": {
    "scrolled": true
   },
   "outputs": [],
   "source": []
  },
  {
   "cell_type": "markdown",
   "id": "80bcc281",
   "metadata": {},
   "source": [
    "<div class=\"alert alert-block alert-info\">\n",
    "Exercise : Print out the results"
   ]
  },
  {
   "cell_type": "code",
   "execution_count": 17,
   "id": "2c7671d1",
   "metadata": {},
   "outputs": [
    {
     "data": {
      "text/plain": [
       "62148747.5"
      ]
     },
     "execution_count": 17,
     "metadata": {},
     "output_type": "execute_result"
    }
   ],
   "source": [
    "locationM.ObjVal"
   ]
  },
  {
   "cell_type": "code",
   "execution_count": 18,
   "id": "ceae4cae",
   "metadata": {},
   "outputs": [
    {
     "data": {
      "text/plain": [
       "623747.5"
      ]
     },
     "execution_count": 18,
     "metadata": {},
     "output_type": "execute_result"
    }
   ],
   "source": [
    "total_shipping_cost.getValue()"
   ]
  },
  {
   "cell_type": "markdown",
   "id": "b76cc1ab",
   "metadata": {},
   "source": [
    "<div class=\"alert alert-block alert-info\">\n",
    "Exercise : Analyze the results, comment and, check the capacity utilization"
   ]
  },
  {
   "cell_type": "code",
   "execution_count": 19,
   "id": "4f14a60e",
   "metadata": {},
   "outputs": [
    {
     "name": "stdout",
     "output_type": "stream",
     "text": [
      "plant  Germany with cap level:  low   1.0\n",
      "plant  Japan with cap level:  high   1.0\n",
      "plant  India with cap level:  high   1.0\n",
      "plant  Brazil with cap level:  high   1.0\n"
     ]
    }
   ],
   "source": [
    "for plant_id in plants:\n",
    "    for cap_id in capacity_levels:\n",
    "        if locationVar[plant_id, cap_id].X !=0:\n",
    "            print('plant ', plant_id, 'with cap level: ', cap_id, ' ', locationVar[plant_id, cap_id].X)"
   ]
  },
  {
   "cell_type": "code",
   "execution_count": 20,
   "id": "066e548a",
   "metadata": {},
   "outputs": [
    {
     "ename": "KeyError",
     "evalue": "('USA', 'USA')",
     "output_type": "error",
     "traceback": [
      "\u001b[0;31m---------------------------------------------------------------------------\u001b[0m",
      "\u001b[0;31mKeyError\u001b[0m                                  Traceback (most recent call last)",
      "Cell \u001b[0;32mIn[20], line 3\u001b[0m\n\u001b[1;32m      1\u001b[0m \u001b[38;5;28;01mfor\u001b[39;00m plant_id \u001b[38;5;129;01min\u001b[39;00m plants:\n\u001b[1;32m      2\u001b[0m     \u001b[38;5;28;01mfor\u001b[39;00m market_id \u001b[38;5;129;01min\u001b[39;00m markets:\n\u001b[0;32m----> 3\u001b[0m         \u001b[38;5;28;01mif\u001b[39;00m locationVar[plant_id, market_id]\u001b[38;5;241m.\u001b[39mX \u001b[38;5;241m!=\u001b[39m\u001b[38;5;241m0\u001b[39m:\n\u001b[1;32m      4\u001b[0m             \u001b[38;5;28mprint\u001b[39m(\u001b[38;5;124m\"\u001b[39m\u001b[38;5;124mplant \u001b[39m\u001b[38;5;124m\"\u001b[39m, plant_id, \u001b[38;5;124m'\u001b[39m\u001b[38;5;124mmarket \u001b[39m\u001b[38;5;124m'\u001b[39m, market_id, \u001b[38;5;124m'\u001b[39m\u001b[38;5;124m \u001b[39m\u001b[38;5;124m'\u001b[39m, allocationVar[plant_id, market_id]\u001b[38;5;241m.\u001b[39mX)\n",
      "\u001b[0;31mKeyError\u001b[0m: ('USA', 'USA')"
     ]
    }
   ],
   "source": [
    "for plant_id in plants:\n",
    "    for market_id in markets:\n",
    "        if locationVar[plant_id, market_id].X !=0:\n",
    "            print(\"plant \", plant_id, 'market ', market_id, ' ', allocationVar[plant_id, market_id].X)"
   ]
  },
  {
   "cell_type": "markdown",
   "id": "5a8c4056",
   "metadata": {},
   "source": [
    " <div class=\"alert alert-block alert-info\">\n",
    "Exercise : what is the limit of the solution: what if the demand increases +10% in x , +20% in x "
   ]
  },
  {
   "cell_type": "code",
   "execution_count": null,
   "id": "9ae9e951",
   "metadata": {},
   "outputs": [],
   "source": []
  },
  {
   "cell_type": "markdown",
   "id": "5776f118",
   "metadata": {},
   "source": [
    "<div class=\"alert alert-block alert-info\">\n",
    "Exercise : Scenario 2: Redo the network optimization by considering the production of India by 2"
   ]
  },
  {
   "cell_type": "code",
   "execution_count": null,
   "id": "67802161",
   "metadata": {},
   "outputs": [],
   "source": []
  },
  {
   "cell_type": "markdown",
   "id": "0be78e57",
   "metadata": {},
   "source": [
    "<div class=\"alert alert-block alert-info\">\n",
    "Exercise : Scenario 3: Redo the network optimization by explosing the shipping costs"
   ]
  },
  {
   "cell_type": "code",
   "execution_count": null,
   "id": "7a7353c6",
   "metadata": {},
   "outputs": [],
   "source": []
  },
  {
   "cell_type": "markdown",
   "id": "6d270ef0",
   "metadata": {},
   "source": [
    "# 6. Monte Carlo Simulation "
   ]
  },
  {
   "cell_type": "markdown",
   "id": "9226e3da",
   "metadata": {},
   "source": [
    "We cannot rely on a single solution and expect that our network will absorb the demand throughout the year.\n",
    "\n",
    "Usually, these parameters are calculated based on the yearly average of the sales.\n",
    "\n",
    "Let’s simulate this demand variability and see the impact on the network design.\n",
    "\n",
    "\n",
    "## Generate 50 scenarios\n",
    "\n",
    "We will assume that the demand is following a normal distribution with a coefficient of variation CV = 0.5. (You can adapt the distribution to your needs)\n"
   ]
  },
  {
   "cell_type": "markdown",
   "id": "de256278",
   "metadata": {},
   "source": [
    "<div class=\"alert alert-block alert-info\">\n",
    "Exercise : Generate 10 scenarios of customers' demand, solve each of the scenarios, and save the obtained solution for each scenario"
   ]
  },
  {
   "cell_type": "code",
   "execution_count": null,
   "id": "00cf6ff6",
   "metadata": {},
   "outputs": [],
   "source": []
  },
  {
   "cell_type": "markdown",
   "id": "df4958be",
   "metadata": {},
   "source": [
    "<div class=\"alert alert-block alert-info\">\n",
    "Exercise : Solve the optimization model for each demand scenario, Compare the solution obtained from each scenario and take a decision"
   ]
  },
  {
   "cell_type": "code",
   "execution_count": null,
   "id": "33a4524b",
   "metadata": {},
   "outputs": [],
   "source": []
  },
  {
   "cell_type": "markdown",
   "id": "581b9f89",
   "metadata": {},
   "source": [
    "# 7. Visualization "
   ]
  },
  {
   "cell_type": "code",
   "execution_count": null,
   "id": "a7158600",
   "metadata": {},
   "outputs": [],
   "source": [
    "!pip install folium\n",
    "\n",
    "import folium\n",
    "# define the world map\n",
    "world_map = folium.Map(tiles='cartodb positron')\n",
    "\n",
    "# display world map\n",
    "world_map"
   ]
  },
  {
   "cell_type": "code",
   "execution_count": null,
   "id": "840457b5",
   "metadata": {},
   "outputs": [],
   "source": [
    "# San Francisco latitude and longitude values\n",
    "#latitude = 37.77\n",
    "#longitude = -122.42\n",
    "\n",
    "# create map and display it\n",
    "#sanfran_map = folium.Map(location=[latitude, longitude], zoom_start=12)\n",
    "\n",
    "# display the map of San Francisco\n",
    "#sanfran_map"
   ]
  },
  {
   "cell_type": "code",
   "execution_count": null,
   "id": "a231f8ba",
   "metadata": {},
   "outputs": [],
   "source": [
    "# import pandas library\n",
    "import pandas as pd\n",
    "\n",
    "# Make a data frame with dots to show on the map \n",
    "data = pd.DataFrame({\n",
    "    'lat':[36.966428,-14.242915,51.095123, 21.7679,34.886306],\n",
    "    'lon':[-95.844032, -53.189266, 10.271483, 78.8718, 134.379711],\n",
    "    'name':['USA', 'Brazil', 'Germany', 'India', 'Japan']},\n",
    " dtype=str)\n",
    "\n",
    "data\n",
    "# create map and display it\n",
    "#sanfran_map = folium.Map(location=USA, zoom_start=2)\n",
    "\n",
    "# display the map of San Francisco\n",
    "#sanfran_map"
   ]
  },
  {
   "cell_type": "code",
   "execution_count": null,
   "id": "1a8db326",
   "metadata": {
    "scrolled": true
   },
   "outputs": [],
   "source": [
    "# add marker one by one on the map\n",
    "for i in range(0,len(data)):\n",
    "   folium.Marker(\n",
    "      location=[data.iloc[i]['lat'], data.iloc[i]['lon']],\n",
    "      popup=data.iloc[i]['name'],\n",
    "   ).add_to(world_map)\n",
    "\n",
    "# Show the map again\n",
    "world_map\n"
   ]
  },
  {
   "cell_type": "code",
   "execution_count": null,
   "id": "62b50a07",
   "metadata": {},
   "outputs": [],
   "source": [
    "#save map as standalone html file if needed\n",
    "world_map.save('../../static/interactiveCharts/312-add-markers-on-folium-map.html')"
   ]
  }
 ],
 "metadata": {
  "kernelspec": {
   "display_name": "Python 3 (ipykernel)",
   "language": "python",
   "name": "python3"
  },
  "language_info": {
   "codemirror_mode": {
    "name": "ipython",
    "version": 3
   },
   "file_extension": ".py",
   "mimetype": "text/x-python",
   "name": "python",
   "nbconvert_exporter": "python",
   "pygments_lexer": "ipython3",
   "version": "3.1.0"
  }
 },
 "nbformat": 4,
 "nbformat_minor": 5
}
