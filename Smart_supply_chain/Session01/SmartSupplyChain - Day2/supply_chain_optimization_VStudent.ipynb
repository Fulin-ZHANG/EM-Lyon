{
 "cells": [
  {
   "cell_type": "markdown",
   "id": "80f14cba",
   "metadata": {},
   "source": [
    "# Supply Chain Network Design with Linear programming \n",
    "\n",
    "<center><img src=\"https://miro.medium.com/v2/resize:fit:1280/format:webp/1*haKSsgOaPd_oON5IlyAkIg.png\" title=\"Supply chain Network optimization Problem\"/></center>"
   ]
  },
  {
   "cell_type": "markdown",
   "id": "b89e85b9",
   "metadata": {},
   "source": [
    "<div class=\"alert alert-block alert-info\">In this note,  we are going to practice on the best use of data analytics for a better optimization of the supply chain. \n",
    "\n",
    "The objective is to find optimal locations of manufacturing facilities and distribution centers to meet the customers' demands with the supply capabilities and reduce production costs.\n",
    "    \n",
    "Here, we will present **a simple methodology using Linear Programming for Supply Chain Optimization**."
   ]
  },
  {
   "cell_type": "markdown",
   "id": "3810b19e",
   "metadata": {},
   "source": [
    "# 1. Problem Statement - \n",
    "As the Head of Supply Chain Management of an international manufacturing company, you want to redefine the Supply Chain Network for the next 5 years.\n",
    "\n",
    "We need to consider the recent **increase in shipping costs** and the forecasts of customers’ demand.\n",
    "\n",
    "<center><img src=\"https://miro.medium.com/v2/resize:fit:1400/format:webp/1*rtP7otnvgY2nT-ONqtAM6A.png\" title=\"Map of the supply chain network \"/></center>\n"
   ]
  },
  {
   "cell_type": "markdown",
   "id": "1ec4d850",
   "metadata": {},
   "source": [
    "The supply chain network includes:\n",
    "- **5 markets** in Brazil, USA, India, Japan, Germany\n",
    "- We can open factories in the five markets. There is choice between **2 types of manufacturing facilities**: low capacity and high capacity sites\n",
    "\n",
    "To design the supply chain network, we need to consider\n",
    "- Fixed production costs of the facilities ($/Month)\n",
    "\n",
    "- Variable production costs per unit produced ($/Unit)\n",
    "\n",
    "- Shipping costs ($/Container)\n",
    "\n",
    "- Customer's demand (Units/Year)\n",
    "\n"
   ]
  },
  {
   "cell_type": "markdown",
   "id": "f37180ed",
   "metadata": {},
   "source": [
    "# 2. Data Description\n",
    "\n",
    "### Manufacturing facility fixed costs include :\n",
    "\n",
    "- Capital expenditure for the equipment (Machines, Storage,..)\n",
    "- Utilities (Electricity, Water..)\n",
    "- Factory management, administrative staff\n",
    "- Space Rental\n",
    "\n",
    "And of course, these costs depend on the country and the type of plant, below is the detailed costs\n",
    "\n",
    "<center><img src=\"https://miro.medium.com/v2/resize:fit:706/format:webp/1*-ON0vY4MP4YI5GKSSQoCNQ.png\" title=\"Manufacturing Site Fixed Costs\"/></center>\n",
    "\n",
    "&nbsp;\n",
    "\n",
    "### Production Variable Costs\n",
    "\n",
    "- Production lines operators\n",
    "- Raw materials\n",
    "\n",
    "<center><img src=\"https://miro.medium.com/v2/resize:fit:1192/format:webp/1*gUdR8R48knkNwAn4CSUveA.png\" title=\"Manufacturing Site Variable Costs\"/></center>\n",
    "\n",
    "&nbsp;\n",
    "\n",
    "### Shipping Variable Costs\n",
    "\n",
    "- Cost per container ($/Container)\n",
    "\n",
    "- Assumption: 1 container can contain 1000 units\n",
    "\n",
    "<center><img src=\"https://miro.medium.com/v2/resize:fit:1296/format:webp/1*QyvXuHKn6rRhsCze6sLpOQ.png\" title=\"Sea Freight Shipping Costs\"/></center>\n",
    "\n",
    "&nbsp;\n",
    "\n",
    "### Manufacturing Capacity by Site\n",
    "\n",
    "<center><img src=\"https://miro.medium.com/v2/resize:fit:850/format:webp/1*sAX6GzuhcOexLPmEheXl7w.png\" title=\"Manufacturing Site capacity\"/></center>\n",
    "\n",
    "&nbsp;\n",
    "\n",
    "### Customers' demand per market\n",
    "\n",
    "<center><img src=\"https://miro.medium.com/v2/resize:fit:612/format:webp/1*5xEi_7n4YX8n3c01J3ew6Q.png\" title=\"Customers' demand per market Site \"/></center>\n",
    "\n",
    "\n",
    "\n",
    "\n",
    "\n",
    "\n",
    "\n"
   ]
  },
  {
   "cell_type": "markdown",
   "id": "0e5b0d9d",
   "metadata": {},
   "source": [
    "## The objective\n",
    "\n",
    "Our aim is to determine which **plant to operate** and under **which capacity level** and **which plant is supplying each market**\n",
    "\n",
    "We are going to test the following scenarios\n",
    "\n",
    "- Scenario 1: initial parameters\n",
    "- Scenario 2: we increase the production capacity of India (x2)\n",
    "- Scenario 3: Explosing shipping costs due to container shortage"
   ]
  },
  {
   "cell_type": "markdown",
   "id": "7f526075",
   "metadata": {},
   "source": [
    "# 3. Importing & loading data"
   ]
  },
  {
   "cell_type": "markdown",
   "id": "6aaad4dd",
   "metadata": {},
   "source": [
    "<div class=\"alert alert-block alert-info\">\n",
    "Exercise : Load and save the supply chain network into the appropriate form "
   ]
  },
  {
   "cell_type": "code",
   "execution_count": null,
   "id": "c1fb99ab",
   "metadata": {},
   "outputs": [],
   "source": [
    "## define the structure of the network\n",
    "\n",
    "\n",
    "## define the manufacturing capacity site levels \n"
   ]
  },
  {
   "cell_type": "markdown",
   "id": "cdead3a2",
   "metadata": {},
   "source": [
    "<div class=\"alert alert-block alert-info\">\n",
    "Exercise :Load the fixed costs for each country"
   ]
  },
  {
   "cell_type": "code",
   "execution_count": null,
   "id": "2d9d2edc",
   "metadata": {},
   "outputs": [],
   "source": []
  },
  {
   "cell_type": "markdown",
   "id": "b052658b",
   "metadata": {},
   "source": [
    "<div class=\"alert alert-block alert-info\">\n",
    "Exercise : Load the production variables costs"
   ]
  },
  {
   "cell_type": "code",
   "execution_count": null,
   "id": "b36ead10",
   "metadata": {},
   "outputs": [],
   "source": []
  },
  {
   "cell_type": "markdown",
   "id": "0ca3f253",
   "metadata": {},
   "source": [
    "<div class=\"alert alert-block alert-info\">\n",
    "Exercise : Draw the shipping costs and the manufacturing capacity levels"
   ]
  },
  {
   "cell_type": "code",
   "execution_count": null,
   "id": "b21de975",
   "metadata": {},
   "outputs": [],
   "source": []
  },
  {
   "cell_type": "code",
   "execution_count": null,
   "id": "27a4aa60",
   "metadata": {},
   "outputs": [],
   "source": []
  },
  {
   "cell_type": "markdown",
   "id": "d1cd9e5e",
   "metadata": {},
   "source": [
    "<div class=\"alert alert-block alert-info\">\n",
    "Exercise : Import the customers' demand"
   ]
  },
  {
   "cell_type": "code",
   "execution_count": null,
   "id": "fbd0eb3f",
   "metadata": {},
   "outputs": [],
   "source": []
  },
  {
   "cell_type": "markdown",
   "id": "cb74eca2",
   "metadata": {},
   "source": [
    "# 4. Data analysis"
   ]
  },
  {
   "cell_type": "markdown",
   "id": "501d0827",
   "metadata": {},
   "source": [
    "<div class=\"alert alert-block alert-info\">\n",
    "Exercise : Compute the total demand "
   ]
  },
  {
   "cell_type": "code",
   "execution_count": null,
   "id": "3006161e",
   "metadata": {},
   "outputs": [],
   "source": []
  },
  {
   "cell_type": "markdown",
   "id": "a4e7ad9e",
   "metadata": {},
   "source": [
    "<div class=\"alert alert-block alert-info\">\n",
    "Exercise : Draw the demand markets on pie chart"
   ]
  },
  {
   "cell_type": "code",
   "execution_count": null,
   "id": "19b5716d",
   "metadata": {},
   "outputs": [],
   "source": []
  },
  {
   "cell_type": "markdown",
   "id": "14427101",
   "metadata": {},
   "source": [
    "<div class=\"alert alert-block alert-info\">\n",
    "Exercise : Draw the manufacturing sites capacity on bar chart and compare it to the markets' demand"
   ]
  },
  {
   "cell_type": "code",
   "execution_count": null,
   "id": "0fd3e749",
   "metadata": {},
   "outputs": [],
   "source": []
  },
  {
   "cell_type": "markdown",
   "id": "be3dc458",
   "metadata": {},
   "source": [
    "<div class=\"alert alert-block alert-info\">\n",
    "Exercise : Draw the fixed costs manufacturing sites on bar chart"
   ]
  },
  {
   "cell_type": "code",
   "execution_count": null,
   "id": "78baf9b4",
   "metadata": {},
   "outputs": [],
   "source": []
  },
  {
   "cell_type": "markdown",
   "id": "6be88cbc",
   "metadata": {},
   "source": [
    "<div class=\"alert alert-block alert-info\">\n",
    "Exercise : Draw the variable production costs for each country on bar chart"
   ]
  },
  {
   "cell_type": "code",
   "execution_count": null,
   "id": "e7f77b06",
   "metadata": {},
   "outputs": [],
   "source": []
  },
  {
   "cell_type": "markdown",
   "id": "bad95096",
   "metadata": {},
   "source": [
    "# 5. Optimization -- Build the model"
   ]
  },
  {
   "cell_type": "code",
   "execution_count": null,
   "id": "20c1267b",
   "metadata": {},
   "outputs": [],
   "source": [
    "#install the solver package\n",
    "#!pip install gurobipy\n",
    "\n",
    "# Import gurobi modeler functions\n",
    "from gurobipy import *"
   ]
  },
  {
   "cell_type": "markdown",
   "id": "cd23d398",
   "metadata": {},
   "source": [
    "<div class=\"alert alert-block alert-info\">\n",
    "Exercise : Create a 'model' variable and define your decision variables"
   ]
  },
  {
   "cell_type": "code",
   "execution_count": null,
   "id": "8a643f74",
   "metadata": {},
   "outputs": [],
   "source": []
  },
  {
   "cell_type": "markdown",
   "id": "9343536a",
   "metadata": {},
   "source": [
    "<div class=\"alert alert-block alert-info\">\n",
    "Exercise : Define the capacity level selection constraint"
   ]
  },
  {
   "cell_type": "code",
   "execution_count": null,
   "id": "81141bcd",
   "metadata": {},
   "outputs": [],
   "source": []
  },
  {
   "cell_type": "markdown",
   "id": "8f15b747",
   "metadata": {},
   "source": [
    "<div class=\"alert alert-block alert-info\">\n",
    "Exercise : Define the capacity restriction capacity on production site"
   ]
  },
  {
   "cell_type": "code",
   "execution_count": null,
   "id": "390570a1",
   "metadata": {},
   "outputs": [],
   "source": []
  },
  {
   "cell_type": "markdown",
   "id": "4fce6558",
   "metadata": {},
   "source": [
    "<div class=\"alert alert-block alert-info\">\n",
    "Exercise : Define the covering demand constraint"
   ]
  },
  {
   "cell_type": "code",
   "execution_count": null,
   "id": "a0ec91e9",
   "metadata": {},
   "outputs": [],
   "source": []
  },
  {
   "cell_type": "markdown",
   "id": "e7d59d5a",
   "metadata": {},
   "source": [
    "<div class=\"alert alert-block alert-info\">\n",
    "Exercise : Define the problem objective function, consider expression from gurobi, save into lp and solve the model"
   ]
  },
  {
   "cell_type": "code",
   "execution_count": null,
   "id": "7843bb13",
   "metadata": {},
   "outputs": [],
   "source": []
  },
  {
   "cell_type": "code",
   "execution_count": null,
   "id": "e5531688",
   "metadata": {},
   "outputs": [],
   "source": []
  },
  {
   "cell_type": "code",
   "execution_count": null,
   "id": "5119336a",
   "metadata": {
    "scrolled": true
   },
   "outputs": [],
   "source": []
  },
  {
   "cell_type": "markdown",
   "id": "80bcc281",
   "metadata": {},
   "source": [
    "<div class=\"alert alert-block alert-info\">\n",
    "Exercise : Print out the results"
   ]
  },
  {
   "cell_type": "code",
   "execution_count": null,
   "id": "2c7671d1",
   "metadata": {},
   "outputs": [],
   "source": []
  },
  {
   "cell_type": "code",
   "execution_count": null,
   "id": "ceae4cae",
   "metadata": {},
   "outputs": [],
   "source": []
  },
  {
   "cell_type": "markdown",
   "id": "b76cc1ab",
   "metadata": {},
   "source": [
    "<div class=\"alert alert-block alert-info\">\n",
    "Exercise : Analyze the results, comment and, check the capacity utilization"
   ]
  },
  {
   "cell_type": "code",
   "execution_count": null,
   "id": "4f14a60e",
   "metadata": {},
   "outputs": [],
   "source": []
  },
  {
   "cell_type": "markdown",
   "id": "5a8c4056",
   "metadata": {},
   "source": [
    " <div class=\"alert alert-block alert-info\">\n",
    "Exercise : what is the limit of the solution: what if the demand increases +10% in x , +20% in x "
   ]
  },
  {
   "cell_type": "code",
   "execution_count": null,
   "id": "9ae9e951",
   "metadata": {},
   "outputs": [],
   "source": []
  },
  {
   "cell_type": "markdown",
   "id": "5776f118",
   "metadata": {},
   "source": [
    "<div class=\"alert alert-block alert-info\">\n",
    "Exercise : Scenario 2: Redo the network optimization by considering the production of India by 2"
   ]
  },
  {
   "cell_type": "code",
   "execution_count": null,
   "id": "67802161",
   "metadata": {},
   "outputs": [],
   "source": []
  },
  {
   "cell_type": "markdown",
   "id": "0be78e57",
   "metadata": {},
   "source": [
    "<div class=\"alert alert-block alert-info\">\n",
    "Exercise : Scenario 3: Redo the network optimization by explosing the shipping costs"
   ]
  },
  {
   "cell_type": "code",
   "execution_count": null,
   "id": "7a7353c6",
   "metadata": {},
   "outputs": [],
   "source": []
  },
  {
   "cell_type": "markdown",
   "id": "6d270ef0",
   "metadata": {},
   "source": [
    "# 6. Simulation "
   ]
  },
  {
   "cell_type": "markdown",
   "id": "9226e3da",
   "metadata": {},
   "source": [
    "We cannot rely on a single solution and expect that our network will absorb the demand throughout the year.\n",
    "\n",
    "Usually, these parameters are calculated based on the yearly average of the sales.\n",
    "\n",
    "Let’s simulate this demand variability and see the impact on the network design.\n",
    "\n",
    "\n",
    "## Generate 50 scenarios\n",
    "\n",
    "We will assume that the demand is following a normal distribution with a coefficient of variation CV = 0.5. (You can adapt the distribution to your needs)\n"
   ]
  },
  {
   "cell_type": "markdown",
   "id": "de256278",
   "metadata": {},
   "source": [
    "<div class=\"alert alert-block alert-info\">\n",
    "Exercise : Generate 10 scenarios of customers' demand, solve each of the scenarios, and save the obtained solution for each scenario"
   ]
  },
  {
   "cell_type": "code",
   "execution_count": null,
   "id": "00cf6ff6",
   "metadata": {},
   "outputs": [],
   "source": []
  },
  {
   "cell_type": "markdown",
   "id": "df4958be",
   "metadata": {},
   "source": [
    "<div class=\"alert alert-block alert-info\">\n",
    "Exercise : Compare the solution obtained from each scenario and take a decision"
   ]
  },
  {
   "cell_type": "code",
   "execution_count": null,
   "id": "33a4524b",
   "metadata": {},
   "outputs": [],
   "source": []
  },
  {
   "cell_type": "markdown",
   "id": "581b9f89",
   "metadata": {},
   "source": [
    "# 7. Visualization "
   ]
  },
  {
   "cell_type": "code",
   "execution_count": null,
   "id": "a7158600",
   "metadata": {},
   "outputs": [],
   "source": [
    "!pip install folium\n",
    "\n",
    "import folium\n",
    "# define the world map\n",
    "world_map = folium.Map(tiles='cartodb positron')\n",
    "\n",
    "# display world map\n",
    "world_map"
   ]
  },
  {
   "cell_type": "code",
   "execution_count": null,
   "id": "840457b5",
   "metadata": {},
   "outputs": [],
   "source": [
    "# San Francisco latitude and longitude values\n",
    "#latitude = 37.77\n",
    "#longitude = -122.42\n",
    "\n",
    "# create map and display it\n",
    "#sanfran_map = folium.Map(location=[latitude, longitude], zoom_start=12)\n",
    "\n",
    "# display the map of San Francisco\n",
    "#sanfran_map"
   ]
  },
  {
   "cell_type": "code",
   "execution_count": null,
   "id": "a231f8ba",
   "metadata": {},
   "outputs": [],
   "source": [
    "# import pandas library\n",
    "import pandas as pd\n",
    "\n",
    "# Make a data frame with dots to show on the map \n",
    "data = pd.DataFrame({\n",
    "    'lat':[36.966428,-14.242915,51.095123, 21.7679,34.886306],\n",
    "    'lon':[-95.844032, -53.189266, 10.271483, 78.8718, 134.379711],\n",
    "    'name':['USA', 'Brazil', 'Germany', 'India', 'Japan']},\n",
    " dtype=str)\n",
    "\n",
    "data\n",
    "# create map and display it\n",
    "#sanfran_map = folium.Map(location=USA, zoom_start=2)\n",
    "\n",
    "# display the map of San Francisco\n",
    "#sanfran_map"
   ]
  },
  {
   "cell_type": "code",
   "execution_count": null,
   "id": "1a8db326",
   "metadata": {
    "scrolled": true
   },
   "outputs": [],
   "source": [
    "# add marker one by one on the map\n",
    "for i in range(0,len(data)):\n",
    "   folium.Marker(\n",
    "      location=[data.iloc[i]['lat'], data.iloc[i]['lon']],\n",
    "      popup=data.iloc[i]['name'],\n",
    "   ).add_to(world_map)\n",
    "\n",
    "# Show the map again\n",
    "world_map\n"
   ]
  },
  {
   "cell_type": "code",
   "execution_count": null,
   "id": "62b50a07",
   "metadata": {},
   "outputs": [],
   "source": [
    "#save map as standalone html file if needed\n",
    "world_map.save('../../static/interactiveCharts/312-add-markers-on-folium-map.html')"
   ]
  }
 ],
 "metadata": {
  "kernelspec": {
   "display_name": "Python 3 (ipykernel)",
   "language": "python",
   "name": "python3"
  },
  "language_info": {
   "codemirror_mode": {
    "name": "ipython",
    "version": 3
   },
   "file_extension": ".py",
   "mimetype": "text/x-python",
   "name": "python",
   "nbconvert_exporter": "python",
   "pygments_lexer": "ipython3",
   "version": "3.9.7"
  }
 },
 "nbformat": 4,
 "nbformat_minor": 5
}
