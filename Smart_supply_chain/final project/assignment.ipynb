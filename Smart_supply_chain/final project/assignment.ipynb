{
 "cells": [
  {
   "cell_type": "markdown",
   "metadata": {},
   "source": [
    "# Team member:\n",
    "- Fulin ZHANG\n",
    "- Ruicong WANG\n",
    "- Yuekai FENG"
   ]
  },
  {
   "cell_type": "code",
   "execution_count": 45,
   "metadata": {},
   "outputs": [],
   "source": [
    "import matplotlib.pyplot as plt"
   ]
  },
  {
   "cell_type": "markdown",
   "metadata": {},
   "source": [
    "# 3. Importing & loading data"
   ]
  },
  {
   "cell_type": "markdown",
   "metadata": {},
   "source": [
    "## Structure of network"
   ]
  },
  {
   "cell_type": "code",
   "execution_count": 46,
   "metadata": {},
   "outputs": [],
   "source": [
    "markets = ['c1','c2','c3','c4','c5','c6','c7','c8'] # Country 1-8\n",
    "plants = ['c1','c2','c3','c4','c5','c6'] # Country 1-6"
   ]
  },
  {
   "cell_type": "markdown",
   "metadata": {},
   "source": [
    "## Capacity"
   ]
  },
  {
   "cell_type": "code",
   "execution_count": 47,
   "metadata": {},
   "outputs": [],
   "source": [
    "manufacturing_capacity = {\n",
    "    'c1' : 1725,\n",
    "    'c2' : 800,\n",
    "    'c3' : 5286,\n",
    "    'c4' : 483,\n",
    "    'c5' : 1050,\n",
    "    'c6' : 2334,\n",
    "}"
   ]
  },
  {
   "cell_type": "markdown",
   "metadata": {},
   "source": [
    "## Fixed operating cost"
   ]
  },
  {
   "cell_type": "code",
   "execution_count": 48,
   "metadata": {},
   "outputs": [],
   "source": [
    "prod_fixed_costs = {\n",
    "    'c1' : 1380000,\n",
    "    'c2' : 1050000,\n",
    "    'c3' : 3171600,\n",
    "    'c4' : 618240,\n",
    "    'c5' : 1785000,\n",
    "    'c6' : 1633800\n",
    "}"
   ]
  },
  {
   "cell_type": "markdown",
   "metadata": {},
   "source": [
    "## Demands"
   ]
  },
  {
   "cell_type": "code",
   "execution_count": 49,
   "metadata": {},
   "outputs": [],
   "source": [
    "demand_markets = {\n",
    "    'c1' : 1120,\n",
    "    'c2' : 425,\n",
    "    'c3' : 3225,\n",
    "    'c4' : 292,\n",
    "    'c5' : 684,\n",
    "    'c6' : 2065,\n",
    "    'c7' : 247,\n",
    "    'c8' : 180\n",
    "}"
   ]
  },
  {
   "cell_type": "markdown",
   "metadata": {},
   "source": [
    "## Landed Cost"
   ]
  },
  {
   "cell_type": "code",
   "execution_count": 50,
   "metadata": {},
   "outputs": [],
   "source": [
    "shipping_variable_costs = {\n",
    "    #        c1    c2    c3    c4    c5    c6    c7    c8\n",
    "    'c1' : [4840, 4900, 5484, 5501, 5182, 5050, 5152, 5172],\n",
    "    'c2' : [5250, 5180, 5838, 5872, 5415, 5350, 5509, 5519],\n",
    "    'c3' : [5030, 5508, 4880, 5626, 5236, 5080, 5030, 5314],\n",
    "    'c4' : [5020, 5504, 5594, 4940, 5198, 5140, 5020, 5297],\n",
    "    'c5' : [5191, 5708, 5788, 5830, 5071, 5311, 5211, 5425],\n",
    "    'c6' : [5423, 5655, 5775, 5776, 5436, 5050, 5170, 5493]\n",
    "}"
   ]
  },
  {
   "cell_type": "markdown",
   "metadata": {},
   "source": [
    "## Lead Time Matrix"
   ]
  },
  {
   "cell_type": "code",
   "execution_count": 51,
   "metadata": {},
   "outputs": [],
   "source": [
    "lead_time_matrix = {\n",
    "    #      c1  c2  c3  c4  c5  c6  c7  c8\n",
    "    'c1': [ 7, 18, 24, 14, 31, 31, 14, 39],\n",
    "    'c2': [12,  7, 15, 12, 25, 20, 12, 25],\n",
    "    'c3': [16, 15,  7, 16, 27, 25, 16, 29],\n",
    "    'c4': [18, 20, 27,  7, 31, 21, 21, 23],\n",
    "    'c5': [31, 38, 38, 38,  7, 38, 38, 24],\n",
    "    'c6': [36, 40, 33, 32, 44,  7, 40, 49]\n",
    "    }\n",
    "\n",
    "# Max lead time allowed is 30 days."
   ]
  },
  {
   "cell_type": "markdown",
   "metadata": {},
   "source": [
    "# 4. Data analysis"
   ]
  },
  {
   "cell_type": "code",
   "execution_count": 52,
   "metadata": {},
   "outputs": [
    {
     "name": "stdout",
     "output_type": "stream",
     "text": [
      "total demande in the market is  8238\n"
     ]
    }
   ],
   "source": [
    "total_demand = 0\n",
    "for key,value in demand_markets.items():\n",
    "    total_demand += value\n",
    "\n",
    "print(\"total demande in the market is \", total_demand)"
   ]
  },
  {
   "cell_type": "code",
   "execution_count": 53,
   "metadata": {},
   "outputs": [
    {
     "name": "stdout",
     "output_type": "stream",
     "text": [
      "total capacity of the plants is  11678\n"
     ]
    }
   ],
   "source": [
    "total_capacity = 0\n",
    "for key,value in manufacturing_capacity.items():\n",
    "    total_capacity += value\n",
    "\n",
    "print(\"total capacity of the plants is \", total_capacity)"
   ]
  },
  {
   "cell_type": "code",
   "execution_count": 54,
   "metadata": {},
   "outputs": [
    {
     "name": "stdout",
     "output_type": "stream",
     "text": [
      "Total cost before optimization is: 50537164\n"
     ]
    }
   ],
   "source": [
    "# Initialize the total cost variable\n",
    "total_cost_before_optimization = 0\n",
    "\n",
    "\n",
    "# Add fixed costs\n",
    "for value in prod_fixed_costs.values():\n",
    "    total_cost_before_optimization += value\n",
    "\n",
    "# Current supply chain\n",
    "current_supply_chain = {\n",
    "    'c1': {'c1': 1120},\n",
    "    'c2': {'c2': 425},\n",
    "    'c3': {'c3': 3225, 'c7': 247, 'c8': 180},\n",
    "    'c4': {'c4': 292},\n",
    "    'c5': {'c5': 684},\n",
    "    'c6': {'c6': 2065}\n",
    "}\n",
    "\n",
    "# Add shipping costs\n",
    "for country, markets_dict in current_supply_chain.items():\n",
    "    for market, amount in markets_dict.items():\n",
    "        market_index = markets.index(market)\n",
    "        total_cost_before_optimization += amount * shipping_variable_costs[country][market_index]\n",
    "\n",
    "print(\"Total cost before optimization is:\", total_cost_before_optimization)\n"
   ]
  },
  {
   "cell_type": "markdown",
   "metadata": {},
   "source": [
    "# 5. Optimization -- Build the model"
   ]
  },
  {
   "cell_type": "markdown",
   "metadata": {},
   "source": [
    "Decidions to make：\n",
    "1. Maximize utilization of production capacity\n",
    "2. Minimize costs\n",
    "\n",
    "restrictions:\n",
    "\n",
    "1. reserve 700t of idle production capacity\n",
    "2. Delivery time must not be longer than 30 days\n",
    "3. Market demand coverage"
   ]
  },
  {
   "cell_type": "code",
   "execution_count": 55,
   "metadata": {},
   "outputs": [],
   "source": [
    "from gurobipy import Model, quicksum, GRB"
   ]
  },
  {
   "cell_type": "code",
   "execution_count": 56,
   "metadata": {},
   "outputs": [
    {
     "name": "stdout",
     "output_type": "stream",
     "text": [
      "Restricted license - for non-production use only - expires 2025-11-24\n"
     ]
    }
   ],
   "source": [
    "supplyChainModel = Model('SupplyChainOptimization')\n",
    "\n",
    "# add a a binary variable for each plant to indicate if it should be open or not\n",
    "openVar = supplyChainModel.addVars(plants, vtype=GRB.BINARY, name='open')\n",
    "\n",
    "# add a continuous variable for the production of each plant to each market\n",
    "# for example, the variable productionVar['c1','c1'] is the production of plant c1 to market c1\n",
    "allocationVar = supplyChainModel.addVars(markets, markets, vtype=GRB.CONTINUOUS, name='allocation')"
   ]
  },
  {
   "cell_type": "code",
   "execution_count": 57,
   "metadata": {},
   "outputs": [
    {
     "data": {
      "text/plain": [
       "{'c1': <gurobi.Constr *Awaiting Model Update*>,\n",
       " 'c2': <gurobi.Constr *Awaiting Model Update*>,\n",
       " 'c3': <gurobi.Constr *Awaiting Model Update*>,\n",
       " 'c4': <gurobi.Constr *Awaiting Model Update*>,\n",
       " 'c5': <gurobi.Constr *Awaiting Model Update*>,\n",
       " 'c6': <gurobi.Constr *Awaiting Model Update*>}"
      ]
     },
     "execution_count": 57,
     "metadata": {},
     "output_type": "execute_result"
    }
   ],
   "source": [
    "# Constraint 1:\n",
    "# The sum of production of each plant should be less than the manufacturing capacity of the plant\n",
    "\n",
    "supplyChainModel.addConstrs(\n",
    "    (quicksum(allocationVar[plant_id, market_id] for market_id in markets) \n",
    "     <= \n",
    "     manufacturing_capacity[plant_id]\n",
    "     for plant_id in plants),\n",
    "    \"CapacityConstraint\"\n",
    ")"
   ]
  },
  {
   "cell_type": "code",
   "execution_count": 58,
   "metadata": {},
   "outputs": [
    {
     "data": {
      "text/plain": [
       "{'c1': <gurobi.Constr *Awaiting Model Update*>,\n",
       " 'c2': <gurobi.Constr *Awaiting Model Update*>,\n",
       " 'c3': <gurobi.Constr *Awaiting Model Update*>,\n",
       " 'c4': <gurobi.Constr *Awaiting Model Update*>,\n",
       " 'c5': <gurobi.Constr *Awaiting Model Update*>,\n",
       " 'c6': <gurobi.Constr *Awaiting Model Update*>,\n",
       " 'c7': <gurobi.Constr *Awaiting Model Update*>,\n",
       " 'c8': <gurobi.Constr *Awaiting Model Update*>}"
      ]
     },
     "execution_count": 58,
     "metadata": {},
     "output_type": "execute_result"
    }
   ],
   "source": [
    "# Constraint 2:\n",
    "# The sum of production of all plants should cover the sum of demand of each market\n",
    "\n",
    "supplyChainModel.addConstrs(\n",
    "    (quicksum(allocationVar[plant_id, market_id] for plant_id in plants) \n",
    "     >= \n",
    "     demand_markets[market_id]\n",
    "     for market_id in markets),\n",
    "    \"DemandConstraint\"\n",
    ")"
   ]
  },
  {
   "cell_type": "code",
   "execution_count": 59,
   "metadata": {},
   "outputs": [
    {
     "data": {
      "text/plain": [
       "{('c1', 'c5'): <gurobi.Constr *Awaiting Model Update*>,\n",
       " ('c1', 'c6'): <gurobi.Constr *Awaiting Model Update*>,\n",
       " ('c1', 'c8'): <gurobi.Constr *Awaiting Model Update*>,\n",
       " ('c4', 'c5'): <gurobi.Constr *Awaiting Model Update*>,\n",
       " ('c5', 'c1'): <gurobi.Constr *Awaiting Model Update*>,\n",
       " ('c5', 'c2'): <gurobi.Constr *Awaiting Model Update*>,\n",
       " ('c5', 'c3'): <gurobi.Constr *Awaiting Model Update*>,\n",
       " ('c5', 'c4'): <gurobi.Constr *Awaiting Model Update*>,\n",
       " ('c5', 'c6'): <gurobi.Constr *Awaiting Model Update*>,\n",
       " ('c5', 'c7'): <gurobi.Constr *Awaiting Model Update*>,\n",
       " ('c6', 'c1'): <gurobi.Constr *Awaiting Model Update*>,\n",
       " ('c6', 'c2'): <gurobi.Constr *Awaiting Model Update*>,\n",
       " ('c6', 'c3'): <gurobi.Constr *Awaiting Model Update*>,\n",
       " ('c6', 'c4'): <gurobi.Constr *Awaiting Model Update*>,\n",
       " ('c6', 'c5'): <gurobi.Constr *Awaiting Model Update*>,\n",
       " ('c6', 'c7'): <gurobi.Constr *Awaiting Model Update*>,\n",
       " ('c6', 'c8'): <gurobi.Constr *Awaiting Model Update*>}"
      ]
     },
     "execution_count": 59,
     "metadata": {},
     "output_type": "execute_result"
    }
   ],
   "source": [
    "# Constraint 3:\n",
    "# If the lead time for a plant to a market is greater than 30 days, then the production should be 0\n",
    "\n",
    "supplyChainModel.addConstrs(\n",
    "    (allocationVar[plant_id, market_id] == 0\n",
    "     for plant_id in plants for market_id in markets if lead_time_matrix[plant_id][markets.index(market_id)] > 30),\n",
    "    \"LeadTimeConstraint\"\n",
    ")"
   ]
  },
  {
   "cell_type": "code",
   "execution_count": 60,
   "metadata": {},
   "outputs": [
    {
     "data": {
      "text/plain": [
       "<gurobi.Constr *Awaiting Model Update*>"
      ]
     },
     "execution_count": 60,
     "metadata": {},
     "output_type": "execute_result"
    }
   ],
   "source": [
    "# Constraint 4:\n",
    "# Should have at least 700 units of spare capacity after meeting the demand\n",
    "\n",
    "supplyChainModel.addConstr(\n",
    "    quicksum(manufacturing_capacity[plant_id] for plant_id in plants) - \n",
    "    quicksum(allocationVar[plant_id, market_id] for plant_id in plants for market_id in markets)\n",
    "    >= 700,\n",
    "    \"TotalSpareCapacityConstraint\"\n",
    ")"
   ]
  },
  {
   "cell_type": "code",
   "execution_count": 61,
   "metadata": {},
   "outputs": [],
   "source": [
    "# Constraint 5:\n",
    "# If a plant is not open, then the production should be 0\n",
    "\n",
    "for plant_id in plants:\n",
    "    supplyChainModel.addConstr(\n",
    "        quicksum(allocationVar[plant_id, market_id] for market_id in markets) <= manufacturing_capacity[plant_id] * openVar[plant_id],\n",
    "        name=f\"CapacityUtilization_{plant_id}\"\n",
    "    )"
   ]
  },
  {
   "cell_type": "code",
   "execution_count": 62,
   "metadata": {},
   "outputs": [],
   "source": [
    "# shipping cost = shipping_variable_costs * allocationVar\n",
    "total_shipping_cost = quicksum(\n",
    "    shipping_variable_costs[plant_id][markets.index(market_id)] * allocationVar[plant_id, market_id]\n",
    "    for plant_id in plants for market_id in markets\n",
    ")\n",
    "\n",
    "# fixed cost = openVar * prod_fixed_costs\n",
    "total_fixed_cost_with_opening = quicksum(openVar[plant_id] * prod_fixed_costs[plant_id] for plant_id in plants)\n",
    "\n",
    "total_cost = total_shipping_cost + total_fixed_cost_with_opening\n",
    "\n",
    "# 设置模型的目标\n",
    "supplyChainModel.setObjective(total_cost, GRB.MINIMIZE)\n"
   ]
  },
  {
   "cell_type": "code",
   "execution_count": 63,
   "metadata": {},
   "outputs": [
    {
     "name": "stdout",
     "output_type": "stream",
     "text": [
      "Gurobi Optimizer version 11.0.0 build v11.0.0rc2 (mac64[arm] - Darwin 23.2.0 23C71)\n",
      "\n",
      "CPU model: Apple M3 Pro\n",
      "Thread count: 12 physical cores, 12 logical processors, using up to 12 threads\n",
      "\n",
      "Optimize a model with 38 rows, 70 columns and 215 nonzeros\n",
      "Model fingerprint: 0x04c50618\n",
      "Variable types: 64 continuous, 6 integer (6 binary)\n",
      "Coefficient statistics:\n",
      "  Matrix range     [1e+00, 5e+03]\n",
      "  Objective range  [5e+03, 3e+06]\n",
      "  Bounds range     [1e+00, 1e+00]\n",
      "  RHS range        [2e+02, 1e+04]\n",
      "Presolve removed 24 rows and 35 columns\n",
      "Presolve time: 0.00s\n",
      "Presolved: 14 rows, 35 columns, 92 nonzeros\n",
      "Variable types: 30 continuous, 5 integer (5 binary)\n",
      "Found heuristic solution: objective 4.936499e+07\n",
      "\n",
      "Root relaxation: objective 4.658442e+07, 18 iterations, 0.00 seconds (0.00 work units)\n",
      "\n",
      "    Nodes    |    Current Node    |     Objective Bounds      |     Work\n",
      " Expl Unexpl |  Obj  Depth IntInf | Incumbent    BestBd   Gap | It/Node Time\n",
      "\n",
      "     0     0 4.6584e+07    0    3 4.9365e+07 4.6584e+07  5.63%     -    0s\n",
      "H    0     0                    4.772452e+07 4.6584e+07  2.39%     -    0s\n",
      "H    0     0                    4.725560e+07 4.6584e+07  1.42%     -    0s\n",
      "     0     0 4.7099e+07    0    2 4.7256e+07 4.7099e+07  0.33%     -    0s\n",
      "\n",
      "Cutting planes:\n",
      "  Gomory: 2\n",
      "  Implied bound: 3\n",
      "  MIR: 1\n",
      "  Flow cover: 1\n",
      "\n",
      "Explored 1 nodes (22 simplex iterations) in 0.05 seconds (0.00 work units)\n",
      "Thread count was 12 (of 12 available processors)\n",
      "\n",
      "Solution count 3: 4.72556e+07 4.77245e+07 4.9365e+07 \n",
      "\n",
      "Optimal solution found (tolerance 1.00e-04)\n",
      "Best objective 4.725559600000e+07, best bound 4.725559600000e+07, gap 0.0000%\n"
     ]
    }
   ],
   "source": [
    "supplyChainModel.optimize()"
   ]
  },
  {
   "cell_type": "code",
   "execution_count": 64,
   "metadata": {},
   "outputs": [
    {
     "name": "stdout",
     "output_type": "stream",
     "text": [
      "total cost before optimization is  50537164\n",
      "total cost after optimization is  47255596.0\n",
      "\n",
      "Saving is  3281568.0\n"
     ]
    }
   ],
   "source": [
    "print(\"total cost before optimization is \", total_cost_before_optimization)\n",
    "print(\"total cost after optimization is \",supplyChainModel.ObjVal)\n",
    "\n",
    "print(\"\\nSaving is \", total_cost_before_optimization - supplyChainModel.ObjVal)"
   ]
  },
  {
   "cell_type": "code",
   "execution_count": 65,
   "metadata": {},
   "outputs": [
    {
     "data": {
      "text/plain": [
       "41070196.0"
      ]
     },
     "execution_count": 65,
     "metadata": {},
     "output_type": "execute_result"
    }
   ],
   "source": [
    "total_shipping_cost.getValue()"
   ]
  },
  {
   "cell_type": "code",
   "execution_count": 66,
   "metadata": {},
   "outputs": [
    {
     "name": "stdout",
     "output_type": "stream",
     "text": [
      "plant: c1 market : c1   1120.0\n",
      "plant: c1 market : c2   425.0\n",
      "plant: c1 market : c4   180.0\n",
      "plant: c3 market : c3   3225.0\n",
      "plant: c3 market : c4   112.0\n",
      "plant: c3 market : c5   684.0\n",
      "plant: c3 market : c7   247.0\n",
      "plant: c3 market : c8   180.0\n",
      "plant: c6 market : c6   2065.0\n",
      "total capacity: 8238.0\n"
     ]
    }
   ],
   "source": [
    "total_capacity = 0\n",
    "\n",
    "for plant_id in plants:\n",
    "    for market_id in markets:\n",
    "        if allocationVar[plant_id, market_id].X != 0:\n",
    "            print('plant:',plant_id,'market :',market_id,' ', allocationVar[plant_id, market_id].X)\n",
    "            total_capacity += allocationVar[plant_id, market_id].X\n",
    "\n",
    "print('total capacity:', total_capacity)"
   ]
  },
  {
   "cell_type": "code",
   "execution_count": 67,
   "metadata": {},
   "outputs": [
    {
     "name": "stdout",
     "output_type": "stream",
     "text": [
      "plant: c1   Open\n",
      "plant: c2   Close\n",
      "plant: c3   Open\n",
      "plant: c4   Close\n",
      "plant: c5   Close\n",
      "plant: c6   Open\n"
     ]
    }
   ],
   "source": [
    "# plants opening status\n",
    "for plant_id in plants:\n",
    "    print('plant:',plant_id,' ',\"Open\" if openVar[plant_id].X == 1 else \"Close\")"
   ]
  }
 ],
 "metadata": {
  "kernelspec": {
   "display_name": "base",
   "language": "python",
   "name": "python3"
  },
  "language_info": {
   "codemirror_mode": {
    "name": "ipython",
    "version": 3
   },
   "file_extension": ".py",
   "mimetype": "text/x-python",
   "name": "python",
   "nbconvert_exporter": "python",
   "pygments_lexer": "ipython3",
   "version": "3.11.7"
  }
 },
 "nbformat": 4,
 "nbformat_minor": 2
}
