{
 "cells": [
  {
   "cell_type": "markdown",
   "id": "equipped-heaven",
   "metadata": {},
   "source": [
    "## <span style=\"color:red\"> Homework 3 </span>"
   ]
  },
  {
   "cell_type": "markdown",
   "id": "palestinian-expert",
   "metadata": {},
   "source": [
    "With your toy dataset, now select an appropriate quantitative outcome - the same one you used for the homework on regression or another. <br> \n",
    "All the other variables are to be used as predictors. <br>\n",
    "Be careful: ID variables should not be part of the modeling !\n",
    "\n",
    "### Step 1 : Reading Assignment\n",
    "\n",
    "As usual, the reading assignment is part of the next quiz\n",
    "\n",
    "Read Section 8.2 (pp 343-354) of our Textbook [An Introduction to Statistical Learning - with Applications in Python](https://www.statlearning.com/)\n",
    "\n",
    "### Step 2 : Handling categorical data\n",
    "\n",
    "There are mainly two ways of handling categorical data :\n",
    "\n",
    "1. One-hot encoding (OHE). Use pd.get_dummies or sklearn `OneHotEncoder modules`.<br>\n",
    "    a. First explain what OHE accomplishes, in a small paragraph with its up and down sides.<br>\n",
    "    b. Apply OHE to all of your categorical variables.<br>\n",
    "    \n",
    "2. Numericalization. Use sklearn LabelEncoder or better yet the method `astype('category')` followed by the attributes `.cat.codes` <br>\n",
    "    a. First explain what numericalization entails with its up and down sides. <br>\n",
    "    b. Apply numericalization on your chosen categorical variables. <br>"
   ]
  },
  {
   "cell_type": "code",
   "execution_count": 1,
   "id": "3accaab8",
   "metadata": {},
   "outputs": [
    {
     "data": {
      "text/html": [
       "\n",
       "                <script type=\"application/javascript\" id=\"jupyter_black\">\n",
       "                (function() {\n",
       "                    if (window.IPython === undefined) {\n",
       "                        return\n",
       "                    }\n",
       "                    var msg = \"WARNING: it looks like you might have loaded \" +\n",
       "                        \"jupyter_black in a non-lab notebook with \" +\n",
       "                        \"`is_lab=True`. Please double check, and if \" +\n",
       "                        \"loading with `%load_ext` please review the README!\"\n",
       "                    console.log(msg)\n",
       "                    alert(msg)\n",
       "                })()\n",
       "                </script>\n",
       "                "
      ],
      "text/plain": [
       "<IPython.core.display.HTML object>"
      ]
     },
     "metadata": {},
     "output_type": "display_data"
    }
   ],
   "source": [
    "# Packages\n",
    "import pandas as pd\n",
    "import jupyter_black\n",
    "\n",
    "jupyter_black.load()\n",
    "import os"
   ]
  },
  {
   "cell_type": "code",
   "execution_count": 2,
   "id": "a24ead8b",
   "metadata": {},
   "outputs": [
    {
     "data": {
      "text/plain": [
       "'/Users/fulin/Documents/GitHub/EMLyon_DSAIS/Elementary_models/homework_version2'"
      ]
     },
     "execution_count": 2,
     "metadata": {},
     "output_type": "execute_result"
    }
   ],
   "source": [
    "os.getcwd()"
   ]
  },
  {
   "cell_type": "code",
   "execution_count": 3,
   "id": "6d061d83",
   "metadata": {},
   "outputs": [],
   "source": [
    "PATH = os.path.join(os.getcwd(), \"data\")"
   ]
  },
  {
   "cell_type": "code",
   "execution_count": 4,
   "id": "44b92a94",
   "metadata": {},
   "outputs": [],
   "source": [
    "# read csv\n",
    "os.chdir(PATH)\n",
    "df = pd.read_csv(\"customer_data_cbn.csv\")"
   ]
  },
  {
   "cell_type": "code",
   "execution_count": 5,
   "id": "c826c97c",
   "metadata": {},
   "outputs": [
    {
     "name": "stdout",
     "output_type": "stream",
     "text": [
      "<class 'pandas.core.frame.DataFrame'>\n",
      "RangeIndex: 12873 entries, 0 to 12872\n",
      "Data columns (total 20 columns):\n",
      " #   Column                         Non-Null Count  Dtype  \n",
      "---  ------                         --------------  -----  \n",
      " 0   account_length                 12873 non-null  float64\n",
      " 1   number_vmail_messages          12873 non-null  float64\n",
      " 2   total_day_minutes              12873 non-null  float64\n",
      " 3   total_day_calls                12873 non-null  float64\n",
      " 4   total_day_charge               12873 non-null  float64\n",
      " 5   total_eve_minutes              12873 non-null  float64\n",
      " 6   total_eve_calls                12873 non-null  float64\n",
      " 7   total_eve_charge               12873 non-null  float64\n",
      " 8   total_night_minutes            12873 non-null  float64\n",
      " 9   total_night_calls              12873 non-null  float64\n",
      " 10  total_night_charge             12873 non-null  float64\n",
      " 11  total_intl_minutes             12873 non-null  float64\n",
      " 12  total_intl_calls               12873 non-null  float64\n",
      " 13  total_intl_charge              12873 non-null  float64\n",
      " 14  number_customer_service_calls  12873 non-null  float64\n",
      " 15  state                          12873 non-null  object \n",
      " 16  area_code                      12873 non-null  float64\n",
      " 17  international_plan             12873 non-null  object \n",
      " 18  voice_mail_plan                12873 non-null  object \n",
      " 19  churn                          12873 non-null  object \n",
      "dtypes: float64(16), object(4)\n",
      "memory usage: 2.0+ MB\n"
     ]
    }
   ],
   "source": [
    "df.info()"
   ]
  },
  {
   "cell_type": "code",
   "execution_count": 6,
   "id": "e3e34233",
   "metadata": {},
   "outputs": [],
   "source": [
    "# define the columns\n",
    "\n",
    "numerical_features = df.iloc[:, 0:14].columns.tolist()\n",
    "categorical_ohe_features = (\n",
    "    df.iloc[:, 15:].drop(columns=[\"state\", \"churn\"], axis=1).columns.tolist()\n",
    ")\n",
    "categorical_lab_features = df[[\"state\"]].columns.tolist()"
   ]
  },
  {
   "cell_type": "code",
   "execution_count": 7,
   "id": "e47a57ec",
   "metadata": {},
   "outputs": [],
   "source": [
    "# split the predictors and target\n",
    "\n",
    "predictors = df.drop(columns=[\"account_length\", \"churn\"], axis=1)\n",
    "target = df[\"account_length\"]"
   ]
  },
  {
   "cell_type": "code",
   "execution_count": 8,
   "id": "e8481226",
   "metadata": {},
   "outputs": [],
   "source": [
    "# Apply the lable encoding on the predictors\n",
    "\n",
    "predictors[\"state\"] = predictors[\"state\"].astype(\"category\").cat.codes"
   ]
  },
  {
   "cell_type": "code",
   "execution_count": 9,
   "id": "8a74224a",
   "metadata": {},
   "outputs": [],
   "source": [
    "# Apply the ohe on the predictors\n",
    "\n",
    "predictors = pd.get_dummies(\n",
    "    predictors,\n",
    "    columns=df.iloc[:, 14:].drop(columns=[\"state\", \"churn\"], axis=1).columns.tolist(),\n",
    "    drop_first=True,\n",
    ")"
   ]
  },
  {
   "cell_type": "markdown",
   "id": "b2e3a81a",
   "metadata": {},
   "source": [
    "### Step 3 : Training models with default parameters\n",
    "\n",
    "1. Use sklearn `train_test_split` to select a training sample and a test sample.\n",
    "2. Train at least three differents models (one of them should not be tree-based).\n",
    "3. Select the appropriate metrics to estimate scores and compare performance between the models.\n",
    "4. Which handling of the categorical data is best ?"
   ]
  },
  {
   "cell_type": "code",
   "execution_count": 10,
   "id": "28732f9f",
   "metadata": {},
   "outputs": [],
   "source": [
    "# Split train / test set\n",
    "\n",
    "from sklearn.model_selection import train_test_split\n",
    "\n",
    "X_train, X_test, y_train, y_test = train_test_split(\n",
    "    predictors, target, test_size=0.2, shuffle=True\n",
    ")"
   ]
  },
  {
   "cell_type": "code",
   "execution_count": 11,
   "id": "ef946f82",
   "metadata": {},
   "outputs": [],
   "source": [
    "from sklearn.linear_model import LinearRegression\n",
    "from sklearn.tree import DecisionTreeRegressor\n",
    "from sklearn.ensemble import RandomForestRegressor\n",
    "from sklearn.svm import SVR\n",
    "\n",
    "# define the model\n",
    "models = {\n",
    "    \"LinearRegression\": LinearRegression(),\n",
    "    \"DecisionTreeRegressor\": DecisionTreeRegressor(),\n",
    "    \"RandomForestRegressor\": RandomForestRegressor(),\n",
    "    \"SVM\": SVR(),\n",
    "}\n",
    "\n",
    "for name, model in models.items():\n",
    "    model.fit(X_train, y_train)\n",
    "    models[name] = model"
   ]
  },
  {
   "cell_type": "code",
   "execution_count": 12,
   "id": "97507041",
   "metadata": {},
   "outputs": [
    {
     "name": "stdout",
     "output_type": "stream",
     "text": [
      "LinearRegression:\n",
      "\n",
      "Train MAE: 31.7394\n",
      "Test MAE: 31.9084\n",
      "Train R2: 0.0079\n",
      "Test R2: -0.0037\n",
      "\n",
      "\n",
      "DecisionTreeRegressor:\n",
      "\n",
      "Train MAE: 0.0000\n",
      "Test MAE: 15.6625\n",
      "Train R2: 1.0000\n",
      "Test R2: 0.3227\n",
      "\n",
      "\n",
      "RandomForestRegressor:\n",
      "\n",
      "Train MAE: 5.9281\n",
      "Test MAE: 15.8688\n",
      "Train R2: 0.9525\n",
      "Test R2: 0.6688\n",
      "\n",
      "\n",
      "SVM:\n",
      "\n",
      "Train MAE: 31.8031\n",
      "Test MAE: 31.8363\n",
      "Train R2: 0.0020\n",
      "Test R2: -0.0027\n",
      "\n",
      "\n"
     ]
    }
   ],
   "source": [
    "from sklearn.metrics import mean_absolute_error, r2_score\n",
    "\n",
    "scores = {}\n",
    "\n",
    "for name, model in models.items():\n",
    "    train_preds = model.predict(X_train)\n",
    "    test_preds = model.predict(X_test)\n",
    "\n",
    "    train_mae = mean_absolute_error(y_train, train_preds)\n",
    "    test_mae = mean_absolute_error(y_test, test_preds)\n",
    "\n",
    "    train_r2 = r2_score(y_train, train_preds)\n",
    "    test_r2 = r2_score(y_test, test_preds)\n",
    "\n",
    "    scores[name] = {\n",
    "        \"Train MAE\": train_mae,\n",
    "        \"Test MAE\": test_mae,\n",
    "        \"Train R2\": train_r2,\n",
    "        \"Test R2\": test_r2,\n",
    "    }\n",
    "\n",
    "for model_name, metrics in scores.items():\n",
    "    print(f\"{model_name}:\\n\")\n",
    "    for metric_name, value in metrics.items():\n",
    "        print(f\"{metric_name}: {value:.4f}\")\n",
    "    print(\"\\n\")"
   ]
  },
  {
   "cell_type": "markdown",
   "id": "2ca2c0e3",
   "metadata": {},
   "source": [
    "### Step 4 : Tuning model\n",
    "\n",
    "1. Select the best model among the previous ones and do sequential tuning (one parameter at a time with a plot) on at least two of the parameters. <br>\n",
    "    a. Print the values of the best parameters <br>\n",
    "    b. Give the score of the tuned model on the test set <br>\n",
    "2. Use `GridSearchCV` or `RandomizedSearchCV` from sklearn to tune 2 or more parameters <br>\n",
    "    a. Print the best parameters <br>\n",
    "    b. Save the best model and print its score on the test set <br>"
   ]
  },
  {
   "cell_type": "code",
   "execution_count": 13,
   "id": "efe66c89",
   "metadata": {},
   "outputs": [
    {
     "data": {
      "image/png": "[encoded data removed]",
      "text/plain": [
       "<Figure size 1000x600 with 1 Axes>"
      ]
     },
     "metadata": {},
     "output_type": "display_data"
    },
    {
     "name": "stdout",
     "output_type": "stream",
     "text": [
      "Best number of trees (n_estimators): 200\n"
     ]
    }
   ],
   "source": [
    "import numpy as np\n",
    "import matplotlib.pyplot as plt\n",
    "\n",
    "n_estimators_range = np.arange(10, 201, 10)\n",
    "train_scores = []\n",
    "test_scores = []\n",
    "\n",
    "for n in n_estimators_range:\n",
    "    model = RandomForestRegressor(n_estimators=n, random_state=0)\n",
    "    model.fit(X_train, y_train)\n",
    "    train_scores.append(model.score(X_train, y_train))\n",
    "    test_scores.append(model.score(X_test, y_test))\n",
    "\n",
    "plt.figure(figsize=(10, 6))\n",
    "plt.plot(n_estimators_range, train_scores, label=\"Train Score\")\n",
    "plt.plot(n_estimators_range, test_scores, label=\"Test Score\")\n",
    "plt.xlabel(\"Number of Trees (n_estimators)\")\n",
    "plt.ylabel(\"R2 Score\")\n",
    "plt.legend()\n",
    "plt.title(\"Tuning n_estimators\")\n",
    "plt.grid(True)\n",
    "plt.show()\n",
    "\n",
    "best_n_estimators = n_estimators_range[np.argmax(test_scores)]\n",
    "print(f\"Best number of trees (n_estimators): {best_n_estimators}\")"
   ]
  },
  {
   "cell_type": "code",
   "execution_count": 14,
   "id": "f614426a",
   "metadata": {},
   "outputs": [
    {
     "data": {
      "image/png": "[encoded data removed]",
      "text/plain": [
       "<Figure size 1000x600 with 1 Axes>"
      ]
     },
     "metadata": {},
     "output_type": "display_data"
    },
    {
     "name": "stdout",
     "output_type": "stream",
     "text": [
      "Best max depth: 45\n"
     ]
    }
   ],
   "source": [
    "max_depth_range = np.arange(30, 100, 5)\n",
    "train_scores = []\n",
    "test_scores = []\n",
    "\n",
    "for depth in max_depth_range:\n",
    "    model = RandomForestRegressor(\n",
    "        n_estimators=best_n_estimators, max_depth=depth, random_state=0\n",
    "    )\n",
    "    model.fit(X_train, y_train)\n",
    "    train_scores.append(model.score(X_train, y_train))\n",
    "    test_scores.append(model.score(X_test, y_test))\n",
    "\n",
    "plt.figure(figsize=(10, 6))\n",
    "plt.plot(max_depth_range, train_scores, label=\"Train Score\")\n",
    "plt.plot(max_depth_range, test_scores, label=\"Test Score\")\n",
    "plt.xlabel(\"Max Depth (max_depth)\")\n",
    "plt.ylabel(\"R2 Score\")\n",
    "plt.legend()\n",
    "plt.title(\"Tuning max_depth\")\n",
    "plt.grid(True)\n",
    "plt.show()\n",
    "\n",
    "best_max_depth = max_depth_range[np.argmax(test_scores)]\n",
    "print(f\"Best max depth: {best_max_depth}\")"
   ]
  },
  {
   "cell_type": "code",
   "execution_count": 15,
   "id": "6142265c",
   "metadata": {},
   "outputs": [
    {
     "name": "stdout",
     "output_type": "stream",
     "text": [
      "Fitting 5 folds for each of 286 candidates, totalling 1430 fits\n",
      "Best parameters: {'max_depth': 40, 'n_estimators': 175}\n",
      "Score of the best model on the test set: 0.6741\n"
     ]
    }
   ],
   "source": [
    "from sklearn.model_selection import GridSearchCV\n",
    "\n",
    "param_grid = {\"n_estimators\": np.arange(150, 176, 1), \"max_depth\": np.arange(30, 41, 1)}\n",
    "\n",
    "grid_search = GridSearchCV(\n",
    "    RandomForestRegressor(random_state=42),\n",
    "    param_grid,\n",
    "    cv=5,\n",
    "    scoring=\"r2\",\n",
    "    n_jobs=-1,\n",
    "    verbose=1,\n",
    ")\n",
    "grid_search.fit(X_train, y_train)\n",
    "\n",
    "# print the best param\n",
    "print(f\"Best parameters: {grid_search.best_params_}\")\n",
    "\n",
    "# save the best score\n",
    "best_model = grid_search.best_estimator_\n",
    "test_score = best_model.score(X_test, y_test)\n",
    "print(f\"Score of the best model on the test set: {test_score:.4f}\")"
   ]
  },
  {
   "cell_type": "code",
   "execution_count": 16,
   "id": "fc511cef",
   "metadata": {},
   "outputs": [
    {
     "name": "stdout",
     "output_type": "stream",
     "text": [
      "Fitting 5 folds for each of 240 candidates, totalling 1200 fits\n",
      "Best parameters: {'max_depth': 45, 'n_estimators': 184}\n",
      "Score of the best model on the test set: 0.6759\n"
     ]
    }
   ],
   "source": [
    "from sklearn.model_selection import GridSearchCV\n",
    "\n",
    "param_grid = {\"n_estimators\": np.arange(170, 185, 1), \"max_depth\": np.arange(35, 51, 1)}\n",
    "\n",
    "grid_search = GridSearchCV(\n",
    "    RandomForestRegressor(random_state=42),\n",
    "    param_grid,\n",
    "    cv=5,\n",
    "    scoring=\"r2\",\n",
    "    n_jobs=-1,\n",
    "    verbose=1,\n",
    ")\n",
    "grid_search.fit(X_train, y_train)\n",
    "\n",
    "# print the best param\n",
    "print(f\"Best parameters: {grid_search.best_params_}\")\n",
    "\n",
    "# save the best score\n",
    "best_model = grid_search.best_estimator_\n",
    "test_score = best_model.score(X_test, y_test)\n",
    "print(f\"Score of the best model on the test set: {test_score:.4f}\")"
   ]
  },
  {
   "cell_type": "code",
   "execution_count": 17,
   "id": "f4c956fe",
   "metadata": {},
   "outputs": [
    {
     "name": "stdout",
     "output_type": "stream",
     "text": [
      "Fitting 5 folds for each of 16 candidates, totalling 80 fits\n",
      "Best parameters: {'max_depth': 45, 'n_estimators': 195}\n",
      "Score of the best model on the test set: 0.6763\n"
     ]
    }
   ],
   "source": [
    "from sklearn.model_selection import GridSearchCV\n",
    "\n",
    "param_grid = {\"n_estimators\": np.arange(180, 200, 5), \"max_depth\": np.arange(42, 46, 1)}\n",
    "\n",
    "grid_search = GridSearchCV(\n",
    "    RandomForestRegressor(random_state=42),\n",
    "    param_grid,\n",
    "    cv=5,\n",
    "    scoring=\"r2\",\n",
    "    n_jobs=-1,\n",
    "    verbose=1,\n",
    ")\n",
    "grid_search.fit(X_train, y_train)\n",
    "\n",
    "# print the best param\n",
    "print(f\"Best parameters: {grid_search.best_params_}\")\n",
    "\n",
    "# save the best score\n",
    "best_model = grid_search.best_estimator_\n",
    "test_score = best_model.score(X_test, y_test)\n",
    "print(f\"Score of the best model on the test set: {test_score:.4f}\")"
   ]
  },
  {
   "cell_type": "code",
   "execution_count": 18,
   "id": "d3fa8bb3",
   "metadata": {},
   "outputs": [
    {
     "name": "stdout",
     "output_type": "stream",
     "text": [
      "Fitting 5 folds for each of 30 candidates, totalling 150 fits\n",
      "Best parameters: {'max_depth': 44, 'n_estimators': 196}\n",
      "Score of the best model on the test set: 0.6761\n"
     ]
    }
   ],
   "source": [
    "from sklearn.model_selection import GridSearchCV\n",
    "\n",
    "param_grid = {\"n_estimators\": np.arange(190, 200, 1), \"max_depth\": np.arange(42, 45, 1)}\n",
    "\n",
    "grid_search = GridSearchCV(\n",
    "    RandomForestRegressor(random_state=42),\n",
    "    param_grid,\n",
    "    cv=5,\n",
    "    scoring=\"r2\",\n",
    "    n_jobs=-1,\n",
    "    verbose=1,\n",
    ")\n",
    "grid_search.fit(X_train, y_train)\n",
    "\n",
    "# print the best param\n",
    "print(f\"Best parameters: {grid_search.best_params_}\")\n",
    "\n",
    "# save the best score\n",
    "best_model = grid_search.best_estimator_\n",
    "test_score = best_model.score(X_test, y_test)\n",
    "print(f\"Score of the best model on the test set: {test_score:.4f}\")"
   ]
  }
 ],
 "metadata": {
  "kernelspec": {
   "display_name": "Python 3 (ipykernel)",
   "language": "python",
   "name": "python3"
  },
  "language_info": {
   "codemirror_mode": {
    "name": "ipython",
    "version": 3
   },
   "file_extension": ".py",
   "mimetype": "text/x-python",
   "name": "python",
   "nbconvert_exporter": "python",
   "pygments_lexer": "ipython3",
   "version": "3.11.4"
  }
 },
 "nbformat": 4,
 "nbformat_minor": 5
}
