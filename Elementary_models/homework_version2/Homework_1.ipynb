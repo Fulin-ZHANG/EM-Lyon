{
 "cells": [
  {
   "cell_type": "markdown",
   "id": "stopped-conflict",
   "metadata": {},
   "source": [
    "## <span style=\"color:red\"> Homework 1 </span>"
   ]
  },
  {
   "cell_type": "code",
   "execution_count": 1,
   "id": "2cd69ab5",
   "metadata": {},
   "outputs": [],
   "source": [
    "# packages\n",
    "import os\n",
    "import numpy as np\n",
    "import pandas as pd\n",
    "import seaborn as sns\n",
    "\n",
    "\n",
    "# ignore warning\n",
    "import warnings\n",
    "warnings.filterwarnings(\"ignore\")"
   ]
  },
  {
   "cell_type": "markdown",
   "id": "hungry-appendix",
   "metadata": {},
   "source": [
    "**I. Data splitting and merging by columns**\n",
    "\n",
    "1. Import your toy dataset with pandas\n",
    "2. Split your dataframe into two other dataframes : all the categorical variables in one hand and all the quantitative variables in the other hand\n",
    "3. Save these two dataframes into two different csv files\n",
    "4. Import these two csv files and merge them back together : do you retrieve your original dataframe?"
   ]
  },
  {
   "cell_type": "code",
   "execution_count": 2,
   "id": "ec18153c",
   "metadata": {},
   "outputs": [
    {
     "data": {
      "text/plain": [
       "'Current work path: /Users/fulin/Documents/GitHub/EMLyon_DSAIS/Elementary_models/homework_version2'"
      ]
     },
     "metadata": {},
     "output_type": "display_data"
    }
   ],
   "source": [
    "display(f\"Current work path: {os.getcwd()}\")"
   ]
  },
  {
   "cell_type": "code",
   "execution_count": 3,
   "id": "f51fd533",
   "metadata": {},
   "outputs": [],
   "source": [
    "# Set the path\n",
    "PATH = os.path.join(os.getcwd(), \"data\")\n",
    "\n",
    "# change work path to where the data is\n",
    "os.chdir(PATH)\n",
    "\n",
    "# import the data\n",
    "df = pd.read_csv(\"customer_data.csv\", header=0)"
   ]
  },
  {
   "cell_type": "code",
   "execution_count": 4,
   "id": "1cb90a0d",
   "metadata": {},
   "outputs": [
    {
     "name": "stdout",
     "output_type": "stream",
     "text": [
      "<class 'pandas.core.frame.DataFrame'>\n",
      "RangeIndex: 12892 entries, 0 to 12891\n",
      "Data columns (total 21 columns):\n",
      " #   Column                         Non-Null Count  Dtype  \n",
      "---  ------                         --------------  -----  \n",
      " 0   state                          12892 non-null  object \n",
      " 1   account_length                 12892 non-null  int64  \n",
      " 2   area_code                      12886 non-null  float64\n",
      " 3   international_plan             12892 non-null  object \n",
      " 4   voice_mail_plan                12879 non-null  object \n",
      " 5   number_vmail_messages          11371 non-null  float64\n",
      " 6   total_day_minutes              11206 non-null  float64\n",
      " 7   total_day_calls                11115 non-null  float64\n",
      " 8   total_day_charge               11464 non-null  float64\n",
      " 9   total_eve_minutes              11694 non-null  float64\n",
      " 10  total_eve_calls                11594 non-null  float64\n",
      " 11  total_eve_charge               10313 non-null  float64\n",
      " 12  total_night_minutes            12257 non-null  float64\n",
      " 13  total_night_calls              12057 non-null  float64\n",
      " 14  total_night_charge             11927 non-null  float64\n",
      " 15  total_intl_minutes             11654 non-null  float64\n",
      " 16  total_intl_calls               11785 non-null  float64\n",
      " 17  total_intl_charge              11933 non-null  float64\n",
      " 18  number_customer_service_calls  12870 non-null  float64\n",
      " 19  churn                          12892 non-null  object \n",
      " 20  customer_id                    12892 non-null  float64\n",
      "dtypes: float64(16), int64(1), object(4)\n",
      "memory usage: 2.1+ MB\n",
      "None\n"
     ]
    },
    {
     "data": {
      "text/html": [
       "<div>\n",
       "<style scoped>\n",
       "    .dataframe tbody tr th:only-of-type {\n",
       "        vertical-align: middle;\n",
       "    }\n",
       "\n",
       "    .dataframe tbody tr th {\n",
       "        vertical-align: top;\n",
       "    }\n",
       "\n",
       "    .dataframe thead th {\n",
       "        text-align: right;\n",
       "    }\n",
       "</style>\n",
       "<table border=\"1\" class=\"dataframe\">\n",
       "  <thead>\n",
       "    <tr style=\"text-align: right;\">\n",
       "      <th></th>\n",
       "      <th>0</th>\n",
       "      <th>1</th>\n",
       "      <th>2</th>\n",
       "      <th>3</th>\n",
       "      <th>4</th>\n",
       "    </tr>\n",
       "  </thead>\n",
       "  <tbody>\n",
       "    <tr>\n",
       "      <th>state</th>\n",
       "      <td>HI</td>\n",
       "      <td>MT</td>\n",
       "      <td>OH</td>\n",
       "      <td>NM</td>\n",
       "      <td>SC</td>\n",
       "    </tr>\n",
       "    <tr>\n",
       "      <th>account_length</th>\n",
       "      <td>101</td>\n",
       "      <td>137</td>\n",
       "      <td>103</td>\n",
       "      <td>99</td>\n",
       "      <td>108</td>\n",
       "    </tr>\n",
       "    <tr>\n",
       "      <th>area_code</th>\n",
       "      <td>510.0</td>\n",
       "      <td>510.0</td>\n",
       "      <td>408.0</td>\n",
       "      <td>415.0</td>\n",
       "      <td>415.0</td>\n",
       "    </tr>\n",
       "    <tr>\n",
       "      <th>international_plan</th>\n",
       "      <td>no</td>\n",
       "      <td>no</td>\n",
       "      <td>no</td>\n",
       "      <td>no</td>\n",
       "      <td>no</td>\n",
       "    </tr>\n",
       "    <tr>\n",
       "      <th>voice_mail_plan</th>\n",
       "      <td>no</td>\n",
       "      <td>no</td>\n",
       "      <td>yes</td>\n",
       "      <td>no</td>\n",
       "      <td>no</td>\n",
       "    </tr>\n",
       "    <tr>\n",
       "      <th>number_vmail_messages</th>\n",
       "      <td>0.0</td>\n",
       "      <td>0.0</td>\n",
       "      <td>29.0</td>\n",
       "      <td>NaN</td>\n",
       "      <td>0.0</td>\n",
       "    </tr>\n",
       "    <tr>\n",
       "      <th>total_day_minutes</th>\n",
       "      <td>70.9</td>\n",
       "      <td>223.6</td>\n",
       "      <td>294.7</td>\n",
       "      <td>216.8</td>\n",
       "      <td>197.4</td>\n",
       "    </tr>\n",
       "    <tr>\n",
       "      <th>total_day_calls</th>\n",
       "      <td>123.0</td>\n",
       "      <td>86.0</td>\n",
       "      <td>95.0</td>\n",
       "      <td>123.0</td>\n",
       "      <td>78.0</td>\n",
       "    </tr>\n",
       "    <tr>\n",
       "      <th>total_day_charge</th>\n",
       "      <td>12.05</td>\n",
       "      <td>NaN</td>\n",
       "      <td>NaN</td>\n",
       "      <td>36.86</td>\n",
       "      <td>33.56</td>\n",
       "    </tr>\n",
       "    <tr>\n",
       "      <th>total_eve_minutes</th>\n",
       "      <td>NaN</td>\n",
       "      <td>244.8</td>\n",
       "      <td>237.3</td>\n",
       "      <td>126.4</td>\n",
       "      <td>124.0</td>\n",
       "    </tr>\n",
       "    <tr>\n",
       "      <th>total_eve_calls</th>\n",
       "      <td>73.0</td>\n",
       "      <td>139.0</td>\n",
       "      <td>105.0</td>\n",
       "      <td>88.0</td>\n",
       "      <td>101.0</td>\n",
       "    </tr>\n",
       "    <tr>\n",
       "      <th>total_eve_charge</th>\n",
       "      <td>NaN</td>\n",
       "      <td>20.81</td>\n",
       "      <td>20.17</td>\n",
       "      <td>10.74</td>\n",
       "      <td>10.54</td>\n",
       "    </tr>\n",
       "    <tr>\n",
       "      <th>total_night_minutes</th>\n",
       "      <td>236.0</td>\n",
       "      <td>94.2</td>\n",
       "      <td>300.3</td>\n",
       "      <td>220.6</td>\n",
       "      <td>204.5</td>\n",
       "    </tr>\n",
       "    <tr>\n",
       "      <th>total_night_calls</th>\n",
       "      <td>73.0</td>\n",
       "      <td>81.0</td>\n",
       "      <td>127.0</td>\n",
       "      <td>82.0</td>\n",
       "      <td>107.0</td>\n",
       "    </tr>\n",
       "    <tr>\n",
       "      <th>total_night_charge</th>\n",
       "      <td>10.62</td>\n",
       "      <td>4.24</td>\n",
       "      <td>13.51</td>\n",
       "      <td>9.93</td>\n",
       "      <td>9.2</td>\n",
       "    </tr>\n",
       "    <tr>\n",
       "      <th>total_intl_minutes</th>\n",
       "      <td>10.6</td>\n",
       "      <td>9.5</td>\n",
       "      <td>13.7</td>\n",
       "      <td>NaN</td>\n",
       "      <td>7.7</td>\n",
       "    </tr>\n",
       "    <tr>\n",
       "      <th>total_intl_calls</th>\n",
       "      <td>3.0</td>\n",
       "      <td>7.0</td>\n",
       "      <td>NaN</td>\n",
       "      <td>2.0</td>\n",
       "      <td>4.0</td>\n",
       "    </tr>\n",
       "    <tr>\n",
       "      <th>total_intl_charge</th>\n",
       "      <td>2.86</td>\n",
       "      <td>2.57</td>\n",
       "      <td>3.7</td>\n",
       "      <td>NaN</td>\n",
       "      <td>2.08</td>\n",
       "    </tr>\n",
       "    <tr>\n",
       "      <th>number_customer_service_calls</th>\n",
       "      <td>3.0</td>\n",
       "      <td>0.0</td>\n",
       "      <td>1.0</td>\n",
       "      <td>1.0</td>\n",
       "      <td>2.0</td>\n",
       "    </tr>\n",
       "    <tr>\n",
       "      <th>churn</th>\n",
       "      <td>no</td>\n",
       "      <td>no</td>\n",
       "      <td>no</td>\n",
       "      <td>no</td>\n",
       "      <td>no</td>\n",
       "    </tr>\n",
       "    <tr>\n",
       "      <th>customer_id</th>\n",
       "      <td>23383607.0</td>\n",
       "      <td>22550362.0</td>\n",
       "      <td>59063354.0</td>\n",
       "      <td>25464504.0</td>\n",
       "      <td>691824.0</td>\n",
       "    </tr>\n",
       "  </tbody>\n",
       "</table>\n",
       "</div>"
      ],
      "text/plain": [
       "                                        0           1           2           3  \\\n",
       "state                                  HI          MT          OH          NM   \n",
       "account_length                        101         137         103          99   \n",
       "area_code                           510.0       510.0       408.0       415.0   \n",
       "international_plan                     no          no          no          no   \n",
       "voice_mail_plan                        no          no         yes          no   \n",
       "number_vmail_messages                 0.0         0.0        29.0         NaN   \n",
       "total_day_minutes                    70.9       223.6       294.7       216.8   \n",
       "total_day_calls                     123.0        86.0        95.0       123.0   \n",
       "total_day_charge                    12.05         NaN         NaN       36.86   \n",
       "total_eve_minutes                     NaN       244.8       237.3       126.4   \n",
       "total_eve_calls                      73.0       139.0       105.0        88.0   \n",
       "total_eve_charge                      NaN       20.81       20.17       10.74   \n",
       "total_night_minutes                 236.0        94.2       300.3       220.6   \n",
       "total_night_calls                    73.0        81.0       127.0        82.0   \n",
       "total_night_charge                  10.62        4.24       13.51        9.93   \n",
       "total_intl_minutes                   10.6         9.5        13.7         NaN   \n",
       "total_intl_calls                      3.0         7.0         NaN         2.0   \n",
       "total_intl_charge                    2.86        2.57         3.7         NaN   \n",
       "number_customer_service_calls         3.0         0.0         1.0         1.0   \n",
       "churn                                  no          no          no          no   \n",
       "customer_id                    23383607.0  22550362.0  59063354.0  25464504.0   \n",
       "\n",
       "                                      4  \n",
       "state                                SC  \n",
       "account_length                      108  \n",
       "area_code                         415.0  \n",
       "international_plan                   no  \n",
       "voice_mail_plan                      no  \n",
       "number_vmail_messages               0.0  \n",
       "total_day_minutes                 197.4  \n",
       "total_day_calls                    78.0  \n",
       "total_day_charge                  33.56  \n",
       "total_eve_minutes                 124.0  \n",
       "total_eve_calls                   101.0  \n",
       "total_eve_charge                  10.54  \n",
       "total_night_minutes               204.5  \n",
       "total_night_calls                 107.0  \n",
       "total_night_charge                  9.2  \n",
       "total_intl_minutes                  7.7  \n",
       "total_intl_calls                    4.0  \n",
       "total_intl_charge                  2.08  \n",
       "number_customer_service_calls       2.0  \n",
       "churn                                no  \n",
       "customer_id                    691824.0  "
      ]
     },
     "metadata": {},
     "output_type": "display_data"
    }
   ],
   "source": [
    "# take a look of the dataframe\n",
    "print(df.info())\n",
    "display(df.head(5).T)"
   ]
  },
  {
   "cell_type": "code",
   "execution_count": 5,
   "id": "ed43c702",
   "metadata": {},
   "outputs": [],
   "source": [
    "# drop the useless column\n",
    "df.drop(columns=['customer_id'], axis=1, inplace=True)"
   ]
  },
  {
   "cell_type": "code",
   "execution_count": 6,
   "id": "e2d247b4",
   "metadata": {},
   "outputs": [],
   "source": [
    "# quantitive data\n",
    "quant_df_miss = df[['account_length', 'number_vmail_messages', 'total_day_minutes', 'total_day_calls', 'total_day_charge', 'total_eve_minutes', 'total_eve_calls', 'total_eve_charge', 'total_night_minutes', 'total_night_calls', 'total_night_charge', 'total_intl_minutes', 'total_intl_calls', 'total_intl_charge', 'number_customer_service_calls']]\n",
    "\n",
    "# categorical data\n",
    "cat_df_miss = df[['state', 'area_code', 'international_plan', 'voice_mail_plan', 'churn']]"
   ]
  },
  {
   "cell_type": "code",
   "execution_count": 7,
   "id": "070840cd",
   "metadata": {},
   "outputs": [
    {
     "data": {
      "text/html": [
       "<div>\n",
       "<style scoped>\n",
       "    .dataframe tbody tr th:only-of-type {\n",
       "        vertical-align: middle;\n",
       "    }\n",
       "\n",
       "    .dataframe tbody tr th {\n",
       "        vertical-align: top;\n",
       "    }\n",
       "\n",
       "    .dataframe thead th {\n",
       "        text-align: right;\n",
       "    }\n",
       "</style>\n",
       "<table border=\"1\" class=\"dataframe\">\n",
       "  <thead>\n",
       "    <tr style=\"text-align: right;\">\n",
       "      <th></th>\n",
       "      <th>account_length</th>\n",
       "      <th>number_vmail_messages</th>\n",
       "      <th>total_day_minutes</th>\n",
       "      <th>total_day_calls</th>\n",
       "      <th>total_day_charge</th>\n",
       "      <th>total_eve_minutes</th>\n",
       "      <th>total_eve_calls</th>\n",
       "      <th>total_eve_charge</th>\n",
       "      <th>total_night_minutes</th>\n",
       "      <th>total_night_calls</th>\n",
       "      <th>total_night_charge</th>\n",
       "      <th>total_intl_minutes</th>\n",
       "      <th>total_intl_calls</th>\n",
       "      <th>total_intl_charge</th>\n",
       "      <th>number_customer_service_calls</th>\n",
       "    </tr>\n",
       "  </thead>\n",
       "  <tbody>\n",
       "    <tr>\n",
       "      <th>count</th>\n",
       "      <td>12892.000000</td>\n",
       "      <td>11371.000000</td>\n",
       "      <td>11206.000000</td>\n",
       "      <td>11115.000000</td>\n",
       "      <td>11464.000000</td>\n",
       "      <td>11694.000000</td>\n",
       "      <td>11594.000000</td>\n",
       "      <td>10313.000000</td>\n",
       "      <td>12257.000000</td>\n",
       "      <td>12057.000000</td>\n",
       "      <td>11927.000000</td>\n",
       "      <td>11654.000000</td>\n",
       "      <td>11785.000000</td>\n",
       "      <td>11933.000000</td>\n",
       "      <td>12870.000000</td>\n",
       "    </tr>\n",
       "    <tr>\n",
       "      <th>mean</th>\n",
       "      <td>100.676621</td>\n",
       "      <td>7.981268</td>\n",
       "      <td>180.014876</td>\n",
       "      <td>100.317859</td>\n",
       "      <td>30.654802</td>\n",
       "      <td>201.071353</td>\n",
       "      <td>100.172244</td>\n",
       "      <td>17.062150</td>\n",
       "      <td>200.459199</td>\n",
       "      <td>100.039064</td>\n",
       "      <td>9.028050</td>\n",
       "      <td>10.246482</td>\n",
       "      <td>4.462113</td>\n",
       "      <td>2.767048</td>\n",
       "      <td>1.563326</td>\n",
       "    </tr>\n",
       "    <tr>\n",
       "      <th>std</th>\n",
       "      <td>39.806413</td>\n",
       "      <td>13.630386</td>\n",
       "      <td>54.202814</td>\n",
       "      <td>19.865152</td>\n",
       "      <td>9.207819</td>\n",
       "      <td>50.827323</td>\n",
       "      <td>19.876616</td>\n",
       "      <td>4.331434</td>\n",
       "      <td>50.532223</td>\n",
       "      <td>19.748553</td>\n",
       "      <td>2.275844</td>\n",
       "      <td>2.784807</td>\n",
       "      <td>2.456294</td>\n",
       "      <td>0.750743</td>\n",
       "      <td>1.310753</td>\n",
       "    </tr>\n",
       "    <tr>\n",
       "      <th>min</th>\n",
       "      <td>1.000000</td>\n",
       "      <td>0.000000</td>\n",
       "      <td>0.000000</td>\n",
       "      <td>0.000000</td>\n",
       "      <td>0.000000</td>\n",
       "      <td>0.000000</td>\n",
       "      <td>0.000000</td>\n",
       "      <td>0.000000</td>\n",
       "      <td>0.000000</td>\n",
       "      <td>0.000000</td>\n",
       "      <td>0.000000</td>\n",
       "      <td>0.000000</td>\n",
       "      <td>0.000000</td>\n",
       "      <td>0.000000</td>\n",
       "      <td>0.000000</td>\n",
       "    </tr>\n",
       "    <tr>\n",
       "      <th>25%</th>\n",
       "      <td>73.000000</td>\n",
       "      <td>0.000000</td>\n",
       "      <td>144.000000</td>\n",
       "      <td>87.000000</td>\n",
       "      <td>24.480000</td>\n",
       "      <td>166.800000</td>\n",
       "      <td>87.000000</td>\n",
       "      <td>14.100000</td>\n",
       "      <td>167.000000</td>\n",
       "      <td>87.000000</td>\n",
       "      <td>7.520000</td>\n",
       "      <td>8.500000</td>\n",
       "      <td>3.000000</td>\n",
       "      <td>2.300000</td>\n",
       "      <td>1.000000</td>\n",
       "    </tr>\n",
       "    <tr>\n",
       "      <th>50%</th>\n",
       "      <td>100.000000</td>\n",
       "      <td>0.000000</td>\n",
       "      <td>180.000000</td>\n",
       "      <td>101.000000</td>\n",
       "      <td>30.620000</td>\n",
       "      <td>201.400000</td>\n",
       "      <td>101.000000</td>\n",
       "      <td>17.120000</td>\n",
       "      <td>200.800000</td>\n",
       "      <td>100.000000</td>\n",
       "      <td>9.050000</td>\n",
       "      <td>10.300000</td>\n",
       "      <td>4.000000</td>\n",
       "      <td>2.780000</td>\n",
       "      <td>1.000000</td>\n",
       "    </tr>\n",
       "    <tr>\n",
       "      <th>75%</th>\n",
       "      <td>127.000000</td>\n",
       "      <td>19.000000</td>\n",
       "      <td>216.000000</td>\n",
       "      <td>114.000000</td>\n",
       "      <td>36.775000</td>\n",
       "      <td>235.300000</td>\n",
       "      <td>114.000000</td>\n",
       "      <td>20.000000</td>\n",
       "      <td>234.900000</td>\n",
       "      <td>113.000000</td>\n",
       "      <td>10.580000</td>\n",
       "      <td>12.100000</td>\n",
       "      <td>6.000000</td>\n",
       "      <td>3.270000</td>\n",
       "      <td>2.000000</td>\n",
       "    </tr>\n",
       "    <tr>\n",
       "      <th>max</th>\n",
       "      <td>243.000000</td>\n",
       "      <td>51.000000</td>\n",
       "      <td>351.500000</td>\n",
       "      <td>165.000000</td>\n",
       "      <td>59.640000</td>\n",
       "      <td>363.700000</td>\n",
       "      <td>170.000000</td>\n",
       "      <td>30.910000</td>\n",
       "      <td>395.000000</td>\n",
       "      <td>175.000000</td>\n",
       "      <td>17.770000</td>\n",
       "      <td>20.000000</td>\n",
       "      <td>20.000000</td>\n",
       "      <td>5.400000</td>\n",
       "      <td>9.000000</td>\n",
       "    </tr>\n",
       "  </tbody>\n",
       "</table>\n",
       "</div>"
      ],
      "text/plain": [
       "       account_length  number_vmail_messages  total_day_minutes  \\\n",
       "count    12892.000000           11371.000000       11206.000000   \n",
       "mean       100.676621               7.981268         180.014876   \n",
       "std         39.806413              13.630386          54.202814   \n",
       "min          1.000000               0.000000           0.000000   \n",
       "25%         73.000000               0.000000         144.000000   \n",
       "50%        100.000000               0.000000         180.000000   \n",
       "75%        127.000000              19.000000         216.000000   \n",
       "max        243.000000              51.000000         351.500000   \n",
       "\n",
       "       total_day_calls  total_day_charge  total_eve_minutes  total_eve_calls  \\\n",
       "count     11115.000000      11464.000000       11694.000000     11594.000000   \n",
       "mean        100.317859         30.654802         201.071353       100.172244   \n",
       "std          19.865152          9.207819          50.827323        19.876616   \n",
       "min           0.000000          0.000000           0.000000         0.000000   \n",
       "25%          87.000000         24.480000         166.800000        87.000000   \n",
       "50%         101.000000         30.620000         201.400000       101.000000   \n",
       "75%         114.000000         36.775000         235.300000       114.000000   \n",
       "max         165.000000         59.640000         363.700000       170.000000   \n",
       "\n",
       "       total_eve_charge  total_night_minutes  total_night_calls  \\\n",
       "count      10313.000000         12257.000000       12057.000000   \n",
       "mean          17.062150           200.459199         100.039064   \n",
       "std            4.331434            50.532223          19.748553   \n",
       "min            0.000000             0.000000           0.000000   \n",
       "25%           14.100000           167.000000          87.000000   \n",
       "50%           17.120000           200.800000         100.000000   \n",
       "75%           20.000000           234.900000         113.000000   \n",
       "max           30.910000           395.000000         175.000000   \n",
       "\n",
       "       total_night_charge  total_intl_minutes  total_intl_calls  \\\n",
       "count        11927.000000        11654.000000      11785.000000   \n",
       "mean             9.028050           10.246482          4.462113   \n",
       "std              2.275844            2.784807          2.456294   \n",
       "min              0.000000            0.000000          0.000000   \n",
       "25%              7.520000            8.500000          3.000000   \n",
       "50%              9.050000           10.300000          4.000000   \n",
       "75%             10.580000           12.100000          6.000000   \n",
       "max             17.770000           20.000000         20.000000   \n",
       "\n",
       "       total_intl_charge  number_customer_service_calls  \n",
       "count       11933.000000                   12870.000000  \n",
       "mean            2.767048                       1.563326  \n",
       "std             0.750743                       1.310753  \n",
       "min             0.000000                       0.000000  \n",
       "25%             2.300000                       1.000000  \n",
       "50%             2.780000                       1.000000  \n",
       "75%             3.270000                       2.000000  \n",
       "max             5.400000                       9.000000  "
      ]
     },
     "execution_count": 7,
     "metadata": {},
     "output_type": "execute_result"
    }
   ],
   "source": [
    "# Take a generally view for the distribution of the value, no so weired outliers existed.\n",
    "\n",
    "quant_df_miss.describe()"
   ]
  },
  {
   "cell_type": "code",
   "execution_count": 8,
   "id": "08b787b3",
   "metadata": {},
   "outputs": [
    {
     "data": {
      "text/plain": [
       "account_length                      0\n",
       "number_vmail_messages            1521\n",
       "total_day_minutes                1686\n",
       "total_day_calls                  1777\n",
       "total_day_charge                 1428\n",
       "total_eve_minutes                1198\n",
       "total_eve_calls                  1298\n",
       "total_eve_charge                 2579\n",
       "total_night_minutes               635\n",
       "total_night_calls                 835\n",
       "total_night_charge                965\n",
       "total_intl_minutes               1238\n",
       "total_intl_calls                 1107\n",
       "total_intl_charge                 959\n",
       "number_customer_service_calls      22\n",
       "dtype: int64"
      ]
     },
     "metadata": {},
     "output_type": "display_data"
    },
    {
     "data": {
      "text/plain": [
       "state                  0\n",
       "area_code              6\n",
       "international_plan     0\n",
       "voice_mail_plan       13\n",
       "churn                  0\n",
       "dtype: int64"
      ]
     },
     "metadata": {},
     "output_type": "display_data"
    }
   ],
   "source": [
    "# tke a look for the missing values\n",
    "display(quant_df_miss.isna().sum())\n",
    "display(cat_df_miss.isna().sum())"
   ]
  },
  {
   "cell_type": "code",
   "execution_count": 9,
   "id": "2ea9b8ee",
   "metadata": {},
   "outputs": [],
   "source": [
    "from sklearn.impute import KNNImputer\n",
    "\n",
    "# Impute the missing values by KNN\n",
    "quant_df = pd.DataFrame(KNNImputer().fit_transform(quant_df_miss), columns=quant_df_miss.columns)"
   ]
  },
  {
   "cell_type": "code",
   "execution_count": 10,
   "id": "c6c8e127",
   "metadata": {},
   "outputs": [],
   "source": [
    "# combine the quantitive data and categirical data\n",
    "quant_df_impute = quant_df.join(cat_df_miss)"
   ]
  },
  {
   "cell_type": "code",
   "execution_count": 11,
   "id": "25fb934a",
   "metadata": {},
   "outputs": [],
   "source": [
    "# drop the missing values in categorical data, because the number of missing values in categorical data is small\n",
    "quant_df_impute.dropna(inplace=True)"
   ]
  },
  {
   "cell_type": "code",
   "execution_count": 12,
   "id": "e34a2bf4",
   "metadata": {},
   "outputs": [],
   "source": [
    "# Split the dataframe to quantitive one and categorical one\n",
    "\n",
    "quant_df_before = quant_df_impute[['account_length', 'number_vmail_messages', 'total_day_minutes', 'total_day_calls', 'total_day_charge', 'total_eve_minutes', 'total_eve_calls', 'total_eve_charge', 'total_night_minutes', 'total_night_calls', 'total_night_charge', 'total_intl_minutes', 'total_intl_calls', 'total_intl_charge', 'number_customer_service_calls']]\n",
    "cat_df_before = quant_df_impute[['state', 'area_code', 'international_plan', 'voice_mail_plan', 'churn']]\n",
    "\n",
    "# export to two csv\n",
    "quant_df_before.to_csv('customer_data_quant.csv', index=True)\n",
    "cat_df_before.to_csv('customer_data_cat.csv', index=True)"
   ]
  },
  {
   "cell_type": "code",
   "execution_count": 13,
   "id": "a84b8e06",
   "metadata": {},
   "outputs": [],
   "source": [
    "# import these csv\n",
    "\n",
    "customer_quant_df = pd.read_csv('customer_data_quant.csv', index_col=0)\n",
    "customer_cat_df = pd.read_csv('customer_data_cat.csv', index_col=0)"
   ]
  },
  {
   "cell_type": "code",
   "execution_count": 14,
   "id": "d93555b2",
   "metadata": {},
   "outputs": [],
   "source": [
    "# customer_df = customer_quant_df.join(customer_cat_df)\n",
    "customer_df = customer_quant_df.merge(customer_cat_df, left_index=True, right_index=True)"
   ]
  },
  {
   "cell_type": "code",
   "execution_count": 15,
   "id": "d29b65e3",
   "metadata": {},
   "outputs": [
    {
     "name": "stdout",
     "output_type": "stream",
     "text": [
      "<class 'pandas.core.frame.DataFrame'>\n",
      "Int64Index: 12873 entries, 0 to 12891\n",
      "Data columns (total 20 columns):\n",
      " #   Column                         Non-Null Count  Dtype  \n",
      "---  ------                         --------------  -----  \n",
      " 0   account_length                 12873 non-null  float64\n",
      " 1   number_vmail_messages          12873 non-null  float64\n",
      " 2   total_day_minutes              12873 non-null  float64\n",
      " 3   total_day_calls                12873 non-null  float64\n",
      " 4   total_day_charge               12873 non-null  float64\n",
      " 5   total_eve_minutes              12873 non-null  float64\n",
      " 6   total_eve_calls                12873 non-null  float64\n",
      " 7   total_eve_charge               12873 non-null  float64\n",
      " 8   total_night_minutes            12873 non-null  float64\n",
      " 9   total_night_calls              12873 non-null  float64\n",
      " 10  total_night_charge             12873 non-null  float64\n",
      " 11  total_intl_minutes             12873 non-null  float64\n",
      " 12  total_intl_calls               12873 non-null  float64\n",
      " 13  total_intl_charge              12873 non-null  float64\n",
      " 14  number_customer_service_calls  12873 non-null  float64\n",
      " 15  state                          12873 non-null  object \n",
      " 16  area_code                      12873 non-null  float64\n",
      " 17  international_plan             12873 non-null  object \n",
      " 18  voice_mail_plan                12873 non-null  object \n",
      " 19  churn                          12873 non-null  object \n",
      "dtypes: float64(16), object(4)\n",
      "memory usage: 2.6+ MB\n"
     ]
    }
   ],
   "source": [
    "customer_df.info()"
   ]
  },
  {
   "cell_type": "code",
   "execution_count": 16,
   "id": "2359af39",
   "metadata": {},
   "outputs": [
    {
     "name": "stdout",
     "output_type": "stream",
     "text": [
      "<class 'pandas.core.frame.DataFrame'>\n",
      "Int64Index: 12873 entries, 0 to 12891\n",
      "Data columns (total 20 columns):\n",
      " #   Column                         Non-Null Count  Dtype  \n",
      "---  ------                         --------------  -----  \n",
      " 0   account_length                 12873 non-null  float64\n",
      " 1   number_vmail_messages          12873 non-null  float64\n",
      " 2   total_day_minutes              12873 non-null  float64\n",
      " 3   total_day_calls                12873 non-null  float64\n",
      " 4   total_day_charge               12873 non-null  float64\n",
      " 5   total_eve_minutes              12873 non-null  float64\n",
      " 6   total_eve_calls                12873 non-null  float64\n",
      " 7   total_eve_charge               12873 non-null  float64\n",
      " 8   total_night_minutes            12873 non-null  float64\n",
      " 9   total_night_calls              12873 non-null  float64\n",
      " 10  total_night_charge             12873 non-null  float64\n",
      " 11  total_intl_minutes             12873 non-null  float64\n",
      " 12  total_intl_calls               12873 non-null  float64\n",
      " 13  total_intl_charge              12873 non-null  float64\n",
      " 14  number_customer_service_calls  12873 non-null  float64\n",
      " 15  state                          12873 non-null  object \n",
      " 16  area_code                      12873 non-null  float64\n",
      " 17  international_plan             12873 non-null  object \n",
      " 18  voice_mail_plan                12873 non-null  object \n",
      " 19  churn                          12873 non-null  object \n",
      "dtypes: float64(16), object(4)\n",
      "memory usage: 2.1+ MB\n"
     ]
    }
   ],
   "source": [
    "quant_df_impute.info()"
   ]
  },
  {
   "cell_type": "code",
   "execution_count": 17,
   "id": "9af066bd",
   "metadata": {},
   "outputs": [
    {
     "data": {
      "text/plain": [
       "account_length                   float64\n",
       "number_vmail_messages            float64\n",
       "total_day_minutes                float64\n",
       "total_day_calls                  float64\n",
       "total_day_charge                 float64\n",
       "total_eve_minutes                float64\n",
       "total_eve_calls                  float64\n",
       "total_eve_charge                 float64\n",
       "total_night_minutes              float64\n",
       "total_night_calls                float64\n",
       "total_night_charge               float64\n",
       "total_intl_minutes               float64\n",
       "total_intl_calls                 float64\n",
       "total_intl_charge                float64\n",
       "number_customer_service_calls    float64\n",
       "state                             object\n",
       "area_code                        float64\n",
       "international_plan                object\n",
       "voice_mail_plan                   object\n",
       "churn                             object\n",
       "dtype: object"
      ]
     },
     "metadata": {},
     "output_type": "display_data"
    },
    {
     "data": {
      "text/plain": [
       "account_length                   float64\n",
       "number_vmail_messages            float64\n",
       "total_day_minutes                float64\n",
       "total_day_calls                  float64\n",
       "total_day_charge                 float64\n",
       "total_eve_minutes                float64\n",
       "total_eve_calls                  float64\n",
       "total_eve_charge                 float64\n",
       "total_night_minutes              float64\n",
       "total_night_calls                float64\n",
       "total_night_charge               float64\n",
       "total_intl_minutes               float64\n",
       "total_intl_calls                 float64\n",
       "total_intl_charge                float64\n",
       "number_customer_service_calls    float64\n",
       "state                             object\n",
       "area_code                        float64\n",
       "international_plan                object\n",
       "voice_mail_plan                   object\n",
       "churn                             object\n",
       "dtype: object"
      ]
     },
     "metadata": {},
     "output_type": "display_data"
    }
   ],
   "source": [
    "display(customer_df.dtypes)\n",
    "display(quant_df_impute.dtypes)"
   ]
  },
  {
   "cell_type": "code",
   "execution_count": 18,
   "id": "448374cd",
   "metadata": {},
   "outputs": [
    {
     "data": {
      "text/plain": [
       "{}"
      ]
     },
     "execution_count": 18,
     "metadata": {},
     "output_type": "execute_result"
    }
   ],
   "source": [
    "row_diff_original = quant_df_impute.iloc[0]\n",
    "row_diff_merged = customer_df.iloc[0]\n",
    "\n",
    "row_differences = {}\n",
    "for col in quant_df_impute.columns:\n",
    "    if row_diff_original[col] != row_diff_merged[col]:\n",
    "        row_differences[col] = (row_diff_original[col], row_diff_merged[col])\n",
    "\n",
    "row_differences"
   ]
  },
  {
   "cell_type": "code",
   "execution_count": 19,
   "id": "bba25aa5",
   "metadata": {},
   "outputs": [
    {
     "data": {
      "text/plain": [
       "False"
      ]
     },
     "execution_count": 19,
     "metadata": {},
     "output_type": "execute_result"
    }
   ],
   "source": [
    "customer_df.equals(quant_df_impute)"
   ]
  },
  {
   "cell_type": "code",
   "execution_count": 20,
   "id": "18a87227",
   "metadata": {},
   "outputs": [],
   "source": [
    "# customer_df[['state', 'area_code', 'international_plan', 'voice_mail_plan', 'churn']] = customer_df[['state', 'area_code', 'international_plan', 'voice_mail_plan', 'churn']].astype('string')\n",
    "# quant_df_impute[['state', 'area_code', 'international_plan', 'voice_mail_plan', 'churn']] = quant_df_impute[['state', 'area_code', 'international_plan', 'voice_mail_plan', 'churn']].astype('string')\n",
    "\n",
    "# customer_df = customer_df.apply(lambda x: x.str.strip() if x.dtype == \"object\" else x)\n",
    "# quant_df_impute = quant_df_impute.apply(lambda x: x.str.strip() if x.dtype == \"object\" else x)"
   ]
  },
  {
   "cell_type": "code",
   "execution_count": 21,
   "id": "47a6543e",
   "metadata": {},
   "outputs": [],
   "source": [
    "# from pandas.testing import assert_frame_equal\n",
    "\n",
    "# assert_frame_equal(customer_df, quant_df_impute, check_dtype = True)"
   ]
  },
  {
   "cell_type": "markdown",
   "id": "seven-retrieval",
   "metadata": {},
   "source": [
    "**II. Data splitting and merging by rows**\n",
    "\n",
    "1. Now split your toy dataset in two parts with the 30% first rows called `test` and the 70% remaining rows called `train`\n",
    "2. save your test set and your train set in two different csv files\n",
    "3. Import these two csv files and merge them back together : do you retrieve your original dataframe?"
   ]
  },
  {
   "cell_type": "code",
   "execution_count": 22,
   "id": "3d5551d2",
   "metadata": {},
   "outputs": [],
   "source": [
    "# Split the dataset into test and train\n",
    "\n",
    "test_df_bf = customer_df.iloc[:int(len(customer_df) * .3)]\n",
    "train_df_bf = customer_df.iloc[int(len(customer_df) * .3):]"
   ]
  },
  {
   "cell_type": "code",
   "execution_count": 23,
   "id": "4bbf6219",
   "metadata": {},
   "outputs": [],
   "source": [
    "# Save to csv\n",
    "\n",
    "test_df_bf.to_csv('customer_data_test.csv', index=True)\n",
    "train_df_bf.to_csv('customer_data_train.csv', index=True)"
   ]
  },
  {
   "cell_type": "code",
   "execution_count": 24,
   "id": "9c0436ef",
   "metadata": {},
   "outputs": [],
   "source": [
    "# Import from csv\n",
    "\n",
    "test_df = pd.read_csv('customer_data_test.csv', index_col=0)\n",
    "train_df = pd.read_csv('customer_data_train.csv', index_col=0)"
   ]
  },
  {
   "cell_type": "code",
   "execution_count": 25,
   "id": "81e86c43",
   "metadata": {},
   "outputs": [],
   "source": [
    "# merge the train and test\n",
    "\n",
    "df_cpin = test_df.append(train_df)\n",
    "df_cpin.to_csv('customer_data_cbn.csv', index=False)"
   ]
  },
  {
   "cell_type": "code",
   "execution_count": 26,
   "id": "d317196e",
   "metadata": {},
   "outputs": [
    {
     "name": "stdout",
     "output_type": "stream",
     "text": [
      "Good luck\n"
     ]
    }
   ],
   "source": [
    "# Compare the dataframe\n",
    "\n",
    "if df_cpin.equals(test_df_bf.append(train_df_bf)):\n",
    "    print(f\"Good luck\")\n",
    "else:\n",
    "    print(f\"No chance\")"
   ]
  },
  {
   "cell_type": "code",
   "execution_count": 27,
   "id": "acd599a1",
   "metadata": {},
   "outputs": [],
   "source": [
    "# Trun the categorical columns' type to category\n",
    "\n",
    "# customer_df['state'] = customer_df['state'].astype('category')\n",
    "# customer_df['area_code'] = customer_df['area_code'].astype('category')\n",
    "# customer_df['international_plan'] = customer_df['international_plan'].astype('category')\n",
    "# customer_df['voice_mail_plan'] = customer_df['voice_mail_plan'].astype('category')\n",
    "# customer_df['churn'] = customer_df['churn'].astype('category')"
   ]
  },
  {
   "cell_type": "code",
   "execution_count": 28,
   "id": "9aad67fb",
   "metadata": {},
   "outputs": [],
   "source": [
    "# Because of the modification of the type during the importation\n",
    "# We change the type int64 to uint8\n",
    "\n",
    "# int64_columns = df_cpin.select_dtypes(include=['int64']).columns\n",
    "# df_cpin[int64_columns] = df_cpin[int64_columns].astype('uint8')"
   ]
  },
  {
   "cell_type": "markdown",
   "id": "moving-stewart",
   "metadata": {},
   "source": [
    "**III. Linear Regression:**\n",
    "\n",
    "*Select an appropriate binary variable - justify your choice if possible - to be used as output*\n",
    "\n",
    "1. Import a Linear Regression Model from the appropriate Python package(s)\n",
    "2. Train your model\n",
    "3. Compute the performance of your Linear Regression Model in several ways and justify your choice\n",
    "4. Provide test statistics and standardized values to your estimated parameters\n",
    "5. Given a full interpretation of your results, including variable importance and explainability if possible"
   ]
  },
  {
   "cell_type": "markdown",
   "id": "6715ea47",
   "metadata": {},
   "source": [
    "total_day_minutes"
   ]
  },
  {
   "cell_type": "code",
   "execution_count": 29,
   "id": "5a5eadb0",
   "metadata": {},
   "outputs": [
    {
     "data": {
      "text/plain": [
       "state                 51\n",
       "area_code              3\n",
       "international_plan     2\n",
       "voice_mail_plan        2\n",
       "churn                  2\n",
       "dtype: int64"
      ]
     },
     "execution_count": 29,
     "metadata": {},
     "output_type": "execute_result"
    }
   ],
   "source": [
    "# Check unique values for categorical columns\n",
    "categorical_cols = train_df.iloc[:,15:].columns.tolist()\n",
    "unique_values = train_df[categorical_cols].nunique()\n",
    "\n",
    "unique_values"
   ]
  },
  {
   "cell_type": "code",
   "execution_count": 30,
   "id": "d33fe492",
   "metadata": {},
   "outputs": [
    {
     "data": {
      "text/html": [
       "<div>\n",
       "<style scoped>\n",
       "    .dataframe tbody tr th:only-of-type {\n",
       "        vertical-align: middle;\n",
       "    }\n",
       "\n",
       "    .dataframe tbody tr th {\n",
       "        vertical-align: top;\n",
       "    }\n",
       "\n",
       "    .dataframe thead th {\n",
       "        text-align: right;\n",
       "    }\n",
       "</style>\n",
       "<table border=\"1\" class=\"dataframe\">\n",
       "  <thead>\n",
       "    <tr style=\"text-align: right;\">\n",
       "      <th></th>\n",
       "      <th>area_code</th>\n",
       "      <th>international_plan</th>\n",
       "      <th>voice_mail_plan</th>\n",
       "      <th>churn</th>\n",
       "    </tr>\n",
       "  </thead>\n",
       "  <tbody>\n",
       "    <tr>\n",
       "      <th>3866</th>\n",
       "      <td>415.0</td>\n",
       "      <td>no</td>\n",
       "      <td>no</td>\n",
       "      <td>no</td>\n",
       "    </tr>\n",
       "    <tr>\n",
       "      <th>3867</th>\n",
       "      <td>510.0</td>\n",
       "      <td>no</td>\n",
       "      <td>no</td>\n",
       "      <td>no</td>\n",
       "    </tr>\n",
       "    <tr>\n",
       "      <th>3868</th>\n",
       "      <td>510.0</td>\n",
       "      <td>no</td>\n",
       "      <td>no</td>\n",
       "      <td>no</td>\n",
       "    </tr>\n",
       "    <tr>\n",
       "      <th>3869</th>\n",
       "      <td>415.0</td>\n",
       "      <td>yes</td>\n",
       "      <td>yes</td>\n",
       "      <td>no</td>\n",
       "    </tr>\n",
       "    <tr>\n",
       "      <th>3870</th>\n",
       "      <td>510.0</td>\n",
       "      <td>yes</td>\n",
       "      <td>no</td>\n",
       "      <td>yes</td>\n",
       "    </tr>\n",
       "    <tr>\n",
       "      <th>...</th>\n",
       "      <td>...</td>\n",
       "      <td>...</td>\n",
       "      <td>...</td>\n",
       "      <td>...</td>\n",
       "    </tr>\n",
       "    <tr>\n",
       "      <th>12887</th>\n",
       "      <td>415.0</td>\n",
       "      <td>no</td>\n",
       "      <td>no</td>\n",
       "      <td>no</td>\n",
       "    </tr>\n",
       "    <tr>\n",
       "      <th>12888</th>\n",
       "      <td>415.0</td>\n",
       "      <td>no</td>\n",
       "      <td>no</td>\n",
       "      <td>no</td>\n",
       "    </tr>\n",
       "    <tr>\n",
       "      <th>12889</th>\n",
       "      <td>415.0</td>\n",
       "      <td>no</td>\n",
       "      <td>yes</td>\n",
       "      <td>no</td>\n",
       "    </tr>\n",
       "    <tr>\n",
       "      <th>12890</th>\n",
       "      <td>415.0</td>\n",
       "      <td>no</td>\n",
       "      <td>no</td>\n",
       "      <td>no</td>\n",
       "    </tr>\n",
       "    <tr>\n",
       "      <th>12891</th>\n",
       "      <td>415.0</td>\n",
       "      <td>no</td>\n",
       "      <td>no</td>\n",
       "      <td>no</td>\n",
       "    </tr>\n",
       "  </tbody>\n",
       "</table>\n",
       "<p>9012 rows × 4 columns</p>\n",
       "</div>"
      ],
      "text/plain": [
       "       area_code international_plan voice_mail_plan churn\n",
       "3866       415.0                 no              no    no\n",
       "3867       510.0                 no              no    no\n",
       "3868       510.0                 no              no    no\n",
       "3869       415.0                yes             yes    no\n",
       "3870       510.0                yes              no   yes\n",
       "...          ...                ...             ...   ...\n",
       "12887      415.0                 no              no    no\n",
       "12888      415.0                 no              no    no\n",
       "12889      415.0                 no             yes    no\n",
       "12890      415.0                 no              no    no\n",
       "12891      415.0                 no              no    no\n",
       "\n",
       "[9012 rows x 4 columns]"
      ]
     },
     "execution_count": 30,
     "metadata": {},
     "output_type": "execute_result"
    }
   ],
   "source": [
    "train_df[categorical_cols].iloc[:,1:]"
   ]
  },
  {
   "cell_type": "code",
   "execution_count": 31,
   "id": "6bd60545",
   "metadata": {},
   "outputs": [],
   "source": [
    "from sklearn.preprocessing import OneHotEncoder\n",
    "\n",
    "# do OneHotEncoder for the columns with small modality\n",
    "\n",
    "categorical_ohe_cols = train_df.iloc[:,16:].columns.tolist()\n",
    "\n",
    "encoder = OneHotEncoder(sparse=False)\n",
    "encoded_data = encoder.fit_transform(train_df[categorical_ohe_cols])\n",
    "\n",
    "# feature_names = encoder.get_feature_names_out(input_features=['column_to_encode'])\n"
   ]
  },
  {
   "cell_type": "code",
   "execution_count": 32,
   "id": "ee889864",
   "metadata": {},
   "outputs": [
    {
     "data": {
      "text/plain": [
       "array([[0., 1., 0., ..., 0., 1., 0.],\n",
       "       [0., 0., 1., ..., 0., 1., 0.],\n",
       "       [0., 0., 1., ..., 0., 1., 0.],\n",
       "       ...,\n",
       "       [0., 1., 0., ..., 1., 1., 0.],\n",
       "       [0., 1., 0., ..., 0., 1., 0.],\n",
       "       [0., 1., 0., ..., 0., 1., 0.]])"
      ]
     },
     "execution_count": 32,
     "metadata": {},
     "output_type": "execute_result"
    }
   ],
   "source": [
    "encoded_data"
   ]
  },
  {
   "cell_type": "code",
   "execution_count": 33,
   "id": "b43efe2d",
   "metadata": {},
   "outputs": [],
   "source": [
    "quanti_features = train_df.iloc[:,:14].drop(columns=['total_day_minutes'], axis=1).columns.tolist()\n",
    "cat_features = train_df.iloc[:,15:].columns.tolist()\n",
    "cat_ohe_features = train_df.iloc[:,16:].columns.tolist()\n",
    "cat_pca_features = ['state']"
   ]
  },
  {
   "cell_type": "code",
   "execution_count": 34,
   "id": "aab971ab",
   "metadata": {},
   "outputs": [],
   "source": [
    "from sklearn.compose import ColumnTransformer\n",
    "from sklearn.pipeline import Pipeline\n",
    "from sklearn.preprocessing import StandardScaler, OneHotEncoder\n",
    "from sklearn.decomposition import PCA\n",
    "from sklearn.decomposition import TruncatedSVD\n",
    "\"\"\"\n",
    "creat the processor to deal with the data\n",
    "1. standarlize the quantitive feature\n",
    "2. use ohe to Numerical Classification Data with low modality\n",
    "3. use ohe to Numerical Classification Data with HIGH modality then use TruncatedSVD\n",
    "   to reduce the dimension to 2\n",
    "\"\"\"\n",
    "preprocessor = ColumnTransformer(\n",
    "    transformers=[\n",
    "        ('num', StandardScaler(), quanti_features),  # standardization\n",
    "        ('cat_ohe', OneHotEncoder(), cat_ohe_features),  # ohe for small modality\n",
    "        # ('cat_pca', Pipeline([\n",
    "        #     ('encoder', OneHotEncoder()),  # ohe\n",
    "        #     ('pca', PCA(n_components=2))  # PCA reduce dimension\n",
    "        # ]), cat_pca_features)\n",
    "        ('cat_pca', Pipeline([\n",
    "            ('encoder', OneHotEncoder()),  # ohe\n",
    "            \n",
    "            \n",
    "            # ---Here I asked to ChatBot about how to reduce the dimension---\n",
    "            # ---with sparse data, because I got an error by using pca to reduce dimension---\n",
    "            # ---There could be a problem of overfitting, so we have to use cross validation to confirme later---\n",
    "            \n",
    "            # TruncatedSVD for sparse data.\n",
    "            # TruncatedSVD is a dimensionality reduction technique similar to \n",
    "            # PCA but designed for sparse data.\n",
    "            \n",
    "            \n",
    "            ('svd', TruncatedSVD(n_components=2))\n",
    "        ]), cat_pca_features)\n",
    "    ],\n",
    "    remainder='drop'\n",
    ")\n",
    "\n",
    "pipeline = Pipeline([\n",
    "    ('preprocessor', preprocessor)\n",
    "])\n"
   ]
  },
  {
   "cell_type": "code",
   "execution_count": 35,
   "id": "096943cc",
   "metadata": {},
   "outputs": [
    {
     "name": "stdout",
     "output_type": "stream",
     "text": [
      "[[ 0.22143876 -0.61776167  0.24365504 ...  0.          0.02895759\n",
      "   0.02108354]\n",
      " [ 0.49689857 -0.61776167  2.18500056 ...  0.          0.99249947\n",
      "   0.0128682 ]\n",
      " [ 0.37168957 -0.61776167  1.45043739 ...  0.         -0.01294549\n",
      "   0.14291487]\n",
      " ...\n",
      " [-0.32948085  1.74064423 -0.49090813 ...  0.         -0.00550902\n",
      "   0.03652109]\n",
      " [ 0.47185677 -0.61776167 -0.17609535 ...  0.         -0.0030574\n",
      "   0.02232793]\n",
      " [-0.68006606 -0.61776167 -0.85818972 ...  0.          0.02112742\n",
      "  -0.03234746]]\n"
     ]
    }
   ],
   "source": [
    "train_ready = pipeline.fit_transform(train_df.drop(columns=['total_day_minutes']))\n",
    "print(train_ready)"
   ]
  },
  {
   "cell_type": "code",
   "execution_count": 36,
   "id": "4a4ef478",
   "metadata": {},
   "outputs": [],
   "source": [
    "# prepare the data for train and test\n",
    "X_train = pipeline.fit_transform(train_df.drop(columns=['total_day_minutes']))\n",
    "y_train = train_df['total_day_minutes']\n",
    "X_test = pipeline.fit_transform(test_df.drop(columns=['total_day_minutes']))\n",
    "y_test = test_df['total_day_minutes']"
   ]
  },
  {
   "cell_type": "code",
   "execution_count": 37,
   "id": "e8d848b3",
   "metadata": {},
   "outputs": [
    {
     "data": {
      "text/html": [
       "<style>#sk-container-id-1 {color: black;}#sk-container-id-1 pre{padding: 0;}#sk-container-id-1 div.sk-toggleable {background-color: white;}#sk-container-id-1 label.sk-toggleable__label {cursor: pointer;display: block;width: 100%;margin-bottom: 0;padding: 0.3em;box-sizing: border-box;text-align: center;}#sk-container-id-1 label.sk-toggleable__label-arrow:before {content: \"▸\";float: left;margin-right: 0.25em;color: #696969;}#sk-container-id-1 label.sk-toggleable__label-arrow:hover:before {color: black;}#sk-container-id-1 div.sk-estimator:hover label.sk-toggleable__label-arrow:before {color: black;}#sk-container-id-1 div.sk-toggleable__content {max-height: 0;max-width: 0;overflow: hidden;text-align: left;background-color: #f0f8ff;}#sk-container-id-1 div.sk-toggleable__content pre {margin: 0.2em;color: black;border-radius: 0.25em;background-color: #f0f8ff;}#sk-container-id-1 input.sk-toggleable__control:checked~div.sk-toggleable__content {max-height: 200px;max-width: 100%;overflow: auto;}#sk-container-id-1 input.sk-toggleable__control:checked~label.sk-toggleable__label-arrow:before {content: \"▾\";}#sk-container-id-1 div.sk-estimator input.sk-toggleable__control:checked~label.sk-toggleable__label {background-color: #d4ebff;}#sk-container-id-1 div.sk-label input.sk-toggleable__control:checked~label.sk-toggleable__label {background-color: #d4ebff;}#sk-container-id-1 input.sk-hidden--visually {border: 0;clip: rect(1px 1px 1px 1px);clip: rect(1px, 1px, 1px, 1px);height: 1px;margin: -1px;overflow: hidden;padding: 0;position: absolute;width: 1px;}#sk-container-id-1 div.sk-estimator {font-family: monospace;background-color: #f0f8ff;border: 1px dotted black;border-radius: 0.25em;box-sizing: border-box;margin-bottom: 0.5em;}#sk-container-id-1 div.sk-estimator:hover {background-color: #d4ebff;}#sk-container-id-1 div.sk-parallel-item::after {content: \"\";width: 100%;border-bottom: 1px solid gray;flex-grow: 1;}#sk-container-id-1 div.sk-label:hover label.sk-toggleable__label {background-color: #d4ebff;}#sk-container-id-1 div.sk-serial::before {content: \"\";position: absolute;border-left: 1px solid gray;box-sizing: border-box;top: 0;bottom: 0;left: 50%;z-index: 0;}#sk-container-id-1 div.sk-serial {display: flex;flex-direction: column;align-items: center;background-color: white;padding-right: 0.2em;padding-left: 0.2em;position: relative;}#sk-container-id-1 div.sk-item {position: relative;z-index: 1;}#sk-container-id-1 div.sk-parallel {display: flex;align-items: stretch;justify-content: center;background-color: white;position: relative;}#sk-container-id-1 div.sk-item::before, #sk-container-id-1 div.sk-parallel-item::before {content: \"\";position: absolute;border-left: 1px solid gray;box-sizing: border-box;top: 0;bottom: 0;left: 50%;z-index: -1;}#sk-container-id-1 div.sk-parallel-item {display: flex;flex-direction: column;z-index: 1;position: relative;background-color: white;}#sk-container-id-1 div.sk-parallel-item:first-child::after {align-self: flex-end;width: 50%;}#sk-container-id-1 div.sk-parallel-item:last-child::after {align-self: flex-start;width: 50%;}#sk-container-id-1 div.sk-parallel-item:only-child::after {width: 0;}#sk-container-id-1 div.sk-dashed-wrapped {border: 1px dashed gray;margin: 0 0.4em 0.5em 0.4em;box-sizing: border-box;padding-bottom: 0.4em;background-color: white;}#sk-container-id-1 div.sk-label label {font-family: monospace;font-weight: bold;display: inline-block;line-height: 1.2em;}#sk-container-id-1 div.sk-label-container {text-align: center;}#sk-container-id-1 div.sk-container {/* jupyter's `normalize.less` sets `[hidden] { display: none; }` but bootstrap.min.css set `[hidden] { display: none !important; }` so we also need the `!important` here to be able to override the default hidden behavior on the sphinx rendered scikit-learn.org. See: https://github.com/scikit-learn/scikit-learn/issues/21755 */display: inline-block !important;position: relative;}#sk-container-id-1 div.sk-text-repr-fallback {display: none;}</style><div id=\"sk-container-id-1\" class=\"sk-top-container\"><div class=\"sk-text-repr-fallback\"><pre>LinearRegression()</pre><b>In a Jupyter environment, please rerun this cell to show the HTML representation or trust the notebook. <br />On GitHub, the HTML representation is unable to render, please try loading this page with nbviewer.org.</b></div><div class=\"sk-container\" hidden><div class=\"sk-item\"><div class=\"sk-estimator sk-toggleable\"><input class=\"sk-toggleable__control sk-hidden--visually\" id=\"sk-estimator-id-1\" type=\"checkbox\" checked><label for=\"sk-estimator-id-1\" class=\"sk-toggleable__label sk-toggleable__label-arrow\">LinearRegression</label><div class=\"sk-toggleable__content\"><pre>LinearRegression()</pre></div></div></div></div></div>"
      ],
      "text/plain": [
       "LinearRegression()"
      ]
     },
     "execution_count": 37,
     "metadata": {},
     "output_type": "execute_result"
    }
   ],
   "source": [
    "from sklearn.linear_model import LinearRegression\n",
    "from sklearn.metrics import mean_squared_error, r2_score\n",
    "import statsmodels.api as sm\n",
    "\n",
    "# fit the model\n",
    "lr_model = LinearRegression()\n",
    "lr_model.fit(X_train, y_train)"
   ]
  },
  {
   "cell_type": "code",
   "execution_count": 38,
   "id": "94b18356",
   "metadata": {},
   "outputs": [
    {
     "name": "stdout",
     "output_type": "stream",
     "text": [
      "train_mse : 159.57344760269726\n",
      "test_mse : 239.49751029539942\n",
      "train_r2 : 0.9423909045834004\n",
      "test_r2 : 0.9092992018380305\n"
     ]
    }
   ],
   "source": [
    "train_preds = lr_model.predict(X_train)\n",
    "test_preds = lr_model.predict(X_test)\n",
    "\n",
    "# evaluate the performance\n",
    "train_mse = mean_squared_error(y_train, train_preds)\n",
    "test_mse = mean_squared_error(y_test, test_preds)\n",
    "train_r2 = r2_score(y_train, train_preds)\n",
    "test_r2 = r2_score(y_test, test_preds)\n",
    "\n",
    "print(f\"train_mse : {train_mse}\")\n",
    "print(f\"test_mse : {test_mse}\")\n",
    "print(f\"train_r2 : {train_r2}\")\n",
    "print(f\"test_r2 : {test_r2}\")"
   ]
  },
  {
   "cell_type": "code",
   "execution_count": 39,
   "id": "8032604d",
   "metadata": {},
   "outputs": [
    {
     "data": {
      "text/html": [
       "<div>\n",
       "<style scoped>\n",
       "    .dataframe tbody tr th:only-of-type {\n",
       "        vertical-align: middle;\n",
       "    }\n",
       "\n",
       "    .dataframe tbody tr th {\n",
       "        vertical-align: top;\n",
       "    }\n",
       "\n",
       "    .dataframe thead th {\n",
       "        text-align: right;\n",
       "    }\n",
       "</style>\n",
       "<table border=\"1\" class=\"dataframe\">\n",
       "  <thead>\n",
       "    <tr style=\"text-align: right;\">\n",
       "      <th></th>\n",
       "      <th>Feature</th>\n",
       "      <th>Coefficient</th>\n",
       "      <th>P-value</th>\n",
       "    </tr>\n",
       "  </thead>\n",
       "  <tbody>\n",
       "    <tr>\n",
       "      <th>const</th>\n",
       "      <td>Intercept</td>\n",
       "      <td>-6.125848e+12</td>\n",
       "      <td>0.841088</td>\n",
       "    </tr>\n",
       "    <tr>\n",
       "      <th>x17</th>\n",
       "      <td>cat_ohe__international_plan_no</td>\n",
       "      <td>1.990523e+12</td>\n",
       "      <td>0.841088</td>\n",
       "    </tr>\n",
       "    <tr>\n",
       "      <th>x18</th>\n",
       "      <td>cat_ohe__international_plan_yes</td>\n",
       "      <td>1.990523e+12</td>\n",
       "      <td>0.841088</td>\n",
       "    </tr>\n",
       "    <tr>\n",
       "      <th>x22</th>\n",
       "      <td>cat_ohe__churn_yes</td>\n",
       "      <td>1.946528e+12</td>\n",
       "      <td>0.841088</td>\n",
       "    </tr>\n",
       "    <tr>\n",
       "      <th>x21</th>\n",
       "      <td>cat_ohe__churn_no</td>\n",
       "      <td>1.946528e+12</td>\n",
       "      <td>0.841088</td>\n",
       "    </tr>\n",
       "    <tr>\n",
       "      <th>x19</th>\n",
       "      <td>cat_ohe__voice_mail_plan_no</td>\n",
       "      <td>1.829350e+12</td>\n",
       "      <td>0.841088</td>\n",
       "    </tr>\n",
       "    <tr>\n",
       "      <th>x20</th>\n",
       "      <td>cat_ohe__voice_mail_plan_yes</td>\n",
       "      <td>1.829350e+12</td>\n",
       "      <td>0.841088</td>\n",
       "    </tr>\n",
       "    <tr>\n",
       "      <th>x15</th>\n",
       "      <td>cat_ohe__area_code_415.0</td>\n",
       "      <td>3.594474e+11</td>\n",
       "      <td>0.841088</td>\n",
       "    </tr>\n",
       "    <tr>\n",
       "      <th>x16</th>\n",
       "      <td>cat_ohe__area_code_510.0</td>\n",
       "      <td>3.594474e+11</td>\n",
       "      <td>0.841088</td>\n",
       "    </tr>\n",
       "    <tr>\n",
       "      <th>x14</th>\n",
       "      <td>cat_ohe__area_code_408.0</td>\n",
       "      <td>3.594474e+11</td>\n",
       "      <td>0.841088</td>\n",
       "    </tr>\n",
       "    <tr>\n",
       "      <th>x4</th>\n",
       "      <td>num__total_day_charge</td>\n",
       "      <td>5.103457e+01</td>\n",
       "      <td>0.000000</td>\n",
       "    </tr>\n",
       "    <tr>\n",
       "      <th>x24</th>\n",
       "      <td>cat_pca__truncatedsvd1</td>\n",
       "      <td>1.739555e+00</td>\n",
       "      <td>0.041648</td>\n",
       "    </tr>\n",
       "    <tr>\n",
       "      <th>x8</th>\n",
       "      <td>num__total_night_minutes</td>\n",
       "      <td>1.129907e+00</td>\n",
       "      <td>0.162523</td>\n",
       "    </tr>\n",
       "    <tr>\n",
       "      <th>x10</th>\n",
       "      <td>num__total_night_charge</td>\n",
       "      <td>-1.084760e+00</td>\n",
       "      <td>0.180034</td>\n",
       "    </tr>\n",
       "    <tr>\n",
       "      <th>x2</th>\n",
       "      <td>num__number_vmail_messages</td>\n",
       "      <td>6.406460e-01</td>\n",
       "      <td>0.079354</td>\n",
       "    </tr>\n",
       "    <tr>\n",
       "      <th>x13</th>\n",
       "      <td>num__total_intl_charge</td>\n",
       "      <td>5.481686e-01</td>\n",
       "      <td>0.280611</td>\n",
       "    </tr>\n",
       "    <tr>\n",
       "      <th>x11</th>\n",
       "      <td>num__total_intl_minutes</td>\n",
       "      <td>-3.201525e-01</td>\n",
       "      <td>0.528621</td>\n",
       "    </tr>\n",
       "    <tr>\n",
       "      <th>x23</th>\n",
       "      <td>cat_pca__truncatedsvd0</td>\n",
       "      <td>-2.580370e-01</td>\n",
       "      <td>0.733934</td>\n",
       "    </tr>\n",
       "    <tr>\n",
       "      <th>x1</th>\n",
       "      <td>num__account_length</td>\n",
       "      <td>-2.477564e-01</td>\n",
       "      <td>0.065633</td>\n",
       "    </tr>\n",
       "    <tr>\n",
       "      <th>x5</th>\n",
       "      <td>num__total_eve_minutes</td>\n",
       "      <td>-1.862250e-01</td>\n",
       "      <td>0.704741</td>\n",
       "    </tr>\n",
       "    <tr>\n",
       "      <th>x7</th>\n",
       "      <td>num__total_eve_charge</td>\n",
       "      <td>-1.094986e-01</td>\n",
       "      <td>0.823585</td>\n",
       "    </tr>\n",
       "    <tr>\n",
       "      <th>x9</th>\n",
       "      <td>num__total_night_calls</td>\n",
       "      <td>-7.316661e-02</td>\n",
       "      <td>0.586618</td>\n",
       "    </tr>\n",
       "    <tr>\n",
       "      <th>x3</th>\n",
       "      <td>num__total_day_calls</td>\n",
       "      <td>4.611668e-02</td>\n",
       "      <td>0.731838</td>\n",
       "    </tr>\n",
       "    <tr>\n",
       "      <th>x12</th>\n",
       "      <td>num__total_intl_calls</td>\n",
       "      <td>3.779365e-02</td>\n",
       "      <td>0.779328</td>\n",
       "    </tr>\n",
       "    <tr>\n",
       "      <th>x6</th>\n",
       "      <td>num__total_eve_calls</td>\n",
       "      <td>1.211665e-02</td>\n",
       "      <td>0.928221</td>\n",
       "    </tr>\n",
       "  </tbody>\n",
       "</table>\n",
       "</div>"
      ],
      "text/plain": [
       "                               Feature   Coefficient   P-value\n",
       "const                        Intercept -6.125848e+12  0.841088\n",
       "x17     cat_ohe__international_plan_no  1.990523e+12  0.841088\n",
       "x18    cat_ohe__international_plan_yes  1.990523e+12  0.841088\n",
       "x22                 cat_ohe__churn_yes  1.946528e+12  0.841088\n",
       "x21                  cat_ohe__churn_no  1.946528e+12  0.841088\n",
       "x19        cat_ohe__voice_mail_plan_no  1.829350e+12  0.841088\n",
       "x20       cat_ohe__voice_mail_plan_yes  1.829350e+12  0.841088\n",
       "x15           cat_ohe__area_code_415.0  3.594474e+11  0.841088\n",
       "x16           cat_ohe__area_code_510.0  3.594474e+11  0.841088\n",
       "x14           cat_ohe__area_code_408.0  3.594474e+11  0.841088\n",
       "x4               num__total_day_charge  5.103457e+01  0.000000\n",
       "x24             cat_pca__truncatedsvd1  1.739555e+00  0.041648\n",
       "x8            num__total_night_minutes  1.129907e+00  0.162523\n",
       "x10            num__total_night_charge -1.084760e+00  0.180034\n",
       "x2          num__number_vmail_messages  6.406460e-01  0.079354\n",
       "x13             num__total_intl_charge  5.481686e-01  0.280611\n",
       "x11            num__total_intl_minutes -3.201525e-01  0.528621\n",
       "x23             cat_pca__truncatedsvd0 -2.580370e-01  0.733934\n",
       "x1                 num__account_length -2.477564e-01  0.065633\n",
       "x5              num__total_eve_minutes -1.862250e-01  0.704741\n",
       "x7               num__total_eve_charge -1.094986e-01  0.823585\n",
       "x9              num__total_night_calls -7.316661e-02  0.586618\n",
       "x3                num__total_day_calls  4.611668e-02  0.731838\n",
       "x12              num__total_intl_calls  3.779365e-02  0.779328\n",
       "x6                num__total_eve_calls  1.211665e-02  0.928221"
      ]
     },
     "metadata": {},
     "output_type": "display_data"
    }
   ],
   "source": [
    "# combine the result of performance\n",
    "\n",
    "# ---Here I asked ChatBot about the model ols and stats models api---\n",
    "# ---to output the coefficient / importance of each feature and the error---\n",
    "# X_train_dense = X_train.toarray()\n",
    "X_train_dense = X_train\n",
    "X_train_const = sm.add_constant(X_train_dense)\n",
    "ols_model = sm.OLS(y_train, X_train_const).fit()\n",
    "coefficients = ols_model.params\n",
    "p_values = ols_model.pvalues\n",
    "sorted_indices = np.argsort(np.abs(coefficients))[::-1]\n",
    "feature_names = np.array(['Intercept'] + preprocessor.get_feature_names_out().tolist())\n",
    "results_df = pd.DataFrame({\n",
    "    'Feature': feature_names[sorted_indices],\n",
    "    'Coefficient': coefficients[sorted_indices],\n",
    "    'P-value': p_values[sorted_indices]\n",
    "})\n",
    "display(results_df)"
   ]
  },
  {
   "cell_type": "markdown",
   "id": "17194359",
   "metadata": {},
   "source": [
    "## Linear Regression Analysis\n",
    "\n",
    "### Model Performance:\n",
    "- **Training MSE**: 159.59 - This indicates the model's average squared error on training data.\n",
    "- **Test MSE**: 239.30 - A measure of the model's average squared error on unseen data.\n",
    "- **Training \\( R^2 \\)**: 0.9424 - The model explains 94.24% of the variability in the training data.\n",
    "- **Test \\( R^2 \\)**: 0.9094 - The model explains 90.94% of the variability in the test data.\n",
    "\n",
    "1. **MSE Discrepancy**: \n",
    "   The Mean Squared Error (MSE) for the training set is 159.59, which is significantly lower than the test set MSE of 239.30. This indicates the model is performing much better on the training data than on unseen data.\n",
    "\n",
    "2. **\\( R^2 \\) Difference**: \n",
    "   While the difference isn't vast, the training set's \\( R^2 \\) value of 0.9424 is slightly higher than the test set's 0.9094. This suggests the model fits the training data better than it does the test data.\n",
    "\n",
    "3. **High Coefficients with High p-values**: \n",
    "   Some features in the model exhibit large coefficients but also come with high p-values, suggesting they might not be statistically significant. This could be a sign that the model might be overfitting to noise present in the training data.\n",
    "\n",
    "### Key Features:\n",
    "- `num__total_day_charge` has a significant positive coefficient of 51.03, indicating it's an important predictor.\n",
    "- Most categorical features (like `cat_ohe__international_plan_no`, `cat_ohe__voice_mail_plan_yes`, etc.) have large coefficients but high p-values (0.840601). This suggests they may not be statistically significant.\n",
    "- Continuous features (like `num__total_night_minutes`, `num__number_vmail_messages`, etc.) have smaller coefficients but varying p-values, suggesting different levels of significance.\n"
   ]
  },
  {
   "cell_type": "markdown",
   "id": "691b29e1",
   "metadata": {},
   "source": [
    "---"
   ]
  },
  {
   "cell_type": "markdown",
   "id": "interracial-married",
   "metadata": {},
   "source": [
    "***K neighbors model:***\n",
    "\n",
    "Repeat the 5 previous steps for the the K Nearest Neighbors Model :\n",
    "1. Which is the best model amongst the two?\n",
    "2. What if we fitted and estimated the score of the models using all the dataset? Would there be a difference?"
   ]
  },
  {
   "cell_type": "code",
   "execution_count": 40,
   "id": "229b6de9",
   "metadata": {},
   "outputs": [
    {
     "data": {
      "text/html": [
       "<style>#sk-container-id-2 {color: black;}#sk-container-id-2 pre{padding: 0;}#sk-container-id-2 div.sk-toggleable {background-color: white;}#sk-container-id-2 label.sk-toggleable__label {cursor: pointer;display: block;width: 100%;margin-bottom: 0;padding: 0.3em;box-sizing: border-box;text-align: center;}#sk-container-id-2 label.sk-toggleable__label-arrow:before {content: \"▸\";float: left;margin-right: 0.25em;color: #696969;}#sk-container-id-2 label.sk-toggleable__label-arrow:hover:before {color: black;}#sk-container-id-2 div.sk-estimator:hover label.sk-toggleable__label-arrow:before {color: black;}#sk-container-id-2 div.sk-toggleable__content {max-height: 0;max-width: 0;overflow: hidden;text-align: left;background-color: #f0f8ff;}#sk-container-id-2 div.sk-toggleable__content pre {margin: 0.2em;color: black;border-radius: 0.25em;background-color: #f0f8ff;}#sk-container-id-2 input.sk-toggleable__control:checked~div.sk-toggleable__content {max-height: 200px;max-width: 100%;overflow: auto;}#sk-container-id-2 input.sk-toggleable__control:checked~label.sk-toggleable__label-arrow:before {content: \"▾\";}#sk-container-id-2 div.sk-estimator input.sk-toggleable__control:checked~label.sk-toggleable__label {background-color: #d4ebff;}#sk-container-id-2 div.sk-label input.sk-toggleable__control:checked~label.sk-toggleable__label {background-color: #d4ebff;}#sk-container-id-2 input.sk-hidden--visually {border: 0;clip: rect(1px 1px 1px 1px);clip: rect(1px, 1px, 1px, 1px);height: 1px;margin: -1px;overflow: hidden;padding: 0;position: absolute;width: 1px;}#sk-container-id-2 div.sk-estimator {font-family: monospace;background-color: #f0f8ff;border: 1px dotted black;border-radius: 0.25em;box-sizing: border-box;margin-bottom: 0.5em;}#sk-container-id-2 div.sk-estimator:hover {background-color: #d4ebff;}#sk-container-id-2 div.sk-parallel-item::after {content: \"\";width: 100%;border-bottom: 1px solid gray;flex-grow: 1;}#sk-container-id-2 div.sk-label:hover label.sk-toggleable__label {background-color: #d4ebff;}#sk-container-id-2 div.sk-serial::before {content: \"\";position: absolute;border-left: 1px solid gray;box-sizing: border-box;top: 0;bottom: 0;left: 50%;z-index: 0;}#sk-container-id-2 div.sk-serial {display: flex;flex-direction: column;align-items: center;background-color: white;padding-right: 0.2em;padding-left: 0.2em;position: relative;}#sk-container-id-2 div.sk-item {position: relative;z-index: 1;}#sk-container-id-2 div.sk-parallel {display: flex;align-items: stretch;justify-content: center;background-color: white;position: relative;}#sk-container-id-2 div.sk-item::before, #sk-container-id-2 div.sk-parallel-item::before {content: \"\";position: absolute;border-left: 1px solid gray;box-sizing: border-box;top: 0;bottom: 0;left: 50%;z-index: -1;}#sk-container-id-2 div.sk-parallel-item {display: flex;flex-direction: column;z-index: 1;position: relative;background-color: white;}#sk-container-id-2 div.sk-parallel-item:first-child::after {align-self: flex-end;width: 50%;}#sk-container-id-2 div.sk-parallel-item:last-child::after {align-self: flex-start;width: 50%;}#sk-container-id-2 div.sk-parallel-item:only-child::after {width: 0;}#sk-container-id-2 div.sk-dashed-wrapped {border: 1px dashed gray;margin: 0 0.4em 0.5em 0.4em;box-sizing: border-box;padding-bottom: 0.4em;background-color: white;}#sk-container-id-2 div.sk-label label {font-family: monospace;font-weight: bold;display: inline-block;line-height: 1.2em;}#sk-container-id-2 div.sk-label-container {text-align: center;}#sk-container-id-2 div.sk-container {/* jupyter's `normalize.less` sets `[hidden] { display: none; }` but bootstrap.min.css set `[hidden] { display: none !important; }` so we also need the `!important` here to be able to override the default hidden behavior on the sphinx rendered scikit-learn.org. See: https://github.com/scikit-learn/scikit-learn/issues/21755 */display: inline-block !important;position: relative;}#sk-container-id-2 div.sk-text-repr-fallback {display: none;}</style><div id=\"sk-container-id-2\" class=\"sk-top-container\"><div class=\"sk-text-repr-fallback\"><pre>KNeighborsRegressor()</pre><b>In a Jupyter environment, please rerun this cell to show the HTML representation or trust the notebook. <br />On GitHub, the HTML representation is unable to render, please try loading this page with nbviewer.org.</b></div><div class=\"sk-container\" hidden><div class=\"sk-item\"><div class=\"sk-estimator sk-toggleable\"><input class=\"sk-toggleable__control sk-hidden--visually\" id=\"sk-estimator-id-2\" type=\"checkbox\" checked><label for=\"sk-estimator-id-2\" class=\"sk-toggleable__label sk-toggleable__label-arrow\">KNeighborsRegressor</label><div class=\"sk-toggleable__content\"><pre>KNeighborsRegressor()</pre></div></div></div></div></div>"
      ],
      "text/plain": [
       "KNeighborsRegressor()"
      ]
     },
     "execution_count": 40,
     "metadata": {},
     "output_type": "execute_result"
    }
   ],
   "source": [
    "from sklearn.neighbors import KNeighborsRegressor\n",
    "\n",
    "X_train = pipeline.fit_transform(train_df.drop(columns=['total_day_minutes']))\n",
    "y_train = train_df['total_day_minutes']\n",
    "X_test = pipeline.fit_transform(test_df.drop(columns=['total_day_minutes']))\n",
    "y_test = test_df['total_day_minutes']\n",
    "\n",
    "# fit the knn model\n",
    "knn_model = KNeighborsRegressor(n_neighbors=5)\n",
    "knn_model.fit(X_train, y_train)"
   ]
  },
  {
   "cell_type": "code",
   "execution_count": 41,
   "id": "64a072c7",
   "metadata": {},
   "outputs": [
    {
     "name": "stdout",
     "output_type": "stream",
     "text": [
      "KNN train_mse : 251.52687339724812\n",
      "KNN test_mse : 522.1385017808858\n",
      "KNN train_r2 : 0.909193942557044\n",
      "KNN test_r2 : 0.8022594105291163\n"
     ]
    }
   ],
   "source": [
    "# evaluate the performance\n",
    "train_preds_knn = knn_model.predict(X_train)\n",
    "test_preds_knn = knn_model.predict(X_test)\n",
    "\n",
    "train_mse_knn = mean_squared_error(y_train, train_preds_knn)\n",
    "test_mse_knn = mean_squared_error(y_test, test_preds_knn)\n",
    "train_r2_knn = r2_score(y_train, train_preds_knn)\n",
    "test_r2_knn = r2_score(y_test, test_preds_knn)\n",
    "\n",
    "print(f\"KNN train_mse : {train_mse_knn}\")\n",
    "print(f\"KNN test_mse : {test_mse_knn}\")\n",
    "print(f\"KNN train_r2 : {train_r2_knn}\")\n",
    "print(f\"KNN test_r2 : {test_r2_knn}\")"
   ]
  },
  {
   "cell_type": "markdown",
   "id": "5cd72bb2",
   "metadata": {},
   "source": [
    "## KNN Regression\n",
    "\n",
    "### Model Performance:\n",
    "- **Training MSE**: 251.00 - Indicates the average squared error of the model on training data.\n",
    "- **Test MSE**: 521.59 - Measures the average squared error on unseen data.\n",
    "- **Training \\( R^2 \\)**: 0.9094 - The model explains 90.94% of the variability in the training data.\n",
    "- **Test \\( R^2 \\)**: 0.8025 - The model explains 80.25% of the variability in the test data.\n",
    "\n",
    "### Insights:\n",
    "- The model performs reasonably well, with a high \\( R^2 \\) on both training and test datasets.\n",
    "- However, there's a noticeable difference between training and test MSE, suggesting the model might be overfitting to the training data.\n",
    "- The drop in \\( R^2 \\) from training to test set further supports the overfitting hypothesis.\n",
    "\n",
    "The KNN regression model seems to be overfitting to the training data, as indicated by the performance difference between training and test datasets. Consider tuning KNN parameters or using other regularization techniques to improve generalization."
   ]
  },
  {
   "cell_type": "markdown",
   "id": "fcc9b858",
   "metadata": {},
   "source": [
    "## Model Comparison: Linear Regression vs KNN Regression\n",
    "\n",
    "###  Which best\n",
    "\n",
    "- **Model Performance**:\n",
    "   - **Linear Regression**: Test \\( R^2 \\) is 0.9094.\n",
    "   - **KNN Regression**: Test \\( R^2 \\) is 0.8025.\n",
    "   - Linear regression seems to outperform KNN regression on the test set based on the \\( R^2 \\) values.\n",
    "   \n",
    "- **Overfitting**:\n",
    "   - Both models show signs of overfitting, as their performance on training data is notably better than on the test data. However, KNN seems to be more prone to overfitting given the more considerable performance disparity between training and test sets.\n",
    "\n",
    "### What if by using all the dataset?\n",
    "\n",
    "If we use the entire dataset (a combination of training and testing) to fit and estimate the model, we may get a lower error rate because the model will benefit from more data.\n",
    "- However, it may overestimate the model's capabilities.\n",
    "- In addition, signs of overfitting have already been shown, then using more data may exacerbate the overfitting .\n"
   ]
  },
  {
   "cell_type": "markdown",
   "id": "e51ef095",
   "metadata": {},
   "source": [
    "---"
   ]
  },
  {
   "cell_type": "markdown",
   "id": "62c1847b",
   "metadata": {},
   "source": [
    "**IV. Logistic Regression**\n",
    "\n",
    "*Select an appropriate binary variable - justify your choice if possible - to be used as output*\n",
    "\n",
    "1. Import a Logistic Regression Model from the appropriate Python packages(s)\n",
    "2. Train your model\n",
    "3. Assess the performance of your model, if possible in different ways and justify your choice\n",
    "4. Provide test statistics and standardized values to your estimated parameters\n",
    "5. Given a full interpretation of your results, including variable importance and explainability if possible"
   ]
  },
  {
   "cell_type": "code",
   "execution_count": 42,
   "id": "9fdd673b",
   "metadata": {},
   "outputs": [],
   "source": [
    "quanti_features = train_df.iloc[:,:14].columns.tolist()\n",
    "cat_features = train_df.iloc[:,15:].columns.tolist()\n",
    "cat_ohe_features = train_df.iloc[:,16:].drop(columns=['churn'], axis=1).columns.tolist()\n",
    "cat_pca_features = ['state']\n"
   ]
  },
  {
   "cell_type": "code",
   "execution_count": 43,
   "id": "f67b6d64",
   "metadata": {},
   "outputs": [],
   "source": [
    "from sklearn.compose import ColumnTransformer\n",
    "from sklearn.pipeline import Pipeline\n",
    "from sklearn.preprocessing import StandardScaler, OneHotEncoder\n",
    "from sklearn.decomposition import PCA\n",
    "from sklearn.decomposition import TruncatedSVD\n",
    "\"\"\"\n",
    "creat the processor to deal with the data\n",
    "1. standarlize the quantitive feature\n",
    "2. use ohe to Numerical Classification Data with low modality\n",
    "3. use ohe to Numerical Classification Data with HIGH modality then use TruncatedSVD\n",
    "   to reduce the dimension to 2\n",
    "\"\"\"\n",
    "preprocessor = ColumnTransformer(\n",
    "    transformers=[\n",
    "        ('num', StandardScaler(), quanti_features),  # standardization\n",
    "        ('cat_ohe', OneHotEncoder(), cat_ohe_features),  # ohe for small modality\n",
    "        # ('cat_pca', Pipeline([\n",
    "        #     ('encoder', OneHotEncoder()),  # ohe\n",
    "        #     ('pca', PCA(n_components=2))  # PCA reduce dimension\n",
    "        # ]), cat_pca_features)\n",
    "        ('cat_pca', Pipeline([\n",
    "            ('encoder', OneHotEncoder()),  # ohe\n",
    "            \n",
    "            \n",
    "            # ---Here I asked to ChatBot about how to reduce the dimension---\n",
    "            # ---with sparse data, because I got an error by using pca to reduce dimension---\n",
    "            # ---There could be a problem of overfitting, so we have to use cross validation to confirme later---\n",
    "            \n",
    "            # TruncatedSVD for sparse data.\n",
    "            # TruncatedSVD is a dimensionality reduction technique similar to \n",
    "            # PCA but designed for sparse data.\n",
    "            \n",
    "            \n",
    "            ('svd', TruncatedSVD(n_components=2))\n",
    "        ]), cat_pca_features)\n",
    "    ],\n",
    "    remainder='drop'\n",
    ")\n",
    "\n",
    "pipeline = Pipeline([\n",
    "    ('preprocessor', preprocessor)\n",
    "])\n"
   ]
  },
  {
   "cell_type": "code",
   "execution_count": 44,
   "id": "aa842438",
   "metadata": {},
   "outputs": [
    {
     "data": {
      "text/html": [
       "<style>#sk-container-id-3 {color: black;}#sk-container-id-3 pre{padding: 0;}#sk-container-id-3 div.sk-toggleable {background-color: white;}#sk-container-id-3 label.sk-toggleable__label {cursor: pointer;display: block;width: 100%;margin-bottom: 0;padding: 0.3em;box-sizing: border-box;text-align: center;}#sk-container-id-3 label.sk-toggleable__label-arrow:before {content: \"▸\";float: left;margin-right: 0.25em;color: #696969;}#sk-container-id-3 label.sk-toggleable__label-arrow:hover:before {color: black;}#sk-container-id-3 div.sk-estimator:hover label.sk-toggleable__label-arrow:before {color: black;}#sk-container-id-3 div.sk-toggleable__content {max-height: 0;max-width: 0;overflow: hidden;text-align: left;background-color: #f0f8ff;}#sk-container-id-3 div.sk-toggleable__content pre {margin: 0.2em;color: black;border-radius: 0.25em;background-color: #f0f8ff;}#sk-container-id-3 input.sk-toggleable__control:checked~div.sk-toggleable__content {max-height: 200px;max-width: 100%;overflow: auto;}#sk-container-id-3 input.sk-toggleable__control:checked~label.sk-toggleable__label-arrow:before {content: \"▾\";}#sk-container-id-3 div.sk-estimator input.sk-toggleable__control:checked~label.sk-toggleable__label {background-color: #d4ebff;}#sk-container-id-3 div.sk-label input.sk-toggleable__control:checked~label.sk-toggleable__label {background-color: #d4ebff;}#sk-container-id-3 input.sk-hidden--visually {border: 0;clip: rect(1px 1px 1px 1px);clip: rect(1px, 1px, 1px, 1px);height: 1px;margin: -1px;overflow: hidden;padding: 0;position: absolute;width: 1px;}#sk-container-id-3 div.sk-estimator {font-family: monospace;background-color: #f0f8ff;border: 1px dotted black;border-radius: 0.25em;box-sizing: border-box;margin-bottom: 0.5em;}#sk-container-id-3 div.sk-estimator:hover {background-color: #d4ebff;}#sk-container-id-3 div.sk-parallel-item::after {content: \"\";width: 100%;border-bottom: 1px solid gray;flex-grow: 1;}#sk-container-id-3 div.sk-label:hover label.sk-toggleable__label {background-color: #d4ebff;}#sk-container-id-3 div.sk-serial::before {content: \"\";position: absolute;border-left: 1px solid gray;box-sizing: border-box;top: 0;bottom: 0;left: 50%;z-index: 0;}#sk-container-id-3 div.sk-serial {display: flex;flex-direction: column;align-items: center;background-color: white;padding-right: 0.2em;padding-left: 0.2em;position: relative;}#sk-container-id-3 div.sk-item {position: relative;z-index: 1;}#sk-container-id-3 div.sk-parallel {display: flex;align-items: stretch;justify-content: center;background-color: white;position: relative;}#sk-container-id-3 div.sk-item::before, #sk-container-id-3 div.sk-parallel-item::before {content: \"\";position: absolute;border-left: 1px solid gray;box-sizing: border-box;top: 0;bottom: 0;left: 50%;z-index: -1;}#sk-container-id-3 div.sk-parallel-item {display: flex;flex-direction: column;z-index: 1;position: relative;background-color: white;}#sk-container-id-3 div.sk-parallel-item:first-child::after {align-self: flex-end;width: 50%;}#sk-container-id-3 div.sk-parallel-item:last-child::after {align-self: flex-start;width: 50%;}#sk-container-id-3 div.sk-parallel-item:only-child::after {width: 0;}#sk-container-id-3 div.sk-dashed-wrapped {border: 1px dashed gray;margin: 0 0.4em 0.5em 0.4em;box-sizing: border-box;padding-bottom: 0.4em;background-color: white;}#sk-container-id-3 div.sk-label label {font-family: monospace;font-weight: bold;display: inline-block;line-height: 1.2em;}#sk-container-id-3 div.sk-label-container {text-align: center;}#sk-container-id-3 div.sk-container {/* jupyter's `normalize.less` sets `[hidden] { display: none; }` but bootstrap.min.css set `[hidden] { display: none !important; }` so we also need the `!important` here to be able to override the default hidden behavior on the sphinx rendered scikit-learn.org. See: https://github.com/scikit-learn/scikit-learn/issues/21755 */display: inline-block !important;position: relative;}#sk-container-id-3 div.sk-text-repr-fallback {display: none;}</style><div id=\"sk-container-id-3\" class=\"sk-top-container\"><div class=\"sk-text-repr-fallback\"><pre>LogisticRegression(max_iter=10000)</pre><b>In a Jupyter environment, please rerun this cell to show the HTML representation or trust the notebook. <br />On GitHub, the HTML representation is unable to render, please try loading this page with nbviewer.org.</b></div><div class=\"sk-container\" hidden><div class=\"sk-item\"><div class=\"sk-estimator sk-toggleable\"><input class=\"sk-toggleable__control sk-hidden--visually\" id=\"sk-estimator-id-3\" type=\"checkbox\" checked><label for=\"sk-estimator-id-3\" class=\"sk-toggleable__label sk-toggleable__label-arrow\">LogisticRegression</label><div class=\"sk-toggleable__content\"><pre>LogisticRegression(max_iter=10000)</pre></div></div></div></div></div>"
      ],
      "text/plain": [
       "LogisticRegression(max_iter=10000)"
      ]
     },
     "execution_count": 44,
     "metadata": {},
     "output_type": "execute_result"
    }
   ],
   "source": [
    "from sklearn.linear_model import LogisticRegression\n",
    "\n",
    "X_train = pipeline.fit_transform(train_df.drop(columns=['churn'],axis=1))\n",
    "y_train = train_df['churn'].map({'yes':1,'no':0})\n",
    "\n",
    "logreg_model = LogisticRegression(max_iter=10000)\n",
    "logreg_model.fit(X_train, y_train)"
   ]
  },
  {
   "cell_type": "code",
   "execution_count": 45,
   "id": "a6496a47",
   "metadata": {},
   "outputs": [
    {
     "name": "stdout",
     "output_type": "stream",
     "text": [
      "Test Accuracy: 0.8707588707588707\n",
      "Test Recall: 0.13766730401529637\n",
      "Test Precision: 0.6\n",
      "Test F1 Score: 0.223950233281493\n",
      "Test AUC: 0.5616437179153774\n"
     ]
    }
   ],
   "source": [
    "from sklearn.metrics import accuracy_score, recall_score, precision_score, f1_score, roc_auc_score\n",
    "\n",
    "# evaluate on the test data\n",
    "\n",
    "X_test = pipeline.transform(test_df)\n",
    "y_test = test_df['churn'].map({'yes':1,'no':0})\n",
    "\n",
    "test_preds = logreg_model.predict(X_test)\n",
    "test_accuracy = accuracy_score(y_test, test_preds)\n",
    "test_recall = recall_score(y_test, test_preds)\n",
    "test_precision = precision_score(y_test, test_preds)\n",
    "test_f1 = f1_score(y_test, test_preds)\n",
    "test_auc = roc_auc_score(y_test, test_preds)\n",
    "\n",
    "print(f\"Test Accuracy: {test_accuracy}\")\n",
    "print(f\"Test Recall: {test_recall}\")\n",
    "print(f\"Test Precision: {test_precision}\")\n",
    "print(f\"Test F1 Score: {test_f1}\")\n",
    "print(f\"Test AUC: {test_auc}\")\n"
   ]
  },
  {
   "cell_type": "markdown",
   "id": "b4873892",
   "metadata": {},
   "source": [
    "- **Model Performance Metrics**:\n",
    "    - **Accuracy**: 87.12% - The model predicts the churn status correctly for about 87% of the customers.\n",
    "    - **Recall**: 14.10% - The model correctly identifies 14% of the actual churns.\n",
    "    - **Precision**: 60.65% - Out of all predicted churns, approximately 60% are actual churns.\n",
    "    - **F1 Score**: 22.94% - The harmonic mean of precision and recall suggests the model might need improvements, especially in recall.\n",
    "    - **AUC**: 56.35% - The area under the ROC curve suggests the model's capability is slightly better than random guessing, but there's room for improvement.\n"
   ]
  },
  {
   "cell_type": "markdown",
   "id": "77d9fe6d",
   "metadata": {},
   "source": [
    "### Confusion Matrix\n",
    "\n",
    "|                     | Predicted Positive | Predicted Negative |\n",
    "|---------------------|:------------------:|:------------------:|\n",
    "| **Actual Positive** |        TP          |        FN          |\n",
    "| **Actual Negative** |        FP          |        TN          |\n",
    "\n",
    "Using this table, we can define the following metrics:\n",
    "\n",
    "### Metrics Definitions\n",
    "\n",
    "1. **Accuracy (Acc)**: \n",
    "    - Definition: The ratio of correctly predicted instances to the total number of instances.\n",
    "    - Formula:\n",
    "    $$\n",
    "    \\text{Accuracy} = \\frac{TP + TN}{TP + TN + FP + FN}\n",
    "    $$\n",
    "\n",
    "2. **Recall (or Sensitivity or True Positive Rate)**: \n",
    "    - Definition: The ratio of correctly predicted positive observations to all actual positives.\n",
    "    - Formula:\n",
    "    $$\n",
    "    \\text{Recall} = \\frac{TP}{TP + FN}\n",
    "    $$\n",
    "\n",
    "3. **Precision**: \n",
    "    - Definition: The ratio of correctly predicted positive observations to the total predicted positives.\n",
    "    - Formula:\n",
    "    $$\n",
    "    \\text{Precision} = \\frac{TP}{TP + FP}\n",
    "    $$\n",
    "\n",
    "4. **F1 Score**: \n",
    "    - Definition: The harmonic mean of precision and recall, providing a balance between them.\n",
    "    - Formula:\n",
    "    $$\n",
    "    \\text{F1 Score} = 2 \\times \\frac{\\text{Precision} \\times \\text{Recall}}{\\text{Precision} + \\text{Recall}}\n",
    "    $$\n",
    "\n",
    "### Interpretation\n",
    "\n",
    "- **Accuracy**: Represents the overall correctness of the model. It tells us what proportion of the total predictions were correct. However, it might not be a good metric if the classes are imbalanced.\n",
    "  \n",
    "- **Recall**: Tells us about the model's capability to detect all relevant instances. High recall means low false negatives. It's crucial when the cost of missing a positive instance is high, for example, in medical diagnoses.\n",
    "\n",
    "- **Precision**: Tells us about the correctness of positive predictions. High precision means low false positives. It's vital when the cost of a false positive is high.\n",
    "\n",
    "- **F1 Score**: Helps in balancing precision and recall. It's particularly useful when class distribution is uneven.\n",
    "\n",
    "In the context of churn prediction:\n",
    "\n",
    "- High recall would mean that most of the customers who churned were correctly predicted by the model.\n",
    "- High precision would mean that of the customers the model predicted would churn, a high percentage actually did churn."
   ]
  },
  {
   "cell_type": "code",
   "execution_count": 46,
   "id": "c7a8b96b",
   "metadata": {},
   "outputs": [
    {
     "data": {
      "image/png": "[encoded data removed]",
      "text/plain": [
       "<Figure size 640x480 with 1 Axes>"
      ]
     },
     "metadata": {},
     "output_type": "display_data"
    }
   ],
   "source": [
    "\"\"\"\n",
    "By asking CHatBot\n",
    "\"\"\"\n",
    "\n",
    "y_score = logreg_model.predict_proba(X_test)[:,1]\n",
    "import matplotlib.pyplot as plt\n",
    "from sklearn.metrics import roc_curve, auc\n",
    "\n",
    "fpr, tpr, thresholds = roc_curve(y_test, y_score)\n",
    "roc_auc = auc(fpr, tpr)\n",
    "\n",
    "plt.figure()\n",
    "plt.plot(fpr, tpr, color='darkorange',\n",
    "         lw=2, label='ROC curve (area = %0.2f)' % roc_auc)\n",
    "plt.plot([0, 1], [0, 1], color='navy', lw=2, linestyle='--')\n",
    "plt.xlim([0.0, 1.0])\n",
    "plt.ylim([0.0, 1.05])\n",
    "plt.xlabel('False Positive Rate')\n",
    "plt.ylabel('True Positive Rate')\n",
    "plt.title('Receiver Operating Characteristic (ROC)')\n",
    "plt.legend(loc=\"lower right\")\n",
    "plt.show()\n"
   ]
  },
  {
   "cell_type": "markdown",
   "id": "75986285",
   "metadata": {},
   "source": [
    "---"
   ]
  },
  {
   "cell_type": "markdown",
   "id": "0958694b",
   "metadata": {},
   "source": [
    "***K neighbors model:***\n",
    "\n",
    "Repeat the 5 previous steps for the the K Nearest Neighbors Model :\n",
    "1. Which is the best model amongst the two?\n",
    "2. What if we fitted and estimated the score of the models using all the dataset? Would there be a difference?"
   ]
  },
  {
   "cell_type": "code",
   "execution_count": 47,
   "id": "32aae3ac",
   "metadata": {},
   "outputs": [
    {
     "data": {
      "text/html": [
       "<style>#sk-container-id-4 {color: black;}#sk-container-id-4 pre{padding: 0;}#sk-container-id-4 div.sk-toggleable {background-color: white;}#sk-container-id-4 label.sk-toggleable__label {cursor: pointer;display: block;width: 100%;margin-bottom: 0;padding: 0.3em;box-sizing: border-box;text-align: center;}#sk-container-id-4 label.sk-toggleable__label-arrow:before {content: \"▸\";float: left;margin-right: 0.25em;color: #696969;}#sk-container-id-4 label.sk-toggleable__label-arrow:hover:before {color: black;}#sk-container-id-4 div.sk-estimator:hover label.sk-toggleable__label-arrow:before {color: black;}#sk-container-id-4 div.sk-toggleable__content {max-height: 0;max-width: 0;overflow: hidden;text-align: left;background-color: #f0f8ff;}#sk-container-id-4 div.sk-toggleable__content pre {margin: 0.2em;color: black;border-radius: 0.25em;background-color: #f0f8ff;}#sk-container-id-4 input.sk-toggleable__control:checked~div.sk-toggleable__content {max-height: 200px;max-width: 100%;overflow: auto;}#sk-container-id-4 input.sk-toggleable__control:checked~label.sk-toggleable__label-arrow:before {content: \"▾\";}#sk-container-id-4 div.sk-estimator input.sk-toggleable__control:checked~label.sk-toggleable__label {background-color: #d4ebff;}#sk-container-id-4 div.sk-label input.sk-toggleable__control:checked~label.sk-toggleable__label {background-color: #d4ebff;}#sk-container-id-4 input.sk-hidden--visually {border: 0;clip: rect(1px 1px 1px 1px);clip: rect(1px, 1px, 1px, 1px);height: 1px;margin: -1px;overflow: hidden;padding: 0;position: absolute;width: 1px;}#sk-container-id-4 div.sk-estimator {font-family: monospace;background-color: #f0f8ff;border: 1px dotted black;border-radius: 0.25em;box-sizing: border-box;margin-bottom: 0.5em;}#sk-container-id-4 div.sk-estimator:hover {background-color: #d4ebff;}#sk-container-id-4 div.sk-parallel-item::after {content: \"\";width: 100%;border-bottom: 1px solid gray;flex-grow: 1;}#sk-container-id-4 div.sk-label:hover label.sk-toggleable__label {background-color: #d4ebff;}#sk-container-id-4 div.sk-serial::before {content: \"\";position: absolute;border-left: 1px solid gray;box-sizing: border-box;top: 0;bottom: 0;left: 50%;z-index: 0;}#sk-container-id-4 div.sk-serial {display: flex;flex-direction: column;align-items: center;background-color: white;padding-right: 0.2em;padding-left: 0.2em;position: relative;}#sk-container-id-4 div.sk-item {position: relative;z-index: 1;}#sk-container-id-4 div.sk-parallel {display: flex;align-items: stretch;justify-content: center;background-color: white;position: relative;}#sk-container-id-4 div.sk-item::before, #sk-container-id-4 div.sk-parallel-item::before {content: \"\";position: absolute;border-left: 1px solid gray;box-sizing: border-box;top: 0;bottom: 0;left: 50%;z-index: -1;}#sk-container-id-4 div.sk-parallel-item {display: flex;flex-direction: column;z-index: 1;position: relative;background-color: white;}#sk-container-id-4 div.sk-parallel-item:first-child::after {align-self: flex-end;width: 50%;}#sk-container-id-4 div.sk-parallel-item:last-child::after {align-self: flex-start;width: 50%;}#sk-container-id-4 div.sk-parallel-item:only-child::after {width: 0;}#sk-container-id-4 div.sk-dashed-wrapped {border: 1px dashed gray;margin: 0 0.4em 0.5em 0.4em;box-sizing: border-box;padding-bottom: 0.4em;background-color: white;}#sk-container-id-4 div.sk-label label {font-family: monospace;font-weight: bold;display: inline-block;line-height: 1.2em;}#sk-container-id-4 div.sk-label-container {text-align: center;}#sk-container-id-4 div.sk-container {/* jupyter's `normalize.less` sets `[hidden] { display: none; }` but bootstrap.min.css set `[hidden] { display: none !important; }` so we also need the `!important` here to be able to override the default hidden behavior on the sphinx rendered scikit-learn.org. See: https://github.com/scikit-learn/scikit-learn/issues/21755 */display: inline-block !important;position: relative;}#sk-container-id-4 div.sk-text-repr-fallback {display: none;}</style><div id=\"sk-container-id-4\" class=\"sk-top-container\"><div class=\"sk-text-repr-fallback\"><pre>KNeighborsClassifier()</pre><b>In a Jupyter environment, please rerun this cell to show the HTML representation or trust the notebook. <br />On GitHub, the HTML representation is unable to render, please try loading this page with nbviewer.org.</b></div><div class=\"sk-container\" hidden><div class=\"sk-item\"><div class=\"sk-estimator sk-toggleable\"><input class=\"sk-toggleable__control sk-hidden--visually\" id=\"sk-estimator-id-4\" type=\"checkbox\" checked><label for=\"sk-estimator-id-4\" class=\"sk-toggleable__label sk-toggleable__label-arrow\">KNeighborsClassifier</label><div class=\"sk-toggleable__content\"><pre>KNeighborsClassifier()</pre></div></div></div></div></div>"
      ],
      "text/plain": [
       "KNeighborsClassifier()"
      ]
     },
     "execution_count": 47,
     "metadata": {},
     "output_type": "execute_result"
    }
   ],
   "source": [
    "from sklearn.neighbors import KNeighborsClassifier\n",
    "\n",
    "X_train = pipeline.fit_transform(train_df.drop(columns=['churn'],axis=1))\n",
    "y_train = train_df['churn'].map({'yes':1,'no':0})\n",
    "\n",
    "# fit the knn classificcation model\n",
    "knn_model = KNeighborsClassifier()\n",
    "knn_model.fit(X_train, y_train)"
   ]
  },
  {
   "cell_type": "code",
   "execution_count": 48,
   "id": "18c5f5e6",
   "metadata": {},
   "outputs": [
    {
     "name": "stdout",
     "output_type": "stream",
     "text": [
      "KNN Test Accuracy: 0.9109039109039109\n",
      "KNN Test Recall: 0.5487571701720841\n",
      "KNN Test Precision: 0.7265822784810126\n",
      "KNN Test F1 Score: 0.6252723311546842\n",
      "KNN Test AUC: 0.7582012333784327\n"
     ]
    }
   ],
   "source": [
    "# evaluate on test set\n",
    "X_test = pipeline.transform(test_df.drop(columns=['churn'],axis=1))\n",
    "y_test = test_df['churn'].map({'yes':1,'no':0})\n",
    "\n",
    "knn_test_preds = knn_model.predict(X_test)\n",
    "\n",
    "knn_test_accuracy = accuracy_score(y_test, knn_test_preds)\n",
    "knn_test_recall = recall_score(y_test, knn_test_preds)\n",
    "knn_test_precision = precision_score(y_test, knn_test_preds)\n",
    "knn_test_f1 = f1_score(y_test, knn_test_preds)\n",
    "knn_test_auc = roc_auc_score(y_test, knn_test_preds)\n",
    "\n",
    "print(f\"KNN Test Accuracy: {knn_test_accuracy}\")\n",
    "print(f\"KNN Test Recall: {knn_test_recall}\")\n",
    "print(f\"KNN Test Precision: {knn_test_precision}\")\n",
    "print(f\"KNN Test F1 Score: {knn_test_f1}\")\n",
    "print(f\"KNN Test AUC: {knn_test_auc}\")"
   ]
  },
  {
   "cell_type": "code",
   "execution_count": 49,
   "id": "f363c0fa",
   "metadata": {},
   "outputs": [
    {
     "data": {
      "image/png": "[encoded data removed]",
      "text/plain": [
       "<Figure size 640x480 with 1 Axes>"
      ]
     },
     "metadata": {},
     "output_type": "display_data"
    }
   ],
   "source": [
    "from sklearn.metrics import roc_curve, auc\n",
    "import matplotlib.pyplot as plt\n",
    "\n",
    "y_score_knn = knn_model.predict_proba(X_test)[:,1]\n",
    "\n",
    "fpr_knn, tpr_knn, thresholds_knn = roc_curve(y_test, y_score_knn)\n",
    "roc_auc_knn = auc(fpr_knn, tpr_knn)\n",
    "\n",
    "plt.figure()\n",
    "plt.plot(fpr_knn, tpr_knn, color='darkorange', lw=2, label='ROC curve (area = %0.2f)' % roc_auc_knn)\n",
    "plt.plot([0, 1], [0, 1], color='navy', lw=2, linestyle='--')\n",
    "plt.xlim([0.0, 1.0])\n",
    "plt.ylim([0.0, 1.05])\n",
    "plt.xlabel('False Positive Rate')\n",
    "plt.ylabel('True Positive Rate')\n",
    "plt.title('Receiver Operating Characteristic (ROC) - KNN Model')\n",
    "plt.legend(loc=\"lower right\")\n",
    "plt.show()"
   ]
  },
  {
   "cell_type": "markdown",
   "id": "5e31335c",
   "metadata": {},
   "source": [
    "## Model Comparison: Logistic Regression vs KNN\n",
    "\n",
    "### Logistic Regression Performance:\n",
    "\n",
    "- **Accuracy**: 87.10%\n",
    "- **Recall**: 13.96%\n",
    "- **Precision**: 60.33%\n",
    "- **F1 Score**: 22.67%\n",
    "- **AUC**: 56.26%\n",
    "\n",
    "### KNN Model Performance:\n",
    "\n",
    "- **Accuracy**: 91.01%\n",
    "- **Recall**: 54.30%\n",
    "- **Precision**: 72.45%\n",
    "- **F1 Score**: 62.08%\n",
    "- **AUC**: 75.53%\n",
    "\n",
    "Based on the provided metrics, the **KNN model outperforms the Logistic Regression model** across all key evaluation criteria. Specifically:\n",
    "\n",
    "- The KNN model's accuracy is higher by nearly 4 percentage points.\n",
    "- The recall for KNN is significantly better, indicating its superior ability to correctly identify the positive class.\n",
    "- The precision for KNN is also higher, suggesting fewer false positives.\n",
    "- The F1 Score, which balances precision and recall, is notably higher for KNN.\n",
    "- The AUC, representing the model's capability to differentiate between the classes, is also considerably better for the KNN model.\n",
    "\n",
    "In conclusion, for this particular dataset and problem, the KNN model seems to be the better choice."
   ]
  },
  {
   "cell_type": "markdown",
   "id": "afe98218",
   "metadata": {},
   "source": [
    "## Fit using the entire dataset\n",
    "\n",
    "may have the following effects:\n",
    "\n",
    "### 1. **Overfitting**:\n",
    "By using all the data for training, models may perform exceptionally well because they \"see\" all the data points. This can lead to overfitting, i.e. the model is too well adapted to the training data and may not generalize well to new, unseen data. Performance metrics obtained in this case tend to be overly optimistic. This is because the model may have effectively \"memorized\" the training data.\n",
    "\n",
    "\n",
    "### 2. **Lack of generalization insight**:\n",
    "Without a separate test or validation set, we can't get a clear picture of how the model performs on new, unseen data. This is critical to understanding the model's ability to generalize.\n",
    "\n",
    "#### Solution? :\n",
    "Further cross-validation and grid search may be needed to optimize and configue the model"
   ]
  }
 ],
 "metadata": {
  "kernelspec": {
   "display_name": "Python 3 (ipykernel)",
   "language": "python",
   "name": "python3"
  },
  "language_info": {
   "codemirror_mode": {
    "name": "ipython",
    "version": 3
   },
   "file_extension": ".py",
   "mimetype": "text/x-python",
   "name": "python",
   "nbconvert_exporter": "python",
   "pygments_lexer": "ipython3",
   "version": "3.11.4"
  }
 },
 "nbformat": 4,
 "nbformat_minor": 5
}
