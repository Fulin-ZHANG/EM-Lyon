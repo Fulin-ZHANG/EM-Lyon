{
 "cells": [
  {
   "cell_type": "markdown",
   "metadata": {
    "nbgrader": {
     "checksum": "908e32b90c70e5fe73f3e8efd150162b",
     "grade": false,
     "grade_id": "cell-d3d1d92666d43f38",
     "locked": true,
     "schema_version": 1,
     "solution": false
    }
   },
   "source": [
    "# Classification\n",
    "In the last lectures, you have learned and applied some regression models. In this lecture, you will be learning what is classification and how to solve a classification project.\n",
    "\n",
    "# Setup\n",
    "First, let's make sure this notebook works well in both python 2 and 3. \n",
    "## Import a few common modules"
   ]
  },
  {
   "cell_type": "code",
   "execution_count": null,
   "metadata": {
    "nbgrader": {
     "checksum": "ef92ae99cee16197027e92fda281ad3b",
     "grade": false,
     "grade_id": "cell-a0e3059ee34a3341",
     "locked": true,
     "schema_version": 1,
     "solution": false
    }
   },
   "outputs": [],
   "source": [
    "# To support both python 2 and python 3\n",
    "from __future__ import division, print_function, unicode_literals\n",
    "\n",
    "# Common imports\n",
    "import numpy as np\n",
    "import os\n"
   ]
  },
  {
   "cell_type": "code",
   "execution_count": null,
   "metadata": {
    "nbgrader": {
     "checksum": "a94ca07877e382965cee71d61d0d2d58",
     "grade": false,
     "grade_id": "cell-c818efe80110076c",
     "locked": true,
     "schema_version": 1,
     "solution": false
    }
   },
   "outputs": [],
   "source": [
    "# to make this notebook's output stable across runs\n",
    "np.random.seed(42)"
   ]
  },
  {
   "cell_type": "markdown",
   "metadata": {
    "nbgrader": {
     "checksum": "2195512805f5afec72dd954e521ece0c",
     "grade": false,
     "grade_id": "cell-0497f79170e80431",
     "locked": true,
     "schema_version": 1,
     "solution": false
    }
   },
   "source": [
    "## Ensure MatplotLib plots figures inline \n"
   ]
  },
  {
   "cell_type": "code",
   "execution_count": null,
   "metadata": {
    "nbgrader": {
     "checksum": "f75d43f1c80913347fbeda27ab4f4cc8",
     "grade": false,
     "grade_id": "cell-42ea8b5214f13fc6",
     "locked": true,
     "schema_version": 1,
     "solution": false
    }
   },
   "outputs": [],
   "source": [
    "# To plot pretty figures\n",
    "%matplotlib inline\n",
    "import matplotlib\n",
    "import matplotlib.pyplot as plt\n",
    "# some parameters cofiguration for figures\n",
    "plt.rcParams['axes.labelsize'] = 14\n",
    "plt.rcParams['xtick.labelsize'] = 12\n",
    "plt.rcParams['ytick.labelsize'] = 12"
   ]
  },
  {
   "cell_type": "markdown",
   "metadata": {
    "nbgrader": {
     "checksum": "38e91d11c8b0dce7917ffd10a1c42081",
     "grade": false,
     "grade_id": "cell-5c653bdd07ae44ab",
     "locked": true,
     "schema_version": 1,
     "solution": false
    }
   },
   "source": [
    "## Prepare a function to save the figures"
   ]
  },
  {
   "cell_type": "code",
   "execution_count": null,
   "metadata": {
    "nbgrader": {
     "checksum": "528dc177f6d45d39622f9a13102c898e",
     "grade": false,
     "grade_id": "cell-8b113230a8740931",
     "locked": true,
     "schema_version": 1,
     "solution": false
    }
   },
   "outputs": [],
   "source": [
    "# Where to save the figures\n",
    "PROJECT_ROOT_DIR = \".\" # . means save the figures folder in the same folder we are working from\n",
    "\n",
    "# define a function that saves figures\n",
    "def save_fig(fig_id, tight_layout=True):\n",
    "    # The path of the figures folder ./Figures/fig_id.png (fig_id is a variable that you specify \n",
    "    # when you call the function)\n",
    "    path = os.path.join(PROJECT_ROOT_DIR, \"Figures\", fig_id + \".png\") \n",
    "    print(\"Saving figure\", fig_id)\n",
    "    if tight_layout:\n",
    "        plt.tight_layout()\n",
    "    plt.savefig(path, format='png', dpi=300)"
   ]
  },
  {
   "cell_type": "markdown",
   "metadata": {
    "nbgrader": {
     "checksum": "3dd1103310368a1a8df67bd00e905846",
     "grade": false,
     "grade_id": "cell-9d4ab23195a6056c",
     "locked": true,
     "schema_version": 1,
     "solution": false
    }
   },
   "source": [
    "#  The “Hello World” of Machine Learning: MNIST dataset\n",
    "<a href=\"https://www.openml.org/d/554\">MNIST dataset</a>, is a set of 70,000 small images of digits handwritten by high school students and employees of the US Census Bureau. \n",
    "\n",
    "Each image is labeled with the digit it represents. This set has been studied so much that it is often called the “Hello World” of Machine Learning: whenever people come up with a new classification algorithm, they are curious to see how it will perform on MNIST. Whenever someone learns Machine Learning, sooner or later they tackle MNIST.\n"
   ]
  },
  {
   "cell_type": "markdown",
   "metadata": {
    "nbgrader": {
     "checksum": "61a1b3f53d48d44212e6abc1f80c3a22",
     "grade": false,
     "grade_id": "cell-c09d92c7f7c8058c",
     "locked": true,
     "schema_version": 1,
     "solution": false
    }
   },
   "source": [
    "## Load the MNIST dataset\n",
    "- Import `fetch_openml` from `sklearn.datasets`\n",
    "- use `fetch_openml(name='mnist_784', version='1', data_id=None, data_home=None, target_column='default-target', cache=True, return_X_y=False, as_frame=False)`\n",
    "- put the result in `mnist` variable"
   ]
  },
  {
   "cell_type": "code",
   "execution_count": null,
   "metadata": {
    "nbgrader": {
     "checksum": "5c5c170f79a6799dd0c02851d75f2c9a",
     "grade": true,
     "grade_id": "cell-949baa9836548341",
     "locked": false,
     "points": 0,
     "schema_version": 1,
     "solution": true
    }
   },
   "outputs": [],
   "source": [
    "## Your code here ##"
   ]
  },
  {
   "cell_type": "code",
   "execution_count": null,
   "metadata": {},
   "outputs": [],
   "source": [
    "type(mnist)"
   ]
  },
  {
   "cell_type": "code",
   "execution_count": null,
   "metadata": {},
   "outputs": [],
   "source": [
    "mnist.keys()"
   ]
  },
  {
   "cell_type": "code",
   "execution_count": null,
   "metadata": {
    "nbgrader": {
     "checksum": "c26af1948b89311482a6f027de808a61",
     "grade": false,
     "grade_id": "cell-106cef74c00ef5a8",
     "locked": true,
     "schema_version": 1,
     "solution": false
    }
   },
   "outputs": [],
   "source": [
    "mnist"
   ]
  },
  {
   "cell_type": "markdown",
   "metadata": {
    "nbgrader": {
     "checksum": "941039e26baf6f81ad50aa8064ec4a9e",
     "grade": false,
     "grade_id": "cell-9eeae5e94eb62e0f",
     "locked": true,
     "schema_version": 1,
     "solution": false
    }
   },
   "source": [
    "## Put the features in a variable `X` and the labels in a variable `y`\n",
    "You access the features from the `data` array and the labels from the `target` array saved in `mnist` variable."
   ]
  },
  {
   "cell_type": "code",
   "execution_count": null,
   "metadata": {
    "nbgrader": {
     "checksum": "411991fd042d2c348221700341040aff",
     "grade": false,
     "grade_id": "cell-794aba8d2f784a86",
     "locked": false,
     "schema_version": 1,
     "solution": true
    }
   },
   "outputs": [],
   "source": [
    "## Your code here ##"
   ]
  },
  {
   "cell_type": "code",
   "execution_count": null,
   "metadata": {
    "nbgrader": {
     "checksum": "964925f2f8bc311e2d3455d3c7d61713",
     "grade": false,
     "grade_id": "cell-419cab99f389c8af",
     "locked": true,
     "schema_version": 1,
     "solution": false
    }
   },
   "outputs": [],
   "source": [
    "X.shape"
   ]
  },
  {
   "cell_type": "code",
   "execution_count": null,
   "metadata": {
    "nbgrader": {
     "checksum": "b219e0ecd4ceaf228d4cb2695939a5a3",
     "grade": false,
     "grade_id": "cell-8c0d8e51608c0ef7",
     "locked": true,
     "schema_version": 1,
     "solution": false
    }
   },
   "outputs": [],
   "source": [
    "y.shape"
   ]
  },
  {
   "cell_type": "markdown",
   "metadata": {
    "nbgrader": {
     "checksum": "574c62eccff4a2d78e07d6bd29e3ba56",
     "grade": false,
     "grade_id": "cell-f0f6085d6842206e",
     "locked": true,
     "schema_version": 1,
     "solution": false
    }
   },
   "source": [
    "There are 70,000 images, and each image has 784 features. This is because each image is 28×28 pixels, and each feature simply represents one pixel’s intensity, from 0 (white) to 255 (black). "
   ]
  },
  {
   "cell_type": "code",
   "execution_count": null,
   "metadata": {
    "nbgrader": {
     "checksum": "a532bfb439ccf5fd711443e78928a9be",
     "grade": false,
     "grade_id": "cell-f703b65faa8451b0",
     "locked": true,
     "schema_version": 1,
     "solution": false
    }
   },
   "outputs": [],
   "source": [
    "28*28"
   ]
  },
  {
   "cell_type": "markdown",
   "metadata": {
    "nbgrader": {
     "checksum": "c05943c13ef3f8bed56b0b8a10a5698e",
     "grade": false,
     "grade_id": "cell-7254161346602df4",
     "locked": true,
     "schema_version": 1,
     "solution": false
    }
   },
   "source": [
    "## Visualize an instance from the dataset\n",
    "Each row in the dataset represents one digit of length 784 which correponds to the pixel intensities of the image of this digit.\n",
    "Let’s take a peek at one digit from the dataset. All you need to do is grab an instance’s feature vector, reshape it to a 28×28 array, and display it using Matplotlib’s `imshow()` function."
   ]
  },
  {
   "cell_type": "markdown",
   "metadata": {
    "nbgrader": {
     "checksum": "0a04f6f2b010f28b890428ccf231051a",
     "grade": false,
     "grade_id": "cell-27018f00f8789747",
     "locked": true,
     "schema_version": 1,
     "solution": false
    }
   },
   "source": [
    "### import matplotlib and pyplot"
   ]
  },
  {
   "cell_type": "code",
   "execution_count": null,
   "metadata": {
    "nbgrader": {
     "checksum": "dc280a4792ad46e6076625828469b691",
     "grade": false,
     "grade_id": "cell-1ceccf595c4c247e",
     "locked": true,
     "schema_version": 1,
     "solution": false
    }
   },
   "outputs": [],
   "source": [
    "%matplotlib inline\n",
    "import matplotlib\n",
    "import matplotlib.pyplot as plt"
   ]
  },
  {
   "cell_type": "markdown",
   "metadata": {
    "nbgrader": {
     "checksum": "c365fc8f44464224a1bb8b56ed6fdfc4",
     "grade": false,
     "grade_id": "cell-d67106ec50a4e828",
     "locked": true,
     "schema_version": 1,
     "solution": false
    }
   },
   "source": [
    "### Save the sample 36000 in the variable `some_digit`"
   ]
  },
  {
   "cell_type": "code",
   "execution_count": null,
   "metadata": {
    "nbgrader": {
     "checksum": "7220084c99b39ec91dd6871e4f5ff84e",
     "grade": false,
     "grade_id": "cell-edc320010249e68d",
     "locked": false,
     "schema_version": 1,
     "solution": true
    }
   },
   "outputs": [],
   "source": [
    "some_digit = ## Your code here ##"
   ]
  },
  {
   "cell_type": "markdown",
   "metadata": {
    "nbgrader": {
     "checksum": "5e158cecb5d822007dc80d4d452cb3f2",
     "grade": false,
     "grade_id": "cell-4d3cff51884e7075",
     "locked": true,
     "schema_version": 1,
     "solution": false
    }
   },
   "source": [
    "### Reshape the feature vector in `some_digit` to 28x28\n",
    "- Use `reshape()`.\n",
    "- Put the result in the variable `some_digit_image`"
   ]
  },
  {
   "cell_type": "code",
   "execution_count": null,
   "metadata": {
    "nbgrader": {
     "checksum": "5ca61fb3bdadacff9109185cfe4a4cf8",
     "grade": false,
     "grade_id": "cell-77c6c04496219a73",
     "locked": false,
     "schema_version": 1,
     "solution": true
    }
   },
   "outputs": [],
   "source": [
    "some_digit_image = ## Your code here ##"
   ]
  },
  {
   "cell_type": "markdown",
   "metadata": {
    "nbgrader": {
     "checksum": "84aee885fc0425fd6e116c3708f2a8af",
     "grade": false,
     "grade_id": "cell-10967a5a8a8a666a",
     "locked": true,
     "schema_version": 1,
     "solution": false
    }
   },
   "source": [
    "### Plot the resulting image using `imshow()` \n",
    "Use `cmap = matplotlib.cm.binary` in `imshow()` to draw a binary image. Try to remove it and see what you get."
   ]
  },
  {
   "cell_type": "code",
   "execution_count": null,
   "metadata": {
    "nbgrader": {
     "checksum": "78dfb2f421cd765b9be9a89b47feac60",
     "grade": false,
     "grade_id": "cell-42299e0dbf59e9a3",
     "locked": false,
     "schema_version": 1,
     "solution": true
    }
   },
   "outputs": [],
   "source": [
    "## Your code here ##"
   ]
  },
  {
   "cell_type": "code",
   "execution_count": null,
   "metadata": {},
   "outputs": [],
   "source": [
    "## Your code here ##"
   ]
  },
  {
   "cell_type": "markdown",
   "metadata": {
    "nbgrader": {
     "checksum": "fc0c8b4b3d256f582e0659df25430bcd",
     "grade": false,
     "grade_id": "cell-81583768ee5ee1c2",
     "locked": true,
     "schema_version": 1,
     "solution": false
    }
   },
   "source": [
    "This looks like a 9, and indeed that’s what the label tells us:"
   ]
  },
  {
   "cell_type": "code",
   "execution_count": null,
   "metadata": {
    "nbgrader": {
     "checksum": "422737b7015d826dadd3fa0e77bcec39",
     "grade": false,
     "grade_id": "cell-09bc18d17d337233",
     "locked": true,
     "schema_version": 1,
     "solution": false
    }
   },
   "outputs": [],
   "source": [
    "y[36000]"
   ]
  },
  {
   "cell_type": "markdown",
   "metadata": {
    "nbgrader": {
     "checksum": "de9d80e89c543b072064481f54536451",
     "grade": false,
     "grade_id": "cell-8e2dcf437d234fab",
     "locked": true,
     "schema_version": 1,
     "solution": false
    }
   },
   "source": [
    "### Write a function that takes as input a data vector, reshapes it and plots the resulting image"
   ]
  },
  {
   "cell_type": "code",
   "execution_count": null,
   "metadata": {
    "nbgrader": {
     "checksum": "16f1e07f683d75ddd4d5e39785c28710",
     "grade": false,
     "grade_id": "cell-d38346c1f601c867",
     "locked": false,
     "schema_version": 1,
     "solution": true
    }
   },
   "outputs": [],
   "source": [
    "## Your code here ##"
   ]
  },
  {
   "cell_type": "code",
   "execution_count": null,
   "metadata": {},
   "outputs": [],
   "source": [
    "plot_digit(some_digit)"
   ]
  },
  {
   "cell_type": "code",
   "execution_count": null,
   "metadata": {},
   "outputs": [],
   "source": [
    "plot_digit(X[3600])"
   ]
  },
  {
   "cell_type": "markdown",
   "metadata": {
    "nbgrader": {
     "checksum": "298383c7b3efa74728b82eb69a8d1b62",
     "grade": false,
     "grade_id": "cell-74acd17fa1502aa6",
     "locked": true,
     "schema_version": 1,
     "solution": false
    }
   },
   "source": [
    "### Plot  several images from the dataset next to each other\n",
    "The following is a function to plot several images from the dataset next to each other. It is just to show you the complexity of the classification task."
   ]
  },
  {
   "cell_type": "code",
   "execution_count": null,
   "metadata": {
    "nbgrader": {
     "checksum": "81f9397737cd7d1f57637a932b88ee76",
     "grade": false,
     "grade_id": "cell-eb8e23e2e1cd3bbc",
     "locked": true,
     "schema_version": 1,
     "solution": false
    }
   },
   "outputs": [],
   "source": [
    "# EXTRA\n",
    "def plot_digits(instances, images_per_row=10, **options):\n",
    "    size = 28\n",
    "    images_per_row = min(len(instances), images_per_row)\n",
    "    images = [instance.reshape(size,size) for instance in instances]\n",
    "    n_rows = (len(instances) - 1) // images_per_row + 1\n",
    "    row_images = []\n",
    "    n_empty = n_rows * images_per_row - len(instances)\n",
    "    images.append(np.zeros((size, size * n_empty)))\n",
    "    for row in range(n_rows):\n",
    "        rimages = images[row * images_per_row : (row + 1) * images_per_row]\n",
    "        row_images.append(np.concatenate(rimages, axis=1))\n",
    "    image = np.concatenate(row_images, axis=0)\n",
    "    plt.imshow(image, cmap = matplotlib.cm.binary, **options)\n",
    "    plt.axis(\"off\")"
   ]
  },
  {
   "cell_type": "markdown",
   "metadata": {
    "nbgrader": {
     "checksum": "3f97c6bd287fee1e30d94d75ecdde337",
     "grade": false,
     "grade_id": "cell-c5cff0d75a3046a7",
     "locked": true,
     "schema_version": 1,
     "solution": false
    }
   },
   "source": [
    "Call the above function on a selection of data "
   ]
  },
  {
   "cell_type": "code",
   "execution_count": null,
   "metadata": {
    "nbgrader": {
     "checksum": "f986cc46697c0a1c5a9e1df4cf8e6f59",
     "grade": false,
     "grade_id": "cell-0e16716b8e29d619",
     "locked": true,
     "schema_version": 1,
     "solution": false
    }
   },
   "outputs": [],
   "source": [
    "plt.figure(figsize=(9,9))\n",
    "example_images = np.r_[X[:12000:600], X[13000:30600:600], X[30600:60000:590]]\n",
    "plot_digits(example_images, images_per_row=10)\n",
    "save_fig(\"more_digits_plot\")\n",
    "plt.show()"
   ]
  },
  {
   "cell_type": "markdown",
   "metadata": {
    "nbgrader": {
     "checksum": "f1c739dff9e1b30339b4c8ba3a82a340",
     "grade": false,
     "grade_id": "cell-7a376f8ef9d471a3",
     "locked": true,
     "schema_version": 1,
     "solution": false
    }
   },
   "source": [
    "# Create the Training and Testing datasets \n",
    "## Fixed split\n",
    "Split the data in a training set of the first 60,000 examples, and a test set of 10,000 examples.\n",
    "Put the results in `X_train: training features, X_test: testing features, y_train: training labels, y_test: testing labels`."
   ]
  },
  {
   "cell_type": "code",
   "execution_count": null,
   "metadata": {
    "nbgrader": {
     "checksum": "e4186e6bf9afd8382e471008102c3292",
     "grade": false,
     "grade_id": "cell-d878706d2dd9f142",
     "locked": false,
     "schema_version": 1,
     "solution": true
    }
   },
   "outputs": [],
   "source": [
    "## Your code here ##"
   ]
  },
  {
   "cell_type": "code",
   "execution_count": null,
   "metadata": {},
   "outputs": [],
   "source": [
    "X_train.shape, X_test.shape, y_train.shape, y_test.shape"
   ]
  },
  {
   "cell_type": "code",
   "execution_count": null,
   "metadata": {},
   "outputs": [],
   "source": [
    "import pandas as pd\n",
    "pd.DataFrame(y).value_counts()/len(y)"
   ]
  },
  {
   "cell_type": "code",
   "execution_count": null,
   "metadata": {},
   "outputs": [],
   "source": [
    "pd.DataFrame(y).value_counts()"
   ]
  },
  {
   "cell_type": "code",
   "execution_count": null,
   "metadata": {
    "scrolled": true
   },
   "outputs": [],
   "source": [
    "pd.DataFrame(y_test).value_counts()/len(y_test)"
   ]
  },
  {
   "cell_type": "code",
   "execution_count": null,
   "metadata": {},
   "outputs": [],
   "source": [
    "pd.DataFrame(y_test).value_counts()"
   ]
  },
  {
   "cell_type": "markdown",
   "metadata": {
    "nbgrader": {
     "checksum": "48852b3ce1e14a23b1933e541a1291e9",
     "grade": false,
     "grade_id": "cell-28afe7a3ff749776",
     "locked": true,
     "schema_version": 1,
     "solution": false
    }
   },
   "source": [
    "## Shuffling\n",
    "\n",
    "Some learning algorithms are sensitive to the order of the training instances, and they perform poorly if they get many similar instances in a row. Shuffling the dataset ensures that this won’t happen.\n",
    "\n",
    "**Data Shuffling**\n",
    "Have you played the game of cards ? At the end of each round of play, all the cards are collected, shuffled & followed by a cut to ensure that cards are distributed randomly & stack of cards each player gets is only due to chance.\n",
    "\n",
    "In machine learning(ML) , we are often presented with a dataset that will be further split into training, testing & validation datasets. It is very important that dataset is shuffled well to avoid any element of bias/patterns in the split datasets before training the ML model.\n",
    "\n",
    "- Key Benefits of Data Shuffling\n",
    "\n",
    " - Improve the ML model quality\n",
    " - Improve the predictive performance\n",
    "\n",
    "![DataShuffling](img/DataShuffling.PNG)\n",
    "\n",
    "Another way is to create variable of random indices and just pick these indices from the dataset."
   ]
  },
  {
   "cell_type": "code",
   "execution_count": null,
   "metadata": {},
   "outputs": [],
   "source": [
    "X_train = X[:60000]\n",
    "X_test = X[60000:]\n",
    "y_train = y[:60000]\n",
    "y_test = y[60000:]"
   ]
  },
  {
   "cell_type": "code",
   "execution_count": null,
   "metadata": {
    "nbgrader": {
     "checksum": "3d48fc8f0659cabbd874b6ff9ad2dc92",
     "grade": false,
     "grade_id": "cell-b8f090e84b10debd",
     "locked": true,
     "schema_version": 1,
     "solution": false
    }
   },
   "outputs": [],
   "source": [
    "import numpy as np\n",
    "\n",
    "shuffle_index = np.random.permutation(X_train.shape[0])\n",
    "X_train, y_train = X_train[shuffle_index], y_train[shuffle_index]\n"
   ]
  },
  {
   "cell_type": "code",
   "execution_count": null,
   "metadata": {},
   "outputs": [],
   "source": [
    "X_train.shape"
   ]
  },
  {
   "cell_type": "code",
   "execution_count": null,
   "metadata": {
    "nbgrader": {
     "checksum": "f7ba39852a4ff4b313ae78bfcb657bb9",
     "grade": false,
     "grade_id": "cell-7e035fbdf18ab9af",
     "locked": true,
     "schema_version": 1,
     "solution": false
    }
   },
   "outputs": [],
   "source": [
    "pd.DataFrame(y_train).value_counts()/len(y_train)"
   ]
  },
  {
   "cell_type": "code",
   "execution_count": null,
   "metadata": {
    "nbgrader": {
     "checksum": "f7ba39852a4ff4b313ae78bfcb657bb9",
     "grade": false,
     "grade_id": "cell-7e035fbdf18ab9af",
     "locked": true,
     "schema_version": 1,
     "solution": false
    }
   },
   "outputs": [],
   "source": [
    "pd.DataFrame(y_train).value_counts()"
   ]
  },
  {
   "cell_type": "markdown",
   "metadata": {
    "nbgrader": {
     "checksum": "bfda88b68b9c350c12a6a01a742ab52e",
     "grade": false,
     "grade_id": "cell-aec440947bfdb37f",
     "locked": true,
     "schema_version": 1,
     "solution": false
    }
   },
   "source": [
    "## Percentage split using random selection\n",
    "- Import `train_test_split` from `sklearn.model_selection`\n",
    "- Use `train_test_split(Features array,labels vector, test_size=split ratio, random_state=42)`\n",
    "- Set the ratio to 0.2"
   ]
  },
  {
   "cell_type": "code",
   "execution_count": null,
   "metadata": {
    "nbgrader": {
     "checksum": "e0f450666f102d3ec89165baa481150a",
     "grade": false,
     "grade_id": "cell-52e466cd9c461eab",
     "locked": false,
     "schema_version": 1,
     "solution": true
    }
   },
   "outputs": [],
   "source": [
    "## Your code here ##"
   ]
  },
  {
   "cell_type": "code",
   "execution_count": null,
   "metadata": {
    "nbgrader": {
     "checksum": "caad8e2595857f34de442011a0d6281e",
     "grade": false,
     "grade_id": "cell-626b32cf4af2a619",
     "locked": true,
     "schema_version": 1,
     "solution": false
    }
   },
   "outputs": [],
   "source": [
    "X_train.shape, X_test.shape, y_train.shape, y_test.shape"
   ]
  },
  {
   "cell_type": "markdown",
   "metadata": {
    "nbgrader": {
     "checksum": "6f0245ccb8081080ee28b5b0c9f5e303",
     "grade": false,
     "grade_id": "cell-015fce48f066df5e",
     "locked": true,
     "schema_version": 1,
     "solution": false
    }
   },
   "source": [
    "# Binary classifier\n",
    "We call a binary classifier, a classifier (model) which aims at classifying between two categories (we call them classes too).\n",
    "\n",
    "Let’s simplify the problem for now and only try to identify one digit — for example, the number 5. This “5-detector” will be an example of a binary classifier, capable of distinguishing between just two classes, 5 and not-5. \n",
    "\n"
   ]
  },
  {
   "cell_type": "markdown",
   "metadata": {
    "nbgrader": {
     "checksum": "b7c690687ff643b38249b562814de2ba",
     "grade": false,
     "grade_id": "cell-05e799f402ac559c",
     "locked": true,
     "schema_version": 1,
     "solution": false
    }
   },
   "source": [
    "## Create target variables `y_train_5` and `y_test_5` with values True for all 5s and False for all other digits.\n",
    "From the train and test sets, get only the ones equal to 5. \n",
    "The target variables are **binary (True or False/ 0 or 1)**.\n",
    "- Hint: use `==`"
   ]
  },
  {
   "cell_type": "code",
   "execution_count": null,
   "metadata": {
    "nbgrader": {
     "checksum": "8fef9e918752ab3f40d3074f5b620196",
     "grade": false,
     "grade_id": "cell-af6034f8b2952be6",
     "locked": false,
     "schema_version": 1,
     "solution": true
    }
   },
   "outputs": [],
   "source": [
    "## Your code here ##"
   ]
  },
  {
   "cell_type": "code",
   "execution_count": null,
   "metadata": {},
   "outputs": [],
   "source": [
    "y_train_5"
   ]
  },
  {
   "cell_type": "code",
   "execution_count": null,
   "metadata": {
    "nbgrader": {
     "checksum": "2d00a200b73d310f1d7f959a459b08d7",
     "grade": false,
     "grade_id": "cell-26b5294cc3159640",
     "locked": true,
     "schema_version": 1,
     "solution": false
    }
   },
   "outputs": [],
   "source": [
    "sum(y_train_5)"
   ]
  },
  {
   "cell_type": "code",
   "execution_count": null,
   "metadata": {},
   "outputs": [],
   "source": [
    "## Your code here ##"
   ]
  },
  {
   "cell_type": "code",
   "execution_count": null,
   "metadata": {
    "nbgrader": {
     "checksum": "5ebbb696efb0a942ba110176e7de3609",
     "grade": false,
     "grade_id": "cell-8751a6fd8450f004",
     "locked": true,
     "schema_version": 1,
     "solution": false
    }
   },
   "outputs": [],
   "source": [
    "sum(y_test_5)"
   ]
  },
  {
   "cell_type": "markdown",
   "metadata": {
    "nbgrader": {
     "checksum": "3c5b3761c50c96d26a9cd024c9be237b",
     "grade": false,
     "grade_id": "cell-95d4c48b9dcbb3a9",
     "locked": true,
     "schema_version": 1,
     "solution": false
    }
   },
   "source": [
    "## Stochastic Gradient Descent (SGD) classifier\n",
    "Okay, now let’s pick a classifier and train it. A good place to start is with a **Stochastic Gradient Descent (SGD) classifier**, using Scikit-Learn’s `SGDClassifier` class. \n",
    "\n",
    "This classifier has the advantage of being capable of handling very large datasets efficiently. This is in part because SGD deals with training instances independently, one at a time.\n",
    "\n",
    "### Create an `SGDClassifier` and train it on the whole training set:\n",
    "\n",
    "<a href=\"https://scikit-learn.org/stable/modules/generated/sklearn.linear_model.SGDClassifier.html\">Here is the documentation</a> of SGDClassifier.\n",
    "- Put the model in a variable named `sgd_clf`\n",
    "- Set the maximum iterations to 5\n",
    "- The SGDClassifier relies on randomness during training (hence the name “stochastic”). If you want reproducible results, you should set the `random_state` parameter.\n",
    "- Use `sgd_clf.fit(X_train, y_train_5)` to train the model\n"
   ]
  },
  {
   "cell_type": "code",
   "execution_count": null,
   "metadata": {
    "nbgrader": {
     "checksum": "06efb9ae150da8f9767f2899dad32d1a",
     "grade": false,
     "grade_id": "cell-0de052c5b4847a88",
     "locked": false,
     "schema_version": 1,
     "solution": true
    }
   },
   "outputs": [],
   "source": [
    "## Your code here ##"
   ]
  },
  {
   "cell_type": "code",
   "execution_count": null,
   "metadata": {},
   "outputs": [],
   "source": [
    "sgd_clf.fit(X_train, y_train_5)"
   ]
  },
  {
   "cell_type": "markdown",
   "metadata": {
    "nbgrader": {
     "checksum": "d170ee6bcef5645df22791ab186b0e91",
     "grade": false,
     "grade_id": "cell-e41cb8de720ccfae",
     "locked": true,
     "schema_version": 1,
     "solution": false
    }
   },
   "source": [
    "### Use the model to detect images of the number 5. \n",
    "Use `.predict()`."
   ]
  },
  {
   "cell_type": "code",
   "execution_count": null,
   "metadata": {
    "nbgrader": {
     "checksum": "8bccea8569034a3f4fc7fe917c9594e6",
     "grade": false,
     "grade_id": "cell-bfc322c7748bab1c",
     "locked": false,
     "schema_version": 1,
     "solution": true
    }
   },
   "outputs": [],
   "source": [
    "sgd_pred_5 = ## Your code here ##"
   ]
  },
  {
   "cell_type": "markdown",
   "metadata": {
    "nbgrader": {
     "checksum": "ed4a5515c7caa004592929b173f2249f",
     "grade": false,
     "grade_id": "cell-49a34265ed024830",
     "locked": true,
     "schema_version": 1,
     "solution": false
    }
   },
   "source": [
    "### What does the classifier predict?"
   ]
  },
  {
   "cell_type": "code",
   "execution_count": null,
   "metadata": {
    "nbgrader": {
     "checksum": "8ffbd671db0aa430b3a545ba7a4fb366",
     "grade": false,
     "grade_id": "cell-6c0e9ef7b5900ad6",
     "locked": false,
     "schema_version": 1,
     "solution": true
    }
   },
   "outputs": [],
   "source": [
    "## Your code here ##"
   ]
  },
  {
   "cell_type": "markdown",
   "metadata": {
    "nbgrader": {
     "checksum": "5a23ac2319eafbd829f1bfcea6e9eb27",
     "grade": false,
     "grade_id": "cell-29583b1e2532f5f4",
     "locked": true,
     "schema_version": 1,
     "solution": false
    }
   },
   "source": [
    "### Apply the classifier on the whole training set."
   ]
  },
  {
   "cell_type": "code",
   "execution_count": null,
   "metadata": {
    "nbgrader": {
     "checksum": "2373589325c6af02a036e86cfc26fc2d",
     "grade": false,
     "grade_id": "cell-5c79045d69938e1d",
     "locked": false,
     "schema_version": 1,
     "solution": true
    }
   },
   "outputs": [],
   "source": [
    "## Your code here ##"
   ]
  },
  {
   "cell_type": "markdown",
   "metadata": {
    "nbgrader": {
     "checksum": "078ff6117108c6460c4279f9b9dc262c",
     "grade": false,
     "grade_id": "cell-0c1ea217bd6cba28",
     "locked": true,
     "schema_version": 1,
     "solution": false
    }
   },
   "source": [
    "## Peformance measure: Accuracy\n",
    "Now, let’s evaluate this model’s performance.\n",
    "\n",
    "Accuracy is one performance measure for evaluating classification models. It is the percentage of predictions the model got right.\n",
    "\n",
    "$\n",
    "\\text{Accuracy} = \\cfrac{Number of good predictions}{Total predictions}\n",
    "$"
   ]
  },
  {
   "cell_type": "markdown",
   "metadata": {
    "nbgrader": {
     "checksum": "723710a7a32b77db73cb3d4e4d9a5fb5",
     "grade": false,
     "grade_id": "cell-9feffd81d27f3d2b",
     "locked": true,
     "schema_version": 1,
     "solution": false
    }
   },
   "source": [
    "### Compute the accuracy."
   ]
  },
  {
   "cell_type": "code",
   "execution_count": null,
   "metadata": {},
   "outputs": [],
   "source": [
    "sdg_pred = ## Your code here ##"
   ]
  },
  {
   "cell_type": "code",
   "execution_count": null,
   "metadata": {
    "nbgrader": {
     "checksum": "cad8d039420fbcea6eed540b34a39015",
     "grade": false,
     "grade_id": "cell-0eac9a1052dd630b",
     "locked": false,
     "schema_version": 1,
     "solution": true
    }
   },
   "outputs": [],
   "source": [
    "## Your code here ##"
   ]
  },
  {
   "cell_type": "code",
   "execution_count": null,
   "metadata": {},
   "outputs": [],
   "source": [
    "## Your code here ##"
   ]
  },
  {
   "cell_type": "markdown",
   "metadata": {
    "nbgrader": {
     "checksum": "f48988bcc3db022a2488982a3bd18ec9",
     "grade": false,
     "grade_id": "cell-f1c4703f6b8b7d6c",
     "locked": true,
     "schema_version": 1,
     "solution": false
    }
   },
   "source": [
    "## KNN classifier\n",
    "Lets try the knn classifier.\n",
    "### Create an KNN classifier and train it on the whole training set: \n",
    "- Import `KNeighborsClassifier` from `sklearn.neighbors`\n",
    "- <a href=\"http://scikit-learn.org/stable/modules/generated/sklearn.neighbors.KNeighborsClassifier.html\">Here is the documentation</a> of KNeighborsClassifier.\n",
    "- Set the number of jobs to `-1`\n",
    "- Set the weights to `distance`\n",
    "- Set the number of neighbors to 4"
   ]
  },
  {
   "cell_type": "code",
   "execution_count": null,
   "metadata": {
    "nbgrader": {
     "checksum": "111113e15ed4c0ac75efd25af3755418",
     "grade": false,
     "grade_id": "cell-7201f9ef333e046c",
     "locked": false,
     "schema_version": 1,
     "solution": true
    }
   },
   "outputs": [],
   "source": [
    "## Your code here ##"
   ]
  },
  {
   "cell_type": "markdown",
   "metadata": {
    "nbgrader": {
     "checksum": "d54f61f08c31fc082a60783ff11835b2",
     "grade": false,
     "grade_id": "cell-d5f9eee98325f70a",
     "locked": true,
     "schema_version": 1,
     "solution": false
    }
   },
   "source": [
    "### Apply the KNN classification model on the test set."
   ]
  },
  {
   "cell_type": "code",
   "execution_count": null,
   "metadata": {
    "nbgrader": {
     "checksum": "c9682a40f45123e6a5430bee69a02cec",
     "grade": false,
     "grade_id": "cell-919b1f7f3ab2531b",
     "locked": false,
     "schema_version": 1,
     "solution": true
    }
   },
   "outputs": [],
   "source": [
    "## Your code here ##"
   ]
  },
  {
   "cell_type": "markdown",
   "metadata": {
    "nbgrader": {
     "checksum": "7f17dae53903605380e85dd84e477efe",
     "grade": false,
     "grade_id": "cell-064b8a2323c6c429",
     "locked": true,
     "schema_version": 1,
     "solution": false
    }
   },
   "source": [
    "### Compute the classification accuracy on the test set.\n",
    "- Import `accuracy_score` from `sklearn.metrics`\n",
    "- Use `accuracy_score(testing labels, testing predictions)`"
   ]
  },
  {
   "cell_type": "code",
   "execution_count": null,
   "metadata": {
    "nbgrader": {
     "checksum": "da74e8af811718e86011e00347fae509",
     "grade": false,
     "grade_id": "cell-8859d68cc6d054a6",
     "locked": false,
     "schema_version": 1,
     "solution": true
    }
   },
   "outputs": [],
   "source": [
    "## Your code here ##"
   ]
  },
  {
   "cell_type": "markdown",
   "metadata": {
    "nbgrader": {
     "checksum": "b22bf25a725a2ae6464667cd656b1ee4",
     "grade": false,
     "grade_id": "cell-9e9bbe60fd3e2aeb",
     "locked": true,
     "schema_version": 1,
     "solution": false
    }
   },
   "source": [
    "## Random Forest Classifier \n",
    "Let’s train a RandomForestClassifier and compare its accuracy to the other classifiers.\n",
    "### Train a Random Forest Classifier on the training set\n",
    "- <a href=\"http://scikit-learn.org/stable/modules/generated/sklearn.ensemble.RandomForestClassifier.html\">Here is the documentation</a> of RandomForestClassifier.\n",
    "- Import `RandomForestClassifier` from `sklearn.ensemble` "
   ]
  },
  {
   "cell_type": "code",
   "execution_count": null,
   "metadata": {
    "nbgrader": {
     "checksum": "4312d3f9cbe798e6b0f448d4c2ae0c0b",
     "grade": false,
     "grade_id": "cell-748297c7d1077ae6",
     "locked": false,
     "schema_version": 1,
     "solution": true
    }
   },
   "outputs": [],
   "source": [
    "# YOUR CODE HERE"
   ]
  },
  {
   "cell_type": "markdown",
   "metadata": {
    "nbgrader": {
     "checksum": "a2f7fd4d875bfbe35e9b81df632ca146",
     "grade": false,
     "grade_id": "cell-47e03bbeb0a5a302",
     "locked": true,
     "schema_version": 1,
     "solution": false
    }
   },
   "source": [
    "### Apply the KNN classification model on the test set to get the predictions"
   ]
  },
  {
   "cell_type": "code",
   "execution_count": null,
   "metadata": {
    "nbgrader": {
     "checksum": "a01b754b13495d15245380b6186f06a4",
     "grade": false,
     "grade_id": "cell-32ee4c56f2452c4e",
     "locked": false,
     "schema_version": 1,
     "solution": true
    }
   },
   "outputs": [],
   "source": [
    "# YOUR CODE HERE"
   ]
  },
  {
   "cell_type": "markdown",
   "metadata": {
    "nbgrader": {
     "checksum": "ffd9791d5bc8b1bf2a66e883b2c508fa",
     "grade": false,
     "grade_id": "cell-aad4682b79e880c4",
     "locked": true,
     "schema_version": 1,
     "solution": false
    }
   },
   "source": [
    "### Compute the accuracy"
   ]
  },
  {
   "cell_type": "code",
   "execution_count": null,
   "metadata": {
    "nbgrader": {
     "checksum": "11d275313dcba7d612e18a85fa36b64c",
     "grade": false,
     "grade_id": "cell-951aa33c2aefb6a0",
     "locked": false,
     "schema_version": 1,
     "solution": true
    }
   },
   "outputs": [],
   "source": [
    "# YOUR CODE HERE"
   ]
  },
  {
   "cell_type": "markdown",
   "metadata": {
    "nbgrader": {
     "checksum": "a358a1aba39c839783290ab3739d9e21",
     "grade": false,
     "grade_id": "cell-2f9fc07c85b6cc86",
     "locked": true,
     "schema_version": 1,
     "solution": false
    }
   },
   "source": [
    "### Which is the best classifier?"
   ]
  },
  {
   "cell_type": "code",
   "execution_count": null,
   "metadata": {
    "nbgrader": {
     "checksum": "1e3d1231db2594df4df90ba43cb8ed47",
     "grade": true,
     "grade_id": "cell-4eb96ab398d0d33a",
     "locked": false,
     "points": 0,
     "schema_version": 1,
     "solution": true
    }
   },
   "outputs": [],
   "source": [
    "# YOUR CODE HERE"
   ]
  },
  {
   "cell_type": "markdown",
   "metadata": {},
   "source": [
    " # <span style=color:blue> Multiclass Classification</span>"
   ]
  },
  {
   "cell_type": "markdown",
   "metadata": {},
   "source": [
    "### <span style=color:blue> Instructions: </span> \n",
    "\n",
    "**<span style=color:blue> 1.  Fill in the blanks with the appropriate codes** </span> </br>\n",
    "**<span style=color:blue> 2.  Comment on what each group of codes does as precisely as possible** </span>\n"
   ]
  },
  {
   "cell_type": "markdown",
   "metadata": {},
   "source": [
    "Multiclass classifiers : distinguish between more than two classes.\n",
    "\n",
    "Some algorithms (such as Random Forest classifiers or naive Bayes classifiers) are capable of handling multiple classes directly. Others (such as Support Vector Machine classifiers or Linear classifiers) are strictly binary classifiers. \n",
    "\n",
    "However, there are various strategies that you can use to perform multiclass classification using multiple binary classifiers.\n",
    "\n",
    "![one-vs-all-classification](img/one-vs-all-classification.png)\n",
    "\n",
    "For example, one way to create a system that can classify the digit images into 10 classes (from 0 to 9) is to train 10 binary classifiers, one for each digit (a 0-detector, a 1-detector, a 2-detector, and so on). Then when you want to classify an image, you get the decision score from each classifier for that image and you select the class whose classifier outputs the highest score.\n",
    "\n",
    "## One-versus-One (OvO) strategy\n",
    "Another strategy is to train a binary classifier for every pair of digits: one to distinguish 0s and 1s, another to distinguish 0s and 2s, another for 1s and 2s, and so on. \n",
    "\n",
    "If there are N classes, you need to train N × (N – 1) / 2 classifiers. For the MNIST problem, this means training 45 binary classifiers! When you want to classify an image, you have to run the image through all 45 classifiers and see which class wins the most duels. The main advantage of OvO is that each classifier only needs to be trained on the part of the training set for the two classes that it must distinguish.\n",
    "\n",
    "Some algorithms (such as Support Vector Machine classifiers) scale poorly with the size of the training set, so for these algorithms OvO is preferred since it is faster to train many classifiers on small training sets than training few classifiers on large training sets. For most binary classification algorithms, however, OvA is preferred.\n",
    "\n",
    "Scikit-Learn detects when you try to use a binary classification algorithm for a multiclass classification task, and it automatically runs OvA (except for SVM classifiers for which it uses OvO). "
   ]
  },
  {
   "cell_type": "markdown",
   "metadata": {
    "nbgrader": {
     "checksum": "c4b1d1453ab206bd08c7bf5193835b68",
     "grade": false,
     "grade_id": "cell-a84a576a51d15810",
     "locked": true,
     "schema_version": 1,
     "solution": false
    }
   },
   "source": [
    "## Train the SGDClassifier on Xtrain. Use y_train labels."
   ]
  },
  {
   "cell_type": "code",
   "execution_count": null,
   "metadata": {
    "nbgrader": {
     "checksum": "4220c31a5e4e7c556904f2a57fa25d4f",
     "grade": false,
     "grade_id": "cell-2dd0215a7a342e04",
     "locked": false,
     "schema_version": 1,
     "solution": true
    }
   },
   "outputs": [],
   "source": [
    "# YOUR CODE HERE"
   ]
  },
  {
   "cell_type": "markdown",
   "metadata": {
    "nbgrader": {
     "checksum": "1e6a489b34de6b12736092949f9317ab",
     "grade": false,
     "grade_id": "cell-060a12ca4bb93f9d",
     "locked": true,
     "schema_version": 1,
     "solution": false
    }
   },
   "source": [
    "### Predict some_digit label"
   ]
  },
  {
   "cell_type": "code",
   "execution_count": null,
   "metadata": {
    "nbgrader": {
     "checksum": "ba0d71daaa27bc373f3af81717279dec",
     "grade": false,
     "grade_id": "cell-f6013dde9b0af13e",
     "locked": false,
     "schema_version": 1,
     "solution": true
    }
   },
   "outputs": [],
   "source": [
    "# Remember : some_digit was defined earlier\n",
    "# YOUR CODE HERE"
   ]
  },
  {
   "cell_type": "markdown",
   "metadata": {
    "nbgrader": {
     "checksum": "93878b89f87bcd5187d9169b8d93cab6",
     "grade": false,
     "grade_id": "cell-632bfd18877118b2",
     "locked": true,
     "schema_version": 1,
     "solution": false
    }
   },
   "source": [
    "Under the hood, Scikit-Learn actually trained 10 binary classifiers, got their decision scores for the image, and selected the class with the highest score.\n",
    "To see that this is indeed the case, you can call the `decision_function()` method. Instead of returning just one score per instance, it now returns 10 scores, one per class.\n",
    "\n",
    "### Try the `decision_function()` on some_digit"
   ]
  },
  {
   "cell_type": "code",
   "execution_count": null,
   "metadata": {
    "nbgrader": {
     "checksum": "c4306ec5dcf8a6e8552b59ab883d9e37",
     "grade": false,
     "grade_id": "cell-deef4d93c9070926",
     "locked": false,
     "schema_version": 1,
     "solution": true
    }
   },
   "outputs": [],
   "source": [
    "# YOUR CODE HERE"
   ]
  },
  {
   "cell_type": "markdown",
   "metadata": {
    "nbgrader": {
     "checksum": "de7b234a0e7e5047544a7ed4d90ef7ea",
     "grade": false,
     "grade_id": "cell-f0eded954ae27806",
     "locked": true,
     "schema_version": 1,
     "solution": false
    }
   },
   "source": [
    "### Use `np.argmax` to find which class the highest score corresponds to."
   ]
  },
  {
   "cell_type": "code",
   "execution_count": null,
   "metadata": {
    "nbgrader": {
     "checksum": "4f8674e35e1df4fff6f5b9e9fd3f921f",
     "grade": false,
     "grade_id": "cell-cf675d9613a6c0f9",
     "locked": false,
     "schema_version": 1,
     "solution": true
    }
   },
   "outputs": [],
   "source": [
    "# YOUR CODE HERE"
   ]
  },
  {
   "cell_type": "markdown",
   "metadata": {
    "nbgrader": {
     "checksum": "f3e5dc8dd2b3ef7bc2774a1b53c89cbd",
     "grade": false,
     "grade_id": "cell-2fdeba660bdca0e9",
     "locked": true,
     "schema_version": 1,
     "solution": false
    }
   },
   "source": [
    "### Find out all the classes labels using `.classes_`"
   ]
  },
  {
   "cell_type": "code",
   "execution_count": null,
   "metadata": {
    "nbgrader": {
     "checksum": "ab6cbac261fbdf11b53ca7c379606f70",
     "grade": false,
     "grade_id": "cell-d871d4905e699a1a",
     "locked": false,
     "schema_version": 1,
     "solution": true
    }
   },
   "outputs": [],
   "source": [
    "# YOUR CODE HERE"
   ]
  },
  {
   "cell_type": "markdown",
   "metadata": {
    "nbgrader": {
     "checksum": "72315e5230dd97c4375cff314b8d68ea",
     "grade": false,
     "grade_id": "cell-f3f16b95793e5ee7",
     "locked": true,
     "schema_version": 1,
     "solution": false
    }
   },
   "source": [
    "## One Vs One Strategy\n",
    "To force ScikitLearn to use one-versus-one or one-versus-all, you can use the `OneVsOneClassifier` or `OneVsRestClassifier` classes. \n",
    "### Train the a multiclass SGDClassifier using the one vs one strategy\n",
    "- <a href=\"https://scikit-learn.org/stable/modules/generated/sklearn.multiclass.OneVsOneClassifier.html\">Here is the documentation</a> of OneVsOneClassifier.\n",
    "- Import `OneVsOneClassifier` from `sklearn.multiclass`\n",
    "- Use OneVsOneClassifier(classifier)"
   ]
  },
  {
   "cell_type": "code",
   "execution_count": null,
   "metadata": {
    "nbgrader": {
     "checksum": "aa89f0703772b7be5b8c1b9fc4176798",
     "grade": false,
     "grade_id": "cell-0041810d1e5bb141",
     "locked": false,
     "schema_version": 1,
     "solution": true
    }
   },
   "outputs": [],
   "source": [
    "# YOUR CODE HERE"
   ]
  },
  {
   "cell_type": "markdown",
   "metadata": {
    "nbgrader": {
     "checksum": "3f1011b9838d10853f4f086045454730",
     "grade": false,
     "grade_id": "cell-633f487fe04892b6",
     "locked": true,
     "schema_version": 1,
     "solution": false
    }
   },
   "source": [
    "### Apply the classifier on some_digit"
   ]
  },
  {
   "cell_type": "code",
   "execution_count": null,
   "metadata": {
    "nbgrader": {
     "checksum": "bc66139597e3639ed8897ca7a651f13f",
     "grade": false,
     "grade_id": "cell-1a219315a168099e",
     "locked": false,
     "schema_version": 1,
     "solution": true
    }
   },
   "outputs": [],
   "source": [
    "# Remember : some_digit was defined earlier\n",
    "# YOUR CODE HERE"
   ]
  },
  {
   "cell_type": "markdown",
   "metadata": {
    "nbgrader": {
     "checksum": "d2d6395d952b41e027586071239e5a17",
     "grade": false,
     "grade_id": "cell-3c630cd6c191dfa0",
     "locked": true,
     "schema_version": 1,
     "solution": false
    }
   },
   "source": [
    "### Check the number of trained classifiers.\n",
    "- Use model.estimators_"
   ]
  },
  {
   "cell_type": "code",
   "execution_count": null,
   "metadata": {
    "nbgrader": {
     "checksum": "2359479ac2528f1112a24b9ac39dbec0",
     "grade": false,
     "grade_id": "cell-e80368685e32e53f",
     "locked": false,
     "schema_version": 1,
     "solution": true
    }
   },
   "outputs": [],
   "source": [
    "# YOUR CODE HERE"
   ]
  },
  {
   "cell_type": "markdown",
   "metadata": {
    "nbgrader": {
     "checksum": "037b50d1f92bcfd1e0b90d831712b5b7",
     "grade": false,
     "grade_id": "cell-84769143d10ce043",
     "locked": true,
     "schema_version": 1,
     "solution": false
    }
   },
   "source": [
    "## Train a Random Forest classifier\n",
    "Random Forest classifiers can directly classify instances into multiple classes.\n",
    "\n"
   ]
  },
  {
   "cell_type": "code",
   "execution_count": null,
   "metadata": {
    "nbgrader": {
     "checksum": "88970ea2550de54e38a3ba8083c75422",
     "grade": false,
     "grade_id": "cell-e03725a4443c6019",
     "locked": false,
     "schema_version": 1,
     "solution": true
    }
   },
   "outputs": [],
   "source": [
    "# YOUR CODE HERE"
   ]
  },
  {
   "cell_type": "markdown",
   "metadata": {
    "nbgrader": {
     "checksum": "9f7b937f762c023a947578b0dfe10714",
     "grade": false,
     "grade_id": "cell-1410f3f6c0e2b35e",
     "locked": true,
     "schema_version": 1,
     "solution": false
    }
   },
   "source": [
    "### Test it on some_digit"
   ]
  },
  {
   "cell_type": "code",
   "execution_count": null,
   "metadata": {
    "nbgrader": {
     "checksum": "1ff6b365c9aa3bfe13917b23220be658",
     "grade": false,
     "grade_id": "cell-f655bf664c2d54eb",
     "locked": false,
     "schema_version": 1,
     "solution": true
    }
   },
   "outputs": [],
   "source": [
    "# YOUR CODE HERE"
   ]
  },
  {
   "cell_type": "markdown",
   "metadata": {
    "nbgrader": {
     "checksum": "901ed65eba681e2fe1c7b2b7e805eb94",
     "grade": false,
     "grade_id": "cell-9cc0b8bb4760d48d",
     "locked": true,
     "schema_version": 1,
     "solution": false
    }
   },
   "source": [
    "### Check the probabilities of prediction corresponding to every class\n"
   ]
  },
  {
   "cell_type": "code",
   "execution_count": null,
   "metadata": {
    "nbgrader": {
     "checksum": "845f8bf4e342fa321710541fcbc669b4",
     "grade": false,
     "grade_id": "cell-ca41601468e90d01",
     "locked": true,
     "schema_version": 1,
     "solution": false
    }
   },
   "outputs": [],
   "source": [
    "forest_clf.predict_proba([some_digit])"
   ]
  },
  {
   "cell_type": "markdown",
   "metadata": {
    "nbgrader": {
     "checksum": "882bea66f2557ddda811cf444f1320db",
     "grade": false,
     "grade_id": "cell-eac8bca7e9c0714b",
     "locked": true,
     "schema_version": 1,
     "solution": false
    }
   },
   "source": [
    "# Multilabel classification\n",
    "\n",
    "\n",
    "![multi_label_classification](img/multi_label_classification.jpg)\n",
    "\n",
    "Mutliple classes for one instance.\n",
    "\n",
    "Face-recognition classifier: what should it do if it recognizes several people on the same picture? Of course it should attach one label per person it recognizes. Say the classifier has been trained to recognize three faces, Alice, Bob, and Charlie; then when it is shown a picture of Alice and Charlie, it should output [1, 0, 1] (meaning “Alice yes, Bob no, Charlie yes”). Such a classification system that outputs multiple binary labels is called a multilabel classification system.\n",
    "\n",
    "Lets create a multi-label classifier.\n",
    "\n",
    "## Create a y_multilabel array containing two target labels for each digit image:\n",
    "\n",
    "- First label: whether or not the digit is large (7, 8, or 9)\n",
    "- Second label: whether or not it is odd."
   ]
  },
  {
   "cell_type": "code",
   "execution_count": null,
   "metadata": {
    "nbgrader": {
     "checksum": "5eb40ccfdf804c7e2948d3178cee45fb",
     "grade": false,
     "grade_id": "cell-3f7f714764bffb2a",
     "locked": true,
     "schema_version": 1,
     "solution": false
    }
   },
   "outputs": [],
   "source": [
    "y_train_large = (y_train >= '7')\n",
    "y_train_odd = (y_train.astype(np.int) % 2 == 1)\n",
    "y_multilabel = np.c_[y_train_large, y_train_odd]"
   ]
  },
  {
   "cell_type": "markdown",
   "metadata": {
    "nbgrader": {
     "checksum": "cfeec89e96adf7bdbe2abf6cb1ad00d9",
     "grade": false,
     "grade_id": "cell-4046dbaaf266e3a4",
     "locked": true,
     "schema_version": 1,
     "solution": false
    }
   },
   "source": [
    "## Train a KNeighbors classifier (supports multilabel classification):"
   ]
  },
  {
   "cell_type": "code",
   "execution_count": null,
   "metadata": {
    "nbgrader": {
     "checksum": "fca78f6ce7a426c1aed0e9baff7e05f5",
     "grade": false,
     "grade_id": "cell-309657b22dfb47af",
     "locked": false,
     "schema_version": 1,
     "solution": true
    }
   },
   "outputs": [],
   "source": [
    "# YOUR CODE HERE"
   ]
  },
  {
   "cell_type": "markdown",
   "metadata": {
    "nbgrader": {
     "checksum": "64664325471196cbe69fde9e9cc6e239",
     "grade": false,
     "grade_id": "cell-3404950d865a44df",
     "locked": true,
     "schema_version": 1,
     "solution": false
    }
   },
   "source": [
    "## Predict the result on `some_digit`"
   ]
  },
  {
   "cell_type": "code",
   "execution_count": null,
   "metadata": {
    "nbgrader": {
     "checksum": "6e5fd16fe7b457fb94e16813e326a7b2",
     "grade": false,
     "grade_id": "cell-6c47e4df3ffaee96",
     "locked": false,
     "schema_version": 1,
     "solution": true
    }
   },
   "outputs": [],
   "source": [
    "# YOUR CODE HERE"
   ]
  },
  {
   "cell_type": "markdown",
   "metadata": {
    "nbgrader": {
     "checksum": "d244dd82154c5adc0bdd57fa4c18eaeb",
     "grade": false,
     "grade_id": "cell-f4b2a9ec1f53a4cf",
     "locked": true,
     "schema_version": 1,
     "solution": false
    }
   },
   "source": [
    "# Multioutput classification\n",
    " A generalization of multilabel classification where each label can be multiclass.\n",
    " \n",
    " To illustrate this, let’s build a system that removes noise from images. It will take as input a noisy digit image, and it will (hopefully) output a clean digit image, represented as an array of pixel intensities, just like the MNIST images. Notice that the classifier’s output is multilabel (one label per pixel) and each label can have multiple values (pixel intensity ranges from 0 to 255). It is thus an example of a multioutput classification system.\n",
    " "
   ]
  },
  {
   "cell_type": "markdown",
   "metadata": {
    "nbgrader": {
     "checksum": "5bc3a39c51d83457270ebf81c72aa038",
     "grade": false,
     "grade_id": "cell-c670e6df0ed02b93",
     "locked": true,
     "schema_version": 1,
     "solution": false
    }
   },
   "source": [
    "## Create the noise (random values) and add it  to the training and testing images."
   ]
  },
  {
   "cell_type": "code",
   "execution_count": null,
   "metadata": {
    "nbgrader": {
     "checksum": "169dc20ba766c97c5d9d1f21a3a89629",
     "grade": false,
     "grade_id": "cell-5e206d3f525b3e7e",
     "locked": true,
     "schema_version": 1,
     "solution": false
    }
   },
   "outputs": [],
   "source": [
    "noise = np.random.randint(0, 100, (len(X_train), 784))\n",
    "noise\n"
   ]
  },
  {
   "cell_type": "code",
   "execution_count": null,
   "metadata": {
    "nbgrader": {
     "checksum": "9cf0bc7ca5fbc688d4872b182950b4f7",
     "grade": false,
     "grade_id": "cell-36aa41815cfddc80",
     "locked": true,
     "schema_version": 1,
     "solution": false
    }
   },
   "outputs": [],
   "source": [
    "X_train_mod = X_train + noise"
   ]
  },
  {
   "cell_type": "code",
   "execution_count": null,
   "metadata": {
    "nbgrader": {
     "checksum": "f9a146122b534c2ee5d140195f42e848",
     "grade": false,
     "grade_id": "cell-bb7942e3585320d1",
     "locked": true,
     "schema_version": 1,
     "solution": false
    }
   },
   "outputs": [],
   "source": [
    "noise = np.random.randint(0, 100, (len(X_test), 784))\n",
    "X_test_mod = X_test + noise"
   ]
  },
  {
   "cell_type": "markdown",
   "metadata": {
    "nbgrader": {
     "checksum": "d5a90b9e51da9698f3411d80f4318dcc",
     "grade": true,
     "grade_id": "cell-dab0d292dca39c14",
     "locked": false,
     "points": 0,
     "schema_version": 1,
     "solution": true
    }
   },
   "source": [
    "YOUR ANSWER HERE"
   ]
  },
  {
   "cell_type": "code",
   "execution_count": null,
   "metadata": {
    "nbgrader": {
     "checksum": "e14e624004d68c478b27f2d3ca0495e3",
     "grade": false,
     "grade_id": "cell-f11cef0e2258c63b",
     "locked": false,
     "schema_version": 1,
     "solution": true
    }
   },
   "outputs": [],
   "source": [
    "# YOUR CODE HERE"
   ]
  },
  {
   "cell_type": "code",
   "execution_count": null,
   "metadata": {
    "nbgrader": {
     "checksum": "0126e2f15b7e461c0a6ce7b996518873",
     "grade": false,
     "grade_id": "cell-03dea0c5895a0b2f",
     "locked": true,
     "schema_version": 1,
     "solution": false
    }
   },
   "outputs": [],
   "source": [
    "y_test_mod"
   ]
  },
  {
   "cell_type": "markdown",
   "metadata": {
    "nbgrader": {
     "checksum": "c11f644c39425898ff1354153ba37b5d",
     "grade": false,
     "grade_id": "cell-5bc8736cdaf690c3",
     "locked": true,
     "schema_version": 1,
     "solution": false
    }
   },
   "source": [
    "## Plot one of the images to see the effect of the noise:"
   ]
  },
  {
   "cell_type": "code",
   "execution_count": null,
   "metadata": {
    "nbgrader": {
     "checksum": "2cf81143e1f32246398bbf7754c0c196",
     "grade": false,
     "grade_id": "cell-23b22ff8735b5740",
     "locked": true,
     "schema_version": 1,
     "solution": false
    }
   },
   "outputs": [],
   "source": [
    "some_index = 5500\n",
    "plt.subplot(121); plot_digit(X_test_mod[some_index])\n",
    "plt.subplot(122); plot_digit(y_test_mod[some_index])\n",
    "save_fig(\"noisy_digit_example_plot\")\n",
    "plt.show()"
   ]
  },
  {
   "cell_type": "markdown",
   "metadata": {
    "nbgrader": {
     "checksum": "095e1d176a9f248d3ee06173319109b0",
     "grade": false,
     "grade_id": "cell-1d2c5c7898b2b0cd",
     "locked": true,
     "schema_version": 1,
     "solution": false
    }
   },
   "source": [
    "## Train a k-nearest neighbors classifier and test it on a sample of your choice"
   ]
  },
  {
   "cell_type": "code",
   "execution_count": null,
   "metadata": {
    "nbgrader": {
     "checksum": "7d8761b38c6ed8308127617381941c58",
     "grade": false,
     "grade_id": "cell-032f41196ec76aeb",
     "locked": false,
     "schema_version": 1,
     "solution": true
    }
   },
   "outputs": [],
   "source": [
    "# YOUR CODE HERE"
   ]
  },
  {
   "cell_type": "markdown",
   "metadata": {
    "nbgrader": {
     "checksum": "ac47fa82f9e3e1b91214dd4d8e47be32",
     "grade": false,
     "grade_id": "cell-d9aaf6954fca3da2",
     "locked": true,
     "schema_version": 1,
     "solution": false
    }
   },
   "source": [
    "## Plot the resulting prediction"
   ]
  },
  {
   "cell_type": "code",
   "execution_count": null,
   "metadata": {
    "nbgrader": {
     "checksum": "a620c4079b562a3236de4d6f5dfd461a",
     "grade": false,
     "grade_id": "cell-e9218447add6fdfc",
     "locked": false,
     "schema_version": 1,
     "solution": true
    }
   },
   "outputs": [],
   "source": [
    "# YOUR CODE HERE"
   ]
  }
 ],
 "metadata": {
  "celltoolbar": "Raw Cell Format",
  "kernelspec": {
   "display_name": "Python 3 (ipykernel)",
   "language": "python",
   "name": "python3"
  },
  "language_info": {
   "codemirror_mode": {
    "name": "ipython",
    "version": 3
   },
   "file_extension": ".py",
   "mimetype": "text/x-python",
   "name": "python",
   "nbconvert_exporter": "python",
   "pygments_lexer": "ipython3",
   "version": "3.8.5"
  },
  "nav_menu": {},
  "toc": {
   "base_numbering": 1,
   "nav_menu": {},
   "number_sections": true,
   "sideBar": true,
   "skip_h1_title": false,
   "title_cell": "Table of Contents",
   "title_sidebar": "Contents",
   "toc_cell": false,
   "toc_position": {
    "height": "calc(100% - 180px)",
    "left": "10px",
    "top": "150px",
    "width": "338.8235168457031px"
   },
   "toc_section_display": "block",
   "toc_window_display": true
  }
 },
 "nbformat": 4,
 "nbformat_minor": 1
}
