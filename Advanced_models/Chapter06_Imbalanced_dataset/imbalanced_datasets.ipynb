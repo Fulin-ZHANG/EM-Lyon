{
  "cells": [
    {
      "cell_type": "markdown",
      "metadata": {
        "_cell_guid": "3689760c-41f8-4a33-9c96-3fd17803950e",
        "_uuid": "3e0ad409d438c7c68ea6a76700a1e964a357453f",
        "id": "lkUa_zApp_Yf"
      },
      "source": [
        "# Imbalanced dataset\n",
        "\n",
        "Handling imbalanced datasets is a common challenge in machine learning, particularly in classification tasks where the distribution of classes is uneven. Here are several strategies to address imbalanced datasets:\n",
        "\n",
        "1. **Data-level approaches:**\n",
        "    - **Resampling:**\n",
        "        - **Undersampling:** Reduce the number of instances of the over-represented class. This can be done randomly or in a more strategic way to preserve important patterns.\n",
        "        - **Oversampling:** Increase the number of instances of the under-represented class. This can be achieved by replicating instances or generating synthetic examples using techniques like SMOTE (Synthetic Minority Over-sampling Technique).\n",
        "    - **Data Augmentation:**\n",
        "      - Augment the minority class data by introducing variations or transformations to existing instances.\n",
        "2. **Algorithm-level approaches:**\n",
        "  - **Ensemble Methods:**\n",
        "    - Use ensemble methods like Random Forests or Gradient Boosting (xgboost), which can handle imbalanced datasets better than some other algorithms.\n",
        "    - Train different models on subsets of the data and combine their predictions. This can help capture diverse patterns present in the imbalanced dataset.\n",
        "  - **Reformulate the problem:**\n",
        "    - Frame a multiclass classification as a **One versus the Rest (OVR)** classification, i.e., a binary classification per class. In other terms, if the number of classes are 10, instead of creating one model that classifies the 10 classes, you will create 10 binary classifiers, each predicting the probability of one class.\n",
        "    - Frame the problem as an **anomaly detection** task, treating the minority class as the rare event to be detected.\n",
        "\n",
        "3. **Choice of Evaluation Metrics:**\n",
        "   - Accuracy, consider using evaluation metrics that are more informative for imbalanced datasets, such as confusion matrix, precision, recall, F1 score, area under the Receiver Operating Characteristic (ROC) curve (AUC-ROC), area under the Precision-Recall curve (AUC-PR), or Matthews Correlation Coefficient (MCC).\n",
        "\n",
        "4. **Cost-sensitive Learning:**\n",
        "  - **Weighting Data Space:**\n",
        "    - Assign different misclassification costs to different classes. Some algorithms allow you to assign weights to classes to make them more or less important during training. Use, for example, the hyperparameter `class_weight=\"balances\"` in the ML models like `LogisticRegression`, `DecisionTreeClassifier`, etc., or do this manually.\n",
        "  - **Adapting Learning algorithms:**\n",
        "    - Design custom loss functions that penalize misclassifying the minority class more heavily.\n",
        "\n",
        "5. **Transfer Learning:**\n",
        "    - Leverage knowledge from a model trained on a related task or a dataset with a balanced class distribution.\n",
        "\n",
        "The best choice does not exist, it will always depend on the situation: the dataset and the problem you're trying to solve.\n",
        "\n",
        "You should always explore multiple approaches to find the one that works best for your case.\n",
        "\n",
        "# References\n",
        "1. [Classification of imbalanced data: a review](https://www.researchgate.net/profile/Andrew-Wong-43/publication/263913891_Classification_of_imbalanced_data_a_review/links/550e28780cf212874167e2af/Classification-of-imbalanced-data-a-review.pdf)\n",
        "\n",
        "<h1 align=\"center\"> Credit Fraud Detector </h1>\n",
        "\n",
        "<h2>Tips for Imbalanced Datasets: </h2>\n",
        "<ul>\n",
        "<li> Never test on the oversampled or undersampled dataset.</li>\n",
        "<li>If we want to implement cross validation, remember to oversample or undersample your training data <b>during</b> cross-validation, not before! </li>\n",
        "<li> Don't use <b>accuracy score </b> as a metric with imbalanced datasets (will be usually high and misleading), instead use <b>f1-score, precision/recall score or confusion matrix </b></li>\n",
        "</ul>\n"
      ]
    },
    {
      "cell_type": "code",
      "execution_count": 1,
      "metadata": {
        "id": "3QxJxZR25Z81"
      },
      "outputs": [],
      "source": [
        "import numpy as np\n",
        "import pandas as pd\n",
        "import matplotlib.pyplot as plt\n",
        "import seaborn as sns\n",
        "import time\n",
        "from sklearn.linear_model import LogisticRegression\n",
        "from sklearn.cluster import KMeans\n",
        "from lightgbm import LGBMClassifier\n",
        "from sklearn.model_selection import train_test_split, RandomizedSearchCV\n",
        "from sklearn.pipeline import make_pipeline\n",
        "from imblearn.pipeline import make_pipeline as imbalanced_make_pipeline\n",
        "from imblearn.over_sampling import SMOTE\n",
        "from imblearn.under_sampling import NearMiss\n",
        "from imblearn.metrics import classification_report_imbalanced\n",
        "from sklearn.metrics import classification_report, recall_score\n",
        "import warnings\n",
        "warnings.filterwarnings(\"ignore\")"
      ]
    },
    {
      "cell_type": "markdown",
      "metadata": {
        "_cell_guid": "ae8dd7f3-80a7-4db9-a132-823b0e48c041",
        "_uuid": "c999e5f1ac81513263d83883008f2844209e9e07",
        "id": "s4wkfKBGp_Yl"
      },
      "source": [
        "## Gather Sense of Our Data:\n",
        "<a id=\"gather\"></a>\n",
        "The first thing we must do is gather a <b> basic sense </b> of our data. Remember, except for the <b>transaction</b> and <b>amount</b> we dont know what the other columns are (due to privacy reasons). The only thing we know, is that those columns that are unknown have been scaled already.   \n",
        "\n",
        "<h3> Summary: </h3>\n",
        "<ul>\n",
        "<li>The transaction amount is relatively <b>small</b>. The mean of all the mounts made is approximately USD 88. </li>\n",
        "<li>There are no <b>\"Null\"</b> values, so we don't have to work on ways to replace values. </li>\n",
        "<li> Most of the transactions were <b>Non-Fraud</b> (99.83%) of the time, while <b>Fraud</b> transactions occurs (017%) of the time in the dataframe. </li>\n",
        "</ul>\n",
        "\n",
        "<h3> Feature Technicalities: </h3>\n",
        "<ul>\n",
        "<li> <b>PCA Transformation: </b>  The description of the data says that all the features went through a PCA transformation (Dimensionality Reduction technique) (Except for time and amount).</li>\n",
        "<li> <b>Scaling:</b> Keep in mind that in order to implement a PCA transformation features need to be previously scaled. (In this case, all the V features have been scaled or at least that is what we are assuming the people that develop the dataset did.)</li>\n",
        "</ul>"
      ]
    },
    {
      "cell_type": "code",
      "execution_count": 2,
      "metadata": {
        "colab": {
          "base_uri": "https://localhost:8080/"
        },
        "id": "cjnXixds18rE",
        "outputId": "5dc4cb3b-ae68-40f7-f15f-0615667dd8a6"
      },
      "outputs": [
        {
          "name": "stdout",
          "output_type": "stream",
          "text": [
            "Mounted at /content/drive\n"
          ]
        }
      ],
      "source": [
        "from google.colab import drive\n",
        "drive.mount('/content/drive')"
      ]
    },
    {
      "cell_type": "code",
      "execution_count": 3,
      "metadata": {
        "colab": {
          "base_uri": "https://localhost:8080/"
        },
        "id": "SjtxmDkl2EzL",
        "outputId": "e9d73ac6-1329-4c39-e7db-8353ee71b381"
      },
      "outputs": [
        {
          "name": "stdout",
          "output_type": "stream",
          "text": [
            "/content/drive/MyDrive/Advanced Machine Learning Course\n"
          ]
        }
      ],
      "source": [
        "cd drive/MyDrive/Advanced\\ Machine\\ Learning\\ Course"
      ]
    },
    {
      "cell_type": "code",
      "execution_count": 4,
      "metadata": {
        "colab": {
          "base_uri": "https://localhost:8080/",
          "height": 255
        },
        "id": "KRFwkOF52xe1",
        "outputId": "dd846071-942a-4b3e-8ce2-04b901382fbf"
      },
      "outputs": [
        {
          "data": {
            "text/html": [
              "\n",
              "  <div id=\"df-15d83873-5b83-4c15-afa7-8cb4993488e4\" class=\"colab-df-container\">\n",
              "    <div>\n",
              "<style scoped>\n",
              "    .dataframe tbody tr th:only-of-type {\n",
              "        vertical-align: middle;\n",
              "    }\n",
              "\n",
              "    .dataframe tbody tr th {\n",
              "        vertical-align: top;\n",
              "    }\n",
              "\n",
              "    .dataframe thead th {\n",
              "        text-align: right;\n",
              "    }\n",
              "</style>\n",
              "<table border=\"1\" class=\"dataframe\">\n",
              "  <thead>\n",
              "    <tr style=\"text-align: right;\">\n",
              "      <th></th>\n",
              "      <th>Time</th>\n",
              "      <th>V1</th>\n",
              "      <th>V2</th>\n",
              "      <th>V3</th>\n",
              "      <th>V4</th>\n",
              "      <th>V5</th>\n",
              "      <th>V6</th>\n",
              "      <th>V7</th>\n",
              "      <th>V8</th>\n",
              "      <th>V9</th>\n",
              "      <th>...</th>\n",
              "      <th>V21</th>\n",
              "      <th>V22</th>\n",
              "      <th>V23</th>\n",
              "      <th>V24</th>\n",
              "      <th>V25</th>\n",
              "      <th>V26</th>\n",
              "      <th>V27</th>\n",
              "      <th>V28</th>\n",
              "      <th>Amount</th>\n",
              "      <th>Class</th>\n",
              "    </tr>\n",
              "  </thead>\n",
              "  <tbody>\n",
              "    <tr>\n",
              "      <th>0</th>\n",
              "      <td>0.0</td>\n",
              "      <td>-1.359807</td>\n",
              "      <td>-0.072781</td>\n",
              "      <td>2.536347</td>\n",
              "      <td>1.378155</td>\n",
              "      <td>-0.338321</td>\n",
              "      <td>0.462388</td>\n",
              "      <td>0.239599</td>\n",
              "      <td>0.098698</td>\n",
              "      <td>0.363787</td>\n",
              "      <td>...</td>\n",
              "      <td>-0.018307</td>\n",
              "      <td>0.277838</td>\n",
              "      <td>-0.110474</td>\n",
              "      <td>0.066928</td>\n",
              "      <td>0.128539</td>\n",
              "      <td>-0.189115</td>\n",
              "      <td>0.133558</td>\n",
              "      <td>-0.021053</td>\n",
              "      <td>149.62</td>\n",
              "      <td>0</td>\n",
              "    </tr>\n",
              "    <tr>\n",
              "      <th>1</th>\n",
              "      <td>0.0</td>\n",
              "      <td>1.191857</td>\n",
              "      <td>0.266151</td>\n",
              "      <td>0.166480</td>\n",
              "      <td>0.448154</td>\n",
              "      <td>0.060018</td>\n",
              "      <td>-0.082361</td>\n",
              "      <td>-0.078803</td>\n",
              "      <td>0.085102</td>\n",
              "      <td>-0.255425</td>\n",
              "      <td>...</td>\n",
              "      <td>-0.225775</td>\n",
              "      <td>-0.638672</td>\n",
              "      <td>0.101288</td>\n",
              "      <td>-0.339846</td>\n",
              "      <td>0.167170</td>\n",
              "      <td>0.125895</td>\n",
              "      <td>-0.008983</td>\n",
              "      <td>0.014724</td>\n",
              "      <td>2.69</td>\n",
              "      <td>0</td>\n",
              "    </tr>\n",
              "    <tr>\n",
              "      <th>2</th>\n",
              "      <td>1.0</td>\n",
              "      <td>-1.358354</td>\n",
              "      <td>-1.340163</td>\n",
              "      <td>1.773209</td>\n",
              "      <td>0.379780</td>\n",
              "      <td>-0.503198</td>\n",
              "      <td>1.800499</td>\n",
              "      <td>0.791461</td>\n",
              "      <td>0.247676</td>\n",
              "      <td>-1.514654</td>\n",
              "      <td>...</td>\n",
              "      <td>0.247998</td>\n",
              "      <td>0.771679</td>\n",
              "      <td>0.909412</td>\n",
              "      <td>-0.689281</td>\n",
              "      <td>-0.327642</td>\n",
              "      <td>-0.139097</td>\n",
              "      <td>-0.055353</td>\n",
              "      <td>-0.059752</td>\n",
              "      <td>378.66</td>\n",
              "      <td>0</td>\n",
              "    </tr>\n",
              "    <tr>\n",
              "      <th>3</th>\n",
              "      <td>1.0</td>\n",
              "      <td>-0.966272</td>\n",
              "      <td>-0.185226</td>\n",
              "      <td>1.792993</td>\n",
              "      <td>-0.863291</td>\n",
              "      <td>-0.010309</td>\n",
              "      <td>1.247203</td>\n",
              "      <td>0.237609</td>\n",
              "      <td>0.377436</td>\n",
              "      <td>-1.387024</td>\n",
              "      <td>...</td>\n",
              "      <td>-0.108300</td>\n",
              "      <td>0.005274</td>\n",
              "      <td>-0.190321</td>\n",
              "      <td>-1.175575</td>\n",
              "      <td>0.647376</td>\n",
              "      <td>-0.221929</td>\n",
              "      <td>0.062723</td>\n",
              "      <td>0.061458</td>\n",
              "      <td>123.50</td>\n",
              "      <td>0</td>\n",
              "    </tr>\n",
              "    <tr>\n",
              "      <th>4</th>\n",
              "      <td>2.0</td>\n",
              "      <td>-1.158233</td>\n",
              "      <td>0.877737</td>\n",
              "      <td>1.548718</td>\n",
              "      <td>0.403034</td>\n",
              "      <td>-0.407193</td>\n",
              "      <td>0.095921</td>\n",
              "      <td>0.592941</td>\n",
              "      <td>-0.270533</td>\n",
              "      <td>0.817739</td>\n",
              "      <td>...</td>\n",
              "      <td>-0.009431</td>\n",
              "      <td>0.798278</td>\n",
              "      <td>-0.137458</td>\n",
              "      <td>0.141267</td>\n",
              "      <td>-0.206010</td>\n",
              "      <td>0.502292</td>\n",
              "      <td>0.219422</td>\n",
              "      <td>0.215153</td>\n",
              "      <td>69.99</td>\n",
              "      <td>0</td>\n",
              "    </tr>\n",
              "  </tbody>\n",
              "</table>\n",
              "<p>5 rows × 31 columns</p>\n",
              "</div>\n",
              "    <div class=\"colab-df-buttons\">\n",
              "\n",
              "  <div class=\"colab-df-container\">\n",
              "    <button class=\"colab-df-convert\" onclick=\"convertToInteractive('df-15d83873-5b83-4c15-afa7-8cb4993488e4')\"\n",
              "            title=\"Convert this dataframe to an interactive table.\"\n",
              "            style=\"display:none;\">\n",
              "\n",
              "  <svg xmlns=\"http://www.w3.org/2000/svg\" height=\"24px\" viewBox=\"0 -960 960 960\">\n",
              "    <path d=\"M120-120v-720h720v720H120Zm60-500h600v-160H180v160Zm220 220h160v-160H400v160Zm0 220h160v-160H400v160ZM180-400h160v-160H180v160Zm440 0h160v-160H620v160ZM180-180h160v-160H180v160Zm440 0h160v-160H620v160Z\"/>\n",
              "  </svg>\n",
              "    </button>\n",
              "\n",
              "  <style>\n",
              "    .colab-df-container {\n",
              "      display:flex;\n",
              "      gap: 12px;\n",
              "    }\n",
              "\n",
              "    .colab-df-convert {\n",
              "      background-color: #E8F0FE;\n",
              "      border: none;\n",
              "      border-radius: 50%;\n",
              "      cursor: pointer;\n",
              "      display: none;\n",
              "      fill: #1967D2;\n",
              "      height: 32px;\n",
              "      padding: 0 0 0 0;\n",
              "      width: 32px;\n",
              "    }\n",
              "\n",
              "    .colab-df-convert:hover {\n",
              "      background-color: #E2EBFA;\n",
              "      box-shadow: 0px 1px 2px rgba(60, 64, 67, 0.3), 0px 1px 3px 1px rgba(60, 64, 67, 0.15);\n",
              "      fill: #174EA6;\n",
              "    }\n",
              "\n",
              "    .colab-df-buttons div {\n",
              "      margin-bottom: 4px;\n",
              "    }\n",
              "\n",
              "    [theme=dark] .colab-df-convert {\n",
              "      background-color: #3B4455;\n",
              "      fill: #D2E3FC;\n",
              "    }\n",
              "\n",
              "    [theme=dark] .colab-df-convert:hover {\n",
              "      background-color: #434B5C;\n",
              "      box-shadow: 0px 1px 3px 1px rgba(0, 0, 0, 0.15);\n",
              "      filter: drop-shadow(0px 1px 2px rgba(0, 0, 0, 0.3));\n",
              "      fill: #FFFFFF;\n",
              "    }\n",
              "  </style>\n",
              "\n",
              "    <script>\n",
              "      const buttonEl =\n",
              "        document.querySelector('#df-15d83873-5b83-4c15-afa7-8cb4993488e4 button.colab-df-convert');\n",
              "      buttonEl.style.display =\n",
              "        google.colab.kernel.accessAllowed ? 'block' : 'none';\n",
              "\n",
              "      async function convertToInteractive(key) {\n",
              "        const element = document.querySelector('#df-15d83873-5b83-4c15-afa7-8cb4993488e4');\n",
              "        const dataTable =\n",
              "          await google.colab.kernel.invokeFunction('convertToInteractive',\n",
              "                                                    [key], {});\n",
              "        if (!dataTable) return;\n",
              "\n",
              "        const docLinkHtml = 'Like what you see? Visit the ' +\n",
              "          '<a target=\"_blank\" href=https://colab.research.google.com/notebooks/data_table.ipynb>data table notebook</a>'\n",
              "          + ' to learn more about interactive tables.';\n",
              "        element.innerHTML = '';\n",
              "        dataTable['output_type'] = 'display_data';\n",
              "        await google.colab.output.renderOutput(dataTable, element);\n",
              "        const docLink = document.createElement('div');\n",
              "        docLink.innerHTML = docLinkHtml;\n",
              "        element.appendChild(docLink);\n",
              "      }\n",
              "    </script>\n",
              "  </div>\n",
              "\n",
              "\n",
              "<div id=\"df-5f3f5629-1bcd-4f85-adff-8dcccb39b014\">\n",
              "  <button class=\"colab-df-quickchart\" onclick=\"quickchart('df-5f3f5629-1bcd-4f85-adff-8dcccb39b014')\"\n",
              "            title=\"Suggest charts\"\n",
              "            style=\"display:none;\">\n",
              "\n",
              "<svg xmlns=\"http://www.w3.org/2000/svg\" height=\"24px\"viewBox=\"0 0 24 24\"\n",
              "     width=\"24px\">\n",
              "    <g>\n",
              "        <path d=\"M19 3H5c-1.1 0-2 .9-2 2v14c0 1.1.9 2 2 2h14c1.1 0 2-.9 2-2V5c0-1.1-.9-2-2-2zM9 17H7v-7h2v7zm4 0h-2V7h2v10zm4 0h-2v-4h2v4z\"/>\n",
              "    </g>\n",
              "</svg>\n",
              "  </button>\n",
              "\n",
              "<style>\n",
              "  .colab-df-quickchart {\n",
              "      --bg-color: #E8F0FE;\n",
              "      --fill-color: #1967D2;\n",
              "      --hover-bg-color: #E2EBFA;\n",
              "      --hover-fill-color: #174EA6;\n",
              "      --disabled-fill-color: #AAA;\n",
              "      --disabled-bg-color: #DDD;\n",
              "  }\n",
              "\n",
              "  [theme=dark] .colab-df-quickchart {\n",
              "      --bg-color: #3B4455;\n",
              "      --fill-color: #D2E3FC;\n",
              "      --hover-bg-color: #434B5C;\n",
              "      --hover-fill-color: #FFFFFF;\n",
              "      --disabled-bg-color: #3B4455;\n",
              "      --disabled-fill-color: #666;\n",
              "  }\n",
              "\n",
              "  .colab-df-quickchart {\n",
              "    background-color: var(--bg-color);\n",
              "    border: none;\n",
              "    border-radius: 50%;\n",
              "    cursor: pointer;\n",
              "    display: none;\n",
              "    fill: var(--fill-color);\n",
              "    height: 32px;\n",
              "    padding: 0;\n",
              "    width: 32px;\n",
              "  }\n",
              "\n",
              "  .colab-df-quickchart:hover {\n",
              "    background-color: var(--hover-bg-color);\n",
              "    box-shadow: 0 1px 2px rgba(60, 64, 67, 0.3), 0 1px 3px 1px rgba(60, 64, 67, 0.15);\n",
              "    fill: var(--button-hover-fill-color);\n",
              "  }\n",
              "\n",
              "  .colab-df-quickchart-complete:disabled,\n",
              "  .colab-df-quickchart-complete:disabled:hover {\n",
              "    background-color: var(--disabled-bg-color);\n",
              "    fill: var(--disabled-fill-color);\n",
              "    box-shadow: none;\n",
              "  }\n",
              "\n",
              "  .colab-df-spinner {\n",
              "    border: 2px solid var(--fill-color);\n",
              "    border-color: transparent;\n",
              "    border-bottom-color: var(--fill-color);\n",
              "    animation:\n",
              "      spin 1s steps(1) infinite;\n",
              "  }\n",
              "\n",
              "  @keyframes spin {\n",
              "    0% {\n",
              "      border-color: transparent;\n",
              "      border-bottom-color: var(--fill-color);\n",
              "      border-left-color: var(--fill-color);\n",
              "    }\n",
              "    20% {\n",
              "      border-color: transparent;\n",
              "      border-left-color: var(--fill-color);\n",
              "      border-top-color: var(--fill-color);\n",
              "    }\n",
              "    30% {\n",
              "      border-color: transparent;\n",
              "      border-left-color: var(--fill-color);\n",
              "      border-top-color: var(--fill-color);\n",
              "      border-right-color: var(--fill-color);\n",
              "    }\n",
              "    40% {\n",
              "      border-color: transparent;\n",
              "      border-right-color: var(--fill-color);\n",
              "      border-top-color: var(--fill-color);\n",
              "    }\n",
              "    60% {\n",
              "      border-color: transparent;\n",
              "      border-right-color: var(--fill-color);\n",
              "    }\n",
              "    80% {\n",
              "      border-color: transparent;\n",
              "      border-right-color: var(--fill-color);\n",
              "      border-bottom-color: var(--fill-color);\n",
              "    }\n",
              "    90% {\n",
              "      border-color: transparent;\n",
              "      border-bottom-color: var(--fill-color);\n",
              "    }\n",
              "  }\n",
              "</style>\n",
              "\n",
              "  <script>\n",
              "    async function quickchart(key) {\n",
              "      const quickchartButtonEl =\n",
              "        document.querySelector('#' + key + ' button');\n",
              "      quickchartButtonEl.disabled = true;  // To prevent multiple clicks.\n",
              "      quickchartButtonEl.classList.add('colab-df-spinner');\n",
              "      try {\n",
              "        const charts = await google.colab.kernel.invokeFunction(\n",
              "            'suggestCharts', [key], {});\n",
              "      } catch (error) {\n",
              "        console.error('Error during call to suggestCharts:', error);\n",
              "      }\n",
              "      quickchartButtonEl.classList.remove('colab-df-spinner');\n",
              "      quickchartButtonEl.classList.add('colab-df-quickchart-complete');\n",
              "    }\n",
              "    (() => {\n",
              "      let quickchartButtonEl =\n",
              "        document.querySelector('#df-5f3f5629-1bcd-4f85-adff-8dcccb39b014 button');\n",
              "      quickchartButtonEl.style.display =\n",
              "        google.colab.kernel.accessAllowed ? 'block' : 'none';\n",
              "    })();\n",
              "  </script>\n",
              "</div>\n",
              "    </div>\n",
              "  </div>\n"
            ],
            "text/plain": [
              "   Time        V1        V2        V3        V4        V5        V6        V7  \\\n",
              "0   0.0 -1.359807 -0.072781  2.536347  1.378155 -0.338321  0.462388  0.239599   \n",
              "1   0.0  1.191857  0.266151  0.166480  0.448154  0.060018 -0.082361 -0.078803   \n",
              "2   1.0 -1.358354 -1.340163  1.773209  0.379780 -0.503198  1.800499  0.791461   \n",
              "3   1.0 -0.966272 -0.185226  1.792993 -0.863291 -0.010309  1.247203  0.237609   \n",
              "4   2.0 -1.158233  0.877737  1.548718  0.403034 -0.407193  0.095921  0.592941   \n",
              "\n",
              "         V8        V9  ...       V21       V22       V23       V24       V25  \\\n",
              "0  0.098698  0.363787  ... -0.018307  0.277838 -0.110474  0.066928  0.128539   \n",
              "1  0.085102 -0.255425  ... -0.225775 -0.638672  0.101288 -0.339846  0.167170   \n",
              "2  0.247676 -1.514654  ...  0.247998  0.771679  0.909412 -0.689281 -0.327642   \n",
              "3  0.377436 -1.387024  ... -0.108300  0.005274 -0.190321 -1.175575  0.647376   \n",
              "4 -0.270533  0.817739  ... -0.009431  0.798278 -0.137458  0.141267 -0.206010   \n",
              "\n",
              "        V26       V27       V28  Amount  Class  \n",
              "0 -0.189115  0.133558 -0.021053  149.62      0  \n",
              "1  0.125895 -0.008983  0.014724    2.69      0  \n",
              "2 -0.139097 -0.055353 -0.059752  378.66      0  \n",
              "3 -0.221929  0.062723  0.061458  123.50      0  \n",
              "4  0.502292  0.219422  0.215153   69.99      0  \n",
              "\n",
              "[5 rows x 31 columns]"
            ]
          },
          "execution_count": 4,
          "metadata": {},
          "output_type": "execute_result"
        }
      ],
      "source": [
        "df = pd.read_csv('./creditcard.csv')\n",
        "df.head()"
      ]
    },
    {
      "cell_type": "code",
      "execution_count": null,
      "metadata": {
        "colab": {
          "base_uri": "https://localhost:8080/"
        },
        "id": "wi0Wbxa7uCpv",
        "outputId": "9c287014-09de-425c-c03d-7fa8249b2663"
      },
      "outputs": [
        {
          "data": {
            "text/plain": [
              "284807"
            ]
          },
          "execution_count": 5,
          "metadata": {},
          "output_type": "execute_result"
        }
      ],
      "source": [
        "len(df)"
      ]
    },
    {
      "cell_type": "code",
      "execution_count": null,
      "metadata": {
        "_cell_guid": "376ce881-463a-4a09-9ac0-c63f85577eec",
        "_kg_hide-input": true,
        "_uuid": "93031e732e5aca3a2b4984799d6bf58d76e4b52d",
        "colab": {
          "base_uri": "https://localhost:8080/",
          "height": 349
        },
        "id": "hfDw3uskp_Yo",
        "outputId": "1acb557b-ec82-4d59-d8f1-2ef780e91ba5"
      },
      "outputs": [
        {
          "data": {
            "text/html": [
              "\n",
              "  <div id=\"df-6c1ff049-fb49-4889-a1a6-ea974a65b922\" class=\"colab-df-container\">\n",
              "    <div>\n",
              "<style scoped>\n",
              "    .dataframe tbody tr th:only-of-type {\n",
              "        vertical-align: middle;\n",
              "    }\n",
              "\n",
              "    .dataframe tbody tr th {\n",
              "        vertical-align: top;\n",
              "    }\n",
              "\n",
              "    .dataframe thead th {\n",
              "        text-align: right;\n",
              "    }\n",
              "</style>\n",
              "<table border=\"1\" class=\"dataframe\">\n",
              "  <thead>\n",
              "    <tr style=\"text-align: right;\">\n",
              "      <th></th>\n",
              "      <th>Time</th>\n",
              "      <th>V1</th>\n",
              "      <th>V2</th>\n",
              "      <th>V3</th>\n",
              "      <th>V4</th>\n",
              "      <th>V5</th>\n",
              "      <th>V6</th>\n",
              "      <th>V7</th>\n",
              "      <th>V8</th>\n",
              "      <th>V9</th>\n",
              "      <th>...</th>\n",
              "      <th>V21</th>\n",
              "      <th>V22</th>\n",
              "      <th>V23</th>\n",
              "      <th>V24</th>\n",
              "      <th>V25</th>\n",
              "      <th>V26</th>\n",
              "      <th>V27</th>\n",
              "      <th>V28</th>\n",
              "      <th>Amount</th>\n",
              "      <th>Class</th>\n",
              "    </tr>\n",
              "  </thead>\n",
              "  <tbody>\n",
              "    <tr>\n",
              "      <th>count</th>\n",
              "      <td>284807.000000</td>\n",
              "      <td>2.848070e+05</td>\n",
              "      <td>2.848070e+05</td>\n",
              "      <td>2.848070e+05</td>\n",
              "      <td>2.848070e+05</td>\n",
              "      <td>2.848070e+05</td>\n",
              "      <td>2.848070e+05</td>\n",
              "      <td>2.848070e+05</td>\n",
              "      <td>2.848070e+05</td>\n",
              "      <td>2.848070e+05</td>\n",
              "      <td>...</td>\n",
              "      <td>2.848070e+05</td>\n",
              "      <td>2.848070e+05</td>\n",
              "      <td>2.848070e+05</td>\n",
              "      <td>2.848070e+05</td>\n",
              "      <td>2.848070e+05</td>\n",
              "      <td>2.848070e+05</td>\n",
              "      <td>2.848070e+05</td>\n",
              "      <td>2.848070e+05</td>\n",
              "      <td>284807.000000</td>\n",
              "      <td>284807.000000</td>\n",
              "    </tr>\n",
              "    <tr>\n",
              "      <th>mean</th>\n",
              "      <td>94813.859575</td>\n",
              "      <td>1.168375e-15</td>\n",
              "      <td>3.416908e-16</td>\n",
              "      <td>-1.379537e-15</td>\n",
              "      <td>2.074095e-15</td>\n",
              "      <td>9.604066e-16</td>\n",
              "      <td>1.487313e-15</td>\n",
              "      <td>-5.556467e-16</td>\n",
              "      <td>1.213481e-16</td>\n",
              "      <td>-2.406331e-15</td>\n",
              "      <td>...</td>\n",
              "      <td>1.654067e-16</td>\n",
              "      <td>-3.568593e-16</td>\n",
              "      <td>2.578648e-16</td>\n",
              "      <td>4.473266e-15</td>\n",
              "      <td>5.340915e-16</td>\n",
              "      <td>1.683437e-15</td>\n",
              "      <td>-3.660091e-16</td>\n",
              "      <td>-1.227390e-16</td>\n",
              "      <td>88.349619</td>\n",
              "      <td>0.001727</td>\n",
              "    </tr>\n",
              "    <tr>\n",
              "      <th>std</th>\n",
              "      <td>47488.145955</td>\n",
              "      <td>1.958696e+00</td>\n",
              "      <td>1.651309e+00</td>\n",
              "      <td>1.516255e+00</td>\n",
              "      <td>1.415869e+00</td>\n",
              "      <td>1.380247e+00</td>\n",
              "      <td>1.332271e+00</td>\n",
              "      <td>1.237094e+00</td>\n",
              "      <td>1.194353e+00</td>\n",
              "      <td>1.098632e+00</td>\n",
              "      <td>...</td>\n",
              "      <td>7.345240e-01</td>\n",
              "      <td>7.257016e-01</td>\n",
              "      <td>6.244603e-01</td>\n",
              "      <td>6.056471e-01</td>\n",
              "      <td>5.212781e-01</td>\n",
              "      <td>4.822270e-01</td>\n",
              "      <td>4.036325e-01</td>\n",
              "      <td>3.300833e-01</td>\n",
              "      <td>250.120109</td>\n",
              "      <td>0.041527</td>\n",
              "    </tr>\n",
              "    <tr>\n",
              "      <th>min</th>\n",
              "      <td>0.000000</td>\n",
              "      <td>-5.640751e+01</td>\n",
              "      <td>-7.271573e+01</td>\n",
              "      <td>-4.832559e+01</td>\n",
              "      <td>-5.683171e+00</td>\n",
              "      <td>-1.137433e+02</td>\n",
              "      <td>-2.616051e+01</td>\n",
              "      <td>-4.355724e+01</td>\n",
              "      <td>-7.321672e+01</td>\n",
              "      <td>-1.343407e+01</td>\n",
              "      <td>...</td>\n",
              "      <td>-3.483038e+01</td>\n",
              "      <td>-1.093314e+01</td>\n",
              "      <td>-4.480774e+01</td>\n",
              "      <td>-2.836627e+00</td>\n",
              "      <td>-1.029540e+01</td>\n",
              "      <td>-2.604551e+00</td>\n",
              "      <td>-2.256568e+01</td>\n",
              "      <td>-1.543008e+01</td>\n",
              "      <td>0.000000</td>\n",
              "      <td>0.000000</td>\n",
              "    </tr>\n",
              "    <tr>\n",
              "      <th>25%</th>\n",
              "      <td>54201.500000</td>\n",
              "      <td>-9.203734e-01</td>\n",
              "      <td>-5.985499e-01</td>\n",
              "      <td>-8.903648e-01</td>\n",
              "      <td>-8.486401e-01</td>\n",
              "      <td>-6.915971e-01</td>\n",
              "      <td>-7.682956e-01</td>\n",
              "      <td>-5.540759e-01</td>\n",
              "      <td>-2.086297e-01</td>\n",
              "      <td>-6.430976e-01</td>\n",
              "      <td>...</td>\n",
              "      <td>-2.283949e-01</td>\n",
              "      <td>-5.423504e-01</td>\n",
              "      <td>-1.618463e-01</td>\n",
              "      <td>-3.545861e-01</td>\n",
              "      <td>-3.171451e-01</td>\n",
              "      <td>-3.269839e-01</td>\n",
              "      <td>-7.083953e-02</td>\n",
              "      <td>-5.295979e-02</td>\n",
              "      <td>5.600000</td>\n",
              "      <td>0.000000</td>\n",
              "    </tr>\n",
              "    <tr>\n",
              "      <th>50%</th>\n",
              "      <td>84692.000000</td>\n",
              "      <td>1.810880e-02</td>\n",
              "      <td>6.548556e-02</td>\n",
              "      <td>1.798463e-01</td>\n",
              "      <td>-1.984653e-02</td>\n",
              "      <td>-5.433583e-02</td>\n",
              "      <td>-2.741871e-01</td>\n",
              "      <td>4.010308e-02</td>\n",
              "      <td>2.235804e-02</td>\n",
              "      <td>-5.142873e-02</td>\n",
              "      <td>...</td>\n",
              "      <td>-2.945017e-02</td>\n",
              "      <td>6.781943e-03</td>\n",
              "      <td>-1.119293e-02</td>\n",
              "      <td>4.097606e-02</td>\n",
              "      <td>1.659350e-02</td>\n",
              "      <td>-5.213911e-02</td>\n",
              "      <td>1.342146e-03</td>\n",
              "      <td>1.124383e-02</td>\n",
              "      <td>22.000000</td>\n",
              "      <td>0.000000</td>\n",
              "    </tr>\n",
              "    <tr>\n",
              "      <th>75%</th>\n",
              "      <td>139320.500000</td>\n",
              "      <td>1.315642e+00</td>\n",
              "      <td>8.037239e-01</td>\n",
              "      <td>1.027196e+00</td>\n",
              "      <td>7.433413e-01</td>\n",
              "      <td>6.119264e-01</td>\n",
              "      <td>3.985649e-01</td>\n",
              "      <td>5.704361e-01</td>\n",
              "      <td>3.273459e-01</td>\n",
              "      <td>5.971390e-01</td>\n",
              "      <td>...</td>\n",
              "      <td>1.863772e-01</td>\n",
              "      <td>5.285536e-01</td>\n",
              "      <td>1.476421e-01</td>\n",
              "      <td>4.395266e-01</td>\n",
              "      <td>3.507156e-01</td>\n",
              "      <td>2.409522e-01</td>\n",
              "      <td>9.104512e-02</td>\n",
              "      <td>7.827995e-02</td>\n",
              "      <td>77.165000</td>\n",
              "      <td>0.000000</td>\n",
              "    </tr>\n",
              "    <tr>\n",
              "      <th>max</th>\n",
              "      <td>172792.000000</td>\n",
              "      <td>2.454930e+00</td>\n",
              "      <td>2.205773e+01</td>\n",
              "      <td>9.382558e+00</td>\n",
              "      <td>1.687534e+01</td>\n",
              "      <td>3.480167e+01</td>\n",
              "      <td>7.330163e+01</td>\n",
              "      <td>1.205895e+02</td>\n",
              "      <td>2.000721e+01</td>\n",
              "      <td>1.559499e+01</td>\n",
              "      <td>...</td>\n",
              "      <td>2.720284e+01</td>\n",
              "      <td>1.050309e+01</td>\n",
              "      <td>2.252841e+01</td>\n",
              "      <td>4.584549e+00</td>\n",
              "      <td>7.519589e+00</td>\n",
              "      <td>3.517346e+00</td>\n",
              "      <td>3.161220e+01</td>\n",
              "      <td>3.384781e+01</td>\n",
              "      <td>25691.160000</td>\n",
              "      <td>1.000000</td>\n",
              "    </tr>\n",
              "  </tbody>\n",
              "</table>\n",
              "<p>8 rows × 31 columns</p>\n",
              "</div>\n",
              "    <div class=\"colab-df-buttons\">\n",
              "\n",
              "  <div class=\"colab-df-container\">\n",
              "    <button class=\"colab-df-convert\" onclick=\"convertToInteractive('df-6c1ff049-fb49-4889-a1a6-ea974a65b922')\"\n",
              "            title=\"Convert this dataframe to an interactive table.\"\n",
              "            style=\"display:none;\">\n",
              "\n",
              "  <svg xmlns=\"http://www.w3.org/2000/svg\" height=\"24px\" viewBox=\"0 -960 960 960\">\n",
              "    <path d=\"M120-120v-720h720v720H120Zm60-500h600v-160H180v160Zm220 220h160v-160H400v160Zm0 220h160v-160H400v160ZM180-400h160v-160H180v160Zm440 0h160v-160H620v160ZM180-180h160v-160H180v160Zm440 0h160v-160H620v160Z\"/>\n",
              "  </svg>\n",
              "    </button>\n",
              "\n",
              "  <style>\n",
              "    .colab-df-container {\n",
              "      display:flex;\n",
              "      gap: 12px;\n",
              "    }\n",
              "\n",
              "    .colab-df-convert {\n",
              "      background-color: #E8F0FE;\n",
              "      border: none;\n",
              "      border-radius: 50%;\n",
              "      cursor: pointer;\n",
              "      display: none;\n",
              "      fill: #1967D2;\n",
              "      height: 32px;\n",
              "      padding: 0 0 0 0;\n",
              "      width: 32px;\n",
              "    }\n",
              "\n",
              "    .colab-df-convert:hover {\n",
              "      background-color: #E2EBFA;\n",
              "      box-shadow: 0px 1px 2px rgba(60, 64, 67, 0.3), 0px 1px 3px 1px rgba(60, 64, 67, 0.15);\n",
              "      fill: #174EA6;\n",
              "    }\n",
              "\n",
              "    .colab-df-buttons div {\n",
              "      margin-bottom: 4px;\n",
              "    }\n",
              "\n",
              "    [theme=dark] .colab-df-convert {\n",
              "      background-color: #3B4455;\n",
              "      fill: #D2E3FC;\n",
              "    }\n",
              "\n",
              "    [theme=dark] .colab-df-convert:hover {\n",
              "      background-color: #434B5C;\n",
              "      box-shadow: 0px 1px 3px 1px rgba(0, 0, 0, 0.15);\n",
              "      filter: drop-shadow(0px 1px 2px rgba(0, 0, 0, 0.3));\n",
              "      fill: #FFFFFF;\n",
              "    }\n",
              "  </style>\n",
              "\n",
              "    <script>\n",
              "      const buttonEl =\n",
              "        document.querySelector('#df-6c1ff049-fb49-4889-a1a6-ea974a65b922 button.colab-df-convert');\n",
              "      buttonEl.style.display =\n",
              "        google.colab.kernel.accessAllowed ? 'block' : 'none';\n",
              "\n",
              "      async function convertToInteractive(key) {\n",
              "        const element = document.querySelector('#df-6c1ff049-fb49-4889-a1a6-ea974a65b922');\n",
              "        const dataTable =\n",
              "          await google.colab.kernel.invokeFunction('convertToInteractive',\n",
              "                                                    [key], {});\n",
              "        if (!dataTable) return;\n",
              "\n",
              "        const docLinkHtml = 'Like what you see? Visit the ' +\n",
              "          '<a target=\"_blank\" href=https://colab.research.google.com/notebooks/data_table.ipynb>data table notebook</a>'\n",
              "          + ' to learn more about interactive tables.';\n",
              "        element.innerHTML = '';\n",
              "        dataTable['output_type'] = 'display_data';\n",
              "        await google.colab.output.renderOutput(dataTable, element);\n",
              "        const docLink = document.createElement('div');\n",
              "        docLink.innerHTML = docLinkHtml;\n",
              "        element.appendChild(docLink);\n",
              "      }\n",
              "    </script>\n",
              "  </div>\n",
              "\n",
              "\n",
              "<div id=\"df-d8e03ac4-7a1c-46ae-a402-e08309b7e3bc\">\n",
              "  <button class=\"colab-df-quickchart\" onclick=\"quickchart('df-d8e03ac4-7a1c-46ae-a402-e08309b7e3bc')\"\n",
              "            title=\"Suggest charts\"\n",
              "            style=\"display:none;\">\n",
              "\n",
              "<svg xmlns=\"http://www.w3.org/2000/svg\" height=\"24px\"viewBox=\"0 0 24 24\"\n",
              "     width=\"24px\">\n",
              "    <g>\n",
              "        <path d=\"M19 3H5c-1.1 0-2 .9-2 2v14c0 1.1.9 2 2 2h14c1.1 0 2-.9 2-2V5c0-1.1-.9-2-2-2zM9 17H7v-7h2v7zm4 0h-2V7h2v10zm4 0h-2v-4h2v4z\"/>\n",
              "    </g>\n",
              "</svg>\n",
              "  </button>\n",
              "\n",
              "<style>\n",
              "  .colab-df-quickchart {\n",
              "      --bg-color: #E8F0FE;\n",
              "      --fill-color: #1967D2;\n",
              "      --hover-bg-color: #E2EBFA;\n",
              "      --hover-fill-color: #174EA6;\n",
              "      --disabled-fill-color: #AAA;\n",
              "      --disabled-bg-color: #DDD;\n",
              "  }\n",
              "\n",
              "  [theme=dark] .colab-df-quickchart {\n",
              "      --bg-color: #3B4455;\n",
              "      --fill-color: #D2E3FC;\n",
              "      --hover-bg-color: #434B5C;\n",
              "      --hover-fill-color: #FFFFFF;\n",
              "      --disabled-bg-color: #3B4455;\n",
              "      --disabled-fill-color: #666;\n",
              "  }\n",
              "\n",
              "  .colab-df-quickchart {\n",
              "    background-color: var(--bg-color);\n",
              "    border: none;\n",
              "    border-radius: 50%;\n",
              "    cursor: pointer;\n",
              "    display: none;\n",
              "    fill: var(--fill-color);\n",
              "    height: 32px;\n",
              "    padding: 0;\n",
              "    width: 32px;\n",
              "  }\n",
              "\n",
              "  .colab-df-quickchart:hover {\n",
              "    background-color: var(--hover-bg-color);\n",
              "    box-shadow: 0 1px 2px rgba(60, 64, 67, 0.3), 0 1px 3px 1px rgba(60, 64, 67, 0.15);\n",
              "    fill: var(--button-hover-fill-color);\n",
              "  }\n",
              "\n",
              "  .colab-df-quickchart-complete:disabled,\n",
              "  .colab-df-quickchart-complete:disabled:hover {\n",
              "    background-color: var(--disabled-bg-color);\n",
              "    fill: var(--disabled-fill-color);\n",
              "    box-shadow: none;\n",
              "  }\n",
              "\n",
              "  .colab-df-spinner {\n",
              "    border: 2px solid var(--fill-color);\n",
              "    border-color: transparent;\n",
              "    border-bottom-color: var(--fill-color);\n",
              "    animation:\n",
              "      spin 1s steps(1) infinite;\n",
              "  }\n",
              "\n",
              "  @keyframes spin {\n",
              "    0% {\n",
              "      border-color: transparent;\n",
              "      border-bottom-color: var(--fill-color);\n",
              "      border-left-color: var(--fill-color);\n",
              "    }\n",
              "    20% {\n",
              "      border-color: transparent;\n",
              "      border-left-color: var(--fill-color);\n",
              "      border-top-color: var(--fill-color);\n",
              "    }\n",
              "    30% {\n",
              "      border-color: transparent;\n",
              "      border-left-color: var(--fill-color);\n",
              "      border-top-color: var(--fill-color);\n",
              "      border-right-color: var(--fill-color);\n",
              "    }\n",
              "    40% {\n",
              "      border-color: transparent;\n",
              "      border-right-color: var(--fill-color);\n",
              "      border-top-color: var(--fill-color);\n",
              "    }\n",
              "    60% {\n",
              "      border-color: transparent;\n",
              "      border-right-color: var(--fill-color);\n",
              "    }\n",
              "    80% {\n",
              "      border-color: transparent;\n",
              "      border-right-color: var(--fill-color);\n",
              "      border-bottom-color: var(--fill-color);\n",
              "    }\n",
              "    90% {\n",
              "      border-color: transparent;\n",
              "      border-bottom-color: var(--fill-color);\n",
              "    }\n",
              "  }\n",
              "</style>\n",
              "\n",
              "  <script>\n",
              "    async function quickchart(key) {\n",
              "      const quickchartButtonEl =\n",
              "        document.querySelector('#' + key + ' button');\n",
              "      quickchartButtonEl.disabled = true;  // To prevent multiple clicks.\n",
              "      quickchartButtonEl.classList.add('colab-df-spinner');\n",
              "      try {\n",
              "        const charts = await google.colab.kernel.invokeFunction(\n",
              "            'suggestCharts', [key], {});\n",
              "      } catch (error) {\n",
              "        console.error('Error during call to suggestCharts:', error);\n",
              "      }\n",
              "      quickchartButtonEl.classList.remove('colab-df-spinner');\n",
              "      quickchartButtonEl.classList.add('colab-df-quickchart-complete');\n",
              "    }\n",
              "    (() => {\n",
              "      let quickchartButtonEl =\n",
              "        document.querySelector('#df-d8e03ac4-7a1c-46ae-a402-e08309b7e3bc button');\n",
              "      quickchartButtonEl.style.display =\n",
              "        google.colab.kernel.accessAllowed ? 'block' : 'none';\n",
              "    })();\n",
              "  </script>\n",
              "</div>\n",
              "    </div>\n",
              "  </div>\n"
            ],
            "text/plain": [
              "                Time            V1            V2            V3            V4  \\\n",
              "count  284807.000000  2.848070e+05  2.848070e+05  2.848070e+05  2.848070e+05   \n",
              "mean    94813.859575  1.168375e-15  3.416908e-16 -1.379537e-15  2.074095e-15   \n",
              "std     47488.145955  1.958696e+00  1.651309e+00  1.516255e+00  1.415869e+00   \n",
              "min         0.000000 -5.640751e+01 -7.271573e+01 -4.832559e+01 -5.683171e+00   \n",
              "25%     54201.500000 -9.203734e-01 -5.985499e-01 -8.903648e-01 -8.486401e-01   \n",
              "50%     84692.000000  1.810880e-02  6.548556e-02  1.798463e-01 -1.984653e-02   \n",
              "75%    139320.500000  1.315642e+00  8.037239e-01  1.027196e+00  7.433413e-01   \n",
              "max    172792.000000  2.454930e+00  2.205773e+01  9.382558e+00  1.687534e+01   \n",
              "\n",
              "                 V5            V6            V7            V8            V9  \\\n",
              "count  2.848070e+05  2.848070e+05  2.848070e+05  2.848070e+05  2.848070e+05   \n",
              "mean   9.604066e-16  1.487313e-15 -5.556467e-16  1.213481e-16 -2.406331e-15   \n",
              "std    1.380247e+00  1.332271e+00  1.237094e+00  1.194353e+00  1.098632e+00   \n",
              "min   -1.137433e+02 -2.616051e+01 -4.355724e+01 -7.321672e+01 -1.343407e+01   \n",
              "25%   -6.915971e-01 -7.682956e-01 -5.540759e-01 -2.086297e-01 -6.430976e-01   \n",
              "50%   -5.433583e-02 -2.741871e-01  4.010308e-02  2.235804e-02 -5.142873e-02   \n",
              "75%    6.119264e-01  3.985649e-01  5.704361e-01  3.273459e-01  5.971390e-01   \n",
              "max    3.480167e+01  7.330163e+01  1.205895e+02  2.000721e+01  1.559499e+01   \n",
              "\n",
              "       ...           V21           V22           V23           V24  \\\n",
              "count  ...  2.848070e+05  2.848070e+05  2.848070e+05  2.848070e+05   \n",
              "mean   ...  1.654067e-16 -3.568593e-16  2.578648e-16  4.473266e-15   \n",
              "std    ...  7.345240e-01  7.257016e-01  6.244603e-01  6.056471e-01   \n",
              "min    ... -3.483038e+01 -1.093314e+01 -4.480774e+01 -2.836627e+00   \n",
              "25%    ... -2.283949e-01 -5.423504e-01 -1.618463e-01 -3.545861e-01   \n",
              "50%    ... -2.945017e-02  6.781943e-03 -1.119293e-02  4.097606e-02   \n",
              "75%    ...  1.863772e-01  5.285536e-01  1.476421e-01  4.395266e-01   \n",
              "max    ...  2.720284e+01  1.050309e+01  2.252841e+01  4.584549e+00   \n",
              "\n",
              "                V25           V26           V27           V28         Amount  \\\n",
              "count  2.848070e+05  2.848070e+05  2.848070e+05  2.848070e+05  284807.000000   \n",
              "mean   5.340915e-16  1.683437e-15 -3.660091e-16 -1.227390e-16      88.349619   \n",
              "std    5.212781e-01  4.822270e-01  4.036325e-01  3.300833e-01     250.120109   \n",
              "min   -1.029540e+01 -2.604551e+00 -2.256568e+01 -1.543008e+01       0.000000   \n",
              "25%   -3.171451e-01 -3.269839e-01 -7.083953e-02 -5.295979e-02       5.600000   \n",
              "50%    1.659350e-02 -5.213911e-02  1.342146e-03  1.124383e-02      22.000000   \n",
              "75%    3.507156e-01  2.409522e-01  9.104512e-02  7.827995e-02      77.165000   \n",
              "max    7.519589e+00  3.517346e+00  3.161220e+01  3.384781e+01   25691.160000   \n",
              "\n",
              "               Class  \n",
              "count  284807.000000  \n",
              "mean        0.001727  \n",
              "std         0.041527  \n",
              "min         0.000000  \n",
              "25%         0.000000  \n",
              "50%         0.000000  \n",
              "75%         0.000000  \n",
              "max         1.000000  \n",
              "\n",
              "[8 rows x 31 columns]"
            ]
          },
          "execution_count": 6,
          "metadata": {},
          "output_type": "execute_result"
        }
      ],
      "source": [
        "df.describe()"
      ]
    },
    {
      "cell_type": "code",
      "execution_count": null,
      "metadata": {
        "_cell_guid": "03ddb929-5bc8-4af4-90cd-21dcbb57560d",
        "_kg_hide-input": true,
        "_uuid": "38bec67888aa534e9739e95ef9fac62d27a87021",
        "colab": {
          "base_uri": "https://localhost:8080/"
        },
        "id": "LRHJeuNhp_Yo",
        "outputId": "fd607eea-a4ee-4663-94a1-f558c48a2516"
      },
      "outputs": [
        {
          "data": {
            "text/plain": [
              "0"
            ]
          },
          "execution_count": 7,
          "metadata": {},
          "output_type": "execute_result"
        }
      ],
      "source": [
        "# Good No Null Values!\n",
        "df.isnull().sum().max()"
      ]
    },
    {
      "cell_type": "code",
      "execution_count": null,
      "metadata": {
        "_cell_guid": "6a526b6c-8463-4f6f-92b0-e8a3a21cbb2e",
        "_kg_hide-input": true,
        "_uuid": "479a5f12d3dd68262316a17b4b7b3499e0a2cbe0",
        "colab": {
          "base_uri": "https://localhost:8080/"
        },
        "id": "CN0D5KMzp_Yp",
        "outputId": "09e76cb1-cee4-4481-8515-183cddb4c447"
      },
      "outputs": [
        {
          "data": {
            "text/plain": [
              "Index(['Time', 'V1', 'V2', 'V3', 'V4', 'V5', 'V6', 'V7', 'V8', 'V9', 'V10',\n",
              "       'V11', 'V12', 'V13', 'V14', 'V15', 'V16', 'V17', 'V18', 'V19', 'V20',\n",
              "       'V21', 'V22', 'V23', 'V24', 'V25', 'V26', 'V27', 'V28', 'Amount',\n",
              "       'Class'],\n",
              "      dtype='object')"
            ]
          },
          "execution_count": 8,
          "metadata": {},
          "output_type": "execute_result"
        }
      ],
      "source": [
        "df.columns"
      ]
    },
    {
      "cell_type": "code",
      "execution_count": null,
      "metadata": {
        "colab": {
          "base_uri": "https://localhost:8080/"
        },
        "id": "FHmiZBW7xssF",
        "outputId": "3dcd8bb0-9c36-4edf-cab7-070797a183b4"
      },
      "outputs": [
        {
          "data": {
            "text/plain": [
              "0    284315\n",
              "1       492\n",
              "Name: Class, dtype: int64"
            ]
          },
          "execution_count": 9,
          "metadata": {},
          "output_type": "execute_result"
        }
      ],
      "source": [
        "df['Class'].value_counts()"
      ]
    },
    {
      "cell_type": "code",
      "execution_count": null,
      "metadata": {
        "_cell_guid": "01c007fa-0fcc-4eea-84ff-0861a2f8c533",
        "_kg_hide-input": true,
        "_uuid": "f6b96ff34855e3bf7af1f6979342b01c473e4e07",
        "colab": {
          "base_uri": "https://localhost:8080/"
        },
        "id": "edRqWMvEp_Yp",
        "outputId": "a9eebb09-3fcd-4fda-b46f-fe45e12931c4"
      },
      "outputs": [
        {
          "name": "stdout",
          "output_type": "stream",
          "text": [
            "No Frauds 99.83 % of the dataset\n",
            "Frauds 0.17 % of the dataset\n"
          ]
        }
      ],
      "source": [
        "# The classes are heavily skewed we need to solve this issue later.\n",
        "print('No Frauds', round(df['Class'].value_counts()[0]/len(df) * 100,2), '% of the dataset')\n",
        "print('Frauds', round(df['Class'].value_counts()[1]/len(df) * 100,2), '% of the dataset')"
      ]
    },
    {
      "cell_type": "markdown",
      "metadata": {
        "_cell_guid": "558c9b60-3f52-4da5-92fa-9fc4acbdbb3a",
        "_uuid": "c2bb0945a312508e908386fc87adc227f0afe0e0",
        "id": "_98aMiXtp_Yq"
      },
      "source": [
        "**Note:**  Notice how imbalanced is our original dataset! Most of the transactions are non-fraud. If we use this dataframe as the base for our predictive models and analysis we might get a lot of errors and our algorithms will probably overfit since it will \"assume\" that most transactions are not fraud. But we don't want our model to assume, we want our model to detect patterns that give signs of fraud!"
      ]
    },
    {
      "cell_type": "code",
      "execution_count": null,
      "metadata": {
        "_cell_guid": "657bc987-4b15-4cfa-b290-c39a2632e2ac",
        "_kg_hide-input": true,
        "_uuid": "337caaf6ed3f65beedb24a74eebb22d97ff52ba4",
        "colab": {
          "base_uri": "https://localhost:8080/",
          "height": 512
        },
        "id": "FW28ugxvp_Yq",
        "outputId": "6dd17461-e15d-414d-de2e-868c35fd62c3"
      },
      "outputs": [
        {
          "data": {
            "text/plain": [
              "Text(0.5, 1.0, 'Class Distributions \\n (0: No Fraud || 1: Fraud)')"
            ]
          },
          "execution_count": 11,
          "metadata": {},
          "output_type": "execute_result"
        },
        {
          "data": {
            "image/png": "[encoded data removed]",
            "text/plain": [
              "<Figure size 640x480 with 1 Axes>"
            ]
          },
          "metadata": {},
          "output_type": "display_data"
        }
      ],
      "source": [
        "colors = [\"blue\", \"red\"]\n",
        "\n",
        "sns.countplot(data=df, x='Class', palette=colors)\n",
        "plt.title('Class Distributions \\n (0: No Fraud || 1: Fraud)', fontsize=14)"
      ]
    },
    {
      "cell_type": "code",
      "execution_count": 5,
      "metadata": {
        "id": "1BSrdMMnyVOL"
      },
      "outputs": [],
      "source": [
        "# Since most of our data has already been scaled we should scale the columns that are left to scale (Amount and Time)\n",
        "from sklearn.preprocessing import StandardScaler, RobustScaler\n",
        "\n",
        "# RobustScaler is less prone to outliers.\n",
        "\n",
        "std_scaler = StandardScaler()\n",
        "rob_scaler = RobustScaler()\n",
        "\n",
        "df['scaled_amount'] = rob_scaler.fit_transform(df['Amount'].values.reshape(-1,1))\n",
        "df['scaled_time'] = rob_scaler.fit_transform(df['Time'].values.reshape(-1,1))\n",
        "\n",
        "df.drop(['Time','Amount'], axis=1, inplace=True)"
      ]
    },
    {
      "cell_type": "code",
      "execution_count": 6,
      "metadata": {
        "id": "fXs3d7LV21Tl"
      },
      "outputs": [],
      "source": [
        "X = df.drop('Class', axis=1)\n",
        "y = df['Class']\n",
        "X_train, X_test, y_train, y_test = train_test_split(X, y, test_size=.2, stratify=y)"
      ]
    },
    {
      "cell_type": "code",
      "execution_count": 7,
      "metadata": {
        "colab": {
          "base_uri": "https://localhost:8080/"
        },
        "id": "mnDKdQDE3Uci",
        "outputId": "cc9344da-2095-45ab-a679-ec4cb06d5d08"
      },
      "outputs": [
        {
          "data": {
            "text/plain": [
              "((227845, 30), 227845, (56962, 30), 56962)"
            ]
          },
          "execution_count": 7,
          "metadata": {},
          "output_type": "execute_result"
        }
      ],
      "source": [
        "X_train.shape, len(y_train), X_test.shape, len(y_test)"
      ]
    },
    {
      "cell_type": "markdown",
      "metadata": {
        "id": "3Le8wxJDzuFF"
      },
      "source": [
        "# Let us train a ML model to predict if a transaction is fraudulent or not.\n",
        "\n",
        "Since we do have an imbalanced dataset, we will use a performance metric that is more convenient with imbalance, i.e., not accuracy!\n",
        "\n",
        "The goal here is to predict when the transaction is fraudulent. <br>\n",
        "Moreover, it is not acceptable to let any fraudulent transaction slide -->it is ok to predict a non-fraudulent transaction as fraudulent but not vice-versa --> here it is the recall that matters not the precision."
      ]
    },
    {
      "cell_type": "code",
      "execution_count": null,
      "metadata": {
        "id": "nOF-Ak640SUA"
      },
      "outputs": [],
      "source": [
        "model = LogisticRegression(random_state=7)\n",
        "params = {\n",
        "    'penalty':['l1', 'l2'],\n",
        "    'C': np.arange(1,100)\n",
        "}\n",
        "search = RandomizedSearchCV(model, scoring='recall', cv=10,\n",
        "                            n_iter=10, param_distributions=params,\n",
        "                            refit=True, n_jobs=-1)\n",
        "search.fit(X_train, y_train)\n",
        "best_model = search.best_estimator_"
      ]
    },
    {
      "cell_type": "code",
      "execution_count": null,
      "metadata": {
        "colab": {
          "base_uri": "https://localhost:8080/",
          "height": 75
        },
        "id": "mAxrTEtp7TAw",
        "outputId": "ad19454c-c3f9-4c43-c716-c773df3ecc1b"
      },
      "outputs": [
        {
          "data": {
            "text/html": [
              "<style>#sk-container-id-1 {color: black;background-color: white;}#sk-container-id-1 pre{padding: 0;}#sk-container-id-1 div.sk-toggleable {background-color: white;}#sk-container-id-1 label.sk-toggleable__label {cursor: pointer;display: block;width: 100%;margin-bottom: 0;padding: 0.3em;box-sizing: border-box;text-align: center;}#sk-container-id-1 label.sk-toggleable__label-arrow:before {content: \"▸\";float: left;margin-right: 0.25em;color: #696969;}#sk-container-id-1 label.sk-toggleable__label-arrow:hover:before {color: black;}#sk-container-id-1 div.sk-estimator:hover label.sk-toggleable__label-arrow:before {color: black;}#sk-container-id-1 div.sk-toggleable__content {max-height: 0;max-width: 0;overflow: hidden;text-align: left;background-color: #f0f8ff;}#sk-container-id-1 div.sk-toggleable__content pre {margin: 0.2em;color: black;border-radius: 0.25em;background-color: #f0f8ff;}#sk-container-id-1 input.sk-toggleable__control:checked~div.sk-toggleable__content {max-height: 200px;max-width: 100%;overflow: auto;}#sk-container-id-1 input.sk-toggleable__control:checked~label.sk-toggleable__label-arrow:before {content: \"▾\";}#sk-container-id-1 div.sk-estimator input.sk-toggleable__control:checked~label.sk-toggleable__label {background-color: #d4ebff;}#sk-container-id-1 div.sk-label input.sk-toggleable__control:checked~label.sk-toggleable__label {background-color: #d4ebff;}#sk-container-id-1 input.sk-hidden--visually {border: 0;clip: rect(1px 1px 1px 1px);clip: rect(1px, 1px, 1px, 1px);height: 1px;margin: -1px;overflow: hidden;padding: 0;position: absolute;width: 1px;}#sk-container-id-1 div.sk-estimator {font-family: monospace;background-color: #f0f8ff;border: 1px dotted black;border-radius: 0.25em;box-sizing: border-box;margin-bottom: 0.5em;}#sk-container-id-1 div.sk-estimator:hover {background-color: #d4ebff;}#sk-container-id-1 div.sk-parallel-item::after {content: \"\";width: 100%;border-bottom: 1px solid gray;flex-grow: 1;}#sk-container-id-1 div.sk-label:hover label.sk-toggleable__label {background-color: #d4ebff;}#sk-container-id-1 div.sk-serial::before {content: \"\";position: absolute;border-left: 1px solid gray;box-sizing: border-box;top: 0;bottom: 0;left: 50%;z-index: 0;}#sk-container-id-1 div.sk-serial {display: flex;flex-direction: column;align-items: center;background-color: white;padding-right: 0.2em;padding-left: 0.2em;position: relative;}#sk-container-id-1 div.sk-item {position: relative;z-index: 1;}#sk-container-id-1 div.sk-parallel {display: flex;align-items: stretch;justify-content: center;background-color: white;position: relative;}#sk-container-id-1 div.sk-item::before, #sk-container-id-1 div.sk-parallel-item::before {content: \"\";position: absolute;border-left: 1px solid gray;box-sizing: border-box;top: 0;bottom: 0;left: 50%;z-index: -1;}#sk-container-id-1 div.sk-parallel-item {display: flex;flex-direction: column;z-index: 1;position: relative;background-color: white;}#sk-container-id-1 div.sk-parallel-item:first-child::after {align-self: flex-end;width: 50%;}#sk-container-id-1 div.sk-parallel-item:last-child::after {align-self: flex-start;width: 50%;}#sk-container-id-1 div.sk-parallel-item:only-child::after {width: 0;}#sk-container-id-1 div.sk-dashed-wrapped {border: 1px dashed gray;margin: 0 0.4em 0.5em 0.4em;box-sizing: border-box;padding-bottom: 0.4em;background-color: white;}#sk-container-id-1 div.sk-label label {font-family: monospace;font-weight: bold;display: inline-block;line-height: 1.2em;}#sk-container-id-1 div.sk-label-container {text-align: center;}#sk-container-id-1 div.sk-container {/* jupyter's `normalize.less` sets `[hidden] { display: none; }` but bootstrap.min.css set `[hidden] { display: none !important; }` so we also need the `!important` here to be able to override the default hidden behavior on the sphinx rendered scikit-learn.org. See: https://github.com/scikit-learn/scikit-learn/issues/21755 */display: inline-block !important;position: relative;}#sk-container-id-1 div.sk-text-repr-fallback {display: none;}</style><div id=\"sk-container-id-1\" class=\"sk-top-container\"><div class=\"sk-text-repr-fallback\"><pre>LogisticRegression(C=23, random_state=7)</pre><b>In a Jupyter environment, please rerun this cell to show the HTML representation or trust the notebook. <br />On GitHub, the HTML representation is unable to render, please try loading this page with nbviewer.org.</b></div><div class=\"sk-container\" hidden><div class=\"sk-item\"><div class=\"sk-estimator sk-toggleable\"><input class=\"sk-toggleable__control sk-hidden--visually\" id=\"sk-estimator-id-1\" type=\"checkbox\" checked><label for=\"sk-estimator-id-1\" class=\"sk-toggleable__label sk-toggleable__label-arrow\">LogisticRegression</label><div class=\"sk-toggleable__content\"><pre>LogisticRegression(C=23, random_state=7)</pre></div></div></div></div></div>"
            ],
            "text/plain": [
              "LogisticRegression(C=23, random_state=7)"
            ]
          },
          "execution_count": 27,
          "metadata": {},
          "output_type": "execute_result"
        }
      ],
      "source": [
        "best_model"
      ]
    },
    {
      "cell_type": "code",
      "execution_count": null,
      "metadata": {
        "id": "Tgo_-0qS6fX3"
      },
      "outputs": [],
      "source": [
        "results = pd.DataFrame(data=search.cv_results_)\n",
        "results.sort_values(by='rank_test_score')\n",
        "# Rank 1 model has l2 penalty and C=23"
      ]
    },
    {
      "cell_type": "code",
      "execution_count": null,
      "metadata": {
        "colab": {
          "base_uri": "https://localhost:8080/"
        },
        "id": "9Uk1lAwF6DWg",
        "outputId": "b81c8131-42b2-4340-ed58-d14f93cba309"
      },
      "outputs": [
        {
          "name": "stdout",
          "output_type": "stream",
          "text": [
            "Performance on the train set\n",
            "Train recall: 0.6015228426395939\n",
            "              precision    recall  f1-score   support\n",
            "\n",
            "           0       1.00      1.00      1.00    227451\n",
            "           1       0.88      0.60      0.71       394\n",
            "\n",
            "    accuracy                           1.00    227845\n",
            "   macro avg       0.94      0.80      0.86    227845\n",
            "weighted avg       1.00      1.00      1.00    227845\n",
            "\n"
          ]
        }
      ],
      "source": [
        "print('Performance on the train set')\n",
        "y_pred_train = best_model.predict(X_train)\n",
        "print('Train recall:', recall_score(y_train, y_pred_train))\n",
        "print(classification_report(y_train, y_pred_train))"
      ]
    },
    {
      "cell_type": "code",
      "execution_count": null,
      "metadata": {
        "colab": {
          "base_uri": "https://localhost:8080/"
        },
        "id": "7L2bHD1654ey",
        "outputId": "69b4e6eb-ad4f-47cc-dd63-e03fb811a1fd"
      },
      "outputs": [
        {
          "name": "stdout",
          "output_type": "stream",
          "text": [
            "Performance on the test set\n",
            "Test recall: 0.6530612244897959\n",
            "              precision    recall  f1-score   support\n",
            "\n",
            "           0       1.00      1.00      1.00     56864\n",
            "           1       0.85      0.65      0.74        98\n",
            "\n",
            "    accuracy                           1.00     56962\n",
            "   macro avg       0.93      0.83      0.87     56962\n",
            "weighted avg       1.00      1.00      1.00     56962\n",
            "\n"
          ]
        }
      ],
      "source": [
        "print('Performance on the test set')\n",
        "y_pred = best_model.predict(X_test)\n",
        "print('Test recall:', recall_score(y_test, y_pred))\n",
        "print(classification_report(y_test, y_pred))"
      ]
    },
    {
      "cell_type": "markdown",
      "metadata": {
        "_cell_guid": "72fdda5e-7f82-488d-a433-6157d6180bb8",
        "_uuid": "c5d6781e61c0ee84e72d26e8465bfd98ef91f3b9",
        "id": "MPqIFPDop_Yr"
      },
      "source": [
        "## Analysis\n",
        "From above, we see that our model is 100% accurate when it comes to classifying non-fraudulent transactions.\n",
        "\n",
        "However, it is very bad on predicting fraudulent transactions (65% of recall), which is its main goal!!!\n",
        "\n",
        "\n",
        "As a matter of fact, the presence of imbalance makes the fitted ML models prone to:\n",
        "- **Overfitting:** Our classification models will be biased towards the no fraud class (the majority class)! What we want for our model is to be certain when a fraud occurs.\n",
        "- **Wrong Correlations:** Although we don't know what the \"V\" features stand for, it will be useful to understand how each of this features influence the target (Fraud or No Fraud) by having an imbalance dataframe we are not able to see the true correlations between the class and features.\n",
        "\n",
        "## Cost-sensitive Learning\n",
        "\n",
        "Let us use this approach, we will weight the data samples differently.\n",
        "\n",
        "Data samples belonging to the minority class will get more weight than the one from the majority class.\n",
        "\n",
        "Thankfully, we do not have to hard code this. This is already implemented implicitly in sklearn for `LogisticRegression`; we simply need to put the hyperparameter `class_weight='balanced'`"
      ]
    },
    {
      "cell_type": "code",
      "execution_count": null,
      "metadata": {
        "id": "6Zit8ry37ent"
      },
      "outputs": [],
      "source": [
        "model = LogisticRegression(class_weight='balanced', random_state=7)\n",
        "params = {\n",
        "    'penalty':['l1', 'l2'],\n",
        "    'C': np.arange(1,100)\n",
        "}\n",
        "search = RandomizedSearchCV(model, scoring='recall', cv=10,\n",
        "                            n_iter=10, param_distributions=params,\n",
        "                            refit=True, n_jobs=-1)\n",
        "search.fit(X_train, y_train)\n",
        "best_model = search.best_estimator_"
      ]
    },
    {
      "cell_type": "code",
      "execution_count": null,
      "metadata": {
        "colab": {
          "base_uri": "https://localhost:8080/",
          "height": 75
        },
        "id": "s_gu127C9AdE",
        "outputId": "2e4b1c03-fc67-45c9-a1ed-e612e826d781"
      },
      "outputs": [
        {
          "data": {
            "text/html": [
              "<style>#sk-container-id-1 {color: black;background-color: white;}#sk-container-id-1 pre{padding: 0;}#sk-container-id-1 div.sk-toggleable {background-color: white;}#sk-container-id-1 label.sk-toggleable__label {cursor: pointer;display: block;width: 100%;margin-bottom: 0;padding: 0.3em;box-sizing: border-box;text-align: center;}#sk-container-id-1 label.sk-toggleable__label-arrow:before {content: \"▸\";float: left;margin-right: 0.25em;color: #696969;}#sk-container-id-1 label.sk-toggleable__label-arrow:hover:before {color: black;}#sk-container-id-1 div.sk-estimator:hover label.sk-toggleable__label-arrow:before {color: black;}#sk-container-id-1 div.sk-toggleable__content {max-height: 0;max-width: 0;overflow: hidden;text-align: left;background-color: #f0f8ff;}#sk-container-id-1 div.sk-toggleable__content pre {margin: 0.2em;color: black;border-radius: 0.25em;background-color: #f0f8ff;}#sk-container-id-1 input.sk-toggleable__control:checked~div.sk-toggleable__content {max-height: 200px;max-width: 100%;overflow: auto;}#sk-container-id-1 input.sk-toggleable__control:checked~label.sk-toggleable__label-arrow:before {content: \"▾\";}#sk-container-id-1 div.sk-estimator input.sk-toggleable__control:checked~label.sk-toggleable__label {background-color: #d4ebff;}#sk-container-id-1 div.sk-label input.sk-toggleable__control:checked~label.sk-toggleable__label {background-color: #d4ebff;}#sk-container-id-1 input.sk-hidden--visually {border: 0;clip: rect(1px 1px 1px 1px);clip: rect(1px, 1px, 1px, 1px);height: 1px;margin: -1px;overflow: hidden;padding: 0;position: absolute;width: 1px;}#sk-container-id-1 div.sk-estimator {font-family: monospace;background-color: #f0f8ff;border: 1px dotted black;border-radius: 0.25em;box-sizing: border-box;margin-bottom: 0.5em;}#sk-container-id-1 div.sk-estimator:hover {background-color: #d4ebff;}#sk-container-id-1 div.sk-parallel-item::after {content: \"\";width: 100%;border-bottom: 1px solid gray;flex-grow: 1;}#sk-container-id-1 div.sk-label:hover label.sk-toggleable__label {background-color: #d4ebff;}#sk-container-id-1 div.sk-serial::before {content: \"\";position: absolute;border-left: 1px solid gray;box-sizing: border-box;top: 0;bottom: 0;left: 50%;z-index: 0;}#sk-container-id-1 div.sk-serial {display: flex;flex-direction: column;align-items: center;background-color: white;padding-right: 0.2em;padding-left: 0.2em;position: relative;}#sk-container-id-1 div.sk-item {position: relative;z-index: 1;}#sk-container-id-1 div.sk-parallel {display: flex;align-items: stretch;justify-content: center;background-color: white;position: relative;}#sk-container-id-1 div.sk-item::before, #sk-container-id-1 div.sk-parallel-item::before {content: \"\";position: absolute;border-left: 1px solid gray;box-sizing: border-box;top: 0;bottom: 0;left: 50%;z-index: -1;}#sk-container-id-1 div.sk-parallel-item {display: flex;flex-direction: column;z-index: 1;position: relative;background-color: white;}#sk-container-id-1 div.sk-parallel-item:first-child::after {align-self: flex-end;width: 50%;}#sk-container-id-1 div.sk-parallel-item:last-child::after {align-self: flex-start;width: 50%;}#sk-container-id-1 div.sk-parallel-item:only-child::after {width: 0;}#sk-container-id-1 div.sk-dashed-wrapped {border: 1px dashed gray;margin: 0 0.4em 0.5em 0.4em;box-sizing: border-box;padding-bottom: 0.4em;background-color: white;}#sk-container-id-1 div.sk-label label {font-family: monospace;font-weight: bold;display: inline-block;line-height: 1.2em;}#sk-container-id-1 div.sk-label-container {text-align: center;}#sk-container-id-1 div.sk-container {/* jupyter's `normalize.less` sets `[hidden] { display: none; }` but bootstrap.min.css set `[hidden] { display: none !important; }` so we also need the `!important` here to be able to override the default hidden behavior on the sphinx rendered scikit-learn.org. See: https://github.com/scikit-learn/scikit-learn/issues/21755 */display: inline-block !important;position: relative;}#sk-container-id-1 div.sk-text-repr-fallback {display: none;}</style><div id=\"sk-container-id-1\" class=\"sk-top-container\"><div class=\"sk-text-repr-fallback\"><pre>LogisticRegression(C=2, class_weight=&#x27;balanced&#x27;, random_state=7)</pre><b>In a Jupyter environment, please rerun this cell to show the HTML representation or trust the notebook. <br />On GitHub, the HTML representation is unable to render, please try loading this page with nbviewer.org.</b></div><div class=\"sk-container\" hidden><div class=\"sk-item\"><div class=\"sk-estimator sk-toggleable\"><input class=\"sk-toggleable__control sk-hidden--visually\" id=\"sk-estimator-id-1\" type=\"checkbox\" checked><label for=\"sk-estimator-id-1\" class=\"sk-toggleable__label sk-toggleable__label-arrow\">LogisticRegression</label><div class=\"sk-toggleable__content\"><pre>LogisticRegression(C=2, class_weight=&#x27;balanced&#x27;, random_state=7)</pre></div></div></div></div></div>"
            ],
            "text/plain": [
              "LogisticRegression(C=2, class_weight='balanced', random_state=7)"
            ]
          },
          "execution_count": 16,
          "metadata": {},
          "output_type": "execute_result"
        }
      ],
      "source": [
        "best_model"
      ]
    },
    {
      "cell_type": "code",
      "execution_count": null,
      "metadata": {
        "colab": {
          "base_uri": "https://localhost:8080/",
          "height": 730
        },
        "id": "luwogm7r8L8a",
        "outputId": "cc8b8df8-5300-4c60-81a4-a78eacd03d25"
      },
      "outputs": [
        {
          "data": {
            "text/html": [
              "\n",
              "  <div id=\"df-f2c8245e-e68c-4864-87a8-d105ddbba2c8\" class=\"colab-df-container\">\n",
              "    <div>\n",
              "<style scoped>\n",
              "    .dataframe tbody tr th:only-of-type {\n",
              "        vertical-align: middle;\n",
              "    }\n",
              "\n",
              "    .dataframe tbody tr th {\n",
              "        vertical-align: top;\n",
              "    }\n",
              "\n",
              "    .dataframe thead th {\n",
              "        text-align: right;\n",
              "    }\n",
              "</style>\n",
              "<table border=\"1\" class=\"dataframe\">\n",
              "  <thead>\n",
              "    <tr style=\"text-align: right;\">\n",
              "      <th></th>\n",
              "      <th>mean_fit_time</th>\n",
              "      <th>std_fit_time</th>\n",
              "      <th>mean_score_time</th>\n",
              "      <th>std_score_time</th>\n",
              "      <th>param_penalty</th>\n",
              "      <th>param_C</th>\n",
              "      <th>params</th>\n",
              "      <th>split0_test_score</th>\n",
              "      <th>split1_test_score</th>\n",
              "      <th>split2_test_score</th>\n",
              "      <th>split3_test_score</th>\n",
              "      <th>split4_test_score</th>\n",
              "      <th>split5_test_score</th>\n",
              "      <th>split6_test_score</th>\n",
              "      <th>split7_test_score</th>\n",
              "      <th>split8_test_score</th>\n",
              "      <th>split9_test_score</th>\n",
              "      <th>mean_test_score</th>\n",
              "      <th>std_test_score</th>\n",
              "      <th>rank_test_score</th>\n",
              "    </tr>\n",
              "  </thead>\n",
              "  <tbody>\n",
              "    <tr>\n",
              "      <th>0</th>\n",
              "      <td>8.150305</td>\n",
              "      <td>3.301790</td>\n",
              "      <td>0.058095</td>\n",
              "      <td>0.047283</td>\n",
              "      <td>l2</td>\n",
              "      <td>2</td>\n",
              "      <td>{'penalty': 'l2', 'C': 2}</td>\n",
              "      <td>0.948718</td>\n",
              "      <td>0.95</td>\n",
              "      <td>0.95</td>\n",
              "      <td>0.875</td>\n",
              "      <td>0.975</td>\n",
              "      <td>0.897436</td>\n",
              "      <td>0.923077</td>\n",
              "      <td>0.820513</td>\n",
              "      <td>0.897436</td>\n",
              "      <td>0.871795</td>\n",
              "      <td>0.910897</td>\n",
              "      <td>0.044828</td>\n",
              "      <td>1</td>\n",
              "    </tr>\n",
              "    <tr>\n",
              "      <th>1</th>\n",
              "      <td>7.863023</td>\n",
              "      <td>1.469875</td>\n",
              "      <td>0.046896</td>\n",
              "      <td>0.028766</td>\n",
              "      <td>l2</td>\n",
              "      <td>8</td>\n",
              "      <td>{'penalty': 'l2', 'C': 8}</td>\n",
              "      <td>0.948718</td>\n",
              "      <td>0.95</td>\n",
              "      <td>0.95</td>\n",
              "      <td>0.875</td>\n",
              "      <td>0.975</td>\n",
              "      <td>0.897436</td>\n",
              "      <td>0.923077</td>\n",
              "      <td>0.820513</td>\n",
              "      <td>0.897436</td>\n",
              "      <td>0.871795</td>\n",
              "      <td>0.910897</td>\n",
              "      <td>0.044828</td>\n",
              "      <td>1</td>\n",
              "    </tr>\n",
              "    <tr>\n",
              "      <th>4</th>\n",
              "      <td>5.304589</td>\n",
              "      <td>1.640056</td>\n",
              "      <td>0.020353</td>\n",
              "      <td>0.006368</td>\n",
              "      <td>l2</td>\n",
              "      <td>99</td>\n",
              "      <td>{'penalty': 'l2', 'C': 99}</td>\n",
              "      <td>0.948718</td>\n",
              "      <td>0.95</td>\n",
              "      <td>0.95</td>\n",
              "      <td>0.875</td>\n",
              "      <td>0.975</td>\n",
              "      <td>0.897436</td>\n",
              "      <td>0.923077</td>\n",
              "      <td>0.820513</td>\n",
              "      <td>0.897436</td>\n",
              "      <td>0.871795</td>\n",
              "      <td>0.910897</td>\n",
              "      <td>0.044828</td>\n",
              "      <td>1</td>\n",
              "    </tr>\n",
              "    <tr>\n",
              "      <th>5</th>\n",
              "      <td>4.417870</td>\n",
              "      <td>0.692116</td>\n",
              "      <td>0.021713</td>\n",
              "      <td>0.007426</td>\n",
              "      <td>l2</td>\n",
              "      <td>98</td>\n",
              "      <td>{'penalty': 'l2', 'C': 98}</td>\n",
              "      <td>0.948718</td>\n",
              "      <td>0.95</td>\n",
              "      <td>0.95</td>\n",
              "      <td>0.875</td>\n",
              "      <td>0.975</td>\n",
              "      <td>0.897436</td>\n",
              "      <td>0.923077</td>\n",
              "      <td>0.820513</td>\n",
              "      <td>0.897436</td>\n",
              "      <td>0.871795</td>\n",
              "      <td>0.910897</td>\n",
              "      <td>0.044828</td>\n",
              "      <td>1</td>\n",
              "    </tr>\n",
              "    <tr>\n",
              "      <th>9</th>\n",
              "      <td>4.359696</td>\n",
              "      <td>0.839819</td>\n",
              "      <td>0.020670</td>\n",
              "      <td>0.008574</td>\n",
              "      <td>l2</td>\n",
              "      <td>95</td>\n",
              "      <td>{'penalty': 'l2', 'C': 95}</td>\n",
              "      <td>0.948718</td>\n",
              "      <td>0.95</td>\n",
              "      <td>0.95</td>\n",
              "      <td>0.875</td>\n",
              "      <td>0.975</td>\n",
              "      <td>0.897436</td>\n",
              "      <td>0.923077</td>\n",
              "      <td>0.820513</td>\n",
              "      <td>0.897436</td>\n",
              "      <td>0.871795</td>\n",
              "      <td>0.910897</td>\n",
              "      <td>0.044828</td>\n",
              "      <td>1</td>\n",
              "    </tr>\n",
              "    <tr>\n",
              "      <th>2</th>\n",
              "      <td>0.087267</td>\n",
              "      <td>0.031555</td>\n",
              "      <td>0.000000</td>\n",
              "      <td>0.000000</td>\n",
              "      <td>l1</td>\n",
              "      <td>21</td>\n",
              "      <td>{'penalty': 'l1', 'C': 21}</td>\n",
              "      <td>NaN</td>\n",
              "      <td>NaN</td>\n",
              "      <td>NaN</td>\n",
              "      <td>NaN</td>\n",
              "      <td>NaN</td>\n",
              "      <td>NaN</td>\n",
              "      <td>NaN</td>\n",
              "      <td>NaN</td>\n",
              "      <td>NaN</td>\n",
              "      <td>NaN</td>\n",
              "      <td>NaN</td>\n",
              "      <td>NaN</td>\n",
              "      <td>6</td>\n",
              "    </tr>\n",
              "    <tr>\n",
              "      <th>3</th>\n",
              "      <td>0.155308</td>\n",
              "      <td>0.025968</td>\n",
              "      <td>0.000000</td>\n",
              "      <td>0.000000</td>\n",
              "      <td>l1</td>\n",
              "      <td>85</td>\n",
              "      <td>{'penalty': 'l1', 'C': 85}</td>\n",
              "      <td>NaN</td>\n",
              "      <td>NaN</td>\n",
              "      <td>NaN</td>\n",
              "      <td>NaN</td>\n",
              "      <td>NaN</td>\n",
              "      <td>NaN</td>\n",
              "      <td>NaN</td>\n",
              "      <td>NaN</td>\n",
              "      <td>NaN</td>\n",
              "      <td>NaN</td>\n",
              "      <td>NaN</td>\n",
              "      <td>NaN</td>\n",
              "      <td>6</td>\n",
              "    </tr>\n",
              "    <tr>\n",
              "      <th>6</th>\n",
              "      <td>0.049858</td>\n",
              "      <td>0.005268</td>\n",
              "      <td>0.000000</td>\n",
              "      <td>0.000000</td>\n",
              "      <td>l1</td>\n",
              "      <td>16</td>\n",
              "      <td>{'penalty': 'l1', 'C': 16}</td>\n",
              "      <td>NaN</td>\n",
              "      <td>NaN</td>\n",
              "      <td>NaN</td>\n",
              "      <td>NaN</td>\n",
              "      <td>NaN</td>\n",
              "      <td>NaN</td>\n",
              "      <td>NaN</td>\n",
              "      <td>NaN</td>\n",
              "      <td>NaN</td>\n",
              "      <td>NaN</td>\n",
              "      <td>NaN</td>\n",
              "      <td>NaN</td>\n",
              "      <td>6</td>\n",
              "    </tr>\n",
              "    <tr>\n",
              "      <th>7</th>\n",
              "      <td>0.047348</td>\n",
              "      <td>0.002498</td>\n",
              "      <td>0.000000</td>\n",
              "      <td>0.000000</td>\n",
              "      <td>l1</td>\n",
              "      <td>67</td>\n",
              "      <td>{'penalty': 'l1', 'C': 67}</td>\n",
              "      <td>NaN</td>\n",
              "      <td>NaN</td>\n",
              "      <td>NaN</td>\n",
              "      <td>NaN</td>\n",
              "      <td>NaN</td>\n",
              "      <td>NaN</td>\n",
              "      <td>NaN</td>\n",
              "      <td>NaN</td>\n",
              "      <td>NaN</td>\n",
              "      <td>NaN</td>\n",
              "      <td>NaN</td>\n",
              "      <td>NaN</td>\n",
              "      <td>6</td>\n",
              "    </tr>\n",
              "    <tr>\n",
              "      <th>8</th>\n",
              "      <td>0.045940</td>\n",
              "      <td>0.002438</td>\n",
              "      <td>0.000000</td>\n",
              "      <td>0.000000</td>\n",
              "      <td>l1</td>\n",
              "      <td>41</td>\n",
              "      <td>{'penalty': 'l1', 'C': 41}</td>\n",
              "      <td>NaN</td>\n",
              "      <td>NaN</td>\n",
              "      <td>NaN</td>\n",
              "      <td>NaN</td>\n",
              "      <td>NaN</td>\n",
              "      <td>NaN</td>\n",
              "      <td>NaN</td>\n",
              "      <td>NaN</td>\n",
              "      <td>NaN</td>\n",
              "      <td>NaN</td>\n",
              "      <td>NaN</td>\n",
              "      <td>NaN</td>\n",
              "      <td>6</td>\n",
              "    </tr>\n",
              "  </tbody>\n",
              "</table>\n",
              "</div>\n",
              "    <div class=\"colab-df-buttons\">\n",
              "\n",
              "  <div class=\"colab-df-container\">\n",
              "    <button class=\"colab-df-convert\" onclick=\"convertToInteractive('df-f2c8245e-e68c-4864-87a8-d105ddbba2c8')\"\n",
              "            title=\"Convert this dataframe to an interactive table.\"\n",
              "            style=\"display:none;\">\n",
              "\n",
              "  <svg xmlns=\"http://www.w3.org/2000/svg\" height=\"24px\" viewBox=\"0 -960 960 960\">\n",
              "    <path d=\"M120-120v-720h720v720H120Zm60-500h600v-160H180v160Zm220 220h160v-160H400v160Zm0 220h160v-160H400v160ZM180-400h160v-160H180v160Zm440 0h160v-160H620v160ZM180-180h160v-160H180v160Zm440 0h160v-160H620v160Z\"/>\n",
              "  </svg>\n",
              "    </button>\n",
              "\n",
              "  <style>\n",
              "    .colab-df-container {\n",
              "      display:flex;\n",
              "      gap: 12px;\n",
              "    }\n",
              "\n",
              "    .colab-df-convert {\n",
              "      background-color: #E8F0FE;\n",
              "      border: none;\n",
              "      border-radius: 50%;\n",
              "      cursor: pointer;\n",
              "      display: none;\n",
              "      fill: #1967D2;\n",
              "      height: 32px;\n",
              "      padding: 0 0 0 0;\n",
              "      width: 32px;\n",
              "    }\n",
              "\n",
              "    .colab-df-convert:hover {\n",
              "      background-color: #E2EBFA;\n",
              "      box-shadow: 0px 1px 2px rgba(60, 64, 67, 0.3), 0px 1px 3px 1px rgba(60, 64, 67, 0.15);\n",
              "      fill: #174EA6;\n",
              "    }\n",
              "\n",
              "    .colab-df-buttons div {\n",
              "      margin-bottom: 4px;\n",
              "    }\n",
              "\n",
              "    [theme=dark] .colab-df-convert {\n",
              "      background-color: #3B4455;\n",
              "      fill: #D2E3FC;\n",
              "    }\n",
              "\n",
              "    [theme=dark] .colab-df-convert:hover {\n",
              "      background-color: #434B5C;\n",
              "      box-shadow: 0px 1px 3px 1px rgba(0, 0, 0, 0.15);\n",
              "      filter: drop-shadow(0px 1px 2px rgba(0, 0, 0, 0.3));\n",
              "      fill: #FFFFFF;\n",
              "    }\n",
              "  </style>\n",
              "\n",
              "    <script>\n",
              "      const buttonEl =\n",
              "        document.querySelector('#df-f2c8245e-e68c-4864-87a8-d105ddbba2c8 button.colab-df-convert');\n",
              "      buttonEl.style.display =\n",
              "        google.colab.kernel.accessAllowed ? 'block' : 'none';\n",
              "\n",
              "      async function convertToInteractive(key) {\n",
              "        const element = document.querySelector('#df-f2c8245e-e68c-4864-87a8-d105ddbba2c8');\n",
              "        const dataTable =\n",
              "          await google.colab.kernel.invokeFunction('convertToInteractive',\n",
              "                                                    [key], {});\n",
              "        if (!dataTable) return;\n",
              "\n",
              "        const docLinkHtml = 'Like what you see? Visit the ' +\n",
              "          '<a target=\"_blank\" href=https://colab.research.google.com/notebooks/data_table.ipynb>data table notebook</a>'\n",
              "          + ' to learn more about interactive tables.';\n",
              "        element.innerHTML = '';\n",
              "        dataTable['output_type'] = 'display_data';\n",
              "        await google.colab.output.renderOutput(dataTable, element);\n",
              "        const docLink = document.createElement('div');\n",
              "        docLink.innerHTML = docLinkHtml;\n",
              "        element.appendChild(docLink);\n",
              "      }\n",
              "    </script>\n",
              "  </div>\n",
              "\n",
              "\n",
              "<div id=\"df-786fd4c4-19b0-4a3e-babc-b19192b5b533\">\n",
              "  <button class=\"colab-df-quickchart\" onclick=\"quickchart('df-786fd4c4-19b0-4a3e-babc-b19192b5b533')\"\n",
              "            title=\"Suggest charts\"\n",
              "            style=\"display:none;\">\n",
              "\n",
              "<svg xmlns=\"http://www.w3.org/2000/svg\" height=\"24px\"viewBox=\"0 0 24 24\"\n",
              "     width=\"24px\">\n",
              "    <g>\n",
              "        <path d=\"M19 3H5c-1.1 0-2 .9-2 2v14c0 1.1.9 2 2 2h14c1.1 0 2-.9 2-2V5c0-1.1-.9-2-2-2zM9 17H7v-7h2v7zm4 0h-2V7h2v10zm4 0h-2v-4h2v4z\"/>\n",
              "    </g>\n",
              "</svg>\n",
              "  </button>\n",
              "\n",
              "<style>\n",
              "  .colab-df-quickchart {\n",
              "      --bg-color: #E8F0FE;\n",
              "      --fill-color: #1967D2;\n",
              "      --hover-bg-color: #E2EBFA;\n",
              "      --hover-fill-color: #174EA6;\n",
              "      --disabled-fill-color: #AAA;\n",
              "      --disabled-bg-color: #DDD;\n",
              "  }\n",
              "\n",
              "  [theme=dark] .colab-df-quickchart {\n",
              "      --bg-color: #3B4455;\n",
              "      --fill-color: #D2E3FC;\n",
              "      --hover-bg-color: #434B5C;\n",
              "      --hover-fill-color: #FFFFFF;\n",
              "      --disabled-bg-color: #3B4455;\n",
              "      --disabled-fill-color: #666;\n",
              "  }\n",
              "\n",
              "  .colab-df-quickchart {\n",
              "    background-color: var(--bg-color);\n",
              "    border: none;\n",
              "    border-radius: 50%;\n",
              "    cursor: pointer;\n",
              "    display: none;\n",
              "    fill: var(--fill-color);\n",
              "    height: 32px;\n",
              "    padding: 0;\n",
              "    width: 32px;\n",
              "  }\n",
              "\n",
              "  .colab-df-quickchart:hover {\n",
              "    background-color: var(--hover-bg-color);\n",
              "    box-shadow: 0 1px 2px rgba(60, 64, 67, 0.3), 0 1px 3px 1px rgba(60, 64, 67, 0.15);\n",
              "    fill: var(--button-hover-fill-color);\n",
              "  }\n",
              "\n",
              "  .colab-df-quickchart-complete:disabled,\n",
              "  .colab-df-quickchart-complete:disabled:hover {\n",
              "    background-color: var(--disabled-bg-color);\n",
              "    fill: var(--disabled-fill-color);\n",
              "    box-shadow: none;\n",
              "  }\n",
              "\n",
              "  .colab-df-spinner {\n",
              "    border: 2px solid var(--fill-color);\n",
              "    border-color: transparent;\n",
              "    border-bottom-color: var(--fill-color);\n",
              "    animation:\n",
              "      spin 1s steps(1) infinite;\n",
              "  }\n",
              "\n",
              "  @keyframes spin {\n",
              "    0% {\n",
              "      border-color: transparent;\n",
              "      border-bottom-color: var(--fill-color);\n",
              "      border-left-color: var(--fill-color);\n",
              "    }\n",
              "    20% {\n",
              "      border-color: transparent;\n",
              "      border-left-color: var(--fill-color);\n",
              "      border-top-color: var(--fill-color);\n",
              "    }\n",
              "    30% {\n",
              "      border-color: transparent;\n",
              "      border-left-color: var(--fill-color);\n",
              "      border-top-color: var(--fill-color);\n",
              "      border-right-color: var(--fill-color);\n",
              "    }\n",
              "    40% {\n",
              "      border-color: transparent;\n",
              "      border-right-color: var(--fill-color);\n",
              "      border-top-color: var(--fill-color);\n",
              "    }\n",
              "    60% {\n",
              "      border-color: transparent;\n",
              "      border-right-color: var(--fill-color);\n",
              "    }\n",
              "    80% {\n",
              "      border-color: transparent;\n",
              "      border-right-color: var(--fill-color);\n",
              "      border-bottom-color: var(--fill-color);\n",
              "    }\n",
              "    90% {\n",
              "      border-color: transparent;\n",
              "      border-bottom-color: var(--fill-color);\n",
              "    }\n",
              "  }\n",
              "</style>\n",
              "\n",
              "  <script>\n",
              "    async function quickchart(key) {\n",
              "      const quickchartButtonEl =\n",
              "        document.querySelector('#' + key + ' button');\n",
              "      quickchartButtonEl.disabled = true;  // To prevent multiple clicks.\n",
              "      quickchartButtonEl.classList.add('colab-df-spinner');\n",
              "      try {\n",
              "        const charts = await google.colab.kernel.invokeFunction(\n",
              "            'suggestCharts', [key], {});\n",
              "      } catch (error) {\n",
              "        console.error('Error during call to suggestCharts:', error);\n",
              "      }\n",
              "      quickchartButtonEl.classList.remove('colab-df-spinner');\n",
              "      quickchartButtonEl.classList.add('colab-df-quickchart-complete');\n",
              "    }\n",
              "    (() => {\n",
              "      let quickchartButtonEl =\n",
              "        document.querySelector('#df-786fd4c4-19b0-4a3e-babc-b19192b5b533 button');\n",
              "      quickchartButtonEl.style.display =\n",
              "        google.colab.kernel.accessAllowed ? 'block' : 'none';\n",
              "    })();\n",
              "  </script>\n",
              "</div>\n",
              "    </div>\n",
              "  </div>\n"
            ],
            "text/plain": [
              "   mean_fit_time  std_fit_time  mean_score_time  std_score_time param_penalty  \\\n",
              "0       8.150305      3.301790         0.058095        0.047283            l2   \n",
              "1       7.863023      1.469875         0.046896        0.028766            l2   \n",
              "4       5.304589      1.640056         0.020353        0.006368            l2   \n",
              "5       4.417870      0.692116         0.021713        0.007426            l2   \n",
              "9       4.359696      0.839819         0.020670        0.008574            l2   \n",
              "2       0.087267      0.031555         0.000000        0.000000            l1   \n",
              "3       0.155308      0.025968         0.000000        0.000000            l1   \n",
              "6       0.049858      0.005268         0.000000        0.000000            l1   \n",
              "7       0.047348      0.002498         0.000000        0.000000            l1   \n",
              "8       0.045940      0.002438         0.000000        0.000000            l1   \n",
              "\n",
              "  param_C                      params  split0_test_score  split1_test_score  \\\n",
              "0       2   {'penalty': 'l2', 'C': 2}           0.948718               0.95   \n",
              "1       8   {'penalty': 'l2', 'C': 8}           0.948718               0.95   \n",
              "4      99  {'penalty': 'l2', 'C': 99}           0.948718               0.95   \n",
              "5      98  {'penalty': 'l2', 'C': 98}           0.948718               0.95   \n",
              "9      95  {'penalty': 'l2', 'C': 95}           0.948718               0.95   \n",
              "2      21  {'penalty': 'l1', 'C': 21}                NaN                NaN   \n",
              "3      85  {'penalty': 'l1', 'C': 85}                NaN                NaN   \n",
              "6      16  {'penalty': 'l1', 'C': 16}                NaN                NaN   \n",
              "7      67  {'penalty': 'l1', 'C': 67}                NaN                NaN   \n",
              "8      41  {'penalty': 'l1', 'C': 41}                NaN                NaN   \n",
              "\n",
              "   split2_test_score  split3_test_score  split4_test_score  split5_test_score  \\\n",
              "0               0.95              0.875              0.975           0.897436   \n",
              "1               0.95              0.875              0.975           0.897436   \n",
              "4               0.95              0.875              0.975           0.897436   \n",
              "5               0.95              0.875              0.975           0.897436   \n",
              "9               0.95              0.875              0.975           0.897436   \n",
              "2                NaN                NaN                NaN                NaN   \n",
              "3                NaN                NaN                NaN                NaN   \n",
              "6                NaN                NaN                NaN                NaN   \n",
              "7                NaN                NaN                NaN                NaN   \n",
              "8                NaN                NaN                NaN                NaN   \n",
              "\n",
              "   split6_test_score  split7_test_score  split8_test_score  split9_test_score  \\\n",
              "0           0.923077           0.820513           0.897436           0.871795   \n",
              "1           0.923077           0.820513           0.897436           0.871795   \n",
              "4           0.923077           0.820513           0.897436           0.871795   \n",
              "5           0.923077           0.820513           0.897436           0.871795   \n",
              "9           0.923077           0.820513           0.897436           0.871795   \n",
              "2                NaN                NaN                NaN                NaN   \n",
              "3                NaN                NaN                NaN                NaN   \n",
              "6                NaN                NaN                NaN                NaN   \n",
              "7                NaN                NaN                NaN                NaN   \n",
              "8                NaN                NaN                NaN                NaN   \n",
              "\n",
              "   mean_test_score  std_test_score  rank_test_score  \n",
              "0         0.910897        0.044828                1  \n",
              "1         0.910897        0.044828                1  \n",
              "4         0.910897        0.044828                1  \n",
              "5         0.910897        0.044828                1  \n",
              "9         0.910897        0.044828                1  \n",
              "2              NaN             NaN                6  \n",
              "3              NaN             NaN                6  \n",
              "6              NaN             NaN                6  \n",
              "7              NaN             NaN                6  \n",
              "8              NaN             NaN                6  "
            ]
          },
          "execution_count": 17,
          "metadata": {},
          "output_type": "execute_result"
        }
      ],
      "source": [
        "results = pd.DataFrame(data=search.cv_results_)\n",
        "results.sort_values(by='rank_test_score')\n",
        "# Rank 1 model has l2 penalty and C=33"
      ]
    },
    {
      "cell_type": "code",
      "execution_count": null,
      "metadata": {
        "colab": {
          "base_uri": "https://localhost:8080/"
        },
        "id": "V7q5HqOF7tJ6",
        "outputId": "3b86191c-c51b-4a3a-9501-4bd51bb15370"
      },
      "outputs": [
        {
          "name": "stdout",
          "output_type": "stream",
          "text": [
            "Performance on the train set\n",
            "Train recall: 0.9187817258883249\n",
            "              precision    recall  f1-score   support\n",
            "\n",
            "           0       1.00      0.98      0.99    227451\n",
            "           1       0.06      0.92      0.12       394\n",
            "\n",
            "    accuracy                           0.98    227845\n",
            "   macro avg       0.53      0.95      0.55    227845\n",
            "weighted avg       1.00      0.98      0.99    227845\n",
            "\n"
          ]
        }
      ],
      "source": [
        "print('Performance on the train set')\n",
        "y_pred_train = best_model.predict(X_train)\n",
        "print('Train recall:', recall_score(y_train, y_pred_train))\n",
        "print(classification_report(y_train, y_pred_train))"
      ]
    },
    {
      "cell_type": "code",
      "execution_count": null,
      "metadata": {
        "colab": {
          "base_uri": "https://localhost:8080/"
        },
        "id": "Kb1J6p0x-fYr",
        "outputId": "03189104-41d9-42b8-b3c4-a5943f58cc37"
      },
      "outputs": [
        {
          "name": "stdout",
          "output_type": "stream",
          "text": [
            "Performance on the test set\n",
            "Test recall: 0.9285714285714286\n",
            "              precision    recall  f1-score   support\n",
            "\n",
            "           0       1.00      0.98      0.99     56864\n",
            "           1       0.06      0.93      0.11        98\n",
            "\n",
            "    accuracy                           0.98     56962\n",
            "   macro avg       0.53      0.95      0.55     56962\n",
            "weighted avg       1.00      0.98      0.99     56962\n",
            "\n"
          ]
        }
      ],
      "source": [
        "print('Performance on the test set')\n",
        "y_pred = best_model.predict(X_test)\n",
        "print('Test recall:', recall_score(y_test, y_pred))\n",
        "print(classification_report(y_test, y_pred))"
      ]
    },
    {
      "cell_type": "markdown",
      "metadata": {
        "id": "c32wJtki-jqO"
      },
      "source": [
        "As you can see, we already started seeing an improvement.\n",
        "\n",
        "The test recall on the class 1 (fraud) increased from 65% to 93%.\n",
        "\n",
        "However, the precision decreased drastically to 6%!!!\n",
        "\n",
        "While it is true that we prefer recall over precision, but we also do not want to fall in a situation where we will consider any transaction fraudulent just to be on the safe side!!! the clients would be very furious!!!\n",
        "\n",
        "Thus, we will switch to the algorithm-level approach and replace logistic regression by an ensemble method like RandomForest or GradientBoosting; they are better at handling imbalance due to the sample and feature bootstrap technique; i.e., subsampling the training data to several training data subsets with replacement and training each tree of the forest on this new data subset while also subsetting the features.\n",
        "\n",
        "## Algorithm-level approach"
      ]
    },
    {
      "cell_type": "code",
      "execution_count": null,
      "metadata": {
        "colab": {
          "base_uri": "https://localhost:8080/"
        },
        "id": "B60hDTiY9hfH",
        "outputId": "78bd75ca-c394-476b-f6cb-d2030c936822"
      },
      "outputs": [
        {
          "name": "stdout",
          "output_type": "stream",
          "text": [
            "Requirement already satisfied: lightgbm in /usr/local/lib/python3.10/dist-packages (4.1.0)\n",
            "Requirement already satisfied: numpy in /usr/local/lib/python3.10/dist-packages (from lightgbm) (1.23.5)\n",
            "Requirement already satisfied: scipy in /usr/local/lib/python3.10/dist-packages (from lightgbm) (1.11.3)\n"
          ]
        }
      ],
      "source": [
        "!pip install lightgbm"
      ]
    },
    {
      "cell_type": "code",
      "execution_count": null,
      "metadata": {
        "colab": {
          "base_uri": "https://localhost:8080/"
        },
        "id": "PjMGOYbeBKGl",
        "outputId": "ebcad106-4111-4792-9f99-d1e7b26d6dc0"
      },
      "outputs": [
        {
          "name": "stdout",
          "output_type": "stream",
          "text": [
            "[LightGBM] [Info] Number of positive: 394, number of negative: 227451\n",
            "[LightGBM] [Info] Auto-choosing col-wise multi-threading, the overhead of testing was 0.213428 seconds.\n",
            "You can set `force_col_wise=true` to remove the overhead.\n",
            "[LightGBM] [Info] Total Bins 7650\n",
            "[LightGBM] [Info] Number of data points in the train set: 227845, number of used features: 30\n",
            "[LightGBM] [Info] [binary:BoostFromScore]: pavg=0.500000 -> initscore=0.000000\n",
            "[LightGBM] [Info] Start training from score 0.000000\n",
            "[LightGBM] [Info] Number of positive: 394, number of negative: 227451\n",
            "[LightGBM] [Info] Auto-choosing col-wise multi-threading, the overhead of testing was 0.078741 seconds.\n",
            "You can set `force_col_wise=true` to remove the overhead.\n",
            "[LightGBM] [Info] Total Bins 7650\n",
            "[LightGBM] [Info] Number of data points in the train set: 227845, number of used features: 30\n",
            "[LightGBM] [Info] [binary:BoostFromScore]: pavg=0.500000 -> initscore=0.000000\n",
            "[LightGBM] [Info] Start training from score 0.000000\n",
            "[LightGBM] [Info] Number of positive: 394, number of negative: 227451\n",
            "[LightGBM] [Info] Auto-choosing col-wise multi-threading, the overhead of testing was 0.074916 seconds.\n",
            "You can set `force_col_wise=true` to remove the overhead.\n",
            "[LightGBM] [Info] Total Bins 7650\n",
            "[LightGBM] [Info] Number of data points in the train set: 227845, number of used features: 30\n",
            "[LightGBM] [Info] [binary:BoostFromScore]: pavg=0.500000 -> initscore=0.000000\n",
            "[LightGBM] [Info] Start training from score 0.000000\n",
            "[LightGBM] [Info] Number of positive: 394, number of negative: 227451\n",
            "[LightGBM] [Info] Auto-choosing col-wise multi-threading, the overhead of testing was 0.214429 seconds.\n",
            "You can set `force_col_wise=true` to remove the overhead.\n",
            "[LightGBM] [Info] Total Bins 7650\n",
            "[LightGBM] [Info] Number of data points in the train set: 227845, number of used features: 30\n",
            "[LightGBM] [Info] [binary:BoostFromScore]: pavg=0.500000 -> initscore=0.000000\n",
            "[LightGBM] [Info] Start training from score 0.000000\n",
            "[LightGBM] [Info] Number of positive: 394, number of negative: 227451\n",
            "[LightGBM] [Info] Auto-choosing col-wise multi-threading, the overhead of testing was 0.075878 seconds.\n",
            "You can set `force_col_wise=true` to remove the overhead.\n",
            "[LightGBM] [Info] Total Bins 7650\n",
            "[LightGBM] [Info] Number of data points in the train set: 227845, number of used features: 30\n",
            "[LightGBM] [Info] [binary:BoostFromScore]: pavg=0.500000 -> initscore=0.000000\n",
            "[LightGBM] [Info] Start training from score 0.000000\n",
            "[LightGBM] [Info] Number of positive: 394, number of negative: 227451\n",
            "[LightGBM] [Info] Auto-choosing col-wise multi-threading, the overhead of testing was 0.073902 seconds.\n",
            "You can set `force_col_wise=true` to remove the overhead.\n",
            "[LightGBM] [Info] Total Bins 7650\n",
            "[LightGBM] [Info] Number of data points in the train set: 227845, number of used features: 30\n",
            "[LightGBM] [Info] [binary:BoostFromScore]: pavg=0.500000 -> initscore=0.000000\n",
            "[LightGBM] [Info] Start training from score 0.000000\n",
            "[LightGBM] [Info] Number of positive: 394, number of negative: 227451\n",
            "[LightGBM] [Info] Auto-choosing col-wise multi-threading, the overhead of testing was 0.081798 seconds.\n",
            "You can set `force_col_wise=true` to remove the overhead.\n",
            "[LightGBM] [Info] Total Bins 7650\n",
            "[LightGBM] [Info] Number of data points in the train set: 227845, number of used features: 30\n",
            "[LightGBM] [Info] [binary:BoostFromScore]: pavg=0.500000 -> initscore=0.000000\n",
            "[LightGBM] [Info] Start training from score 0.000000\n",
            "[LightGBM] [Info] Number of positive: 394, number of negative: 227451\n",
            "[LightGBM] [Info] Auto-choosing col-wise multi-threading, the overhead of testing was 0.074901 seconds.\n",
            "You can set `force_col_wise=true` to remove the overhead.\n",
            "[LightGBM] [Info] Total Bins 7650\n",
            "[LightGBM] [Info] Number of data points in the train set: 227845, number of used features: 30\n",
            "[LightGBM] [Info] [binary:BoostFromScore]: pavg=0.500000 -> initscore=0.000000\n",
            "[LightGBM] [Info] Start training from score 0.000000\n",
            "28.3 s ± 13.5 s per loop (mean ± std. dev. of 7 runs, 1 loop each)\n"
          ]
        }
      ],
      "source": [
        "model = LGBMClassifier(boosting_type='gbdt', class_weight='balanced',\n",
        "                       n_estimators = 300,\n",
        "                       colsample_bytree = .7,\n",
        "                       min_child_samples=10,\n",
        "                       subsample=.7,\n",
        "                       objective='binary',\n",
        "                       random_state=7, n_jobs=-1,\n",
        "                       importance_type='split')\n",
        "# params = {\n",
        "#     'n_estimators':[100, 300, 500],\n",
        "    # 'colsample_bytree': [1., int(np.sqrt(X_train.shape[1]))/X_train.shape[1], .7 ],\n",
        "    # 'min_child_samples': [10, 50],\n",
        "    # 'subsample': [.7, 1.]\n",
        "# }\n",
        "# search = RandomizedSearchCV(model, scoring='recall', cv=3,\n",
        "#                             n_iter=10, param_distributions=params,\n",
        "#                             refit=True, n_jobs=-1)\n",
        "%timeit model.fit(X_train, y_train)\n",
        "best_model = model #search.best_estimator_"
      ]
    },
    {
      "cell_type": "code",
      "execution_count": null,
      "metadata": {
        "id": "EqVImGX5t8TM"
      },
      "outputs": [],
      "source": [
        "# results = pd.DataFrame(data=search.cv_results_)\n",
        "# results.sort_values(by='rank_test_score').head()"
      ]
    },
    {
      "cell_type": "code",
      "execution_count": null,
      "metadata": {
        "colab": {
          "base_uri": "https://localhost:8080/"
        },
        "id": "GFde5XkfSV8Y",
        "outputId": "3fe565ce-5f94-46e0-c940-b846e3daccbc"
      },
      "outputs": [
        {
          "name": "stdout",
          "output_type": "stream",
          "text": [
            "Performance on the train set\n",
            "Train recall: 1.0\n",
            "              precision    recall  f1-score   support\n",
            "\n",
            "           0       1.00      1.00      1.00    227451\n",
            "           1       1.00      1.00      1.00       394\n",
            "\n",
            "    accuracy                           1.00    227845\n",
            "   macro avg       1.00      1.00      1.00    227845\n",
            "weighted avg       1.00      1.00      1.00    227845\n",
            "\n"
          ]
        }
      ],
      "source": [
        "print('Performance on the train set')\n",
        "y_pred_train = best_model.predict(X_train)\n",
        "print('Train recall:', recall_score(y_train, y_pred_train))\n",
        "print(classification_report(y_train, y_pred_train))"
      ]
    },
    {
      "cell_type": "code",
      "execution_count": null,
      "metadata": {
        "colab": {
          "base_uri": "https://localhost:8080/"
        },
        "id": "y7HrLSbFSWHo",
        "outputId": "9068cb3d-7304-4fd4-c02c-42475c0abb65"
      },
      "outputs": [
        {
          "name": "stdout",
          "output_type": "stream",
          "text": [
            "Performance on the test set\n",
            "Test recall: 0.8673469387755102\n",
            "              precision    recall  f1-score   support\n",
            "\n",
            "           0       1.00      1.00      1.00     56864\n",
            "           1       0.92      0.87      0.89        98\n",
            "\n",
            "    accuracy                           1.00     56962\n",
            "   macro avg       0.96      0.93      0.95     56962\n",
            "weighted avg       1.00      1.00      1.00     56962\n",
            "\n"
          ]
        }
      ],
      "source": [
        "print('Performance on the test set')\n",
        "y_pred = best_model.predict(X_test)\n",
        "print('Test recall:', recall_score(y_test, y_pred))\n",
        "print(classification_report(y_test, y_pred))"
      ]
    },
    {
      "cell_type": "markdown",
      "metadata": {
        "id": "al9Fqwz8feBE"
      },
      "source": [
        "Now, the recall decresed from 93% to 87%, but the precision increased from 6 to 92%.\n",
        "\n",
        "Thus, Gradient Boosting is better when it comes to dealing with imbalance. However, here, with the gap between train and test metrics, we believe that we have reached an overfitting.\n",
        "\n",
        "Thus, it might be better to start thinking a way to balance our data to get something better.\n",
        "\n",
        "--> We will try now data-level approaches.\n",
        "\n",
        "## Data-level approaches\n",
        "\n",
        "### Resampling\n",
        "Resampling is only applied on the train data, not the test data, nor the validation! <br>\n",
        "Thus, it is better that you split the train again into train and validation, and then you resample the train set.\n",
        "#### [Under-Sampling](https://imbalanced-learn.org/stable/under_sampling.html):\n",
        "\n",
        "\"*Under Sampling*\" consists of removing data in order to have a more <b> balanced dataset </b> and thus avoiding overfitting.\n",
        "\n",
        "**Steps:**\n",
        "- Identify the minority class & its number of instances\n",
        "- Since here the minority class is the <b>fraud transactions </b> (Fraud = \"1\") , we should bring the <b>non-fraud transactions</b> to the same amount as fraud transactions (assuming we want a 50/50 ratio), this will be equivalent to 394 cases of fraud and 394 cases of non-fraud transactions.  \n",
        "\n",
        "**Note:**\n",
        "- The main issue with \"Random Under-Sampling\" is that we run the risk that our classification models will not perform as accurate as we would like to since there is a great deal of <b>information loss</b> (bringing 394 non-fraud transaction  from 227,451 non-fraud transaction).\n",
        "- There are other types of undersampling, you can find them [here](https://imbalanced-learn.org/stable/under_sampling.html)."
      ]
    },
    {
      "cell_type": "code",
      "execution_count": null,
      "metadata": {
        "colab": {
          "base_uri": "https://localhost:8080/"
        },
        "id": "E67NaLM-c5Nm",
        "outputId": "0589199f-6aff-476e-cf3b-82da9746d84f"
      },
      "outputs": [
        {
          "data": {
            "text/plain": [
              "0    227451\n",
              "1       394\n",
              "Name: Class, dtype: int64"
            ]
          },
          "execution_count": 15,
          "metadata": {},
          "output_type": "execute_result"
        }
      ],
      "source": [
        "y_train.value_counts()"
      ]
    },
    {
      "cell_type": "code",
      "execution_count": null,
      "metadata": {
        "id": "3eez69F3c5ab"
      },
      "outputs": [],
      "source": [
        "from imblearn.under_sampling import NearMiss\n",
        "resampling = NearMiss(version=1)\n",
        "X_train_resampled, y_train_resampled = resampling.fit_resample(X_train, y_train)"
      ]
    },
    {
      "cell_type": "code",
      "execution_count": null,
      "metadata": {
        "colab": {
          "base_uri": "https://localhost:8080/",
          "height": 467
        },
        "id": "MPWBtqmO9_ah",
        "outputId": "438c11a7-7a20-4627-c359-92b0c5158639"
      },
      "outputs": [
        {
          "data": {
            "text/plain": [
              "<Axes: xlabel='Class', ylabel='count'>"
            ]
          },
          "execution_count": 17,
          "metadata": {},
          "output_type": "execute_result"
        },
        {
          "data": {
            "image/png": "[encoded data removed]",
            "text/plain": [
              "<Figure size 640x480 with 1 Axes>"
            ]
          },
          "metadata": {},
          "output_type": "display_data"
        }
      ],
      "source": [
        "sns.countplot(x=y_train_resampled)"
      ]
    },
    {
      "cell_type": "code",
      "execution_count": null,
      "metadata": {
        "id": "-7yjh8yr9_f0"
      },
      "outputs": [],
      "source": [
        "model = LGBMClassifier(boosting_type='gbdt',\n",
        "                      #  class_weight='balanced',\n",
        "                      #  n_estimators = 50,\n",
        "                      #  colsample_bytree = .7,\n",
        "                      #  min_child_samples=10,\n",
        "                      #  subsample=.7,\n",
        "                      #  objective='binary',\n",
        "                       random_state=7, n_jobs=-1,\n",
        "                       importance_type='split')\n",
        "params = {\n",
        "    'n_estimators':[100, 300, 500],\n",
        "    'colsample_bytree': [1., int(np.sqrt(X_train.shape[1]))/X_train.shape[1], .7 ],\n",
        "    'min_child_samples': [10, 50],\n",
        "    'subsample': [.7, 1.]\n",
        "}\n",
        "search = RandomizedSearchCV(model, scoring='recall', cv=3, random_state=7,\n",
        "                            n_iter=1, param_distributions=params,\n",
        "                            refit=True, n_jobs=-1, verbose=2)\n",
        "%timeit search.fit(X_train_resampled, y_train_resampled)\n",
        "best_model = search.best_estimator_"
      ]
    },
    {
      "cell_type": "code",
      "execution_count": null,
      "metadata": {
        "colab": {
          "base_uri": "https://localhost:8080/"
        },
        "id": "BA4oQcLVAXx-",
        "outputId": "cd6e727c-37cf-463c-83d0-6c504a34e661"
      },
      "outputs": [
        {
          "name": "stdout",
          "output_type": "stream",
          "text": [
            "Performance on the train set\n",
            "Train recall: 1.0\n",
            "              precision    recall  f1-score   support\n",
            "\n",
            "           0       1.00      1.00      1.00       394\n",
            "           1       1.00      1.00      1.00       394\n",
            "\n",
            "    accuracy                           1.00       788\n",
            "   macro avg       1.00      1.00      1.00       788\n",
            "weighted avg       1.00      1.00      1.00       788\n",
            "\n"
          ]
        }
      ],
      "source": [
        "print('Performance on the train set')\n",
        "y_pred_train = best_model.predict(X_train_resampled)\n",
        "print('Train recall:', recall_score(y_train_resampled, y_pred_train))\n",
        "print(classification_report(y_train_resampled, y_pred_train))"
      ]
    },
    {
      "cell_type": "code",
      "execution_count": null,
      "metadata": {
        "colab": {
          "base_uri": "https://localhost:8080/"
        },
        "id": "VnzA1jP1FOL-",
        "outputId": "cfe287ba-26a6-443f-c3c4-4dfd8d9247e6"
      },
      "outputs": [
        {
          "name": "stdout",
          "output_type": "stream",
          "text": [
            "Performance on the train set\n",
            "Train recall: 1.0\n",
            "              precision    recall  f1-score   support\n",
            "\n",
            "           0       1.00      0.27      0.43    227451\n",
            "           1       0.00      1.00      0.00       394\n",
            "\n",
            "    accuracy                           0.27    227845\n",
            "   macro avg       0.50      0.64      0.22    227845\n",
            "weighted avg       1.00      0.27      0.43    227845\n",
            "\n"
          ]
        }
      ],
      "source": [
        "print('Performance on the train set')\n",
        "y_pred_train = best_model.predict(X_train)\n",
        "print('Train recall:', recall_score(y_train, y_pred_train))\n",
        "print(classification_report(y_train, y_pred_train))"
      ]
    },
    {
      "cell_type": "code",
      "execution_count": null,
      "metadata": {
        "colab": {
          "base_uri": "https://localhost:8080/"
        },
        "id": "IOBJIBAGAaix",
        "outputId": "ac6ee71d-e662-46f4-a9a9-f233791579c0"
      },
      "outputs": [
        {
          "name": "stdout",
          "output_type": "stream",
          "text": [
            "Performance on the test set\n",
            "Test recall: 0.9897959183673469\n",
            "              precision    recall  f1-score   support\n",
            "\n",
            "           0       1.00      0.27      0.43     56864\n",
            "           1       0.00      0.99      0.00        98\n",
            "\n",
            "    accuracy                           0.27     56962\n",
            "   macro avg       0.50      0.63      0.22     56962\n",
            "weighted avg       1.00      0.27      0.43     56962\n",
            "\n"
          ]
        }
      ],
      "source": [
        "print('Performance on the test set')\n",
        "y_pred = best_model.predict(X_test)\n",
        "print('Test recall:', recall_score(y_test, y_pred))\n",
        "print(classification_report(y_test, y_pred))"
      ]
    },
    {
      "cell_type": "markdown",
      "metadata": {
        "id": "HvI-ia_fFWc9"
      },
      "source": [
        "The train preicion & recall on the resampled train dataset shows clear overfitting!!!\n",
        "\n",
        "We have tested then again all train set, the model performs very bad.\n",
        "\n",
        "For the test set, the recall increased to 99% but the precision decreased to 0% on the class fraudulent!!! <br>\n",
        "\n",
        "Thus, this method of resampling made us loose lots of information!!\n",
        "\n",
        "We will try now oversampling instead.\n",
        "\n",
        "#### [Over-Sampling](https://imbalanced-learn.org/stable/over_sampling.html):\n",
        "\n",
        "\"*Over Sampling*\" consists of adding data in order to have a more <b> balanced dataset </b> and thus avoiding overfitting.\n",
        "\n",
        "**Steps:**\n",
        "- Identify the majority class & its number of instances\n",
        "- Since here the majority class is the <b> non-fraud transactions </b>, we should bring the <b>fraud transactions</b> to the same amount as non-fraud transactions (assuming we want a 50/50 ratio), this will be equivalent to 227451 cases of fraud and 227451 cases of non-fraud transactions.  "
      ]
    },
    {
      "cell_type": "code",
      "execution_count": null,
      "metadata": {
        "colab": {
          "base_uri": "https://localhost:8080/"
        },
        "id": "nV3I3FmlAblv",
        "outputId": "2b0af6df-68ba-486d-968d-acf189a8096a"
      },
      "outputs": [
        {
          "data": {
            "text/plain": [
              "0    227451\n",
              "1       394\n",
              "Name: Class, dtype: int64"
            ]
          },
          "execution_count": 48,
          "metadata": {},
          "output_type": "execute_result"
        }
      ],
      "source": [
        "y_train.value_counts()"
      ]
    },
    {
      "cell_type": "code",
      "execution_count": null,
      "metadata": {
        "id": "xpjvmgYXHxn_"
      },
      "outputs": [],
      "source": [
        "from imblearn.over_sampling import SMOTE\n",
        "resampling = SMOTE(random_state=7)\n",
        "X_train_resampled, y_train_resampled = resampling.fit_resample(X_train, y_train)"
      ]
    },
    {
      "cell_type": "code",
      "execution_count": null,
      "metadata": {
        "colab": {
          "base_uri": "https://localhost:8080/",
          "height": 467
        },
        "id": "zAzNUx_VID1y",
        "outputId": "62cd5cd4-0d5c-4cfc-e085-8b2714093bc7"
      },
      "outputs": [
        {
          "data": {
            "text/plain": [
              "<Axes: xlabel='Class', ylabel='count'>"
            ]
          },
          "execution_count": 50,
          "metadata": {},
          "output_type": "execute_result"
        },
        {
          "data": {
            "image/png": "[encoded data removed]",
            "text/plain": [
              "<Figure size 640x480 with 1 Axes>"
            ]
          },
          "metadata": {},
          "output_type": "display_data"
        }
      ],
      "source": [
        "sns.countplot(x=y_train_resampled)"
      ]
    },
    {
      "cell_type": "code",
      "execution_count": null,
      "metadata": {
        "colab": {
          "base_uri": "https://localhost:8080/"
        },
        "id": "QdwyADqcHx1n",
        "outputId": "640df38e-4e2f-4356-f0b8-d95abe1c0bc6"
      },
      "outputs": [
        {
          "name": "stdout",
          "output_type": "stream",
          "text": [
            "[LightGBM] [Info] Number of positive: 227451, number of negative: 227451\n",
            "[LightGBM] [Info] Auto-choosing col-wise multi-threading, the overhead of testing was 0.334689 seconds.\n",
            "You can set `force_col_wise=true` to remove the overhead.\n",
            "[LightGBM] [Info] Total Bins 7650\n",
            "[LightGBM] [Info] Number of data points in the train set: 454902, number of used features: 30\n",
            "[LightGBM] [Info] [binary:BoostFromScore]: pavg=0.500000 -> initscore=0.000000\n",
            "[LightGBM] [Info] Number of positive: 227451, number of negative: 227451\n",
            "[LightGBM] [Info] Auto-choosing col-wise multi-threading, the overhead of testing was 0.158313 seconds.\n",
            "You can set `force_col_wise=true` to remove the overhead.\n",
            "[LightGBM] [Info] Total Bins 7650\n",
            "[LightGBM] [Info] Number of data points in the train set: 454902, number of used features: 30\n",
            "[LightGBM] [Info] [binary:BoostFromScore]: pavg=0.500000 -> initscore=0.000000\n",
            "[LightGBM] [Info] Number of positive: 227451, number of negative: 227451\n",
            "[LightGBM] [Info] Auto-choosing col-wise multi-threading, the overhead of testing was 0.156544 seconds.\n",
            "You can set `force_col_wise=true` to remove the overhead.\n",
            "[LightGBM] [Info] Total Bins 7650\n",
            "[LightGBM] [Info] Number of data points in the train set: 454902, number of used features: 30\n",
            "[LightGBM] [Info] [binary:BoostFromScore]: pavg=0.500000 -> initscore=0.000000\n",
            "[LightGBM] [Info] Number of positive: 227451, number of negative: 227451\n",
            "[LightGBM] [Info] Auto-choosing col-wise multi-threading, the overhead of testing was 0.151526 seconds.\n",
            "You can set `force_col_wise=true` to remove the overhead.\n",
            "[LightGBM] [Info] Total Bins 7650\n",
            "[LightGBM] [Info] Number of data points in the train set: 454902, number of used features: 30\n",
            "[LightGBM] [Info] [binary:BoostFromScore]: pavg=0.500000 -> initscore=0.000000\n",
            "[LightGBM] [Info] Number of positive: 227451, number of negative: 227451\n",
            "[LightGBM] [Info] Auto-choosing col-wise multi-threading, the overhead of testing was 0.249781 seconds.\n",
            "You can set `force_col_wise=true` to remove the overhead.\n",
            "[LightGBM] [Info] Total Bins 7650\n",
            "[LightGBM] [Info] Number of data points in the train set: 454902, number of used features: 30\n",
            "[LightGBM] [Info] [binary:BoostFromScore]: pavg=0.500000 -> initscore=0.000000\n",
            "[LightGBM] [Info] Number of positive: 227451, number of negative: 227451\n",
            "[LightGBM] [Info] Auto-choosing col-wise multi-threading, the overhead of testing was 0.282728 seconds.\n",
            "You can set `force_col_wise=true` to remove the overhead.\n",
            "[LightGBM] [Info] Total Bins 7650\n",
            "[LightGBM] [Info] Number of data points in the train set: 454902, number of used features: 30\n",
            "[LightGBM] [Info] [binary:BoostFromScore]: pavg=0.500000 -> initscore=0.000000\n",
            "[LightGBM] [Info] Number of positive: 227451, number of negative: 227451\n",
            "[LightGBM] [Info] Auto-choosing col-wise multi-threading, the overhead of testing was 0.291237 seconds.\n",
            "You can set `force_col_wise=true` to remove the overhead.\n",
            "[LightGBM] [Info] Total Bins 7650\n",
            "[LightGBM] [Info] Number of data points in the train set: 454902, number of used features: 30\n",
            "[LightGBM] [Info] [binary:BoostFromScore]: pavg=0.500000 -> initscore=0.000000\n",
            "[LightGBM] [Info] Number of positive: 227451, number of negative: 227451\n",
            "[LightGBM] [Info] Auto-choosing col-wise multi-threading, the overhead of testing was 0.153111 seconds.\n",
            "You can set `force_col_wise=true` to remove the overhead.\n",
            "[LightGBM] [Info] Total Bins 7650\n",
            "[LightGBM] [Info] Number of data points in the train set: 454902, number of used features: 30\n",
            "[LightGBM] [Info] [binary:BoostFromScore]: pavg=0.500000 -> initscore=0.000000\n",
            "16.3 s ± 2.49 s per loop (mean ± std. dev. of 7 runs, 1 loop each)\n"
          ]
        }
      ],
      "source": [
        "model = LGBMClassifier(boosting_type='gbdt',\n",
        "                      #  class_weight='balanced',\n",
        "                      #  n_estimators = 50,\n",
        "                      #  colsample_bytree = .7,\n",
        "                      #  min_child_samples=10,\n",
        "                      #  subsample=.7,\n",
        "                      #  objective='binary',\n",
        "                       random_state=7, n_jobs=-1,\n",
        "                       importance_type='split')\n",
        "%timeit model.fit(X_train_resampled, y_train_resampled)\n",
        "best_model = model"
      ]
    },
    {
      "cell_type": "code",
      "execution_count": null,
      "metadata": {
        "colab": {
          "base_uri": "https://localhost:8080/"
        },
        "id": "I3v36TnIHyAH",
        "outputId": "f09e9c76-aae8-42e0-bd7a-56a70351ea31"
      },
      "outputs": [
        {
          "name": "stdout",
          "output_type": "stream",
          "text": [
            "Performance on the train set\n",
            "Train recall: 0.9999120689730975\n",
            "              precision    recall  f1-score   support\n",
            "\n",
            "           0       1.00      1.00      1.00    227451\n",
            "           1       1.00      1.00      1.00    227451\n",
            "\n",
            "    accuracy                           1.00    454902\n",
            "   macro avg       1.00      1.00      1.00    454902\n",
            "weighted avg       1.00      1.00      1.00    454902\n",
            "\n"
          ]
        }
      ],
      "source": [
        "print('Performance on the train set')\n",
        "y_pred_train = best_model.predict(X_train_resampled)\n",
        "print('Train recall:', recall_score(y_train_resampled, y_pred_train))\n",
        "print(classification_report(y_train_resampled, y_pred_train))"
      ]
    },
    {
      "cell_type": "code",
      "execution_count": null,
      "metadata": {
        "colab": {
          "base_uri": "https://localhost:8080/"
        },
        "id": "A02GiqRAIKZH",
        "outputId": "eb5f6bf5-aa78-4bc3-9538-59b1d783b1bf"
      },
      "outputs": [
        {
          "name": "stdout",
          "output_type": "stream",
          "text": [
            "Performance on the train set\n",
            "Train recall: 1.0\n",
            "              precision    recall  f1-score   support\n",
            "\n",
            "           0       1.00      1.00      1.00    227451\n",
            "           1       0.66      1.00      0.79       394\n",
            "\n",
            "    accuracy                           1.00    227845\n",
            "   macro avg       0.83      1.00      0.90    227845\n",
            "weighted avg       1.00      1.00      1.00    227845\n",
            "\n"
          ]
        }
      ],
      "source": [
        "print('Performance on the train set')\n",
        "y_pred_train = best_model.predict(X_train)\n",
        "print('Train recall:', recall_score(y_train, y_pred_train))\n",
        "print(classification_report(y_train, y_pred_train))"
      ]
    },
    {
      "cell_type": "code",
      "execution_count": null,
      "metadata": {
        "colab": {
          "base_uri": "https://localhost:8080/"
        },
        "id": "C15jD6fCIMtg",
        "outputId": "f04e57de-630a-450e-a1d7-7f5736955302"
      },
      "outputs": [
        {
          "name": "stdout",
          "output_type": "stream",
          "text": [
            "Performance on the test set\n",
            "Test recall: 0.8571428571428571\n",
            "              precision    recall  f1-score   support\n",
            "\n",
            "           0       1.00      1.00      1.00     56864\n",
            "           1       0.54      0.86      0.66        98\n",
            "\n",
            "    accuracy                           1.00     56962\n",
            "   macro avg       0.77      0.93      0.83     56962\n",
            "weighted avg       1.00      1.00      1.00     56962\n",
            "\n"
          ]
        }
      ],
      "source": [
        "print('Performance on the test set')\n",
        "y_pred = best_model.predict(X_test)\n",
        "print('Test recall:', recall_score(y_test, y_pred))\n",
        "print(classification_report(y_test, y_pred))"
      ]
    },
    {
      "cell_type": "markdown",
      "metadata": {
        "id": "6HuW_CvsIvZM"
      },
      "source": [
        "Oversampling is definetly better than Undersampling, But overfitting is clear here; the drop in recall between train and test for class=1 is of 14% (100-86%) and the drop in precision for the class=1 is of 12%.\n",
        "\n",
        "However, it is not better than without any resampling!\n",
        "\n",
        "Maybe, try undersampling using clustering methods (like the use case of MNIST classification we have seen in the unsupervised learning course).\n",
        "\n",
        "To sample the most representative data points from the majority class, we will cluster them with k=394 because we need to sample 394 data points since our minority class contains 394 data points."
      ]
    },
    {
      "cell_type": "code",
      "execution_count": null,
      "metadata": {
        "colab": {
          "base_uri": "https://localhost:8080/"
        },
        "id": "bki-goXCxgGW",
        "outputId": "4ed355c6-e6b2-4f8f-dae2-13eea25ab26b"
      },
      "outputs": [
        {
          "data": {
            "text/plain": [
              "(227451, 30)"
            ]
          },
          "execution_count": 16,
          "metadata": {},
          "output_type": "execute_result"
        }
      ],
      "source": [
        "X_train_class_majority = X_train[y_train == 0]\n",
        "X_train_class_majority.shape"
      ]
    },
    {
      "cell_type": "code",
      "execution_count": null,
      "metadata": {
        "colab": {
          "base_uri": "https://localhost:8080/"
        },
        "id": "L33Lx1u4x6gc",
        "outputId": "8833783f-6184-46a0-9b37-7445c1641328"
      },
      "outputs": [
        {
          "data": {
            "text/plain": [
              "0    227451\n",
              "1       394\n",
              "Name: Class, dtype: int64"
            ]
          },
          "execution_count": 19,
          "metadata": {},
          "output_type": "execute_result"
        }
      ],
      "source": [
        "y_train.value_counts()"
      ]
    },
    {
      "cell_type": "code",
      "execution_count": null,
      "metadata": {
        "id": "vYssJIYS0Qpk"
      },
      "outputs": [],
      "source": [
        "X_train_class_majority.reset_index(inplace=True)"
      ]
    },
    {
      "cell_type": "code",
      "execution_count": null,
      "metadata": {
        "id": "lfLQ2y-w0SOv"
      },
      "outputs": [],
      "source": [
        "X_train_class_majority = X_train_class_majority.drop(columns=['index'], axis=1)"
      ]
    },
    {
      "cell_type": "code",
      "execution_count": null,
      "metadata": {
        "id": "n7-2JZ-JrcDV"
      },
      "outputs": [],
      "source": [
        "from sklearn.cluster import KMeans\n",
        "\n",
        "k = y_train.value_counts()[1] # 394\n",
        "# Initialize a Kmeans model with k=50, n_init=10, and a random_state=42\n",
        "kmeans = KMeans(n_clusters=k, n_init=10, random_state=42)\n",
        "# Fit the model to X_train\n",
        "kmeans.fit(X_train_class_majority)\n",
        "# Reduce the dimensionality of X_train using kmeans\n",
        "X_dist = kmeans.transform(X_train_class_majority)\n",
        "# the shape of X_dist is (n, k), with n = 227451 = total nbr of training samples of the full dataset, k = 394 = nbr of clusters\n",
        "# For every cluster k, I choose the index of the data point that has the lowest distance to the centroid of this cluster\n",
        "# This sample is the most representative of the cluster\n",
        "# I end up with 394 samples (since I have k=394 clusters)\n",
        "representative_data_point_idx = X_dist.argmin(axis=0)\n",
        "# shape of representative_data_point_idx = 394\n",
        "print('The 10 first indices of the most representative images are:', representative_data_point_idx[:10])\n",
        "# Here we are extracting these representative images from the train set\n",
        "X_representative_data_points = X_train_class_majority.loc[ representative_data_point_idx.tolist(), :]\n",
        "# shape of X_representative_digits = (394, 30); 394=nbr of representative images, 30=dimension of each data point i.e., number of columns"
      ]
    },
    {
      "cell_type": "code",
      "execution_count": null,
      "metadata": {
        "colab": {
          "base_uri": "https://localhost:8080/"
        },
        "id": "e5J5mo9lyhsz",
        "outputId": "de1d97e4-0119-4e71-f6f2-1cbbf65ffc1b"
      },
      "outputs": [
        {
          "name": "stdout",
          "output_type": "stream",
          "text": [
            "[LightGBM] [Info] Number of positive: 394, number of negative: 394\n",
            "[LightGBM] [Info] Auto-choosing col-wise multi-threading, the overhead of testing was 0.000461 seconds.\n",
            "You can set `force_col_wise=true` to remove the overhead.\n",
            "[LightGBM] [Info] Total Bins 7650\n",
            "[LightGBM] [Info] Number of data points in the train set: 788, number of used features: 30\n",
            "[LightGBM] [Info] [binary:BoostFromScore]: pavg=0.500000 -> initscore=0.000000\n",
            "[LightGBM] [Warning] No further splits with positive gain, best gain: -inf\n",
            "[LightGBM] [Warning] No further splits with positive gain, best gain: -inf\n",
            "[LightGBM] [Warning] No further splits with positive gain, best gain: -inf\n",
            "[LightGBM] [Info] Number of positive: 394, number of negative: 394\n",
            "[LightGBM] [Info] Auto-choosing col-wise multi-threading, the overhead of testing was 0.000229 seconds.\n",
            "You can set `force_col_wise=true` to remove the overhead.\n",
            "[LightGBM] [Info] Total Bins 7650\n",
            "[LightGBM] [Info] Number of data points in the train set: 788, number of used features: 30\n",
            "[LightGBM] [Info] [binary:BoostFromScore]: pavg=0.500000 -> initscore=0.000000\n",
            "[LightGBM] [Warning] No further splits with positive gain, best gain: -inf\n",
            "[LightGBM] [Warning] No further splits with positive gain, best gain: -inf\n",
            "[LightGBM] [Warning] No further splits with positive gain, best gain: -inf\n",
            "[LightGBM] [Info] Number of positive: 394, number of negative: 394\n",
            "[LightGBM] [Info] Auto-choosing col-wise multi-threading, the overhead of testing was 0.000275 seconds.\n",
            "You can set `force_col_wise=true` to remove the overhead.\n",
            "[LightGBM] [Info] Total Bins 7650\n",
            "[LightGBM] [Info] Number of data points in the train set: 788, number of used features: 30\n",
            "[LightGBM] [Info] [binary:BoostFromScore]: pavg=0.500000 -> initscore=0.000000\n",
            "[LightGBM] [Warning] No further splits with positive gain, best gain: -inf\n",
            "[LightGBM] [Warning] No further splits with positive gain, best gain: -inf\n",
            "[LightGBM] [Warning] No further splits with positive gain, best gain: -inf\n",
            "[LightGBM] [Info] Number of positive: 394, number of negative: 394\n",
            "[LightGBM] [Info] Auto-choosing col-wise multi-threading, the overhead of testing was 0.000231 seconds.\n",
            "You can set `force_col_wise=true` to remove the overhead.\n",
            "[LightGBM] [Info] Total Bins 7650\n",
            "[LightGBM] [Info] Number of data points in the train set: 788, number of used features: 30\n",
            "[LightGBM] [Info] [binary:BoostFromScore]: pavg=0.500000 -> initscore=0.000000\n",
            "[LightGBM] [Warning] No further splits with positive gain, best gain: -inf\n",
            "[LightGBM] [Warning] No further splits with positive gain, best gain: -inf\n",
            "[LightGBM] [Warning] No further splits with positive gain, best gain: -inf\n",
            "[LightGBM] [Info] Number of positive: 394, number of negative: 394\n",
            "[LightGBM] [Info] Auto-choosing col-wise multi-threading, the overhead of testing was 0.000224 seconds.\n",
            "You can set `force_col_wise=true` to remove the overhead.\n",
            "[LightGBM] [Info] Total Bins 7650\n",
            "[LightGBM] [Info] Number of data points in the train set: 788, number of used features: 30\n",
            "[LightGBM] [Info] [binary:BoostFromScore]: pavg=0.500000 -> initscore=0.000000\n",
            "[LightGBM] [Warning] No further splits with positive gain, best gain: -inf\n",
            "[LightGBM] [Warning] No further splits with positive gain, best gain: -inf\n",
            "[LightGBM] [Warning] No further splits with positive gain, best gain: -inf\n",
            "[LightGBM] [Info] Number of positive: 394, number of negative: 394\n",
            "[LightGBM] [Info] Auto-choosing col-wise multi-threading, the overhead of testing was 0.000231 seconds.\n",
            "You can set `force_col_wise=true` to remove the overhead.\n",
            "[LightGBM] [Info] Total Bins 7650\n",
            "[LightGBM] [Info] Number of data points in the train set: 788, number of used features: 30\n",
            "[LightGBM] [Info] [binary:BoostFromScore]: pavg=0.500000 -> initscore=0.000000\n",
            "[LightGBM] [Warning] No further splits with positive gain, best gain: -inf\n",
            "[LightGBM] [Warning] No further splits with positive gain, best gain: -inf\n",
            "[LightGBM] [Warning] No further splits with positive gain, best gain: -inf\n",
            "[LightGBM] [Info] Number of positive: 394, number of negative: 394\n",
            "[LightGBM] [Info] Auto-choosing col-wise multi-threading, the overhead of testing was 0.000239 seconds.\n",
            "You can set `force_col_wise=true` to remove the overhead.\n",
            "[LightGBM] [Info] Total Bins 7650\n",
            "[LightGBM] [Info] Number of data points in the train set: 788, number of used features: 30\n",
            "[LightGBM] [Info] [binary:BoostFromScore]: pavg=0.500000 -> initscore=0.000000\n",
            "[LightGBM] [Warning] No further splits with positive gain, best gain: -inf\n",
            "[LightGBM] [Warning] No further splits with positive gain, best gain: -inf\n",
            "[LightGBM] [Warning] No further splits with positive gain, best gain: -inf\n",
            "[LightGBM] [Info] Number of positive: 394, number of negative: 394\n",
            "[LightGBM] [Info] Auto-choosing col-wise multi-threading, the overhead of testing was 0.000240 seconds.\n",
            "You can set `force_col_wise=true` to remove the overhead.\n",
            "[LightGBM] [Info] Total Bins 7650\n",
            "[LightGBM] [Info] Number of data points in the train set: 788, number of used features: 30\n",
            "[LightGBM] [Info] [binary:BoostFromScore]: pavg=0.500000 -> initscore=0.000000\n",
            "[LightGBM] [Warning] No further splits with positive gain, best gain: -inf\n",
            "[LightGBM] [Warning] No further splits with positive gain, best gain: -inf\n",
            "[LightGBM] [Warning] No further splits with positive gain, best gain: -inf\n",
            "179 ms ± 8.31 ms per loop (mean ± std. dev. of 7 runs, 1 loop each)\n"
          ]
        }
      ],
      "source": [
        "new_X_train = X_train[y_train==1].append(X_representative_data_points)\n",
        "new_y_train = np.append(np.array(y_train[y_train==1]), np.zeros(X_representative_data_points.shape[0]))\n",
        "new_X_train['Class'] = new_y_train\n",
        "# Shuffling the dataset\n",
        "new_X_train = new_X_train.sample(frac = 1)\n",
        "model = LGBMClassifier(boosting_type='gbdt',\n",
        "                      #  class_weight='balanced',\n",
        "                      #  n_estimators = 50,\n",
        "                      #  colsample_bytree = .7,\n",
        "                      #  min_child_samples=10,\n",
        "                      #  subsample=.7,\n",
        "                      #  objective='binary',\n",
        "                       random_state=7, n_jobs=-1,\n",
        "                       importance_type='split')\n",
        "%timeit model.fit(new_X_train.drop(columns=['Class']), new_X_train['Class'])\n",
        "best_model = model"
      ]
    },
    {
      "cell_type": "code",
      "execution_count": null,
      "metadata": {
        "colab": {
          "base_uri": "https://localhost:8080/"
        },
        "id": "X_s0RLDJ3q_J",
        "outputId": "54ed21cf-2027-4fb3-b5ad-3f4597d7e734"
      },
      "outputs": [
        {
          "name": "stdout",
          "output_type": "stream",
          "text": [
            "Performance on the train set\n",
            "Train recall: 1.0\n",
            "              precision    recall  f1-score   support\n",
            "\n",
            "           0       1.00      0.95      0.97    227451\n",
            "           1       0.03      1.00      0.06       394\n",
            "\n",
            "    accuracy                           0.95    227845\n",
            "   macro avg       0.52      0.97      0.52    227845\n",
            "weighted avg       1.00      0.95      0.97    227845\n",
            "\n"
          ]
        }
      ],
      "source": [
        "print('Performance on the train set')\n",
        "y_pred_train = best_model.predict(X_train)\n",
        "print('Train recall:', recall_score(y_train, y_pred_train))\n",
        "print(classification_report(y_train, y_pred_train))"
      ]
    },
    {
      "cell_type": "code",
      "execution_count": null,
      "metadata": {
        "colab": {
          "base_uri": "https://localhost:8080/"
        },
        "id": "kM5JH8JD4EVs",
        "outputId": "9c350539-0a23-4518-b223-f257831200c5"
      },
      "outputs": [
        {
          "name": "stdout",
          "output_type": "stream",
          "text": [
            "Performance on the test set\n",
            "Test recall: 0.9387755102040817\n",
            "              precision    recall  f1-score   support\n",
            "\n",
            "           0       1.00      0.95      0.97     56864\n",
            "           1       0.03      0.94      0.06        98\n",
            "\n",
            "    accuracy                           0.95     56962\n",
            "   macro avg       0.51      0.94      0.52     56962\n",
            "weighted avg       1.00      0.95      0.97     56962\n",
            "\n"
          ]
        }
      ],
      "source": [
        "print('Performance on the test set')\n",
        "y_pred = best_model.predict(X_test)\n",
        "print('Test recall:', recall_score(y_test, y_pred))\n",
        "print(classification_report(y_test, y_pred))"
      ]
    },
    {
      "cell_type": "markdown",
      "metadata": {
        "id": "e8ydwwhz4PDP"
      },
      "source": [
        "No overfitting here (the drop in performance in 6% for the recall of class=1), but the performance is still bad, even if the recall is high 94% (recall of class=1 on the test set), the precision test is 3%.\n",
        "\n",
        "Let us now try to reformulate the problem as an anomaly detection problem.\n",
        "\n",
        "### Classification problem as an anomaly detection problem\n",
        "\n",
        "Instead of learning to discriminate between fraudulent and non-fraudulent transactions, we will build a model that only learns on the non-fraudulent transaction.\n",
        "\n",
        "This model will encode the input columns and then decode them; we are going to call the output the reconstruction of the input.\n",
        "\n",
        "Since the model is trained on only non-fraudulent data, no matter what input we give, it will try to reconstruct the non-fraudulent version of it.\n",
        "\n",
        "Thus, the mean squarred error between the input and output will be low if the input is non-fraudulent, while this error between the input and output will be very high if the input is fraudulent.\n",
        "\n",
        "For this, our input is no longer all the data, but only the data corresponding to the non-fraudulent class.\n",
        "\n",
        "Thus, our test set is the data samples from the train set belonging to the minority class (fraudulent) + the test set (previously used), which contains a fraudulent and non-fraudulent instances."
      ]
    },
    {
      "cell_type": "code",
      "execution_count": null,
      "metadata": {
        "id": "LBBQkl_RfMkw"
      },
      "outputs": [],
      "source": []
    },
    {
      "cell_type": "code",
      "execution_count": 8,
      "metadata": {
        "id": "zMGb2kld7B6C"
      },
      "outputs": [],
      "source": [
        "X_train_majority_class = X_train[y_train==0]\n",
        "X_train_minority_class = X_train[y_train==1]\n",
        "\n",
        "X_train_majority_class, X_val_majority_class, _, _ = train_test_split(X_train_majority_class, y_train[y_train==0], test_size=0.3)"
      ]
    },
    {
      "cell_type": "code",
      "execution_count": 9,
      "metadata": {
        "colab": {
          "base_uri": "https://localhost:8080/"
        },
        "id": "ue1Mx3ZH7LDU",
        "outputId": "58ceafcb-dd07-43da-ac43-e7d8c8a48908"
      },
      "outputs": [
        {
          "data": {
            "text/plain": [
              "((159215, 30), (68236, 30))"
            ]
          },
          "execution_count": 9,
          "metadata": {},
          "output_type": "execute_result"
        }
      ],
      "source": [
        "X_train_majority_class.shape, X_val_majority_class.shape"
      ]
    },
    {
      "cell_type": "code",
      "execution_count": null,
      "metadata": {
        "id": "C0eZ9BOZ6zhx"
      },
      "outputs": [],
      "source": [
        "!pip install tensorflow"
      ]
    },
    {
      "cell_type": "code",
      "execution_count": 11,
      "metadata": {
        "colab": {
          "base_uri": "https://localhost:8080/"
        },
        "id": "gP4fabH24HOm",
        "outputId": "6c1e28e0-c067-41cd-8d41-639e2fe66e00"
      },
      "outputs": [
        {
          "name": "stdout",
          "output_type": "stream",
          "text": [
            "Epoch 1/5\n",
            "5308/5308 [==============================] - 595s 111ms/step - loss: 0.1519 - mean_squared_error: 0.1519 - val_loss: 0.0655 - val_mean_squared_error: 0.0655\n",
            "Epoch 2/5\n",
            "5308/5308 [==============================] - 492s 93ms/step - loss: 0.0884 - mean_squared_error: 0.0884 - val_loss: 0.0305 - val_mean_squared_error: 0.0305\n",
            "Epoch 3/5\n",
            "5308/5308 [==============================] - 441s 83ms/step - loss: 0.0968 - mean_squared_error: 0.0968 - val_loss: 0.0255 - val_mean_squared_error: 0.0255\n",
            "Epoch 4/5\n",
            "5308/5308 [==============================] - 451s 85ms/step - loss: 0.0793 - mean_squared_error: 0.0793 - val_loss: 0.0300 - val_mean_squared_error: 0.0300\n",
            "Epoch 5/5\n",
            "5308/5308 [==============================] - 456s 86ms/step - loss: 0.0791 - mean_squared_error: 0.0791 - val_loss: 0.0204 - val_mean_squared_error: 0.0204\n"
          ]
        },
        {
          "data": {
            "text/plain": [
              "<keras.src.callbacks.History at 0x7c43fc302d40>"
            ]
          },
          "execution_count": 11,
          "metadata": {},
          "output_type": "execute_result"
        }
      ],
      "source": [
        "import tensorflow as tf\n",
        "from tensorflow.keras import optimizers\n",
        "from tensorflow.keras.models import Model, Sequential\n",
        "from tensorflow.keras.layers import Dense, Dropout\n",
        "opt = optimizers.Adam(learning_rate=0.0001)\n",
        "input_dim = X_train_majority_class.shape[1]\n",
        "# nn_model = Sequential()\n",
        "# nn_model.add(Dense(128, activation='relu'))\n",
        "# nn_model.add(Dense(256, activation='relu'))\n",
        "# nn_model.add(Dense(512, activation='relu'))\n",
        "# nn_model.add(Dense(input_dim, activation='relu'))\n",
        "nn_model = Sequential()\n",
        "nn_model.add(Dense(256, activation='relu'))\n",
        "nn_model.add(Dense(512, activation='relu'))\n",
        "nn_model.add(Dense(1024, activation='relu'))\n",
        "nn_model.add(Dropout(0.1))\n",
        "nn_model.add(Dense(2048, activation='relu'))\n",
        "nn_model.add(Dense(1024, activation='relu'))\n",
        "nn_model.add(Dropout(0.1))\n",
        "nn_model.add(Dense(512, activation='relu'))\n",
        "nn_model.add(Dense(256, activation='relu'))\n",
        "nn_model.add(Dropout(0.1))\n",
        "nn_model.add(Dense(input_dim))\n",
        "\n",
        "nn_model.compile(loss='mse',\n",
        "              optimizer=opt,\n",
        "              metrics=[tf.keras.metrics.MeanSquaredError()])\n",
        "#Train the model. Tune to validation set.\n",
        "nn_model.fit(X_train_majority_class, X_train_majority_class,\n",
        "          batch_size=30,\n",
        "          epochs=5, validation_data=(X_val_majority_class, X_val_majority_class))"
      ]
    },
    {
      "cell_type": "code",
      "execution_count": 12,
      "metadata": {
        "colab": {
          "base_uri": "https://localhost:8080/"
        },
        "id": "wEeApMx8E_OC",
        "outputId": "261d44fa-006c-48bc-d946-1d76196ad5c1"
      },
      "outputs": [
        {
          "name": "stdout",
          "output_type": "stream",
          "text": [
            "2133/2133 [==============================] - 61s 28ms/step\n",
            "on NON-Fraudulent class, MSE : tf.Tensor(0.020414958, shape=(), dtype=float32)\n",
            "13/13 [==============================] - 0s 24ms/step\n",
            "on Fraudulent class, MSE : tf.Tensor(0.03591752, shape=(), dtype=float32)\n"
          ]
        }
      ],
      "source": [
        "mse = tf.keras.metrics.MeanSquaredError()\n",
        "# Evaluate on the majority class (non-fraudulent); i will use the validation set:\n",
        "print(\"on NON-Fraudulent class, MSE :\",mse(nn_model.predict(X_val_majority_class), X_val_majority_class))\n",
        "# Evaluate on the minority class (fraudulent):\n",
        "reconstructed_samples = nn_model.predict(X_train_minority_class)\n",
        "print(\"on Fraudulent class, MSE :\", mse(reconstructed_samples, X_train_minority_class))"
      ]
    },
    {
      "cell_type": "markdown",
      "metadata": {
        "id": "A-TYXJy7Hikf"
      },
      "source": [
        "As you can see, the mse on the fraudulent data points is 23.15 versus 0.65 on the non-fraudulent data points."
      ]
    },
    {
      "cell_type": "code",
      "execution_count": 13,
      "metadata": {
        "colab": {
          "base_uri": "https://localhost:8080/"
        },
        "id": "GTZBeLyHGhjE",
        "outputId": "bb2533bf-33ce-440e-c729-f01972b26ff0"
      },
      "outputs": [
        {
          "name": "stdout",
          "output_type": "stream",
          "text": [
            "1781/1781 [==============================] - 38s 21ms/step\n"
          ]
        }
      ],
      "source": [
        "# Evaluate on the test set; it contains instances from the minority class (fraudulent) and majority one (non-fraudulent):\n",
        "reconstructed_test_samples = nn_model.predict(X_test)\n",
        "error = ((reconstructed_test_samples-X_test)**2).mean(axis=1)\n",
        "\n",
        "results = pd.DataFrame(data = {'y_true': y_test, 'mse':error})"
      ]
    },
    {
      "cell_type": "code",
      "execution_count": 15,
      "metadata": {
        "colab": {
          "base_uri": "https://localhost:8080/",
          "height": 423
        },
        "id": "tpUi5bpz9rQQ",
        "outputId": "63b852b2-2434-4eff-c3ed-76bbc4f399b0"
      },
      "outputs": [
        {
          "data": {
            "text/html": [
              "\n",
              "  <div id=\"df-5fec9e62-2e97-463d-b618-5192136975ea\" class=\"colab-df-container\">\n",
              "    <div>\n",
              "<style scoped>\n",
              "    .dataframe tbody tr th:only-of-type {\n",
              "        vertical-align: middle;\n",
              "    }\n",
              "\n",
              "    .dataframe tbody tr th {\n",
              "        vertical-align: top;\n",
              "    }\n",
              "\n",
              "    .dataframe thead th {\n",
              "        text-align: right;\n",
              "    }\n",
              "</style>\n",
              "<table border=\"1\" class=\"dataframe\">\n",
              "  <thead>\n",
              "    <tr style=\"text-align: right;\">\n",
              "      <th></th>\n",
              "      <th>y_true</th>\n",
              "      <th>mse</th>\n",
              "    </tr>\n",
              "  </thead>\n",
              "  <tbody>\n",
              "    <tr>\n",
              "      <th>280149</th>\n",
              "      <td>1</td>\n",
              "      <td>0.367846</td>\n",
              "    </tr>\n",
              "    <tr>\n",
              "      <th>152295</th>\n",
              "      <td>1</td>\n",
              "      <td>16.023194</td>\n",
              "    </tr>\n",
              "    <tr>\n",
              "      <th>213116</th>\n",
              "      <td>1</td>\n",
              "      <td>1.379615</td>\n",
              "    </tr>\n",
              "    <tr>\n",
              "      <th>107067</th>\n",
              "      <td>1</td>\n",
              "      <td>0.691816</td>\n",
              "    </tr>\n",
              "    <tr>\n",
              "      <th>64460</th>\n",
              "      <td>1</td>\n",
              "      <td>2.291332</td>\n",
              "    </tr>\n",
              "    <tr>\n",
              "      <th>...</th>\n",
              "      <td>...</td>\n",
              "      <td>...</td>\n",
              "    </tr>\n",
              "    <tr>\n",
              "      <th>8615</th>\n",
              "      <td>1</td>\n",
              "      <td>4.388540</td>\n",
              "    </tr>\n",
              "    <tr>\n",
              "      <th>105178</th>\n",
              "      <td>1</td>\n",
              "      <td>0.018430</td>\n",
              "    </tr>\n",
              "    <tr>\n",
              "      <th>261473</th>\n",
              "      <td>1</td>\n",
              "      <td>0.588874</td>\n",
              "    </tr>\n",
              "    <tr>\n",
              "      <th>250761</th>\n",
              "      <td>1</td>\n",
              "      <td>1.543089</td>\n",
              "    </tr>\n",
              "    <tr>\n",
              "      <th>150665</th>\n",
              "      <td>1</td>\n",
              "      <td>4.072222</td>\n",
              "    </tr>\n",
              "  </tbody>\n",
              "</table>\n",
              "<p>98 rows × 2 columns</p>\n",
              "</div>\n",
              "    <div class=\"colab-df-buttons\">\n",
              "\n",
              "  <div class=\"colab-df-container\">\n",
              "    <button class=\"colab-df-convert\" onclick=\"convertToInteractive('df-5fec9e62-2e97-463d-b618-5192136975ea')\"\n",
              "            title=\"Convert this dataframe to an interactive table.\"\n",
              "            style=\"display:none;\">\n",
              "\n",
              "  <svg xmlns=\"http://www.w3.org/2000/svg\" height=\"24px\" viewBox=\"0 -960 960 960\">\n",
              "    <path d=\"M120-120v-720h720v720H120Zm60-500h600v-160H180v160Zm220 220h160v-160H400v160Zm0 220h160v-160H400v160ZM180-400h160v-160H180v160Zm440 0h160v-160H620v160ZM180-180h160v-160H180v160Zm440 0h160v-160H620v160Z\"/>\n",
              "  </svg>\n",
              "    </button>\n",
              "\n",
              "  <style>\n",
              "    .colab-df-container {\n",
              "      display:flex;\n",
              "      gap: 12px;\n",
              "    }\n",
              "\n",
              "    .colab-df-convert {\n",
              "      background-color: #E8F0FE;\n",
              "      border: none;\n",
              "      border-radius: 50%;\n",
              "      cursor: pointer;\n",
              "      display: none;\n",
              "      fill: #1967D2;\n",
              "      height: 32px;\n",
              "      padding: 0 0 0 0;\n",
              "      width: 32px;\n",
              "    }\n",
              "\n",
              "    .colab-df-convert:hover {\n",
              "      background-color: #E2EBFA;\n",
              "      box-shadow: 0px 1px 2px rgba(60, 64, 67, 0.3), 0px 1px 3px 1px rgba(60, 64, 67, 0.15);\n",
              "      fill: #174EA6;\n",
              "    }\n",
              "\n",
              "    .colab-df-buttons div {\n",
              "      margin-bottom: 4px;\n",
              "    }\n",
              "\n",
              "    [theme=dark] .colab-df-convert {\n",
              "      background-color: #3B4455;\n",
              "      fill: #D2E3FC;\n",
              "    }\n",
              "\n",
              "    [theme=dark] .colab-df-convert:hover {\n",
              "      background-color: #434B5C;\n",
              "      box-shadow: 0px 1px 3px 1px rgba(0, 0, 0, 0.15);\n",
              "      filter: drop-shadow(0px 1px 2px rgba(0, 0, 0, 0.3));\n",
              "      fill: #FFFFFF;\n",
              "    }\n",
              "  </style>\n",
              "\n",
              "    <script>\n",
              "      const buttonEl =\n",
              "        document.querySelector('#df-5fec9e62-2e97-463d-b618-5192136975ea button.colab-df-convert');\n",
              "      buttonEl.style.display =\n",
              "        google.colab.kernel.accessAllowed ? 'block' : 'none';\n",
              "\n",
              "      async function convertToInteractive(key) {\n",
              "        const element = document.querySelector('#df-5fec9e62-2e97-463d-b618-5192136975ea');\n",
              "        const dataTable =\n",
              "          await google.colab.kernel.invokeFunction('convertToInteractive',\n",
              "                                                    [key], {});\n",
              "        if (!dataTable) return;\n",
              "\n",
              "        const docLinkHtml = 'Like what you see? Visit the ' +\n",
              "          '<a target=\"_blank\" href=https://colab.research.google.com/notebooks/data_table.ipynb>data table notebook</a>'\n",
              "          + ' to learn more about interactive tables.';\n",
              "        element.innerHTML = '';\n",
              "        dataTable['output_type'] = 'display_data';\n",
              "        await google.colab.output.renderOutput(dataTable, element);\n",
              "        const docLink = document.createElement('div');\n",
              "        docLink.innerHTML = docLinkHtml;\n",
              "        element.appendChild(docLink);\n",
              "      }\n",
              "    </script>\n",
              "  </div>\n",
              "\n",
              "\n",
              "<div id=\"df-3ef387b8-79f2-4296-ba8d-c17e9c75451b\">\n",
              "  <button class=\"colab-df-quickchart\" onclick=\"quickchart('df-3ef387b8-79f2-4296-ba8d-c17e9c75451b')\"\n",
              "            title=\"Suggest charts\"\n",
              "            style=\"display:none;\">\n",
              "\n",
              "<svg xmlns=\"http://www.w3.org/2000/svg\" height=\"24px\"viewBox=\"0 0 24 24\"\n",
              "     width=\"24px\">\n",
              "    <g>\n",
              "        <path d=\"M19 3H5c-1.1 0-2 .9-2 2v14c0 1.1.9 2 2 2h14c1.1 0 2-.9 2-2V5c0-1.1-.9-2-2-2zM9 17H7v-7h2v7zm4 0h-2V7h2v10zm4 0h-2v-4h2v4z\"/>\n",
              "    </g>\n",
              "</svg>\n",
              "  </button>\n",
              "\n",
              "<style>\n",
              "  .colab-df-quickchart {\n",
              "      --bg-color: #E8F0FE;\n",
              "      --fill-color: #1967D2;\n",
              "      --hover-bg-color: #E2EBFA;\n",
              "      --hover-fill-color: #174EA6;\n",
              "      --disabled-fill-color: #AAA;\n",
              "      --disabled-bg-color: #DDD;\n",
              "  }\n",
              "\n",
              "  [theme=dark] .colab-df-quickchart {\n",
              "      --bg-color: #3B4455;\n",
              "      --fill-color: #D2E3FC;\n",
              "      --hover-bg-color: #434B5C;\n",
              "      --hover-fill-color: #FFFFFF;\n",
              "      --disabled-bg-color: #3B4455;\n",
              "      --disabled-fill-color: #666;\n",
              "  }\n",
              "\n",
              "  .colab-df-quickchart {\n",
              "    background-color: var(--bg-color);\n",
              "    border: none;\n",
              "    border-radius: 50%;\n",
              "    cursor: pointer;\n",
              "    display: none;\n",
              "    fill: var(--fill-color);\n",
              "    height: 32px;\n",
              "    padding: 0;\n",
              "    width: 32px;\n",
              "  }\n",
              "\n",
              "  .colab-df-quickchart:hover {\n",
              "    background-color: var(--hover-bg-color);\n",
              "    box-shadow: 0 1px 2px rgba(60, 64, 67, 0.3), 0 1px 3px 1px rgba(60, 64, 67, 0.15);\n",
              "    fill: var(--button-hover-fill-color);\n",
              "  }\n",
              "\n",
              "  .colab-df-quickchart-complete:disabled,\n",
              "  .colab-df-quickchart-complete:disabled:hover {\n",
              "    background-color: var(--disabled-bg-color);\n",
              "    fill: var(--disabled-fill-color);\n",
              "    box-shadow: none;\n",
              "  }\n",
              "\n",
              "  .colab-df-spinner {\n",
              "    border: 2px solid var(--fill-color);\n",
              "    border-color: transparent;\n",
              "    border-bottom-color: var(--fill-color);\n",
              "    animation:\n",
              "      spin 1s steps(1) infinite;\n",
              "  }\n",
              "\n",
              "  @keyframes spin {\n",
              "    0% {\n",
              "      border-color: transparent;\n",
              "      border-bottom-color: var(--fill-color);\n",
              "      border-left-color: var(--fill-color);\n",
              "    }\n",
              "    20% {\n",
              "      border-color: transparent;\n",
              "      border-left-color: var(--fill-color);\n",
              "      border-top-color: var(--fill-color);\n",
              "    }\n",
              "    30% {\n",
              "      border-color: transparent;\n",
              "      border-left-color: var(--fill-color);\n",
              "      border-top-color: var(--fill-color);\n",
              "      border-right-color: var(--fill-color);\n",
              "    }\n",
              "    40% {\n",
              "      border-color: transparent;\n",
              "      border-right-color: var(--fill-color);\n",
              "      border-top-color: var(--fill-color);\n",
              "    }\n",
              "    60% {\n",
              "      border-color: transparent;\n",
              "      border-right-color: var(--fill-color);\n",
              "    }\n",
              "    80% {\n",
              "      border-color: transparent;\n",
              "      border-right-color: var(--fill-color);\n",
              "      border-bottom-color: var(--fill-color);\n",
              "    }\n",
              "    90% {\n",
              "      border-color: transparent;\n",
              "      border-bottom-color: var(--fill-color);\n",
              "    }\n",
              "  }\n",
              "</style>\n",
              "\n",
              "  <script>\n",
              "    async function quickchart(key) {\n",
              "      const quickchartButtonEl =\n",
              "        document.querySelector('#' + key + ' button');\n",
              "      quickchartButtonEl.disabled = true;  // To prevent multiple clicks.\n",
              "      quickchartButtonEl.classList.add('colab-df-spinner');\n",
              "      try {\n",
              "        const charts = await google.colab.kernel.invokeFunction(\n",
              "            'suggestCharts', [key], {});\n",
              "      } catch (error) {\n",
              "        console.error('Error during call to suggestCharts:', error);\n",
              "      }\n",
              "      quickchartButtonEl.classList.remove('colab-df-spinner');\n",
              "      quickchartButtonEl.classList.add('colab-df-quickchart-complete');\n",
              "    }\n",
              "    (() => {\n",
              "      let quickchartButtonEl =\n",
              "        document.querySelector('#df-3ef387b8-79f2-4296-ba8d-c17e9c75451b button');\n",
              "      quickchartButtonEl.style.display =\n",
              "        google.colab.kernel.accessAllowed ? 'block' : 'none';\n",
              "    })();\n",
              "  </script>\n",
              "</div>\n",
              "    </div>\n",
              "  </div>\n"
            ],
            "text/plain": [
              "        y_true        mse\n",
              "280149       1   0.367846\n",
              "152295       1  16.023194\n",
              "213116       1   1.379615\n",
              "107067       1   0.691816\n",
              "64460        1   2.291332\n",
              "...        ...        ...\n",
              "8615         1   4.388540\n",
              "105178       1   0.018430\n",
              "261473       1   0.588874\n",
              "250761       1   1.543089\n",
              "150665       1   4.072222\n",
              "\n",
              "[98 rows x 2 columns]"
            ]
          },
          "execution_count": 15,
          "metadata": {},
          "output_type": "execute_result"
        }
      ],
      "source": [
        "results[results.y_true==1]"
      ]
    },
    {
      "cell_type": "code",
      "execution_count": 16,
      "metadata": {
        "colab": {
          "base_uri": "https://localhost:8080/",
          "height": 423
        },
        "id": "rTNmv0fAFQiZ",
        "outputId": "be55882a-241c-44a8-d4a1-7ad8c6b4f909"
      },
      "outputs": [
        {
          "data": {
            "text/html": [
              "\n",
              "  <div id=\"df-117f03bb-251a-4326-8020-fc6b1847bad8\" class=\"colab-df-container\">\n",
              "    <div>\n",
              "<style scoped>\n",
              "    .dataframe tbody tr th:only-of-type {\n",
              "        vertical-align: middle;\n",
              "    }\n",
              "\n",
              "    .dataframe tbody tr th {\n",
              "        vertical-align: top;\n",
              "    }\n",
              "\n",
              "    .dataframe thead th {\n",
              "        text-align: right;\n",
              "    }\n",
              "</style>\n",
              "<table border=\"1\" class=\"dataframe\">\n",
              "  <thead>\n",
              "    <tr style=\"text-align: right;\">\n",
              "      <th></th>\n",
              "      <th>y_true</th>\n",
              "      <th>mse</th>\n",
              "    </tr>\n",
              "  </thead>\n",
              "  <tbody>\n",
              "    <tr>\n",
              "      <th>87798</th>\n",
              "      <td>0</td>\n",
              "      <td>0.004060</td>\n",
              "    </tr>\n",
              "    <tr>\n",
              "      <th>129690</th>\n",
              "      <td>0</td>\n",
              "      <td>0.006625</td>\n",
              "    </tr>\n",
              "    <tr>\n",
              "      <th>94037</th>\n",
              "      <td>0</td>\n",
              "      <td>0.019199</td>\n",
              "    </tr>\n",
              "    <tr>\n",
              "      <th>240271</th>\n",
              "      <td>0</td>\n",
              "      <td>0.003994</td>\n",
              "    </tr>\n",
              "    <tr>\n",
              "      <th>282300</th>\n",
              "      <td>0</td>\n",
              "      <td>0.003621</td>\n",
              "    </tr>\n",
              "    <tr>\n",
              "      <th>...</th>\n",
              "      <td>...</td>\n",
              "      <td>...</td>\n",
              "    </tr>\n",
              "    <tr>\n",
              "      <th>71938</th>\n",
              "      <td>0</td>\n",
              "      <td>0.041963</td>\n",
              "    </tr>\n",
              "    <tr>\n",
              "      <th>146398</th>\n",
              "      <td>0</td>\n",
              "      <td>0.180648</td>\n",
              "    </tr>\n",
              "    <tr>\n",
              "      <th>12254</th>\n",
              "      <td>0</td>\n",
              "      <td>0.007172</td>\n",
              "    </tr>\n",
              "    <tr>\n",
              "      <th>113628</th>\n",
              "      <td>0</td>\n",
              "      <td>0.001836</td>\n",
              "    </tr>\n",
              "    <tr>\n",
              "      <th>148457</th>\n",
              "      <td>0</td>\n",
              "      <td>0.010644</td>\n",
              "    </tr>\n",
              "  </tbody>\n",
              "</table>\n",
              "<p>56864 rows × 2 columns</p>\n",
              "</div>\n",
              "    <div class=\"colab-df-buttons\">\n",
              "\n",
              "  <div class=\"colab-df-container\">\n",
              "    <button class=\"colab-df-convert\" onclick=\"convertToInteractive('df-117f03bb-251a-4326-8020-fc6b1847bad8')\"\n",
              "            title=\"Convert this dataframe to an interactive table.\"\n",
              "            style=\"display:none;\">\n",
              "\n",
              "  <svg xmlns=\"http://www.w3.org/2000/svg\" height=\"24px\" viewBox=\"0 -960 960 960\">\n",
              "    <path d=\"M120-120v-720h720v720H120Zm60-500h600v-160H180v160Zm220 220h160v-160H400v160Zm0 220h160v-160H400v160ZM180-400h160v-160H180v160Zm440 0h160v-160H620v160ZM180-180h160v-160H180v160Zm440 0h160v-160H620v160Z\"/>\n",
              "  </svg>\n",
              "    </button>\n",
              "\n",
              "  <style>\n",
              "    .colab-df-container {\n",
              "      display:flex;\n",
              "      gap: 12px;\n",
              "    }\n",
              "\n",
              "    .colab-df-convert {\n",
              "      background-color: #E8F0FE;\n",
              "      border: none;\n",
              "      border-radius: 50%;\n",
              "      cursor: pointer;\n",
              "      display: none;\n",
              "      fill: #1967D2;\n",
              "      height: 32px;\n",
              "      padding: 0 0 0 0;\n",
              "      width: 32px;\n",
              "    }\n",
              "\n",
              "    .colab-df-convert:hover {\n",
              "      background-color: #E2EBFA;\n",
              "      box-shadow: 0px 1px 2px rgba(60, 64, 67, 0.3), 0px 1px 3px 1px rgba(60, 64, 67, 0.15);\n",
              "      fill: #174EA6;\n",
              "    }\n",
              "\n",
              "    .colab-df-buttons div {\n",
              "      margin-bottom: 4px;\n",
              "    }\n",
              "\n",
              "    [theme=dark] .colab-df-convert {\n",
              "      background-color: #3B4455;\n",
              "      fill: #D2E3FC;\n",
              "    }\n",
              "\n",
              "    [theme=dark] .colab-df-convert:hover {\n",
              "      background-color: #434B5C;\n",
              "      box-shadow: 0px 1px 3px 1px rgba(0, 0, 0, 0.15);\n",
              "      filter: drop-shadow(0px 1px 2px rgba(0, 0, 0, 0.3));\n",
              "      fill: #FFFFFF;\n",
              "    }\n",
              "  </style>\n",
              "\n",
              "    <script>\n",
              "      const buttonEl =\n",
              "        document.querySelector('#df-117f03bb-251a-4326-8020-fc6b1847bad8 button.colab-df-convert');\n",
              "      buttonEl.style.display =\n",
              "        google.colab.kernel.accessAllowed ? 'block' : 'none';\n",
              "\n",
              "      async function convertToInteractive(key) {\n",
              "        const element = document.querySelector('#df-117f03bb-251a-4326-8020-fc6b1847bad8');\n",
              "        const dataTable =\n",
              "          await google.colab.kernel.invokeFunction('convertToInteractive',\n",
              "                                                    [key], {});\n",
              "        if (!dataTable) return;\n",
              "\n",
              "        const docLinkHtml = 'Like what you see? Visit the ' +\n",
              "          '<a target=\"_blank\" href=https://colab.research.google.com/notebooks/data_table.ipynb>data table notebook</a>'\n",
              "          + ' to learn more about interactive tables.';\n",
              "        element.innerHTML = '';\n",
              "        dataTable['output_type'] = 'display_data';\n",
              "        await google.colab.output.renderOutput(dataTable, element);\n",
              "        const docLink = document.createElement('div');\n",
              "        docLink.innerHTML = docLinkHtml;\n",
              "        element.appendChild(docLink);\n",
              "      }\n",
              "    </script>\n",
              "  </div>\n",
              "\n",
              "\n",
              "<div id=\"df-c2c2998b-4ae0-46cf-85dd-026b274b063c\">\n",
              "  <button class=\"colab-df-quickchart\" onclick=\"quickchart('df-c2c2998b-4ae0-46cf-85dd-026b274b063c')\"\n",
              "            title=\"Suggest charts\"\n",
              "            style=\"display:none;\">\n",
              "\n",
              "<svg xmlns=\"http://www.w3.org/2000/svg\" height=\"24px\"viewBox=\"0 0 24 24\"\n",
              "     width=\"24px\">\n",
              "    <g>\n",
              "        <path d=\"M19 3H5c-1.1 0-2 .9-2 2v14c0 1.1.9 2 2 2h14c1.1 0 2-.9 2-2V5c0-1.1-.9-2-2-2zM9 17H7v-7h2v7zm4 0h-2V7h2v10zm4 0h-2v-4h2v4z\"/>\n",
              "    </g>\n",
              "</svg>\n",
              "  </button>\n",
              "\n",
              "<style>\n",
              "  .colab-df-quickchart {\n",
              "      --bg-color: #E8F0FE;\n",
              "      --fill-color: #1967D2;\n",
              "      --hover-bg-color: #E2EBFA;\n",
              "      --hover-fill-color: #174EA6;\n",
              "      --disabled-fill-color: #AAA;\n",
              "      --disabled-bg-color: #DDD;\n",
              "  }\n",
              "\n",
              "  [theme=dark] .colab-df-quickchart {\n",
              "      --bg-color: #3B4455;\n",
              "      --fill-color: #D2E3FC;\n",
              "      --hover-bg-color: #434B5C;\n",
              "      --hover-fill-color: #FFFFFF;\n",
              "      --disabled-bg-color: #3B4455;\n",
              "      --disabled-fill-color: #666;\n",
              "  }\n",
              "\n",
              "  .colab-df-quickchart {\n",
              "    background-color: var(--bg-color);\n",
              "    border: none;\n",
              "    border-radius: 50%;\n",
              "    cursor: pointer;\n",
              "    display: none;\n",
              "    fill: var(--fill-color);\n",
              "    height: 32px;\n",
              "    padding: 0;\n",
              "    width: 32px;\n",
              "  }\n",
              "\n",
              "  .colab-df-quickchart:hover {\n",
              "    background-color: var(--hover-bg-color);\n",
              "    box-shadow: 0 1px 2px rgba(60, 64, 67, 0.3), 0 1px 3px 1px rgba(60, 64, 67, 0.15);\n",
              "    fill: var(--button-hover-fill-color);\n",
              "  }\n",
              "\n",
              "  .colab-df-quickchart-complete:disabled,\n",
              "  .colab-df-quickchart-complete:disabled:hover {\n",
              "    background-color: var(--disabled-bg-color);\n",
              "    fill: var(--disabled-fill-color);\n",
              "    box-shadow: none;\n",
              "  }\n",
              "\n",
              "  .colab-df-spinner {\n",
              "    border: 2px solid var(--fill-color);\n",
              "    border-color: transparent;\n",
              "    border-bottom-color: var(--fill-color);\n",
              "    animation:\n",
              "      spin 1s steps(1) infinite;\n",
              "  }\n",
              "\n",
              "  @keyframes spin {\n",
              "    0% {\n",
              "      border-color: transparent;\n",
              "      border-bottom-color: var(--fill-color);\n",
              "      border-left-color: var(--fill-color);\n",
              "    }\n",
              "    20% {\n",
              "      border-color: transparent;\n",
              "      border-left-color: var(--fill-color);\n",
              "      border-top-color: var(--fill-color);\n",
              "    }\n",
              "    30% {\n",
              "      border-color: transparent;\n",
              "      border-left-color: var(--fill-color);\n",
              "      border-top-color: var(--fill-color);\n",
              "      border-right-color: var(--fill-color);\n",
              "    }\n",
              "    40% {\n",
              "      border-color: transparent;\n",
              "      border-right-color: var(--fill-color);\n",
              "      border-top-color: var(--fill-color);\n",
              "    }\n",
              "    60% {\n",
              "      border-color: transparent;\n",
              "      border-right-color: var(--fill-color);\n",
              "    }\n",
              "    80% {\n",
              "      border-color: transparent;\n",
              "      border-right-color: var(--fill-color);\n",
              "      border-bottom-color: var(--fill-color);\n",
              "    }\n",
              "    90% {\n",
              "      border-color: transparent;\n",
              "      border-bottom-color: var(--fill-color);\n",
              "    }\n",
              "  }\n",
              "</style>\n",
              "\n",
              "  <script>\n",
              "    async function quickchart(key) {\n",
              "      const quickchartButtonEl =\n",
              "        document.querySelector('#' + key + ' button');\n",
              "      quickchartButtonEl.disabled = true;  // To prevent multiple clicks.\n",
              "      quickchartButtonEl.classList.add('colab-df-spinner');\n",
              "      try {\n",
              "        const charts = await google.colab.kernel.invokeFunction(\n",
              "            'suggestCharts', [key], {});\n",
              "      } catch (error) {\n",
              "        console.error('Error during call to suggestCharts:', error);\n",
              "      }\n",
              "      quickchartButtonEl.classList.remove('colab-df-spinner');\n",
              "      quickchartButtonEl.classList.add('colab-df-quickchart-complete');\n",
              "    }\n",
              "    (() => {\n",
              "      let quickchartButtonEl =\n",
              "        document.querySelector('#df-c2c2998b-4ae0-46cf-85dd-026b274b063c button');\n",
              "      quickchartButtonEl.style.display =\n",
              "        google.colab.kernel.accessAllowed ? 'block' : 'none';\n",
              "    })();\n",
              "  </script>\n",
              "</div>\n",
              "    </div>\n",
              "  </div>\n"
            ],
            "text/plain": [
              "        y_true       mse\n",
              "87798        0  0.004060\n",
              "129690       0  0.006625\n",
              "94037        0  0.019199\n",
              "240271       0  0.003994\n",
              "282300       0  0.003621\n",
              "...        ...       ...\n",
              "71938        0  0.041963\n",
              "146398       0  0.180648\n",
              "12254        0  0.007172\n",
              "113628       0  0.001836\n",
              "148457       0  0.010644\n",
              "\n",
              "[56864 rows x 2 columns]"
            ]
          },
          "execution_count": 16,
          "metadata": {},
          "output_type": "execute_result"
        }
      ],
      "source": [
        "results[results.y_true==0]"
      ]
    },
    {
      "cell_type": "code",
      "execution_count": 17,
      "metadata": {
        "colab": {
          "base_uri": "https://localhost:8080/"
        },
        "id": "ctAAVnAGJTA6",
        "outputId": "342f968d-342d-48c3-d0b3-d79fdbece568"
      },
      "outputs": [
        {
          "name": "stdout",
          "output_type": "stream",
          "text": [
            "mse of non-fraudulent transactions varies between 0.0007394853354048775 and 31.5326656808972\n",
            "\t on average, the mse of non-fraudulent transactions is: 0.02122228979075794\n",
            "\n",
            " mse of fraudulent transactions varies between 0.003742128110678999 and 35.76995683294918\n",
            "\t on average, the mse of non-fraudulent transactions is: 2.971960987390109\n"
          ]
        }
      ],
      "source": [
        "print(\"mse of non-fraudulent transactions varies between\", results[results.y_true==0].mse.min(), \"and\",  results[results.y_true==0].mse.max() )\n",
        "print(\"\\t on average, the mse of non-fraudulent transactions is:\", results[results.y_true==0].mse.mean())\n",
        "\n",
        "print(\"\\n mse of fraudulent transactions varies between\", results[results.y_true==1].mse.min(), \"and\",  results[results.y_true==1].mse.max() )\n",
        "print(\"\\t on average, the mse of non-fraudulent transactions is:\", results[results.y_true==1].mse.mean())"
      ]
    },
    {
      "cell_type": "markdown",
      "metadata": {
        "id": "jydV3mqwJkJO"
      },
      "source": [
        "It seems we have few outlier values, we will plot the distribution."
      ]
    },
    {
      "cell_type": "code",
      "execution_count": 18,
      "metadata": {
        "colab": {
          "base_uri": "https://localhost:8080/",
          "height": 466
        },
        "id": "F_OW1wI6gIOH",
        "outputId": "0518808e-908e-41e1-c623-3db75fd64fe2"
      },
      "outputs": [
        {
          "data": {
            "text/plain": [
              "<Axes: xlabel='y_true', ylabel='mse'>"
            ]
          },
          "execution_count": 18,
          "metadata": {},
          "output_type": "execute_result"
        },
        {
          "data": {
            "image/png": "[encoded data removed]",
            "text/plain": [
              "<Figure size 640x480 with 1 Axes>"
            ]
          },
          "metadata": {},
          "output_type": "display_data"
        }
      ],
      "source": [
        "sns.boxplot(data=results[results.y_true==1], y=\"mse\", x=\"y_true\")"
      ]
    },
    {
      "cell_type": "code",
      "execution_count": 19,
      "metadata": {
        "colab": {
          "base_uri": "https://localhost:8080/",
          "height": 466
        },
        "id": "cJXvKdjkgcZ7",
        "outputId": "83f9ceb1-28b8-4f81-a73c-dcbd3389f79e"
      },
      "outputs": [
        {
          "data": {
            "text/plain": [
              "<Axes: xlabel='y_true', ylabel='mse'>"
            ]
          },
          "execution_count": 19,
          "metadata": {},
          "output_type": "execute_result"
        },
        {
          "data": {
            "image/png": "[encoded data removed]",
            "text/plain": [
              "<Figure size 640x480 with 1 Axes>"
            ]
          },
          "metadata": {},
          "output_type": "display_data"
        }
      ],
      "source": [
        "sns.boxplot(data=results[results.y_true==0], y=\"mse\", x=\"y_true\")"
      ]
    },
    {
      "cell_type": "code",
      "execution_count": 20,
      "metadata": {
        "colab": {
          "base_uri": "https://localhost:8080/"
        },
        "id": "gyp_wOJbkCDu",
        "outputId": "5152f600-e9c9-4e47-abad-4fabe77cdba6"
      },
      "outputs": [
        {
          "data": {
            "text/plain": [
              "(0.007770371879725907, 1.4323434804949728, 0.003742128110678999)"
            ]
          },
          "execution_count": 20,
          "metadata": {},
          "output_type": "execute_result"
        }
      ],
      "source": [
        "results[results.y_true==0].mse.quantile(0.5), results[results.y_true==1].mse.quantile(0.5), results[results.y_true==1].mse.min()"
      ]
    },
    {
      "cell_type": "code",
      "execution_count": 21,
      "metadata": {
        "colab": {
          "base_uri": "https://localhost:8080/"
        },
        "id": "rKl01H1Wvggt",
        "outputId": "9b6f38b0-2f8a-4a10-b28b-3af4805a24f6"
      },
      "outputs": [
        {
          "data": {
            "text/plain": [
              "(0.004427338086624714, 0.5899946247569994)"
            ]
          },
          "execution_count": 21,
          "metadata": {},
          "output_type": "execute_result"
        }
      ],
      "source": [
        "results[results.y_true==0].mse.quantile(0.25), results[results.y_true==1].mse.quantile(0.25)"
      ]
    },
    {
      "cell_type": "markdown",
      "metadata": {
        "id": "-UmexBQRglDw"
      },
      "source": [
        "The boxplot of the non-fraudulent class shows that the median mse value is 0.022 and some data points are outliers, i.e., they have been miscalssified as fraudulent (mse >>1) when they are not.\n",
        "\n",
        "On the other hand, the median mse for fraudulent transactions is 4.8, with some outliers, i.e., fraudulent transacations miscalssified as non-fraudulent; the min mse on a fraudulent transaction is 0.0099<0.022.\n",
        "\n",
        "In order to transform that back to a classification, we need to find a threshold of mse such that any transaction < threshold is non-fraudulent, otherwise fraudulent.\n",
        "\n",
        "we want this threshold to give us the highest recall on the fraud class while keeping a decent precision, i.e., we want to predict all fraudulent transactions and we do not mind some of the non-fraudulent transactions getting misclassified.\n",
        "\n",
        "For that, we will set this threshold to the mse median value of the fraudulent class: `results[results.y_true==1].mse.quantile(25)`."
      ]
    },
    {
      "cell_type": "code",
      "execution_count": 22,
      "metadata": {
        "colab": {
          "base_uri": "https://localhost:8080/"
        },
        "id": "OXMm0Zujl9M-",
        "outputId": "7546cc18-b976-4e66-dbb4-c97978ab2fdf"
      },
      "outputs": [
        {
          "data": {
            "text/plain": [
              "0.012468501684925876"
            ]
          },
          "execution_count": 22,
          "metadata": {},
          "output_type": "execute_result"
        }
      ],
      "source": [
        "results[results.y_true==1].mse.quantile(0.05)"
      ]
    },
    {
      "cell_type": "code",
      "execution_count": 23,
      "metadata": {
        "colab": {
          "base_uri": "https://localhost:8080/",
          "height": 529
        },
        "id": "e5qViiaeIenD",
        "outputId": "eabff8cc-70e0-4508-9e25-5e62614d1b63"
      },
      "outputs": [
        {
          "data": {
            "text/plain": [
              "(0.0, 15.0)"
            ]
          },
          "execution_count": 23,
          "metadata": {},
          "output_type": "execute_result"
        },
        {
          "data": {
            "text/plain": [
              "<Figure size 800x600 with 0 Axes>"
            ]
          },
          "metadata": {},
          "output_type": "display_data"
        },
        {
          "data": {
            "image/png": "[encoded data removed]",
            "text/plain": [
              "<Figure size 582.375x500 with 1 Axes>"
            ]
          },
          "metadata": {},
          "output_type": "display_data"
        }
      ],
      "source": [
        "import matplotlib.pyplot as plt\n",
        "\n",
        "plt.rc('font', size=14)\n",
        "plt.rc('axes', labelsize=14, titlesize=14)\n",
        "plt.rc('legend', fontsize=14)\n",
        "plt.rc('xtick', labelsize=10)\n",
        "plt.rc('ytick', labelsize=10)\n",
        "plt.figure(figsize=(8, 6))\n",
        "\n",
        "sns.displot(x=results[results.y_true==1].mse, hue=results[results.y_true==1].y_true)\n",
        "plt.xlim(0,15)"
      ]
    },
    {
      "cell_type": "code",
      "execution_count": 24,
      "metadata": {
        "colab": {
          "base_uri": "https://localhost:8080/",
          "height": 511
        },
        "id": "z0kDt_vDSc_Q",
        "outputId": "d9871ca7-f447-43dc-86e7-45b220f132b1"
      },
      "outputs": [
        {
          "data": {
            "text/plain": [
              "(0.0, 1.0)"
            ]
          },
          "execution_count": 24,
          "metadata": {},
          "output_type": "execute_result"
        },
        {
          "data": {
            "image/png": "[encoded data removed]",
            "text/plain": [
              "<Figure size 582.25x500 with 1 Axes>"
            ]
          },
          "metadata": {},
          "output_type": "display_data"
        }
      ],
      "source": [
        "sns.displot(x=results[results.y_true==0].mse, hue=results[results.y_true==0].y_true)\n",
        "plt.xlim(0,1)"
      ]
    },
    {
      "cell_type": "code",
      "execution_count": 48,
      "metadata": {
        "id": "DVa8_BPQWDcl"
      },
      "outputs": [],
      "source": [
        "# 100% sensitivity (no false negatives) and 100% specificity (no false positives)\n",
        "from sklearn.metrics import confusion_matrix\n",
        "thresholds = np.arange(0,2,0.01)\n",
        "true_positive_rates = []\n",
        "false_positive_rates = []\n",
        "for thresh in thresholds:\n",
        "  y_pred =results.mse.apply(lambda x: 0 if x<=thresh else 1)\n",
        "  tn, fp, fn, tp = confusion_matrix(results['y_true'], y_pred).ravel()\n",
        "  tpr = tp/(tp+fn) # true positive rate TPR = TP/(TP+FN) or recall/sensitivity\n",
        "  true_positive_rates.append(tpr)\n",
        "  fpr = fp/(fp+tn) # false positive rate, FPR = FP/(FP+TN) or specificity\n",
        "  false_positive_rates.append(fpr)"
      ]
    },
    {
      "cell_type": "code",
      "execution_count": 50,
      "metadata": {
        "colab": {
          "base_uri": "https://localhost:8080/",
          "height": 472
        },
        "id": "NGQbBkceYMGs",
        "outputId": "033f6d31-bfb7-4b34-bc89-1b8203581efa"
      },
      "outputs": [
        {
          "data": {
            "text/plain": [
              "(0.0, 0.025)"
            ]
          },
          "execution_count": 50,
          "metadata": {},
          "output_type": "execute_result"
        },
        {
          "data": {
            "image/png": "[encoded data removed]",
            "text/plain": [
              "<Figure size 640x480 with 1 Axes>"
            ]
          },
          "metadata": {},
          "output_type": "display_data"
        }
      ],
      "source": [
        "plt.plot(false_positive_rates, true_positive_rates)\n",
        "plt.xlabel('false_positive_rates')\n",
        "plt.ylabel('true_positive_rates')\n",
        "plt.xlim(0, 0.025)\n",
        "# plt.ylim(0, 1)"
      ]
    },
    {
      "cell_type": "markdown",
      "metadata": {
        "id": "vyd3qBK8jcCQ"
      },
      "source": [
        "threshold is the value for which fpr = 0.00552195 and tpr=0.83673469 i.e., thresh = 0.31.\n"
      ]
    },
    {
      "cell_type": "code",
      "execution_count": 68,
      "metadata": {
        "colab": {
          "base_uri": "https://localhost:8080/"
        },
        "id": "7rCLAKDihhHz",
        "outputId": "22079d93-a4cd-4d8a-c8e8-96c440be3d87"
      },
      "outputs": [
        {
          "data": {
            "text/plain": [
              "array([0.31])"
            ]
          },
          "execution_count": 68,
          "metadata": {},
          "output_type": "execute_result"
        }
      ],
      "source": [
        "true_positive_rates = np.array(true_positive_rates)\n",
        "false_positive_rates = np.array(false_positive_rates)\n",
        "false_positive_rates[(false_positive_rates<=0.00552195) & (false_positive_rates>=0.0054)]\n",
        "true_positive_rates[(false_positive_rates<=0.00552195) & (false_positive_rates>=0.0054)]\n",
        "thresholds[(false_positive_rates<=0.00552195) & (false_positive_rates>=0.0054)]"
      ]
    },
    {
      "cell_type": "code",
      "execution_count": 69,
      "metadata": {
        "colab": {
          "base_uri": "https://localhost:8080/"
        },
        "id": "98xeCXj2WiWj",
        "outputId": "d007968b-b41e-48a2-dcd6-803a717be853"
      },
      "outputs": [
        {
          "name": "stdout",
          "output_type": "stream",
          "text": [
            "thresh 0.31\n"
          ]
        }
      ],
      "source": [
        "thresh = 0.31 #results[results.y_true==1].mse.quantile(0.15)\n",
        "print(\"thresh\", thresh)\n",
        "results['y_pred'] = results.mse.apply(lambda x: 0 if x<=thresh else 1)"
      ]
    },
    {
      "cell_type": "code",
      "execution_count": 70,
      "metadata": {
        "colab": {
          "base_uri": "https://localhost:8080/"
        },
        "id": "a-OTzhm1mXdu",
        "outputId": "29bbb495-f161-408f-bace-5c006e2cc46a"
      },
      "outputs": [
        {
          "name": "stdout",
          "output_type": "stream",
          "text": [
            "              precision    recall  f1-score   support\n",
            "\n",
            "           0       1.00      0.99      1.00     56864\n",
            "           1       0.21      0.84      0.33        98\n",
            "\n",
            "    accuracy                           0.99     56962\n",
            "   macro avg       0.60      0.92      0.66     56962\n",
            "weighted avg       1.00      0.99      1.00     56962\n",
            "\n"
          ]
        }
      ],
      "source": [
        "# let us compute the test accuracy\n",
        "print(classification_report( results['y_true'], results['y_pred']))"
      ]
    },
    {
      "cell_type": "code",
      "execution_count": 71,
      "metadata": {
        "id": "uURBEcA1kcBX"
      },
      "outputs": [],
      "source": [
        "# Now if we use the precision recall curve, we will end up with the same result as above\n",
        "from sklearn.metrics import recall_score, precision_score\n",
        "thresholds = np.arange(0,2,0.01)\n",
        "recalls = []\n",
        "precisions = []\n",
        "for thresh in thresholds:\n",
        "  y_pred =results.mse.apply(lambda x: 0 if x<=thresh else 1)\n",
        "  recall = recall_score(results['y_true'], y_pred)\n",
        "  precision = precision_score(results['y_true'], y_pred)\n",
        "  recalls.append(recall)\n",
        "  precisions.append(precision)"
      ]
    },
    {
      "cell_type": "code",
      "execution_count": 72,
      "metadata": {
        "colab": {
          "base_uri": "https://localhost:8080/",
          "height": 471
        },
        "id": "c2TyymLUk9JB",
        "outputId": "a93ea43d-0467-482f-c903-7e396f08fbd5"
      },
      "outputs": [
        {
          "data": {
            "text/plain": [
              "Text(0, 0.5, 'precisions')"
            ]
          },
          "execution_count": 72,
          "metadata": {},
          "output_type": "execute_result"
        },
        {
          "data": {
            "image/png": "[encoded data removed]",
            "text/plain": [
              "<Figure size 640x480 with 1 Axes>"
            ]
          },
          "metadata": {},
          "output_type": "display_data"
        }
      ],
      "source": [
        "plt.plot(recalls, precisions)\n",
        "plt.xlabel('recalls')\n",
        "plt.ylabel('precisions')\n",
        "# plt.xlim(0, 0.025)\n",
        "# plt.ylim(0, 1)"
      ]
    },
    {
      "cell_type": "code",
      "execution_count": 73,
      "metadata": {
        "id": "_HSaXMmKw3sP"
      },
      "outputs": [],
      "source": [
        "from sklearn.preprocessing import MinMaxScaler\n",
        "scaler = MinMaxScaler()\n",
        "X_train_majority_class_scaled = scaler.fit_transform(X_train_majority_class)\n",
        "X_val_majority_class_scaled = scaler.transform(X_val_majority_class)\n",
        "# in this case the last activation function is sigmoid because all the values are between 0 and 1"
      ]
    },
    {
      "cell_type": "code",
      "execution_count": 76,
      "metadata": {
        "colab": {
          "base_uri": "https://localhost:8080/"
        },
        "id": "_HEipaWSlVLa",
        "outputId": "bf495e19-5af9-4048-82ac-e28b47dc4008"
      },
      "outputs": [
        {
          "data": {
            "text/plain": [
              "(0.0, 1.0000000000000002)"
            ]
          },
          "execution_count": 76,
          "metadata": {},
          "output_type": "execute_result"
        }
      ],
      "source": [
        "X_train_majority_class_scaled.min(), X_train_majority_class_scaled.max()"
      ]
    },
    {
      "cell_type": "code",
      "execution_count": 79,
      "metadata": {
        "colab": {
          "base_uri": "https://localhost:8080/"
        },
        "id": "Mc4J4-DZlW3v",
        "outputId": "166e5320-fab7-4542-f7e6-c3a9bf7a41f0"
      },
      "outputs": [
        {
          "name": "stdout",
          "output_type": "stream",
          "text": [
            "Epoch 1/5\n",
            "5308/5308 [==============================] - 549s 103ms/step - loss: 0.0011 - mean_squared_error: 0.0011 - val_loss: 1.1472e-04 - val_mean_squared_error: 1.1472e-04\n",
            "Epoch 2/5\n",
            "5308/5308 [==============================] - 454s 86ms/step - loss: 2.3742e-04 - mean_squared_error: 2.3742e-04 - val_loss: 7.3916e-05 - val_mean_squared_error: 7.3916e-05\n",
            "Epoch 3/5\n",
            "5308/5308 [==============================] - 455s 86ms/step - loss: 1.7996e-04 - mean_squared_error: 1.7996e-04 - val_loss: 7.6715e-05 - val_mean_squared_error: 7.6715e-05\n",
            "Epoch 4/5\n",
            "5308/5308 [==============================] - 456s 86ms/step - loss: 1.5681e-04 - mean_squared_error: 1.5681e-04 - val_loss: 6.2443e-05 - val_mean_squared_error: 6.2443e-05\n",
            "Epoch 5/5\n",
            "5308/5308 [==============================] - 470s 89ms/step - loss: 1.4213e-04 - mean_squared_error: 1.4213e-04 - val_loss: 4.5355e-05 - val_mean_squared_error: 4.5355e-05\n"
          ]
        },
        {
          "data": {
            "text/plain": [
              "<keras.src.callbacks.History at 0x7c43ebe71ff0>"
            ]
          },
          "execution_count": 79,
          "metadata": {},
          "output_type": "execute_result"
        }
      ],
      "source": [
        "opt = optimizers.Adam(learning_rate=0.0001)\n",
        "input_dim = X_train_majority_class.shape[1]\n",
        "nn_model = Sequential()\n",
        "nn_model.add(Dense(256, activation='relu'))\n",
        "nn_model.add(Dense(512, activation='relu'))\n",
        "nn_model.add(Dense(1024, activation='relu'))\n",
        "nn_model.add(Dropout(0.1))\n",
        "nn_model.add(Dense(2048, activation='relu'))\n",
        "nn_model.add(Dense(1024, activation='relu'))\n",
        "nn_model.add(Dropout(0.1))\n",
        "nn_model.add(Dense(512, activation='relu'))\n",
        "nn_model.add(Dense(256, activation='relu'))\n",
        "nn_model.add(Dropout(0.1))\n",
        "nn_model.add(Dense(input_dim, activation='sigmoid'))\n",
        "\n",
        "nn_model.compile(loss='mse',\n",
        "              optimizer=opt,\n",
        "              metrics=[tf.keras.metrics.MeanSquaredError()])\n",
        "#Train the model. Tune to validation set.\n",
        "nn_model.fit(X_train_majority_class_scaled, X_train_majority_class_scaled,\n",
        "          batch_size=30,\n",
        "          epochs=5, validation_data=(X_val_majority_class_scaled, X_val_majority_class_scaled))"
      ]
    },
    {
      "cell_type": "code",
      "execution_count": 80,
      "metadata": {
        "colab": {
          "base_uri": "https://localhost:8080/"
        },
        "id": "3_dWUKohlmwm",
        "outputId": "ab76624d-76d5-42f9-d73b-d74dee2edc64"
      },
      "outputs": [
        {
          "name": "stdout",
          "output_type": "stream",
          "text": [
            "2133/2133 [==============================] - 31s 14ms/step\n",
            "on NON-Fraudulent class, MSE : tf.Tensor(4.5354525e-05, shape=(), dtype=float32)\n",
            "13/13 [==============================] - 0s 13ms/step\n",
            "on Fraudulent class, MSE on scaled data: tf.Tensor(7.311072e-05, shape=(), dtype=float32)\n",
            "on Fraudulent class, MSE on original data: tf.Tensor(0.05717313, shape=(), dtype=float32)\n"
          ]
        }
      ],
      "source": [
        "mse = tf.keras.metrics.MeanSquaredError()\n",
        "# Evaluate on the majority class (non-fraudulent); i will use the validation set:\n",
        "print(\"on NON-Fraudulent class, MSE :\",mse(nn_model.predict(X_val_majority_class_scaled), X_val_majority_class_scaled))\n",
        "# Evaluate on the minority class (fraudulent):\n",
        "X_train_minority_class_scaled = scaler.transform(X_train_minority_class)\n",
        "reconstructed_samples = nn_model.predict(X_train_minority_class_scaled)\n",
        "print(\"on Fraudulent class, MSE on scaled data:\", mse(reconstructed_samples, X_train_minority_class_scaled))\n",
        "reconstructed_samples_ = scaler.inverse_transform(reconstructed_samples)\n",
        "print(\"on Fraudulent class, MSE on original data:\", mse(reconstructed_samples_, X_train_minority_class))"
      ]
    },
    {
      "cell_type": "code",
      "execution_count": 81,
      "metadata": {
        "colab": {
          "base_uri": "https://localhost:8080/"
        },
        "id": "wHvZ3JXNmscU",
        "outputId": "bfe6100e-4c21-43db-fe22-6a742b93f149"
      },
      "outputs": [
        {
          "name": "stdout",
          "output_type": "stream",
          "text": [
            "1781/1781 [==============================] - 28s 16ms/step\n"
          ]
        }
      ],
      "source": [
        "# Evaluate on the test set; it contains instances from the minority class (fraudulent) and majority one (non-fraudulent):\n",
        "X_test_scaled = scaler.transform(X_test)\n",
        "reconstructed_test_samples = nn_model.predict(X_test_scaled)\n",
        "error = ((reconstructed_test_samples-X_test_scaled)**2).mean(axis=1)\n",
        "\n",
        "results = pd.DataFrame(data = {'y_true': y_test, 'mse':error})"
      ]
    },
    {
      "cell_type": "code",
      "execution_count": 82,
      "metadata": {
        "colab": {
          "base_uri": "https://localhost:8080/",
          "height": 1000
        },
        "id": "O45EVclYnD6B",
        "outputId": "9641395e-1891-44fa-a45a-05909ff52612"
      },
      "outputs": [
        {
          "data": {
            "text/plain": [
              "<seaborn.axisgrid.FacetGrid at 0x7c43c903e260>"
            ]
          },
          "execution_count": 82,
          "metadata": {},
          "output_type": "execute_result"
        },
        {
          "data": {
            "image/png": "[encoded data removed]",
            "text/plain": [
              "<Figure size 640x480 with 2 Axes>"
            ]
          },
          "metadata": {},
          "output_type": "display_data"
        },
        {
          "data": {
            "image/png": "[encoded data removed]",
            "text/plain": [
              "<Figure size 582.25x500 with 1 Axes>"
            ]
          },
          "metadata": {},
          "output_type": "display_data"
        },
        {
          "data": {
            "image/png": "[encoded data removed]",
            "text/plain": [
              "<Figure size 582.375x500 with 1 Axes>"
            ]
          },
          "metadata": {},
          "output_type": "display_data"
        }
      ],
      "source": [
        "fig, ax = plt.subplots(nrows=1, ncols=2)\n",
        "sns.displot(x=results[results.y_true==0].mse, hue=results[results.y_true==0].y_true, ax=ax[0])\n",
        "# ax[0].set_xlim(0,1)\n",
        "sns.displot(x=results[results.y_true==1].mse, hue=results[results.y_true==1].y_true, ax=ax[1])\n",
        "# ax[1].set_xlim(0,1)"
      ]
    },
    {
      "cell_type": "code",
      "execution_count": 83,
      "metadata": {
        "id": "bsYqTdm8wy0H"
      },
      "outputs": [],
      "source": [
        "# Now if we use the precision recall curve, we will end up with the same result as above\n",
        "from sklearn.metrics import recall_score, precision_score\n",
        "thresholds = np.arange(0,0.02,0.001)\n",
        "recalls = []\n",
        "precisions = []\n",
        "for thresh in thresholds:\n",
        "  y_pred =results.mse.apply(lambda x: 0 if x<=thresh else 1)\n",
        "  recall = recall_score(results['y_true'], y_pred)\n",
        "  precision = precision_score(results['y_true'], y_pred)\n",
        "  recalls.append(recall)\n",
        "  precisions.append(precision)"
      ]
    },
    {
      "cell_type": "code",
      "execution_count": 84,
      "metadata": {
        "colab": {
          "base_uri": "https://localhost:8080/",
          "height": 471
        },
        "id": "3L5HczLVxIZ3",
        "outputId": "af1a54b3-1940-4886-f788-3a1999833d32"
      },
      "outputs": [
        {
          "data": {
            "text/plain": [
              "Text(0, 0.5, 'precisions')"
            ]
          },
          "execution_count": 84,
          "metadata": {},
          "output_type": "execute_result"
        },
        {
          "data": {
            "image/png": "[encoded data removed]",
            "text/plain": [
              "<Figure size 640x480 with 1 Axes>"
            ]
          },
          "metadata": {},
          "output_type": "display_data"
        }
      ],
      "source": [
        "plt.plot(recalls, precisions)\n",
        "plt.xlabel('recalls')\n",
        "plt.ylabel('precisions')\n",
        "# plt.xlim(0, 0.025)\n",
        "# plt.ylim(0, 1)"
      ]
    },
    {
      "cell_type": "code",
      "execution_count": 89,
      "metadata": {
        "colab": {
          "base_uri": "https://localhost:8080/"
        },
        "id": "H17jjnupxgCE",
        "outputId": "7ca7fe70-2872-43ed-83d6-54c149b9b3ab"
      },
      "outputs": [
        {
          "data": {
            "text/plain": [
              "(array([0.80612245]), array([0.43169399]), array([0.001]))"
            ]
          },
          "execution_count": 89,
          "metadata": {},
          "output_type": "execute_result"
        }
      ],
      "source": [
        "recalls = np.array(recalls)\n",
        "precisions = np.array(precisions)\n",
        "recalls[(recalls>=0.8) &(recalls<=0.85)], precisions[(recalls>=0.8) &(recalls<=0.85)], thresholds[(recalls>=0.8) &(recalls<=0.85)]"
      ]
    },
    {
      "cell_type": "code",
      "execution_count": 90,
      "metadata": {
        "colab": {
          "base_uri": "https://localhost:8080/"
        },
        "id": "Nirjr6P4yBVm",
        "outputId": "d5b1148b-466b-420a-ad0c-0b15992ed3ed"
      },
      "outputs": [
        {
          "name": "stdout",
          "output_type": "stream",
          "text": [
            "thresh [0.001]\n",
            "              precision    recall  f1-score   support\n",
            "\n",
            "           0       1.00      1.00      1.00     56864\n",
            "           1       0.43      0.81      0.56        98\n",
            "\n",
            "    accuracy                           1.00     56962\n",
            "   macro avg       0.72      0.90      0.78     56962\n",
            "weighted avg       1.00      1.00      1.00     56962\n",
            "\n"
          ]
        }
      ],
      "source": [
        "thresh = thresholds[(recalls>=0.8) &(recalls<=0.85)]\n",
        "print(\"thresh\", thresh)\n",
        "results['y_pred'] = results.mse.apply(lambda x: 0 if x<=thresh else 1)\n",
        "\n",
        "# let us compute the test accuracy\n",
        "print(classification_report( results['y_true'], results['y_pred']))"
      ]
    },
    {
      "cell_type": "code",
      "execution_count": null,
      "metadata": {
        "id": "nM3IRZRbyedJ"
      },
      "outputs": [],
      "source": []
    }
  ],
  "metadata": {
    "colab": {
      "provenance": []
    },
    "kernelspec": {
      "display_name": "Python 3",
      "language": "python",
      "name": "python3"
    },
    "language_info": {
      "codemirror_mode": {
        "name": "ipython",
        "version": 3
      },
      "file_extension": ".py",
      "mimetype": "text/x-python",
      "name": "python",
      "nbconvert_exporter": "python",
      "pygments_lexer": "ipython3",
      "version": "3.6.6"
    }
  },
  "nbformat": 4,
  "nbformat_minor": 0
}
