{
 "cells": [
  {
   "cell_type": "markdown",
   "metadata": {},
   "source": [
    "# Connecting Python to SQL "
   ]
  },
  {
   "cell_type": "markdown",
   "metadata": {},
   "source": [
    "In order to make this works correctly, \n",
    "Please install first additional library to your python: \n",
    "- mysql \n",
    "- mysql connector\n",
    "\n",
    "Details here if necessary: \n",
    "https://pynative.com/python-mysql-database-connection/#h-arguments-required-to-connect"
   ]
  },
  {
   "cell_type": "code",
   "execution_count": null,
   "metadata": {},
   "outputs": [],
   "source": [
    "import pandas as pd\n",
    "import mysql.connector\n",
    "from mysql.connector import Error"
   ]
  },
  {
   "cell_type": "markdown",
   "metadata": {},
   "source": [
    "### Creating here a specific function to get connected to a mysql server\n"
   ]
  },
  {
   "cell_type": "code",
   "execution_count": null,
   "metadata": {},
   "outputs": [],
   "source": [
    "# Definition of a function to get connected to the server\n",
    "def create_db_connection(host_name, user_name, user_password, db_name):\n",
    "    connection = None\n",
    "    try:\n",
    "        connection = mysql.connector.connect(\n",
    "            host=host_name,\n",
    "            user=user_name,\n",
    "            password=user_password,\n",
    "            database=db_name,\n",
    "            ssl_ca = 'server-ca.pem',\n",
    "            ssl_cert = 'client-cert.pem',\n",
    "            ssl_key = 'client-key.pem'\n",
    "        )\n",
    "        print(\"MySQL Database connection successful\")\n",
    "    except Error as e:\n",
    "        print(\"Error while connecting to MySQL\", e)\n",
    "\n",
    "    return connection"
   ]
  },
  {
   "cell_type": "markdown",
   "metadata": {},
   "source": [
    "### Calling that function using host IP address, user name, password, etc \n",
    "and uploading extracted data from the database into a pandas dataFrame "
   ]
  },
  {
   "cell_type": "code",
   "execution_count": null,
   "metadata": {},
   "outputs": [],
   "source": [
    "# Server information\n",
    "host_name = '34.'\n",
    "user_name ='dsais'\n",
    "user_password ='dsais@2023'\n",
    "# As well as need to specify the name of the database to connect to\n",
    "db_name ='Chinook'\n",
    "\n",
    "# Calling the defined function \n",
    "connection = create_db_connection(host_name, user_name, user_password, db_name)\n"
   ]
  },
  {
   "cell_type": "code",
   "execution_count": null,
   "metadata": {},
   "outputs": [],
   "source": [
    "# Defining here the sql query you want to run\n",
    "sql_query= \"\"\"select * from Chinook.Track\"\"\"\n"
   ]
  },
  {
   "cell_type": "code",
   "execution_count": null,
   "metadata": {},
   "outputs": [],
   "source": [
    "# Read the sql query and get access to the data from the database\n",
    "if connection.is_connected():\n",
    "    df = pd.read_sql(sql_query,connection)\n",
    "\n",
    "# Display the content of the extracted data\n",
    "df"
   ]
  }
 ],
 "metadata": {
  "kernelspec": {
   "display_name": "Python 3",
   "language": "python",
   "name": "python3"
  },
  "language_info": {
   "codemirror_mode": {
    "name": "ipython",
    "version": 3
   },
   "file_extension": ".py",
   "mimetype": "text/x-python",
   "name": "python",
   "nbconvert_exporter": "python",
   "pygments_lexer": "ipython3",
   "version": "3.8.3"
  }
 },
 "nbformat": 4,
 "nbformat_minor": 4
}
