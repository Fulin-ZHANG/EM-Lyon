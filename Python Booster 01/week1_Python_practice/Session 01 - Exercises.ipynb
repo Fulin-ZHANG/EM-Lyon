{
 "cells": [
  {
   "cell_type": "markdown",
   "metadata": {},
   "source": [
    "<div>\n",
    "    <img src=\"images/emlyon.png\" style=\"height:60px; float:left; padding-right:10px; margin-top:5px\" />\n",
    "    <span>\n",
    "        <h1 style=\"padding-bottom:5px;\"> AI Booster Week 01 - Python for Data Science </h1>\n",
    "        <a href=\"https://masters.em-lyon.com/fr/msc-in-data-science-artificial-intelligence-strategy\">[Emlyon]</a> MSc in Data Science & Artificial Intelligence Strategy (DSAIS) <br/>\n",
    "         Paris | © Saeed VARASTEH\n",
    "    </span>\n",
    "</div>"
   ]
  },
  {
   "cell_type": "markdown",
   "metadata": {},
   "source": [
    "<div class=\"alert-info\" style=\"border-bottom: solid 1px lightgray; background-color:#ece4f5;\">\n",
    "    <img src=\"images/assignment.png\" style=\"height:60px; float:left; padding-right:10px;\" />\n",
    "    <span style=\"font-weight:bold; color:#8966b0\">\n",
    "        <h4 style=\"padding-top:25px;\"> EXERCISES 01 </h4>\n",
    "    </span>\n",
    "</div>"
   ]
  },
  {
   "cell_type": "markdown",
   "metadata": {},
   "source": [
    "### Warm ups"
   ]
  },
  {
   "cell_type": "markdown",
   "metadata": {},
   "source": [
    "__Q1__ Complete the following code to find out how many seconds there are in 10 years ? "
   ]
  },
  {
   "cell_type": "code",
   "execution_count": 3,
   "metadata": {},
   "outputs": [
    {
     "name": "stdout",
     "output_type": "stream",
     "text": [
      "There are 788400000 seconds in 10 years\n"
     ]
    }
   ],
   "source": [
    "seconds_in_minute = 60\n",
    "minutes_in_hour = 60\n",
    "hours_in_day = 60\n",
    "days_in_year = 365\n",
    "seconds_in_ten_years = 10 * days_in_year * hours_in_day * minutes_in_hour * seconds_in_minute\n",
    "print(f\"There are \" + str(seconds_in_ten_years) + \" seconds in 10 years\")"
   ]
  },
  {
   "cell_type": "markdown",
   "metadata": {},
   "source": [
    "__Q2__ Write a program that takes two numbers from the user and prints out the largest one."
   ]
  },
  {
   "cell_type": "code",
   "execution_count": 9,
   "metadata": {},
   "outputs": [],
   "source": [
    "def compare():\n",
    "    value1 = input('enter a number')\n",
    "    value2 = input('enter a number')\n",
    "    if value1 > value2:\n",
    "        return value1\n",
    "    elif value1 < value2:\n",
    "        return value2\n",
    "    else:\n",
    "        return 'Equls'"
   ]
  },
  {
   "cell_type": "markdown",
   "metadata": {},
   "source": [
    "__Q3__ Write a program that takes an integer value from the user and specifies the minimum number of coins and notes to be exchanged, using only 1 euro coins, 2 euro coins and 5 euro notes.  \n",
    "\n",
    "For example, if the user enters 23, the expected output is \n",
    "\n",
    "    4 of 5-euro notes, 1 2-euro coin and 1 1-euro coin"
   ]
  },
  {
   "cell_type": "code",
   "execution_count": 1,
   "metadata": {},
   "outputs": [
    {
     "name": "stdout",
     "output_type": "stream",
     "text": [
      "5 of 5-euro notes, 0 2-euro coin and 0 1-euro coin\n"
     ]
    }
   ],
   "source": [
    "number = input('enter a number')\n",
    "number = int(number)\n",
    "if number > 5:\n",
    "    euro5 = int(number / 5)\n",
    "    number = number - euro5 * 5\n",
    "else: euro5 = 0\n",
    "\n",
    "if number % 2 != 0:\n",
    "    euro2 = int(number / 2)\n",
    "    number = number - euro2 * 2\n",
    "else: euro2 = 0\n",
    "\n",
    "euro1 = number\n",
    "\n",
    "print(str(euro5) + ' of 5-euro notes, ' + str(euro2) + ' 2-euro coin and ' + str(euro1) + ' 1-euro coin')"
   ]
  },
  {
   "cell_type": "markdown",
   "metadata": {},
   "source": [
    "### Functions"
   ]
  },
  {
   "cell_type": "markdown",
   "metadata": {},
   "source": [
    "__Q4__ Create a function that takes an argument and multiplies it by 10. Test your function."
   ]
  },
  {
   "cell_type": "code",
   "execution_count": 15,
   "metadata": {},
   "outputs": [],
   "source": [
    "def multiply_me(param1):\n",
    "    return param1 * 10"
   ]
  },
  {
   "cell_type": "code",
   "execution_count": 16,
   "metadata": {},
   "outputs": [
    {
     "data": {
      "text/plain": [
       "100"
      ]
     },
     "execution_count": 16,
     "metadata": {},
     "output_type": "execute_result"
    }
   ],
   "source": [
    "multiply_me(10)"
   ]
  },
  {
   "cell_type": "markdown",
   "metadata": {},
   "source": [
    "<div style=' background-color:#faf9e8'> \n",
    "    <b>Q5</b> Quadratic Equations.\n",
    "</div>"
   ]
  },
  {
   "cell_type": "markdown",
   "metadata": {},
   "source": [
    "A quadratic equation is an equation that could be written as:\n",
    "$$\n",
    "a x^2 + b x + c = 0\n",
    "$$\n",
    "\n",
    "Write a function that takes the coefficients of a quadratic equation, $a$, $b$, and $c$, and finds out the roots of the equation.\n",
    "\n",
    "The roots of the quadratic equation are computed as follows:\n",
    "\n",
    "If the discriminant ($b^2-4ac$) is greater than 0, then: \n",
    "\n",
    "$$\n",
    "x1 = \\frac{-b + \\sqrt{b^2-4ac}}{2a},\\, \\,\n",
    "x2 = \\frac{-b - \\sqrt{b^2-4ac}}{2a}\n",
    "$$\n",
    "\n",
    "\n",
    ", If the discriminant ($b^2-4ac$) is equal to 0, then: \n",
    "\n",
    "$$\n",
    "x1 = \\frac{-b}{2a}\n",
    "$$\n",
    "\n",
    ", and If the discriminant ($b^2-4ac$) is smaller than 0 then there is no real roots. \n",
    "\n",
    "\n",
    "Note: $a$, $b$, and $c$ are real numbers and you should check if $a$ is not zero."
   ]
  },
  {
   "cell_type": "code",
   "execution_count": 17,
   "metadata": {},
   "outputs": [],
   "source": [
    "def qeq(a, b, c):\n",
    "    if b ** 2 - 4 * a *c > 0:\n",
    "        x1 = (-1 * b + (b ** 2 - 4 * a * c) ** 0.5) / (2 * a)\n",
    "        x2 = (-1 * b - (b ** 2 - 4 * a *c) ** 0.5) / (2 * a)\n",
    "        print(x1,x2)\n",
    "    elif b ** 2 - 4 * a *c == 0:\n",
    "        x1 = (-1 * b)/(2 * a)\n",
    "        print(x1)\n",
    "    else: print('no real roots')"
   ]
  },
  {
   "cell_type": "code",
   "execution_count": 18,
   "metadata": {},
   "outputs": [
    {
     "name": "stdout",
     "output_type": "stream",
     "text": [
      "-1.0 -3.0\n"
     ]
    }
   ],
   "source": [
    "qeq(1,4,3)"
   ]
  },
  {
   "cell_type": "markdown",
   "metadata": {},
   "source": [
    "### Loops"
   ]
  },
  {
   "cell_type": "markdown",
   "metadata": {},
   "source": [
    "__Q6__ Write a code that repeatedly asks for the input of a \"name\" and prints out \"Hi [name]! Nice to see you!\" until the user enters the word \"done\". \n",
    "\n",
    "Replace [name] with the name entered by the user.\n",
    "\n",
    "Note: You can use a `while` loop and `input()` to implement this. "
   ]
  },
  {
   "cell_type": "code",
   "execution_count": 3,
   "metadata": {},
   "outputs": [],
   "source": [
    "name = ''\n",
    "while name != 'done':\n",
    "    name = input('enter a name')\n",
    "    if name != 'done':\n",
    "        print('Hi '+name+ '! Nice to see you!')"
   ]
  },
  {
   "cell_type": "markdown",
   "metadata": {},
   "source": [
    "__Q7__ Update your code to find the longest name found. \n",
    "\n",
    "When you stop the loop after seeing \"done\", print the longest name entered, e.g. \"Longest name was [name]\".\n",
    "\n",
    "Note: You can use the `len()` method to find out the length of a word."
   ]
  },
  {
   "cell_type": "code",
   "execution_count": 4,
   "metadata": {},
   "outputs": [
    {
     "name": "stdout",
     "output_type": "stream",
     "text": [
      "Longest name was dsgfgzfdsb\n"
     ]
    }
   ],
   "source": [
    "name = ''\n",
    "longest_name = ''\n",
    "while name != 'done':\n",
    "    name = input('enter a name')\n",
    "    if name != 'done':\n",
    "        if len(name) > len(longest_name):\n",
    "            longest_name = name\n",
    "print('Longest name was ' + longest_name)"
   ]
  },
  {
   "cell_type": "markdown",
   "metadata": {},
   "source": [
    "### Nested Loops\n"
   ]
  },
  {
   "cell_type": "markdown",
   "metadata": {},
   "source": [
    "__Q8__ Write a program that creates an output like this:\n",
    "\n",
    "<code>\n",
    "* * * *\n",
    "* * * *\n",
    "* * * *\n",
    "* * * *\n",
    "</code>"
   ]
  },
  {
   "cell_type": "code",
   "execution_count": 36,
   "metadata": {},
   "outputs": [
    {
     "name": "stdout",
     "output_type": "stream",
     "text": [
      "* * * * \n",
      "\n",
      "* * * * \n",
      "\n",
      "* * * * \n",
      "\n",
      "* * * * \n",
      "\n"
     ]
    }
   ],
   "source": [
    "for i in range(4):\n",
    "    for j in range(4):\n",
    "        print('* ', end ='') \n",
    "    print('\\n')"
   ]
  },
  {
   "cell_type": "markdown",
   "metadata": {},
   "source": [
    "__Q9__ Write a program that creates an output like this:\n",
    "\n",
    "<code>\n",
    "* \n",
    "* * \n",
    "* * * \n",
    "* * * *\n",
    "</code>"
   ]
  },
  {
   "cell_type": "code",
   "execution_count": 39,
   "metadata": {},
   "outputs": [
    {
     "name": "stdout",
     "output_type": "stream",
     "text": [
      "* \n",
      "\n",
      "* * \n",
      "\n",
      "* * * \n",
      "\n",
      "* * * * \n",
      "\n"
     ]
    }
   ],
   "source": [
    "for i in range(4):\n",
    "    for j in range(i + 1):\n",
    "        print('* ', end = '')\n",
    "    print('\\n')"
   ]
  },
  {
   "cell_type": "markdown",
   "metadata": {},
   "source": [
    "<div style=' background-color:#faf9e8'> \n",
    "    <b>Q10</b> Write a program that creates an output like this:\n",
    "</div>\n",
    "\n",
    "<code>\n",
    "      * \n",
    "    * * *\n",
    "  * * * * * \n",
    "* * * * * * *\n",
    "</code>"
   ]
  },
  {
   "cell_type": "code",
   "execution_count": 26,
   "metadata": {
    "scrolled": true
   },
   "outputs": [
    {
     "name": "stdout",
     "output_type": "stream",
     "text": [
      "      * \n",
      "\n",
      "    * * * \n",
      "\n",
      "  * * * * * \n",
      "\n",
      "* * * * * * * \n",
      "\n"
     ]
    }
   ],
   "source": [
    "for i in range(1,8,2):\n",
    "    for j in range(0,6-i+1):\n",
    "        print(' ', end = '')\n",
    "    for k in range(0,i) :\n",
    "        print('* ', end = '')\n",
    "    print('\\n')"
   ]
  },
  {
   "cell_type": "code",
   "execution_count": 105,
   "metadata": {
    "scrolled": true
   },
   "outputs": [
    {
     "name": "stdout",
     "output_type": "stream",
     "text": [
      "      * \n",
      "\n",
      "    * * * \n",
      "\n",
      "  * * * * * \n",
      "\n",
      "* * * * * * * \n",
      "\n"
     ]
    }
   ],
   "source": [
    "rows = 4\n",
    "for i in range(1, rows+1):\n",
    "    for j in range(rows - i):\n",
    "        print('  ', end = '')\n",
    "    for k in range(2*i-1):\n",
    "        print('* ', end = '')\n",
    "    print('\\n')"
   ]
  },
  {
   "cell_type": "markdown",
   "metadata": {},
   "source": [
    "### Strings"
   ]
  },
  {
   "cell_type": "markdown",
   "metadata": {},
   "source": [
    "__String Methods__: Strings come bundled with special functions called string methods that you can use to work with and manipulate strings. e.g. `lower()` method converts all uppercase characters in a string into lowercase characters.\n",
    "\n",
    "[Here](https://www.w3schools.com/python/python_ref_string.asp) is a set of built-in methods that you can use on strings."
   ]
  },
  {
   "cell_type": "markdown",
   "metadata": {},
   "source": [
    "__Q11__ Take the following string variable, __mystring__:\n",
    "\n",
    "    mystring = 'X-DSPAM-Confidence:0.8475'\n",
    "\n",
    "Write a function that uses the `find()` method and string slicing to extract the portion of the string after the colon character (:) and then use the `float` function to convert the extracted string into a floating point number. Return the floating point number from the function.  If no colon character is found, return `None`."
   ]
  },
  {
   "cell_type": "code",
   "execution_count": 45,
   "metadata": {},
   "outputs": [],
   "source": [
    "def get_number(mystr):\n",
    "    if ':'in mystring:\n",
    "        return float(mystr[mystr.find(':')+1:])\n",
    "    else: return None\n",
    "    # Check if you have \":\" inside the input \n",
    "    # If no: Return None\n",
    "    # If yes: Find the index number where is the \":\" inside the input\n",
    "    # Use the index given by find and extract the number inside the input \n",
    "    # Cast it into float and return it\n",
    "    "
   ]
  },
  {
   "cell_type": "code",
   "execution_count": 46,
   "metadata": {},
   "outputs": [
    {
     "data": {
      "text/plain": [
       "0.8475"
      ]
     },
     "execution_count": 46,
     "metadata": {},
     "output_type": "execute_result"
    }
   ],
   "source": [
    "mystring = 'X-DSPAM-Confidence:0.8475'\n",
    "get_number(mystring)"
   ]
  },
  {
   "cell_type": "markdown",
   "metadata": {},
   "source": [
    "### All in one"
   ]
  },
  {
   "cell_type": "markdown",
   "metadata": {},
   "source": [
    "<div style=' background-color:#fae8ea'> \n",
    "    <b>Q12</b> Prime number.\n",
    "</div>"
   ]
  },
  {
   "cell_type": "markdown",
   "metadata": {},
   "source": [
    "Write a function `is_prime(n)` that returns `True` if n is a prime number and `False` otherwise.\n",
    "\n",
    "Reminder: A prime number is only divisible by two numbers: itself and 1."
   ]
  },
  {
   "cell_type": "code",
   "execution_count": 62,
   "metadata": {},
   "outputs": [],
   "source": [
    "def is_prime(n):\n",
    "    result = True\n",
    "    if n > 1:\n",
    "        for i in range(2,n):\n",
    "            if n % i == 0:\n",
    "                result = False\n",
    "    else: result = False\n",
    "    return result"
   ]
  },
  {
   "cell_type": "code",
   "execution_count": 106,
   "metadata": {},
   "outputs": [
    {
     "data": {
      "text/plain": [
       "False"
      ]
     },
     "execution_count": 106,
     "metadata": {},
     "output_type": "execute_result"
    }
   ],
   "source": [
    "is_prime(1)"
   ]
  },
  {
   "cell_type": "markdown",
   "metadata": {},
   "source": [
    "Use your `is_prime()` function to write a program that reads a number as input and outputs for all numbers up to it whether they are prime or not.\n",
    "\n",
    "Example Output:\n",
    "\n",
    "<pre>\n",
    "Please input a number: 5 \n",
    "1 is not prime.\n",
    "2 is prime.\n",
    "3 is prime.\n",
    "4 is not prime. \n",
    "5 is prime.\n",
    "</pre>"
   ]
  },
  {
   "cell_type": "markdown",
   "metadata": {},
   "source": []
  },
  {
   "cell_type": "markdown",
   "metadata": {},
   "source": [
    "---"
   ]
  },
  {
   "cell_type": "code",
   "execution_count": 64,
   "metadata": {},
   "outputs": [
    {
     "name": "stdout",
     "output_type": "stream",
     "text": [
      "Please input a number: 1\n",
      "1 is not prime\n"
     ]
    }
   ],
   "source": [
    "number = input('Please input a number: ')\n",
    "number = int(number)\n",
    "if is_prime(number) == True:\n",
    "    print(str(number) + ' is prime')\n",
    "elif is_prime(number) == False:\n",
    "    print(str(number) + ' is not prime')"
   ]
  }
 ],
 "metadata": {
  "kernelspec": {
   "display_name": "Python 3 (ipykernel)",
   "language": "python",
   "name": "python3"
  },
  "language_info": {
   "codemirror_mode": {
    "name": "ipython",
    "version": 3
   },
   "file_extension": ".py",
   "mimetype": "text/x-python",
   "name": "python",
   "nbconvert_exporter": "python",
   "pygments_lexer": "ipython3",
   "version": "3.11.4"
  }
 },
 "nbformat": 4,
 "nbformat_minor": 2
}
