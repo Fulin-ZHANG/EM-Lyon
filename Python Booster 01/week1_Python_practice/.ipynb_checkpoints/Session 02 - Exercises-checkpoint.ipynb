{
 "cells": [
  {
   "cell_type": "markdown",
   "metadata": {},
   "source": [
    "<div>\n",
    "    <img src=\"images/emlyon.png\" style=\"height:60px; float:left; padding-right:10px; margin-top:5px\" />\n",
    "    <span>\n",
    "        <h1 style=\"padding-bottom:5px;\"> AI Booster Week 01 - Python for Data Science </h1>\n",
    "        <a href=\"https://masters.em-lyon.com/fr/msc-in-data-science-artificial-intelligence-strategy\">[Emlyon]</a> MSc in Data Science & Artificial Intelligence Strategy (DSAIS) <br/>\n",
    "         Paris | © Saeed VARASTEH\n",
    "    </span>\n",
    "</div>"
   ]
  },
  {
   "cell_type": "markdown",
   "metadata": {},
   "source": [
    "<div class=\"alert-info\" style=\"border-bottom: solid 1px lightgray; background-color:#ece4f5;\">\n",
    "    <img src=\"images/assignment.png\" style=\"height:60px; float:left; padding-right:10px;\" />\n",
    "    <span style=\"font-weight:bold; color:#8966b0\">\n",
    "        <h4 style=\"padding-top:25px;\"> EXERCISES 02 </h4>\n",
    "    </span>\n",
    "</div>"
   ]
  },
  {
   "cell_type": "markdown",
   "metadata": {},
   "source": [
    "### Lists"
   ]
  },
  {
   "cell_type": "markdown",
   "metadata": {},
   "source": [
    "__Q1__ Write a piece of code to split the following string into separate words (returns the list of strings).\n",
    "\n",
    "Hint: There is a string method that can help you with this."
   ]
  },
  {
   "cell_type": "code",
   "execution_count": 31,
   "metadata": {},
   "outputs": [],
   "source": [
    "mystr = \"So, many, books, so,  little, time\""
   ]
  },
  {
   "cell_type": "code",
   "execution_count": 28,
   "metadata": {},
   "outputs": [
    {
     "data": {
      "text/plain": [
       "6"
      ]
     },
     "execution_count": 28,
     "metadata": {},
     "output_type": "execute_result"
    }
   ],
   "source": [
    "mystr = mystr.split(\", \")\n",
    "len(mystr)"
   ]
  },
  {
   "cell_type": "markdown",
   "metadata": {},
   "source": [
    "__Q2__ Write a function that calculates the average length of words in a text. Your function must return two values:\n",
    "\n",
    "    - The number of words in the text\n",
    "    - The average length of the words\n",
    "\n",
    "If the text is empty, return None and print out an error message.\n",
    "\n",
    "Hint: You can use here the `split()` method applied to text. This method will split your text into multiple pieces. The delimiter should be defined as argument of the `split()` function. "
   ]
  },
  {
   "cell_type": "code",
   "execution_count": 32,
   "metadata": {},
   "outputs": [],
   "source": [
    "def text_stats(text):\n",
    "    \n",
    "    if text is None:\n",
    "        warning_msg = \"Warning: The input is empty.\"\n",
    "        print(warning_msg)\n",
    "        return None\n",
    "    else: \n",
    "        text_words = text.split(\", \")\n",
    "        nbr_words = len(text_words)\n",
    "        sum_words = 0\n",
    "        for i in range(len(text_words)):\n",
    "            nbr = len(text_words[i])\n",
    "            sum_words += nbr\n",
    "        avg = sum_words / nbr_words\n",
    "        return nbr_words, avg"
   ]
  },
  {
   "cell_type": "code",
   "execution_count": 33,
   "metadata": {},
   "outputs": [
    {
     "data": {
      "text/plain": [
       "(6, 3.8333333333333335)"
      ]
     },
     "execution_count": 33,
     "metadata": {},
     "output_type": "execute_result"
    }
   ],
   "source": [
    "text_stats(mystr)"
   ]
  },
  {
   "cell_type": "markdown",
   "metadata": {},
   "source": [
    "__Q3__ Consider this list of names:"
   ]
  },
  {
   "cell_type": "code",
   "execution_count": 41,
   "metadata": {},
   "outputs": [],
   "source": [
    "names = ['frederica', 'gilbert', 'amine', 'gael', 'annie', 'bob']"
   ]
  },
  {
   "cell_type": "code",
   "execution_count": 67,
   "metadata": {},
   "outputs": [
    {
     "data": {
      "text/plain": [
       "9"
      ]
     },
     "execution_count": 67,
     "metadata": {},
     "output_type": "execute_result"
    }
   ],
   "source": [
    "len(names[0])"
   ]
  },
  {
   "cell_type": "markdown",
   "metadata": {},
   "source": [
    "Write a line of code __using list comprehension__ to create a new list containing the length of each word in the input list of names."
   ]
  },
  {
   "cell_type": "code",
   "execution_count": 71,
   "metadata": {},
   "outputs": [],
   "source": [
    "def nbr_words(text):\n",
    "    \n",
    "    if text is None:\n",
    "        warning_msg = \"Warning: The input is empty.\"\n",
    "        print(warning_msg)\n",
    "        return None\n",
    "    else: \n",
    "        nbr = []\n",
    "        for i in range(len(text)):\n",
    "            nbr.append(len(text[i]))\n",
    "        return nbr"
   ]
  },
  {
   "cell_type": "code",
   "execution_count": 73,
   "metadata": {},
   "outputs": [
    {
     "data": {
      "text/plain": [
       "[9, 7, 5, 4, 5, 3]"
      ]
     },
     "execution_count": 73,
     "metadata": {},
     "output_type": "execute_result"
    }
   ],
   "source": [
    "lengths = nbr_words(names)\n",
    "lengths"
   ]
  },
  {
   "cell_type": "markdown",
   "metadata": {},
   "source": [
    "### Dictionaries"
   ]
  },
  {
   "cell_type": "markdown",
   "metadata": {},
   "source": [
    "__Q4__ Write a function that adds one to every numeric value in a dictionary. If the value is not numeric (i.e. not an int or float), don't add anything, but keep the same value. The function should take a dictionary as an argument and return the modified dictionary.\n",
    "\n",
    "Note: You will probably need to use functions like `isinstance()` to check whether a value is a number or not."
   ]
  },
  {
   "cell_type": "code",
   "execution_count": 81,
   "metadata": {},
   "outputs": [],
   "source": [
    "def addtovalue(dictionary):\n",
    "    \n",
    "    for key in dictionary.keys():\n",
    "        if isinstance(dictionary[key], int) or isinstance(dictionary[key], float):\n",
    "            dictionary[key] += 5\n",
    "    return dictionary"
   ]
  },
  {
   "cell_type": "code",
   "execution_count": 82,
   "metadata": {},
   "outputs": [
    {
     "data": {
      "text/plain": [
       "{'fred': 8.3, 'marie': '5', 'jean': 19, 'angus': 49, 'amine': None}"
      ]
     },
     "execution_count": 82,
     "metadata": {},
     "output_type": "execute_result"
    }
   ],
   "source": [
    "testdict = { 'fred': 3.3, 'marie': '5', 'jean': 14, 'angus': 44, 'amine': None}\n",
    "addtovalue(testdict)"
   ]
  },
  {
   "cell_type": "markdown",
   "metadata": {},
   "source": [
    "### Modules"
   ]
  },
  {
   "cell_type": "markdown",
   "metadata": {},
   "source": [
    "__Q5__ Using `math`, write two functions `calculate_x` and `calculate_y` that take an intput `n` between 1 and 12 as an argument and return the respective value of the following formulas. \n",
    "\n",
    "$$ calculate_x(n) = 3 * sin( \\frac{n*\\pi}{6} ) $$\n",
    "$$ calculate_y(n) = 3 * cos( \\frac{n*\\pi}{6} ) $$\n",
    "\n",
    "If intput `n` is not an integer or between 1 and 12, the functions should return -1."
   ]
  },
  {
   "cell_type": "code",
   "execution_count": 83,
   "metadata": {},
   "outputs": [],
   "source": [
    "import math"
   ]
  },
  {
   "cell_type": "code",
   "execution_count": 89,
   "metadata": {},
   "outputs": [],
   "source": [
    "def calculate_x(x):\n",
    "    if (isinstance(x,int) or isinstance(x,float) )and x<= 12 and x >=1:\n",
    "        return 3 * math.sin(x * math.pi / 6)\n",
    "    else: return -1"
   ]
  },
  {
   "cell_type": "code",
   "execution_count": 94,
   "metadata": {},
   "outputs": [],
   "source": [
    "def calculate_y(y):\n",
    "    if (isinstance(y,int) or isinstance(y,float) )and y<= 12 and y >=1:\n",
    "        return 3 * math.cos(y * math.pi / 6)\n",
    "    else: return -1"
   ]
  },
  {
   "cell_type": "markdown",
   "metadata": {},
   "source": [
    "<div style=' background-color:#faf9e8'> \n",
    "    <b>Q6</b> Guessing Game.\n",
    "</div>"
   ]
  },
  {
   "cell_type": "markdown",
   "metadata": {},
   "source": [
    "Note: You can generate random numbers using the `random()` and `randint()` functions from the __random__ module in Python."
   ]
  },
  {
   "cell_type": "code",
   "execution_count": 97,
   "metadata": {},
   "outputs": [
    {
     "name": "stdout",
     "output_type": "stream",
     "text": [
      "3\n",
      "2\n"
     ]
    }
   ],
   "source": [
    "from random import randint\n",
    "n = randint(1, 10)\n",
    "print(n)\n",
    "\n",
    "n = randint(1, 10)\n",
    "print(n)"
   ]
  },
  {
   "cell_type": "markdown",
   "metadata": {},
   "source": [
    "Use random number generation to program a little game:\n",
    "\n",
    "The computer thinks of a random number between 1 and 100. It then prompts the user to guess what the number is. If the user is wrong, the computer prints whether the secret number is greater or smaller than the guessed one. The user may then guess again. If the user is finally right, the computer prints the user’s score (number of tries it took).\n",
    "\n",
    "Example Output:\n",
    "\n",
    "<pre>\n",
    "Ok, I have thought of a number. First guess: <b>10</b> \n",
    "My number is smaller than that. Next guess: <b>5</b> \n",
    "My number is larger than that. Next guess: <b>7</b> \n",
    "Correct! It took you 3 guesses.\n",
    "</pre>"
   ]
  },
  {
   "cell_type": "code",
   "execution_count": 103,
   "metadata": {},
   "outputs": [
    {
     "name": "stdout",
     "output_type": "stream",
     "text": [
      "Ok, I have thought of a number.\n",
      "First guess: 1\n",
      "My number is larger than that.\n",
      "Next guess: 5\n",
      "My number is smaller than that.\n",
      "Next guess: 4\n",
      "My number is smaller than that.\n",
      "Next guess: 3\n",
      "My number is smaller than that.\n",
      "Next guess: 2\n",
      "Correct! It took you 5 guesses.\n"
     ]
    }
   ],
   "source": [
    "from random import randint\n",
    "n = randint(1, 100)\n",
    "print('Ok, I have thought of a number.')\n",
    "guess = int(input('First guess: '))\n",
    "nbr_guess = 1\n",
    "while guess != n:\n",
    "    if guess < n:\n",
    "        print('My number is larger than that.')\n",
    "    elif guess > n:\n",
    "        print(\"My number is smaller than that.\")\n",
    "    nbr_guess += 1\n",
    "    guess = int(input('Next guess: '))\n",
    "\n",
    "print('Correct! It took you ' + str(nbr_guess) + ' guesses.')"
   ]
  },
  {
   "cell_type": "markdown",
   "metadata": {},
   "source": [
    "<div style=' background-color:#fae8ea'> \n",
    "    <b>Q7</b> More Random!\n",
    "</div>\n",
    "\n",
    "Writea program that generates a string of variable length n like this: XXOOOXXXOOOXXXXXXXOO\n",
    "\n",
    "where the probability of having __X__ and __O__ in this string is 70% and 30% respectively."
   ]
  },
  {
   "cell_type": "code",
   "execution_count": 108,
   "metadata": {},
   "outputs": [
    {
     "name": "stdout",
     "output_type": "stream",
     "text": [
      "write a number: 100\n"
     ]
    },
    {
     "data": {
      "text/plain": [
       "'OXXXXOXXOXXOOXOXOXXOXOXOXXXXOXXOXXXOOXOXXXOXOXOXXXXXXOXXXXXXOXOXXOXXOXXOXOXXXOXOOOXXXXOOXXOXXOXOXOXX'"
      ]
     },
     "execution_count": 108,
     "metadata": {},
     "output_type": "execute_result"
    }
   ],
   "source": [
    "lenth = int(input('write a number: '))\n",
    "mystr = ''\n",
    "for i in range(lenth):\n",
    "    n = randint(1, 10)\n",
    "    if n < 4:\n",
    "        mystr += 'O'\n",
    "    else: mystr += 'X'\n",
    "mystr"
   ]
  },
  {
   "cell_type": "markdown",
   "metadata": {},
   "source": [
    "---"
   ]
  },
  {
   "cell_type": "code",
   "execution_count": null,
   "metadata": {},
   "outputs": [],
   "source": []
  }
 ],
 "metadata": {
  "kernelspec": {
   "display_name": "Python 3 (ipykernel)",
   "language": "python",
   "name": "python3"
  },
  "language_info": {
   "codemirror_mode": {
    "name": "ipython",
    "version": 3
   },
   "file_extension": ".py",
   "mimetype": "text/x-python",
   "name": "python",
   "nbconvert_exporter": "python",
   "pygments_lexer": "ipython3",
   "version": "3.9.13"
  }
 },
 "nbformat": 4,
 "nbformat_minor": 2
}
