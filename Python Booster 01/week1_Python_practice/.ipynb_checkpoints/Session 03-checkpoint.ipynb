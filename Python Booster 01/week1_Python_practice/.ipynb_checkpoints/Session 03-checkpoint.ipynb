{
 "cells": [
  {
   "cell_type": "markdown",
   "metadata": {},
   "source": [
    "<div>\n",
    "    <img src=\"images/emlyon.png\" style=\"height:60px; float:left; padding-right:10px; margin-top:5px\" />\n",
    "    <span>\n",
    "        <h1 style=\"padding-bottom:5px;\"> AI Booster Week 01 - Python for Data Science </h1>\n",
    "        <a href=\"https://masters.em-lyon.com/fr/msc-in-data-science-artificial-intelligence-strategy\">[Emlyon]</a> MSc in Data Science & Artificial Intelligence Strategy (DSAIS) <br/>\n",
    "         Paris | © Saeed VARASTEH\n",
    "    </span>\n",
    "</div>"
   ]
  },
  {
   "cell_type": "markdown",
   "metadata": {},
   "source": [
    "### Object Oriented Programming\n",
    "\n",
    "---"
   ]
  },
  {
   "cell_type": "markdown",
   "metadata": {},
   "source": [
    "__OOP__, or Object-Oriented Programming, is a method of structuring a program by bundling related __properties__ and __behaviors__ into individual __objects__.\n",
    "\n",
    "__Classes__ define a type. \n",
    "\n",
    "Primitive data structures—like numbers, strings, and lists are designed to represent simple things, such as the cost of something, the name of a poem, and your favorite colors, respectively. What if you want to represent something much more complicated?\n",
    "\n",
    "For example, let’s say you wanted to track employees in an organization. You need to store some basic information about each employee, such as their name, age, position, and the year they started working.\n",
    "\n",
    "One way to do this is to represent each employee as a list:\n",
    "\n",
    "Eric = [\"Eric\", 34, \"CEO\", 2016] <br/>\n",
    "Alice = [\"Alice\", \"Science Officer\", 2017]\n",
    "\n",
    "There are a number of issues with this approach:\n",
    "\n",
    "- You need to remember that the ith element of the list is the employee’s name.\n",
    "- What if not every employee has the same number of elements in the list? e.g. Age is missing for Alice.\n",
    "\n",
    "and finally,\n",
    "\n",
    "- What if you want to define some behaviors for you employees.\n",
    "\n",
    "This is where classes come into play."
   ]
  },
  {
   "cell_type": "markdown",
   "metadata": {},
   "source": [
    "#### Creating Classes\n",
    "\n",
    "Classes are used to create user-defined __data structures__. \n",
    "\n",
    "All class definitions start with the class keyword, which is followed by the name of the class and a colon (__:__).\n",
    "\n",
    "Here is an example of a simple Employee class:"
   ]
  },
  {
   "cell_type": "code",
   "execution_count": null,
   "metadata": {},
   "outputs": [],
   "source": [
    "class Employee:\n",
    "    pass"
   ]
  },
  {
   "cell_type": "markdown",
   "metadata": {},
   "source": [
    "<div class=\"alert-info\"> \n",
    "The body of the Employee class consists of a single statement: the <b>pass</b> keyword. <b>pass</b> is often used as a place holder where code will eventually go. It allows you to run this code without throwing an error.\n",
    "</div>"
   ]
  },
  {
   "cell_type": "markdown",
   "metadata": {},
   "source": [
    "<div class=\"alert-warning\"> \n",
    "Unlike functions and variables, the convention for naming classes in Python is to use <b>CamelCase</b> notation, starting with a capital letter.\n",
    "</div>"
   ]
  },
  {
   "cell_type": "markdown",
   "metadata": {},
   "source": [
    "You can define properties, or attributes for your class. All Employee objects instantiate from your class will then have these properties.\n",
    "\n",
    "For that, you need to define a special method called __\\_\\_init\\_\\_()__\n",
    "\n",
    "This method is run every time a new Employee object is created and tells Python what the initial state—that is, the initial values of the object’s properties—of the object should be."
   ]
  },
  {
   "cell_type": "code",
   "execution_count": null,
   "metadata": {},
   "outputs": [],
   "source": [
    "class Employee:\n",
    "    def __init__(self, name, age):\n",
    "        self.name = name\n",
    "        self.age = age"
   ]
  },
  {
   "cell_type": "markdown",
   "metadata": {},
   "source": [
    "<div class=\"alert-info\"> \n",
    "    The first positional argument of <b>__init__()</b> is always a variable that eferences the class instance. This variable is almost universally named <b>self</b>.\n",
    "</div>"
   ]
  },
  {
   "cell_type": "markdown",
   "metadata": {},
   "source": [
    "self.name and self.age are called __iinstance attributes__ because they belong to the instance of a class."
   ]
  },
  {
   "cell_type": "markdown",
   "metadata": {},
   "source": [
    "This might look kind of strange. The __self__ variable is referring to an instance of the Employee class, but we haven’t actually created an instance yet. Consider it is as a place holder that is used to build the blueprint.\n",
    "\n",
    "Remember, the class is used to define the Employee data structure. It does not actually create any instances of individual employees with specific names and ages."
   ]
  },
  {
   "cell_type": "markdown",
   "metadata": {},
   "source": [
    "While instance attributes are specific to each object, __class attributes__ are the same for all instances:"
   ]
  },
  {
   "cell_type": "code",
   "execution_count": null,
   "metadata": {},
   "outputs": [],
   "source": [
    "class Employee:\n",
    "    # Class Attribute\n",
    "    company_name = \"Emlyon\"\n",
    "    def __init__(self, name, age):\n",
    "        self.name = name\n",
    "        self.age = age"
   ]
  },
  {
   "cell_type": "markdown",
   "metadata": {},
   "source": [
    "#### Instantiate an Object\n",
    "\n",
    "After you have written a class, you can use it to instantiate as many __objects__ of the newly created type as you want."
   ]
  },
  {
   "cell_type": "markdown",
   "metadata": {},
   "source": [
    "<div class=\"alert-info\"> \n",
    "    While the class is the blueprint, an instance of the class is <b>an object</b> built from a class that contains real data.\n",
    "</div>"
   ]
  },
  {
   "cell_type": "markdown",
   "metadata": {},
   "source": [
    "To instantiate an object, type the name of the class, in the original CamelCase, followed by parentheses containing any values that must be passed to the class’s `.__init__()` method."
   ]
  },
  {
   "cell_type": "code",
   "execution_count": null,
   "metadata": {},
   "outputs": [],
   "source": [
    "emp1 = Employee(\"David\", 23)\n",
    "emp2 = Employee(\"Alice\", 35)"
   ]
  },
  {
   "cell_type": "markdown",
   "metadata": {},
   "source": [
    "We have created two new Employee instances whose name is David and is 23 years old, and another named Alice who is 35 years old."
   ]
  },
  {
   "cell_type": "code",
   "execution_count": null,
   "metadata": {},
   "outputs": [],
   "source": [
    "emp1"
   ]
  },
  {
   "cell_type": "markdown",
   "metadata": {},
   "source": [
    "The number 0x00aeff70 is the address of this Employee object in your computer’s memory, and the number you see on your computer will be different."
   ]
  },
  {
   "cell_type": "code",
   "execution_count": null,
   "metadata": {},
   "outputs": [],
   "source": [
    "emp1 == emp2"
   ]
  },
  {
   "cell_type": "code",
   "execution_count": null,
   "metadata": {},
   "outputs": [],
   "source": [
    "type(emp1)"
   ]
  },
  {
   "cell_type": "markdown",
   "metadata": {},
   "source": [
    "After the Employee instances are created, you can access their instance attributes by using __dot notation__."
   ]
  },
  {
   "cell_type": "code",
   "execution_count": null,
   "metadata": {},
   "outputs": [],
   "source": [
    "emp1.name"
   ]
  },
  {
   "cell_type": "code",
   "execution_count": null,
   "metadata": {},
   "outputs": [],
   "source": [
    "emp2.age"
   ]
  },
  {
   "cell_type": "markdown",
   "metadata": {},
   "source": [
    "Class attributes are accessed the same way:"
   ]
  },
  {
   "cell_type": "code",
   "execution_count": null,
   "metadata": {},
   "outputs": [],
   "source": [
    "emp1.company_name"
   ]
  },
  {
   "cell_type": "markdown",
   "metadata": {},
   "source": [
    "Both instance and class attributes can be modified dynamically:"
   ]
  },
  {
   "cell_type": "code",
   "execution_count": null,
   "metadata": {},
   "outputs": [],
   "source": [
    "emp1.age = 36"
   ]
  },
  {
   "cell_type": "markdown",
   "metadata": {},
   "source": [
    "<div class=\"alert-info\"> \n",
    "The important takeaway here is that custom objects are mutable by default. Recall that an object is mutable if it can be altered dynamically.\n",
    "</div>"
   ]
  },
  {
   "cell_type": "markdown",
   "metadata": {},
   "source": [
    "#### Instance Methods\n",
    "\n",
    "Classes also have special functions, called methods, that define behaviors and actions that an object created from the class can perform with its data."
   ]
  },
  {
   "cell_type": "code",
   "execution_count": null,
   "metadata": {},
   "outputs": [],
   "source": [
    "class Employee:\n",
    "    company_name = \"Emlyon\"\n",
    "    def __init__(self, name, age):\n",
    "        self.name = name\n",
    "        self.age = age\n",
    "        \n",
    "    # Instance method\n",
    "    def description(self):\n",
    "        return f\"{self.name} is {self.age} years old\"\n",
    "    \n",
    "    # Another instance method\n",
    "    def update_age(self, new_age):\n",
    "        self.age = new_age"
   ]
  },
  {
   "cell_type": "markdown",
   "metadata": {},
   "source": [
    "<div class=\"alert-danger\"> \n",
    "    The first argument of an instance method is always <b>self</b>.\n",
    "</div>"
   ]
  },
  {
   "cell_type": "markdown",
   "metadata": {},
   "source": [
    "Let’s see how instance methods work in practice,\n",
    "\n",
    "You can access instance methods by using __dot notation__ as well."
   ]
  },
  {
   "cell_type": "code",
   "execution_count": null,
   "metadata": {},
   "outputs": [],
   "source": [
    "emp1 = Employee(\"David\", 23)"
   ]
  },
  {
   "cell_type": "code",
   "execution_count": null,
   "metadata": {},
   "outputs": [],
   "source": [
    "emp1.description()"
   ]
  },
  {
   "cell_type": "code",
   "execution_count": null,
   "metadata": {},
   "outputs": [],
   "source": [
    "emp1.update_age(24)"
   ]
  },
  {
   "cell_type": "code",
   "execution_count": null,
   "metadata": {},
   "outputs": [],
   "source": [
    "emp1.description()"
   ]
  },
  {
   "cell_type": "markdown",
   "metadata": {},
   "source": [
    "Let’s see what happens when you print() the an Employee object:"
   ]
  },
  {
   "cell_type": "code",
   "execution_count": null,
   "metadata": {},
   "outputs": [],
   "source": [
    "print(emp1)"
   ]
  },
  {
   "cell_type": "markdown",
   "metadata": {},
   "source": [
    "You can change what gets printed by defining a special instance method called `.__str__()`."
   ]
  },
  {
   "cell_type": "code",
   "execution_count": null,
   "metadata": {},
   "outputs": [],
   "source": [
    "class Employee:\n",
    "    company_name = \"Emlyon\"\n",
    "    def __init__(self, name, age):\n",
    "        self.name = name\n",
    "        self.age = age\n",
    "        \n",
    "    def __str__(self):\n",
    "        return f\"{self.name} is {self.age} years old\""
   ]
  },
  {
   "cell_type": "code",
   "execution_count": null,
   "metadata": {},
   "outputs": [],
   "source": [
    "emp1 = Employee(\"David\", 23)"
   ]
  },
  {
   "cell_type": "code",
   "execution_count": null,
   "metadata": {},
   "outputs": [],
   "source": [
    "print(emp1)"
   ]
  },
  {
   "cell_type": "code",
   "execution_count": null,
   "metadata": {},
   "outputs": [],
   "source": [
    "emp1.name"
   ]
  },
  {
   "cell_type": "markdown",
   "metadata": {},
   "source": [
    "Methods like .\\_\\_str\\_\\_() are commonly called __dunder methods__ because they begin and end with double underscores.\n",
    "\n",
    "There are a number of dunder methods available that allow your classes to work well with other Python language features."
   ]
  },
  {
   "cell_type": "markdown",
   "metadata": {},
   "source": [
    "<div style='color:gray;'> \n",
    "Advanced OOP concepts\n",
    "</div>"
   ]
  },
  {
   "cell_type": "markdown",
   "metadata": {},
   "source": [
    "#### Inherit From Other Classes\n",
    "\n",
    "You should now have a pretty good idea of how to create a class that stores some data and provides some methods to interact with that data and define behaviors for an object.\n",
    "\n",
    "In the next section, you’ll see how to take your knowledge one step further and create classes from other classes.\n",
    "\n",
    "Inheritance is the process by which one class takes on the attributes and methods of another.\n",
    "\n",
    "Newly formed classes are called __child classes__, and the classes that child classes are derived from are called\n",
    "__parent classes__.\n",
    "\n",
    "Child classes can override and extend the attributes and methods of parent classes. In other words, child classes inherit all of the parent’s attributes and methods but can also specify different attributes and methods that are unique to themselves, or even redefine methods from their parent class."
   ]
  },
  {
   "cell_type": "markdown",
   "metadata": {},
   "source": [
    "An example:"
   ]
  },
  {
   "cell_type": "markdown",
   "metadata": {},
   "source": [
    "Suppose now that you want to model an entire big organization employees with Python classes.\n",
    "\n",
    "The Employee class you wrote in the previous section can distinguish employee by name and age, but not by department.\n",
    "\n",
    "You could modify the Employee class by adding a __.dep__ attribute:"
   ]
  },
  {
   "cell_type": "code",
   "execution_count": null,
   "metadata": {},
   "outputs": [],
   "source": [
    "class Employee:\n",
    "    company_name = \"Emlyon\"\n",
    "    def __init__(self, name, age, dep):\n",
    "        self.name = name\n",
    "        self.age = age\n",
    "        self.dep = dep\n",
    "        \n",
    "    def __str__(self):\n",
    "        return f\"{self.name} is {self.age} years old and he is working in {self.dep} department\""
   ]
  },
  {
   "cell_type": "code",
   "execution_count": null,
   "metadata": {},
   "outputs": [],
   "source": [
    "emp1 = Employee(\"David\", 23, \"HR\")"
   ]
  },
  {
   "cell_type": "code",
   "execution_count": null,
   "metadata": {},
   "outputs": [],
   "source": [
    "print(emp1)"
   ]
  },
  {
   "cell_type": "markdown",
   "metadata": {},
   "source": [
    "We now that each group of employee has slightly different behaviors (tasks to perform). You can simplify the experience of working with the Employee class by creating a child class for each group of employees."
   ]
  },
  {
   "cell_type": "markdown",
   "metadata": {},
   "source": [
    "#### Parent Classes vs Child Classes"
   ]
  },
  {
   "cell_type": "code",
   "execution_count": null,
   "metadata": {},
   "outputs": [],
   "source": [
    "class Employee:\n",
    "    company_name = \"Emlyon\"\n",
    "    def __init__(self, name, age):\n",
    "        self.name = name\n",
    "        self.age = age\n",
    "        \n",
    "    def __str__(self):\n",
    "        return f\"{self.name} is {self.age} years old\""
   ]
  },
  {
   "cell_type": "markdown",
   "metadata": {},
   "source": [
    "Remember, to create a child class, you create new class with its own name and then put the name of the parent class in parentheses. \n",
    "\n",
    "The following creates two new child classes of the Employee class and gives each employee its own sound:"
   ]
  },
  {
   "cell_type": "code",
   "execution_count": null,
   "metadata": {},
   "outputs": [],
   "source": [
    "class HREmployee(Employee):\n",
    "    \n",
    "    def __init__(self, name, age, wh):\n",
    "        super().__init__(name,age)\n",
    "        self.working_hours = wh\n",
    "    \n",
    "    def update_working_hours(self, new_hour):\n",
    "        self.working_hours  = new_hour\n",
    "        \n",
    "    def __str__(self):\n",
    "        return f\"{self.name} is {self.age} years old and works in HR and has {self.working_hours } working hours!\""
   ]
  },
  {
   "cell_type": "code",
   "execution_count": null,
   "metadata": {},
   "outputs": [],
   "source": [
    "class ManagementEmployee(Employee):\n",
    "\n",
    "    def __init__(self, name, age):\n",
    "        super().__init__(name,age)\n",
    "        self.emp_list = []\n",
    "    \n",
    "    def add_employee(self, emp_name):\n",
    "        self.emp_list.append(emp_name)\n",
    "        \n",
    "    def give_emp_list(self):\n",
    "        for i in range(len(self.emp_list)):\n",
    "            print(f\"{i} : {self.emp_list[i]}\")"
   ]
  },
  {
   "cell_type": "markdown",
   "metadata": {},
   "source": [
    "With the child classes defined, you can now instantiate some employees of specific section:    "
   ]
  },
  {
   "cell_type": "code",
   "execution_count": null,
   "metadata": {},
   "outputs": [],
   "source": [
    "hr_emp_1 = HREmployee(\"David\", 23, 8)"
   ]
  },
  {
   "cell_type": "code",
   "execution_count": null,
   "metadata": {},
   "outputs": [],
   "source": [
    "hr_emp_1.update_working_hours(10)"
   ]
  },
  {
   "cell_type": "code",
   "execution_count": null,
   "metadata": {},
   "outputs": [],
   "source": [
    "print(hr_emp_1)"
   ]
  },
  {
   "cell_type": "code",
   "execution_count": null,
   "metadata": {},
   "outputs": [],
   "source": [
    "hr_emp_1.working_hours"
   ]
  },
  {
   "cell_type": "code",
   "execution_count": null,
   "metadata": {},
   "outputs": [],
   "source": [
    "management_emp_1 = ManagementEmployee(\"Alice\", 35)"
   ]
  },
  {
   "cell_type": "code",
   "execution_count": null,
   "metadata": {},
   "outputs": [],
   "source": [
    "print(management_emp_1)"
   ]
  },
  {
   "cell_type": "code",
   "execution_count": null,
   "metadata": {},
   "outputs": [],
   "source": [
    "management_emp_1.give_emp_list()"
   ]
  },
  {
   "cell_type": "code",
   "execution_count": null,
   "metadata": {},
   "outputs": [],
   "source": [
    "management_emp_1.add_employee(\"John\")\n",
    "management_emp_1.add_employee(\"Maria\")"
   ]
  },
  {
   "cell_type": "code",
   "execution_count": null,
   "metadata": {},
   "outputs": [],
   "source": [
    "management_emp_1.give_emp_list()"
   ]
  },
  {
   "cell_type": "markdown",
   "metadata": {},
   "source": [
    "#### Properties\n",
    "\n",
    "Another concept from the encapsulation paradigm are __read-only attributes__. \n",
    "\n",
    "You use it if you think it is a bad idea if someone changes the value of that attribute from outside the class. But you still want the possibility to see the value of the attribute.\n",
    "\n",
    "This is done by using a getter-function that will return the value of the attribute. If you include the \"__@property__\" decorator, you can change the behaviour of the function so that it will be more like an attribute (you will not need the brackets for calling the function):"
   ]
  },
  {
   "cell_type": "code",
   "execution_count": null,
   "metadata": {},
   "outputs": [],
   "source": [
    "class MyClass:\n",
    "\n",
    "    def __init__(self):\n",
    "        self._hidden = 42\n",
    "\n",
    "    @property\n",
    "    def hidden(self):\n",
    "        return self._hidden\n",
    "\n",
    "    def get_hidden(self):\n",
    "        return self._hidden"
   ]
  },
  {
   "cell_type": "code",
   "execution_count": null,
   "metadata": {},
   "outputs": [],
   "source": [
    "my_object = MyClass()"
   ]
  },
  {
   "cell_type": "code",
   "execution_count": null,
   "metadata": {},
   "outputs": [],
   "source": [
    "print(my_object.hidden)"
   ]
  },
  {
   "cell_type": "code",
   "execution_count": null,
   "metadata": {},
   "outputs": [],
   "source": [
    "# you cannot assign a value to a function, so this line will give an error\n",
    "my_object.hidden = 0"
   ]
  },
  {
   "cell_type": "code",
   "execution_count": null,
   "metadata": {},
   "outputs": [],
   "source": [
    "# but accessing the value directly still works, although you probably should not do it\n",
    "my_object._hidden = 0"
   ]
  },
  {
   "cell_type": "code",
   "execution_count": null,
   "metadata": {},
   "outputs": [],
   "source": [
    "# the getter-function has to be called with the brackets\n",
    "print(my_object.get_hidden())"
   ]
  },
  {
   "cell_type": "markdown",
   "metadata": {},
   "source": [
    "### File I/O\n",
    "\n",
    "___"
   ]
  },
  {
   "cell_type": "markdown",
   "metadata": {},
   "source": [
    "Before you can read or write a file, you have to open it using Python's built-in open() function. This function creates a __file__ <font color='red'><b>object</b></font>."
   ]
  },
  {
   "cell_type": "code",
   "execution_count": null,
   "metadata": {},
   "outputs": [],
   "source": [
    "my_file = open(file='data/sample.txt', mode='w')"
   ]
  },
  {
   "cell_type": "markdown",
   "metadata": {},
   "source": [
    "mode: This parameter is a string that is used to specify the mode in which the file is to be opened.\n",
    "\n",
    "- “r”: This string is used to read(only) the file.\n",
    "\n",
    "- “w”: This string is used for writing on/over the file. __If the file with the supplied name doesn’t exist, it creates one for you__.\n",
    "\n",
    "- “a”: This string is used to add(append) content to an existing file. __If no such file exists, it creates one for you__."
   ]
  },
  {
   "cell_type": "markdown",
   "metadata": {},
   "source": [
    "Let's check some file attributes:"
   ]
  },
  {
   "cell_type": "code",
   "execution_count": null,
   "metadata": {},
   "outputs": [],
   "source": [
    "print(\"Name of the file: \", my_file.name)\n",
    "print(\"Closed or not : \", my_file.closed)\n",
    "print(\"Opening mode : \", my_file.mode)"
   ]
  },
  {
   "cell_type": "markdown",
   "metadata": {},
   "source": [
    "#### The close() Function\n",
    "\n",
    "The close() method of a file object flushes any unwritten information and closes the file object, after which no more writing can be done."
   ]
  },
  {
   "cell_type": "code",
   "execution_count": null,
   "metadata": {},
   "outputs": [],
   "source": [
    "my_file.close()"
   ]
  },
  {
   "cell_type": "markdown",
   "metadata": {},
   "source": [
    "#### The write() Function\n",
    "\n",
    "The write() method writes any string to an open file."
   ]
  },
  {
   "cell_type": "code",
   "execution_count": null,
   "metadata": {},
   "outputs": [],
   "source": [
    "my_file = open(file='data/sample.txt', mode='w')\n",
    "my_file.write('Hello file!')\n",
    "my_file.write('\\n')\n",
    "my_file.write('This is me!')\n",
    "my_file.close()"
   ]
  },
  {
   "cell_type": "markdown",
   "metadata": {},
   "source": [
    "<div class=\"alert-info\"> \n",
    "The write() method does not add a newline character ('\\n') to the end of the string.\n",
    "</div>"
   ]
  },
  {
   "cell_type": "markdown",
   "metadata": {},
   "source": [
    "#### The read() Method\n",
    "\n",
    "The read() method reads a string from an open file."
   ]
  },
  {
   "cell_type": "code",
   "execution_count": null,
   "metadata": {},
   "outputs": [],
   "source": [
    "my_file = open(file='data/sample.txt', mode='r')\n",
    "file_output = my_file.read()\n",
    "my_file.close()"
   ]
  },
  {
   "cell_type": "code",
   "execution_count": null,
   "metadata": {},
   "outputs": [],
   "source": [
    "file_output"
   ]
  },
  {
   "cell_type": "code",
   "execution_count": null,
   "metadata": {},
   "outputs": [],
   "source": [
    "my_file = open(file='data/sample.txt', mode='r')\n",
    "file_output = my_file.readline()\n",
    "my_file.close()"
   ]
  },
  {
   "cell_type": "code",
   "execution_count": null,
   "metadata": {},
   "outputs": [],
   "source": [
    "file_output"
   ]
  },
  {
   "cell_type": "code",
   "execution_count": null,
   "metadata": {},
   "outputs": [],
   "source": [
    "my_file = open(file='data/sample.txt', mode='r')\n",
    "file_output = my_file.readlines()\n",
    "my_file.close()"
   ]
  },
  {
   "cell_type": "code",
   "execution_count": null,
   "metadata": {},
   "outputs": [],
   "source": [
    "file_output"
   ]
  },
  {
   "cell_type": "code",
   "execution_count": null,
   "metadata": {},
   "outputs": [],
   "source": [
    "my_file = open(file='data/sample.txt', mode='r')\n",
    "file_output = \"\"\n",
    "\n",
    "for line in my_file:\n",
    "    print(line)\n",
    "    \n",
    "my_file.close()"
   ]
  },
  {
   "cell_type": "code",
   "execution_count": null,
   "metadata": {},
   "outputs": [],
   "source": [
    "file_output"
   ]
  },
  {
   "cell_type": "markdown",
   "metadata": {},
   "source": [
    "### Visualization\n",
    "\n",
    "---"
   ]
  },
  {
   "cell_type": "markdown",
   "metadata": {},
   "source": [
    "In this section, you will get an introduction to the __matplotlib__ package, which is one of the more popular packages for quickly creating two-dimensional figures."
   ]
  },
  {
   "cell_type": "code",
   "execution_count": null,
   "metadata": {},
   "outputs": [],
   "source": [
    "import matplotlib.pyplot as plt\n",
    "import numpy as np"
   ]
  },
  {
   "cell_type": "markdown",
   "metadata": {},
   "source": [
    "#### The first example"
   ]
  },
  {
   "cell_type": "code",
   "execution_count": null,
   "metadata": {},
   "outputs": [],
   "source": [
    "my_list = [10, 20, 25, 35]\n",
    "plt.plot(my_list);"
   ]
  },
  {
   "cell_type": "markdown",
   "metadata": {},
   "source": [
    "#### Anatomy of a \"Plot\"\n",
    "<center>\n",
    "    <img src=\"images/plot_anatomy.png\" alt=\"centered image\" width=\"60%\"/>\n",
    "</center>\n",
    "\n",
    "The ``Figure`` is the top-level container in this hierarchy.  It is the overall window/page that everything is drawn on.  You can have multiple independent figures and ``Figure``s can contain multiple ``Axes`` / ``Subplots``. \n",
    "\n",
    "Each ``Axes`` has an ``XAxis`` and a ``YAxis``.  These contain the ticks, tick locations, labels, etc.  In this tutorial, we'll mostly control ticks, tick labels, and data limits through other mechanisms, so we won't touch the individual ``Axis`` part of things all that much.  However, it is worth mentioning here to explain where the term ``Axes`` comes from."
   ]
  },
  {
   "cell_type": "markdown",
   "metadata": {},
   "source": [
    "### Figure\n",
    "To manage multiple plots and subplots it makes sense to explcitly create the `figure` and `axes` objects.<br>"
   ]
  },
  {
   "cell_type": "code",
   "execution_count": null,
   "metadata": {},
   "outputs": [],
   "source": [
    "fig, axes = plt.subplots(nrows=1, ncols=1)"
   ]
  },
  {
   "cell_type": "markdown",
   "metadata": {},
   "source": [
    "`plt.subplots` returns us both a figure and an array of axes/subplots.\n",
    "\n",
    "If we want to created multiple subplots:"
   ]
  },
  {
   "cell_type": "code",
   "execution_count": null,
   "metadata": {},
   "outputs": [],
   "source": [
    "fig, axes = plt.subplots(nrows = 2, ncols = 4)"
   ]
  },
  {
   "cell_type": "markdown",
   "metadata": {},
   "source": [
    "#### improving appearance with `fig.tight_layout()` and `figsize`\n",
    "Right now the figure is very small and also the axis tick labels are overlapping. <br>\n",
    "To fix that we can call `fig.tight_layout()`"
   ]
  },
  {
   "cell_type": "code",
   "execution_count": null,
   "metadata": {},
   "outputs": [],
   "source": [
    "fig, axes = plt.subplots(nrows = 2, ncols = 4)\n",
    "fig.tight_layout()"
   ]
  },
  {
   "cell_type": "markdown",
   "metadata": {},
   "source": [
    "And also change change the figure size with the parameter `figsize`"
   ]
  },
  {
   "cell_type": "code",
   "execution_count": null,
   "metadata": {},
   "outputs": [],
   "source": [
    "fig, axes = plt.subplots(nrows = 2, ncols = 4, figsize=(10, 4))\n",
    "fig.tight_layout()"
   ]
  },
  {
   "cell_type": "markdown",
   "metadata": {},
   "source": [
    "#### `set`ting up our subplot"
   ]
  },
  {
   "cell_type": "code",
   "execution_count": null,
   "metadata": {},
   "outputs": [],
   "source": [
    "fig, ax = plt.subplots(nrows = 1, ncols = 1)"
   ]
  },
  {
   "cell_type": "markdown",
   "metadata": {},
   "source": [
    "Matplotlib's objects typically have lots of \"explicit setters\" -- in other words, functions that start with ``set_<something>`` and control a particular option. \n",
    "\n",
    "To demonstrate this (and as an example of IPython's tab-completion), try typing `ax.set_` in a code cell, then hit the `<Tab>` key.  You'll see a long list of `Axes` methods that start with `set`.\n",
    "\n",
    "So lets `set`up some things"
   ]
  },
  {
   "cell_type": "code",
   "execution_count": null,
   "metadata": {},
   "outputs": [],
   "source": [
    "ax.set_xlim([0.5, 4.5])\n",
    "ax.set_ylim([-2, 8])\n",
    "ax.set_title(\"An Example Axes\")\n",
    "ax.set_ylabel(\"Y-Axis\")\n",
    "ax.set_xlabel(\"X-Axis\")"
   ]
  },
  {
   "cell_type": "markdown",
   "metadata": {},
   "source": [
    "In notebooks we can show our figure just by writting its variable"
   ]
  },
  {
   "cell_type": "code",
   "execution_count": null,
   "metadata": {},
   "outputs": [],
   "source": [
    "fig"
   ]
  },
  {
   "cell_type": "markdown",
   "metadata": {},
   "source": [
    "#### Conditional bar plots"
   ]
  },
  {
   "cell_type": "code",
   "execution_count": null,
   "metadata": {},
   "outputs": [],
   "source": [
    "np.random.seed(1)\n",
    "\n",
    "x = np.arange(5)\n",
    "y = np.random.randn(5)\n",
    "\n",
    "fig, ax = plt.subplots()\n",
    "\n",
    "vert_bars = ax.bar(x, y) \n",
    "\n",
    "for bar, height in zip(vert_bars, y):\n",
    "    if height < 0:\n",
    "        bar.set(color='red')\n",
    "        \n",
    "ax.axhline(y=0, color='black', linewidth=2);"
   ]
  },
  {
   "cell_type": "markdown",
   "metadata": {},
   "source": [
    "#### Displaying 2d data with `imshow`\n",
    "with `imshow` we can also display images"
   ]
  },
  {
   "cell_type": "code",
   "execution_count": null,
   "metadata": {},
   "outputs": [],
   "source": [
    "fig, ax = plt.subplots()\n",
    "\n",
    "img = plt.imread(\"images/cat.jpg\")\n",
    "ax.imshow(img)\n",
    "ax.axis(\"off\");"
   ]
  },
  {
   "cell_type": "markdown",
   "metadata": {},
   "source": [
    "#### Scatter for n-dimensional data\n",
    "`scatter` allows to map several dimensions to different aesthetics such as x-postion, color, size and shape."
   ]
  },
  {
   "cell_type": "code",
   "execution_count": null,
   "metadata": {},
   "outputs": [],
   "source": [
    "n = 50\n",
    "x1 = np.random.random(n)\n",
    "x2 = np.random.random(n) * 50\n",
    "x3 = np.random.random(n)\n",
    "\n",
    "y = x1 + x2 + x3\n",
    "\n",
    "fig, ax = plt.subplots()\n",
    "#https://matplotlib.org/3.5.0/api/_as_gen/matplotlib.axes.Axes.scatter.html\n",
    "sc = ax.scatter(x=x1, y=y, s=x2, c=x3, marker='o')\n",
    "fig.colorbar(sc)\n",
    "#plt.show()"
   ]
  },
  {
   "cell_type": "markdown",
   "metadata": {},
   "source": [
    "---"
   ]
  },
  {
   "cell_type": "markdown",
   "metadata": {},
   "source": [
    "<div class=\"alert-info\" style=\"border-bottom: solid 1px lightgray; background-color:#f0ffff;\">\n",
    "    <img src=\"images/self.png\" style=\"height:60px; float:left; padding-right:10px;\" />\n",
    "    <span style=\"font-weight:bold; color:#1a8a8a\">\n",
    "        <h4 style=\"padding-top:25px;\"> SELF-STUDY </h4>\n",
    "    </span>\n",
    "</div>"
   ]
  },
  {
   "cell_type": "markdown",
   "metadata": {
    "id": "d0c83491-d708-4e77-88ae-993758692d57",
    "tags": [],
    "toc-hr-collapsed": false
   },
   "source": [
    "### The \"language\" of Matplotlib.\n",
    "\n",
    "This section will go over many of the properties that are used throughout this library."
   ]
  },
  {
   "cell_type": "markdown",
   "metadata": {},
   "source": [
    "<div style='color:gray; font-size:16pt;'> \n",
    "Colors\n",
    "</div>"
   ]
  },
  {
   "cell_type": "markdown",
   "metadata": {
    "id": "0640d6b1-bccc-4084-865c-ef31ff6969bb",
    "tags": [],
    "toc-hr-collapsed": false
   },
   "source": [
    "This is, perhaps, the most important piece of vocabulary in Matplotlib. Given that Matplotlib is a plotting library, colors are associated with everything that is plotted in your figures. Matplotlib supports a [very robust language](http://matplotlib.org/api/colors_api.html#module-matplotlib.colors) for specifying colors that should be familiar to a wide variety of users.\n",
    "\n",
    "[By default](https://matplotlib.org/stable/gallery/color/color_cycle_default.html) matplotlib will choose different colors when combining data on the same axes."
   ]
  },
  {
   "cell_type": "code",
   "execution_count": null,
   "metadata": {
    "id": "d7fcbd87-a95a-421e-9ac4-5ddc0e648f12",
    "outputId": "280f6b1e-9f58-4334-e8d2-fd9b28428840"
   },
   "outputs": [],
   "source": [
    "t = np.arange(0.0, 5.0, 0.2)\n",
    "fig, ax = plt.subplots()\n",
    "ax.plot(t, t, linewidth=5)\n",
    "ax.plot(t, t**2, linewidth=5)\n",
    "ax.plot(t, t**3, linewidth=5)\n",
    "plt.show()"
   ]
  },
  {
   "cell_type": "markdown",
   "metadata": {
    "id": "3e760405-732b-46b6-94b9-bc436eff9cb4"
   },
   "source": [
    "#### Colornames\n",
    "Fi#rst, colors can be given as strings. For very basic colors, you can even get away with just a single letter:\n",
    "\n",
    "- b: blue\n",
    "- g: green\n",
    "- r: red\n",
    "- c: cyan\n",
    "- m: magenta\n",
    "- y: yellow\n",
    "- k: black\n",
    "- w: white\n",
    "\n",
    "Other colornames that are allowed are the HTML/CSS colornames such as \"burlywood\" and \"chartreuse\". See the [full list](https://www.w3schools.com/colors/colors_names.asp) of the 147 colornames."
   ]
  },
  {
   "cell_type": "code",
   "execution_count": null,
   "metadata": {
    "id": "be7a02a9-c737-46e5-bd04-29bf2040fed1",
    "outputId": "cb489a1f-57bc-483d-c5f8-e97dafba6d4c"
   },
   "outputs": [],
   "source": [
    "t = np.arange(0.0, 5.0, 0.2)\n",
    "fig, ax = plt.subplots()\n",
    "ax.plot(t, t, linewidth=5, color=\"r\")\n",
    "ax.plot(t, t**2, linewidth=5, color=\"blue\")\n",
    "ax.plot(t, t**3, linewidth=5, color=\"yellowgreen\")\n",
    "plt.show()"
   ]
  },
  {
   "cell_type": "markdown",
   "metadata": {
    "id": "77f1e586-4b11-4190-a147-c7cbc5767238"
   },
   "source": [
    "#### Hex values\n",
    "\n",
    "Colors can also be specified by supplying a HTML/CSS hex string, such as `'#0000FF'` for blue. Support for an optional alpha channel was added for v2.0. For more information about hex colors have a look at https://en.wikipedia.org/wiki/Web_colors#Hex_triplet."
   ]
  },
  {
   "cell_type": "code",
   "execution_count": null,
   "metadata": {
    "id": "c2ff9188-359a-4b69-9c30-0ef533631844",
    "outputId": "59bc7ad1-fa82-4e75-ed01-4bd2ec08291f"
   },
   "outputs": [],
   "source": [
    "t = np.arange(0.0, 5.0, 0.2)\n",
    "fig, ax = plt.subplots()\n",
    "ax.plot(t, t, linewidth=5, color='#00ffff')\n",
    "ax.plot(t, t**2, linewidth=5, color='#ff00ff')\n",
    "ax.plot(t, t**3, linewidth=5, color='#ffcc00')\n",
    "plt.show()"
   ]
  },
  {
   "cell_type": "markdown",
   "metadata": {
    "id": "de5338b3-6020-4c5d-9224-9679911d036a",
    "tags": []
   },
   "source": [
    "#### RGB[A] tuples\n",
    "\n",
    "You may come upon instances where the previous ways of specifying colors do not work. This can sometimes happen in some of the deeper, stranger levels of the library. When all else fails, the universal language of colors for matplotlib is the RGB[A] tuple. This is the \"Red\", \"Green\", \"Blue\", and sometimes \"Alpha\" tuple of floats in the range of [0, 1]. One means full saturation of that channel, so a red RGBA tuple would be `(1.0, 0.0, 0.0, 1.0)`, whereas a partly transparent green RGBA tuple would be `(0.0, 1.0, 0.0, 0.75)`.  The documentation will usually specify whether it accepts RGB or RGBA tuples. Sometimes, a list of tuples would be required for multiple colors, and you can even supply a Nx3 or Nx4 numpy array in such cases.\n",
    "\n",
    "In functions such as `plot()` and `scatter()`, while it may appear that they can take a color specification, what they really need is a \"format specification\", which includes color as part of the format. Unfortunately, such specifications are string only and so RGB[A] tuples are not supported for such arguments (but you can still pass an RGB[A] tuple for a \"color\" argument).\n",
    "\n",
    "Oftentimes there is a separate argument for \"alpha\" where-ever you can specify a color. The value for \"alpha\" will usually take precedence over the alpha value in the RGBA tuple. There is no easy way around this inconsistency."
   ]
  },
  {
   "cell_type": "code",
   "execution_count": null,
   "metadata": {
    "id": "da83b607-e79b-4eed-bb4d-683f8acdb2f3",
    "outputId": "267f3d29-856b-4ed3-b7fb-1c01e1a9e2f2"
   },
   "outputs": [],
   "source": [
    "t = np.arange(0.0, 3.0, 0.2)\n",
    "fig, ax = plt.subplots()\n",
    "ax.plot(t, t, linewidth=5, color=(0, 0, 1))\n",
    "ax.plot(t, t**2, linewidth=5, color=(0, 0, 1, 0.5))\n",
    "# the alpha value can also be specified as an additional kwarg\n",
    "ax.plot(t, t**3, linewidth=5, color=\"b\", alpha=0.5)\n",
    "plt.show()"
   ]
  },
  {
   "cell_type": "markdown",
   "metadata": {
    "id": "051e6d8b-f1d5-458e-be7b-ca3127306fba",
    "tags": []
   },
   "source": [
    "#### 256 Shades of Gray\n",
    "\n",
    "A gray level can be given instead of a color by passing a string representation of a number between 0 and 1 (inclusive). `'0.0'` is black, while `'1.0'` is white. `'0.75'` would be a light shade of gray.\n"
   ]
  },
  {
   "cell_type": "code",
   "execution_count": null,
   "metadata": {
    "id": "9e7f2091-cf27-4f55-8286-450b31bd6ce1",
    "outputId": "f9a6dd24-46da-498d-a784-aa278927a066"
   },
   "outputs": [],
   "source": [
    "t = np.arange(0.0, 5.0, 0.2)\n",
    "fig, ax = plt.subplots()\n",
    "ax.plot(t, t, linewidth=5, color='1.0')\n",
    "ax.plot(t, t**2, linewidth=5, color='0.5')\n",
    "ax.plot(t, t**3, linewidth=5, color='0.0')\n",
    "plt.show()"
   ]
  },
  {
   "cell_type": "markdown",
   "metadata": {
    "id": "b2b22bff-eef8-49cb-bdc3-1715e1cd48f6",
    "tags": []
   },
   "source": [
    "#### Cycle references\n",
    "\n",
    "With the advent of fancier color cycles coming from the many available styles, users needed a way to reference those colors in the style without explicitly knowing what they are. So, in v2.0, the ability to reference the first 10 iterations of the color cycle was added. Whereever one could specify a color, you can supply a 2 character string of 'C#'. So, 'C0' would be the first color, 'C1' would be the second, and so on and so forth up to 'C9'."
   ]
  },
  {
   "cell_type": "code",
   "execution_count": null,
   "metadata": {
    "id": "576c20d3-b0d1-4c1b-9c1d-f5ad0f704750",
    "outputId": "55f2fe57-263d-4b27-e917-a2bbb43bc360"
   },
   "outputs": [],
   "source": [
    "t = np.arange(0.0, 5.0, 0.2)\n",
    "fig, ax = plt.subplots()\n",
    "ax.plot(t, t, linewidth=5)\n",
    "ax.plot(t, t**2, linewidth=5)\n",
    "ax.plot(t, t**3, linewidth=5)\n",
    "plt.show()"
   ]
  },
  {
   "cell_type": "code",
   "execution_count": null,
   "metadata": {
    "id": "9fbf5c74-8a65-454b-8eba-538f8474e150",
    "outputId": "109a128b-2c7b-4401-ee25-43eb71ea6ea4"
   },
   "outputs": [],
   "source": [
    "t = np.arange(0.0, 5.0, 0.2)\n",
    "fig, ax = plt.subplots()\n",
    "ax.plot(t, t, linewidth=5, color='C0')\n",
    "ax.plot(t, t**2, linewidth=5, color='C1')\n",
    "ax.plot(t, t**3, linewidth=5, color='C2')\n",
    "plt.show()"
   ]
  },
  {
   "cell_type": "markdown",
   "metadata": {},
   "source": [
    "<div style='color:gray; font-size:16pt;'> \n",
    "Markers\n",
    "</div>"
   ]
  },
  {
   "cell_type": "markdown",
   "metadata": {
    "id": "df687547-6f23-4b10-92bf-faabedb00bfb"
   },
   "source": [
    "[Markers](http://matplotlib.org/api/markers_api.html) are commonly used in [`plot()`](http://matplotlib.org/api/pyplot_api.html#matplotlib.pyplot.plot) and [`scatter()`](http://matplotlib.org/api/pyplot_api.html#matplotlib.pyplot.scatter) plots, but also show up elsewhere. There is a wide set of markers available, and custom markers can even be specified.\n",
    "\n",
    "marker     |  description  | marker    |  description    |marker    |  description  | marker    |  description  \n",
    ":----------|:--------------| :---------|:--------------  |:---------|:--------------| :---------|:--------------\n",
    "\".\"        |  point        | \"+\"       |  plus           |\",\"       |  pixel        | \"x\"       |  cross\n",
    "\"o\"        |  circle       | \"D\"       |  diamond        |\"d\"       |  thin_diamond |           |\n",
    "\"8\"        |  octagon      | \"s\"       |  square         |\"p\"       |  pentagon     | \"\\*\"      |  star\n",
    "\"&#124;\"   |  vertical line| \"\\_\"      | horizontal line | \"h\"      |  hexagon1     | \"H\"       |  hexagon2\n",
    "0          |  tickleft     | 4         |  caretleft      |\"<\"       | triangle_left | \"3\"       |  tri_left\n",
    "1          |  tickright    | 5         |  caretright     |\">\"       | triangle_right| \"4\"       |  tri_right\n",
    "2          |  tickup       | 6         |  caretup        |\"^\"       | triangle_up   | \"2\"       |  tri_up\n",
    "3          |  tickdown     | 7         |  caretdown      |\"v\"       | triangle_down | \"1\"       |  tri_down\n",
    "\"None\"     |  nothing      | `None`    |  default        |\" \"       |  nothing      |\"\"         |  nothing\n"
   ]
  },
  {
   "cell_type": "code",
   "execution_count": null,
   "metadata": {
    "colab": {
     "base_uri": "https://localhost:8080/",
     "height": 243
    },
    "id": "dd9c4a0e-074b-4215-9b38-ef03f6f6dd37",
    "outputId": "79529759-682f-4ce7-e686-33cb9c6dea3e"
   },
   "outputs": [],
   "source": [
    "t = np.arange(0.0, 5.0, 0.2)\n",
    "fig, ax = plt.subplots()\n",
    "ax.plot(t, t, '.', linewidth=5)\n",
    "ax.plot(t, t**2, 'o', linewidth=5)\n",
    "ax.plot(t, t**3, marker='+', linewidth=1) # With explicit arguments, you can set maker and linestyle separately.\n",
    "ax.plot(t, -t, ls='', marker='v', linewidth=5) \n",
    "plt.show()"
   ]
  },
  {
   "cell_type": "markdown",
   "metadata": {},
   "source": [
    "<div style='color:gray; font-size:16pt;'> \n",
    "Linestyles\n",
    "</div>"
   ]
  },
  {
   "cell_type": "markdown",
   "metadata": {
    "id": "f89c5044-19ac-4828-bf8b-b3632834688f",
    "toc-hr-collapsed": false
   },
   "source": [
    "Line styles are about as commonly used as colors. There are a few predefined linestyles available to use. Note that there are some advanced techniques to specify some custom line styles. [Here](http://matplotlib.org/1.3.0/examples/lines_bars_and_markers/line_demo_dash_control.html) is an example of a custom dash pattern.\n",
    "\n",
    "linestyle          | description\n",
    "-------------------|------------------------------\n",
    "'-'                | solid\n",
    "'--'               | dashed\n",
    "'-.'               | dashdot\n",
    "':'                | dotted\n",
    "'None'             | draw nothing\n",
    "' '                | draw nothing\n",
    "''                 | draw nothing\n",
    "\n",
    "Also, don't mix up \".-\" (line with dot markers) and \"-.\" (dash-dot line) when using the ``plot`` function!"
   ]
  },
  {
   "cell_type": "code",
   "execution_count": null,
   "metadata": {
    "id": "5e2c994f-a6ed-4084-ac46-84061c29ff02",
    "outputId": "f90a463f-d496-4e5b-d068-4f6df5ca3641"
   },
   "outputs": [],
   "source": [
    "t = np.arange(0.0, 5.0, 0.2)\n",
    "fig, ax = plt.subplots()\n",
    "ax.plot(t, t, linestyle='-', linewidth=5)\n",
    "ax.plot(t, t**2, linestyle='--', linewidth=5)\n",
    "ax.plot(t, t**3, linestyle='-.', linewidth=5)\n",
    "ax.plot(t, -t, linestyle=':', linewidth=5)\n",
    "plt.show()"
   ]
  },
  {
   "cell_type": "code",
   "execution_count": null,
   "metadata": {
    "id": "c3752694-e111-4539-aec6-859ddb927ab4",
    "outputId": "640f368a-e35f-4c9a-f0df-d25557729143"
   },
   "outputs": [],
   "source": [
    "fig, ax = plt.subplots(1, 1)\n",
    "ax.bar([1, 2, 3, 4], [10, 20, 15, 13], linestyle='--', edgecolor='r', linewidth=4)\n",
    "plt.show()"
   ]
  },
  {
   "cell_type": "markdown",
   "metadata": {},
   "source": [
    "<div style='color:gray; font-size:16pt;'> \n",
    "Colormaps\n",
    "</div>"
   ]
  },
  {
   "cell_type": "markdown",
   "metadata": {
    "id": "9f8600a0-dbf0-4f24-867a-fbb9eae6d7e9",
    "tags": []
   },
   "source": [
    "Another very important property of many figures is the colormap. The job of a colormap is to relate a scalar value to a color. In addition to the regular portion of the colormap, an \"over\", \"under\" and \"bad\" color can be optionally defined as well. NaNs will trigger the \"bad\" part of the colormap.\n",
    "\n",
    "As we all know, we create figures in order to convey information visually to our readers. There is much care and consideration that have gone into the design of these colormaps. Your choice in which colormap to use depends on what you are displaying. In mpl, the \"jet\" colormap has historically been used by default, but it will often not be the colormap you would want to use. Much discussion has taken place on the mailing lists with regards to what colormap should be default. The v2.0 release of Matplotlib adopted a new default colormap, 'viridis', along with some other stylistic changes to the defaults."
   ]
  },
  {
   "cell_type": "code",
   "execution_count": null,
   "metadata": {
    "id": "0ae42bf3-dd57-43e9-86f1-302aee53fcc8",
    "outputId": "89784468-2e4c-423a-b945-ae67eaba5112"
   },
   "outputs": [],
   "source": [
    "example_x = np.random.normal(size=500)\n",
    "example_y = np.random.normal(size=500)\n",
    "example_z = example_x + example_y\n",
    "\n",
    "plt.scatter(example_x, example_y, c=example_z, cmap=\"jet\")\n",
    "plt.show()"
   ]
  },
  {
   "cell_type": "code",
   "execution_count": null,
   "metadata": {
    "id": "32f72bc4-1fde-48b1-a8cb-dedf1aa1326e",
    "outputId": "5a501b83-0ee6-4886-b2e3-e2a6c37c8cb9"
   },
   "outputs": [],
   "source": [
    "plt.scatter(example_x, example_y, c=example_z, cmap=\"viridis\")\n",
    "plt.show()"
   ]
  },
  {
   "cell_type": "code",
   "execution_count": null,
   "metadata": {
    "id": "c6e28ab3-83bd-430d-8532-84efb001e966",
    "outputId": "5530b54b-8cde-4983-d3d1-7af87a355d8f"
   },
   "outputs": [],
   "source": [
    "def plot_cmap(name, value_range=(0, 1)):\n",
    "    gradient = np.linspace(*value_range, 256)\n",
    "    gradient = np.vstack((gradient, gradient))\n",
    "    fig, ax = plt.subplots(figsize=plt.figaspect(0.1))\n",
    "    ax.imshow(gradient, aspect='auto', cmap=plt.get_cmap(name), vmin=0, vmax=1)\n",
    "    pos = list(ax.get_position().bounds)\n",
    "    x_text = pos[0] - 0.01\n",
    "    y_text = pos[1] + pos[3]/2.\n",
    "    ax.set_title(name, fontsize=20)\n",
    "    ax.axis(\"off\")\n",
    "\n",
    "plot_cmap(\"jet\")"
   ]
  },
  {
   "cell_type": "code",
   "execution_count": null,
   "metadata": {
    "id": "ea5f4226-59d7-4426-aa09-08bb9295fbf6",
    "outputId": "b30f6ac2-e2b6-48ff-aa8d-adb54adb374d"
   },
   "outputs": [],
   "source": [
    "plot_cmap(\"viridis\")"
   ]
  },
  {
   "cell_type": "markdown",
   "metadata": {
    "id": "0bdcdd4e-3ab6-4d8f-b141-505252f58d38"
   },
   "source": [
    "Here you can find the full gallery of all the pre-defined colormaps, organized by the types of data they are usually used for: https://matplotlib.org/3.1.0/tutorials/colors/colormaps.html"
   ]
  },
  {
   "cell_type": "markdown",
   "metadata": {},
   "source": [
    "<div style='color:gray; font-size:16pt;'> \n",
    "Mathtext\n",
    "</div>"
   ]
  },
  {
   "cell_type": "markdown",
   "metadata": {
    "id": "81530da5-51af-431e-b483-042744c5ad63"
   },
   "source": [
    "Oftentimes, you just simply need that superscript or some other math text in your labels. Matplotlib provides a very easy way to do this for those familiar with LaTeX. Any text that is surrounded by dollar signs will be treated as \"[mathtext](http://matplotlib.org/users/mathtext.html#mathtext-tutorial)\". Do note that because backslashes are prevelent in LaTeX, it is often a good idea to prepend an `r` to your string literal so that Python will not treat the backslashes as escape characters."
   ]
  },
  {
   "cell_type": "code",
   "execution_count": null,
   "metadata": {
    "id": "db0c8b86-32b6-4672-862e-d8f5d3019648"
   },
   "outputs": [],
   "source": [
    "print(r\"a\\nb\")"
   ]
  },
  {
   "cell_type": "code",
   "execution_count": null,
   "metadata": {
    "id": "2d194095-3805-4950-9e6c-b05e83086791",
    "outputId": "04e7d9de-e650-4165-8d02-4e61ae508c15"
   },
   "outputs": [],
   "source": [
    "fig, ax = plt.subplots()\n",
    "ax.scatter([1, 2, 3, 4], [4, 3, 2, 1])\n",
    "ax.spines['top'].set(visible=False)  \n",
    "# Removing spines so they don't intersect with the title. tight_layout() is not sufficient here.\n",
    "ax.spines['right'].set(visible=False)\n",
    "ax.set_title(r'$\\sigma_i=\\frac{3}{5}$', fontsize=25)\n",
    "plt.show()"
   ]
  },
  {
   "cell_type": "markdown",
   "metadata": {},
   "source": [
    "<div style='color:gray; font-size:16pt;'> \n",
    "Axis Decoration\n",
    "</div>"
   ]
  },
  {
   "cell_type": "markdown",
   "metadata": {
    "id": "e141515e-52cf-4bd2-8dcc-90be12aaace8",
    "tags": [],
    "toc-hr-collapsed": false
   },
   "source": [
    "In this section, we'll focus on what happens around the edges of the axes:  Ticks, ticklabels, limits, layouts, and legends."
   ]
  },
  {
   "cell_type": "markdown",
   "metadata": {
    "id": "5c46fdde-422d-43bd-a923-7370e37374c1"
   },
   "source": [
    "#### Legends\n",
    "\n",
    "As you've seen in some of the examples so far, the X and Y axis can also be labeled, as well as the subplot itself via the title. \n",
    "\n",
    "However, another thing you can label is the line/point/bar/etc that you plot.  You can provide a label to your plot, which allows your legend to automatically build itself. "
   ]
  },
  {
   "cell_type": "code",
   "execution_count": null,
   "metadata": {
    "id": "9031ad87-57b9-4eff-85b9-2efcde53395e",
    "outputId": "b480e6ed-89b8-42b3-d685-f3d16e89b765"
   },
   "outputs": [],
   "source": [
    "fig, ax = plt.subplots()\n",
    "ax.plot([1, 2, 3, 4], [10, 20, 25, 30])  # Paris\n",
    "ax.plot([1, 2, 3, 4], [30, 23, 13, 4])  # Lyon\n",
    "ax.set(ylabel='Temperature (deg C)', xlabel='Time', title='A tale of two cities')\n",
    "plt.show()"
   ]
  },
  {
   "cell_type": "code",
   "execution_count": null,
   "metadata": {
    "id": "e46a3387-b410-497c-b465-04d1637526fe",
    "outputId": "714d2e2e-5cee-42ae-d4c9-2e12577fb3ef"
   },
   "outputs": [],
   "source": [
    "fig, ax = plt.subplots()\n",
    "ax.plot([1, 2, 3, 4], [10, 20, 25, 30], label='Paris')\n",
    "ax.plot([1, 2, 3, 4], [30, 23, 13, 4], label='Lyon')\n",
    "ax.set(ylabel='Temperature (deg C)', xlabel='Time', title='A tale of two cities')\n",
    "ax.legend()\n",
    "plt.show()"
   ]
  },
  {
   "cell_type": "markdown",
   "metadata": {
    "id": "7fdb52b0-7171-4c2d-8a8a-f76a64d6b1ed"
   },
   "source": [
    "The keyword argument `loc` allows to position the legend at different positions. The `'best'` argument is the default one which automatically chooses the location which overlaps the plot elements as little as possbile.\n",
    "\n",
    "| Location String | Location Code |\n",
    "| --- | --- |\n",
    "| best | 0 |\n",
    "| upper right | 1 |\n",
    "| upper left | 2 |\n",
    "| lower left | 3 |\n",
    "| lower right | 4 |\n",
    "| right | 5 |\n",
    "| center left | 6 |\n",
    "| center right | 7 |\n",
    "| lower center | 8 |\n",
    "| upper center | 9 |\n",
    "| center | 10 |"
   ]
  },
  {
   "cell_type": "code",
   "execution_count": null,
   "metadata": {
    "id": "4c413c0b-c1ec-473d-ad65-ea7dacb8fa36",
    "outputId": "a64dd22b-1cd9-404e-a333-8b7f76f098e4"
   },
   "outputs": [],
   "source": [
    "fig, ax = plt.subplots()\n",
    "ax.plot([1, 2, 3, 4], [10, 20, 25, 30], label='Philadelphia')\n",
    "ax.plot([1, 2, 3, 4], [30, 23, 13, 4], label='Boston')\n",
    "ax.set(ylabel='Temperature (deg C)', xlabel='Time', title='A tale of two cities')\n",
    "ax.legend(loc='center')\n",
    "plt.show()"
   ]
  },
  {
   "cell_type": "markdown",
   "metadata": {
    "id": "c86eefc0-86b9-4b90-8d91-97008b808413"
   },
   "source": [
    "#### Ticks, Tick Lines, Tick Labels and Tickers\n",
    "\n",
    "This is a constant source of confusion:\n",
    "\n",
    "* A Tick is the *location* of a Tick Label.\n",
    "* A Tick Line is the line that denotes the location of the tick.\n",
    "* A Tick Label is the text that is displayed at that tick.\n",
    "* A [`Ticker`](http://matplotlib.org/api/ticker_api.html#module-matplotlib.ticker) automatically determines the ticks for an Axis and formats the tick labels.\n",
    "\n",
    "[`tick_params()`](http://matplotlib.org/api/axes_api.html#matplotlib.axes.Axes.tick_params) is often used to help configure your tickers."
   ]
  },
  {
   "cell_type": "code",
   "execution_count": null,
   "metadata": {
    "id": "7ff365c6-85b9-40f9-aaa7-d8354ec08fe4",
    "outputId": "9250cecf-a4fe-4d5f-8ec2-7ca783d8d52b"
   },
   "outputs": [],
   "source": [
    "fig, ax = plt.subplots()\n",
    "ax.plot([1, 2, 3, 4], [10, 20, 25, 35])\n",
    "\n",
    "# Manually set ticks and tick labels *on the x-axis* (note ax.xaxis.set, not ax.set!)\n",
    "ax.xaxis.set(ticks=range(1, 5), ticklabels=[3, 100, -12, \"foo\"]) \n",
    "\n",
    "# Make the y-tick lines a bit longer and go in...\n",
    "ax.tick_params(axis='y', direction='in', length=10)\n",
    "\n",
    "plt.show()"
   ]
  },
  {
   "cell_type": "code",
   "execution_count": null,
   "metadata": {
    "id": "ed4ef476-40f6-4979-80f8-b3fd6835615d",
    "outputId": "be70b7db-f3b5-4cfd-a563-8dd44d0d288c"
   },
   "outputs": [],
   "source": [
    "data = [('apples', 2), ('oranges', 3), ('peaches', 1)]\n",
    "fruit, value = zip(*data)\n",
    "\n",
    "fig, ax = plt.subplots()\n",
    "x = np.arange(len(fruit))\n",
    "ax.bar(x, value, align='center', color='gray')\n",
    "ax.set(xticks=x, xticklabels=fruit)\n",
    "plt.show()"
   ]
  },
  {
   "cell_type": "markdown",
   "metadata": {
    "id": "35d543e4-c25d-46a3-88e1-58dccc84b4ff"
   },
   "source": [
    "#### Subplot Spacing\n",
    "\n",
    "The spacing between the subplots can be adjusted using [`fig.subplots_adjust()`](http://matplotlib.org/api/pyplot_api.html?#matplotlib.pyplot.subplots_adjust). Play around with the example below to see how the different arguments affect the spacing."
   ]
  },
  {
   "cell_type": "code",
   "execution_count": null,
   "metadata": {
    "id": "14301fc2-e4f3-4fa2-bb88-546789d98958",
    "outputId": "a3c1b1e8-8243-42da-f02f-789135724a2c"
   },
   "outputs": [],
   "source": [
    "fig, axes = plt.subplots(2, 2, figsize=(9, 9))\n",
    "fig.subplots_adjust(wspace=0.3, hspace=-0.7,\n",
    "                   left=0.125, right=0.8,\n",
    "                   top=0.7,    bottom=0.2)\n",
    "plt.show()"
   ]
  },
  {
   "cell_type": "markdown",
   "metadata": {
    "id": "7a1c9f62-aa5c-450f-af90-7590fe6ad31a"
   },
   "source": [
    "A common \"gotcha\" is that the labels are not automatically adjusted to avoid overlapping those of another subplot. Matplotlib does not currently have any sort of robust layout engine, as it is a design decision to minimize the amount of \"magical plotting\". We intend to let users have complete, 100% control over their plots. LaTeX users would be quite familiar with the amount of frustration that can occur with automatic placement of figures in their documents.\n",
    "\n",
    "That said, there have been some efforts to develop tools that users can use to help address the most common compaints. The \"[Tight Layout](http://matplotlib.org/users/tight_layout_guide.html)\" feature, when invoked, will attempt to resize margins and subplots so that nothing overlaps.\n",
    "\n",
    "If you have multiple subplots, and want to avoid overlapping titles/axis labels/etc, `fig.tight_layout` is a great way to do so:"
   ]
  },
  {
   "cell_type": "code",
   "execution_count": null,
   "metadata": {
    "id": "4146178c-6179-4d06-bab0-78da86b999b5"
   },
   "outputs": [],
   "source": [
    "def example_plot(ax):\n",
    "    ax.plot([1, 2])\n",
    "    ax.set_xlabel('x-label', fontsize=16)\n",
    "    ax.set_ylabel('y-label', fontsize=8)\n",
    "    ax.set_title('Title', fontsize=24)"
   ]
  },
  {
   "cell_type": "code",
   "execution_count": null,
   "metadata": {
    "id": "c9287005-9470-434f-9c48-26c941d9a452",
    "outputId": "b55eed02-5279-40bd-84c8-53cbd2f4cd15"
   },
   "outputs": [],
   "source": [
    "fig, ((ax1, ax2), (ax3, ax4)) = plt.subplots(nrows=2, ncols=2)\n",
    "example_plot(ax1)\n",
    "example_plot(ax2)\n",
    "example_plot(ax3)\n",
    "example_plot(ax4)\n",
    "\n",
    "plt.show()"
   ]
  },
  {
   "cell_type": "code",
   "execution_count": null,
   "metadata": {
    "id": "79ff8c4a-6a41-46f8-b419-b0dad63f6123",
    "outputId": "b90877c6-9203-4431-8d2c-044ff8c4eb65"
   },
   "outputs": [],
   "source": [
    "fig, ((ax1, ax2), (ax3, ax4)) = plt.subplots(nrows=2, ncols=2)\n",
    "example_plot(ax1)\n",
    "example_plot(ax2)\n",
    "example_plot(ax3)\n",
    "example_plot(ax4)\n",
    "\n",
    "# Tight layout enabled.\n",
    "fig.tight_layout()\n",
    "\n",
    "plt.show()"
   ]
  },
  {
   "cell_type": "markdown",
   "metadata": {},
   "source": [
    "---"
   ]
  },
  {
   "cell_type": "code",
   "execution_count": null,
   "metadata": {},
   "outputs": [],
   "source": []
  }
 ],
 "metadata": {
  "kernelspec": {
   "display_name": "Python 3 (ipykernel)",
   "language": "python",
   "name": "python3"
  },
  "language_info": {
   "codemirror_mode": {
    "name": "ipython",
    "version": 3
   },
   "file_extension": ".py",
   "mimetype": "text/x-python",
   "name": "python",
   "nbconvert_exporter": "python",
   "pygments_lexer": "ipython3",
   "version": "3.9.13"
  }
 },
 "nbformat": 4,
 "nbformat_minor": 2
}
