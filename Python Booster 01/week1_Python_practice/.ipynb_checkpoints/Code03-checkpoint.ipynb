{
 "cells": [
  {
   "cell_type": "markdown",
   "id": "060c61a1",
   "metadata": {},
   "source": [
    "# Numpy"
   ]
  },
  {
   "cell_type": "code",
   "execution_count": 1,
   "id": "6b14a58b",
   "metadata": {},
   "outputs": [],
   "source": [
    "import numpy as np"
   ]
  },
  {
   "cell_type": "code",
   "execution_count": 3,
   "id": "e79224c3",
   "metadata": {},
   "outputs": [
    {
     "data": {
      "text/plain": [
       "[2, 3, 4, 5]"
      ]
     },
     "execution_count": 3,
     "metadata": {},
     "output_type": "execute_result"
    }
   ],
   "source": [
    "number = [2,3,4,5]\n",
    "number"
   ]
  },
  {
   "cell_type": "code",
   "execution_count": 5,
   "id": "47e69451",
   "metadata": {},
   "outputs": [
    {
     "data": {
      "text/plain": [
       "array([2, 3, 4, 5])"
      ]
     },
     "execution_count": 5,
     "metadata": {},
     "output_type": "execute_result"
    }
   ],
   "source": [
    "arr1 = np.array(number)\n",
    "arr1"
   ]
  },
  {
   "cell_type": "code",
   "execution_count": 6,
   "id": "c02e003c",
   "metadata": {},
   "outputs": [
    {
     "data": {
      "text/plain": [
       "(4,)"
      ]
     },
     "execution_count": 6,
     "metadata": {},
     "output_type": "execute_result"
    }
   ],
   "source": [
    "arr1.shape"
   ]
  },
  {
   "cell_type": "code",
   "execution_count": 8,
   "id": "0a1cdac7",
   "metadata": {},
   "outputs": [],
   "source": [
    "number = [[2,3], [3,4]]\n",
    "arr2 = np.array(number)"
   ]
  },
  {
   "cell_type": "code",
   "execution_count": 9,
   "id": "8a1a6c72",
   "metadata": {},
   "outputs": [
    {
     "data": {
      "text/plain": [
       "(2, 2)"
      ]
     },
     "execution_count": 9,
     "metadata": {},
     "output_type": "execute_result"
    }
   ],
   "source": [
    "arr2.shape"
   ]
  },
  {
   "cell_type": "code",
   "execution_count": 21,
   "id": "c320b153",
   "metadata": {},
   "outputs": [
    {
     "data": {
      "text/plain": [
       "array([2, 3, 3, 4])"
      ]
     },
     "execution_count": 21,
     "metadata": {},
     "output_type": "execute_result"
    }
   ],
   "source": [
    "arr2.reshape(-1) #reshape(-1) 表示重新分配成一个尽可能多的矩阵,reshape(-1,1)重塑尽可能多的但是只有1列"
   ]
  },
  {
   "cell_type": "code",
   "execution_count": null,
   "id": "1ba9731d",
   "metadata": {},
   "outputs": [],
   "source": []
  },
  {
   "cell_type": "code",
   "execution_count": 12,
   "id": "d9a59286",
   "metadata": {},
   "outputs": [
    {
     "data": {
      "text/plain": [
       "array([[1, 2, 3],\n",
       "       [4, 5, 6],\n",
       "       [7, 8, 9]])"
      ]
     },
     "execution_count": 12,
     "metadata": {},
     "output_type": "execute_result"
    }
   ],
   "source": [
    "numbers = [1,2,3,4,5,6,7,8,9]\n",
    "numbers = np.array(number).reshape(3,3)\n",
    "numbers"
   ]
  },
  {
   "cell_type": "code",
   "execution_count": 13,
   "id": "fc65b749",
   "metadata": {},
   "outputs": [
    {
     "data": {
      "text/plain": [
       "9"
      ]
     },
     "execution_count": 13,
     "metadata": {},
     "output_type": "execute_result"
    }
   ],
   "source": [
    "numbers[2,2]"
   ]
  },
  {
   "cell_type": "code",
   "execution_count": 14,
   "id": "58d0048e",
   "metadata": {},
   "outputs": [
    {
     "data": {
      "text/plain": [
       "array([[2, 3],\n",
       "       [5, 6]])"
      ]
     },
     "execution_count": 14,
     "metadata": {},
     "output_type": "execute_result"
    }
   ],
   "source": [
    "numbers[:2,1:3]"
   ]
  },
  {
   "cell_type": "code",
   "execution_count": 15,
   "id": "1d36678d",
   "metadata": {},
   "outputs": [
    {
     "data": {
      "text/plain": [
       "array([[1],\n",
       "       [4],\n",
       "       [7]])"
      ]
     },
     "execution_count": 15,
     "metadata": {},
     "output_type": "execute_result"
    }
   ],
   "source": [
    "numbers[:,0:2:3]  #切片操作 [行，列] [头，尾，步长]"
   ]
  },
  {
   "cell_type": "code",
   "execution_count": null,
   "id": "3f671cd2",
   "metadata": {},
   "outputs": [],
   "source": []
  },
  {
   "cell_type": "code",
   "execution_count": 25,
   "id": "bdd3a6e3",
   "metadata": {},
   "outputs": [],
   "source": [
    "# open the file (txt)\n",
    "\n",
    "myfile = open('./file_code3.txt', mode = 'w') #相对路径\n",
    "myfile.write('hello')\n",
    "myfile.write('\\n')\n",
    "myfile.write('world')\n",
    "myfile.close()"
   ]
  },
  {
   "cell_type": "code",
   "execution_count": 26,
   "id": "b90eb236",
   "metadata": {},
   "outputs": [
    {
     "name": "stdout",
     "output_type": "stream",
     "text": [
      "hello\n",
      "world\n"
     ]
    }
   ],
   "source": [
    "myfile = open('./file_code3.txt', mode = 'r') #相对路径\n",
    "out = myfile.read()\n",
    "myfile.close()\n",
    "print(out)"
   ]
  },
  {
   "cell_type": "code",
   "execution_count": 27,
   "id": "f1310ed7",
   "metadata": {},
   "outputs": [
    {
     "name": "stdout",
     "output_type": "stream",
     "text": [
      "['hello\\n', 'world']\n"
     ]
    }
   ],
   "source": [
    "myfile = open('./file_code3.txt', mode = 'r') #相对路径\n",
    "out = myfile.readlines() # read as a liste\n",
    "myfile.close()\n",
    "print(out)"
   ]
  },
  {
   "cell_type": "code",
   "execution_count": 28,
   "id": "8febe94e",
   "metadata": {},
   "outputs": [
    {
     "name": "stdout",
     "output_type": "stream",
     "text": [
      "hello\n",
      "\n",
      "world\n"
     ]
    }
   ],
   "source": [
    "myfile = open('./file_code3.txt', mode = 'r') #相对路径\n",
    "\n",
    "for line in myfile:\n",
    "    print (line)\n",
    "    \n",
    "myfile.close()"
   ]
  },
  {
   "cell_type": "code",
   "execution_count": null,
   "id": "4d633ea3",
   "metadata": {},
   "outputs": [],
   "source": []
  },
  {
   "cell_type": "code",
   "execution_count": 32,
   "id": "feaea569",
   "metadata": {},
   "outputs": [
    {
     "name": "stdout",
     "output_type": "stream",
     "text": [
      "760\n"
     ]
    }
   ],
   "source": [
    "myfile = open('./data/evennumbers.txt', mode = 'r')\n",
    "\n",
    "result = 0\n",
    "for line in myfile:\n",
    "    #print(line)\n",
    "    result += int(line)\n",
    "    \n",
    "print(result)"
   ]
  },
  {
   "cell_type": "code",
   "execution_count": 42,
   "id": "5fc49a14",
   "metadata": {
    "scrolled": true
   },
   "outputs": [
    {
     "name": "stdout",
     "output_type": "stream",
     "text": [
      "['12\\n', '27\\n', '19\\n', '14\\n', '42\\n', '13\\n', '15\\n', '4\\n', '93\\n', '82\\n', '67\\n', '49\\n', '45\\n', '32\\n', '38\\n', '29\\n', '76\\n', '40\\n', '52\\n', '11']\n",
      "392\n"
     ]
    }
   ],
   "source": [
    "with open('./data/evennumbers.txt', mode = 'r') as myfile:\n",
    "    out = myfile.readlines()\n",
    "    result = 0\n",
    "    for text in out:\n",
    "        text.replace('\\n','')\n",
    "        if int(text)%2 == 0:\n",
    "            result += int(text)\n",
    "    print(out)\n",
    "    print(result)\n",
    "    myfile.close()"
   ]
  },
  {
   "cell_type": "code",
   "execution_count": null,
   "id": "54a16cb9",
   "metadata": {},
   "outputs": [],
   "source": []
  },
  {
   "cell_type": "markdown",
   "id": "8be69182",
   "metadata": {},
   "source": [
    "### Data Visualization"
   ]
  },
  {
   "cell_type": "code",
   "execution_count": 45,
   "id": "253340f6",
   "metadata": {},
   "outputs": [],
   "source": [
    "import matplotlib.pyplot as plt"
   ]
  },
  {
   "cell_type": "code",
   "execution_count": 50,
   "id": "7081d7af",
   "metadata": {
    "scrolled": true
   },
   "outputs": [
    {
     "data": {
      "text/plain": [
       "Text(0.5, 1.0, 'test bar plot')"
      ]
     },
     "execution_count": 50,
     "metadata": {},
     "output_type": "execute_result"
    },
    {
     "data": {
      "image/png": "[encoded data removed]",
      "text/plain": [
       "<Figure size 600x300 with 2 Axes>"
      ]
     },
     "metadata": {},
     "output_type": "display_data"
    }
   ],
   "source": [
    "x = ['A','B','C','D','E']\n",
    "numbers = [20,30,15,80,40]\n",
    "fig,ax = plt.subplots(nrows = 1, ncols = 2, figsize = (6,3))\n",
    "ax[0].plot(numbers)\n",
    "ax[1].bar(x,numbers)\n",
    "\n",
    "ax[0].set_ylim(0,100)\n",
    "ax[0].set_xlabel('Name')\n",
    "ax[1].set_title('test bar plot')"
   ]
  },
  {
   "cell_type": "code",
   "execution_count": null,
   "id": "23cb7104",
   "metadata": {},
   "outputs": [],
   "source": []
  },
  {
   "cell_type": "code",
   "execution_count": 56,
   "id": "fc4d8e57",
   "metadata": {},
   "outputs": [
    {
     "data": {
      "text/plain": [
       "<BarContainer object of 3 artists>"
      ]
     },
     "execution_count": 56,
     "metadata": {},
     "output_type": "execute_result"
    },
    {
     "data": {
      "image/png": "[encoded data removed]",
      "text/plain": [
       "<Figure size 640x480 with 1 Axes>"
      ]
     },
     "metadata": {},
     "output_type": "display_data"
    }
   ],
   "source": [
    "x = ['a','b','c']\n",
    "y = [10,20,30]\n",
    "\n",
    "#plt.subplots(nrows = 1, ncols = 1, figsize = (3,3))\n",
    "#ax.bar(x,y)\n",
    "#plt.show()\n",
    "\n",
    "plt.bar(x,y)\n"
   ]
  },
  {
   "cell_type": "markdown",
   "id": "caee0642",
   "metadata": {},
   "source": [
    "### POO"
   ]
  },
  {
   "cell_type": "code",
   "execution_count": 99,
   "id": "aa8ac343",
   "metadata": {},
   "outputs": [],
   "source": [
    "class student:\n",
    "    \n",
    "    # 构造函数\n",
    "    def __init__(self, name, birthdate):\n",
    "        \n",
    "        # 属性\n",
    "        self.name = name\n",
    "        self.birthdate = birthdate\n",
    "        self.grades = []\n",
    "    \n",
    "    # 方法\n",
    "    def add_grade(self, value):\n",
    "        self.grades.append(value)\n",
    "    \n",
    "    def print_grades(self):\n",
    "        print(f\"{self.name} grades are: \")\n",
    "        for v in self.grades:\n",
    "            print(v)\n",
    "    # 定义输出函数\n",
    "    def __str__(self):\n",
    "        return f\"this is {self.name} student\""
   ]
  },
  {
   "cell_type": "code",
   "execution_count": 100,
   "id": "c76adf65",
   "metadata": {},
   "outputs": [],
   "source": [
    "s1 = student(\"Bob\",\"01/01/2000\") #定义对象\n",
    "s2 = student(\"Alice\",\"01/02/2000\") #定义对象"
   ]
  },
  {
   "cell_type": "code",
   "execution_count": 75,
   "id": "7320df4e",
   "metadata": {},
   "outputs": [
    {
     "name": "stdout",
     "output_type": "stream",
     "text": [
      "Bob\n",
      "Alice\n"
     ]
    }
   ],
   "source": [
    "print(s1.name)\n",
    "print(s2.name)"
   ]
  },
  {
   "cell_type": "code",
   "execution_count": 91,
   "id": "ab64fcb8",
   "metadata": {},
   "outputs": [],
   "source": [
    "s1.add_grade(10)\n",
    "s1.add_grade(18)\n",
    "s1.add_grade(12)\n"
   ]
  },
  {
   "cell_type": "code",
   "execution_count": 92,
   "id": "50650c82",
   "metadata": {},
   "outputs": [
    {
     "name": "stdout",
     "output_type": "stream",
     "text": [
      "Bob grades are: \n",
      "10\n",
      "18\n",
      "12\n"
     ]
    }
   ],
   "source": [
    "s1.print_grades()"
   ]
  },
  {
   "cell_type": "code",
   "execution_count": 101,
   "id": "a3774929",
   "metadata": {},
   "outputs": [
    {
     "name": "stdout",
     "output_type": "stream",
     "text": [
      "this is Bob student\n"
     ]
    }
   ],
   "source": [
    "print(s1)"
   ]
  }
 ],
 "metadata": {
  "kernelspec": {
   "display_name": "Python 3 (ipykernel)",
   "language": "python",
   "name": "python3"
  },
  "language_info": {
   "codemirror_mode": {
    "name": "ipython",
    "version": 3
   },
   "file_extension": ".py",
   "mimetype": "text/x-python",
   "name": "python",
   "nbconvert_exporter": "python",
   "pygments_lexer": "ipython3",
   "version": "3.9.13"
  }
 },
 "nbformat": 4,
 "nbformat_minor": 5
}
