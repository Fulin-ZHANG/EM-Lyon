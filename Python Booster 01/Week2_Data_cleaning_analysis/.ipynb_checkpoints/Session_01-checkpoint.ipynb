{
 "cells": [
  {
   "cell_type": "code",
   "execution_count": 2,
   "id": "aacc086d-07b5-412e-9668-252bd36d3244",
   "metadata": {},
   "outputs": [
    {
     "data": {
      "text/markdown": [
       "<div>\n",
       "    <img src=\"images/emlyon.png\" style=\"height:60px; float:left; padding-right:10px; margin-top:5px\" />\n",
       "    <span>\n",
       "        <h1 style=\"padding-bottom:5px;\"> AI Booster Week 02 - Python for Data Science </h1>\n",
       "        <a href=\"https://masters.em-lyon.com/fr/msc-in-data-science-artificial-intelligence-strategy\">[Emlyon]</a> MSc in Data Science & Artificial Intelligence Strategy (DSAIS) <br/>\n",
       "         Paris | © Antoine SCHERRER\n",
       "    </span>\n",
       "</div>\n",
       "\n",
       "Please make sure you have a working installation of Jupyter Notebook / Jupyter Lab, with Python 3.6+ up and running.\n",
       "\n",
       "## Naming conventions\n",
       "\n",
       "Since we will implement functions that are already available in python standard library or other libraries, you will have to *prefix* every function with `msds_` prefix.\n",
       "\n",
       "For instance, the function implementing the `mean` function should be named `msds_mean`.\n",
       "\n",
       "For every function you write, **you will need to write a test function** that should be named `test_[function_name]`.\n",
       "\n",
       "For instance, the test function for `msds_mean` will be: `test_msds_mean`.\n",
       "\n",
       "**don't forget to document all you function with Python docstring**\n",
       "\n",
       "For instance:\n",
       "```\n",
       "def msds_my_awesome_function():\n",
       "    \"\"\"\n",
       "    This function computes an awesome function\n",
       "    \"\"\"\n",
       "    # Awesome code\n",
       "    ...\n",
       "```\n",
       "\n",
       "All function should be in snake case (no Camel case!)\n",
       "\n",
       "When creating classes, then follow these rules:\n",
       " - class names should be in camel case\n",
       " - method names should be in snake case\n",
       " - attribute names should be in snake case\n",
       "\n",
       "## Exercise's difficulty\n",
       "\n",
       "Every exercise will be prefixed with an indication of its difficulty:\n",
       " - [easy]: easy exercise, should be pretty straightforward for you\n",
       " - [moderate]: intermediate level exercise, you all should manage to solve them\n",
       " - [advanced]: for advanced students who want to go deeper/further\n",
       "\n",
       "**Advanced exercises are not mandatory.**\n",
       "\n",
       "## Required libraries\n",
       "\n",
       "These are the libraries we will use (to check our computations for instance), you need to install them in your virtual environment:\n",
       "\n",
       " - `pandas`: data manipulation library\n",
       " - `scipy`: scientific library in Python\n",
       " - `numpy`: vector/matrix computations\n",
       " - `statistics`: statistics library\n",
       " - `matplotlib`: plotting lib\n",
       " - `seaborn`: alternative plotting lib (based on matplotlib)\n",
       " - `jupyter_black`: plugin for jupyter to allow `black` (code formatter) to run\n",
       " - `unittest`: testing library \n",
       "\n",
       "\n"
      ],
      "text/plain": [
       "<IPython.core.display.Markdown object>"
      ]
     },
     "metadata": {},
     "output_type": "display_data"
    }
   ],
   "source": [
    "from IPython.display import Markdown, display\n",
    "\n",
    "display(Markdown(\"header.md\"))"
   ]
  },
  {
   "cell_type": "markdown",
   "id": "221cf11f-45a3-43fb-8fa3-da591762a3d8",
   "metadata": {},
   "source": [
    "## Session 01 - Introduction, central tendencies and variations"
   ]
  },
  {
   "cell_type": "code",
   "execution_count": 5,
   "id": "b39d1955-f59f-47ef-89f3-d1d617e02863",
   "metadata": {},
   "outputs": [
    {
     "data": {
      "text/html": [
       "\n",
       "                <script type=\"application/javascript\" id=\"jupyter_black\">\n",
       "                (function() {\n",
       "                    if (window.IPython === undefined) {\n",
       "                        return\n",
       "                    }\n",
       "                    var msg = \"WARNING: it looks like you might have loaded \" +\n",
       "                        \"jupyter_black in a non-lab notebook with \" +\n",
       "                        \"`is_lab=True`. Please double check, and if \" +\n",
       "                        \"loading with `%load_ext` please review the README!\"\n",
       "                    console.log(msg)\n",
       "                    alert(msg)\n",
       "                })()\n",
       "                </script>\n",
       "                "
      ],
      "text/plain": [
       "<IPython.core.display.HTML object>"
      ]
     },
     "metadata": {},
     "output_type": "display_data"
    }
   ],
   "source": [
    "# Initial imports\n",
    "import unittest\n",
    "import pandas as pd\n",
    "import numpy as np\n",
    "import math\n",
    "import matplotlib.pyplot as plt\n",
    "import seaborn as sb\n",
    "\n",
    "# Ignore warnings from seaborn\n",
    "import warnings\n",
    "\n",
    "warnings.filterwarnings(\"ignore\")\n",
    "\n",
    "import jupyter_black\n",
    "\n",
    "jupyter_black.load()"
   ]
  },
  {
   "cell_type": "code",
   "execution_count": 4,
   "id": "4c3f0030",
   "metadata": {},
   "outputs": [
    {
     "name": "stdout",
     "output_type": "stream",
     "text": [
      "Collecting jupyter_black\n",
      "  Downloading jupyter_black-0.3.4-py3-none-any.whl (8.5 kB)\n",
      "Collecting black>=21 (from jupyter_black)\n",
      "  Obtaining dependency information for black>=21 from https://files.pythonhosted.org/packages/72/1a/fc7a669677250d73ea190342d360b3bd150043e61e85d1dbb7ae8bd8525a/black-23.9.1-cp311-cp311-macosx_10_16_universal2.whl.metadata\n",
      "  Downloading black-23.9.1-cp311-cp311-macosx_10_16_universal2.whl.metadata (65 kB)\n",
      "\u001b[2K     \u001b[90m━━━━━━━━━━━━━━━━━━━━━━━━━━━━━━━━━━━━━━━━\u001b[0m \u001b[32m65.1/65.1 kB\u001b[0m \u001b[31m5.5 MB/s\u001b[0m eta \u001b[36m0:00:00\u001b[0m\n",
      "\u001b[?25hRequirement already satisfied: ipython>=7 in /Users/fulin/anaconda3/lib/python3.11/site-packages (from jupyter_black) (8.12.0)\n",
      "Collecting tokenize-rt>=4 (from jupyter_black)\n",
      "  Obtaining dependency information for tokenize-rt>=4 from https://files.pythonhosted.org/packages/8d/35/78f03aa48cfebd13646707f64477bc7eacf1081edcdcd1b4d57cb1b5d0a8/tokenize_rt-5.2.0-py2.py3-none-any.whl.metadata\n",
      "  Downloading tokenize_rt-5.2.0-py2.py3-none-any.whl.metadata (4.1 kB)\n",
      "Requirement already satisfied: click>=8.0.0 in /Users/fulin/anaconda3/lib/python3.11/site-packages (from black>=21->jupyter_black) (8.0.4)\n",
      "Requirement already satisfied: mypy-extensions>=0.4.3 in /Users/fulin/anaconda3/lib/python3.11/site-packages (from black>=21->jupyter_black) (0.4.3)\n",
      "Requirement already satisfied: packaging>=22.0 in /Users/fulin/anaconda3/lib/python3.11/site-packages (from black>=21->jupyter_black) (23.0)\n",
      "Requirement already satisfied: pathspec>=0.9.0 in /Users/fulin/anaconda3/lib/python3.11/site-packages (from black>=21->jupyter_black) (0.10.3)\n",
      "Requirement already satisfied: platformdirs>=2 in /Users/fulin/anaconda3/lib/python3.11/site-packages (from black>=21->jupyter_black) (2.5.2)\n",
      "Requirement already satisfied: backcall in /Users/fulin/anaconda3/lib/python3.11/site-packages (from ipython>=7->jupyter_black) (0.2.0)\n",
      "Requirement already satisfied: decorator in /Users/fulin/anaconda3/lib/python3.11/site-packages (from ipython>=7->jupyter_black) (5.1.1)\n",
      "Requirement already satisfied: jedi>=0.16 in /Users/fulin/anaconda3/lib/python3.11/site-packages (from ipython>=7->jupyter_black) (0.18.1)\n",
      "Requirement already satisfied: matplotlib-inline in /Users/fulin/anaconda3/lib/python3.11/site-packages (from ipython>=7->jupyter_black) (0.1.6)\n",
      "Requirement already satisfied: pickleshare in /Users/fulin/anaconda3/lib/python3.11/site-packages (from ipython>=7->jupyter_black) (0.7.5)\n",
      "Requirement already satisfied: prompt-toolkit!=3.0.37,<3.1.0,>=3.0.30 in /Users/fulin/anaconda3/lib/python3.11/site-packages (from ipython>=7->jupyter_black) (3.0.36)\n",
      "Requirement already satisfied: pygments>=2.4.0 in /Users/fulin/anaconda3/lib/python3.11/site-packages (from ipython>=7->jupyter_black) (2.15.1)\n",
      "Requirement already satisfied: stack-data in /Users/fulin/anaconda3/lib/python3.11/site-packages (from ipython>=7->jupyter_black) (0.2.0)\n",
      "Requirement already satisfied: traitlets>=5 in /Users/fulin/anaconda3/lib/python3.11/site-packages (from ipython>=7->jupyter_black) (5.7.1)\n",
      "Requirement already satisfied: pexpect>4.3 in /Users/fulin/anaconda3/lib/python3.11/site-packages (from ipython>=7->jupyter_black) (4.8.0)\n",
      "Requirement already satisfied: appnope in /Users/fulin/anaconda3/lib/python3.11/site-packages (from ipython>=7->jupyter_black) (0.1.2)\n",
      "Requirement already satisfied: parso<0.9.0,>=0.8.0 in /Users/fulin/anaconda3/lib/python3.11/site-packages (from jedi>=0.16->ipython>=7->jupyter_black) (0.8.3)\n",
      "Requirement already satisfied: ptyprocess>=0.5 in /Users/fulin/anaconda3/lib/python3.11/site-packages (from pexpect>4.3->ipython>=7->jupyter_black) (0.7.0)\n",
      "Requirement already satisfied: wcwidth in /Users/fulin/anaconda3/lib/python3.11/site-packages (from prompt-toolkit!=3.0.37,<3.1.0,>=3.0.30->ipython>=7->jupyter_black) (0.2.5)\n",
      "Requirement already satisfied: executing in /Users/fulin/anaconda3/lib/python3.11/site-packages (from stack-data->ipython>=7->jupyter_black) (0.8.3)\n",
      "Requirement already satisfied: asttokens in /Users/fulin/anaconda3/lib/python3.11/site-packages (from stack-data->ipython>=7->jupyter_black) (2.0.5)\n",
      "Requirement already satisfied: pure-eval in /Users/fulin/anaconda3/lib/python3.11/site-packages (from stack-data->ipython>=7->jupyter_black) (0.2.2)\n",
      "Requirement already satisfied: six in /Users/fulin/anaconda3/lib/python3.11/site-packages (from asttokens->stack-data->ipython>=7->jupyter_black) (1.16.0)\n",
      "Downloading black-23.9.1-cp311-cp311-macosx_10_16_universal2.whl (2.6 MB)\n",
      "\u001b[2K   \u001b[90m━━━━━━━━━━━━━━━━━━━━━━━━━━━━━━━━━━━━━━━━\u001b[0m \u001b[32m2.6/2.6 MB\u001b[0m \u001b[31m2.5 MB/s\u001b[0m eta \u001b[36m0:00:00\u001b[0m00:01\u001b[0m00:01\u001b[0mm\n",
      "\u001b[?25hDownloading tokenize_rt-5.2.0-py2.py3-none-any.whl (5.8 kB)\n",
      "Installing collected packages: tokenize-rt, black, jupyter_black\n",
      "  Attempting uninstall: black\n",
      "    Found existing installation: black 0.0\n",
      "    Uninstalling black-0.0:\n",
      "      Successfully uninstalled black-0.0\n",
      "\u001b[31mERROR: pip's dependency resolver does not currently take into account all the packages that are installed. This behaviour is the source of the following dependency conflicts.\n",
      "spyder 5.4.3 requires pyqt5<5.16, which is not installed.\n",
      "spyder 5.4.3 requires pyqtwebengine<5.16, which is not installed.\u001b[0m\u001b[31m\n",
      "\u001b[0mSuccessfully installed black-23.9.1 jupyter_black-0.3.4 tokenize-rt-5.2.0\n"
     ]
    }
   ],
   "source": [
    "!pip install jupyter_black"
   ]
  },
  {
   "cell_type": "markdown",
   "id": "f5c04e2c-1b22-4244-a25d-1ff58f54c431",
   "metadata": {},
   "source": [
    "### Central tendancy"
   ]
  },
  {
   "cell_type": "markdown",
   "id": "65aa7af9-14fd-4b71-8327-c34257d386bb",
   "metadata": {},
   "source": [
    "#### [easy] write a function that computes the mean of an iterable given as parameter\n",
    "This should be pretty straightforward, since the formula for the population mean and the sample mean are the same you will only define one function."
   ]
  },
  {
   "cell_type": "code",
   "execution_count": 6,
   "id": "158a41ab-a45c-4479-92de-17420301e62a",
   "metadata": {},
   "outputs": [
    {
     "ename": "AssertionError",
     "evalue": "testing that None == 1",
     "output_type": "error",
     "traceback": [
      "\u001b[0;31m---------------------------------------------------------------------------\u001b[0m",
      "\u001b[0;31mAssertionError\u001b[0m                            Traceback (most recent call last)",
      "Cell \u001b[0;32mIn[6], line 25\u001b[0m\n\u001b[1;32m     21\u001b[0m     \u001b[38;5;28;01mwith\u001b[39;00m tc\u001b[38;5;241m.\u001b[39massertRaises(\u001b[38;5;167;01mException\u001b[39;00m):\n\u001b[1;32m     22\u001b[0m         msds_mean(\u001b[38;5;124m\"\u001b[39m\u001b[38;5;124msdfds\u001b[39m\u001b[38;5;124m\"\u001b[39m)\n\u001b[0;32m---> 25\u001b[0m test_msds_mean()\n",
      "Cell \u001b[0;32mIn[6], line 17\u001b[0m, in \u001b[0;36mtest_msds_mean\u001b[0;34m()\u001b[0m\n\u001b[1;32m     15\u001b[0m \u001b[38;5;28;01mdef\u001b[39;00m \u001b[38;5;21mtest_msds_mean\u001b[39m():\n\u001b[1;32m     16\u001b[0m     \u001b[38;5;28;01massert\u001b[39;00m msds_mean([]) \u001b[38;5;129;01mis\u001b[39;00m \u001b[38;5;28;01mNone\u001b[39;00m, \u001b[38;5;124m\"\u001b[39m\u001b[38;5;124mEmpty dataset should have none mean\u001b[39m\u001b[38;5;124m\"\u001b[39m\n\u001b[0;32m---> 17\u001b[0m     \u001b[38;5;28;01massert\u001b[39;00m msds_mean([\u001b[38;5;241m1\u001b[39m]) \u001b[38;5;241m==\u001b[39m \u001b[38;5;241m1\u001b[39m, \u001b[38;5;124mf\u001b[39m\u001b[38;5;124m\"\u001b[39m\u001b[38;5;124mtesting that \u001b[39m\u001b[38;5;132;01m{\u001b[39;00mmsds_mean([\u001b[38;5;241m1\u001b[39m])\u001b[38;5;132;01m}\u001b[39;00m\u001b[38;5;124m == 1\u001b[39m\u001b[38;5;124m\"\u001b[39m\n\u001b[1;32m     18\u001b[0m     \u001b[38;5;28;01massert\u001b[39;00m msds_mean([\u001b[38;5;241m1\u001b[39m, \u001b[38;5;241m2\u001b[39m, \u001b[38;5;241m3\u001b[39m]) \u001b[38;5;241m==\u001b[39m \u001b[38;5;241m2\u001b[39m\n\u001b[1;32m     19\u001b[0m     \u001b[38;5;28;01massert\u001b[39;00m msds_mean([\u001b[38;5;241m1\u001b[39m, \u001b[38;5;241m2\u001b[39m, \u001b[38;5;241m2\u001b[39m, \u001b[38;5;241m3\u001b[39m, \u001b[38;5;241m4\u001b[39m]) \u001b[38;5;241m==\u001b[39m \u001b[38;5;241m2.4\u001b[39m\n",
      "\u001b[0;31mAssertionError\u001b[0m: testing that None == 1"
     ]
    }
   ],
   "source": [
    "def msds_sum(data):\n",
    "    \"\"\"\n",
    "    Computes the sum of every element of the iterable\n",
    "    \"\"\"\n",
    "    for\n",
    "\n",
    "\n",
    "def msds_mean(data):\n",
    "    \"\"\"\n",
    "    Computes the average of every element of the iterable\n",
    "    \"\"\"\n",
    "    return msds_sum(data) / len(data)\n",
    "\n",
    "\n",
    "def test_msds_mean():\n",
    "    assert msds_mean([]) is None, \"Empty dataset should have none mean\"\n",
    "    assert msds_mean([1]) == 1, f\"testing that {msds_mean([1])} == 1\"\n",
    "    assert msds_mean([1, 2, 3]) == 2\n",
    "    assert msds_mean([1, 2, 2, 3, 4]) == 2.4\n",
    "    tc = unittest.TestCase()\n",
    "    with tc.assertRaises(Exception):\n",
    "        msds_mean(\"sdfds\")\n",
    "\n",
    "\n",
    "test_msds_mean()"
   ]
  },
  {
   "cell_type": "markdown",
   "id": "b8d0d9a8-0a8b-44a5-af0e-d6709d66a3b4",
   "metadata": {},
   "source": [
    "#### [moderate] write a function that computes the median of an iterable given as parameter.\n",
    "Be careful to refer to the definition of the median!"
   ]
  },
  {
   "cell_type": "code",
   "execution_count": 4,
   "id": "c732d305-04eb-4a09-b36d-102e2a8c6d41",
   "metadata": {},
   "outputs": [],
   "source": [
    "def msds_median(data):\n",
    "    \"\"\"\n",
    "    Computes the median value of an iterable\n",
    "    \"\"\"\n",
    "    pass\n",
    "\n",
    "\n",
    "\n",
    "def test_msds_median():\n",
    "    assert msds_median([]) is None\n",
    "    assert msds_median([1]) == 1\n",
    "    assert msds_median([1, 2, 2, 3, 4]) == 2\n",
    "    assert msds_median([1, 2, 2, 3, 3, 4]) == 2.5\n",
    "    assert msds_median(\"sdfds\") == \"f\"\n",
    "\n",
    "\n",
    "test_msds_median()"
   ]
  },
  {
   "cell_type": "markdown",
   "id": "e5433276-0081-43ab-96f0-2228547c5d04",
   "metadata": {},
   "source": [
    "#### [moderate] write a function that computes the mode of an iterable given as parameter.\n",
    "Be careful to refer to the definition of the mode!"
   ]
  },
  {
   "cell_type": "code",
   "execution_count": 25,
   "id": "8198ebed-3adc-402d-8b1b-e24a537304df",
   "metadata": {},
   "outputs": [
    {
     "ename": "AssertionError",
     "evalue": "",
     "output_type": "error",
     "traceback": [
      "\u001b[0;31m---------------------------------------------------------------------------\u001b[0m",
      "\u001b[0;31mAssertionError\u001b[0m                            Traceback (most recent call last)",
      "Cell \u001b[0;32mIn[25], line 15\u001b[0m\n\u001b[1;32m     11\u001b[0m     \u001b[38;5;28;01massert\u001b[39;00m msds_mode([\u001b[38;5;241m1\u001b[39m, \u001b[38;5;241m2\u001b[39m, \u001b[38;5;241m2\u001b[39m, \u001b[38;5;241m3\u001b[39m, \u001b[38;5;241m3\u001b[39m, \u001b[38;5;241m4\u001b[39m]) \u001b[38;5;241m==\u001b[39m \u001b[38;5;241m2\u001b[39m\n\u001b[1;32m     12\u001b[0m     \u001b[38;5;28;01massert\u001b[39;00m msds_mode(\u001b[38;5;124m\"\u001b[39m\u001b[38;5;124msdfdss\u001b[39m\u001b[38;5;124m\"\u001b[39m) \u001b[38;5;241m==\u001b[39m \u001b[38;5;124m\"\u001b[39m\u001b[38;5;124ms\u001b[39m\u001b[38;5;124m\"\u001b[39m\n\u001b[0;32m---> 15\u001b[0m \u001b[43mtest_msds_mode\u001b[49m\u001b[43m(\u001b[49m\u001b[43m)\u001b[49m\n",
      "Cell \u001b[0;32mIn[25], line 9\u001b[0m, in \u001b[0;36mtest_msds_mode\u001b[0;34m()\u001b[0m\n\u001b[1;32m      7\u001b[0m \u001b[38;5;28;01mdef\u001b[39;00m \u001b[38;5;21mtest_msds_mode\u001b[39m():\n\u001b[1;32m      8\u001b[0m     \u001b[38;5;28;01massert\u001b[39;00m msds_mode([]) \u001b[38;5;129;01mis\u001b[39;00m \u001b[38;5;28;01mNone\u001b[39;00m\n\u001b[0;32m----> 9\u001b[0m     \u001b[38;5;28;01massert\u001b[39;00m msds_mode([\u001b[38;5;241m1\u001b[39m]) \u001b[38;5;241m==\u001b[39m \u001b[38;5;241m1\u001b[39m\n\u001b[1;32m     10\u001b[0m     \u001b[38;5;28;01massert\u001b[39;00m msds_mode([\u001b[38;5;241m1\u001b[39m, \u001b[38;5;241m2\u001b[39m, \u001b[38;5;241m2\u001b[39m, \u001b[38;5;241m3\u001b[39m, \u001b[38;5;241m4\u001b[39m]) \u001b[38;5;241m==\u001b[39m \u001b[38;5;241m2\u001b[39m\n\u001b[1;32m     11\u001b[0m     \u001b[38;5;28;01massert\u001b[39;00m msds_mode([\u001b[38;5;241m1\u001b[39m, \u001b[38;5;241m2\u001b[39m, \u001b[38;5;241m2\u001b[39m, \u001b[38;5;241m3\u001b[39m, \u001b[38;5;241m3\u001b[39m, \u001b[38;5;241m4\u001b[39m]) \u001b[38;5;241m==\u001b[39m \u001b[38;5;241m2\u001b[39m\n",
      "\u001b[0;31mAssertionError\u001b[0m: "
     ]
    }
   ],
   "source": [
    "def msds_mode(data):\n",
    "    \"\"\"\n",
    "    Computes the mode value of an iterable (most frequent value)\n",
    "    \"\"\"\n",
    "    pass\n",
    "\n",
    "def test_msds_mode():\n",
    "    assert msds_mode([]) is None\n",
    "    assert msds_mode([1]) == 1\n",
    "    assert msds_mode([1, 2, 2, 3, 4]) == 2\n",
    "    assert msds_mode([1, 2, 2, 3, 3, 4]) == 2\n",
    "    assert msds_mode(\"sdfdss\") == \"s\"\n",
    "\n",
    "\n",
    "test_msds_mode()"
   ]
  },
  {
   "cell_type": "markdown",
   "id": "b33118e2-c101-48b0-ad2b-9e380a0768ce",
   "metadata": {},
   "source": [
    "### Dispersion and variation"
   ]
  },
  {
   "cell_type": "markdown",
   "id": "03263fcf-1cbf-48fd-83c9-38fd874a4ab2",
   "metadata": {},
   "source": [
    "#### [easy] write a function that computes the range of an iterable given as parameter.\n",
    "\n",
    "You can use standard python `max` and `min` functions!<br>\n",
    "Don't hesitate to write you own min/max functions is you like!"
   ]
  },
  {
   "cell_type": "code",
   "execution_count": 6,
   "id": "cae0922e-84a3-4b46-a5e6-2f985ec347e2",
   "metadata": {},
   "outputs": [],
   "source": [
    "def msds_range(data):\n",
    "    pass\n",
    "\n",
    "\n",
    "\n",
    "def test_msds_range():\n",
    "    assert msds_range([]) is None\n",
    "    assert msds_range([1]) == 0\n",
    "    assert msds_range([1, 2, -10, 10, 3]) == 20\n",
    "    tc = unittest.TestCase()\n",
    "    with tc.assertRaises(Exception):\n",
    "        msds_harmonic_mean(\"sdfds\")\n",
    "\n",
    "\n",
    "test_msds_range()"
   ]
  },
  {
   "cell_type": "markdown",
   "id": "51ae3a2c-fc51-421a-99c8-51bdb079d58c",
   "metadata": {},
   "source": [
    "#### [easy] write a function that computes the sample variance of an iterable\n",
    "\n",
    "Remember, the sample variance is defined as:\n",
    "$\\Large \\sum_{i=1}^{n}\\frac{(X_i-\\bar{X})^2}{n-1}$"
   ]
  },
  {
   "cell_type": "code",
   "execution_count": 7,
   "id": "b3df33d5-d06a-4460-b919-45e19887a1d5",
   "metadata": {},
   "outputs": [],
   "source": [
    "def msds_sample_variance(data):\n",
    "    pass\n",
    "\n",
    "\n",
    "\n",
    "def test_msds_sample_variance():\n",
    "    test_data1 = [6, 7, 15, 36, 39, 40, 41, 42, 43, 47, 49]\n",
    "    test_data2 = [7, 15, 36, 39, 40, 41]\n",
    "    import statistics\n",
    "\n",
    "    assert msds_sample_variance([]) is None\n",
    "    assert msds_sample_variance([1]) is None\n",
    "    assert msds_sample_variance([1, 2, 3]) == 1\n",
    "    assert (\n",
    "        abs(msds_sample_variance(test_data1) - statistics.variance(test_data1)) < 1e-10\n",
    "    )\n",
    "    assert (\n",
    "        abs(msds_sample_variance(test_data2) - statistics.variance(test_data2)) < 1e-10\n",
    "    )\n",
    "\n",
    "\n",
    "test_msds_sample_variance()"
   ]
  },
  {
   "cell_type": "markdown",
   "id": "15a04d9b-6248-446c-be6b-abbccd16ee20",
   "metadata": {},
   "source": [
    "#### [easy] write a function that computes the population variance of an iterable\n",
    "\n",
    "The formula is very close to the sample variance, but the denominator is slightly different:\n",
    "\n",
    "$\\Large \\sum_{i=1}^{n}\\frac{(X_i-\\bar{X})^2}{n}$"
   ]
  },
  {
   "cell_type": "code",
   "execution_count": 8,
   "id": "701b8345-d60f-40d8-8935-426a47090bf6",
   "metadata": {},
   "outputs": [],
   "source": [
    "def msds_variance(data):\n",
    "    pass\n",
    "\n",
    "\n",
    "\n",
    "def test_msds_variance():\n",
    "    test_data1 = [6, 7, 15, 36, 39, 40, 41, 42, 43, 47, 49]\n",
    "    test_data2 = [7, 15, 36, 39, 40, 41]\n",
    "    import statistics\n",
    "\n",
    "    assert msds_variance([]) is None\n",
    "    assert (msds_variance([1, 2, 3]) - 0.666666666) < 1e-5\n",
    "    assert abs(msds_variance(test_data1) - statistics.pvariance(test_data1)) < 1e-10\n",
    "    assert abs(msds_variance(test_data2) - statistics.pvariance(test_data2)) < 1e-10\n",
    "\n",
    "\n",
    "test_msds_variance()"
   ]
  },
  {
   "cell_type": "markdown",
   "id": "181779e7-2c79-4453-87e8-5ffd87b6644c",
   "metadata": {},
   "source": [
    "#### [easy] write a function that computes the sample standard deviation of an iterable\n",
    "\n",
    "Standard deviation is the square root of the variance."
   ]
  },
  {
   "cell_type": "code",
   "execution_count": 9,
   "id": "dd894577-4248-4c10-827d-68bd68af5864",
   "metadata": {},
   "outputs": [],
   "source": [
    "def msds_sample_std(data):\n",
    "    pass\n",
    "\n",
    "\n",
    "\n",
    "def test_msds_sample_std():\n",
    "    test_data1 = [6, 7, 15, 36, 39, 40, 41, 42, 43, 47, 49]\n",
    "    test_data2 = [7, 15, 36, 39, 40, 41]\n",
    "    import statistics\n",
    "\n",
    "    assert msds_sample_std([]) is None\n",
    "    assert msds_sample_std([1]) is None\n",
    "    assert msds_sample_std([1, 2, 3]) == 1\n",
    "    assert abs(msds_sample_std(test_data1) - statistics.stdev(test_data1)) < 1e-5\n",
    "    assert abs(msds_sample_std(test_data2) - statistics.stdev(test_data2)) < 1e-5\n",
    "\n",
    "\n",
    "test_msds_sample_std()"
   ]
  },
  {
   "cell_type": "markdown",
   "id": "b8fddddc-bb85-4d30-97ab-f5e1a1bb393b",
   "metadata": {},
   "source": [
    "#### [easy] write a function that computes the population standard deviation of an iterable\n",
    "\n",
    "Same as the previous one, but on the population variance!"
   ]
  },
  {
   "cell_type": "code",
   "execution_count": 10,
   "id": "e08e1243-05c0-4505-998e-77530df360da",
   "metadata": {},
   "outputs": [],
   "source": [
    "def msds_std(data):\n",
    "    pass\n",
    "\n",
    "\n",
    "\n",
    "def test_msds_std():\n",
    "    test_data1 = [6, 7, 15, 36, 39, 40, 41, 42, 43, 47, 49]\n",
    "    test_data2 = [7, 15, 36, 39, 40, 41]\n",
    "    import statistics\n",
    "\n",
    "    assert msds_std([]) is None\n",
    "    assert abs(msds_std([1, 2, 3]) - 0.816496580927726) < 1e-5\n",
    "    assert abs(msds_std(test_data1) - statistics.pstdev(test_data1)) < 1e-5\n",
    "    assert abs(msds_std(test_data2) - statistics.pstdev(test_data2)) < 1e-5\n",
    "\n",
    "\n",
    "test_msds_std()"
   ]
  },
  {
   "cell_type": "markdown",
   "id": "1e781afc-9ef6-4a72-9590-f1cca270d316",
   "metadata": {},
   "source": [
    "#### [easy] write a function that computes the coefficient of variation of an iterable\n",
    "\n",
    "The coefficient of variation is the ratio of the sample standard deviation and the sample mean:\n",
    "\n",
    "$\\Large \\frac{s}{\\bar{X}}$"
   ]
  },
  {
   "cell_type": "code",
   "execution_count": 11,
   "id": "9a79efad-4f07-4c98-8b53-838aeb7d7e3b",
   "metadata": {},
   "outputs": [],
   "source": [
    "def msds_coef_var(data):\n",
    "    pass\n",
    "\n",
    "\n",
    "\n",
    "def test_msds_coef_var():\n",
    "    test_data1 = [6, 7, 15, 36, 39, 40, 41, 42, 43, 47, 49]\n",
    "    test_data2 = [7, 15, 36, 39, 40, 41]\n",
    "    import statistics\n",
    "\n",
    "    assert msds_coef_var([]) is None\n",
    "    assert msds_coef_var([1]) is None\n",
    "    assert msds_coef_var([1, 2, 3]) == 0.5\n",
    "\n",
    "\n",
    "test_msds_coef_var()"
   ]
  },
  {
   "cell_type": "markdown",
   "id": "ec56a52c-e0a7-4650-9a31-9ffe54b0ec04",
   "metadata": {},
   "source": [
    "#### [moderate] write a function that computes a quartile\n",
    "\n",
    "The function should take two parameters: an iterable with the data, and a number indicating which quartile to compute (1,2,3).\n",
    "\n",
    "There are multiple ways to deal with the fact that most of the time $kn/4, k \\in [1,2,3]$ is not an integer. We will use the same as numpy's default implementation (linear approximation).\n",
    "\n",
    "To do so, we will compute the integer part ($i$) and fractional part ($f$) of $k(n-1)/4$.\n",
    "\n",
    "The result will be computed as:\n",
    "\n",
    "$\\Large Q_k = X_i + f (X_{i+1} - X_{i})$\n",
    "\n",
    "$X_i$ is $i$-th data point in the sorted dataset, starting at 0.\n",
    "\n"
   ]
  },
  {
   "cell_type": "code",
   "execution_count": 16,
   "id": "c05fca03-f20f-4f54-9a83-deade143a25a",
   "metadata": {},
   "outputs": [],
   "source": [
    "def msds_quartile(data, p):\n",
    "    pass\n",
    "\n",
    "\n",
    "\n",
    "def test_msds_quartile():\n",
    "    test_data1 = [6, 7, 15, 36, 39, 40, 41, 42, 43, 47, 49]\n",
    "    test_data2 = [7, 15, 36, 39, 40, 41]\n",
    "    assert msds_quartile(test_data1, 1) == np.quantile(test_data1, 0.25)\n",
    "    assert msds_quartile(test_data1, 2) == np.quantile(test_data1, 0.5)\n",
    "    assert msds_quartile(test_data1, 3) == np.quantile(test_data1, 0.75)\n",
    "\n",
    "    assert msds_quartile(test_data2, 1) == np.quantile(test_data2, 0.25)\n",
    "    assert msds_quartile(test_data2, 2) == np.quantile(test_data2, 0.5)\n",
    "    assert msds_quartile(test_data2, 3) == np.quantile(test_data2, 0.75)\n",
    "\n",
    "\n",
    "test_msds_quartile()"
   ]
  },
  {
   "cell_type": "markdown",
   "id": "430d1781-4b05-420e-a4ed-e77e1626b8a5",
   "metadata": {},
   "source": [
    "#### [easy] write a function that computes the inter-quartile range (IQR)\n",
    "\n",
    "IQR is simply the difference between $Q_3$ and $Q_1$!"
   ]
  },
  {
   "cell_type": "code",
   "execution_count": 23,
   "id": "6543a610-88d2-4198-94da-884031b5306f",
   "metadata": {},
   "outputs": [],
   "source": [
    "def msds_iqr(data):\n",
    "    pass\n",
    "\n",
    "\n",
    "\n",
    "def test_msds_iqr():\n",
    "    test_data1 = [6, 7, 15, 36, 39, 40, 41, 42, 43, 47, 49]\n",
    "    test_data2 = [7, 15, 36, 39, 40, 41]\n",
    "    assert msds_iqr(test_data1) == 17, f\"{msds_iqr(test_data1)}\"\n",
    "    assert msds_iqr(test_data2) == 19.5, f\"{msds_iqr(test_data2)}\"\n",
    "\n",
    "\n",
    "test_msds_iqr()"
   ]
  },
  {
   "cell_type": "markdown",
   "id": "c6fff298-04ae-49ad-aa9a-c9fdc5e2b8c5",
   "metadata": {},
   "source": [
    "#### [moderate] write a function that Nth-order moment \n",
    "\n",
    "Function should have data and $N$ parameters.\n",
    "The Nth-order moment is defined as:\n",
    "\n",
    "$\\Large m_N = \\frac{1}{N}\\sum_i(X_i - \\bar{X})^N$\n",
    "\n",
    "with:\n",
    " - $\\mu$ is the mean\n",
    " - $x_i$ is $i$-th data point\n",
    "\n"
   ]
  },
  {
   "cell_type": "code",
   "execution_count": 24,
   "id": "b2a26589-f8c5-4be8-9ce7-2574b9a2e01d",
   "metadata": {},
   "outputs": [],
   "source": [
    "def msds_moment(data, N):\n",
    "    pass\n",
    "\n",
    "\n",
    "\n",
    "def test_msds_moment():\n",
    "    test_data1 = [6, 7, 15, 36, 39, 40, 41, 42, 43, 47, 49]\n",
    "    test_data2 = [7, 15, 36, 39, 40, 41]\n",
    "    assert (msds_moment(test_data1, 2) - msds_variance(test_data1)) < 1e-5\n",
    "    assert (msds_moment(test_data2, 2) - msds_variance(test_data2)) < 1e-5\n",
    "    assert (msds_moment(test_data1, 3) - -3163.492111194589) < 1e-5\n",
    "    assert (msds_moment(test_data1, 4) - 113326.19657127243) < 1e-5\n",
    "\n",
    "\n",
    "test_msds_moment()"
   ]
  },
  {
   "cell_type": "markdown",
   "id": "ac6644e6-f0d8-4961-b592-5deb6beccee3",
   "metadata": {},
   "source": [
    "#### [moderate] write a function that computes N-order standard moment \n",
    "\n",
    "Function should have data and $N$ parameters, data should be standardized before computing the moment.\n",
    "\n",
    "3rd standard moment is the **skewness**, an indicator of the **symetry** of the underlying distribution<br>\n",
    "4th standard moment is **kurtosis**, an indicator of the **tailedness** of the underlying distrution\n",
    "\n",
    "write helper functions to compute skewness and kurtosis"
   ]
  },
  {
   "cell_type": "code",
   "execution_count": 15,
   "id": "f850adc4-c1c8-4a61-91bb-4f90e9a9315e",
   "metadata": {},
   "outputs": [],
   "source": [
    "from scipy.stats import skew, kurtosis\n",
    "\n",
    "\n",
    "def msds_standard_moment(data, N):\n",
    "    pass\n",
    "\n",
    "\n",
    "def msds_skewness(data):\n",
    "    pass\n",
    "\n",
    "\n",
    "def msds_kurtosis(data):\n",
    "    pass\n",
    "\n",
    "\n",
    "def test_msds_standard_moment():\n",
    "    test_data1 = [6, 7, 15, 36, 39, 40, 41, 42, 43, 47, 49]\n",
    "    test_data2 = [7, 15, 36, 39, 40, 41]\n",
    "\n",
    "    assert (msds_standard_moment(test_data1, 3) - skew(test_data1)) < 1e-5\n",
    "    assert (\n",
    "        msds_standard_moment(test_data1, 4) - kurtosis(test_data1, fisher=False)\n",
    "    ) < 1e-5\n",
    "    assert (msds_standard_moment(test_data2, 3) - skew(test_data2)) < 1e-5\n",
    "    assert (\n",
    "        msds_standard_moment(test_data2, 4) - kurtosis(test_data2, fisher=False)\n",
    "    ) < 1e-5\n",
    "    assert msds_iqr(test_data2) == 40 - 15\n",
    "\n",
    "\n",
    "test_msds_standard_moment()"
   ]
  },
  {
   "cell_type": "markdown",
   "id": "454b651f-eeca-4532-8b1e-ffc8aec3cd01",
   "metadata": {},
   "source": [
    "# Data cleaning"
   ]
  },
  {
   "cell_type": "markdown",
   "id": "06caf9dd-2d24-4b76-94de-217971c50fe7",
   "metadata": {},
   "source": [
    "#### [moderate] identify and fix issues in a dataset \n",
    "\n",
    "Load the `err_salary.csv` dataset.\n",
    "It contains several mistakes, identify and fix them!\n"
   ]
  }
 ],
 "metadata": {
  "kernelspec": {
   "display_name": "Python 3 (ipykernel)",
   "language": "python",
   "name": "python3"
  },
  "language_info": {
   "codemirror_mode": {
    "name": "ipython",
    "version": 3
   },
   "file_extension": ".py",
   "mimetype": "text/x-python",
   "name": "python",
   "nbconvert_exporter": "python",
   "pygments_lexer": "ipython3",
   "version": "3.11.4"
  }
 },
 "nbformat": 4,
 "nbformat_minor": 5
}
