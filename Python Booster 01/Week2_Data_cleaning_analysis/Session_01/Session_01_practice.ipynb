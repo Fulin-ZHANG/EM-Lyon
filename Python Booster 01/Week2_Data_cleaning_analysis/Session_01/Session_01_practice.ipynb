{
 "cells": [
  {
   "cell_type": "code",
   "execution_count": 11,
   "id": "0264db1c-f67f-4fd4-b799-156ba3dc44d1",
   "metadata": {},
   "outputs": [
    {
     "data": {
      "text/markdown": [
       "<div>\n",
       "    <img src=\"images/emlyon.png\" style=\"height:60px; float:left; padding-right:10px; margin-top:5px\" />\n",
       "    <span>\n",
       "        <h1 style=\"padding-bottom:5px;\"> AI Booster Week 02 - Python for Data Science </h1>\n",
       "        <a href=\"https://masters.em-lyon.com/fr/msc-in-data-science-artificial-intelligence-strategy\">[Emlyon]</a> MSc in Data Science & Artificial Intelligence Strategy (DSAIS) <br/>\n",
       "         Paris | © Antoine SCHERRER\n",
       "    </span>\n",
       "</div>\n",
       "\n",
       "Please make sure you have a working installation of Jupyter Notebook / Jupyter Lab, with Python 3.6+ up and running.\n",
       "\n",
       "## Naming conventions\n",
       "\n",
       "Since we will implement functions that are already available in python standard library or other libraries, you will have to *prefix* every function with `msds_` prefix.\n",
       "\n",
       "For instance, the function implementing the `mean` function should be named `msds_mean`.\n",
       "\n",
       "For every function you write, you will need to write a test function that should be names `test_msds_[function_name]`.\n",
       "\n",
       "For instance, the test function for the mean will be: `test_msds_mean`.\n",
       "\n",
       "All function should be in snake case (no Camel case!)\n",
       "\n",
       "When creating classes, then follow these rules:\n",
       " - class names should be in camel case\n",
       " - method names should be in snake case\n",
       " - attribute names should be in \n",
       "\n",
       "## Exercise's difficulty\n",
       "\n",
       "Every exercise will be prefixed with an indication of its difficulty:\n",
       " - [easy]: for very easy exercise\n",
       " - [moderate]: for intermediate level exercise\n",
       " - [advanced]: for advanced students\n",
       "\n",
       "Advanced exercises are not mandatory.\n"
      ],
      "text/plain": [
       "<IPython.core.display.Markdown object>"
      ]
     },
     "metadata": {},
     "output_type": "display_data"
    }
   ],
   "source": [
    "from IPython.display import Markdown, display\n",
    "\n",
    "display(Markdown(\"header.md\"))"
   ]
  },
  {
   "cell_type": "code",
   "execution_count": 30,
   "id": "89ee5421-a1de-4753-a1aa-38df6f1cf04a",
   "metadata": {},
   "outputs": [
    {
     "name": "stdout",
     "output_type": "stream",
     "text": [
      "importing Jupyter notebook from Session_01_solved.ipynb\n"
     ]
    },
    {
     "data": {
      "text/markdown": [
       "<div>\n",
       "    <img src=\"images/emlyon.png\" style=\"height:60px; float:left; padding-right:10px; margin-top:5px\" />\n",
       "    <span>\n",
       "        <h1 style=\"padding-bottom:5px;\"> AI Booster Week 02 - Python for Data Science </h1>\n",
       "        <a href=\"https://masters.em-lyon.com/fr/msc-in-data-science-artificial-intelligence-strategy\">[Emlyon]</a> MSc in Data Science & Artificial Intelligence Strategy (DSAIS) <br/>\n",
       "         Paris | © Antoine SCHERRER\n",
       "    </span>\n",
       "</div>\n",
       "\n",
       "Please make sure you have a working installation of Jupyter Notebook / Jupyter Lab, with Python 3.6+ up and running.\n",
       "\n",
       "## Naming conventions\n",
       "\n",
       "Since we will implement functions that are already available in python standard library or other libraries, you will have to *prefix* every function with `msds_` prefix.\n",
       "\n",
       "For instance, the function implementing the `mean` function should be named `msds_mean`.\n",
       "\n",
       "For every function you write, **you will need to write a test function** that should be named `test_[function_name]`.\n",
       "\n",
       "For instance, the test function for `msds_mean` will be: `test_msds_mean`.\n",
       "\n",
       "**don't forget to document all you function with Python docstring**\n",
       "\n",
       "For instance:\n",
       "```\n",
       "def msds_my_awesome_function():\n",
       "    \"\"\"\n",
       "    This function computes an awesome function\n",
       "    \"\"\"\n",
       "    # Awesome code\n",
       "    ...\n",
       "```\n",
       "\n",
       "All function should be in snake case (no Camel case!)\n",
       "\n",
       "When creating classes, then follow these rules:\n",
       " - class names should be in camel case\n",
       " - method names should be in snake case\n",
       " - attribute names should be in snake case\n",
       "\n",
       "## Exercise's difficulty\n",
       "\n",
       "Every exercise will be prefixed with an indication of its difficulty:\n",
       " - [easy]: easy exercise, should be pretty straightforward for you\n",
       " - [moderate]: intermediate level exercise, you all should manage to solve them\n",
       " - [advanced]: for advanced students who want to go deeper/further\n",
       "\n",
       "**Advanced exercises are not mandatory.**\n",
       "\n",
       "## Required libraries\n",
       "\n",
       "These are the libraries we will use (to check our computations for instance), you need to install them in your virtual environment:\n",
       "\n",
       " - `pandas`: data manipulation library\n",
       " - `scipy`: scientific library in Python\n",
       " - `numpy`: vector/matrix computations\n",
       " - `statistics`: statistics library\n",
       " - `matplotlib`: plotting lib\n",
       " - `seaborn`: alternative plotting lib (based on matplotlib)\n",
       " - `jupyter_black`: plugin for jupyter to allow `black` (code formatter) to run\n",
       " - `unittest`: testing library \n",
       "\n",
       "\n"
      ],
      "text/plain": [
       "<IPython.core.display.Markdown object>"
      ]
     },
     "metadata": {},
     "output_type": "display_data"
    },
    {
     "data": {
      "text/html": [
       "\n",
       "                <script type=\"application/javascript\" id=\"jupyter_black\">\n",
       "                (function() {\n",
       "                    if (window.IPython === undefined) {\n",
       "                        return\n",
       "                    }\n",
       "                    var msg = \"WARNING: it looks like you might have loaded \" +\n",
       "                        \"jupyter_black in a non-lab notebook with \" +\n",
       "                        \"`is_lab=True`. Please double check, and if \" +\n",
       "                        \"loading with `%load_ext` please review the README!\"\n",
       "                    console.log(msg)\n",
       "                    alert(msg)\n",
       "                })()\n",
       "                </script>\n",
       "                "
      ],
      "text/plain": [
       "<IPython.core.display.HTML object>"
      ]
     },
     "metadata": {},
     "output_type": "display_data"
    }
   ],
   "source": [
    "# Initial imports\n",
    "import unittest\n",
    "import math\n",
    "import pandas as pd\n",
    "\n",
    "# This imports all functions defined in the Session_01 notebook!\n",
    "import import_ipynb\n",
    "from Session_01_solved import *"
   ]
  },
  {
   "cell_type": "markdown",
   "id": "2cc20bcb-e64c-466c-aa85-971e43c83607",
   "metadata": {},
   "source": [
    "# Session 01 - Introduction - Practice\n",
    "\n",
    "Solving **all** question from Session_01 is mandatory before solving these practice exercises."
   ]
  },
  {
   "cell_type": "markdown",
   "id": "3abb3dfe-ab48-4814-9357-af3cb16226c9",
   "metadata": {},
   "source": [
    "### [easy] write a function that computes the geometric mean of an iterable given as parameter.\n",
    "\n",
    "The geometric mean is defined as:\n",
    "\n",
    "$\\Large {\\displaystyle \\left(\\prod{X_i}\\right)^{1/n}}$\n",
    "\n",
    "$X_i$ is $i$-th data point\n"
   ]
  },
  {
   "cell_type": "code",
   "execution_count": 13,
   "id": "e3cea4bf-78e3-480c-a730-5821b61fcfb1",
   "metadata": {},
   "outputs": [],
   "source": [
    "def msds_geo_mean(data):\n",
    "    try:\n",
    "        n = len(data)\n",
    "        print(n)\n",
    "        result = 1\n",
    "        for element in data:\n",
    "            result *= element\n",
    "        result = pow(result,1/n)\n",
    "        return result\n",
    "    except Exception as e:\n",
    "        print(e)"
   ]
  },
  {
   "cell_type": "code",
   "execution_count": 14,
   "id": "1bb18cd8",
   "metadata": {},
   "outputs": [
    {
     "name": "stdout",
     "output_type": "stream",
     "text": [
      "3\n"
     ]
    },
    {
     "data": {
      "text/plain": [
       "1.8171205928321397"
      ]
     },
     "execution_count": 14,
     "metadata": {},
     "output_type": "execute_result"
    }
   ],
   "source": [
    "msds_geo_mean([1,2,3])"
   ]
  },
  {
   "cell_type": "code",
   "execution_count": null,
   "id": "34198c2c",
   "metadata": {},
   "outputs": [],
   "source": [
    "def test_msds_mean():\n",
    "    assert msds_geo_mean([]) is None\n",
    "    assert msds_geo_mean([1]) == 1\n",
    "    assert msds_geo_mean([1, 2, 3]) == 2\n",
    "    assert msds_geo_mean([1, 2, 2, 3, 4]) == 2.4\n",
    "    tc = unittest.TestCase()\n",
    "    with tc.assertRaises(Exception):\n",
    "        msds_geo_mean(\"sdfds\")"
   ]
  },
  {
   "cell_type": "markdown",
   "id": "f4c6a128-af07-405b-9ffe-6bf5afdb13b6",
   "metadata": {},
   "source": [
    "### [easy] write a function that computes the harmonic mean of an iterable given as parameter.\n",
    "\n",
    "The harmonic mean is defined as:\n",
    "\n",
    "$\\Large {\\displaystyle \\frac{n}{\\sum_{i=1}^{n} \\frac{1}{X_i}}}$\n",
    "\n",
    "$X_i$ is $i$-th data point\n"
   ]
  },
  {
   "cell_type": "code",
   "execution_count": 17,
   "id": "8511d8ff-4029-4427-91c1-b8b2d2a9a820",
   "metadata": {},
   "outputs": [],
   "source": [
    "def msds_harm_mean(data):\n",
    "    try:\n",
    "        n = len(data)\n",
    "        result = 0\n",
    "        for element in data:\n",
    "            result += (1/element)\n",
    "        result = n / result\n",
    "        return result\n",
    "    except Exception as e:\n",
    "        print(e)"
   ]
  },
  {
   "cell_type": "code",
   "execution_count": 18,
   "id": "94758f88",
   "metadata": {},
   "outputs": [
    {
     "data": {
      "text/plain": [
       "1.6363636363636365"
      ]
     },
     "execution_count": 18,
     "metadata": {},
     "output_type": "execute_result"
    }
   ],
   "source": [
    "msds_harm_mean([1,2,3])"
   ]
  },
  {
   "cell_type": "markdown",
   "id": "faa1967c-029d-42bc-9745-28b10e712c51",
   "metadata": {},
   "source": [
    "### [moderate] write a function that computes all data needed for a box-plot\n",
    "\n",
    "Function should output two lists, the first list is the data needed to plot a box plot (in this order)\n",
    " - lower fence ($Q1 - 1.5\\times IQR$)\n",
    " - 1st quartile ($Q1$) \n",
    " - median ($Q2$)\n",
    " - 3rd quartile ($Q3$)\n",
    " - upper fence ($Q3 + 1.5\\times IQR$)\n",
    "\n",
    "The second list should contain all outliers ($v$ < lower fence or $v$ > upper fence)"
   ]
  },
  {
   "cell_type": "code",
   "execution_count": 67,
   "id": "16111172",
   "metadata": {},
   "outputs": [],
   "source": [
    "def msds_box_fence(data):\n",
    "    iqr = msds_iqr(data)\n",
    "    q1 = msds_quartile(data, 1)\n",
    "    q2 = msds_quartile(data, 2)\n",
    "    q3 = msds_quartile(data, 3)\n",
    "    lower_fence = q1 - 1.5 * iqr\n",
    "    upper_fence = q3 + 1.5 * iqr\n",
    "\n",
    "    outliers = [v for v in data if v < lower_fence or v > upper_fence]\n",
    "    return [lower_fence, q1, q2, q3, upper_fence], outliers"
   ]
  },
  {
   "cell_type": "code",
   "execution_count": 21,
   "id": "91bd05de-1fcb-470d-82b0-67fccf125644",
   "metadata": {},
   "outputs": [],
   "source": [
    "# def msds_box_fence(data):\n",
    "#     try:\n",
    "#         # Sort the data in ascending order\n",
    "#         data_sorted = sorted(data)\n",
    "\n",
    "#         # Calculate quartiles (Q1 and Q3)\n",
    "#         n = len(data_sorted)\n",
    "#         q1_index = int(0.25 * n)\n",
    "#         q3_index = int(0.75 * n)\n",
    "#         q1 = data_sorted[q1_index]\n",
    "#         q3 = data_sorted[q3_index]\n",
    "\n",
    "#         # Calculate the interquartile range (IQR)\n",
    "#         iqr = q3 - q1\n",
    "\n",
    "#         # Calculate the lower and upper fences\n",
    "#         lower_fence = q1 - 1.5 * iqr\n",
    "#         upper_fence = q3 + 1.5 * iqr\n",
    "\n",
    "#         # Find outliers\n",
    "#         outliers = [v for v in data_sorted if v < lower_fence or v > upper_fence]\n",
    "        \n",
    "#         # Return the box plot statistics and outliers\n",
    "#         return [lower_fence, q1, (q1 + q3) / 2, q3, upper_fence], outliers\n",
    "#     except Exception as e:\n",
    "#         print(e)"
   ]
  },
  {
   "cell_type": "code",
   "execution_count": 68,
   "id": "add801b6",
   "metadata": {},
   "outputs": [
    {
     "name": "stdout",
     "output_type": "stream",
     "text": [
      "Box Plot Statistics:\n",
      "Lower Fence: 15.0\n",
      "1st Quartile (Q1): 21\n",
      "Median (Q2): 23.0\n",
      "3rd Quartile (Q3): 25\n",
      "Upper Fence: 31.0\n",
      "\n",
      "Outliers: [200]\n"
     ]
    }
   ],
   "source": [
    "# Example usage:\n",
    "data = [15, 20, 21, 22, 22, 23, 24, 25, 30, 200]\n",
    "box_plot_stats, outliers = calculate_box_plot_statistics(data)\n",
    "\n",
    "print(\"Box Plot Statistics:\")\n",
    "print(\"Lower Fence:\", box_plot_stats[0])\n",
    "print(\"1st Quartile (Q1):\", box_plot_stats[1])\n",
    "print(\"Median (Q2):\", box_plot_stats[2])\n",
    "print(\"3rd Quartile (Q3):\", box_plot_stats[3])\n",
    "print(\"Upper Fence:\", box_plot_stats[4])\n",
    "\n",
    "print(\"\\nOutliers:\", outliers)"
   ]
  },
  {
   "cell_type": "markdown",
   "id": "0bb79a20-dc21-4f6d-bf1d-0f6285fba49e",
   "metadata": {},
   "source": [
    "### [moderate] write a function that computes all deciles\n",
    "\n",
    "Function should output the list of 9 deciles (D1 .. D9).\n",
    "\n",
    "You should write a test function and compare your results to the one from a statistics package.\n",
    "\n",
    "Use `salary.csv` and `heights_weights.csv` datasets to check your results."
   ]
  },
  {
   "cell_type": "code",
   "execution_count": 65,
   "id": "442ae1e3",
   "metadata": {},
   "outputs": [],
   "source": [
    "def msds_decile(data, p):\n",
    "    \"\"\"\n",
    "    Computes p-th decile (p=1,2,3) of given data\n",
    "    Alternative implementation\n",
    "    \"\"\"\n",
    "    sorted_data = sorted(data)\n",
    "    n = len(data)\n",
    "    if n == 0:\n",
    "        return None\n",
    "    k = p * (n - 1) // 10\n",
    "    alpha = p * (n - 1) / 10 - k\n",
    "    return sorted_data[k] + alpha * (sorted_data[k + 1] - sorted_data[k])\n",
    "\n",
    "\n",
    "def msds_idr(data):\n",
    "    \"\"\"\n",
    "    Computes the inter-quartile range (IDR)\n",
    "    \"\"\"\n",
    "    return msds_decile(data, 9) - msds_decile(data, 1)\n",
    "\n",
    "\n",
    "def msds_fence_decile(data):\n",
    "    idr = msds_idr(data)\n",
    "    d1 = msds_decile(data, 1)\n",
    "    d2 = msds_decile(data, 2)\n",
    "    d3 = msds_decile(data, 3)\n",
    "    d4 = msds_decile(data, 4)\n",
    "    d5 = msds_decile(data, 5)\n",
    "    d6 = msds_decile(data, 6)\n",
    "    d7 = msds_decile(data, 7)\n",
    "    d8 = msds_decile(data, 8)\n",
    "    d9 = msds_decile(data, 9)\n",
    "\n",
    "    lower_fence = d1 - 1.5 * idr\n",
    "    upper_fence = d9 + 1.5 * idr\n",
    "\n",
    "    outliers = [v for v in data if v < lower_fence or v > upper_fence]\n",
    "    return [lower_fence, d1, d2, d3, d4, d5, d6, d7, d8, d9, upper_fence], outliers"
   ]
  },
  {
   "cell_type": "code",
   "execution_count": 62,
   "id": "d3b7d012",
   "metadata": {},
   "outputs": [],
   "source": [
    "# def msds_decile(data):\n",
    "#     try:\n",
    "#         # Sort the data in ascending order\n",
    "#         data_sorted = sorted(data)\n",
    "\n",
    "#         # Calculate deciles (d1 and d9)\n",
    "#         n = len(data_sorted)\n",
    "#         print(n)\n",
    "#         d1_index = int(0.1 * n)\n",
    "#         d2_index = int(0.2 * n)\n",
    "#         d3_index = int(0.3 * n)\n",
    "#         d4_index = int(0.4 * n)\n",
    "#         d5_index = int(0.5 * n)\n",
    "#         d6_index = int(0.6 * n)\n",
    "#         d7_index = int(0.7 * n)\n",
    "#         d8_index = int(0.8 * n)\n",
    "#         d9_index = int(0.9 * n)\n",
    "\n",
    "#         d1 = data_sorted[d1_index]\n",
    "#         d2 = data_sorted[d2_index]\n",
    "#         d3 = data_sorted[d3_index]\n",
    "#         d4 = data_sorted[d4_index]\n",
    "#         d5 = data_sorted[d5_index]\n",
    "#         d6 = data_sorted[d6_index]\n",
    "#         d7 = data_sorted[d7_index]\n",
    "#         d8 = data_sorted[d8_index]\n",
    "#         d9 = data_sorted[d9_index]\n",
    "\n",
    "#         # Calculate the interdecile range (IDR)\n",
    "#         idr = d9 - d1\n",
    "\n",
    "#         # Calculate the lower and upper fences\n",
    "#         lower_fence = d1 - 1.5 * idr\n",
    "#         upper_fence = d9 + 1.5 * idr\n",
    "\n",
    "#         # Find outliers\n",
    "#         outliers = [v for v in data_sorted if v < lower_fence or v > upper_fence]\n",
    "\n",
    "#         # Return the box plot statistics and outliers\n",
    "#         return [lower_fence, d1, d2, d3, d4, d5, d6, d7, d8, d9, upper_fence], outliers\n",
    "#     except Exception as e:\n",
    "#         print(e)"
   ]
  },
  {
   "cell_type": "code",
   "execution_count": 42,
   "id": "ab7a447f",
   "metadata": {},
   "outputs": [
    {
     "data": {
      "text/plain": [
       "0      32.0\n",
       "1      28.0\n",
       "2      45.0\n",
       "3      36.0\n",
       "4      52.0\n",
       "       ... \n",
       "370    35.0\n",
       "371    43.0\n",
       "372    29.0\n",
       "373    34.0\n",
       "374    44.0\n",
       "Name: Age, Length: 375, dtype: float64"
      ]
     },
     "execution_count": 42,
     "metadata": {},
     "output_type": "execute_result"
    }
   ],
   "source": [
    "salary = pd.read_csv(\"data/salary.csv\")\n",
    "salary[\"Age\"]"
   ]
  },
  {
   "cell_type": "code",
   "execution_count": 71,
   "id": "9b67ef2f-3842-4ca4-ae14-cf8c1337d5c4",
   "metadata": {},
   "outputs": [
    {
     "data": {
      "text/plain": [
       "[-115000.0,\n",
       " 50000.0,\n",
       " 78999.99999999999,\n",
       " 105000.0,\n",
       " 140000.0,\n",
       " nan,\n",
       " 50000.0,\n",
       " 90000.0,\n",
       " 120000.0,\n",
       " 160000.0,\n",
       " 325000.0]"
      ]
     },
     "execution_count": 71,
     "metadata": {},
     "output_type": "execute_result"
    }
   ],
   "source": [
    "age_decile, outliers = msds_fence_decile(salary[\"Salary\"])\n",
    "age_decile"
   ]
  },
  {
   "cell_type": "markdown",
   "id": "f3720b4b-af2c-44bb-9a94-dc30501fb4a4",
   "metadata": {},
   "source": [
    "### [moderate] Application to data\n",
    "\n",
    "Using the functions you implemented today, perform a basic statistical description of `highest_mountains.csv`, `salary.csv` and `heights_wweights.csv` datasets."
   ]
  },
  {
   "cell_type": "code",
   "execution_count": null,
   "id": "0d14fc9e-3890-4e1f-9dd6-7fb24f0921e9",
   "metadata": {},
   "outputs": [],
   "source": [
    "## YOUR CODE HERE"
   ]
  },
  {
   "cell_type": "markdown",
   "id": "a38622a9-76fe-4d3c-956d-934593ffe446",
   "metadata": {},
   "source": [
    "### [advanced] Deciles, percentiles, etc.\n",
    "\n",
    "Write a function that takes a data set and an integer `P` as parameter.\n",
    "`P` will be the number of segment in which we want to slice our data (4 means quartiles, 10 deciles, 100 percentiles).\n",
    "Function should output all values (N-1).\n",
    "Function should also print N messages like this, replacing `[...]` by the correct value:\n",
    "```\n",
    "[...]% of data values are below [...]\n",
    "[...]% of data values are between [...] and [...]\n",
    "...\n",
    "[...]% percent of data values are above [...]\n",
    "```\n",
    "For instance, if `P=4`, the message should look like this (replacing `[Q1]` by actual values):\n",
    "```\n",
    "25% of data values are below [Q1]\n",
    "50% of data values are below [Q2]\n",
    "75% of data values are below [Q3]\n",
    "```\n",
    "\n",
    "Validate on weights dataset."
   ]
  },
  {
   "cell_type": "code",
   "execution_count": null,
   "id": "b69b56f1-8927-43a3-9825-07cdcb341bf6",
   "metadata": {},
   "outputs": [],
   "source": [
    "## YOUR CODE HERE"
   ]
  },
  {
   "cell_type": "markdown",
   "id": "b96a6459-e329-40cc-96dc-c6e0112008fe",
   "metadata": {},
   "source": [
    "### [advanced] Compute empirical critical values\n",
    "\n",
    "When performing statistical tests or building confidence intervals, \n",
    "you will sometimes need to compute the critical values for a given significance level $\\alpha$  (typically $\\alpha=0.05$).\n",
    "\n",
    "Using function from previous question, write a function that will compute this critical values (lower and upper), for two-tailed tests (lower critical value $c_l$, such that $P(X < c_l) = \\alpha / 2$, upper critical value is $c_h$, such that $P(X < c_h) = 1-\\alpha / 2$\n"
   ]
  },
  {
   "cell_type": "code",
   "execution_count": null,
   "id": "320ce807-f386-496d-89f7-c48fb22665d7",
   "metadata": {},
   "outputs": [],
   "source": [
    "## YOUR CODE HERE"
   ]
  },
  {
   "cell_type": "markdown",
   "id": "a1952427-d3c5-4a30-a0b5-9097b287df39",
   "metadata": {},
   "source": [
    "## Object-oriented programming"
   ]
  },
  {
   "cell_type": "markdown",
   "id": "2e825cfa-f772-44b1-b216-414be6fc54ee",
   "metadata": {},
   "source": [
    "### Q6 [advanced] Convert all your functions and organize them in classes using OOP\n",
    "\n",
    "The idea is that using OOP you can build your own statistics package, tailored to your needs.\n",
    "Think carefully how you will organize your package, how you want to use it, etc.\n"
   ]
  },
  {
   "cell_type": "code",
   "execution_count": 2,
   "id": "ea87faea-5ff7-46b5-ace2-02f05e487f56",
   "metadata": {},
   "outputs": [],
   "source": [
    "## YOUR CODE HERE"
   ]
  }
 ],
 "metadata": {
  "kernelspec": {
   "display_name": "Python 3 (ipykernel)",
   "language": "python",
   "name": "python3"
  },
  "language_info": {
   "codemirror_mode": {
    "name": "ipython",
    "version": 3
   },
   "file_extension": ".py",
   "mimetype": "text/x-python",
   "name": "python",
   "nbconvert_exporter": "python",
   "pygments_lexer": "ipython3",
   "version": "3.11.4"
  }
 },
 "nbformat": 4,
 "nbformat_minor": 5
}
