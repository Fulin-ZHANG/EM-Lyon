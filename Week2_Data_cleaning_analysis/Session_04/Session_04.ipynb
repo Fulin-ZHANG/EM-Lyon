{
 "cells": [
  {
   "cell_type": "code",
   "execution_count": null,
   "id": "8e5ebfc6-8033-43ae-91ac-72f31d949817",
   "metadata": {},
   "outputs": [],
   "source": [
    "from IPython.display import Markdown, display\n",
    "\n",
    "display(Markdown(\"header.md\"))"
   ]
  },
  {
   "cell_type": "markdown",
   "id": "cf041975-d062-4c01-bd28-e2f3aa5d3e08",
   "metadata": {},
   "source": [
    "# Session 04 - Hypothesis testing"
   ]
  },
  {
   "cell_type": "code",
   "execution_count": null,
   "id": "52ba1b32-c7b5-4e1e-98e9-a46e408ba40e",
   "metadata": {},
   "outputs": [],
   "source": [
    "# Basic imports\n",
    "import pandas as pd\n",
    "import numpy as np\n",
    "import math\n",
    "import matplotlib.pyplot as plt\n",
    "import seaborn as sb\n",
    "\n",
    "# Ignore warnings from seaborn\n",
    "import warnings\n",
    "\n",
    "warnings.filterwarnings(\"ignore\")\n",
    "from pprint import pprint\n",
    "import jupyter_black\n",
    "\n",
    "jupyter_black.load()"
   ]
  },
  {
   "cell_type": "markdown",
   "id": "1e9c2156-f07e-4887-a09f-85cb74489a5c",
   "metadata": {},
   "source": [
    "## Normal distribution \n",
    "\n",
    "We will perform some computation on the normal distribution function."
   ]
  },
  {
   "cell_type": "markdown",
   "id": "d253f1e5-6dc0-46fd-bb2a-cd842e369161",
   "metadata": {},
   "source": [
    "### [easy] (already done in week1!) Normal PDF\n",
    "\n",
    "Write a function that computes the probability distribution function of a normal distribution.\n",
    "\n",
    "$\\Large\t\\frac1{\\sigma\\sqrt{2\\pi}}\\; \\exp\\left(-\\frac{\\left(x-\\mu\\right)^2}{2\\sigma^2} \\right)$\n",
    "\n",
    "Test your function by plotting it !"
   ]
  },
  {
   "cell_type": "code",
   "execution_count": null,
   "id": "f94a16e1-25c0-4a97-a63f-e7c63a7a771b",
   "metadata": {},
   "outputs": [],
   "source": [
    "def msds_normal_pdf(x, mu, sigma2):\n",
    "    pass\n",
    "\n",
    "def test_msds_normal_pdf():\n",
    "    assert msds_normal_pdf(0, 0, 1) == 1 / math.sqrt(2 * math.pi)\n",
    "    X = np.linspace(-5, 5, num=100)\n",
    "    Y = []\n",
    "    for s in np.linspace(1, 5, num=5):\n",
    "        Y = [msds_normal_pdf(x, 0, s) for x in X]\n",
    "        plt.plot(X, Y)\n",
    "        plt.grid()\n",
    "\n",
    "\n",
    "test_msds_normal_pdf()"
   ]
  },
  {
   "cell_type": "markdown",
   "id": "5545be36-334d-4374-9dfb-90031b2f301c",
   "metadata": {},
   "source": [
    "### [easy] Normal CDF\n",
    "\n",
    "Write a function that computes the cumulative probability distribution function of a normal distribution.\n",
    "\n",
    "${\\displaystyle {\\frac {1}{2}}\\left(1+\\mathrm {erf} \\left({\\frac {x-\\mu }{\\sigma {\\sqrt {2}}}}\\right)\\right)\\!~}$"
   ]
  },
  {
   "cell_type": "code",
   "execution_count": null,
   "id": "533fa5d4-d696-4d28-ba8a-1df42bbb6170",
   "metadata": {},
   "outputs": [],
   "source": [
    "def msds_normal_cdf(x, mu, sigma2):\n",
    "    pass\n",
    "\n",
    "def test_msds_normal_cdf():\n",
    "    assert msds_normal_cdf(0, 0, 1) == 0.5\n",
    "    X = np.linspace(-5, 5, num=100)\n",
    "    Y = []\n",
    "    for s in np.linspace(1, 5, num=5):\n",
    "        Y = [msds_normal_cdf(x, 0, s) for x in X]\n",
    "        plt.plot(X, Y)\n",
    "        plt.grid(zorder=0)\n",
    "\n",
    "\n",
    "test_msds_normal_cdf()"
   ]
  },
  {
   "cell_type": "markdown",
   "id": "295fa99b-0103-469d-9421-515326200d40",
   "metadata": {},
   "source": [
    "### [easy] Standardize data\n",
    "\n",
    "Write a function that \"standardize\" some data by computing:\n",
    "\n",
    "$\\Large Z = \\frac{X - \\bar{X}}{S_X}$\n",
    "\n",
    "with:\n",
    " - $\\bar{X}$ is the sample mean\n",
    " - $S_{X}$ is the sample variance"
   ]
  },
  {
   "cell_type": "code",
   "execution_count": null,
   "id": "83ee8d93-be89-4526-88dd-578150b12ae9",
   "metadata": {},
   "outputs": [],
   "source": [
    "def msds_standardize(data):\n",
    "    pass\n",
    "\n",
    "def test_msds_standardize():\n",
    "    data = [1, 2, 3, 4, 5]\n",
    "    st_data1 = msds_standardize(data)\n",
    "    assert np.mean(st_data1) < 1e-10\n",
    "    assert (1 - np.var(st_data1, ddof=1)) < 1e-5\n",
    "\n",
    "\n",
    "test_msds_standardize()"
   ]
  },
  {
   "cell_type": "markdown",
   "id": "4ad48fcd-a2c5-42bb-bfc4-7cec9ba5331d",
   "metadata": {},
   "source": [
    "## [moderate] Plot histogram of standardized data and $N(0,1)$\n",
    "\n",
    "Write a function that draws, given some data, the histogram of the standardized data and the standardized normal distribution.\n",
    "In order to make a fair comparison, you will have to make some scaling adjustment...\n",
    "\n",
    "This can be done to evaluate the normality of a data set.\n",
    "\n",
    "Test on `heights_weights.csv`"
   ]
  },
  {
   "cell_type": "code",
   "execution_count": null,
   "id": "f5313958-2ebd-4b81-b7ca-02eb74e78087",
   "metadata": {},
   "outputs": [],
   "source": [
    "def msds_check_normality(data):\n",
    "    pass\n",
    "\n",
    "def test_msds_check_normality():\n",
    "    weighs_heights = pd.read_csv(\"data/heights_weights.csv\")\n",
    "    heights = msds_standardize(weighs_heights[\"Height(Inches)\"])\n",
    "    msds_check_normality(heights)\n",
    "    weights = msds_standardize(weighs_heights[\"Weight(Pounds)\"])\n",
    "    msds_check_normality(weights)\n",
    "\n",
    "\n",
    "test_msds_check_normality()"
   ]
  },
  {
   "cell_type": "markdown",
   "id": "febe92ae-54ac-4af7-9e5f-cc952307f8ea",
   "metadata": {},
   "source": [
    "## Hypothesis testing\n"
   ]
  },
  {
   "cell_type": "markdown",
   "id": "e889b0ef-7f4a-4f46-8d1e-4b91aca96c0a",
   "metadata": {},
   "source": [
    "### [moderate] Simple hypothesis testing for mean (variance known, two-tailed)\n",
    "\n",
    "Write a function that will output a decision based on:\n",
    " - a risk level or significance level ($\\alpha$)\n",
    " - a data sample\n",
    " - a mean value ($H_0$ is that the true mean is the value given)\n",
    " - the population variance ($\\sigma^2$)\n",
    "\n",
    "Compute the test statistic: \n",
    "\n",
    "$\\Large Z = \\frac{\\bar{X}-\\mu}{\\sigma\\sqrt{N}}$\n",
    "Your function should output True is we accept $H_0$, False ortherwise.\n",
    "\n",
    "Your function should also explain with prints why this decision is made.\n",
    "\n",
    "Your function should also print the associated $p$-value.\n",
    "\n",
    "Validate on the examples below:\n",
    " - $H_0$: the observed sample mean is 5.7 (10 samples), variance is 2 and population mean is $\\mu=5$\n",
    " - $H_0$: the observed sample mean is 5.1 (10 samples), variance is 2 and population mean is $\\mu=5$\n",
    " - $H_0$: the observed sample mean is 5.2 (100 samples), variance is 2 and population mean is $\\mu=5$\n",
    "\n",
    "**You don't have to compute Normal distribution's inverse CDF values, for that you can use packages!**\n",
    "\n",
    "Take the time to play with the different parameters to check you understand completely what is going on!"
   ]
  },
  {
   "cell_type": "code",
   "execution_count": null,
   "id": "edeb3cd9-3e5f-4775-aa4d-be9174341916",
   "metadata": {},
   "outputs": [],
   "source": [
    "from scipy.stats import norm\n",
    "\n",
    "\n",
    "def msds_hyphothesis_mean_test(alpha, sample_mean, N, th_mean, sigma2):\n",
    "    pass\n",
    "\n",
    "\n",
    "def test_msds_hyphothesis_mean_test():\n",
    "    assert msds_hyphothesis_mean_test(0.1, 6, 10, 5, 2) == False\n",
    "    assert msds_hyphothesis_mean_test(0.1, 5.1, 100, 5, 2) == True\n",
    "    assert msds_hyphothesis_mean_test(0.05, 5.1, 1000, 5, 2) == False\n",
    "\n",
    "\n",
    "test_msds_hyphothesis_mean_test()"
   ]
  },
  {
   "cell_type": "markdown",
   "id": "49a3ac6f-ef61-465d-8602-d90611b7835b",
   "metadata": {},
   "source": [
    "### [moderate] Simple hypothesis testing for mean (variance unknown, two-tailed)\n",
    "\n",
    "Write a very simialar function, but when variance is not known.\n",
    "\n",
    "In this case the $Z$ statistics will follow a Student's T distribution.\n",
    "\n",
    "**You don't have to compute Student's T distribution's inverse CDF values, for that you can use a library such as `scipy.stats`!**\n"
   ]
  },
  {
   "cell_type": "code",
   "execution_count": null,
   "id": "7d19f6c2-1e1d-4c73-9920-da3bc2d6ebaa",
   "metadata": {},
   "outputs": [],
   "source": [
    "from scipy.stats import t\n",
    "\n",
    "\n",
    "def msds_hyphothesis_mean_test_t(alpha, sample_mean, N, th_mean, sample_variance):\n",
    "    pass\n",
    "\n",
    "\n",
    "def test_msds_hyphothesis_mean_test2():\n",
    "    assert msds_hyphothesis_mean_test_t(0.1, 6, 10, 5, 2) == False\n",
    "    assert msds_hyphothesis_mean_test_t(0.1, 5.1, 100, 5, 2) == True\n",
    "    assert msds_hyphothesis_mean_test_t(0.05, 5.1, 1000, 5, 2) == False\n",
    "\n",
    "\n",
    "test_msds_hyphothesis_mean_test2()"
   ]
  },
  {
   "cell_type": "markdown",
   "id": "c1fcf60f-fac9-425c-b15e-cff299db722f",
   "metadata": {},
   "source": [
    "### [moderate] Application to data (single tail)\n",
    "\n",
    "Grand Junction Vegetables is a producer of a wide variety of frozen vegetables. The\r",
    "company president has asked you to determine if the weekly sales of 16-ounce packages\r",
    "of frozen broccoli has increased. The mean weekly number of sales per store has been\r",
    "2400 packages over the past 6 months. You have obtained a random sample of sales\r",
    "data from 134 stores for your study. The data are contained in the data file `broccoli.csv`.\n",
    "\n",
    " - Evaluate the situation by performing a hypothesis test\n",
    " - state $H_0$ and $H_1$\n",
    " - compute test statistics and formulate your answer to your president!\n",
    "\n"
   ]
  },
  {
   "cell_type": "code",
   "execution_count": 85,
   "id": "93161943-1a09-45d0-aec6-d442d60928c2",
   "metadata": {},
   "outputs": [],
   "source": [
    "# H0: mu = 2400\n",
    "# H1: mu > 2400 (single tail)"
   ]
  }
 ],
 "metadata": {
  "kernelspec": {
   "display_name": "Python 3 (ipykernel)",
   "language": "python",
   "name": "python3"
  },
  "language_info": {
   "codemirror_mode": {
    "name": "ipython",
    "version": 3
   },
   "file_extension": ".py",
   "mimetype": "text/x-python",
   "name": "python",
   "nbconvert_exporter": "python",
   "pygments_lexer": "ipython3",
   "version": "3.10.13"
  }
 },
 "nbformat": 4,
 "nbformat_minor": 5
}
