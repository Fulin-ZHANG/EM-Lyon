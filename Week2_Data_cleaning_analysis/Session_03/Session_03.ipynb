{
 "cells": [
  {
   "cell_type": "code",
   "execution_count": 1,
   "id": "8e5ebfc6-8033-43ae-91ac-72f31d949817",
   "metadata": {},
   "outputs": [
    {
     "data": {
      "text/markdown": [
       "<div>\n",
       "    <img src=\"images/emlyon.png\" style=\"height:60px; float:left; padding-right:10px; margin-top:5px\" />\n",
       "    <span>\n",
       "        <h1 style=\"padding-bottom:5px;\"> AI Booster Week 02 - Python for Data Science </h1>\n",
       "        <a href=\"https://masters.em-lyon.com/fr/msc-in-data-science-artificial-intelligence-strategy\">[Emlyon]</a> MSc in Data Science & Artificial Intelligence Strategy (DSAIS) <br/>\n",
       "         Paris | © Antoine SCHERRER\n",
       "    </span>\n",
       "</div>\n",
       "\n",
       "Please make sure you have a working installation of Jupyter Notebook / Jupyter Lab, with Python 3.6+ up and running.\n",
       "\n",
       "## Naming conventions\n",
       "\n",
       "Since we will implement functions that are already available in python standard library or other libraries, you will have to *prefix* every function with `msds_` prefix.\n",
       "\n",
       "For instance, the function implementing the `mean` function should be named `msds_mean`.\n",
       "\n",
       "For every function you write, **you will need to write a test function** that should be named `test_[function_name]`.\n",
       "\n",
       "For instance, the test function for `msds_mean` will be: `test_msds_mean`.\n",
       "\n",
       "**don't forget to document all you function with Python docstring**\n",
       "\n",
       "For instance:\n",
       "```\n",
       "def msds_my_awesome_function():\n",
       "    \"\"\"\n",
       "    This function computes an awesome function\n",
       "    \"\"\"\n",
       "    # Awesome code\n",
       "    ...\n",
       "```\n",
       "\n",
       "All function should be in snake case (no Camel case!)\n",
       "\n",
       "When creating classes, then follow these rules:\n",
       " - class names should be in camel case\n",
       " - method names should be in snake case\n",
       " - attribute names should be in snake case\n",
       "\n",
       "## Exercise's difficulty\n",
       "\n",
       "Every exercise will be prefixed with an indication of its difficulty:\n",
       " - [easy]: easy exercise, should be pretty straightforward for you\n",
       " - [moderate]: intermediate level exercise, you all should manage to solve them\n",
       " - [advanced]: for advanced students who want to go deeper/further\n",
       "\n",
       "**Advanced exercises are not mandatory.**\n",
       "\n",
       "## Required libraries\n",
       "\n",
       "These are the libraries we will use (to check our computations for instance), you need to install them in your virtual environment:\n",
       "\n",
       " - `pandas`: data manipulation library\n",
       " - `scipy`: scientific library in Python\n",
       " - `numpy`: vector/matrix computations\n",
       " - `statistics`: statistics library\n",
       " - `matplotlib`: plotting lib\n",
       " - `seaborn`: alternative plotting lib (based on matplotlib)\n",
       " - `jupyter_black`: plugin for jupyter to allow `black` (code formatter) to run\n",
       " - `unittest`: testing library \n",
       "\n",
       "\n"
      ],
      "text/plain": [
       "<IPython.core.display.Markdown object>"
      ]
     },
     "metadata": {},
     "output_type": "display_data"
    }
   ],
   "source": [
    "from IPython.display import Markdown, display\n",
    "\n",
    "display(Markdown(\"header.md\"))"
   ]
  },
  {
   "cell_type": "markdown",
   "id": "cf041975-d062-4c01-bd28-e2f3aa5d3e08",
   "metadata": {},
   "source": [
    "# Session 03 - Bivariate Statistics"
   ]
  },
  {
   "cell_type": "code",
   "execution_count": 2,
   "id": "52ba1b32-c7b5-4e1e-98e9-a46e408ba40e",
   "metadata": {},
   "outputs": [
    {
     "data": {
      "text/html": [
       "\n",
       "                <script type=\"application/javascript\" id=\"jupyter_black\">\n",
       "                (function() {\n",
       "                    if (window.IPython === undefined) {\n",
       "                        return\n",
       "                    }\n",
       "                    var msg = \"WARNING: it looks like you might have loaded \" +\n",
       "                        \"jupyter_black in a non-lab notebook with \" +\n",
       "                        \"`is_lab=True`. Please double check, and if \" +\n",
       "                        \"loading with `%load_ext` please review the README!\"\n",
       "                    console.log(msg)\n",
       "                    alert(msg)\n",
       "                })()\n",
       "                </script>\n",
       "                "
      ],
      "text/plain": [
       "<IPython.core.display.HTML object>"
      ]
     },
     "metadata": {},
     "output_type": "display_data"
    }
   ],
   "source": [
    "# Basic imports\n",
    "import pandas as pd\n",
    "import numpy as np\n",
    "import math\n",
    "import matplotlib.pyplot as plt\n",
    "import seaborn as sb\n",
    "\n",
    "# Ignore warnings from seaborn\n",
    "import warnings\n",
    "\n",
    "warnings.filterwarnings(\"ignore\")\n",
    "from pprint import pprint\n",
    "import jupyter_black\n",
    "\n",
    "jupyter_black.load()"
   ]
  },
  {
   "cell_type": "markdown",
   "id": "1e9c2156-f07e-4887-a09f-85cb74489a5c",
   "metadata": {},
   "source": [
    "## Qualitative data\n",
    "To explore qualitative data, we will compute contingency tables."
   ]
  },
  {
   "cell_type": "markdown",
   "id": "d253f1e5-6dc0-46fd-bb2a-cd842e369161",
   "metadata": {},
   "source": [
    "### [moderate] contingency table (in counts)\n",
    "\n",
    "Write a function that computes a contingency table (in counts) given two categorical data (passed as a iterables).\n",
    "\n",
    "The output should be a dataframe with rows index being all possibles values in data1  and columns all possible values in data2."
   ]
  },
  {
   "cell_type": "code",
   "execution_count": 3,
   "id": "4750e656",
   "metadata": {},
   "outputs": [
    {
     "name": "stdout",
     "output_type": "stream",
     "text": [
      "(('John', 'Jenny'), ('Charles', 'Christy'), ('Mike', 'Monica'))\n"
     ]
    }
   ],
   "source": [
    "a = (\"John\", \"Charles\", \"Mike\")\n",
    "b = (\"Jenny\", \"Christy\", \"Monica\")\n",
    "x = zip(a, b)\n",
    "# use the tuple() function to display a readable version of the result:\n",
    "print(tuple(x))"
   ]
  },
  {
   "cell_type": "code",
   "execution_count": 4,
   "id": "1d23ed34",
   "metadata": {},
   "outputs": [],
   "source": [
    "# def msds_contingency_table(data1, data2, with_totals=True):\n",
    "#     \"\"\"\n",
    "#     Compute contingency table for 2 qualitative variables (count)\n",
    "#     \"\"\"\n",
    "#     # {\"A\":{\"X\":1, \"Z\":3}, \"B\":{\"X\":1, \"Z\":0}, \"C\":{\"X\":1, \"Z\":1}}\n",
    "\n",
    "#     assert len(data1) == len(data2)\n",
    "#     N = len(data1)\n",
    "#     values_data1 = sorted(list(set(data1)))\n",
    "#     values_data2 = sorted(list(set(data2)))\n",
    "#     print(values_data1)\n",
    "#     print(values_data2)\n",
    "#     d = {}\n",
    "#     for v1 in values_data1:\n",
    "#         d[v1] = {}\n",
    "#         for v2 in values_data2:\n",
    "#             d[v1][v2] = 0\n",
    "#     # print(d)\n",
    "#     for i in range(N):\n",
    "#         # print(i, end=\" \")\n",
    "#         v1 = data1[i]\n",
    "#         v2 = data2[i]\n",
    "#         d[v1][v2] += 1\n",
    "\n",
    "#     df = pd.DataFrame.from_dict(d, orient=\"index\")\n",
    "#     # df = pd.DataFrame(d).T\n",
    "\n",
    "#     if with_totals:\n",
    "#         df[\"All\"] = df.sum(axis=1)\n",
    "#         df.loc[\"All\"] = df.sum(axis=0)\n",
    "#     # print(df)\n",
    "#     return df\n",
    "\n",
    "\n",
    "# test_data1 = [\"A\", \"A\", \"B\", \"C\", \"C\", \"A\", \"A\"]\n",
    "# test_data2 = [\"Z\", \"Z\", \"X\", \"X\", \"Z\", \"X\", \"Z\"]\n",
    "# msds_contingency_table(test_data1, test_data2)"
   ]
  },
  {
   "cell_type": "code",
   "execution_count": 5,
   "id": "8f5959bc-ef99-45f6-a21e-8d423926cb36",
   "metadata": {},
   "outputs": [
    {
     "name": "stdout",
     "output_type": "stream",
     "text": [
      "['A', 'B', 'C']\n",
      "['X', 'Z']\n",
      "       X  Z  Total\n",
      "A      1  3      4\n",
      "B      1  0      1\n",
      "C      1  1      2\n",
      "Total  3  4      7\n",
      "CROSSTAB RESULTS\n",
      "data1  X  Z  All\n",
      "data2           \n",
      "A      1  3    4\n",
      "B      1  0    1\n",
      "C      1  1    2\n",
      "All    3  4    7\n",
      "SALARY TEST\n",
      "['Female', 'Male']\n",
      "[\"Bachelor's\", \"Master's\", 'PhD']\n",
      "        Bachelor's  Master's  PhD  Total\n",
      "Female         103        50   26    179\n",
      "Male           121        48   25    194\n",
      "Total          224        98   51    373\n",
      "CROSSTAB RESULTS\n",
      "Education Level  Bachelor's  Master's  PhD  All\n",
      "Gender                                         \n",
      "Female                  103        50   26  179\n",
      "Male                    121        48   25  194\n",
      "All                     224        98   51  373\n"
     ]
    }
   ],
   "source": [
    "def msds_contingency_table(data1, data2, with_totals):\n",
    "    \"\"\"\n",
    "    Compute contingency table for 2 qualitative variables (count)\n",
    "    \"\"\"\n",
    "    # {\"A\":{\"X\":1, \"Z\":3}, \"B\":{\"X\":1, \"Z\":0}, \"C\":{\"X\":1, \"Z\":1}}\n",
    "\n",
    "    assert len(data1) == len(data2)\n",
    "    data1 = list(data1)\n",
    "    data2 = list(data2)\n",
    "    N = len(data1)\n",
    "    values_data1 = sorted(list(set(data1)))\n",
    "    values_data2 = sorted(list(set(data2)))\n",
    "    print(values_data1)\n",
    "    print(values_data2)\n",
    "    d = {}\n",
    "    for v1 in values_data1:\n",
    "        d[v1] = {}\n",
    "        for v2 in values_data2:\n",
    "            d[v1][v2] = 0\n",
    "    # print(d)\n",
    "    for i in range(N):\n",
    "        # print(i, end=\" \")\n",
    "        v1 = data1[i]\n",
    "        v2 = data2[i]\n",
    "        d[v1][v2] += 1\n",
    "\n",
    "    df = pd.DataFrame.from_dict(d, orient=\"index\")\n",
    "    # df = pd.DataFrame(d).T\n",
    "\n",
    "    if with_totals:\n",
    "        df[\"Total\"] = df.sum(axis=1)\n",
    "        df.loc[\"Total\"] = df.sum(axis=0)\n",
    "    # print(df)\n",
    "    return df\n",
    "\n",
    "\n",
    "def test_msds_contingency_table():\n",
    "    test_data1 = [\"A\", \"A\", \"B\", \"C\", \"C\", \"A\", \"A\"]\n",
    "    test_data2 = [\"Z\", \"Z\", \"X\", \"X\", \"Z\", \"X\", \"Z\"]\n",
    "    # print(\n",
    "    #     pd.crosstab(\n",
    "    #         test_data1, test_data2, margins=True, colnames=[\"data1\"], rownames=[\"data2\"]\n",
    "    #     )\n",
    "    # )\n",
    "    # return\n",
    "    cont_table = msds_contingency_table(test_data1, test_data2, True)\n",
    "    print(cont_table)\n",
    "    assert cont_table.shape == (4, 3)\n",
    "    assert cont_table.Z[\"A\"] == 3\n",
    "    # Compare with crosstab function\n",
    "    print(\"CROSSTAB RESULTS\")\n",
    "    print(\n",
    "        pd.crosstab(\n",
    "            test_data1, test_data2, margins=True, colnames=[\"data1\"], rownames=[\"data2\"]\n",
    "        )\n",
    "    )\n",
    "\n",
    "    print(\"SALARY TEST\")\n",
    "    salary = pd.read_csv(\"../Session_01/data/salary.csv\")\n",
    "    salary = salary.dropna()\n",
    "    gender_ed = msds_contingency_table(salary.Gender, salary[\"Education Level\"], True)\n",
    "    print(gender_ed)\n",
    "    print(\"CROSSTAB RESULTS\")\n",
    "    print(pd.crosstab(salary.Gender, salary[\"Education Level\"], margins=True))\n",
    "\n",
    "\n",
    "test_msds_contingency_table()"
   ]
  },
  {
   "cell_type": "markdown",
   "id": "170ef5a6-17ec-4274-bb61-43747a1e4ace",
   "metadata": {},
   "source": [
    "### [easy] contingency table (in percentage of overall total)\n",
    "\n",
    "Write a function that computes a contingency table (in percentage of overall total) given two categorical data (passed as a iterables).\n",
    "\n",
    "The output should be a dataframe with rows index being all possibles values in data1  and columns all possible values in data2.\n",
    "\n",
    "**You need to perform the computation yourself, and therefore you cannot use `crosstab` pandas function!**\n",
    "\n",
    "But, you can check your implementation by comparing with this function 😃"
   ]
  },
  {
   "cell_type": "code",
   "execution_count": 6,
   "id": "c043bdfb-4d95-478e-9da8-79a06e62720f",
   "metadata": {},
   "outputs": [
    {
     "name": "stdout",
     "output_type": "stream",
     "text": [
      "['A', 'B', 'C']\n",
      "['X', 'Z']\n",
      "               X          Z       Total\n",
      "A      14.285714  42.857143   57.142857\n",
      "B      14.285714   0.000000   14.285714\n",
      "C      14.285714  14.285714   28.571429\n",
      "Total  42.857143  57.142857  100.000000\n",
      "CROSSTAB RESULTS\n",
      "data1          X          Z         All\n",
      "data2                                  \n",
      "A      14.285714  42.857143   57.142857\n",
      "B      14.285714   0.000000   14.285714\n",
      "C      14.285714  14.285714   28.571429\n",
      "All    42.857143  57.142857  100.000000\n",
      "SALARY TEST\n",
      "['Female', 'Male']\n",
      "[\"Bachelor's\", \"Master's\", 'PhD']\n",
      "        Bachelor's   Master's        PhD       Total\n",
      "Female   27.613941  13.404826   6.970509   47.989276\n",
      "Male     32.439678  12.868633   6.702413   52.010724\n",
      "Total    60.053619  26.273458  13.672922  100.000000\n",
      "CROSSTAB RESULTS\n",
      "Education Level  Bachelor's   Master's        PhD         All\n",
      "Gender                                                       \n",
      "Female            27.613941  13.404826   6.970509   47.989276\n",
      "Male              32.439678  12.868633   6.702413   52.010724\n",
      "All               60.053619  26.273458  13.672922  100.000000\n"
     ]
    }
   ],
   "source": [
    "def msds_contingency_table_overall(data1, data2, with_totals):\n",
    "    df = msds_contingency_table(data1, data2, True)\n",
    "    df = df / df.loc[\"Total\"][\"Total\"] * 100\n",
    "    return df\n",
    "\n",
    "\n",
    "def test_msds_contingency_table_overall():\n",
    "    test_data1 = [\"A\", \"A\", \"B\", \"C\", \"C\", \"A\", \"A\"]\n",
    "    test_data2 = [\"Z\", \"Z\", \"X\", \"X\", \"Z\", \"X\", \"Z\"]\n",
    "    cont_table = msds_contingency_table_overall(test_data1, test_data2, True)\n",
    "    print(cont_table)\n",
    "    assert cont_table.shape == (4, 3)\n",
    "    assert abs(cont_table.Total[\"Total\"] - 100) < 1e-5\n",
    "    print(\"CROSSTAB RESULTS\")\n",
    "    print(\n",
    "        pd.crosstab(\n",
    "            test_data1,\n",
    "            test_data2,\n",
    "            margins=True,\n",
    "            normalize=True,\n",
    "            colnames=[\"data1\"],\n",
    "            rownames=[\"data2\"],\n",
    "        )\n",
    "        * 100\n",
    "    )\n",
    "\n",
    "    print(\"SALARY TEST\")\n",
    "    salary = pd.read_csv(\"../Session_01/data/salary.csv\")\n",
    "    salary = salary.dropna()\n",
    "    gender_ed = msds_contingency_table_overall(\n",
    "        salary.Gender, salary[\"Education Level\"], True\n",
    "    )\n",
    "    print(gender_ed)\n",
    "    print(\"CROSSTAB RESULTS\")\n",
    "    print(\n",
    "        pd.crosstab(\n",
    "            salary.Gender, salary[\"Education Level\"], normalize=True, margins=True\n",
    "        )\n",
    "        * 100\n",
    "    )\n",
    "\n",
    "\n",
    "test_msds_contingency_table_overall()"
   ]
  },
  {
   "cell_type": "markdown",
   "id": "6364a05b-be2d-40b7-8e0a-2bb646ca9bae",
   "metadata": {},
   "source": [
    "### [easy] contingency table (in percentage of row total)\n",
    "Write a function that computes a contingency table (in percentage of row total) given two categorical data (passed as a iterables).\n",
    "\n",
    "The output should be a dataframe with rows index being all possibles values in data1 and columns all possible values in data2. \n"
   ]
  },
  {
   "cell_type": "code",
   "execution_count": 13,
   "id": "d6c33348-3a27-44b9-b9a3-b8a3264642fc",
   "metadata": {},
   "outputs": [
    {
     "name": "stdout",
     "output_type": "stream",
     "text": [
      "['A', 'B', 'C']\n",
      "['X', 'Z']\n",
      "                X          Z\n",
      "A       25.000000  75.000000\n",
      "B      100.000000   0.000000\n",
      "C       50.000000  50.000000\n",
      "Total   42.857143  57.142857\n",
      "CROSSTAB RESULTS\n",
      "data1           X          Z\n",
      "data2                       \n",
      "A       25.000000  75.000000\n",
      "B      100.000000   0.000000\n",
      "C       50.000000  50.000000\n",
      "All     42.857143  57.142857\n",
      "SALARY TEST\n",
      "['Female', 'Male']\n",
      "[\"Bachelor's\", \"Master's\", 'PhD']\n",
      "        Bachelor's   Master's        PhD\n",
      "Female   57.541899  27.932961  14.525140\n",
      "Male     62.371134  24.742268  12.886598\n",
      "Total    60.053619  26.273458  13.672922\n",
      "CROSSTAB RESULTS\n",
      "Education Level  Bachelor's   Master's        PhD\n",
      "Gender                                           \n",
      "Female            57.541899  27.932961  14.525140\n",
      "Male              62.371134  24.742268  12.886598\n",
      "All               60.053619  26.273458  13.672922\n"
     ]
    }
   ],
   "source": [
    "def msds_contingency_table_row(data1, data2, with_totals=True):\n",
    "    df = msds_contingency_table(data1, data2, True)\n",
    "\n",
    "    df = df.div(df.Total, axis=0) * 100\n",
    "    df.drop(columns=\"Total\", inplace=True)\n",
    "    return df\n",
    "\n",
    "\n",
    "def test_msds_contingency_table_row():\n",
    "    test_data1 = [\"A\", \"A\", \"B\", \"C\", \"C\", \"A\", \"A\"]\n",
    "    test_data2 = [\"Z\", \"Z\", \"X\", \"X\", \"Z\", \"X\", \"Z\"]\n",
    "    cont_table = msds_contingency_table_row(test_data1, test_data2)\n",
    "    print(cont_table)\n",
    "    assert cont_table.shape == (4, 2)\n",
    "    assert abs(cont_table.X[\"A\"] - 25) < 1e-5\n",
    "    print(\"CROSSTAB RESULTS\")\n",
    "    print(\n",
    "        pd.crosstab(\n",
    "            test_data1,\n",
    "            test_data2,\n",
    "            margins=True,\n",
    "            normalize=\"index\",\n",
    "            colnames=[\"data1\"],\n",
    "            rownames=[\"data2\"],\n",
    "        )\n",
    "        * 100\n",
    "    )\n",
    "\n",
    "    print(\"SALARY TEST\")\n",
    "    salary = pd.read_csv(\"../Session_01/data/salary.csv\")\n",
    "    salary = salary.dropna()\n",
    "    gender_ed = msds_contingency_table_row(salary.Gender, salary[\"Education Level\"])\n",
    "    print(gender_ed)\n",
    "    print(\"CROSSTAB RESULTS\")\n",
    "    print(\n",
    "        pd.crosstab(\n",
    "            salary.Gender, salary[\"Education Level\"], normalize=\"index\", margins=True\n",
    "        )\n",
    "        * 100\n",
    "    )\n",
    "\n",
    "\n",
    "test_msds_contingency_table_row()"
   ]
  },
  {
   "cell_type": "markdown",
   "id": "c74377e9-09b3-4bd3-b2b8-34a2b7f8f943",
   "metadata": {},
   "source": [
    "### [easy] contingency table (in percentage of column total)\n",
    "Write a function that computes a contingency table (in percentage of row total) given two categorical data (passed as a iterables).\n",
    "\n",
    "The output should be a dataframe with rows index being all possibles values in data1 and columns all possible values in data2. The value in each cell should"
   ]
  },
  {
   "cell_type": "code",
   "execution_count": 16,
   "id": "d2bd8e73-20f8-41a5-8565-b33b9d36e028",
   "metadata": {},
   "outputs": [
    {
     "name": "stdout",
     "output_type": "stream",
     "text": [
      "['A', 'B', 'C']\n",
      "['X', 'Z']\n",
      "           X     Z      Total\n",
      "A  33.333333  75.0  57.142857\n",
      "B  33.333333   0.0  14.285714\n",
      "C  33.333333  25.0  28.571429\n",
      "(3, 3)\n",
      "CROSSTAB RESULTS\n",
      "data1          X     Z        All\n",
      "data2                            \n",
      "A      33.333333  75.0  57.142857\n",
      "B      33.333333   0.0  14.285714\n",
      "C      33.333333  25.0  28.571429\n",
      "SALARY TEST\n",
      "['Female', 'Male']\n",
      "[\"Bachelor's\", \"Master's\", 'PhD']\n",
      "        Bachelor's   Master's        PhD      Total\n",
      "Female   45.982143  51.020408  50.980392  47.989276\n",
      "Male     54.017857  48.979592  49.019608  52.010724\n",
      "CROSSTAB RESULTS\n",
      "Education Level  Bachelor's   Master's        PhD        All\n",
      "Gender                                                      \n",
      "Female            45.982143  51.020408  50.980392  47.989276\n",
      "Male              54.017857  48.979592  49.019608  52.010724\n"
     ]
    }
   ],
   "source": [
    "def msds_contingency_table_col(data1, data2, with_totals=True):\n",
    "    \n",
    "    df = msds_contingency_table(data1, data2, True)\n",
    "    df = df.div(df.loc[\"Total\"], axis=1) * 100\n",
    "\n",
    "    return df.drop([\"Total\"])\n",
    "\n",
    "\n",
    "def test_msds_contingency_table_col():\n",
    "    test_data1 = [\"A\", \"A\", \"B\", \"C\", \"C\", \"A\", \"A\"]\n",
    "    test_data2 = [\"Z\", \"Z\", \"X\", \"X\", \"Z\", \"X\", \"Z\"]\n",
    "    cont_table = msds_contingency_table_col(test_data1, test_data2)\n",
    "    print(cont_table)\n",
    "    print(cont_table.shape)\n",
    "    assert cont_table.shape == (3, 3)\n",
    "    assert abs(cont_table.X[\"A\"] - 33.33333333) < 1e-5\n",
    "    print(\"CROSSTAB RESULTS\")\n",
    "    print(\n",
    "        pd.crosstab(\n",
    "            test_data1,\n",
    "            test_data2,\n",
    "            margins=True,\n",
    "            normalize=\"columns\",\n",
    "            colnames=[\"data1\"],\n",
    "            rownames=[\"data2\"],\n",
    "        )\n",
    "        * 100\n",
    "    )\n",
    "\n",
    "    print(\"SALARY TEST\")\n",
    "    salary = pd.read_csv(\"../Session_01/data/salary.csv\")\n",
    "    salary = salary.dropna()\n",
    "    gender_ed = msds_contingency_table_col(salary.Gender, salary[\"Education Level\"])\n",
    "    print(gender_ed)\n",
    "    print(\"CROSSTAB RESULTS\")\n",
    "    print(\n",
    "        pd.crosstab(\n",
    "            salary.Gender, salary[\"Education Level\"], normalize=\"columns\", margins=True\n",
    "        )\n",
    "        * 100\n",
    "    )\n",
    "\n",
    "\n",
    "test_msds_contingency_table_col()"
   ]
  },
  {
   "cell_type": "markdown",
   "id": "256b37a4-405e-4774-813f-51728521a3f0",
   "metadata": {},
   "source": [
    "### [easy] Visualization of contingency table \n",
    "\n",
    "Write a function that draws a contingency table (a dataframe) as a heatmap (2D image).\n",
    "\n",
    "Explore improving the chart using `matplotlib` and `seaborn`.\n",
    "\n",
    "Use `salary.csv` dataset to test out!\n"
   ]
  },
  {
   "cell_type": "code",
   "execution_count": 21,
   "id": "ef800c1a-8a86-42ed-8f68-3f774e7a9d33",
   "metadata": {},
   "outputs": [
    {
     "name": "stdout",
     "output_type": "stream",
     "text": [
      "['Female', 'Male']\n",
      "[\"Bachelor's\", \"Master's\", 'PhD']\n",
      "['Female', 'Male']\n",
      "[\"Bachelor's\", \"Master's\", 'PhD']\n",
      "['Female', 'Male']\n",
      "[\"Bachelor's\", \"Master's\", 'PhD']\n"
     ]
    },
    {
     "data": {
      "image/png": "[encoded data removed]",
      "text/plain": [
       "<Figure size 640x480 with 2 Axes>"
      ]
     },
     "metadata": {},
     "output_type": "display_data"
    },
    {
     "data": {
      "image/png": "[encoded data removed]",
      "text/plain": [
       "<Figure size 640x480 with 2 Axes>"
      ]
     },
     "metadata": {},
     "output_type": "display_data"
    },
    {
     "data": {
      "image/png": "[encoded data removed]",
      "text/plain": [
       "<Figure size 640x480 with 2 Axes>"
      ]
     },
     "metadata": {},
     "output_type": "display_data"
    }
   ],
   "source": [
    "def msds_contingency_table_plot(df, annot=True, title=\"\"):\n",
    "    plt.figure()\n",
    "    sb.heatmap(df, annot=annot, fmt=\".0f\")\n",
    "    plt.title(title)\n",
    "\n",
    "\n",
    "def test_msds_contingency_table_plot():\n",
    "    salary_data = pd.read_csv(\"../Session_01/data/salary.csv\")\n",
    "    salary_data = salary_data.dropna()\n",
    "    cont_table1 = msds_contingency_table_overall(\n",
    "        salary_data.Gender, salary_data[\"Education Level\"], with_totals=False\n",
    "    )\n",
    "    msds_contingency_table_plot(cont_table1, title=\"Overall\", annot=False)\n",
    "\n",
    "    cont_table2 = msds_contingency_table_row(\n",
    "        salary_data.Gender, salary_data[\"Education Level\"], with_totals=False\n",
    "    )\n",
    "    msds_contingency_table_plot(cont_table2, title=\"Gender\")\n",
    "\n",
    "    cont_table3 = msds_contingency_table_col(\n",
    "        salary_data.Gender, salary_data[\"Education Level\"], with_totals=False\n",
    "    )\n",
    "    msds_contingency_table_plot(cont_table3, title=\"Education Level\")\n",
    "\n",
    "\n",
    "test_msds_contingency_table_plot()"
   ]
  },
  {
   "cell_type": "markdown",
   "id": "febe92ae-54ac-4af7-9e5f-cc952307f8ea",
   "metadata": {},
   "source": [
    "## Quantitative data\n",
    "To explore quantitative data, we will compute correlation coeficents and covariances."
   ]
  },
  {
   "cell_type": "markdown",
   "id": "8f986a3a-ddcd-435f-b4aa-cb6aceb9ad45",
   "metadata": {},
   "source": [
    "### [easy] Visualization of two variables\n",
    "\n",
    "Write a function that draws a scatter plot given two quantitative data sets.\n",
    "Play with `matplotlib` / `seaborn` to improve the graphical quality of your chart.\n",
    "\n",
    "*When finished, you can upgrade your function to use a third variable for points color*\n",
    "\n",
    "Explore using again the `salary.csv` dataset.\n",
    " "
   ]
  },
  {
   "cell_type": "code",
   "execution_count": 30,
   "id": "01f21ec2-7917-435d-a71f-4cd13a505d0a",
   "metadata": {},
   "outputs": [
    {
     "data": {
      "image/png": "[encoded data removed]",
      "text/plain": [
       "<Figure size 640x480 with 1 Axes>"
      ]
     },
     "metadata": {},
     "output_type": "display_data"
    },
    {
     "data": {
      "image/png": "[encoded data removed]",
      "text/plain": [
       "<Figure size 640x480 with 1 Axes>"
      ]
     },
     "metadata": {},
     "output_type": "display_data"
    }
   ],
   "source": [
    "def msds_scatter_plot(data1, data2, title1, title2, color=None, size=None):\n",
    "    plt.figure()\n",
    "    sb.scatterplot(x=data1, y=data2, hue=color, s=size).set(\n",
    "        ylabel=title2, xlabel=title1\n",
    "    )\n",
    "    plt.grid(zorder=0)\n",
    "\n",
    "\n",
    "def test_msds_scatter_plot():\n",
    "    salary_data = pd.read_csv(\"../Session_01/data/salary.csv\")\n",
    "    salary_data = salary_data.dropna()\n",
    "    msds_scatter_plot(salary_data.Age, salary_data.Salary / 1000, \"Age\", \"Salary (k)\")\n",
    "    msds_scatter_plot(\n",
    "        salary_data.Age,\n",
    "        salary_data.Salary / 100,\n",
    "        \"Age\",\n",
    "        \"Salary (k)\",\n",
    "        color=salary_data[\"Education Level\"],\n",
    "        size=salary_data[\"Years of Experience\"],\n",
    "    )\n",
    "\n",
    "\n",
    "test_msds_scatter_plot()"
   ]
  },
  {
   "cell_type": "markdown",
   "id": "66ffbf0e-64cd-4f83-9416-73b5f9f0bd23",
   "metadata": {},
   "source": [
    "### [easy] Covariance \n",
    "\n",
    "Write a function that computes the covariance of two quantitative data sets (of same size!).\n",
    "\n",
    "The formula is as follows:\n",
    "\n",
    "$\\Large \\text{cov}(X,Y) = \\frac{\\sum_{i=1}^{N}(X_i - \\bar{X})(Y_i - \\bar{Y})}{n-1}$\n",
    "\n",
    "with:\n",
    " - $\\bar{X}$ is the sample mean of X\n",
    " - $\\bar{Y}$ is the sample mean of Y\n",
    "\n",
    "Apply your function to the `salary.csv` dataset to see the correlation between age and experience.$\n",
    "Validate your implementation by comparing your results with results from `numpy` package."
   ]
  },
  {
   "cell_type": "code",
   "execution_count": 33,
   "id": "fea67b7c-b19d-48be-947a-d67f90303bb0",
   "metadata": {},
   "outputs": [],
   "source": [
    "def msds_covariance(data1, data2):\n",
    "    X = list(data1)\n",
    "    Y = list(data2)\n",
    "\n",
    "    X_bar = np.mean(X)\n",
    "    Y_bar = np.mean(Y)\n",
    "\n",
    "    P = []\n",
    "\n",
    "    # for i in range(len(X)):\n",
    "    #     P.append((X[i] - X_bar) * (Y[i] - Y_bar))\n",
    "\n",
    "    P = [(X[i] - X_bar) * (Y[i] - Y_bar) for i in range(len(X))]\n",
    "    S = sum(P)\n",
    "    return S / (len(X) - 1)\n",
    "\n",
    "\n",
    "def test_msds_covariance():\n",
    "    cov = msds_covariance([1, 2, 3, 4], [1, 2, 3, 4])\n",
    "    salary_data = pd.read_csv(\"../Session_01/data/salary.csv\")\n",
    "    salary_data = salary_data.dropna()\n",
    "    assert abs(np.cov([[1, 2, 3, 4], [1, 2, 3, 4]])[0][1] - cov) < 1e-5\n",
    "    cov = msds_covariance(salary_data.Age, salary_data.Salary)\n",
    "    assert abs(np.cov([salary_data.Age, salary_data.Salary])[0][1] - cov) < 1e-5\n",
    "\n",
    "\n",
    "test_msds_covariance()"
   ]
  },
  {
   "cell_type": "markdown",
   "id": "403a8669-30e8-453d-8ecf-d6404908049d",
   "metadata": {},
   "source": [
    "### [easy] Correlation coeficient \n",
    "\n",
    "Write a function that computes the correlation coeficient of two quantitative data sets (of same size!).\n",
    "\n",
    "The formula is \n",
    "\n",
    "$\\Large r = \\frac{\\text{cov}(X,Y)}{S_X S_Y}$\n",
    "\n",
    "with:\n",
    " - $S_{X}$ is the sample variance of X\n",
    " - $S_{Y}$ is the sample variance of Y\n",
    "\n",
    "Apply your function to the `salary.csv` dataset to see the correlation between age and experience.\n",
    "\n",
    "Validate your implementation by comparing your results with results from `statistics` or `statmodels` packages."
   ]
  },
  {
   "cell_type": "code",
   "execution_count": 35,
   "id": "247d8aa0-23de-4143-9f62-f145d11f9585",
   "metadata": {},
   "outputs": [],
   "source": [
    "def msds_corr(data1, data2):\n",
    "    X = data1\n",
    "    Y = data2\n",
    "    cov = msds_covariance(X, Y)\n",
    "    std_X = np.std(X, ddof=1)\n",
    "    std_Y = np.std(Y, ddof=1)\n",
    "    return cov / (std_X * std_Y)\n",
    "\n",
    "\n",
    "def test_msds_corr():\n",
    "    corr = msds_corr([1, 2, 3, 4], [1, 2, 3, 4])\n",
    "    salary_data = pd.read_csv(\"../Session_01/data/salary.csv\")\n",
    "    salary_data = salary_data.dropna()\n",
    "    assert abs(np.corrcoef([[1, 2, 3, 4], [1, 2, 3, 4]])[0][1] - corr) < 1e-5\n",
    "    corr = msds_corr(salary_data.Age, salary_data.Salary)\n",
    "    assert abs(np.corrcoef([salary_data.Age, salary_data.Salary])[0][1] - corr) < 1e-5\n",
    "\n",
    "\n",
    "test_msds_corr()"
   ]
  },
  {
   "cell_type": "code",
   "execution_count": null,
   "id": "e187643d",
   "metadata": {},
   "outputs": [],
   "source": []
  }
 ],
 "metadata": {
  "kernelspec": {
   "display_name": "Python 3 (ipykernel)",
   "language": "python",
   "name": "python3"
  },
  "language_info": {
   "codemirror_mode": {
    "name": "ipython",
    "version": 3
   },
   "file_extension": ".py",
   "mimetype": "text/x-python",
   "name": "python",
   "nbconvert_exporter": "python",
   "pygments_lexer": "ipython3",
   "version": "3.11.4"
  }
 },
 "nbformat": 4,
 "nbformat_minor": 5
}
