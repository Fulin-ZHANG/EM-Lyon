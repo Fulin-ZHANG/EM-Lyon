{
 "cells": [
  {
   "cell_type": "code",
   "execution_count": 11,
   "id": "0264db1c-f67f-4fd4-b799-156ba3dc44d1",
   "metadata": {},
   "outputs": [
    {
     "data": {
      "text/markdown": [
       "<div>\n",
       "    <img src=\"images/emlyon.png\" style=\"height:60px; float:left; padding-right:10px; margin-top:5px\" />\n",
       "    <span>\n",
       "        <h1 style=\"padding-bottom:5px;\"> AI Booster Week 02 - Python for Data Science </h1>\n",
       "        <a href=\"https://masters.em-lyon.com/fr/msc-in-data-science-artificial-intelligence-strategy\">[Emlyon]</a> MSc in Data Science & Artificial Intelligence Strategy (DSAIS) <br/>\n",
       "         Paris | © Antoine SCHERRER\n",
       "    </span>\n",
       "</div>\n",
       "\n",
       "Please make sure you have a working installation of Jupyter Notebook / Jupyter Lab, with Python 3.6+ up and running.\n",
       "\n",
       "## Naming conventions\n",
       "\n",
       "Since we will implement functions that are already available in python standard library or other libraries, you will have to *prefix* every function with `msds_` prefix.\n",
       "\n",
       "For instance, the function implementing the `mean` function should be named `msds_mean`.\n",
       "\n",
       "For every function you write, you will need to write a test function that should be names `test_msds_[function_name]`.\n",
       "\n",
       "For instance, the test function for the mean will be: `test_msds_mean`.\n",
       "\n",
       "All function should be in snake case (no Camel case!)\n",
       "\n",
       "When creating classes, then follow these rules:\n",
       " - class names should be in camel case\n",
       " - method names should be in snake case\n",
       " - attribute names should be in \n",
       "\n",
       "## Exercise's difficulty\n",
       "\n",
       "Every exercise will be prefixed with an indication of its difficulty:\n",
       " - [easy]: for very easy exercise\n",
       " - [moderate]: for intermediate level exercise\n",
       " - [advanced]: for advanced students\n",
       "\n",
       "Advanced exercises are not mandatory.\n"
      ],
      "text/plain": [
       "<IPython.core.display.Markdown object>"
      ]
     },
     "metadata": {},
     "output_type": "display_data"
    }
   ],
   "source": [
    "from IPython.display import Markdown, display\n",
    "\n",
    "display(Markdown(\"header.md\"))"
   ]
  },
  {
   "cell_type": "code",
   "execution_count": 7,
   "id": "89ee5421-a1de-4753-a1aa-38df6f1cf04a",
   "metadata": {},
   "outputs": [],
   "source": [
    "# Initial imports\n",
    "import unittest\n",
    "import math\n",
    "\n",
    "# This imports all functions defined in the Session_01 notebook!\n",
    "import import_ipynb\n",
    "from Session_01 import *"
   ]
  },
  {
   "cell_type": "markdown",
   "id": "2cc20bcb-e64c-466c-aa85-971e43c83607",
   "metadata": {},
   "source": [
    "# Session 01 - Introduction - Practice\n",
    "\n",
    "Solving **all** question from Session_01 is mandatory before solving these practice exercises."
   ]
  },
  {
   "cell_type": "markdown",
   "id": "3abb3dfe-ab48-4814-9357-af3cb16226c9",
   "metadata": {},
   "source": [
    "### [easy] write a function that computes the geometric mean of an iterable given as parameter.\n",
    "\n",
    "The geometric mean is defined as:\n",
    "\n",
    "$\\Large {\\displaystyle \\left(\\prod{X_i}\\right)^{1/n}}$\n",
    "\n",
    "$X_i$ is $i$-th data point\n"
   ]
  },
  {
   "cell_type": "code",
   "execution_count": 1,
   "id": "e3cea4bf-78e3-480c-a730-5821b61fcfb1",
   "metadata": {},
   "outputs": [],
   "source": [
    "## YOUR CODE HERE"
   ]
  },
  {
   "cell_type": "markdown",
   "id": "f4c6a128-af07-405b-9ffe-6bf5afdb13b6",
   "metadata": {},
   "source": [
    "### [easy] write a function that computes the harmonic mean of an iterable given as parameter.\n",
    "\n",
    "The harmonic mean is defined as:\n",
    "\n",
    "$\\Large {\\displaystyle \\frac{n}{\\sum_{i=1}^{n} \\frac{1}{X_i}}}$\n",
    "\n",
    "$X_i$ is $i$-th data point\n"
   ]
  },
  {
   "cell_type": "code",
   "execution_count": 10,
   "id": "8511d8ff-4029-4427-91c1-b8b2d2a9a820",
   "metadata": {},
   "outputs": [],
   "source": [
    "## YOUR CODE HERE"
   ]
  },
  {
   "cell_type": "markdown",
   "id": "faa1967c-029d-42bc-9745-28b10e712c51",
   "metadata": {},
   "source": [
    "### [moderate] write a function that computes all data needed for a box-plot\n",
    "\n",
    "Function should output two lists, the first list is the data needed to plot a box plot (in this order)\n",
    " - lower fence ($Q1 - 1.5\\times IQR$)\n",
    " - 1st quartile ($Q1$) \n",
    " - median ($Q2$)\n",
    " - 3rd quartile ($Q3$)\n",
    " - upper fence ($Q3 + 1.5\\times IQR$)\n",
    "\n",
    "The second list should contain all outliers ($v$ < lower fence or $v$ > upper fence)"
   ]
  },
  {
   "cell_type": "code",
   "execution_count": null,
   "id": "91bd05de-1fcb-470d-82b0-67fccf125644",
   "metadata": {},
   "outputs": [],
   "source": [
    "## YOUR CODE HERE"
   ]
  },
  {
   "cell_type": "markdown",
   "id": "0bb79a20-dc21-4f6d-bf1d-0f6285fba49e",
   "metadata": {},
   "source": [
    "### [moderate] write a function that computes all deciles\n",
    "\n",
    "Function should output the list of 9 deciles (D1 .. D9).\n",
    "\n",
    "You should write a test function and compare your results to the one from a statistics package.\n",
    "\n",
    "Use `salary.csv` and `heights_weights.csv` datasets to check your results."
   ]
  },
  {
   "cell_type": "code",
   "execution_count": null,
   "id": "9b67ef2f-3842-4ca4-ae14-cf8c1337d5c4",
   "metadata": {},
   "outputs": [],
   "source": [
    "## YOUR CODE HERE"
   ]
  },
  {
   "cell_type": "markdown",
   "id": "f3720b4b-af2c-44bb-9a94-dc30501fb4a4",
   "metadata": {},
   "source": [
    "### [moderate] Application to data\n",
    "\n",
    "Using the functions you implemented today, perform a basic statistical description of `highest_mountains.csv`, `salary.csv` and `heights_wweights.csv` datasets."
   ]
  },
  {
   "cell_type": "code",
   "execution_count": null,
   "id": "0d14fc9e-3890-4e1f-9dd6-7fb24f0921e9",
   "metadata": {},
   "outputs": [],
   "source": [
    "## YOUR CODE HERE"
   ]
  },
  {
   "cell_type": "markdown",
   "id": "a38622a9-76fe-4d3c-956d-934593ffe446",
   "metadata": {},
   "source": [
    "### [advanced] Deciles, percentiles, etc.\n",
    "\n",
    "Write a function that takes a data set and an integer `P` as parameter.\n",
    "`P` will be the number of segment in which we want to slice our data (4 means quartiles, 10 deciles, 100 percentiles).\n",
    "Function should output all values (N-1).\n",
    "Function should also print N messages like this, replacing `[...]` by the correct value:\n",
    "```\n",
    "[...]% of data values are below [...]\n",
    "[...]% of data values are between [...] and [...]\n",
    "...\n",
    "[...]% percent of data values are above [...]\n",
    "```\n",
    "For instance, if `P=4`, the message should look like this (replacing `[Q1]` by actual values):\n",
    "```\n",
    "25% of data values are below [Q1]\n",
    "50% of data values are below [Q2]\n",
    "75% of data values are below [Q3]\n",
    "```\n",
    "\n",
    "Validate on weights dataset."
   ]
  },
  {
   "cell_type": "code",
   "execution_count": null,
   "id": "b69b56f1-8927-43a3-9825-07cdcb341bf6",
   "metadata": {},
   "outputs": [],
   "source": [
    "## YOUR CODE HERE"
   ]
  },
  {
   "cell_type": "markdown",
   "id": "b96a6459-e329-40cc-96dc-c6e0112008fe",
   "metadata": {},
   "source": [
    "### [advanced] Compute empirical critical values\n",
    "\n",
    "When performing statistical tests or building confidence intervals, \n",
    "you will sometimes need to compute the critical values for a given significance level $\\alpha$  (typically $\\alpha=0.05$).\n",
    "\n",
    "Using function from previous question, write a function that will compute this critical values (lower and upper), for two-tailed tests (lower critical value $c_l$, such that $P(X < c_l) = \\alpha / 2$, upper critical value is $c_h$, such that $P(X < c_h) = 1-\\alpha / 2$\n"
   ]
  },
  {
   "cell_type": "code",
   "execution_count": null,
   "id": "320ce807-f386-496d-89f7-c48fb22665d7",
   "metadata": {},
   "outputs": [],
   "source": [
    "## YOUR CODE HERE"
   ]
  },
  {
   "cell_type": "markdown",
   "id": "a1952427-d3c5-4a30-a0b5-9097b287df39",
   "metadata": {},
   "source": [
    "## Object-oriented programming"
   ]
  },
  {
   "cell_type": "markdown",
   "id": "2e825cfa-f772-44b1-b216-414be6fc54ee",
   "metadata": {},
   "source": [
    "### Q6 [advanced] Convert all your functions and organize them in classes using OOP\n",
    "\n",
    "The idea is that using OOP you can build your own statistics package, tailored to your needs.\n",
    "Think carefully how you will organize your package, how you want to use it, etc.\n"
   ]
  },
  {
   "cell_type": "code",
   "execution_count": 2,
   "id": "ea87faea-5ff7-46b5-ace2-02f05e487f56",
   "metadata": {},
   "outputs": [],
   "source": [
    "## YOUR CODE HERE"
   ]
  }
 ],
 "metadata": {
  "kernelspec": {
   "display_name": "Python 3 (ipykernel)",
   "language": "python",
   "name": "python3"
  },
  "language_info": {
   "codemirror_mode": {
    "name": "ipython",
    "version": 3
   },
   "file_extension": ".py",
   "mimetype": "text/x-python",
   "name": "python",
   "nbconvert_exporter": "python",
   "pygments_lexer": "ipython3",
   "version": "3.10.13"
  }
 },
 "nbformat": 4,
 "nbformat_minor": 5
}
