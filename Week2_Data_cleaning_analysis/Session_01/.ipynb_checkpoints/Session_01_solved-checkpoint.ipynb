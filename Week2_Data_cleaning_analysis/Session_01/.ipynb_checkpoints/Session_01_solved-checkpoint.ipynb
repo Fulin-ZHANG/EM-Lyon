{
 "cells": [
  {
   "cell_type": "code",
   "execution_count": 1,
   "id": "aacc086d-07b5-412e-9668-252bd36d3244",
   "metadata": {},
   "outputs": [
    {
     "data": {
      "text/markdown": [
       "<div>\n",
       "    <img src=\"images/emlyon.png\" style=\"height:60px; float:left; padding-right:10px; margin-top:5px\" />\n",
       "    <span>\n",
       "        <h1 style=\"padding-bottom:5px;\"> AI Booster Week 02 - Python for Data Science </h1>\n",
       "        <a href=\"https://masters.em-lyon.com/fr/msc-in-data-science-artificial-intelligence-strategy\">[Emlyon]</a> MSc in Data Science & Artificial Intelligence Strategy (DSAIS) <br/>\n",
       "         Paris | © Antoine SCHERRER\n",
       "    </span>\n",
       "</div>\n",
       "\n",
       "Please make sure you have a working installation of Jupyter Notebook / Jupyter Lab, with Python 3.6+ up and running.\n",
       "\n",
       "## Naming conventions\n",
       "\n",
       "Since we will implement functions that are already available in python standard library or other libraries, you will have to *prefix* every function with `msds_` prefix.\n",
       "\n",
       "For instance, the function implementing the `mean` function should be named `msds_mean`.\n",
       "\n",
       "For every function you write, **you will need to write a test function** that should be named `test_[function_name]`.\n",
       "\n",
       "For instance, the test function for `msds_mean` will be: `test_msds_mean`.\n",
       "\n",
       "**don't forget to document all you function with Python docstring**\n",
       "\n",
       "For instance:\n",
       "```\n",
       "def msds_my_awesome_function():\n",
       "    \"\"\"\n",
       "    This function computes an awesome function\n",
       "    \"\"\"\n",
       "    # Awesome code\n",
       "    ...\n",
       "```\n",
       "\n",
       "All function should be in snake case (no Camel case!)\n",
       "\n",
       "When creating classes, then follow these rules:\n",
       " - class names should be in camel case\n",
       " - method names should be in snake case\n",
       " - attribute names should be in snake case\n",
       "\n",
       "## Exercise's difficulty\n",
       "\n",
       "Every exercise will be prefixed with an indication of its difficulty:\n",
       " - [easy]: easy exercise, should be pretty straightforward for you\n",
       " - [moderate]: intermediate level exercise, you all should manage to solve them\n",
       " - [advanced]: for advanced students who want to go deeper/further\n",
       "\n",
       "**Advanced exercises are not mandatory.**\n",
       "\n",
       "## Required libraries\n",
       "\n",
       "These are the libraries we will use (to check our computations for instance), you need to install them in your virtual environment:\n",
       "\n",
       " - `pandas`: data manipulation library\n",
       " - `scipy`: scientific library in Python\n",
       " - `numpy`: vector/matrix computations\n",
       " - `statistics`: statistics library\n",
       " - `matplotlib`: plotting lib\n",
       " - `seaborn`: alternative plotting lib (based on matplotlib)\n",
       " - `jupyter_black`: plugin for jupyter to allow `black` (code formatter) to run\n",
       " - `unittest`: testing library \n",
       "\n",
       "\n"
      ],
      "text/plain": [
       "<IPython.core.display.Markdown object>"
      ]
     },
     "metadata": {},
     "output_type": "display_data"
    }
   ],
   "source": [
    "from IPython.display import Markdown, display\n",
    "\n",
    "display(Markdown(\"header.md\"))"
   ]
  },
  {
   "cell_type": "markdown",
   "id": "221cf11f-45a3-43fb-8fa3-da591762a3d8",
   "metadata": {},
   "source": [
    "## Session 01 - Introduction, central tendencies and variations"
   ]
  },
  {
   "cell_type": "code",
   "execution_count": 2,
   "id": "b39d1955-f59f-47ef-89f3-d1d617e02863",
   "metadata": {},
   "outputs": [
    {
     "data": {
      "text/html": [
       "\n",
       "                <script type=\"application/javascript\" id=\"jupyter_black\">\n",
       "                (function() {\n",
       "                    if (window.IPython === undefined) {\n",
       "                        return\n",
       "                    }\n",
       "                    var msg = \"WARNING: it looks like you might have loaded \" +\n",
       "                        \"jupyter_black in a non-lab notebook with \" +\n",
       "                        \"`is_lab=True`. Please double check, and if \" +\n",
       "                        \"loading with `%load_ext` please review the README!\"\n",
       "                    console.log(msg)\n",
       "                    alert(msg)\n",
       "                })()\n",
       "                </script>\n",
       "                "
      ],
      "text/plain": [
       "<IPython.core.display.HTML object>"
      ]
     },
     "metadata": {},
     "output_type": "display_data"
    }
   ],
   "source": [
    "# Initial imports\n",
    "import unittest\n",
    "import pandas as pd\n",
    "import numpy as np\n",
    "import math\n",
    "import matplotlib.pyplot as plt\n",
    "import seaborn as sb\n",
    "\n",
    "# Ignore warnings from seaborn\n",
    "import warnings\n",
    "\n",
    "warnings.filterwarnings(\"ignore\")\n",
    "\n",
    "import jupyter_black\n",
    "\n",
    "jupyter_black.load()"
   ]
  },
  {
   "cell_type": "markdown",
   "id": "f5c04e2c-1b22-4244-a25d-1ff58f54c431",
   "metadata": {},
   "source": [
    "### Central tendancy"
   ]
  },
  {
   "cell_type": "markdown",
   "id": "65aa7af9-14fd-4b71-8327-c34257d386bb",
   "metadata": {},
   "source": [
    "#### [easy] write a function that computes the mean of an iterable given as parameter\n",
    "This should be pretty straightforward, since the formula for the population mean and the sample mean are the same you will only define one function."
   ]
  },
  {
   "cell_type": "code",
   "execution_count": 3,
   "id": "158a41ab-a45c-4479-92de-17420301e62a",
   "metadata": {},
   "outputs": [],
   "source": [
    "def msds_sum(data):\n",
    "    \"\"\"\n",
    "    Computes the sum of every element of the iterable\n",
    "    \"\"\"\n",
    "    result = 0\n",
    "    for value in data:\n",
    "        result += value\n",
    "    return result\n",
    "\n",
    "\n",
    "def msds_mean(data):\n",
    "    \"\"\"\n",
    "    Computes the average of every element of the iterable\n",
    "    \"\"\"\n",
    "    if len(data) > 0:\n",
    "        return msds_sum(data) / len(data)\n",
    "\n",
    "\n",
    "def test_msds_mean():\n",
    "    assert msds_mean([]) is None\n",
    "    assert msds_mean([1]) == 1\n",
    "    assert msds_mean([1, 2, 3]) == 2\n",
    "    assert msds_mean([1, 2, 2, 3, 4]) == 2.4\n",
    "    tc = unittest.TestCase()\n",
    "    with tc.assertRaises(Exception):\n",
    "        msds_mean(\"sdfds\")\n",
    "\n",
    "\n",
    "test_msds_mean()"
   ]
  },
  {
   "cell_type": "markdown",
   "id": "b8d0d9a8-0a8b-44a5-af0e-d6709d66a3b4",
   "metadata": {},
   "source": [
    "#### [moderate] write a function that computes the median of an iterable given as parameter.\n",
    "Be careful to refer to the definition of the median!"
   ]
  },
  {
   "cell_type": "code",
   "execution_count": 4,
   "id": "c732d305-04eb-4a09-b36d-102e2a8c6d41",
   "metadata": {},
   "outputs": [],
   "source": [
    "def msds_median(data):\n",
    "    \"\"\"\n",
    "    Computes the median value of an iterable\n",
    "    \"\"\"\n",
    "    data = sorted(data)\n",
    "    n = len(data)\n",
    "    if n > 0:\n",
    "        if n % 2 == 0:\n",
    "            # n is odd\n",
    "            return (data[(n - 1) // 2] + data[(n) // 2]) / 2.0\n",
    "        else:\n",
    "            # n is even\n",
    "            return data[(n - 1) // 2]\n",
    "\n",
    "\n",
    "def test_msds_median():\n",
    "    assert msds_median([]) is None\n",
    "    assert msds_median([1]) == 1\n",
    "    assert msds_median([1, 2, 2, 3, 4]) == 2\n",
    "    assert msds_median([1, 2, 2, 3, 3, 4]) == 2.5\n",
    "    assert msds_median(\"sdfds\") == \"f\"\n",
    "\n",
    "\n",
    "test_msds_median()"
   ]
  },
  {
   "cell_type": "markdown",
   "id": "e5433276-0081-43ab-96f0-2228547c5d04",
   "metadata": {},
   "source": [
    "#### [moderate] write a function that computes the mode of an iterable given as parameter.\n",
    "Be careful to refer to the definition of the mode!"
   ]
  },
  {
   "cell_type": "code",
   "execution_count": 5,
   "id": "8198ebed-3adc-402d-8b1b-e24a537304df",
   "metadata": {},
   "outputs": [],
   "source": [
    "def msds_mode(data):\n",
    "    \"\"\"\n",
    "    Computes the mode value of an iterable (most frequent value)\n",
    "    \"\"\"\n",
    "    freq = {}\n",
    "    for value in data:\n",
    "        freq[value] = freq.get(value, 0) + 1\n",
    "    if len(freq) > 0:\n",
    "        return max(freq, key=freq.get)\n",
    "\n",
    "\n",
    "def test_msds_mode():\n",
    "    assert msds_mode([]) is None\n",
    "    assert msds_mode([1]) == 1\n",
    "    assert msds_mode([1, 2, 2, 3, 4]) == 2\n",
    "    assert msds_mode([1, 2, 2, 3, 3, 4]) == 2\n",
    "    assert msds_mode(\"sdfdss\") == \"s\"\n",
    "\n",
    "\n",
    "test_msds_mode()"
   ]
  },
  {
   "cell_type": "markdown",
   "id": "b33118e2-c101-48b0-ad2b-9e380a0768ce",
   "metadata": {},
   "source": [
    "### Dispersion and variation"
   ]
  },
  {
   "cell_type": "markdown",
   "id": "03263fcf-1cbf-48fd-83c9-38fd874a4ab2",
   "metadata": {},
   "source": [
    "#### [easy] write a function that computes the range of an iterable given as parameter.\n",
    "\n",
    "You can use standard python `max` and `min` functions!<br>\n",
    "Don't hesitate to write you own min/max functions is you like!"
   ]
  },
  {
   "cell_type": "code",
   "execution_count": 6,
   "id": "cae0922e-84a3-4b46-a5e6-2f985ec347e2",
   "metadata": {},
   "outputs": [],
   "source": [
    "def msds_range(data):\n",
    "    \"\"\"\n",
    "    Computes the range value of an iterable\n",
    "    \"\"\"\n",
    "    if len(data) > 0:\n",
    "        return max(data) - min(data)\n",
    "\n",
    "\n",
    "def test_msds_range():\n",
    "    assert msds_range([]) is None\n",
    "    assert msds_range([1]) == 0\n",
    "    assert msds_range([1, 2, -10, 10, 3]) == 20\n",
    "    tc = unittest.TestCase()\n",
    "    with tc.assertRaises(Exception):\n",
    "        msds_harmonic_mean(\"sdfds\")\n",
    "\n",
    "\n",
    "test_msds_range()"
   ]
  },
  {
   "cell_type": "markdown",
   "id": "51ae3a2c-fc51-421a-99c8-51bdb079d58c",
   "metadata": {},
   "source": [
    "#### [easy] write a function that computes the sample variance of an iterable\n",
    "\n",
    "Remember, the sample variance is defined as:\n",
    "$\\Large \\sum_{i=1}^{n}\\frac{(X_i-\\bar{X})^2}{n-1}$"
   ]
  },
  {
   "cell_type": "code",
   "execution_count": 7,
   "id": "b3df33d5-d06a-4460-b919-45e19887a1d5",
   "metadata": {},
   "outputs": [],
   "source": [
    "def msds_sample_variance(data):\n",
    "    \"\"\"\n",
    "    Computes sample variance of an iterable\n",
    "    \"\"\"\n",
    "    n = len(data)\n",
    "    if n > 1:\n",
    "        m = msds_mean(data)\n",
    "        return msds_sum([(d - m) ** 2 for d in data]) / (n - 1)\n",
    "\n",
    "\n",
    "def test_msds_sample_variance():\n",
    "    test_data1 = [6, 7, 15, 36, 39, 40, 41, 42, 43, 47, 49]\n",
    "    test_data2 = [7, 15, 36, 39, 40, 41]\n",
    "    import statistics\n",
    "\n",
    "    assert msds_sample_variance([]) is None\n",
    "    assert msds_sample_variance([1]) is None\n",
    "    assert msds_sample_variance([1, 2, 3]) == 1\n",
    "    assert (\n",
    "        abs(msds_sample_variance(test_data1) - statistics.variance(test_data1)) < 1e-10\n",
    "    )\n",
    "    assert (\n",
    "        abs(msds_sample_variance(test_data2) - statistics.variance(test_data2)) < 1e-10\n",
    "    )\n",
    "\n",
    "\n",
    "test_msds_sample_variance()"
   ]
  },
  {
   "cell_type": "markdown",
   "id": "15a04d9b-6248-446c-be6b-abbccd16ee20",
   "metadata": {},
   "source": [
    "#### [easy] write a function that computes the population variance of an iterable\n",
    "\n",
    "The formula is very close to the sample variance, but the denominator is slightly different:\n",
    "\n",
    "$\\Large \\sum_{i=1}^{n}\\frac{(X_i-\\bar{X})^2}{n}$"
   ]
  },
  {
   "cell_type": "code",
   "execution_count": 8,
   "id": "701b8345-d60f-40d8-8935-426a47090bf6",
   "metadata": {},
   "outputs": [],
   "source": [
    "def msds_variance(data):\n",
    "    \"\"\"\n",
    "    Computes sample variance of an iterable\n",
    "    \"\"\"\n",
    "    if len(data) > 0:\n",
    "        m = msds_mean(data)\n",
    "        return msds_sum([(d - m) ** 2 for d in data]) / len(data)\n",
    "\n",
    "\n",
    "def test_msds_variance():\n",
    "    test_data1 = [6, 7, 15, 36, 39, 40, 41, 42, 43, 47, 49]\n",
    "    test_data2 = [7, 15, 36, 39, 40, 41]\n",
    "    import statistics\n",
    "\n",
    "    assert msds_variance([]) is None\n",
    "    assert (msds_variance([1, 2, 3]) - 0.666666666) < 1e-5\n",
    "    assert abs(msds_variance(test_data1) - statistics.pvariance(test_data1)) < 1e-10\n",
    "    assert abs(msds_variance(test_data2) - statistics.pvariance(test_data2)) < 1e-10\n",
    "\n",
    "\n",
    "test_msds_variance()"
   ]
  },
  {
   "cell_type": "markdown",
   "id": "181779e7-2c79-4453-87e8-5ffd87b6644c",
   "metadata": {},
   "source": [
    "#### [easy] write a function that computes the sample standard deviation of an iterable\n",
    "\n",
    "Standard deviation is the square root of the variance."
   ]
  },
  {
   "cell_type": "code",
   "execution_count": 9,
   "id": "dd894577-4248-4c10-827d-68bd68af5864",
   "metadata": {},
   "outputs": [],
   "source": [
    "def msds_sample_std(data):\n",
    "    \"\"\"\n",
    "    Computes sample variance of an iterable\n",
    "    \"\"\"\n",
    "    variance = msds_sample_variance(data)\n",
    "    if variance is not None:\n",
    "        return math.sqrt(variance)\n",
    "\n",
    "\n",
    "def test_msds_sample_std():\n",
    "    test_data1 = [6, 7, 15, 36, 39, 40, 41, 42, 43, 47, 49]\n",
    "    test_data2 = [7, 15, 36, 39, 40, 41]\n",
    "    import statistics\n",
    "\n",
    "    assert msds_sample_std([]) is None\n",
    "    assert msds_sample_std([1]) is None\n",
    "    assert msds_sample_std([1, 2, 3]) == 1\n",
    "    assert abs(msds_sample_std(test_data1) - statistics.stdev(test_data1)) < 1e-5\n",
    "    assert abs(msds_sample_std(test_data2) - statistics.stdev(test_data2)) < 1e-5\n",
    "\n",
    "\n",
    "test_msds_sample_std()"
   ]
  },
  {
   "cell_type": "markdown",
   "id": "b8fddddc-bb85-4d30-97ab-f5e1a1bb393b",
   "metadata": {},
   "source": [
    "#### [easy] write a function that computes the population standard deviation of an iterable\n",
    "\n",
    "Same as the previous one, but on the population variance!"
   ]
  },
  {
   "cell_type": "code",
   "execution_count": 10,
   "id": "e08e1243-05c0-4505-998e-77530df360da",
   "metadata": {},
   "outputs": [],
   "source": [
    "def msds_std(data):\n",
    "    \"\"\"\n",
    "    Computes sample variance of an iterable\n",
    "    \"\"\"\n",
    "    variance = msds_variance(data)\n",
    "    if variance is not None:\n",
    "        return math.sqrt(variance)\n",
    "\n",
    "\n",
    "def test_msds_std():\n",
    "    test_data1 = [6, 7, 15, 36, 39, 40, 41, 42, 43, 47, 49]\n",
    "    test_data2 = [7, 15, 36, 39, 40, 41]\n",
    "    import statistics\n",
    "\n",
    "    assert msds_std([]) is None\n",
    "    assert abs(msds_std([1, 2, 3]) - 0.816496580927726) < 1e-5\n",
    "    assert abs(msds_std(test_data1) - statistics.pstdev(test_data1)) < 1e-5\n",
    "    assert abs(msds_std(test_data2) - statistics.pstdev(test_data2)) < 1e-5\n",
    "\n",
    "\n",
    "test_msds_std()"
   ]
  },
  {
   "cell_type": "markdown",
   "id": "1e781afc-9ef6-4a72-9590-f1cca270d316",
   "metadata": {},
   "source": [
    "#### [easy] write a function that computes the coefficient of variation of an iterable\n",
    "\n",
    "The coefficient of variation is the ratio of the sample standard deviation and the sample mean:\n",
    "\n",
    "$\\Large \\frac{s}{\\bar{X}}$"
   ]
  },
  {
   "cell_type": "code",
   "execution_count": 11,
   "id": "9a79efad-4f07-4c98-8b53-838aeb7d7e3b",
   "metadata": {},
   "outputs": [],
   "source": [
    "def msds_coef_var(data):\n",
    "    \"\"\"\n",
    "    Compute coefficient of variation of an iterable\n",
    "    \"\"\"\n",
    "    if len(data) > 1:\n",
    "        return msds_sample_std(data) / msds_mean(data)\n",
    "\n",
    "\n",
    "def test_msds_coef_var():\n",
    "    test_data1 = [6, 7, 15, 36, 39, 40, 41, 42, 43, 47, 49]\n",
    "    test_data2 = [7, 15, 36, 39, 40, 41]\n",
    "    import statistics\n",
    "\n",
    "    assert msds_coef_var([]) is None\n",
    "    assert msds_coef_var([1]) is None\n",
    "    assert msds_coef_var([1, 2, 3]) == 0.5\n",
    "\n",
    "\n",
    "test_msds_coef_var()"
   ]
  },
  {
   "cell_type": "markdown",
   "id": "ec56a52c-e0a7-4650-9a31-9ffe54b0ec04",
   "metadata": {},
   "source": [
    "#### [moderate] write a function that computes a quartile\n",
    "\n",
    "The function should take two parameters: an iterable with the data, and a number indicating which quartile to compute (1,2,3).\n",
    "\n",
    "There are multiple ways to deal with the fact that most of the time $kn/4, k \\in [1,2,3]$ is not an integer. We will use the same as numpy's default implementation (linear approximation).\n",
    "\n",
    "To do so, we will compute the integer part ($i$) and fractional part ($f$) of $k(n-1)/4$.\n",
    "\n",
    "The result will be computed as:\n",
    "\n",
    "$\\Large Q_k = X_i + f (X_{i+1} - X_{i})$\n",
    "\n",
    "$X_i$ is $i$-th data point in the sorted dataset, starting at 0.\n",
    "\n"
   ]
  },
  {
   "cell_type": "code",
   "execution_count": 12,
   "id": "c05fca03-f20f-4f54-9a83-deade143a25a",
   "metadata": {},
   "outputs": [],
   "source": [
    "def msds_quartile(data, p):\n",
    "    \"\"\"\n",
    "    Computes p-th quartile (p=1,2,3) of given data\n",
    "    Alternative implementation\n",
    "    \"\"\"\n",
    "    sorted_data = sorted(data)\n",
    "    n = len(data)\n",
    "    if n == 0:\n",
    "        return None\n",
    "    k = p * (n - 1) // 4\n",
    "    alpha = p * (n - 1) / 4 - k\n",
    "    return sorted_data[k] + alpha * (sorted_data[k + 1] - sorted_data[k])\n",
    "\n",
    "\n",
    "def test_msds_quartile():\n",
    "    test_data1 = [6, 7, 15, 36, 39, 40, 41, 42, 43, 47, 49]\n",
    "    test_data2 = [7, 15, 36, 39, 40, 41]\n",
    "    assert msds_quartile(test_data1, 1) == np.quantile(test_data1, 0.25)\n",
    "    assert msds_quartile(test_data1, 2) == np.quantile(test_data1, 0.5)\n",
    "    assert msds_quartile(test_data1, 3) == np.quantile(test_data1, 0.75)\n",
    "\n",
    "    assert msds_quartile(test_data2, 1) == np.quantile(test_data2, 0.25)\n",
    "    assert msds_quartile(test_data2, 2) == np.quantile(test_data2, 0.5)\n",
    "    assert msds_quartile(test_data2, 3) == np.quantile(test_data2, 0.75)\n",
    "\n",
    "\n",
    "test_msds_quartile()"
   ]
  },
  {
   "cell_type": "markdown",
   "id": "430d1781-4b05-420e-a4ed-e77e1626b8a5",
   "metadata": {},
   "source": [
    "#### [easy] write a function that computes the inter-quartile range (IQR)\n",
    "\n",
    "IQR is simply the difference between $Q_3$ and $Q_1$!"
   ]
  },
  {
   "cell_type": "code",
   "execution_count": 13,
   "id": "6543a610-88d2-4198-94da-884031b5306f",
   "metadata": {},
   "outputs": [],
   "source": [
    "def msds_iqr(data):\n",
    "    \"\"\"\n",
    "    Computes the inter-quartile range (IQR)\n",
    "    \"\"\"\n",
    "    return msds_quartile(data, 3) - msds_quartile(data, 1)\n",
    "\n",
    "\n",
    "def test_msds_iqr():\n",
    "    test_data1 = [6, 7, 15, 36, 39, 40, 41, 42, 43, 47, 49]\n",
    "    test_data2 = [7, 15, 36, 39, 40, 41]\n",
    "    assert msds_iqr(test_data1) == 17, f\"{msds_iqr(test_data1)}\"\n",
    "    assert msds_iqr(test_data2) == 19.5, f\"{msds_iqr(test_data2)}\"\n",
    "\n",
    "\n",
    "test_msds_iqr()"
   ]
  },
  {
   "cell_type": "markdown",
   "id": "c6fff298-04ae-49ad-aa9a-c9fdc5e2b8c5",
   "metadata": {},
   "source": [
    "#### [moderate] write a function that Nth-order moment \n",
    "\n",
    "Function should have data and $N$ parameters.\n",
    "The Nth-order moment is defined as:\n",
    "\n",
    "$\\Large m_N = \\frac{1}{N}\\sum_i(X_i - \\bar{X})^N$\n",
    "\n",
    "with:\n",
    " - $\\mu$ is the mean\n",
    " - $x_i$ is $i$-th data point\n",
    "\n"
   ]
  },
  {
   "cell_type": "code",
   "execution_count": 14,
   "id": "b2a26589-f8c5-4be8-9ce7-2574b9a2e01d",
   "metadata": {},
   "outputs": [],
   "source": [
    "def msds_moment(data, N):\n",
    "    \"\"\"\n",
    "    Computes the N-th order moment\n",
    "    \"\"\"\n",
    "    mu = msds_mean(data)\n",
    "    moment_data = [((x - mu)) ** N for x in data]\n",
    "    return msds_sum(moment_data) / len(data)\n",
    "\n",
    "\n",
    "def test_msds_moment():\n",
    "    test_data1 = [6, 7, 15, 36, 39, 40, 41, 42, 43, 47, 49]\n",
    "    test_data2 = [7, 15, 36, 39, 40, 41]\n",
    "    assert (msds_moment(test_data1, 2) - msds_variance(test_data1)) < 1e-5\n",
    "    assert (msds_moment(test_data2, 2) - msds_variance(test_data2)) < 1e-5\n",
    "    assert (msds_moment(test_data1, 3) - -3163.492111194589) < 1e-5\n",
    "    assert (msds_moment(test_data1, 4) - 113326.19657127243) < 1e-5\n",
    "\n",
    "\n",
    "test_msds_moment()"
   ]
  },
  {
   "cell_type": "markdown",
   "id": "ac6644e6-f0d8-4961-b592-5deb6beccee3",
   "metadata": {},
   "source": [
    "#### [moderate] write a function that computes N-order standard moment \n",
    "\n",
    "Function should have data and $N$ parameters, data should be standardized before computing the moment.\n",
    "\n",
    "3rd standard moment is the **skewness**, an indicator of the **symetry** of the underlying distribution<br>\n",
    "4th standard moment is **kurtosis**, an indicator of the **tailedness** of the underlying distrution\n",
    "\n",
    "write helper functions to compute skewness and kurtosis"
   ]
  },
  {
   "cell_type": "code",
   "execution_count": 15,
   "id": "f850adc4-c1c8-4a61-91bb-4f90e9a9315e",
   "metadata": {},
   "outputs": [],
   "source": [
    "from scipy.stats import skew, kurtosis\n",
    "\n",
    "\n",
    "def msds_standard_moment(data, N):\n",
    "    \"\"\"\n",
    "    Computes the N-th standard moment\n",
    "    \"\"\"\n",
    "    mu = msds_mean(data)\n",
    "    sigma = msds_std(data)\n",
    "    moment_data = [((x - mu) / sigma) ** N for x in data]\n",
    "    return msds_sum(moment_data) / len(data)\n",
    "\n",
    "\n",
    "def msds_skewness(data):\n",
    "    \"\"\"\n",
    "    Helper function for skewness\n",
    "    \"\"\"\n",
    "    return msds_standard_moment(data, 3)\n",
    "\n",
    "\n",
    "def msds_kurtosis(data):\n",
    "    \"\"\"\n",
    "    Helper function for kurtosis\n",
    "    \"\"\"\n",
    "    return msds_standard_moment(data, 4)\n",
    "\n",
    "\n",
    "def test_msds_standard_moment():\n",
    "    test_data1 = [6, 7, 15, 36, 39, 40, 41, 42, 43, 47, 49]\n",
    "    test_data2 = [7, 15, 36, 39, 40, 41]\n",
    "\n",
    "    assert (msds_standard_moment(test_data1, 3) - skew(test_data1)) < 1e-5\n",
    "    assert (\n",
    "        msds_standard_moment(test_data1, 4) - kurtosis(test_data1, fisher=False)\n",
    "    ) < 1e-5\n",
    "    assert (msds_standard_moment(test_data2, 3) - skew(test_data2)) < 1e-5\n",
    "    assert (\n",
    "        msds_standard_moment(test_data2, 4) - kurtosis(test_data2, fisher=False)\n",
    "    ) < 1e-5\n",
    "    assert msds_iqr(test_data2) == 19.5, f\"{msds_iqr(test_data2)}\"\n",
    "\n",
    "\n",
    "test_msds_standard_moment()"
   ]
  },
  {
   "cell_type": "markdown",
   "id": "3c93383c-cd8a-4b95-becc-4798599771ce",
   "metadata": {},
   "source": [
    "# Data cleaning"
   ]
  },
  {
   "cell_type": "markdown",
   "id": "cc61c73c-ce1a-4794-a529-de3618cf8343",
   "metadata": {},
   "source": [
    "#### [moderate] identify and fix issues in a dataset \n",
    "\n",
    "Load the `err_salary.csv` dataset.\n",
    "It contains several mistakes, identify and fix them!\n",
    "\n",
    "To keep it simple, remove all rows that contain erroneous values!"
   ]
  },
  {
   "cell_type": "code",
   "execution_count": 35,
   "id": "1bbef4e6-11c3-4930-b7dd-5a925b75cc4b",
   "metadata": {},
   "outputs": [
    {
     "data": {
      "text/html": [
       "<div>\n",
       "<style scoped>\n",
       "    .dataframe tbody tr th:only-of-type {\n",
       "        vertical-align: middle;\n",
       "    }\n",
       "\n",
       "    .dataframe tbody tr th {\n",
       "        vertical-align: top;\n",
       "    }\n",
       "\n",
       "    .dataframe thead th {\n",
       "        text-align: right;\n",
       "    }\n",
       "</style>\n",
       "<table border=\"1\" class=\"dataframe\">\n",
       "  <thead>\n",
       "    <tr style=\"text-align: right;\">\n",
       "      <th></th>\n",
       "      <th>Age</th>\n",
       "      <th>Years of Experience</th>\n",
       "      <th>Salary</th>\n",
       "    </tr>\n",
       "  </thead>\n",
       "  <tbody>\n",
       "    <tr>\n",
       "      <th>count</th>\n",
       "      <td>376.000000</td>\n",
       "      <td>376.000000</td>\n",
       "      <td>376.000000</td>\n",
       "    </tr>\n",
       "    <tr>\n",
       "      <th>mean</th>\n",
       "      <td>37.425532</td>\n",
       "      <td>10.896277</td>\n",
       "      <td>100426.462766</td>\n",
       "    </tr>\n",
       "    <tr>\n",
       "      <th>std</th>\n",
       "      <td>7.139358</td>\n",
       "      <td>11.464665</td>\n",
       "      <td>48293.870948</td>\n",
       "    </tr>\n",
       "    <tr>\n",
       "      <th>min</th>\n",
       "      <td>23.000000</td>\n",
       "      <td>0.000000</td>\n",
       "      <td>350.000000</td>\n",
       "    </tr>\n",
       "    <tr>\n",
       "      <th>25%</th>\n",
       "      <td>31.000000</td>\n",
       "      <td>4.000000</td>\n",
       "      <td>55000.000000</td>\n",
       "    </tr>\n",
       "    <tr>\n",
       "      <th>50%</th>\n",
       "      <td>36.000000</td>\n",
       "      <td>9.000000</td>\n",
       "      <td>95000.000000</td>\n",
       "    </tr>\n",
       "    <tr>\n",
       "      <th>75%</th>\n",
       "      <td>44.000000</td>\n",
       "      <td>16.000000</td>\n",
       "      <td>140000.000000</td>\n",
       "    </tr>\n",
       "    <tr>\n",
       "      <th>max</th>\n",
       "      <td>53.000000</td>\n",
       "      <td>126.000000</td>\n",
       "      <td>250000.000000</td>\n",
       "    </tr>\n",
       "  </tbody>\n",
       "</table>\n",
       "</div>"
      ],
      "text/plain": [
       "              Age  Years of Experience         Salary\n",
       "count  376.000000           376.000000     376.000000\n",
       "mean    37.425532            10.896277  100426.462766\n",
       "std      7.139358            11.464665   48293.870948\n",
       "min     23.000000             0.000000     350.000000\n",
       "25%     31.000000             4.000000   55000.000000\n",
       "50%     36.000000             9.000000   95000.000000\n",
       "75%     44.000000            16.000000  140000.000000\n",
       "max     53.000000           126.000000  250000.000000"
      ]
     },
     "execution_count": 35,
     "metadata": {},
     "output_type": "execute_result"
    }
   ],
   "source": [
    "df = pd.read_csv(\"data/err_salary.csv\")\n",
    "df.dropna()\n",
    "\n",
    "df = df.loc[(df.Age > 0) & (df.Salary < 1e6)]\n",
    "df = df.drop(\"Age_Months\", axis=1)\n",
    "df.describe()"
   ]
  }
 ],
 "metadata": {
  "kernelspec": {
   "display_name": "Python 3 (ipykernel)",
   "language": "python",
   "name": "python3"
  },
  "language_info": {
   "codemirror_mode": {
    "name": "ipython",
    "version": 3
   },
   "file_extension": ".py",
   "mimetype": "text/x-python",
   "name": "python",
   "nbconvert_exporter": "python",
   "pygments_lexer": "ipython3",
   "version": "3.11.4"
  }
 },
 "nbformat": 4,
 "nbformat_minor": 5
}
