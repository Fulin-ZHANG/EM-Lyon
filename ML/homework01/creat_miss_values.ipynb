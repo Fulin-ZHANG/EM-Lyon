{
 "cells": [
  {
   "cell_type": "code",
   "execution_count": 31,
   "metadata": {},
   "outputs": [],
   "source": [
    "import pandas as pd\n",
    "import numpy as np\n",
    "import random\n",
    "random.seed(42)\n",
    "\n",
    "df = pd.read_csv(\"./data/customer_data_init.csv\", header=0, index_col=\"recordID\")\n",
    "df_miss = df.copy()"
   ]
  },
  {
   "cell_type": "code",
   "execution_count": 32,
   "metadata": {},
   "outputs": [],
   "source": [
    "def put_miss(df_miss, col, missing_ratio):\n",
    "    for column in df_miss[[col]].columns:\n",
    "        mask = np.random.rand(len(df_miss)) < missing_ratio\n",
    "        df_miss[column][mask] = np.nan\n",
    "    return df_miss"
   ]
  },
  {
   "cell_type": "code",
   "execution_count": 33,
   "metadata": {},
   "outputs": [
    {
     "name": "stderr",
     "output_type": "stream",
     "text": [
      "/var/folders/cr/dlw4zhlj7ld9t1grnb2q9hvw0000gn/T/ipykernel_12251/1063119179.py:4: SettingWithCopyWarning: \n",
      "A value is trying to be set on a copy of a slice from a DataFrame\n",
      "\n",
      "See the caveats in the documentation: https://pandas.pydata.org/pandas-docs/stable/user_guide/indexing.html#returning-a-view-versus-a-copy\n",
      "  df_miss[column][mask] = np.nan\n",
      "/var/folders/cr/dlw4zhlj7ld9t1grnb2q9hvw0000gn/T/ipykernel_12251/1063119179.py:4: SettingWithCopyWarning: \n",
      "A value is trying to be set on a copy of a slice from a DataFrame\n",
      "\n",
      "See the caveats in the documentation: https://pandas.pydata.org/pandas-docs/stable/user_guide/indexing.html#returning-a-view-versus-a-copy\n",
      "  df_miss[column][mask] = np.nan\n",
      "/var/folders/cr/dlw4zhlj7ld9t1grnb2q9hvw0000gn/T/ipykernel_12251/1063119179.py:4: SettingWithCopyWarning: \n",
      "A value is trying to be set on a copy of a slice from a DataFrame\n",
      "\n",
      "See the caveats in the documentation: https://pandas.pydata.org/pandas-docs/stable/user_guide/indexing.html#returning-a-view-versus-a-copy\n",
      "  df_miss[column][mask] = np.nan\n",
      "/var/folders/cr/dlw4zhlj7ld9t1grnb2q9hvw0000gn/T/ipykernel_12251/1063119179.py:4: SettingWithCopyWarning: \n",
      "A value is trying to be set on a copy of a slice from a DataFrame\n",
      "\n",
      "See the caveats in the documentation: https://pandas.pydata.org/pandas-docs/stable/user_guide/indexing.html#returning-a-view-versus-a-copy\n",
      "  df_miss[column][mask] = np.nan\n",
      "/var/folders/cr/dlw4zhlj7ld9t1grnb2q9hvw0000gn/T/ipykernel_12251/1063119179.py:4: SettingWithCopyWarning: \n",
      "A value is trying to be set on a copy of a slice from a DataFrame\n",
      "\n",
      "See the caveats in the documentation: https://pandas.pydata.org/pandas-docs/stable/user_guide/indexing.html#returning-a-view-versus-a-copy\n",
      "  df_miss[column][mask] = np.nan\n",
      "/var/folders/cr/dlw4zhlj7ld9t1grnb2q9hvw0000gn/T/ipykernel_12251/1063119179.py:4: SettingWithCopyWarning: \n",
      "A value is trying to be set on a copy of a slice from a DataFrame\n",
      "\n",
      "See the caveats in the documentation: https://pandas.pydata.org/pandas-docs/stable/user_guide/indexing.html#returning-a-view-versus-a-copy\n",
      "  df_miss[column][mask] = np.nan\n",
      "/var/folders/cr/dlw4zhlj7ld9t1grnb2q9hvw0000gn/T/ipykernel_12251/1063119179.py:4: SettingWithCopyWarning: \n",
      "A value is trying to be set on a copy of a slice from a DataFrame\n",
      "\n",
      "See the caveats in the documentation: https://pandas.pydata.org/pandas-docs/stable/user_guide/indexing.html#returning-a-view-versus-a-copy\n",
      "  df_miss[column][mask] = np.nan\n",
      "/var/folders/cr/dlw4zhlj7ld9t1grnb2q9hvw0000gn/T/ipykernel_12251/1063119179.py:4: SettingWithCopyWarning: \n",
      "A value is trying to be set on a copy of a slice from a DataFrame\n",
      "\n",
      "See the caveats in the documentation: https://pandas.pydata.org/pandas-docs/stable/user_guide/indexing.html#returning-a-view-versus-a-copy\n",
      "  df_miss[column][mask] = np.nan\n",
      "/var/folders/cr/dlw4zhlj7ld9t1grnb2q9hvw0000gn/T/ipykernel_12251/1063119179.py:4: SettingWithCopyWarning: \n",
      "A value is trying to be set on a copy of a slice from a DataFrame\n",
      "\n",
      "See the caveats in the documentation: https://pandas.pydata.org/pandas-docs/stable/user_guide/indexing.html#returning-a-view-versus-a-copy\n",
      "  df_miss[column][mask] = np.nan\n",
      "/var/folders/cr/dlw4zhlj7ld9t1grnb2q9hvw0000gn/T/ipykernel_12251/1063119179.py:4: SettingWithCopyWarning: \n",
      "A value is trying to be set on a copy of a slice from a DataFrame\n",
      "\n",
      "See the caveats in the documentation: https://pandas.pydata.org/pandas-docs/stable/user_guide/indexing.html#returning-a-view-versus-a-copy\n",
      "  df_miss[column][mask] = np.nan\n",
      "/var/folders/cr/dlw4zhlj7ld9t1grnb2q9hvw0000gn/T/ipykernel_12251/1063119179.py:4: SettingWithCopyWarning: \n",
      "A value is trying to be set on a copy of a slice from a DataFrame\n",
      "\n",
      "See the caveats in the documentation: https://pandas.pydata.org/pandas-docs/stable/user_guide/indexing.html#returning-a-view-versus-a-copy\n",
      "  df_miss[column][mask] = np.nan\n",
      "/var/folders/cr/dlw4zhlj7ld9t1grnb2q9hvw0000gn/T/ipykernel_12251/1063119179.py:4: SettingWithCopyWarning: \n",
      "A value is trying to be set on a copy of a slice from a DataFrame\n",
      "\n",
      "See the caveats in the documentation: https://pandas.pydata.org/pandas-docs/stable/user_guide/indexing.html#returning-a-view-versus-a-copy\n",
      "  df_miss[column][mask] = np.nan\n",
      "/var/folders/cr/dlw4zhlj7ld9t1grnb2q9hvw0000gn/T/ipykernel_12251/1063119179.py:4: SettingWithCopyWarning: \n",
      "A value is trying to be set on a copy of a slice from a DataFrame\n",
      "\n",
      "See the caveats in the documentation: https://pandas.pydata.org/pandas-docs/stable/user_guide/indexing.html#returning-a-view-versus-a-copy\n",
      "  df_miss[column][mask] = np.nan\n",
      "/var/folders/cr/dlw4zhlj7ld9t1grnb2q9hvw0000gn/T/ipykernel_12251/1063119179.py:4: SettingWithCopyWarning: \n",
      "A value is trying to be set on a copy of a slice from a DataFrame\n",
      "\n",
      "See the caveats in the documentation: https://pandas.pydata.org/pandas-docs/stable/user_guide/indexing.html#returning-a-view-versus-a-copy\n",
      "  df_miss[column][mask] = np.nan\n",
      "/var/folders/cr/dlw4zhlj7ld9t1grnb2q9hvw0000gn/T/ipykernel_12251/1063119179.py:4: SettingWithCopyWarning: \n",
      "A value is trying to be set on a copy of a slice from a DataFrame\n",
      "\n",
      "See the caveats in the documentation: https://pandas.pydata.org/pandas-docs/stable/user_guide/indexing.html#returning-a-view-versus-a-copy\n",
      "  df_miss[column][mask] = np.nan\n",
      "/var/folders/cr/dlw4zhlj7ld9t1grnb2q9hvw0000gn/T/ipykernel_12251/1063119179.py:4: SettingWithCopyWarning: \n",
      "A value is trying to be set on a copy of a slice from a DataFrame\n",
      "\n",
      "See the caveats in the documentation: https://pandas.pydata.org/pandas-docs/stable/user_guide/indexing.html#returning-a-view-versus-a-copy\n",
      "  df_miss[column][mask] = np.nan\n"
     ]
    }
   ],
   "source": [
    "df_miss = put_miss(df_miss, 'area_code', 0.0005)\n",
    "df_miss = put_miss(df_miss, 'voice_mail_plan', 0.0008)\n",
    "df_miss = put_miss(df_miss, 'number_vmail_messages', 0.121)\n",
    "df_miss = put_miss(df_miss, 'total_day_minutes', 0.132)\n",
    "df_miss = put_miss(df_miss, 'total_day_calls', 0.142)\n",
    "df_miss = put_miss(df_miss, 'total_day_charge', 0.111)\n",
    "df_miss = put_miss(df_miss, 'total_eve_minutes', 0.091)\n",
    "df_miss = put_miss(df_miss, 'total_eve_calls', 0.102)\n",
    "df_miss = put_miss(df_miss, 'total_eve_charge', 0.197)\n",
    "df_miss = put_miss(df_miss, 'total_night_minutes', 0.051)\n",
    "df_miss = put_miss(df_miss, 'total_night_calls', 0.067)\n",
    "df_miss = put_miss(df_miss, 'total_night_charge', 0.076)\n",
    "df_miss = put_miss(df_miss, 'total_intl_minutes', 0.095)\n",
    "df_miss = put_miss(df_miss, 'total_intl_calls', 0.089)\n",
    "df_miss = put_miss(df_miss, 'total_intl_charge', 0.076)\n",
    "df_miss = put_miss(df_miss, 'number_customer_service_calls', 0.002)"
   ]
  },
  {
   "cell_type": "code",
   "execution_count": 34,
   "metadata": {},
   "outputs": [
    {
     "data": {
      "text/plain": [
       "state                               0\n",
       "account_length                      0\n",
       "area_code                           6\n",
       "international_plan                  0\n",
       "voice_mail_plan                    13\n",
       "number_vmail_messages            1521\n",
       "total_day_minutes                1686\n",
       "total_day_calls                  1777\n",
       "total_day_charge                 1428\n",
       "total_eve_minutes                1198\n",
       "total_eve_calls                  1298\n",
       "total_eve_charge                 2579\n",
       "total_night_minutes               635\n",
       "total_night_calls                 835\n",
       "total_night_charge                965\n",
       "total_intl_minutes               1238\n",
       "total_intl_calls                 1107\n",
       "total_intl_charge                 959\n",
       "number_customer_service_calls      22\n",
       "churn                               0\n",
       "customer_id                         0\n",
       "dtype: int64"
      ]
     },
     "execution_count": 34,
     "metadata": {},
     "output_type": "execute_result"
    }
   ],
   "source": [
    "df_miss.isna().sum()"
   ]
  },
  {
   "cell_type": "code",
   "execution_count": 35,
   "metadata": {},
   "outputs": [],
   "source": [
    "df_miss.to_csv('./data/customer_data.csv', index=False)"
   ]
  },
  {
   "cell_type": "code",
   "execution_count": 36,
   "metadata": {},
   "outputs": [],
   "source": [
    "df_v2 = pd.read_csv('./data/customer_data.csv', header=0)"
   ]
  },
  {
   "cell_type": "code",
   "execution_count": 37,
   "metadata": {},
   "outputs": [
    {
     "data": {
      "text/plain": [
       "state                               0\n",
       "account_length                      0\n",
       "area_code                           6\n",
       "international_plan                  0\n",
       "voice_mail_plan                    13\n",
       "number_vmail_messages            1521\n",
       "total_day_minutes                1686\n",
       "total_day_calls                  1777\n",
       "total_day_charge                 1428\n",
       "total_eve_minutes                1198\n",
       "total_eve_calls                  1298\n",
       "total_eve_charge                 2579\n",
       "total_night_minutes               635\n",
       "total_night_calls                 835\n",
       "total_night_charge                965\n",
       "total_intl_minutes               1238\n",
       "total_intl_calls                 1107\n",
       "total_intl_charge                 959\n",
       "number_customer_service_calls      22\n",
       "churn                               0\n",
       "customer_id                         0\n",
       "dtype: int64"
      ]
     },
     "execution_count": 37,
     "metadata": {},
     "output_type": "execute_result"
    }
   ],
   "source": [
    "df_v2.isna().sum()"
   ]
  },
  {
   "cell_type": "code",
   "execution_count": null,
   "metadata": {},
   "outputs": [],
   "source": []
  }
 ],
 "metadata": {
  "kernelspec": {
   "display_name": "base",
   "language": "python",
   "name": "python3"
  },
  "language_info": {
   "codemirror_mode": {
    "name": "ipython",
    "version": 3
   },
   "file_extension": ".py",
   "mimetype": "text/x-python",
   "name": "python",
   "nbconvert_exporter": "python",
   "pygments_lexer": "ipython3",
   "version": "3.11.4"
  }
 },
 "nbformat": 4,
 "nbformat_minor": 2
}
