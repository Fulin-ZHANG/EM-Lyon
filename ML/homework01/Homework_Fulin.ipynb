{
 "cells": [
  {
   "cell_type": "code",
   "execution_count": 2,
   "metadata": {},
   "outputs": [],
   "source": [
    "import pandas as pd\n",
    "import os"
   ]
  },
  {
   "cell_type": "code",
   "execution_count": 5,
   "metadata": {},
   "outputs": [],
   "source": [
    "path = os.getcwd()\n",
    "os.chdir(path)"
   ]
  },
  {
   "cell_type": "code",
   "execution_count": 6,
   "metadata": {},
   "outputs": [],
   "source": [
    "df = pd.read_csv('./data/customer_data_edited.csv', delimiter=',', header=0, index_col='recordID')"
   ]
  },
  {
   "cell_type": "code",
   "execution_count": 9,
   "metadata": {},
   "outputs": [
    {
     "name": "stdout",
     "output_type": "stream",
     "text": [
      "<class 'pandas.core.frame.DataFrame'>\n",
      "Int64Index: 12892 entries, 1 to 12892\n",
      "Data columns (total 21 columns):\n",
      " #   Column                         Non-Null Count  Dtype  \n",
      "---  ------                         --------------  -----  \n",
      " 0   state                          12892 non-null  object \n",
      " 1   account_length                 12892 non-null  int64  \n",
      " 2   area_code                      12892 non-null  int64  \n",
      " 3   international_plan             12892 non-null  object \n",
      " 4   voice_mail_plan                12892 non-null  object \n",
      " 5   number_vmail_messages          12892 non-null  int64  \n",
      " 6   total_day_minutes              12892 non-null  float64\n",
      " 7   total_day_calls                12892 non-null  int64  \n",
      " 8   total_day_charge               12892 non-null  float64\n",
      " 9   total_eve_minutes              12892 non-null  float64\n",
      " 10  total_eve_calls                12892 non-null  int64  \n",
      " 11  total_eve_charge               12892 non-null  float64\n",
      " 12  total_night_minutes            12892 non-null  float64\n",
      " 13  total_night_calls              12892 non-null  int64  \n",
      " 14  total_night_charge             12892 non-null  float64\n",
      " 15  total_intl_minutes             12892 non-null  float64\n",
      " 16  total_intl_calls               12892 non-null  int64  \n",
      " 17  total_intl_charge              12892 non-null  float64\n",
      " 18  number_customer_service_calls  12892 non-null  int64  \n",
      " 19  churn                          12892 non-null  object \n",
      " 20  customer_id                    12892 non-null  float64\n",
      "dtypes: float64(9), int64(8), object(4)\n",
      "memory usage: 2.2+ MB\n"
     ]
    }
   ],
   "source": [
    "df.info()"
   ]
  },
  {
   "cell_type": "code",
   "execution_count": null,
   "metadata": {},
   "outputs": [],
   "source": []
  }
 ],
 "metadata": {
  "kernelspec": {
   "display_name": "base",
   "language": "python",
   "name": "python3"
  },
  "language_info": {
   "codemirror_mode": {
    "name": "ipython",
    "version": 3
   },
   "file_extension": ".py",
   "mimetype": "text/x-python",
   "name": "python",
   "nbconvert_exporter": "python",
   "pygments_lexer": "ipython3",
   "version": "3.11.4"
  }
 },
 "nbformat": 4,
 "nbformat_minor": 2
}
