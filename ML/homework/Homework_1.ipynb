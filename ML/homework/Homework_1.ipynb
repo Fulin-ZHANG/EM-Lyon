{
 "cells": [
  {
   "cell_type": "markdown",
   "id": "stopped-conflict",
   "metadata": {},
   "source": [
    "## <span style=\"color:red\"> Homework 1 </span>"
   ]
  },
  {
   "cell_type": "markdown",
   "id": "hungry-appendix",
   "metadata": {},
   "source": [
    "**I. Data splitting and merging by columns**\n",
    "\n",
    "1. Import your toy dataset with pandas\n",
    "2. Split your dataframe into two other dataframes : all the categorical variables in one hand and all the quantitative variables in the other hand\n",
    "3. Save these two dataframes into two different csv files\n",
    "4. Import these two csv files and merge them back together : do you retrieve your original dataframe?"
   ]
  },
  {
   "cell_type": "markdown",
   "id": "seven-retrieval",
   "metadata": {},
   "source": [
    "**II. Data splitting and merging by rows**\n",
    "\n",
    "1. Now split your toy dataset in two parts with the 30% first rows called `test` and the 70% remaining rows called `train`\n",
    "2. save your test set and your train set in two different csv files\n",
    "3. Import these two csv files and merge them back together : do you retrieve your original dataframe?"
   ]
  },
  {
   "cell_type": "markdown",
   "id": "moving-stewart",
   "metadata": {},
   "source": [
    "**III. Linear Regression:**\n",
    "\n",
    "*Select an appropriate binary variable - justify your choice if possible - to be used as output*\n",
    "\n",
    "1. Import a Linear Regression Model from the appropriate Python package(s)\n",
    "2. Train your model\n",
    "3. Compute the performance of your Linear Regression Model in several ways and justify your choice\n",
    "4. Provide test statistics and standardized values to your estimated parameters\n",
    "5. Given a full interpretation of your results, including variable importance and explainability if possible"
   ]
  },
  {
   "cell_type": "markdown",
   "id": "interracial-married",
   "metadata": {},
   "source": [
    "***K neighbors model:***\n",
    "\n",
    "Repeat the 5 previous steps for the the K Nearest Neighbors Model :\n",
    "1. Which is the best model amongst the two?\n",
    "2. What if we fitted and estimated the score of the models using all the dataset? Would there be a difference?"
   ]
  },
  {
   "cell_type": "markdown",
   "id": "62c1847b",
   "metadata": {},
   "source": [
    "**IV. Logistic Regression**\n",
    "\n",
    "*Select an appropriate binary variable - justify your choice if possible - to be used as output*\n",
    "\n",
    "1. Import a Logistic Regression Model from the appropriate Python packages(s)\n",
    "2. Train your model\n",
    "3. Assess the performance of your model, if possible in different ways and justify your choice\n",
    "4. Provide test statistics and standardized values to your estimated parameters\n",
    "5. Given a full interpretation of your results, including variable importance and explainability if possible"
   ]
  },
  {
   "cell_type": "markdown",
   "id": "0958694b",
   "metadata": {},
   "source": [
    "***K neighbors model:***\n",
    "\n",
    "Repeat the 5 previous steps for the the K Nearest Neighbors Model :\n",
    "1. Which is the best model amongst the two?\n",
    "2. What if we fitted and estimated the score of the models using all the dataset? Would there be a difference?"
   ]
  }
 ],
 "metadata": {
  "kernelspec": {
   "display_name": "Python 3 (ipykernel)",
   "language": "python",
   "name": "python3"
  },
  "language_info": {
   "codemirror_mode": {
    "name": "ipython",
    "version": 3
   },
   "file_extension": ".py",
   "mimetype": "text/x-python",
   "name": "python",
   "nbconvert_exporter": "python",
   "pygments_lexer": "ipython3",
   "version": "3.8.5"
  }
 },
 "nbformat": 4,
 "nbformat_minor": 5
}
