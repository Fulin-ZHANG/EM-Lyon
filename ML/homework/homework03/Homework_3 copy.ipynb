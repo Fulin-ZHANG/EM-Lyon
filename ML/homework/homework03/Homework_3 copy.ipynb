{
 "cells": [
  {
   "cell_type": "markdown",
   "id": "equipped-heaven",
   "metadata": {},
   "source": [
    "## <span style=\"color:red\"> Homework 3 </span>"
   ]
  },
  {
   "cell_type": "markdown",
   "id": "palestinian-expert",
   "metadata": {},
   "source": [
    "With your toy dataset, now select an appropriate quantitative outcome - the same one you used for the homework on regression or another. <br> \n",
    "All the other variables are to be used as predictors. <br>\n",
    "Be careful: ID variables should not be part of the modeling !\n",
    "\n",
    "### Step 1 : Reading Assignment\n",
    "\n",
    "As usual, the reading assignment is part of the next quiz\n",
    "\n",
    "Read Section 8.2 (pp 343-354) of our Textbook [An Introduction to Statistical Learning - with Applications in Python](https://www.statlearning.com/)\n",
    "\n",
    "### Step 2 : Handling categorical data\n",
    "\n",
    "There are mainly two ways of handling categorical data :\n",
    "\n",
    "1. One-hot encoding (OHE). Use pd.get_dummies or sklearn `OneHotEncoder modules`.<br>\n",
    "    a. First explain what OHE accomplishes, in a small paragraph with its up and down sides.<br>\n",
    "    b. Apply OHE to all of your categorical variables.<br>\n",
    "    \n",
    "2. Numericalization. Use sklearn LabelEncoder or better yet the method `astype('category')` followed by the attributes `.cat.codes` <br>\n",
    "    a. First explain what numericalization entails with its up and down sides. <br>\n",
    "    b. Apply numericalization on your chosen categorical variables. <br>"
   ]
  },
  {
   "cell_type": "code",
   "execution_count": 1,
   "id": "3accaab8",
   "metadata": {},
   "outputs": [
    {
     "data": {
      "text/html": [
       "\n",
       "                <script type=\"application/javascript\" id=\"jupyter_black\">\n",
       "                (function() {\n",
       "                    if (window.IPython === undefined) {\n",
       "                        return\n",
       "                    }\n",
       "                    var msg = \"WARNING: it looks like you might have loaded \" +\n",
       "                        \"jupyter_black in a non-lab notebook with \" +\n",
       "                        \"`is_lab=True`. Please double check, and if \" +\n",
       "                        \"loading with `%load_ext` please review the README!\"\n",
       "                    console.log(msg)\n",
       "                    alert(msg)\n",
       "                })()\n",
       "                </script>\n",
       "                "
      ],
      "text/plain": [
       "<IPython.core.display.HTML object>"
      ]
     },
     "metadata": {},
     "output_type": "display_data"
    }
   ],
   "source": [
    "# Packages\n",
    "import pandas as pd\n",
    "import jupyter_black\n",
    "\n",
    "jupyter_black.load()\n",
    "import os"
   ]
  },
  {
   "cell_type": "code",
   "execution_count": 2,
   "id": "a24ead8b",
   "metadata": {},
   "outputs": [
    {
     "data": {
      "text/plain": [
       "'/Users/fulin/Documents/GitHub/EMLyon_DSAIS/ML/homework/homework03'"
      ]
     },
     "execution_count": 2,
     "metadata": {},
     "output_type": "execute_result"
    }
   ],
   "source": [
    "os.getcwd()"
   ]
  },
  {
   "cell_type": "code",
   "execution_count": 3,
   "id": "6d061d83",
   "metadata": {},
   "outputs": [],
   "source": [
    "PATH = r\"/Users/fulin/Documents/GitHub/EMLyon_DSAIS/ML/homework/homework01/data\""
   ]
  },
  {
   "cell_type": "code",
   "execution_count": 4,
   "id": "44b92a94",
   "metadata": {},
   "outputs": [],
   "source": [
    "# read csv\n",
    "os.chdir(PATH)\n",
    "df = pd.read_csv(\"customer_data_cbn.csv\")"
   ]
  },
  {
   "cell_type": "code",
   "execution_count": 5,
   "id": "c826c97c",
   "metadata": {},
   "outputs": [
    {
     "name": "stdout",
     "output_type": "stream",
     "text": [
      "<class 'pandas.core.frame.DataFrame'>\n",
      "RangeIndex: 12873 entries, 0 to 12872\n",
      "Data columns (total 20 columns):\n",
      " #   Column                         Non-Null Count  Dtype  \n",
      "---  ------                         --------------  -----  \n",
      " 0   account_length                 12873 non-null  float64\n",
      " 1   number_vmail_messages          12873 non-null  float64\n",
      " 2   total_day_minutes              12873 non-null  float64\n",
      " 3   total_day_calls                12873 non-null  float64\n",
      " 4   total_day_charge               12873 non-null  float64\n",
      " 5   total_eve_minutes              12873 non-null  float64\n",
      " 6   total_eve_calls                12873 non-null  float64\n",
      " 7   total_eve_charge               12873 non-null  float64\n",
      " 8   total_night_minutes            12873 non-null  float64\n",
      " 9   total_night_calls              12873 non-null  float64\n",
      " 10  total_night_charge             12873 non-null  float64\n",
      " 11  total_intl_minutes             12873 non-null  float64\n",
      " 12  total_intl_calls               12873 non-null  float64\n",
      " 13  total_intl_charge              12873 non-null  float64\n",
      " 14  number_customer_service_calls  12873 non-null  float64\n",
      " 15  state                          12873 non-null  object \n",
      " 16  area_code                      12873 non-null  float64\n",
      " 17  international_plan             12873 non-null  object \n",
      " 18  voice_mail_plan                12873 non-null  object \n",
      " 19  churn                          12873 non-null  object \n",
      "dtypes: float64(16), object(4)\n",
      "memory usage: 2.0+ MB\n"
     ]
    }
   ],
   "source": [
    "df.info()"
   ]
  },
  {
   "cell_type": "code",
   "execution_count": 35,
   "id": "e3e34233",
   "metadata": {},
   "outputs": [],
   "source": [
    "# define the columns\n",
    "\n",
    "numerical_features = df.iloc[:, 0:14].columns.tolist()\n",
    "categorical_ohe_features = (\n",
    "    df.iloc[:, 15:].drop(columns=[\"state\", \"churn\"], axis=1).columns.tolist()\n",
    ")\n",
    "categorical_lab_features = df[[\"state\"]].columns.tolist()"
   ]
  },
  {
   "cell_type": "code",
   "execution_count": 14,
   "id": "e47a57ec",
   "metadata": {},
   "outputs": [],
   "source": [
    "# split the predictors and target\n",
    "\n",
    "predictors = df.drop(columns=[\"account_length\", \"churn\"], axis=1)\n",
    "target = df[\"account_length\"]"
   ]
  },
  {
   "cell_type": "code",
   "execution_count": 15,
   "id": "e8481226",
   "metadata": {},
   "outputs": [],
   "source": [
    "# Apply the lable encoding on the predictors\n",
    "\n",
    "predictors[\"state\"] = predictors[\"state\"].astype(\"category\").cat.codes"
   ]
  },
  {
   "cell_type": "code",
   "execution_count": 16,
   "id": "8a74224a",
   "metadata": {},
   "outputs": [],
   "source": [
    "# Apply the ohe on the predictors\n",
    "\n",
    "predictors = pd.get_dummies(\n",
    "    predictors,\n",
    "    columns=df.iloc[:, 14:].drop(columns=[\"state\", \"churn\"], axis=1).columns.tolist(),\n",
    "    drop_first=True,\n",
    ")"
   ]
  },
  {
   "cell_type": "markdown",
   "id": "b2e3a81a",
   "metadata": {},
   "source": [
    "### Step 3 : Training models with default parameters\n",
    "\n",
    "1. Use sklearn `train_test_split` to select a training sample and a test sample.\n",
    "2. Train at least three differents models (one of them should not be tree-based).\n",
    "3. Select the appropriate metrics to estimate scores and compare performance between the models.\n",
    "4. Which handling of the categorical data is best ?"
   ]
  },
  {
   "cell_type": "code",
   "execution_count": 17,
   "id": "28732f9f",
   "metadata": {},
   "outputs": [],
   "source": [
    "# Split train / test set\n",
    "\n",
    "from sklearn.model_selection import train_test_split\n",
    "\n",
    "X_train, X_test, y_train, y_test = train_test_split(\n",
    "    predictors, target, test_size=0.2, shuffle=True\n",
    ")"
   ]
  },
  {
   "cell_type": "code",
   "execution_count": 20,
   "id": "ef946f82",
   "metadata": {},
   "outputs": [],
   "source": [
    "from sklearn.linear_model import LinearRegression\n",
    "from sklearn.tree import DecisionTreeRegressor\n",
    "from sklearn.ensemble import RandomForestRegressor\n",
    "from sklearn.svm import SVR\n",
    "\n",
    "# define the model\n",
    "models = {\n",
    "    \"LinearRegression\": LinearRegression(),\n",
    "    \"DecisionTreeRegressor\": DecisionTreeRegressor(),\n",
    "    \"RandomForestRegressor\": RandomForestRegressor(),\n",
    "    \"SVM\": SVR(),\n",
    "}\n",
    "\n",
    "for name, model in models.items():\n",
    "    model.fit(X_train, y_train)\n",
    "    models[name] = model"
   ]
  },
  {
   "cell_type": "code",
   "execution_count": 21,
   "id": "97507041",
   "metadata": {},
   "outputs": [
    {
     "name": "stdout",
     "output_type": "stream",
     "text": [
      "LinearRegression:\n",
      "\n",
      "Train MAE: 31.6535\n",
      "Test MAE: 32.3208\n",
      "Train R2: 0.0070\n",
      "Test R2: -0.0044\n",
      "\n",
      "\n",
      "DecisionTreeRegressor:\n",
      "\n",
      "Train MAE: 0.0000\n",
      "Test MAE: 16.1049\n",
      "Train R2: 1.0000\n",
      "Test R2: 0.2728\n",
      "\n",
      "\n",
      "RandomForestRegressor:\n",
      "\n",
      "Train MAE: 5.8872\n",
      "Test MAE: 16.2092\n",
      "Train R2: 0.9526\n",
      "Test R2: 0.6501\n",
      "\n",
      "\n",
      "SVM:\n",
      "\n",
      "Train MAE: 31.7109\n",
      "Test MAE: 32.2110\n",
      "Train R2: 0.0015\n",
      "Test R2: 0.0016\n",
      "\n",
      "\n"
     ]
    }
   ],
   "source": [
    "from sklearn.metrics import mean_absolute_error, r2_score\n",
    "\n",
    "scores = {}\n",
    "\n",
    "for name, model in models.items():\n",
    "    train_preds = model.predict(X_train)\n",
    "    test_preds = model.predict(X_test)\n",
    "\n",
    "    train_mae = mean_absolute_error(y_train, train_preds)\n",
    "    test_mae = mean_absolute_error(y_test, test_preds)\n",
    "\n",
    "    train_r2 = r2_score(y_train, train_preds)\n",
    "    test_r2 = r2_score(y_test, test_preds)\n",
    "\n",
    "    scores[name] = {\n",
    "        \"Train MAE\": train_mae,\n",
    "        \"Test MAE\": test_mae,\n",
    "        \"Train R2\": train_r2,\n",
    "        \"Test R2\": test_r2,\n",
    "    }\n",
    "\n",
    "for model_name, metrics in scores.items():\n",
    "    print(f\"{model_name}:\\n\")\n",
    "    for metric_name, value in metrics.items():\n",
    "        print(f\"{metric_name}: {value:.4f}\")\n",
    "    print(\"\\n\")"
   ]
  },
  {
   "cell_type": "code",
   "execution_count": 50,
   "id": "c36e5234",
   "metadata": {},
   "outputs": [
    {
     "name": "stderr",
     "output_type": "stream",
     "text": [
      "/Users/fulin/anaconda3/lib/python3.11/site-packages/sklearn/linear_model/_logistic.py:460: ConvergenceWarning: lbfgs failed to converge (status=1):\n",
      "STOP: TOTAL NO. of ITERATIONS REACHED LIMIT.\n",
      "\n",
      "Increase the number of iterations (max_iter) or scale the data as shown in:\n",
      "    https://scikit-learn.org/stable/modules/preprocessing.html\n",
      "Please also refer to the documentation for alternative solver options:\n",
      "    https://scikit-learn.org/stable/modules/linear_model.html#logistic-regression\n",
      "  n_iter_i = _check_optimize_result(\n"
     ]
    },
    {
     "name": "stdout",
     "output_type": "stream",
     "text": [
      "Logistic Regression Performance:\n",
      "              precision    recall  f1-score   support\n",
      "\n",
      "           0       0.88      0.98      0.92      2208\n",
      "           1       0.54      0.16      0.25       367\n",
      "\n",
      "    accuracy                           0.86      2575\n",
      "   macro avg       0.71      0.57      0.59      2575\n",
      "weighted avg       0.83      0.86      0.83      2575\n",
      "\n",
      "\n",
      "k-Nearest Neighbors Performance:\n",
      "              precision    recall  f1-score   support\n",
      "\n",
      "           0       0.92      0.96      0.94      2208\n",
      "           1       0.65      0.47      0.55       367\n",
      "\n",
      "    accuracy                           0.89      2575\n",
      "   macro avg       0.78      0.71      0.74      2575\n",
      "weighted avg       0.88      0.89      0.88      2575\n",
      "\n",
      "\n",
      "Decision Tree Performance:\n",
      "              precision    recall  f1-score   support\n",
      "\n",
      "           0       0.98      0.98      0.98      2208\n",
      "           1       0.89      0.90      0.90       367\n",
      "\n",
      "    accuracy                           0.97      2575\n",
      "   macro avg       0.94      0.94      0.94      2575\n",
      "weighted avg       0.97      0.97      0.97      2575\n",
      "\n",
      "\n",
      "Random Forest Performance:\n",
      "              precision    recall  f1-score   support\n",
      "\n",
      "           0       0.98      1.00      0.99      2208\n",
      "           1       0.99      0.90      0.94       367\n",
      "\n",
      "    accuracy                           0.98      2575\n",
      "   macro avg       0.98      0.95      0.96      2575\n",
      "weighted avg       0.98      0.98      0.98      2575\n",
      "\n"
     ]
    }
   ],
   "source": [
    "# fit the model with Logistic regression / KNN / Decision tree / Random forest\n",
    "\n",
    "from sklearn.linear_model import LogisticRegression\n",
    "from sklearn.neighbors import KNeighborsClassifier\n",
    "from sklearn.tree import DecisionTreeClassifier\n",
    "from sklearn.ensemble import RandomForestClassifier\n",
    "from sklearn.metrics import accuracy_score, classification_report\n",
    "import numpy as np\n",
    "\n",
    "# Train Logistic Regression\n",
    "lr = LogisticRegression(max_iter=100)\n",
    "lr.fit(X_train, y_train)\n",
    "lr_pred = lr.predict(X_test)\n",
    "\n",
    "X_train_np = np.array(X_train)\n",
    "X_test_np = np.array(X_test)\n",
    "\n",
    "# Train k-Nearest Neighbors (k-NN)\n",
    "knn = KNeighborsClassifier(n_neighbors=5)\n",
    "knn.fit(X_train_np, y_train)\n",
    "knn_pred = knn.predict(X_test_np)\n",
    "\n",
    "# Train Decision Tree\n",
    "dt = DecisionTreeClassifier()\n",
    "dt.fit(X_train, y_train)\n",
    "dt_pred = dt.predict(X_test)\n",
    "\n",
    "# Train Random Forest\n",
    "rf = RandomForestClassifier()\n",
    "rf.fit(X_train, y_train)\n",
    "rf_pred = rf.predict(X_test)\n",
    "\n",
    "# Evaluation\n",
    "print(\"Logistic Regression Performance:\")\n",
    "print(classification_report(y_test, lr_pred))\n",
    "\n",
    "print(\"\\nk-Nearest Neighbors Performance:\")\n",
    "print(classification_report(y_test, knn_pred))\n",
    "\n",
    "print(\"\\nDecision Tree Performance:\")\n",
    "print(classification_report(y_test, dt_pred))\n",
    "\n",
    "print(\"\\nRandom Forest Performance:\")\n",
    "print(classification_report(y_test, rf_pred))"
   ]
  },
  {
   "cell_type": "code",
   "execution_count": 51,
   "id": "bd034ed6",
   "metadata": {},
   "outputs": [
    {
     "name": "stdout",
     "output_type": "stream",
     "text": [
      "Logistic Regression Accuracy:\n",
      "Train: 0.87, Test: 0.86\n",
      "\n",
      "k-Nearest Neighbors Accuracy:\n",
      "Train: 0.95, Test: 0.89\n",
      "\n",
      "Decision Tree Accuracy:\n",
      "Train: 1.00, Test: 0.97\n",
      "\n",
      "Random Forest Accuracy:\n",
      "Train: 1.00, Test: 0.98\n"
     ]
    }
   ],
   "source": [
    "# Logistic Regression\n",
    "lr_train_pred = lr.predict(X_train)\n",
    "lr_test_pred = lr.predict(X_test)\n",
    "\n",
    "# k-Nearest Neighbors\n",
    "knn_train_pred = knn.predict(X_train_np)\n",
    "knn_test_pred = knn.predict(X_test_np)\n",
    "\n",
    "# Decision Tree\n",
    "dt_train_pred = dt.predict(X_train)\n",
    "dt_test_pred = dt.predict(X_test)\n",
    "\n",
    "# Random Forest\n",
    "rf_train_pred = rf.predict(X_train)\n",
    "rf_test_pred = rf.predict(X_test)\n",
    "\n",
    "# Display accuracies\n",
    "print(\"Logistic Regression Accuracy:\")\n",
    "print(\n",
    "    f\"Train: {accuracy_score(y_train, lr_train_pred):.2f}, Test: {accuracy_score(y_test, lr_test_pred):.2f}\"\n",
    ")\n",
    "\n",
    "print(\"\\nk-Nearest Neighbors Accuracy:\")\n",
    "print(\n",
    "    f\"Train: {accuracy_score(y_train, knn_train_pred):.2f}, Test: {accuracy_score(y_test, knn_test_pred):.2f}\"\n",
    ")\n",
    "\n",
    "print(\"\\nDecision Tree Accuracy:\")\n",
    "print(\n",
    "    f\"Train: {accuracy_score(y_train, dt_train_pred):.2f}, Test: {accuracy_score(y_test, dt_test_pred):.2f}\"\n",
    ")\n",
    "\n",
    "print(\"\\nRandom Forest Accuracy:\")\n",
    "print(\n",
    "    f\"Train: {accuracy_score(y_train, rf_train_pred):.2f}, Test: {accuracy_score(y_test, rf_test_pred):.2f}\"\n",
    ")"
   ]
  },
  {
   "cell_type": "markdown",
   "id": "2ca2c0e3",
   "metadata": {},
   "source": [
    "### Step 4 : Tuning model\n",
    "\n",
    "1. Select the best model among the previous ones and do sequential tuning (one parameter at a time with a plot) on at least two of the parameters. <br>\n",
    "    a. Print the values of the best parameters <br>\n",
    "    b. Give the score of the tuned model on the test set <br>\n",
    "2. Use `GridSearchCV` or `RandomizedSearchCV` from sklearn to tune 2 or more parameters <br>\n",
    "    a. Print the best parameters <br>\n",
    "    b. Save the best model and print its score on the test set <br>"
   ]
  },
  {
   "cell_type": "code",
   "execution_count": 52,
   "id": "bfc1710f",
   "metadata": {},
   "outputs": [
    {
     "data": {
      "image/png": "[encoded data removed]",
      "text/plain": [
       "<Figure size 640x480 with 1 Axes>"
      ]
     },
     "metadata": {},
     "output_type": "display_data"
    },
    {
     "name": "stdout",
     "output_type": "stream",
     "text": [
      "Best number of estimators: 80\n"
     ]
    }
   ],
   "source": [
    "from sklearn.model_selection import cross_val_score\n",
    "import matplotlib.pyplot as plt\n",
    "\n",
    "estimators = list(range(10, 201, 10))\n",
    "scores = []\n",
    "\n",
    "for n in estimators:\n",
    "    rf = RandomForestClassifier(n_estimators=n, random_state=42)\n",
    "    score = cross_val_score(rf, X_train, y_train, cv=5).mean()\n",
    "    scores.append(score)\n",
    "\n",
    "# Plotting the scores\n",
    "plt.plot(estimators, scores)\n",
    "plt.xlabel(\"Number of Estimators\")\n",
    "plt.ylabel(\"Cross-Validation Score\")\n",
    "plt.title(\"Performance vs. Number of Estimators\")\n",
    "plt.show()\n",
    "\n",
    "best_n_estimators = estimators[scores.index(max(scores))]\n",
    "print(f\"Best number of estimators: {best_n_estimators}\")"
   ]
  },
  {
   "cell_type": "code",
   "execution_count": 53,
   "id": "af4b7346",
   "metadata": {},
   "outputs": [
    {
     "data": {
      "image/png": "[encoded data removed]",
      "text/plain": [
       "<Figure size 640x480 with 1 Axes>"
      ]
     },
     "metadata": {},
     "output_type": "display_data"
    },
    {
     "name": "stdout",
     "output_type": "stream",
     "text": [
      "Best max depth: 20\n",
      "Test Score after tuning: 0.98\n"
     ]
    }
   ],
   "source": [
    "depths = list(range(1, 21))\n",
    "scores_depth = []\n",
    "\n",
    "for depth in depths:\n",
    "    rf = RandomForestClassifier(\n",
    "        n_estimators=best_n_estimators, max_depth=depth, random_state=42\n",
    "    )\n",
    "    score = cross_val_score(rf, X_train, y_train, cv=5).mean()\n",
    "    scores_depth.append(score)\n",
    "\n",
    "# Plotting the scores\n",
    "plt.plot(depths, scores_depth)\n",
    "plt.xlabel(\"Max Depth\")\n",
    "plt.ylabel(\"Cross-Validation Score\")\n",
    "plt.title(\"Performance vs. Max Depth\")\n",
    "plt.show()\n",
    "\n",
    "best_max_depth = depths[scores_depth.index(max(scores_depth))]\n",
    "print(f\"Best max depth: {best_max_depth}\")\n",
    "\n",
    "# Evaluating on the test set\n",
    "rf_best = RandomForestClassifier(\n",
    "    n_estimators=best_n_estimators, max_depth=best_max_depth, random_state=42\n",
    ")\n",
    "rf_best.fit(X_train, y_train)\n",
    "print(f\"Test Score after tuning: {rf_best.score(X_test, y_test):.2f}\")"
   ]
  },
  {
   "cell_type": "code",
   "execution_count": 54,
   "id": "7e2e1bdb",
   "metadata": {},
   "outputs": [
    {
     "name": "stdout",
     "output_type": "stream",
     "text": [
      "Fitting 5 folds for each of 3600 candidates, totalling 18000 fits\n",
      "Best Parameters: {'max_depth': 20, 'min_samples_leaf': 1, 'min_samples_split': 2, 'n_estimators': 160}\n",
      "Test Score with GridSearchCV: 0.98\n"
     ]
    }
   ],
   "source": [
    "from sklearn.model_selection import GridSearchCV\n",
    "\n",
    "param_grid = {\n",
    "    \"n_estimators\": list(range(10, 201, 10)),\n",
    "    \"max_depth\": list(range(1, 21)),\n",
    "    \"min_samples_split\": [2, 5, 10],\n",
    "    \"min_samples_leaf\": [1, 2, 4],\n",
    "}\n",
    "\n",
    "rf = RandomForestClassifier(random_state=42)\n",
    "grid_search = GridSearchCV(rf, param_grid, cv=5, verbose=1, n_jobs=-1)\n",
    "grid_search.fit(X_train, y_train)\n",
    "\n",
    "print(f\"Best Parameters: {grid_search.best_params_}\")\n",
    "\n",
    "best_grid = grid_search.best_estimator_\n",
    "print(f\"Test Score with GridSearchCV: {best_grid.score(X_test, y_test):.2f}\")"
   ]
  },
  {
   "cell_type": "code",
   "execution_count": 55,
   "id": "9753e10b",
   "metadata": {},
   "outputs": [
    {
     "data": {
      "image/png": "[encoded data removed]",
      "text/plain": [
       "<Figure size 640x480 with 1 Axes>"
      ]
     },
     "metadata": {},
     "output_type": "display_data"
    },
    {
     "name": "stdout",
     "output_type": "stream",
     "text": [
      "Best max depth: 27\n",
      "Test Score after tuning: 0.98\n"
     ]
    }
   ],
   "source": [
    "depths = list(range(1, 41))\n",
    "scores_depth = []\n",
    "\n",
    "for depth in depths:\n",
    "    rf = RandomForestClassifier(\n",
    "        n_estimators=best_n_estimators, max_depth=depth, random_state=42\n",
    "    )\n",
    "    score = cross_val_score(rf, X_train, y_train, cv=5).mean()\n",
    "    scores_depth.append(score)\n",
    "\n",
    "# Plotting the scores\n",
    "plt.plot(depths, scores_depth)\n",
    "plt.xlabel(\"Max Depth\")\n",
    "plt.ylabel(\"Cross-Validation Score\")\n",
    "plt.title(\"Performance vs. Max Depth\")\n",
    "plt.show()\n",
    "\n",
    "best_max_depth = depths[scores_depth.index(max(scores_depth))]\n",
    "print(f\"Best max depth: {best_max_depth}\")\n",
    "\n",
    "# Evaluating on the test set\n",
    "rf_best = RandomForestClassifier(\n",
    "    n_estimators=best_n_estimators, max_depth=best_max_depth, random_state=42\n",
    ")\n",
    "rf_best.fit(X_train, y_train)\n",
    "print(f\"Test Score after tuning: {rf_best.score(X_test, y_test):.2f}\")"
   ]
  },
  {
   "cell_type": "code",
   "execution_count": 56,
   "id": "590c75d3",
   "metadata": {},
   "outputs": [
    {
     "name": "stdout",
     "output_type": "stream",
     "text": [
      "Fitting 5 folds for each of 900 candidates, totalling 4500 fits\n",
      "Best Parameters: {'max_depth': 28, 'min_samples_leaf': 1, 'min_samples_split': 2, 'n_estimators': 155}\n",
      "Training Score with Best Grid: 1.00\n",
      "Test Score with Best Grid: 0.98\n"
     ]
    }
   ],
   "source": [
    "from sklearn.model_selection import GridSearchCV\n",
    "\n",
    "param_grid = {\n",
    "    \"n_estimators\": list(range(150, 171, 5)),\n",
    "    \"max_depth\": list(range(25, 31)),\n",
    "    \"min_samples_split\": [2, 5, 10, 15, 20],\n",
    "    \"min_samples_leaf\": [1, 2, 4, 6, 8, 10],\n",
    "}\n",
    "\n",
    "rf = RandomForestClassifier(random_state=42)\n",
    "grid_search = GridSearchCV(rf, param_grid, cv=5, verbose=1, n_jobs=-1)\n",
    "grid_search.fit(X_train, y_train)\n",
    "\n",
    "print(f\"Best Parameters: {grid_search.best_params_}\")\n",
    "\n",
    "best_grid = grid_search.best_estimator_\n",
    "\n",
    "train_score = best_grid.score(X_train, y_train)\n",
    "print(f\"Training Score with Best Grid: {train_score:.2f}\")\n",
    "\n",
    "test_score = best_grid.score(X_test, y_test)\n",
    "print(f\"Test Score with Best Grid: {test_score:.2f}\")"
   ]
  },
  {
   "cell_type": "code",
   "execution_count": null,
   "id": "efe66c89",
   "metadata": {},
   "outputs": [],
   "source": []
  }
 ],
 "metadata": {
  "kernelspec": {
   "display_name": "Python 3 (ipykernel)",
   "language": "python",
   "name": "python3"
  },
  "language_info": {
   "codemirror_mode": {
    "name": "ipython",
    "version": 3
   },
   "file_extension": ".py",
   "mimetype": "text/x-python",
   "name": "python",
   "nbconvert_exporter": "python",
   "pygments_lexer": "ipython3",
   "version": "3.11.4"
  }
 },
 "nbformat": 4,
 "nbformat_minor": 5
}
