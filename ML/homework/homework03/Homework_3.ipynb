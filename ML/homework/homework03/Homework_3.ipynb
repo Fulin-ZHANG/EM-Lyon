{
 "cells": [
  {
   "cell_type": "markdown",
   "id": "equipped-heaven",
   "metadata": {},
   "source": [
    "## <span style=\"color:red\"> Homework 3 </span>"
   ]
  },
  {
   "cell_type": "markdown",
   "id": "palestinian-expert",
   "metadata": {},
   "source": [
    "With your toy dataset, now select an appropriate quantitative outcome - the same one you used for the homework on regression or another. <br> \n",
    "All the other variables are to be used as predictors. <br>\n",
    "Be careful: ID variables should not be part of the modeling !\n",
    "\n",
    "### Step 1 : Reading Assignment\n",
    "\n",
    "As usual, the reading assignment is part of the next quiz\n",
    "\n",
    "Read Section 8.2 (pp 343-354) of our Textbook [An Introduction to Statistical Learning - with Applications in Python](https://www.statlearning.com/)\n",
    "\n",
    "### Step 2 : Handling categorical data\n",
    "\n",
    "There are mainly two ways of handling categorical data :\n",
    "\n",
    "1. One-hot encoding (OHE). Use pd.get_dummies or sklearn `OneHotEncoder modules`.<br>\n",
    "    a. First explain what OHE accomplishes, in a small paragraph with its up and down sides.<br>\n",
    "    b. Apply OHE to all of your categorical variables.<br>\n",
    "    \n",
    "2. Numericalization. Use sklearn LabelEncoder or better yet the method `astype('category')` followed by the attributes `.cat.codes` <br>\n",
    "    a. First explain what numericalization entails with its up and down sides. <br>\n",
    "    b. Apply numericalization on your chosen categorical variables. <br>\n",
    "    \n",
    "### Step 3 : Training models with default parameters\n",
    "\n",
    "1. Use sklearn `train_test_split` to select a training sample and a test sample.\n",
    "2. Train at least three differents models (one of them should not be tree-based).\n",
    "3. Select the appropriate metrics to estimate scores and compare performance between the models.\n",
    "4. Which handling of the categorical data is best ?\n",
    "\n",
    "### Step 4 : Tuning model\n",
    "\n",
    "1. Select the best model among the previous ones and do sequential tuning (one parameter at a time with a plot) on at least two of the parameters. <br>\n",
    "    a. Print the values of the best parameters <br>\n",
    "    b. Give the score of the tuned model on the test set <br>\n",
    "2. Use `GridSearchCV` or `RandomizedSearchCV` from sklearn to tune 2 or more parameters <br>\n",
    "    a. Print the best parameters <br>\n",
    "    b. Save the best model and print its score on the test set <br>\n"
   ]
  },
  {
   "cell_type": "markdown",
   "id": "161e522f",
   "metadata": {},
   "source": []
  }
 ],
 "metadata": {
  "kernelspec": {
   "display_name": "Python 3 (ipykernel)",
   "language": "python",
   "name": "python3"
  },
  "language_info": {
   "codemirror_mode": {
    "name": "ipython",
    "version": 3
   },
   "file_extension": ".py",
   "mimetype": "text/x-python",
   "name": "python",
   "nbconvert_exporter": "python",
   "pygments_lexer": "ipython3",
   "version": "3.8.5"
  }
 },
 "nbformat": 4,
 "nbformat_minor": 5
}
