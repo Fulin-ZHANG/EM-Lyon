{
 "cells": [
  {
   "cell_type": "markdown",
   "metadata": {
    "deletable": true,
    "editable": true,
    "nbgrader": {
     "checksum": "2f7364c9aed8f38d8c0ab7411ec6b44c",
     "grade": false,
     "grade_id": "cell-91437c64ff3e433f",
     "locked": true,
     "schema_version": 1,
     "solution": false
    }
   },
   "source": [
    "#  Working with Unlabeled Data – Clustering Analysis\n",
    "In the previous lectures, you have discovered supervised learning techniques to build machine learning models using data where the answer was already known : the class labels were already available in our training data. \n",
    "\n",
    "In this lecture, we will explore cluster analysis, a category of unsupervised learning techniques that allows us to discover hidden structures in data where we do not know the right answer upfront. \n",
    "\n",
    "The goal of clustering is to find a natural grouping in data such that items in the same cluster are more similar to each other than those from different clusters.\n",
    "\n",
    "Given its exploratory nature, clustering is an exciting topic. \n",
    "\n",
    "You will learn about the following concepts that can help you to organize data into meaningful structures: You will be introduced to 3 types of clustering techniques:\n",
    "- Prototype-based clustering\n",
    " - Finding centers of similarity using the popular k-means algorithm\n",
    "- Hierarchical clustering \n",
    " - Using a bottom-up approach to build hierarchical cluster trees\n",
    "- Density-based clustering\n",
    " - Identifying arbitrary shapes of objects using a density-based clustering approach\n",
    "\n"
   ]
  },
  {
   "cell_type": "markdown",
   "metadata": {
    "deletable": true,
    "editable": true,
    "nbgrader": {
     "checksum": "63ea05ea329f3108a0da83e182730306",
     "grade": false,
     "grade_id": "cell-d27382826f5f9501",
     "locked": true,
     "schema_version": 1,
     "solution": false
    }
   },
   "source": [
    "# Prototype-based clustering\n",
    "A prototype-based clustering means that each cluster is represented by a prototype. A prototype can be:\n",
    "- the centroid (average) of similar points with continuous features\n",
    "- the medoid (the most representative or most frequently occurring point) in the case of categorical features.\n",
    "\n",
    "\n",
    "The k-means algorithm belongs to the category of prototype-based clustering.\n",
    "\n",
    "## Grouping objects by similarity using k-means\n",
    " k-means algorithm is extremely easy to implement but is also computationally very efficient compared to other clustering algorithms, which might explain its popularity.\n",
    " \n",
    "### Algorithm\n",
    "Our goal is to group the samples based on their feature similarities. k-means algorithm can be summarized by the following four steps:\n",
    "1. Randomly pick k centroids from the sample points as initial cluster centers.\n",
    "2. Assign each sample to the nearest centroid $\\mu(j), j∈{1,...,k}$.\n",
    "3. Move the centroids to the center of the samples that were assigned to it.\n",
    "4. Repeat steps 2 and 3 until the cluster assignments do not change or a user-defined tolerance or a maximum number of iterations is reached.\n",
    "\n",
    "### How to measure similarity between samples?\n",
    "Similarity can be defined as the opposite of distance. The lower the distance between two points, the more similar they are.\n",
    "Commonly used distance for clustering samples with continuous features is the squared Euclidean distance between two points x and y in m-dimensional space:\n",
    "\n",
    "$\n",
    "d(x,y)^{2} =  \\sum\\limits_{j=1}^{m}{\\left( x^{(j)} - y^{(j)} \\right)}^{2} = \\left\\lVert x-y\\right\\rVert_{2}^{2}\n",
    "$\n",
    "\n",
    "\n",
    "$m$ is the number of features (attributes). $j$ referes to the $j^{th}$ feature column.\n",
    "\n",
    "Based on this Euclidean distance metric, we can describe the k-means algorithm\n",
    "as a simple optimization problem, an iterative approach for minimizing the within-cluster sum of squared errors (SSE), which is sometimes also called cluster inertia:\n",
    "\n",
    "$\n",
    "SSE =  \\sum\\limits_{i=1}^{n}{\n",
    "\\sum\\limits_{j=1}^{k}{\n",
    "w^{(i,j)}\n",
    "\\left\\lVert (x^{(i)} - \\mu^{(j)}) \\right\\rVert_{2}^{2} }\n",
    "}\n",
    "$  \n",
    "\n",
    "- $\\mu( j )$ is the representative point (centroid) for cluster $j$ \n",
    "- $w^{(i,j)}$ = 1 if the sample $x(i)$ is in cluster $j$; $w^{(i,j)} = 0$ otherwise.\n",
    "\n",
    "\n",
    "Lets implement k-means algorithm.\n",
    "\n",
    "### Dataset generation\n",
    "We will first generate a dataset that will serve our playground for k-means. \n",
    "To do this we use scikit-learn <a href=\"https://scikit-learn.org/stable/modules/generated/sklearn.datasets.make_blobs.html\">make_blobs</a>.\n",
    "\n",
    "- n_samples : int or array-like, optional (default=100) - \n",
    "If int, it is the total number of points equally divided among clusters. If array-like, each element of the sequence indicates the number of samples per cluster.\n",
    "- n_features : int, optional (default=2) - \n",
    "The number of features for each sample.\n",
    "- centers : int or array of shape [n_centers, n_features], optional (default=None) - The number of centers to generate, or the fixed center locations. If n_samples is an int and centers is None, 3 centers are generated. If n_samples is array-like, centers must be either None or an array of length equal to the length of n_samples.\n",
    "- cluster_std : float or sequence of floats, optional (default=1.0) - \n",
    "The standard deviation of the clusters.\n",
    "- center_box : pair of floats (min, max), optional (default=(-10.0, 10.0)) - \n",
    "The bounding box for each cluster center when centers are generated at random.\n",
    "- shuffle : boolean, optional (default=True) - \n",
    "Shuffle the samples.\n",
    "- random_state : int, RandomState instance or None (default) - \n",
    "Determines random number generation for dataset creation. Pass an int for reproducible output across multiple function calls. See Glossary.\n",
    "\n",
    "#### Import the necessary libraries\n",
    "Import numpy, pandas, matplotlib, scipy, and sklearn."
   ]
  },
  {
   "cell_type": "code",
   "execution_count": 64,
   "metadata": {
    "deletable": false,
    "nbgrader": {
     "checksum": "17c08ffc7ec935b8a9378dffffb1f7f1",
     "grade": false,
     "grade_id": "cell-0af2ea547f12042b",
     "locked": false,
     "schema_version": 1,
     "solution": true
    }
   },
   "outputs": [],
   "source": [
    "import numpy as np\n",
    "import pandas as pd\n",
    "import matplotlib\n",
    "import scipy\n",
    "import sklearn"
   ]
  },
  {
   "cell_type": "markdown",
   "metadata": {
    "deletable": true,
    "editable": true,
    "nbgrader": {
     "checksum": "7bec015b90a57c0ebdd18ff256ae8bc0",
     "grade": false,
     "grade_id": "cell-63137e96d32ee1a1",
     "locked": true,
     "schema_version": 1,
     "solution": false
    }
   },
   "source": [
    "#### Create a dataset consisting of 150 randomly generated points that are roughly grouped into three regions.\n",
    "Use make_blobs. Set the following parameters:\n",
    "\n",
    "- n_samples=150, \n",
    "- n_features=2, \n",
    "- centers=3, \n",
    "- cluster_std=0.5, \n",
    "- shuffle=True, \n",
    "- random_state=0\n",
    "\n",
    "Put the dataset in the variables named X and y. X will contain the features, and y will contain the labels."
   ]
  },
  {
   "cell_type": "code",
   "execution_count": 65,
   "metadata": {},
   "outputs": [],
   "source": [
    "# raise NotImplementedError()"
   ]
  },
  {
   "cell_type": "code",
   "execution_count": 66,
   "metadata": {
    "deletable": false,
    "nbgrader": {
     "checksum": "f276ab303ef2e12062d1bbb18eb86b14",
     "grade": false,
     "grade_id": "cell-8c9b2f84aa9f98c2",
     "locked": false,
     "schema_version": 1,
     "solution": true
    }
   },
   "outputs": [],
   "source": [
    "from sklearn.datasets import make_blobs\n",
    "\n",
    "X, y = make_blobs(n_samples=150, n_features=2, centers = 3, cluster_std = 0.5, shuffle=True, random_state=0)"
   ]
  },
  {
   "cell_type": "markdown",
   "metadata": {
    "deletable": true,
    "editable": true,
    "nbgrader": {
     "checksum": "f64b97001b00446a730fced64555048b",
     "grade": false,
     "grade_id": "cell-4c84fca517ae49e4",
     "locked": true,
     "schema_version": 1,
     "solution": false
    }
   },
   "source": [
    "#### Visualize the data via a two-dimensional scatterplot\n",
    "- Use the function `scatter` from `matplotlib.pyplot`. <a href=\"https://matplotlib.org/api/_as_gen/matplotlib.pyplot.scatter.html\">Here is the documentation.</a>\n",
    "\n",
    "- Plot X[:,0] in function of X[:,1]"
   ]
  },
  {
   "cell_type": "code",
   "execution_count": 67,
   "metadata": {
    "deletable": false,
    "nbgrader": {
     "checksum": "a8e0b2ed393c9c7557177cd99fe1aabe",
     "grade": false,
     "grade_id": "cell-27caa0efcc1e4864",
     "locked": false,
     "schema_version": 1,
     "solution": true
    }
   },
   "outputs": [
    {
     "data": {
      "text/plain": [
       "<matplotlib.collections.PathCollection at 0x28faec490>"
      ]
     },
     "execution_count": 67,
     "metadata": {},
     "output_type": "execute_result"
    },
    {
     "data": {
      "image/png": "[encoded data removed]",
      "text/plain": [
       "<Figure size 640x480 with 1 Axes>"
      ]
     },
     "metadata": {},
     "output_type": "display_data"
    }
   ],
   "source": [
    "import matplotlib.pyplot as plt\n",
    "plt.scatter(X[:,0], X[:,1], c = y)"
   ]
  },
  {
   "cell_type": "markdown",
   "metadata": {
    "deletable": true,
    "editable": true,
    "nbgrader": {
     "checksum": "65797dfdab0350f71b288c4d48f9841f",
     "grade": false,
     "grade_id": "cell-e58e6ed34ebe159c",
     "locked": true,
     "schema_version": 1,
     "solution": false
    }
   },
   "source": [
    "### Fit kmeans to the data using the <a href=\"https://scikit-learn.org/stable/modules/generated/sklearn.cluster.KMeans.html\">Kmeans</a> class of scikit learn\n",
    "\n",
    "- import KMeans from sklearn.cluster  \n",
    "- `km= Kmeans(parametes)`\n",
    "\n",
    "Set the following parameters.\n",
    "\n",
    "- `n_clusters=3` set the number of desired clusters to 3\n",
    "- `init` : init : {‘k-means++’, ‘random’ or an ndarray} - Method for initialization, defaults to ‘k-means++’:\n",
    "  - `‘k-means++’` : selects initial cluster centers for k-mean clustering in a smart way to speed up convergence. \n",
    "  - `‘random’`: choose k observations (rows) at random from data for the initial centroids.\n",
    "  - If an ndarray is passed, it should be of shape (n_clusters, n_features) and gives the initial centers.\n",
    "\n",
    "- set `n_init=10` to run the k-means clustering algorithms 10 times independently with different random centroids to choose the final model as the one with the lowest SSE. \n",
    "- `max_iter`:  specify the maximum number of iterations for each single run (here, 300). Note that the k-means implementation in scikit-learn stops early if it converges before the maximum number of iterations is reached.\n",
    "- `random_state =0`\n",
    "\n",
    "However, it is possible that k-means does not reach convergence for a particular run, which can be problematic (computationally expensive) if we choose relatively large values for max_iter. One way to deal with convergence problems is to choose larger values for \n",
    "- `tol` which is a parameter that controls the tolerance with regard to the changes in the within-cluster sum-squared-error to declare convergence. \n",
    "- chose a tolerance of 1e-04 (=0.0001)."
   ]
  },
  {
   "cell_type": "code",
   "execution_count": 68,
   "metadata": {
    "deletable": false,
    "nbgrader": {
     "checksum": "7add53ce4fe50e58cc846a00df399830",
     "grade": false,
     "grade_id": "cell-4c878b439d9b5050",
     "locked": false,
     "schema_version": 1,
     "solution": true
    }
   },
   "outputs": [],
   "source": [
    "from sklearn.cluster import KMeans \n",
    "km = KMeans(n_clusters=3, init='k-means++', n_init=10, max_iter=300, random_state=0, tol=0.0001)"
   ]
  },
  {
   "cell_type": "markdown",
   "metadata": {
    "deletable": true,
    "editable": true,
    "nbgrader": {
     "checksum": "2e3968d76e5e759ebabe24641be977ef",
     "grade": false,
     "grade_id": "cell-4834152136b569ba",
     "locked": true,
     "schema_version": 1,
     "solution": false
    }
   },
   "source": [
    "#### Checkout the predicted clusters:\n",
    "Use `km.fit_predict(features)`. Reminders you have put your features in variable `X`."
   ]
  },
  {
   "cell_type": "code",
   "execution_count": 69,
   "metadata": {
    "deletable": false,
    "nbgrader": {
     "checksum": "4d70a3da1f1729da6c18b4396374ddc6",
     "grade": false,
     "grade_id": "cell-04773ac8021bde8b",
     "locked": false,
     "schema_version": 1,
     "solution": true
    }
   },
   "outputs": [
    {
     "data": {
      "text/plain": [
       "array([1, 2, 2, 2, 1, 2, 2, 1, 0, 2, 1, 0, 0, 2, 2, 0, 0, 1, 0, 1, 2, 1,\n",
       "       2, 2, 0, 1, 1, 2, 0, 1, 0, 0, 0, 0, 2, 1, 1, 1, 2, 2, 0, 0, 2, 1,\n",
       "       1, 1, 0, 2, 0, 2, 1, 2, 2, 1, 1, 0, 2, 1, 0, 2, 0, 0, 0, 0, 2, 0,\n",
       "       2, 1, 2, 2, 2, 1, 1, 2, 1, 2, 2, 0, 0, 2, 1, 1, 2, 2, 1, 1, 1, 0,\n",
       "       0, 1, 1, 2, 1, 2, 1, 2, 0, 0, 1, 1, 1, 1, 0, 1, 1, 2, 0, 2, 2, 2,\n",
       "       0, 2, 1, 0, 2, 0, 2, 2, 0, 0, 2, 1, 2, 2, 1, 1, 0, 1, 0, 0, 0, 0,\n",
       "       1, 0, 0, 0, 2, 0, 1, 0, 2, 2, 1, 1, 0, 0, 0, 0, 1, 1], dtype=int32)"
      ]
     },
     "execution_count": 69,
     "metadata": {},
     "output_type": "execute_result"
    }
   ],
   "source": [
    "km.fit_predict(X)"
   ]
  },
  {
   "cell_type": "markdown",
   "metadata": {
    "deletable": true,
    "editable": true,
    "nbgrader": {
     "checksum": "16d022d1500c9d60dc8a8d392c6dd86a",
     "grade": false,
     "grade_id": "cell-d3098f1a7481c11a",
     "locked": true,
     "schema_version": 1,
     "solution": false
    }
   },
   "source": [
    "#### What are the Predicted clusters' centers (centroids)?"
   ]
  },
  {
   "cell_type": "code",
   "execution_count": 70,
   "metadata": {
    "deletable": true,
    "editable": true,
    "nbgrader": {
     "checksum": "eada3a7d0b6a27620d389904657ac7ae",
     "grade": false,
     "grade_id": "cell-092df542c922b370",
     "locked": true,
     "schema_version": 1,
     "solution": false
    }
   },
   "outputs": [
    {
     "data": {
      "text/plain": [
       "array([[-1.5947298 ,  2.92236966],\n",
       "       [ 2.06521743,  0.96137409],\n",
       "       [ 0.9329651 ,  4.35420712]])"
      ]
     },
     "execution_count": 70,
     "metadata": {},
     "output_type": "execute_result"
    }
   ],
   "source": [
    "km.cluster_centers_"
   ]
  },
  {
   "cell_type": "markdown",
   "metadata": {
    "deletable": true,
    "editable": true,
    "nbgrader": {
     "checksum": "303eb9a5d7896acb1688b81dcd94f847",
     "grade": false,
     "grade_id": "cell-7fa07cf6a2755bf1",
     "locked": true,
     "schema_version": 1,
     "solution": false
    }
   },
   "source": [
    "#### Get the labels found of the K-means"
   ]
  },
  {
   "cell_type": "code",
   "execution_count": 71,
   "metadata": {
    "deletable": true,
    "editable": true,
    "nbgrader": {
     "checksum": "5110c87597fc24dc0ae918db2f59889c",
     "grade": false,
     "grade_id": "cell-32a76380b1b98f19",
     "locked": true,
     "schema_version": 1,
     "solution": false
    }
   },
   "outputs": [
    {
     "data": {
      "text/plain": [
       "array([1, 2, 2, 2, 1, 2, 2, 1, 0, 2, 1, 0, 0, 2, 2, 0, 0, 1, 0, 1, 2, 1,\n",
       "       2, 2, 0, 1, 1, 2, 0, 1, 0, 0, 0, 0, 2, 1, 1, 1, 2, 2, 0, 0, 2, 1,\n",
       "       1, 1, 0, 2, 0, 2, 1, 2, 2, 1, 1, 0, 2, 1, 0, 2, 0, 0, 0, 0, 2, 0,\n",
       "       2, 1, 2, 2, 2, 1, 1, 2, 1, 2, 2, 0, 0, 2, 1, 1, 2, 2, 1, 1, 1, 0,\n",
       "       0, 1, 1, 2, 1, 2, 1, 2, 0, 0, 1, 1, 1, 1, 0, 1, 1, 2, 0, 2, 2, 2,\n",
       "       0, 2, 1, 0, 2, 0, 2, 2, 0, 0, 2, 1, 2, 2, 1, 1, 0, 1, 0, 0, 0, 0,\n",
       "       1, 0, 0, 0, 2, 0, 1, 0, 2, 2, 1, 1, 0, 0, 0, 0, 1, 1], dtype=int32)"
      ]
     },
     "execution_count": 71,
     "metadata": {},
     "output_type": "execute_result"
    }
   ],
   "source": [
    "km.labels_"
   ]
  },
  {
   "cell_type": "markdown",
   "metadata": {
    "deletable": true,
    "editable": true,
    "nbgrader": {
     "checksum": "66c6cba7793305da348d391d9f3bbce3",
     "grade": false,
     "grade_id": "cell-1e92e9eff84f0dd9",
     "locked": true,
     "schema_version": 1,
     "solution": false
    }
   },
   "source": [
    "### Find the center of clusters (value of centroids)"
   ]
  },
  {
   "cell_type": "code",
   "execution_count": 72,
   "metadata": {
    "deletable": true,
    "editable": true,
    "nbgrader": {
     "checksum": "6586f7c73e2ee5b5d1c8cdf0fd00216c",
     "grade": false,
     "grade_id": "cell-d2e4e2917248b235",
     "locked": true,
     "schema_version": 1,
     "solution": false
    }
   },
   "outputs": [
    {
     "data": {
      "text/plain": [
       "array([[-1.5947298 ,  2.92236966],\n",
       "       [ 2.06521743,  0.96137409],\n",
       "       [ 0.9329651 ,  4.35420712]])"
      ]
     },
     "execution_count": 72,
     "metadata": {},
     "output_type": "execute_result"
    }
   ],
   "source": [
    "km.cluster_centers_\n"
   ]
  },
  {
   "cell_type": "code",
   "execution_count": 73,
   "metadata": {},
   "outputs": [],
   "source": [
    "y_km = km.labels_"
   ]
  },
  {
   "cell_type": "markdown",
   "metadata": {
    "deletable": true,
    "editable": true,
    "nbgrader": {
     "checksum": "7232ce297a1bc4dfa04c6c598771fdbf",
     "grade": false,
     "grade_id": "cell-ea533d546c8ae558",
     "locked": true,
     "schema_version": 1,
     "solution": false
    }
   },
   "source": [
    "### Plot the results of clustering"
   ]
  },
  {
   "cell_type": "code",
   "execution_count": 74,
   "metadata": {
    "deletable": true,
    "editable": true,
    "nbgrader": {
     "checksum": "f7e376ee7551b0d05e8bed2bc8ab9afb",
     "grade": false,
     "grade_id": "cell-203319ca7fedd55e",
     "locked": true,
     "schema_version": 1,
     "solution": false
    }
   },
   "outputs": [
    {
     "data": {
      "image/png": "[encoded data removed]",
      "text/plain": [
       "<Figure size 640x480 with 1 Axes>"
      ]
     },
     "metadata": {},
     "output_type": "display_data"
    }
   ],
   "source": [
    "plt.scatter(X[y_km==0,0], \n",
    "            X[y_km==0,1], \n",
    "            s=50, \n",
    "            c='lightgreen', \n",
    "            marker='s', \n",
    "            label='cluster 1')\n",
    "plt.scatter(X[y_km==1,0], \n",
    "            X[y_km==1,1], \n",
    "            s=50, \n",
    "            c='orange', \n",
    "            marker='o', \n",
    "            label='cluster 2')\n",
    "plt.scatter(X[y_km==2,0], \n",
    "            X[y_km==2,1], \n",
    "            s=50, \n",
    "            c='lightblue', \n",
    "            marker='v', \n",
    "            label='cluster 3')\n",
    "plt.scatter(km.cluster_centers_[:,0], \n",
    "            km.cluster_centers_[:,1], \n",
    "            s=250, \n",
    "            marker='*', \n",
    "            c='red', \n",
    "            label='centroids')\n",
    "plt.legend()\n",
    "plt.grid()\n",
    "plt.tight_layout()\n",
    "plt.show()"
   ]
  },
  {
   "cell_type": "markdown",
   "metadata": {
    "deletable": true,
    "editable": true,
    "nbgrader": {
     "checksum": "626047e7b4bce3f52ccd00180b3110fb",
     "grade": false,
     "grade_id": "cell-f9da8ef3a7d6b495",
     "locked": true,
     "schema_version": 1,
     "solution": false
    }
   },
   "source": [
    "### Predict the cluster of a new data point:\n",
    "Use the `predict` function."
   ]
  },
  {
   "cell_type": "code",
   "execution_count": 75,
   "metadata": {
    "deletable": true,
    "editable": true,
    "nbgrader": {
     "checksum": "8f9529e5ce75c032a5c2fb1754b01e5c",
     "grade": false,
     "grade_id": "cell-e101b3bada4dddd6",
     "locked": true,
     "schema_version": 1,
     "solution": false
    }
   },
   "outputs": [],
   "source": [
    "sample_test=np.array([1.0,3.0])\n",
    "second_test=sample_test.reshape(1, -1)"
   ]
  },
  {
   "cell_type": "code",
   "execution_count": 76,
   "metadata": {
    "deletable": false,
    "nbgrader": {
     "checksum": "f8be9c0d4efa28fb8d7e562215d3cf17",
     "grade": false,
     "grade_id": "cell-07d543a12587dfaf",
     "locked": false,
     "schema_version": 1,
     "solution": true
    }
   },
   "outputs": [
    {
     "data": {
      "text/plain": [
       "array([1, 2, 2, 2, 1, 2, 2, 1, 0, 2, 1, 0, 0, 2, 2, 0, 0, 1, 0, 1, 2, 1,\n",
       "       2, 2, 0, 1, 1, 2, 0, 1, 0, 0, 0, 0, 2, 1, 1, 1, 2, 2, 0, 0, 2, 1,\n",
       "       1, 1, 0, 2, 0, 2, 1, 2, 2, 1, 1, 0, 2, 1, 0, 2, 0, 0, 0, 0, 2, 0,\n",
       "       2, 1, 2, 2, 2, 1, 1, 2, 1, 2, 2, 0, 0, 2, 1, 1, 2, 2, 1, 1, 1, 0,\n",
       "       0, 1, 1, 2, 1, 2, 1, 2, 0, 0, 1, 1, 1, 1, 0, 1, 1, 2, 0, 2, 2, 2,\n",
       "       0, 2, 1, 0, 2, 0, 2, 2, 0, 0, 2, 1, 2, 2, 1, 1, 0, 1, 0, 0, 0, 0,\n",
       "       1, 0, 0, 0, 2, 0, 1, 0, 2, 2, 1, 1, 0, 0, 0, 0, 1, 1], dtype=int32)"
      ]
     },
     "execution_count": 76,
     "metadata": {},
     "output_type": "execute_result"
    }
   ],
   "source": [
    "km.predict(X)"
   ]
  },
  {
   "cell_type": "markdown",
   "metadata": {
    "deletable": true,
    "editable": true,
    "nbgrader": {
     "checksum": "d0060f46e79d28fa444e6847ca7dd020",
     "grade": false,
     "grade_id": "cell-6f49a8e0a95495a4",
     "locked": true,
     "schema_version": 1,
     "solution": false
    }
   },
   "source": [
    "## k-means++\n",
    "The classic k-means algorithm uses a random seed to place the initial centroids. So, if a centroid is initialized too far, it might end up with no points associated with it and at the same time more than one clusters might end up linked with a single centroid. Similarly, more than one centroids might be initialized into the same cluster resulting in poor clustering or slow convergence. For example, consider the images shown below.\n",
    "\n",
    "A poor initialisation of centroids resulted in poor clustering.\n",
    "![poor](img/poorClustering.png)\n",
    "\n",
    "![ideal](img/idealClustering.png)\n",
    "\n",
    "\n",
    "One way to address this is to use k-means++ which is an algorithm for choosing the initial values (or \"seeds\") for the k-means clustering algorithm.\n",
    "\n",
    "This algorithm ensures a smarter initialization of the centroids and improves the quality of the clustering. Apart from initialization, the rest of the algorithm is the same as the standard K-means algorithm. That is K-means++ is the standard K-means algorithm coupled with a smarter initialization of the centroids.\n",
    "\n",
    "\n",
    "\n",
    "**Initialization algorithm:**\n",
    "\n",
    "The steps involved are:\n",
    "\n",
    "- Randomly select the first centroid from the data points.\n",
    "- For each data point compute its distance from the nearest, previously choosen centroid.\n",
    "- Select the next centroid from the data points such that as the point having maximum distance from the nearest centroid \n",
    "- Repeat steps 2 and 3 untill k centroids have been sampled\n",
    "\n",
    "**Intuition:**\n",
    "\n",
    "By following the above procedure for initialization, we **pick up centroids which are far away from one another**. This increases the chances of initially picking up centroids that lie in different clusters. Also, since centroids are picked up from the data points, each centroid has some data points associated with it at the end.\n",
    "\n",
    "**Reference**\n",
    "\n",
    "(D. Arthur and S. Vassilvitskii. k-means++: The Advantages of Careful Seeding. In Proceedings of the eighteenth annual ACM-SIAM symposium on Discrete algorithms, pages 1027–1035. Society for Industrial and Applied Mathematics, 2007).\n",
    "\n",
    "**Implementation** \n",
    "This link includes an implementation of the kmeans++ algorithm.\n",
    "https://www.geeksforgeeks.org/ml-k-means-algorithm/\n"
   ]
  },
  {
   "cell_type": "markdown",
   "metadata": {
    "deletable": true,
    "editable": true,
    "nbgrader": {
     "checksum": "78ae69504809c6b5fd848cf26c49fbea",
     "grade": false,
     "grade_id": "cell-28d0512d3603a9dd",
     "locked": true,
     "schema_version": 1,
     "solution": false
    }
   },
   "source": [
    "To use k-means++ with scikit-learn's KMeans object, we just need to set the `init` parameter to `\"k-means++\"` (the default setting) instead of `\"random\"`."
   ]
  },
  {
   "cell_type": "markdown",
   "metadata": {
    "deletable": true,
    "editable": true,
    "nbgrader": {
     "checksum": "8d66a8612038e11b670c7e940b34a8b7",
     "grade": false,
     "grade_id": "cell-04267f8542b2a8c5",
     "locked": true,
     "schema_version": 1,
     "solution": false
    }
   },
   "source": [
    "**Pros of Kmeans**: \n",
    "- k-means is very good at identifying clusters of spherical shape\n",
    "\n",
    "**Cons**: \n",
    "- we have to specify the number of clusters k a priori. An inappropriate choice for k can result in poor clustering performance. \n",
    "\n",
    "In the following, we will discuss the **elbow method** and **silhouette plots**, which are:\n",
    "- useful techniques to evaluate the quality of a clustering to help us determine the optimal number of clusters k.\n",
    "\n"
   ]
  },
  {
   "cell_type": "markdown",
   "metadata": {
    "deletable": true,
    "editable": true,
    "nbgrader": {
     "checksum": "6ff2b17b6c721adc81a9e502c79f359a",
     "grade": false,
     "grade_id": "cell-5acc9faaa7981c83",
     "locked": true,
     "schema_version": 1,
     "solution": false
    }
   },
   "source": [
    "## Elbow method: find the optimal number of clusters \n",
    "\n",
    "One of the **main challenges in unsupervised learning** is that **we do not know the definitive answer**. We don't have the ground truth class labels in our dataset that allow us to apply the techniques that we used for Model Evaluation and Hyperparameter Tuning, in order to evaluate the performance of a supervised model. \n",
    "\n",
    "Thus, in order **to quantify the quality of clustering**, we need to use intrinsic metrics—such as the **within-cluster SSE (distortion)** to **compare the performance of different k-means clusterings**. \n",
    "\n",
    "### Print the distortion.\n",
    "\n",
    "SSE is already accessible via the `inertia_` attribute after fitting a KMeans model:"
   ]
  },
  {
   "cell_type": "code",
   "execution_count": 77,
   "metadata": {
    "deletable": false,
    "nbgrader": {
     "checksum": "879d877e2760a09a11e52e7b2d35aa4d",
     "grade": false,
     "grade_id": "cell-7ae36aeddd073789",
     "locked": false,
     "schema_version": 1,
     "solution": true
    }
   },
   "outputs": [
    {
     "data": {
      "text/plain": [
       "72.476016709967"
      ]
     },
     "execution_count": 77,
     "metadata": {},
     "output_type": "execute_result"
    }
   ],
   "source": [
    "km.inertia_"
   ]
  },
  {
   "cell_type": "markdown",
   "metadata": {
    "deletable": true,
    "editable": true,
    "nbgrader": {
     "checksum": "1323ff151210c7d8d57fbb5fe0d8c6be",
     "grade": false,
     "grade_id": "cell-7de58c99cdce804a",
     "locked": true,
     "schema_version": 1,
     "solution": false
    }
   },
   "source": [
    "**Based on the within-cluster SSE, we can use a graphical tool, the so-called elbow method, to estimate the optimal number of clusters k for a given task**. \n",
    "\n",
    "Intuitively, we can say that, **if k increases**, the **distortion will decrease**. This is because the samples will be closer to the centroids they are assigned to. \n",
    "\n",
    "The idea behind the elbow method:\n",
    "- **identify the value of k where the distortion begins to decrease with not much significant change**.\n",
    "\n",
    "### Plot distortion for different values of k:\n",
    "- Make a loop with different values of `k`\n",
    "- fit kmeans\n",
    "- store the distortion in a variable `distortions`\n",
    "- plot `k`in function of distortions (use `marker = 'o'` to clearly see the k's positions)"
   ]
  },
  {
   "cell_type": "code",
   "execution_count": 78,
   "metadata": {
    "deletable": false,
    "nbgrader": {
     "checksum": "8098ee7a895f86a64b54b2f7344c30d9",
     "grade": false,
     "grade_id": "cell-7907c9f30375bca2",
     "locked": false,
     "schema_version": 1,
     "solution": true
    }
   },
   "outputs": [
    {
     "data": {
      "text/plain": [
       "[<matplotlib.lines.Line2D at 0x28fbc8050>]"
      ]
     },
     "execution_count": 78,
     "metadata": {},
     "output_type": "execute_result"
    },
    {
     "data": {
      "image/png": "[encoded data removed]",
      "text/plain": [
       "<Figure size 640x480 with 1 Axes>"
      ]
     },
     "metadata": {},
     "output_type": "display_data"
    }
   ],
   "source": [
    "distortions = []\n",
    "for k in range(2,11):\n",
    "    km2 = KMeans(n_clusters=k, init='k-means++', n_init=10, max_iter=300, random_state=0, tol=0.0001)\n",
    "    km2.fit(X)\n",
    "    distortions.append(km2.inertia_)\n",
    "    \n",
    "plt.plot(range(2,11), distortions, marker = 'o', linestyle = \"-.\")\n",
    "    "
   ]
  },
  {
   "cell_type": "markdown",
   "metadata": {
    "deletable": true,
    "editable": true,
    "nbgrader": {
     "checksum": "c050c003485ac3c87b062e0fbe8f1a9b",
     "grade": false,
     "grade_id": "cell-56b3a421aa662970",
     "locked": true,
     "schema_version": 1,
     "solution": false
    }
   },
   "source": [
    "### Find the optimal k from the graph"
   ]
  },
  {
   "cell_type": "markdown",
   "metadata": {
    "deletable": false,
    "nbgrader": {
     "checksum": "f413c1f5fe9aac5c6c57734838edf153",
     "grade": true,
     "grade_id": "cell-228c5a4649e737b1",
     "locked": false,
     "points": 0,
     "schema_version": 1,
     "solution": true
    }
   },
   "source": [
    "YOUR ANSWER HERE"
   ]
  },
  {
   "cell_type": "markdown",
   "metadata": {
    "deletable": true,
    "editable": true,
    "nbgrader": {
     "checksum": "4a2cb3cb2626107910591143ced16825",
     "grade": false,
     "grade_id": "cell-ef3a13adc668e0aa",
     "locked": true,
     "schema_version": 1,
     "solution": false
    }
   },
   "source": [
    "## Quantifying the quality of clustering  via silhouette plots\n",
    "Another intrinsic metric to evaluate the quality of a clustering is silhouette analysis.\n",
    "Silhouette analysis can be used as a **graphical tool to plot a measure of how well the data points belong to the cluster** (how similar the data point is to its cluster compared to other clusters). \n",
    "\n",
    "\n",
    "To calculate the silhouette coefficient of a single sample in our dataset, we can apply the following three steps:\n",
    "1. Calculate the **cluster cohesion** $a^{(i)}$ as the average distance between a sample $x^{(i)}$ and all other points in the same cluster.\n",
    "2. Calculate the **cluster separation** $b^{(i)}$ from the next closest cluster as the average distance between the sample $x^{(i)}$ and all samples in the nearest cluster.\n",
    "3. Calculate the silhouette $s^{(i)}$ as the difference between cluster cohesion and separation divided by the greater of the two.\n",
    "\n",
    "$\n",
    "s^{(i)} = \\frac{b^{(i)} −a^{(i)}}{max( a^{(i)},b^{(i)})} \n",
    "$\n",
    "\n",
    "\n",
    "- $-1= < s <= 1$. \n",
    " \n",
    "- Based on the preceding formula, we can see that the silhouette coefficient is 0 if the cluster separation\n",
    "and cohesion are equal. \n",
    "- we get close to an ideal silhouette coefficient of 1 if $b^{(i)} >> a^{(i)}$ , since $b^{(i)}$ quantifies how dissimilar a sample is to other clusters, and $a^{(i)}$ tells us how similar it is to the other samples in its own cluster, respectively.\n",
    "\n",
    "Watch this if you prefer a visual explanation:\n",
    "\n",
    "https://www.youtube.com/watch?v=_j37uExzbXk\n",
    "\n"
   ]
  },
  {
   "cell_type": "markdown",
   "metadata": {
    "deletable": true,
    "editable": true,
    "nbgrader": {
     "checksum": "25d048d882de75a40f9c0a751fee1dd9",
     "grade": false,
     "grade_id": "cell-c2afe67308fdbd88",
     "locked": true,
     "schema_version": 1,
     "solution": false
    }
   },
   "source": [
    "### Compute the silhouette score of each sample\n",
    "- Import `silhouette_samples` from scikit-learn's metric module\n",
    "- fit kmeans with k=3\n",
    "- call `silhouette_samples(X, y, metric='euclidean')`\n"
   ]
  },
  {
   "cell_type": "code",
   "execution_count": 86,
   "metadata": {
    "deletable": false,
    "nbgrader": {
     "checksum": "3e058cbd22bbca2ed08119c60c39dbe7",
     "grade": false,
     "grade_id": "cell-5bbd1ad8c886405a",
     "locked": false,
     "schema_version": 1,
     "solution": true
    }
   },
   "outputs": [],
   "source": [
    "from sklearn.metrics import silhouette_samples\n",
    "\n",
    "y_km = KMeans(n_clusters=3, init='k-means++', n_init=10, max_iter=300, random_state=0, tol=0.0001).fit(X).predict(X)\n",
    "silhouette_vals = silhouette_samples(X,y_km, metric='euclidean')"
   ]
  },
  {
   "cell_type": "markdown",
   "metadata": {
    "deletable": true,
    "editable": true,
    "nbgrader": {
     "checksum": "107b40f349d25a8dd134e50db7f2b215",
     "grade": false,
     "grade_id": "cell-1388c73abbd4cc21",
     "locked": true,
     "schema_version": 1,
     "solution": false
    }
   },
   "source": [
    "### Compute the mean Silhouette Coefficient of all samples.\n",
    "Use `silhouette_score` from sklearn.metrics module.\n"
   ]
  },
  {
   "cell_type": "code",
   "execution_count": 87,
   "metadata": {
    "deletable": false,
    "nbgrader": {
     "checksum": "14d229a9920d24496a2d6b75c2135103",
     "grade": false,
     "grade_id": "cell-4f3cdae49d14b366",
     "locked": false,
     "schema_version": 1,
     "solution": true
    }
   },
   "outputs": [
    {
     "data": {
      "text/plain": [
       "0.7143417887288687"
      ]
     },
     "execution_count": 87,
     "metadata": {},
     "output_type": "execute_result"
    }
   ],
   "source": [
    "from sklearn.metrics import silhouette_score\n",
    "silhouette_score(X, y_km)"
   ]
  },
  {
   "cell_type": "markdown",
   "metadata": {
    "deletable": true,
    "editable": true,
    "nbgrader": {
     "checksum": "00f7864339162dafbb3f3664b4a66b1b",
     "grade": false,
     "grade_id": "cell-7d207d4df25c5156",
     "locked": true,
     "schema_version": 1,
     "solution": false
    }
   },
   "source": [
    "### Create a plot of the silhouette coefficients for a k-means clustering with k = 3 \n",
    "Use <a href=\"https://pandas.pydata.org/pandas-docs/stable/reference/api/pandas.DataFrame.plot.barh.html\">`barh`</a>\n",
    " "
   ]
  },
  {
   "cell_type": "code",
   "execution_count": 89,
   "metadata": {
    "deletable": true,
    "editable": true,
    "nbgrader": {
     "checksum": "d2fe3edf96c4acd705eba1f0d8ee9559",
     "grade": false,
     "grade_id": "cell-6c029fc9f7355c2a",
     "locked": true,
     "schema_version": 1,
     "solution": false
    }
   },
   "outputs": [
    {
     "data": {
      "image/png": "[encoded data removed]",
      "text/plain": [
       "<Figure size 640x480 with 1 Axes>"
      ]
     },
     "metadata": {},
     "output_type": "display_data"
    }
   ],
   "source": [
    "import matplotlib.cm as cm\n",
    "\n",
    "#GET THE CLUSTERS FROM THE PREDICTED VECTOR y-km\n",
    "\n",
    "cluster_labels = np.unique(y_km)\n",
    "n_clusters = cluster_labels.shape[0]\n",
    "\n",
    "y_ax_lower, y_ax_upper = 0, 0\n",
    "yticks = []\n",
    "\n",
    "#for each cluster, get the silhouette values and sort them\n",
    "for i, c in enumerate(cluster_labels):\n",
    "    c_silhouette_vals = silhouette_vals[y_km == c]\n",
    "    #sort them\n",
    "    c_silhouette_vals.sort()\n",
    "    \n",
    "    y_ax_upper += len(c_silhouette_vals)\n",
    "    \n",
    "    #specify the color with respect to the number of clusters\n",
    "    color = cm.jet(i / n_clusters)\n",
    "    plt.barh(range(y_ax_lower, y_ax_upper), c_silhouette_vals, height=1.0, \n",
    "            edgecolor='none', color=color)\n",
    "\n",
    "    yticks.append((y_ax_lower + y_ax_upper) / 2)\n",
    "    y_ax_lower += len(c_silhouette_vals)\n",
    "\n",
    "#compute and plot the average silhouette\n",
    "silhouette_avg = silhouette_score(X,y_km)\n",
    "\n",
    "\n",
    "plt.axvline(silhouette_avg, color=\"red\", linestyle=\"--\") \n",
    "\n",
    "plt.yticks(yticks, cluster_labels + 1)\n",
    "plt.ylabel('Cluster')\n",
    "plt.xlabel('Silhouette coefficient')\n",
    "\n",
    "plt.tight_layout()\n",
    "plt.show()\n"
   ]
  },
  {
   "cell_type": "markdown",
   "metadata": {
    "deletable": true,
    "editable": true,
    "nbgrader": {
     "checksum": "026bc7f0a25cd7a82a197c057088a4f4",
     "grade": false,
     "grade_id": "cell-ccebb6ffa6b40714",
     "locked": true,
     "schema_version": 1,
     "solution": false
    }
   },
   "source": [
    "### Comparison to \"bad\" clustering: Use `k = 2`"
   ]
  },
  {
   "cell_type": "code",
   "execution_count": 90,
   "metadata": {
    "deletable": true,
    "editable": true,
    "nbgrader": {
     "checksum": "d2536d011da50d00b20f4017acad09a8",
     "grade": false,
     "grade_id": "cell-69cf47c7a6340650",
     "locked": true,
     "schema_version": 1,
     "solution": false
    }
   },
   "outputs": [
    {
     "data": {
      "image/png": "[encoded data removed]",
      "text/plain": [
       "<Figure size 640x480 with 1 Axes>"
      ]
     },
     "metadata": {},
     "output_type": "display_data"
    }
   ],
   "source": [
    "km = KMeans(n_clusters=2, \n",
    "            init='k-means++', \n",
    "            n_init=10, \n",
    "            max_iter=300,\n",
    "            tol=1e-04,\n",
    "            random_state=0)\n",
    "y_km = km.fit_predict(X)\n",
    "\n",
    "plt.scatter(X[y_km==0,0], \n",
    "            X[y_km==0,1], \n",
    "            s=50, \n",
    "            c='lightgreen', \n",
    "            marker='s', \n",
    "            label='cluster 1')\n",
    "plt.scatter(X[y_km==1,0], \n",
    "            X[y_km==1,1], \n",
    "            s=50, \n",
    "            c='orange', \n",
    "            marker='o', \n",
    "            label='cluster 2')\n",
    "\n",
    "plt.scatter(km.cluster_centers_[:,0], km.cluster_centers_[:,1], s=250, marker='*', c='red', label='centroids')\n",
    "plt.legend()\n",
    "plt.grid()\n",
    "plt.tight_layout()\n",
    "plt.show()"
   ]
  },
  {
   "cell_type": "code",
   "execution_count": 91,
   "metadata": {
    "deletable": true,
    "editable": true,
    "nbgrader": {
     "checksum": "c9c41f872a57545e6c15087476fb5599",
     "grade": false,
     "grade_id": "cell-1d6a2528a93056e4",
     "locked": true,
     "schema_version": 1,
     "solution": false
    }
   },
   "outputs": [
    {
     "data": {
      "image/png": "[encoded data removed]",
      "text/plain": [
       "<Figure size 640x480 with 1 Axes>"
      ]
     },
     "metadata": {},
     "output_type": "display_data"
    }
   ],
   "source": [
    "cluster_labels = np.unique(y_km)\n",
    "n_clusters = cluster_labels.shape[0]\n",
    "silhouette_vals = silhouette_samples(X, y_km, metric='euclidean')\n",
    "y_ax_lower, y_ax_upper = 0, 0\n",
    "yticks = []\n",
    "for i, c in enumerate(cluster_labels):\n",
    "    c_silhouette_vals = silhouette_vals[y_km == c]\n",
    "    c_silhouette_vals.sort()\n",
    "    y_ax_upper += len(c_silhouette_vals)\n",
    "    color = cm.jet(i / n_clusters)\n",
    "    plt.barh(range(y_ax_lower, y_ax_upper), c_silhouette_vals, height=1.0, \n",
    "            edgecolor='none', color=color)\n",
    "\n",
    "    yticks.append((y_ax_lower + y_ax_upper) / 2)\n",
    "    y_ax_lower += len(c_silhouette_vals)\n",
    "    \n",
    "silhouette_avg = np.mean(silhouette_vals)\n",
    "plt.axvline(silhouette_avg, color=\"red\", linestyle=\"--\") \n",
    "\n",
    "plt.yticks(yticks, cluster_labels + 1)\n",
    "plt.ylabel('Cluster')\n",
    "plt.xlabel('Silhouette coefficient')\n",
    "\n",
    "plt.tight_layout()\n",
    "plt.show()"
   ]
  },
  {
   "cell_type": "markdown",
   "metadata": {
    "deletable": true,
    "editable": true,
    "nbgrader": {
     "checksum": "676cd5c09e319ad91166e422c46f0455",
     "grade": false,
     "grade_id": "cell-8ee744e820d10a00",
     "locked": true,
     "schema_version": 1,
     "solution": false
    }
   },
   "source": [
    "# Organizing clusters as a hierarchical tree\n",
    "\n",
    "Hierarchical clustering\n",
    "\n",
    "- **Divisive hierarchical clustering**: start with one cluster that encompasses all our samples, and iteratively split the cluster into smaller clusters until each cluster only contains one sample. \n",
    "\n",
    "- **Agglomerative clustering** takes the opposite approach: start with each sample as an individual cluster and merge the closest pairs of clusters until only one cluster remains.\n",
    "\n",
    "![dendrogram](img/dendrogram.png)\n",
    "\n",
    "\n",
    "\n",
    "If you prefer visual explanation:\n",
    "https://youtu.be/ijUMKMC4f9I\n",
    "\n",
    "**Algorithm of agglomerative clustering**\n",
    "1. Compute the distance matrix of all samples.\n",
    "2. Represent each data point as a singleton cluster.\n",
    "3. Merge the two closest clusters.\n",
    "4. Update the distance matrix using a linking algorithm.\n",
    "5. Repeat steps 2 to 4 until one single cluster remains.\n",
    "\n",
    "There are three standard linking algorithms to update the distance each time we find a new cluster: \n",
    "- <a href=\"https://www.youtube.com/watch?v=RdT7bhm1M3E\">Single linkage</a>: update with the minimum of the two merged clusters\n",
    "- <a href=\"https://www.youtube.com/watch?v=Cy3ci0Vqs3Y\">Complete linkage</a>: update with the maximum\n",
    "- <a href=\"https://www.youtube.com/watch?v=T1ObCUpjq3o\">Average linkage</a>: update with the average\n",
    "\n"
   ]
  },
  {
   "cell_type": "markdown",
   "metadata": {
    "deletable": true,
    "editable": true,
    "nbgrader": {
     "checksum": "89df56506e9780c9f5edc5ee6f312ece",
     "grade": false,
     "grade_id": "cell-ad4e4159f85f002c",
     "locked": true,
     "schema_version": 1,
     "solution": false
    }
   },
   "source": [
    "## Generate some random sample data to work with. \n",
    "The rows represent different observations (IDs 0 to 4), and the columns are the different features (X, Y, Z) of those samples:"
   ]
  },
  {
   "cell_type": "code",
   "execution_count": 92,
   "metadata": {
    "deletable": true,
    "editable": true,
    "nbgrader": {
     "checksum": "589682e7ce9565c646f154465f9a4ec3",
     "grade": false,
     "grade_id": "cell-453d05d16b87cb72",
     "locked": true,
     "schema_version": 1,
     "solution": false
    }
   },
   "outputs": [
    {
     "data": {
      "text/html": [
       "<div>\n",
       "<style scoped>\n",
       "    .dataframe tbody tr th:only-of-type {\n",
       "        vertical-align: middle;\n",
       "    }\n",
       "\n",
       "    .dataframe tbody tr th {\n",
       "        vertical-align: top;\n",
       "    }\n",
       "\n",
       "    .dataframe thead th {\n",
       "        text-align: right;\n",
       "    }\n",
       "</style>\n",
       "<table border=\"1\" class=\"dataframe\">\n",
       "  <thead>\n",
       "    <tr style=\"text-align: right;\">\n",
       "      <th></th>\n",
       "      <th>X</th>\n",
       "      <th>Y</th>\n",
       "      <th>Z</th>\n",
       "    </tr>\n",
       "  </thead>\n",
       "  <tbody>\n",
       "    <tr>\n",
       "      <th>ID_0</th>\n",
       "      <td>6.964692</td>\n",
       "      <td>2.861393</td>\n",
       "      <td>2.268515</td>\n",
       "    </tr>\n",
       "    <tr>\n",
       "      <th>ID_1</th>\n",
       "      <td>5.513148</td>\n",
       "      <td>7.194690</td>\n",
       "      <td>4.231065</td>\n",
       "    </tr>\n",
       "    <tr>\n",
       "      <th>ID_2</th>\n",
       "      <td>9.807642</td>\n",
       "      <td>6.848297</td>\n",
       "      <td>4.809319</td>\n",
       "    </tr>\n",
       "    <tr>\n",
       "      <th>ID_3</th>\n",
       "      <td>3.921175</td>\n",
       "      <td>3.431780</td>\n",
       "      <td>7.290497</td>\n",
       "    </tr>\n",
       "    <tr>\n",
       "      <th>ID_4</th>\n",
       "      <td>4.385722</td>\n",
       "      <td>0.596779</td>\n",
       "      <td>3.980443</td>\n",
       "    </tr>\n",
       "  </tbody>\n",
       "</table>\n",
       "</div>"
      ],
      "text/plain": [
       "             X         Y         Z\n",
       "ID_0  6.964692  2.861393  2.268515\n",
       "ID_1  5.513148  7.194690  4.231065\n",
       "ID_2  9.807642  6.848297  4.809319\n",
       "ID_3  3.921175  3.431780  7.290497\n",
       "ID_4  4.385722  0.596779  3.980443"
      ]
     },
     "execution_count": 92,
     "metadata": {},
     "output_type": "execute_result"
    }
   ],
   "source": [
    "import pandas as pd\n",
    "import numpy as np\n",
    "\n",
    "np.random.seed(123)\n",
    "\n",
    "variables = ['X', 'Y', 'Z']\n",
    "labels = ['ID_0','ID_1','ID_2','ID_3','ID_4']\n",
    "\n",
    "X = np.random.random_sample([5,3])*10\n",
    "df = pd.DataFrame(X, columns=variables, index=labels)\n",
    "df"
   ]
  },
  {
   "cell_type": "markdown",
   "metadata": {
    "deletable": true,
    "editable": true,
    "nbgrader": {
     "checksum": "1a924f2ec6b423ed5bfb64cabeb5aa63",
     "grade": false,
     "grade_id": "cell-480c40daffaea443",
     "locked": true,
     "schema_version": 1,
     "solution": false
    }
   },
   "source": [
    "## Compute a distance matrix\n",
    "To calculate the distance matrix as input for the hierarchical clustering algorithm, use the `pdist` function from SciPy's `spatial.distance` submodule.\n",
    "\n",
    "<a href=\"https://docs.scipy.org/doc/scipy/reference/generated/scipy.spatial.distance.pdist.html\">Here is the documentation</a>.\n",
    "\n",
    "Put your distance matrix in a variable `pdist_`."
   ]
  },
  {
   "cell_type": "code",
   "execution_count": 103,
   "metadata": {
    "deletable": false,
    "nbgrader": {
     "checksum": "c2459342ed1bb74a091897925f887fb1",
     "grade": false,
     "grade_id": "cell-235b331ce201572c",
     "locked": false,
     "schema_version": 1,
     "solution": true
    }
   },
   "outputs": [],
   "source": [
    "from scipy.spatial.distance import pdist\n",
    "pdist_ = pd.DataFrame(pdist(df))"
   ]
  },
  {
   "cell_type": "code",
   "execution_count": 104,
   "metadata": {},
   "outputs": [
    {
     "data": {
      "text/html": [
       "<div>\n",
       "<style scoped>\n",
       "    .dataframe tbody tr th:only-of-type {\n",
       "        vertical-align: middle;\n",
       "    }\n",
       "\n",
       "    .dataframe tbody tr th {\n",
       "        vertical-align: top;\n",
       "    }\n",
       "\n",
       "    .dataframe thead th {\n",
       "        text-align: right;\n",
       "    }\n",
       "</style>\n",
       "<table border=\"1\" class=\"dataframe\">\n",
       "  <thead>\n",
       "    <tr style=\"text-align: right;\">\n",
       "      <th></th>\n",
       "      <th>0</th>\n",
       "    </tr>\n",
       "  </thead>\n",
       "  <tbody>\n",
       "    <tr>\n",
       "      <th>0</th>\n",
       "      <td>4.973534</td>\n",
       "    </tr>\n",
       "    <tr>\n",
       "      <th>1</th>\n",
       "      <td>5.516653</td>\n",
       "    </tr>\n",
       "    <tr>\n",
       "      <th>2</th>\n",
       "      <td>5.899885</td>\n",
       "    </tr>\n",
       "    <tr>\n",
       "      <th>3</th>\n",
       "      <td>3.835396</td>\n",
       "    </tr>\n",
       "    <tr>\n",
       "      <th>4</th>\n",
       "      <td>4.347073</td>\n",
       "    </tr>\n",
       "    <tr>\n",
       "      <th>5</th>\n",
       "      <td>5.104311</td>\n",
       "    </tr>\n",
       "    <tr>\n",
       "      <th>6</th>\n",
       "      <td>6.698233</td>\n",
       "    </tr>\n",
       "    <tr>\n",
       "      <th>7</th>\n",
       "      <td>7.244262</td>\n",
       "    </tr>\n",
       "    <tr>\n",
       "      <th>8</th>\n",
       "      <td>8.316594</td>\n",
       "    </tr>\n",
       "    <tr>\n",
       "      <th>9</th>\n",
       "      <td>4.382864</td>\n",
       "    </tr>\n",
       "  </tbody>\n",
       "</table>\n",
       "</div>"
      ],
      "text/plain": [
       "          0\n",
       "0  4.973534\n",
       "1  5.516653\n",
       "2  5.899885\n",
       "3  3.835396\n",
       "4  4.347073\n",
       "5  5.104311\n",
       "6  6.698233\n",
       "7  7.244262\n",
       "8  8.316594\n",
       "9  4.382864"
      ]
     },
     "execution_count": 104,
     "metadata": {},
     "output_type": "execute_result"
    }
   ],
   "source": [
    "pdist_"
   ]
  },
  {
   "cell_type": "markdown",
   "metadata": {
    "deletable": true,
    "editable": true,
    "nbgrader": {
     "checksum": "c7f14273914a0dfbb8bbb352207fb4a2",
     "grade": false,
     "grade_id": "cell-6574ebb1919403bb",
     "locked": true,
     "schema_version": 1,
     "solution": false
    }
   },
   "source": [
    "### You can create a square distance matrix using the following.\n",
    "`pd.DataFrame(squareform(pdist(parameters),columns=labels, index=labels)`"
   ]
  },
  {
   "cell_type": "markdown",
   "metadata": {
    "deletable": true,
    "editable": true,
    "nbgrader": {
     "checksum": "c62933cc6bfaf6439900538b9e46908f",
     "grade": false,
     "grade_id": "cell-adb8779b947796f6",
     "locked": true,
     "schema_version": 1,
     "solution": false
    }
   },
   "source": [
    "## Apply the complete linkage agglomeration to the distance matrix\n",
    "- Use the `linkage` function from SciPy's `cluster.hierarchy` submodule. \n",
    "- Use `pdist_` as input to `linkage`.\n",
    "- Use `method = \"complete\"`\n",
    "- Use  `metric='euclidean'` to specify the distance metric\n",
    "\n",
    "Put the result in a variable `row_clusters`."
   ]
  },
  {
   "cell_type": "code",
   "execution_count": 106,
   "metadata": {
    "deletable": false,
    "nbgrader": {
     "checksum": "07bfeb2f450bdda2b05060237da71640",
     "grade": false,
     "grade_id": "cell-02c72da73517f6c0",
     "locked": false,
     "schema_version": 1,
     "solution": true
    }
   },
   "outputs": [],
   "source": [
    "from scipy.cluster.hierarchy import linkage\n",
    "row_clusters = linkage(pdist_, method=\"complete\", metric = 'euclidean')"
   ]
  },
  {
   "cell_type": "code",
   "execution_count": 107,
   "metadata": {
    "deletable": true,
    "editable": true,
    "nbgrader": {
     "checksum": "d457295388f7aea394763d48f21a23cd",
     "grade": false,
     "grade_id": "cell-78c7c7be9233792d",
     "locked": true,
     "schema_version": 1,
     "solution": false
    }
   },
   "outputs": [
    {
     "data": {
      "text/html": [
       "<div>\n",
       "<style scoped>\n",
       "    .dataframe tbody tr th:only-of-type {\n",
       "        vertical-align: middle;\n",
       "    }\n",
       "\n",
       "    .dataframe tbody tr th {\n",
       "        vertical-align: top;\n",
       "    }\n",
       "\n",
       "    .dataframe thead th {\n",
       "        text-align: right;\n",
       "    }\n",
       "</style>\n",
       "<table border=\"1\" class=\"dataframe\">\n",
       "  <thead>\n",
       "    <tr style=\"text-align: right;\">\n",
       "      <th></th>\n",
       "      <th>row label 1</th>\n",
       "      <th>row label 2</th>\n",
       "      <th>distance</th>\n",
       "      <th>no. of items in clust.</th>\n",
       "    </tr>\n",
       "  </thead>\n",
       "  <tbody>\n",
       "    <tr>\n",
       "      <th>cluster 1</th>\n",
       "      <td>4.0</td>\n",
       "      <td>9.0</td>\n",
       "      <td>0.035791</td>\n",
       "      <td>2.0</td>\n",
       "    </tr>\n",
       "    <tr>\n",
       "      <th>cluster 2</th>\n",
       "      <td>0.0</td>\n",
       "      <td>5.0</td>\n",
       "      <td>0.130777</td>\n",
       "      <td>2.0</td>\n",
       "    </tr>\n",
       "    <tr>\n",
       "      <th>cluster 3</th>\n",
       "      <td>1.0</td>\n",
       "      <td>2.0</td>\n",
       "      <td>0.383232</td>\n",
       "      <td>2.0</td>\n",
       "    </tr>\n",
       "    <tr>\n",
       "      <th>cluster 4</th>\n",
       "      <td>6.0</td>\n",
       "      <td>7.0</td>\n",
       "      <td>0.546029</td>\n",
       "      <td>2.0</td>\n",
       "    </tr>\n",
       "    <tr>\n",
       "      <th>cluster 5</th>\n",
       "      <td>3.0</td>\n",
       "      <td>10.0</td>\n",
       "      <td>0.547468</td>\n",
       "      <td>3.0</td>\n",
       "    </tr>\n",
       "    <tr>\n",
       "      <th>cluster 6</th>\n",
       "      <td>11.0</td>\n",
       "      <td>12.0</td>\n",
       "      <td>0.926351</td>\n",
       "      <td>4.0</td>\n",
       "    </tr>\n",
       "    <tr>\n",
       "      <th>cluster 7</th>\n",
       "      <td>8.0</td>\n",
       "      <td>13.0</td>\n",
       "      <td>1.618361</td>\n",
       "      <td>3.0</td>\n",
       "    </tr>\n",
       "    <tr>\n",
       "      <th>cluster 8</th>\n",
       "      <td>14.0</td>\n",
       "      <td>15.0</td>\n",
       "      <td>2.064489</td>\n",
       "      <td>7.0</td>\n",
       "    </tr>\n",
       "    <tr>\n",
       "      <th>cluster 9</th>\n",
       "      <td>16.0</td>\n",
       "      <td>17.0</td>\n",
       "      <td>4.481198</td>\n",
       "      <td>10.0</td>\n",
       "    </tr>\n",
       "  </tbody>\n",
       "</table>\n",
       "</div>"
      ],
      "text/plain": [
       "           row label 1  row label 2  distance  no. of items in clust.\n",
       "cluster 1          4.0          9.0  0.035791                     2.0\n",
       "cluster 2          0.0          5.0  0.130777                     2.0\n",
       "cluster 3          1.0          2.0  0.383232                     2.0\n",
       "cluster 4          6.0          7.0  0.546029                     2.0\n",
       "cluster 5          3.0         10.0  0.547468                     3.0\n",
       "cluster 6         11.0         12.0  0.926351                     4.0\n",
       "cluster 7          8.0         13.0  1.618361                     3.0\n",
       "cluster 8         14.0         15.0  2.064489                     7.0\n",
       "cluster 9         16.0         17.0  4.481198                    10.0"
      ]
     },
     "execution_count": 107,
     "metadata": {},
     "output_type": "execute_result"
    }
   ],
   "source": [
    "pd.DataFrame(row_clusters, \n",
    "             columns=['row label 1', 'row label 2', 'distance', 'no. of items in clust.'],\n",
    "             index=['cluster %d' %(i+1) for i in range(row_clusters.shape[0])])"
   ]
  },
  {
   "cell_type": "markdown",
   "metadata": {
    "deletable": true,
    "editable": true,
    "nbgrader": {
     "checksum": "8521109a1e7f95b92bec8c50e0c089e1",
     "grade": false,
     "grade_id": "cell-d39ef9be0df4626c",
     "locked": true,
     "schema_version": 1,
     "solution": false
    }
   },
   "source": [
    "### Use the sample matrix as input to the `linkage` function.\n",
    "You can either use the distance matrix or the sample matrix `df.values` as input to the linkage function."
   ]
  },
  {
   "cell_type": "code",
   "execution_count": 109,
   "metadata": {
    "deletable": false,
    "nbgrader": {
     "checksum": "aa37139700afd118d3a86e6b591d9166",
     "grade": false,
     "grade_id": "cell-7b401626b3c73590",
     "locked": false,
     "schema_version": 1,
     "solution": true
    }
   },
   "outputs": [],
   "source": [
    "row_clusters = linkage(df.values,metric = 'euclidean')"
   ]
  },
  {
   "cell_type": "code",
   "execution_count": 110,
   "metadata": {
    "deletable": false,
    "nbgrader": {
     "checksum": "9011a7012dd0c1f54009429bcc77dfb9",
     "grade": false,
     "grade_id": "cell-062c2da613e6451d",
     "locked": false,
     "schema_version": 1,
     "solution": true
    }
   },
   "outputs": [
    {
     "data": {
      "text/html": [
       "<div>\n",
       "<style scoped>\n",
       "    .dataframe tbody tr th:only-of-type {\n",
       "        vertical-align: middle;\n",
       "    }\n",
       "\n",
       "    .dataframe tbody tr th {\n",
       "        vertical-align: top;\n",
       "    }\n",
       "\n",
       "    .dataframe thead th {\n",
       "        text-align: right;\n",
       "    }\n",
       "</style>\n",
       "<table border=\"1\" class=\"dataframe\">\n",
       "  <thead>\n",
       "    <tr style=\"text-align: right;\">\n",
       "      <th></th>\n",
       "      <th>row label 1</th>\n",
       "      <th>row label 2</th>\n",
       "      <th>distance</th>\n",
       "      <th>no. of items in clust.</th>\n",
       "    </tr>\n",
       "  </thead>\n",
       "  <tbody>\n",
       "    <tr>\n",
       "      <th>cluster 1</th>\n",
       "      <td>0.0</td>\n",
       "      <td>4.0</td>\n",
       "      <td>3.835396</td>\n",
       "      <td>2.0</td>\n",
       "    </tr>\n",
       "    <tr>\n",
       "      <th>cluster 2</th>\n",
       "      <td>1.0</td>\n",
       "      <td>2.0</td>\n",
       "      <td>4.347073</td>\n",
       "      <td>2.0</td>\n",
       "    </tr>\n",
       "    <tr>\n",
       "      <th>cluster 3</th>\n",
       "      <td>3.0</td>\n",
       "      <td>5.0</td>\n",
       "      <td>4.382864</td>\n",
       "      <td>3.0</td>\n",
       "    </tr>\n",
       "    <tr>\n",
       "      <th>cluster 4</th>\n",
       "      <td>6.0</td>\n",
       "      <td>7.0</td>\n",
       "      <td>4.973534</td>\n",
       "      <td>5.0</td>\n",
       "    </tr>\n",
       "  </tbody>\n",
       "</table>\n",
       "</div>"
      ],
      "text/plain": [
       "           row label 1  row label 2  distance  no. of items in clust.\n",
       "cluster 1          0.0          4.0  3.835396                     2.0\n",
       "cluster 2          1.0          2.0  4.347073                     2.0\n",
       "cluster 3          3.0          5.0  4.382864                     3.0\n",
       "cluster 4          6.0          7.0  4.973534                     5.0"
      ]
     },
     "execution_count": 110,
     "metadata": {},
     "output_type": "execute_result"
    }
   ],
   "source": [
    "pd.DataFrame(row_clusters, \n",
    "             columns=['row label 1', 'row label 2', 'distance', 'no. of items in clust.'],\n",
    "             index=['cluster %d' %(i+1) for i in range(row_clusters.shape[0])])"
   ]
  },
  {
   "cell_type": "markdown",
   "metadata": {
    "deletable": true,
    "editable": true,
    "nbgrader": {
     "checksum": "5ddbce86a7a56b1c4d16b4829e2bef76",
     "grade": false,
     "grade_id": "cell-1c424a5a22c58316",
     "locked": true,
     "schema_version": 1,
     "solution": false
    }
   },
   "source": [
    "## Visualize the dendrogram\n",
    "- import dendrogram from the scipy.cluster.hierarchy submodule\n",
    "- Use the dendrogram(row_clusters, labels=labels) function"
   ]
  },
  {
   "cell_type": "code",
   "execution_count": 111,
   "metadata": {
    "deletable": false,
    "nbgrader": {
     "checksum": "66866f12acfb19e5d1830bc3fccf5f66",
     "grade": false,
     "grade_id": "cell-6f3597cca68c41ba",
     "locked": false,
     "schema_version": 1,
     "solution": true
    }
   },
   "outputs": [
    {
     "data": {
      "text/plain": [
       "{'icoord': [[5.0, 5.0, 15.0, 15.0],\n",
       "  [35.0, 35.0, 45.0, 45.0],\n",
       "  [25.0, 25.0, 40.0, 40.0],\n",
       "  [10.0, 10.0, 32.5, 32.5]],\n",
       " 'dcoord': [[0.0, 4.3470733871677325, 4.3470733871677325, 0.0],\n",
       "  [0.0, 3.835395554137081, 3.835395554137081, 0.0],\n",
       "  [0.0, 4.382864002932181, 4.382864002932181, 3.835395554137081],\n",
       "  [4.3470733871677325,\n",
       "   4.973534001694992,\n",
       "   4.973534001694992,\n",
       "   4.382864002932181]],\n",
       " 'ivl': ['ID_1', 'ID_2', 'ID_3', 'ID_0', 'ID_4'],\n",
       " 'leaves': [1, 2, 3, 0, 4],\n",
       " 'color_list': ['C0', 'C0', 'C0', 'C0'],\n",
       " 'leaves_color_list': ['C0', 'C0', 'C0', 'C0', 'C0']}"
      ]
     },
     "execution_count": 111,
     "metadata": {},
     "output_type": "execute_result"
    },
    {
     "data": {
      "image/png": "[encoded data removed]",
      "text/plain": [
       "<Figure size 640x480 with 1 Axes>"
      ]
     },
     "metadata": {},
     "output_type": "display_data"
    }
   ],
   "source": [
    "from scipy.cluster.hierarchy import dendrogram\n",
    "\n",
    "dendrogram(row_clusters, labels=labels)"
   ]
  },
  {
   "cell_type": "markdown",
   "metadata": {
    "deletable": true,
    "editable": true,
    "nbgrader": {
     "checksum": "80bc379dec700f46ca96a9642b5cedda",
     "grade": false,
     "grade_id": "cell-7025be9830084067",
     "locked": true,
     "schema_version": 1,
     "solution": false
    }
   },
   "source": [
    "## Attaching dendrograms to a heat map\n",
    "In practical applications, hierarchical clustering dendrograms are often used in combination with a heat map, which allows us to represent the individual values in the sample matrix with a color code. The following code attaches a dendrogram to a heat map plot and order the rows in the heat map correspondingly."
   ]
  },
  {
   "cell_type": "code",
   "execution_count": 112,
   "metadata": {
    "deletable": true,
    "editable": true,
    "nbgrader": {
     "checksum": "c64a8941bd1920902a05dbadd79b2cb1",
     "grade": false,
     "grade_id": "cell-523ec9b8e66df42d",
     "locked": true,
     "schema_version": 1,
     "solution": false
    }
   },
   "outputs": [
    {
     "name": "stderr",
     "output_type": "stream",
     "text": [
      "/var/folders/cr/dlw4zhlj7ld9t1grnb2q9hvw0000gn/T/ipykernel_14075/4201299645.py:22: UserWarning: FixedFormatter should only be used together with FixedLocator\n",
      "  axm.set_xticklabels([''] + list(df_rowclust.columns))\n",
      "/var/folders/cr/dlw4zhlj7ld9t1grnb2q9hvw0000gn/T/ipykernel_14075/4201299645.py:23: UserWarning: FixedFormatter should only be used together with FixedLocator\n",
      "  axm.set_yticklabels([''] + list(df_rowclust.index))\n"
     ]
    },
    {
     "data": {
      "image/png": "[encoded data removed]",
      "text/plain": [
       "<Figure size 800x800 with 3 Axes>"
      ]
     },
     "metadata": {},
     "output_type": "display_data"
    }
   ],
   "source": [
    "# plot row dendrogram\n",
    "fig = plt.figure(figsize=(8,8))\n",
    "axd = fig.add_axes([0.09,0.1,0.2,0.6])\n",
    "row_dendr = dendrogram(row_clusters, orientation='left')\n",
    "\n",
    "# reorder data with respect to clustering\n",
    "df_rowclust = df.iloc[row_dendr['leaves'][::-1]]\n",
    "\n",
    "axd.set_xticks([])\n",
    "axd.set_yticks([])\n",
    "\n",
    "# remove axes spines from dendrogram\n",
    "for i in axd.spines.values():\n",
    "        i.set_visible(False)\n",
    "\n",
    "\n",
    "        \n",
    "# plot heatmap\n",
    "axm = fig.add_axes([0.23,0.1,0.6,0.6]) # x-pos, y-pos, width, height\n",
    "cax = axm.matshow(df_rowclust, interpolation='nearest', cmap='hot_r')\n",
    "fig.colorbar(cax)\n",
    "axm.set_xticklabels([''] + list(df_rowclust.columns))\n",
    "axm.set_yticklabels([''] + list(df_rowclust.index))\n",
    "\n",
    "plt.show()"
   ]
  },
  {
   "cell_type": "markdown",
   "metadata": {
    "deletable": true,
    "editable": true,
    "nbgrader": {
     "checksum": "65984a4eca32d4353cb6d067932926db",
     "grade": false,
     "grade_id": "cell-437cd58a874ae244",
     "locked": true,
     "schema_version": 1,
     "solution": false
    }
   },
   "source": [
    "## Apply agglomerative clustering via scikit-learn\n",
    "\n",
    "<a href='https://scikit-learn.org/stable/modules/generated/sklearn.cluster.AgglomerativeClustering.html'>Here is the documentation</a>.\n",
    "- import `AgglomerativeClustering` from the `sklearn.cluster` submodul`\n",
    "- Set the following parameters:\n",
    " - number of clusters n_clusters=2\n",
    " - distance affinity='euclidean'\n",
    " - linkage='complete'\n",
    "- get the predicted labels with `fit_predict()`\n",
    "- print the resulting labels\n"
   ]
  },
  {
   "cell_type": "code",
   "execution_count": 113,
   "metadata": {
    "deletable": false,
    "nbgrader": {
     "checksum": "eee4c7d1b0b32a519154777ad1905b7f",
     "grade": false,
     "grade_id": "cell-524f087c063e1366",
     "locked": false,
     "schema_version": 1,
     "solution": true
    }
   },
   "outputs": [
    {
     "name": "stdout",
     "output_type": "stream",
     "text": [
      "[0 1 1 0 0]\n"
     ]
    },
    {
     "name": "stderr",
     "output_type": "stream",
     "text": [
      "/Users/fulin/anaconda3/lib/python3.11/site-packages/sklearn/cluster/_agglomerative.py:1005: FutureWarning: Attribute `affinity` was deprecated in version 1.2 and will be removed in 1.4. Use `metric` instead\n",
      "  warnings.warn(\n"
     ]
    }
   ],
   "source": [
    "from sklearn.cluster import AgglomerativeClustering\n",
    "\n",
    "ac = AgglomerativeClustering(n_clusters=2, affinity='euclidean', linkage='complete')\n",
    "labels = ac.fit_predict(X)\n",
    "print(labels)"
   ]
  },
  {
   "cell_type": "markdown",
   "metadata": {
    "deletable": true,
    "editable": true,
    "nbgrader": {
     "checksum": "c264619ddd36d1e0c8b83a380335d6df",
     "grade": false,
     "grade_id": "cell-cead1286f6194cdf",
     "locked": true,
     "schema_version": 1,
     "solution": false
    }
   },
   "source": [
    "# Locating regions of high density via DBSCAN\n",
    "DBSCAN: Density Based Spatial Clustering of Applications with Noise.\n",
    "Here is a <a href=\" https://youtu.be/5E097ZLE9Sg\"> video that explains it.</a>\n",
    "\n",
    "- The notion of density in DBSCAN is defined as the number of points within a specified radius $\\epsilon$. \n",
    "In DBSCAN, a special label is assigned to each sample (point) using the following criteria:\n",
    "- A point is considered as **core** point if at least a specified number (MinPts) of neighboring points fall within the specified radius $\\epsilon$\n",
    "- A border point is a point that has fewer neighbors than **MinPts** within $\\epsilon$ , but lies within the $\\epsilon$ radius of a core point\n",
    "- All other points that are neither core nor border points are considered as **noise** points\n",
    "\n",
    "After labeling the points as core, border, or noise points, the **DBSCAN algorithm** can be summarized in two simple steps:\n",
    "1. Form a separate cluster for each core point or a connected group of core points (core points are connected if they are no farther away than $\\epsilon$ ).\n",
    "2. Assign each border point to the cluster of its corresponding core point.\n",
    "\n",
    "**Main advantages** \n",
    "- Does not assume that the clusters have a spherical shape as in k-means. \n",
    "- Doesn't necessarily assign each point to a cluster but is capable of removing noise points.\n",
    "\n",
    "![DBSCAN](img/DBSCAN.png)\n",
    "\n",
    "\n",
    "\n",
    "Lets compare kmeans, heirarchical and DBSCAN clustering."
   ]
  },
  {
   "cell_type": "markdown",
   "metadata": {
    "deletable": true,
    "editable": true,
    "nbgrader": {
     "checksum": "9ae51af052e58835e6baa3515d83958a",
     "grade": false,
     "grade_id": "cell-f66e2fa4c51dc4fc",
     "locked": true,
     "schema_version": 1,
     "solution": false
    }
   },
   "source": [
    "## Create sample data\n",
    "Use `make_moons` from `sklearn.datasets`. Put the dataset in X, y variables.\n",
    "Set up the following parameters:\n",
    "- n_samples=200\n",
    "- noise=0.05\n",
    "- random_state=0\n",
    "\n",
    "Make a scatter plot of the resulting dataset."
   ]
  },
  {
   "cell_type": "code",
   "execution_count": 116,
   "metadata": {
    "deletable": false,
    "nbgrader": {
     "checksum": "c7d0c2f185ae668161217e3d46de62d5",
     "grade": false,
     "grade_id": "cell-beae311450e998ea",
     "locked": false,
     "schema_version": 1,
     "solution": true
    }
   },
   "outputs": [],
   "source": [
    "from sklearn.datasets import make_moons\n",
    "\n",
    "X, y = make_moons(n_samples=200, noise=0.05, random_state=0)"
   ]
  },
  {
   "cell_type": "code",
   "execution_count": 123,
   "metadata": {},
   "outputs": [
    {
     "data": {
      "text/plain": [
       "<matplotlib.collections.PathCollection at 0x28f432610>"
      ]
     },
     "execution_count": 123,
     "metadata": {},
     "output_type": "execute_result"
    },
    {
     "data": {
      "image/png": "[encoded data removed]",
      "text/plain": [
       "<Figure size 640x480 with 1 Axes>"
      ]
     },
     "metadata": {},
     "output_type": "display_data"
    }
   ],
   "source": [
    "plt.scatter(X[:,0],X[:,1], c = y)"
   ]
  },
  {
   "cell_type": "markdown",
   "metadata": {
    "deletable": true,
    "editable": true,
    "nbgrader": {
     "checksum": "73e95cb4729989cf93fedf8147878f89",
     "grade": false,
     "grade_id": "cell-4b899d1f5c1cc6cd",
     "locked": true,
     "schema_version": 1,
     "solution": false
    }
   },
   "source": [
    "## Perform K-means and hierarchical clustering\n",
    "Plot the resulting predictions in 2 separate scatter plots. \n",
    "You can check how color different clusters with different colors from the \"Comparison to \"bad\" clustering\" section above."
   ]
  },
  {
   "cell_type": "code",
   "execution_count": 131,
   "metadata": {
    "deletable": false,
    "nbgrader": {
     "checksum": "3aecd0e86692c40d8331e92d0eb30704",
     "grade": false,
     "grade_id": "cell-b55fea967167a76a",
     "locked": false,
     "schema_version": 1,
     "solution": true
    }
   },
   "outputs": [
    {
     "data": {
      "text/plain": [
       "<matplotlib.collections.PathCollection at 0x28f3b52d0>"
      ]
     },
     "execution_count": 131,
     "metadata": {},
     "output_type": "execute_result"
    },
    {
     "data": {
      "image/png": "[encoded data removed]",
      "text/plain": [
       "<Figure size 640x480 with 2 Axes>"
      ]
     },
     "metadata": {},
     "output_type": "display_data"
    }
   ],
   "source": [
    "fig, ax = plt.subplots(nrows=1, ncols=2)\n",
    "y_km = KMeans(n_clusters=2, \n",
    "            init='k-means++', \n",
    "            n_init=10, \n",
    "            max_iter=300,\n",
    "            tol=1e-04,\n",
    "            random_state=0).fit_predict(X)\n",
    "\n",
    "ax[0].scatter(X[y_km == 0][:,0], X[y_km == 0][:,1], c =  y[y_km==0])\n",
    "\n",
    "ax[1].scatter(X[y_km == 1][:,0], X[y_km == 1][:,1], c =  y[y_km==1])"
   ]
  },
  {
   "cell_type": "markdown",
   "metadata": {
    "deletable": true,
    "editable": true,
    "nbgrader": {
     "checksum": "2b5749ed5a53dbef0bfcb284a448483e",
     "grade": false,
     "grade_id": "cell-67f3dc5fa847fa23",
     "locked": true,
     "schema_version": 1,
     "solution": false
    }
   },
   "source": [
    "## Density-based clustering:\n",
    "Perform density-based clustering. \n",
    "Use the function `DBSCAN`. <a href=\"https://scikit-learn.org/stable/modules/generated/sklearn.cluster.DBSCAN.html\">Here is the documentation.</a> \n",
    "    \n",
    "    \n",
    "- import DBSCAN from sklearn.cluster\n",
    "- set up the parameters `eps=0.2`, `min_samples=5`, `metric='euclidean'`\n",
    "- plot the predictions on a scatter plot."
   ]
  },
  {
   "cell_type": "code",
   "execution_count": 136,
   "metadata": {
    "deletable": false,
    "nbgrader": {
     "checksum": "ee718a3a15f24381ad2b59ed601016b4",
     "grade": false,
     "grade_id": "cell-01bcfefcf05c009b",
     "locked": false,
     "schema_version": 1,
     "solution": true
    }
   },
   "outputs": [],
   "source": [
    "from sklearn.cluster import DBSCAN\n",
    "\n",
    "y_db = DBSCAN(eps=0.2, min_samples=5, metric='euclidean').fit_predict(X)"
   ]
  },
  {
   "cell_type": "code",
   "execution_count": 138,
   "metadata": {},
   "outputs": [
    {
     "data": {
      "text/plain": [
       "<matplotlib.collections.PathCollection at 0x291e828d0>"
      ]
     },
     "execution_count": 138,
     "metadata": {},
     "output_type": "execute_result"
    },
    {
     "data": {
      "image/png": "[encoded data removed]",
      "text/plain": [
       "<Figure size 640x480 with 2 Axes>"
      ]
     },
     "metadata": {},
     "output_type": "display_data"
    }
   ],
   "source": [
    "fig, ax = plt.subplots(nrows=1, ncols=2)\n",
    "\n",
    "ax[0].scatter(X[y_db == 0][:,0], X[y_db == 0][:,1], c =  y[y_db==0])\n",
    "\n",
    "ax[1].scatter(X[y_db == 1][:,0], X[y_db == 1][:,1], c =  y[y_db==1])"
   ]
  }
 ],
 "metadata": {
  "kernelspec": {
   "display_name": "Python 3 (ipykernel)",
   "language": "python",
   "name": "python3"
  },
  "language_info": {
   "codemirror_mode": {
    "name": "ipython",
    "version": 3
   },
   "file_extension": ".py",
   "mimetype": "text/x-python",
   "name": "python",
   "nbconvert_exporter": "python",
   "pygments_lexer": "ipython3",
   "version": "3.11.4"
  },
  "toc": {
   "base_numbering": 1,
   "nav_menu": {},
   "number_sections": true,
   "sideBar": true,
   "skip_h1_title": false,
   "title_cell": "Table of Contents",
   "title_sidebar": "Contents",
   "toc_cell": false,
   "toc_position": {
    "height": "calc(100% - 180px)",
    "left": "10px",
    "top": "150px",
    "width": "237.46322631835938px"
   },
   "toc_section_display": true,
   "toc_window_display": true
  }
 },
 "nbformat": 4,
 "nbformat_minor": 1
}
