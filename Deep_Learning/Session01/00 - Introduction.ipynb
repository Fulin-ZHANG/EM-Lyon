{
 "cells": [
  {
   "cell_type": "markdown",
   "metadata": {},
   "source": [
    "<div>\n",
    "    <img src=\"../images/emlyon.png\" style=\"height:60px; float:left; padding-right:10px; margin-top:5px\" />\n",
    "    <span>\n",
    "        <h1 style=\"padding-bottom:5px;\"> Introduction to Deep Learning </h1>\n",
    "        <a href=\"https://masters.em-lyon.com/fr/msc-in-data-science-artificial-intelligence-strategy\">[DSAIS]</a> MSc in Data Science & Artificial Intelligence Strategy <br/>\n",
    "         Paris | © Saeed VARASTEH\n",
    "    </span>\n",
    "</div>"
   ]
  },
  {
   "cell_type": "markdown",
   "metadata": {},
   "source": [
    "### Objective\n",
    "\n",
    "This course provides a beginner's introduction to Artificial Neural Networks (ANN) and Deep Neural Networks (DNN) and their applications to various AI tasks, including image classification, speech recognition, and natural language processing. By the end of the course, students are expected to have a significant familiarity with the subject and be able to apply deep learning to a variety of tasks. \n",
    "\n",
    "Students will be introduced to the basic concepts and terminology associated with deep neural networks. We will start with the basics of learning in artificial neural networks and their optimizations, and we will cover the most commonly used DNN architectures such as Feed Forward Neural Networks, Convolutional Neural Networks and Recurrent Neural Networks.\n",
    "\n",
    "We will use the Jupyter Notebook environment for coding and build our models using the PyTorch library.\n",
    "\n",
    "---"
   ]
  },
  {
   "cell_type": "markdown",
   "metadata": {},
   "source": [
    "### Course Syllabus\n",
    "\n",
    "This is the planed schedule for the whole course, but of course changes are possible due to unforeseen reasons."
   ]
  },
  {
   "cell_type": "markdown",
   "metadata": {},
   "source": [
    "<div class=\"alert-warning\">\n",
    "The mapping between lectures and course sessions is not one to one. Meaning that we might work on several lectures in one course session or working on one lecture for several sessions.\n",
    "<div>"
   ]
  },
  {
   "cell_type": "markdown",
   "metadata": {},
   "source": [
    "---"
   ]
  },
  {
   "cell_type": "markdown",
   "metadata": {},
   "source": [
    "<table width=\"90%\">\n",
    "    <thead>\n",
    "        <tr>\n",
    "            <th style=\"text-align: center; width:80px;\">Lecture #</th>\n",
    "            <th style=\"text-align: left;\">Title</th>\n",
    "            <th style=\"text-align: left;\">Lecture Topics</th>\n",
    "            <th style=\"text-align: left;\">Recitations</th>\n",
    "            <th style=\"text-align: center;\">Externals</th>\n",
    "        </tr>\n",
    "    </thead>\n",
    "    <tbody>\n",
    "         <tr>\n",
    "            <td style=\"text-align: center;\">1</td>\n",
    "            <td style=\"text-align: left;\">Introduction</td>\n",
    "            <td style=\"text-align: left;\">\n",
    "            About this course <br/>\n",
    "            Artificial neural network: a history <br/>\n",
    "            The perceptron <br/>\n",
    "            Multi-layer perceptrons\n",
    "            </td>\n",
    "            <td style=\"text-align: left;\">\n",
    "What is PyTorch? <br/>\n",
    "Who uses PyTorch? <br/>\n",
    "Why use PyTorch? <br/>\n",
    "            PyTorch fundamentals\n",
    "            </td>\n",
    "            <td style=\"text-align: center;\"></td>\n",
    "        </tr> \n",
    "        <tr>\n",
    "            <td style=\"text-align: center;\">2</td>\n",
    "            <td style=\"text-align: left;\">Feed Forward Neural Networks</td>\n",
    "            <td style=\"text-align: left;\">\n",
    "            Model representation <br/>\n",
    "            Loss functions <br/>\n",
    "            Optimization and Backpropagation <br/>\n",
    "            Stochastic gradient descent            \n",
    "            </td>\n",
    "            <td style=\"text-align: left;\">\n",
    "            PyTorch workflow basics <br/>\n",
    "            Computational graphs <br/>\n",
    "            Automatic differentiation <br/>\n",
    "            Building your first model\n",
    "            </td>\n",
    "            <td style=\"text-align: center;\"></td>\n",
    "        </tr>\n",
    "        <tr>\n",
    "            <td style=\"text-align: center;\">3</td>\n",
    "            <td style=\"text-align: left;\">Training the Model I</td>\n",
    "            <td style=\"text-align: left;\">\n",
    "            Data preparation <br/>\n",
    "            Bias-Variance trade-off\n",
    "            </td>\n",
    "            <td style=\"text-align: left;\">\n",
    "            Model training in PyTorch <br/>\n",
    "            Pytorch regression <br/>\n",
    "            </td>\n",
    "            <td style=\"text-align: center;\">\n",
    "            Homework 01 <br/>\n",
    "            House Price Prediction\n",
    "            </td>\n",
    "        </tr>\n",
    "        <tr>\n",
    "            <td style=\"text-align: center;\">4</td>\n",
    "            <td style=\"text-align: left;\">Training the Model II</td>\n",
    "            <td style=\"text-align: left;\">\n",
    "            Hyperparameters <br/>\n",
    "            Regularizations\n",
    "            </td>\n",
    "            <td style=\"text-align: left;\">\n",
    "            PyTorch binary classification <br/>\n",
    "            PyTorch multi-class classification <br/>        \n",
    "            Sigmoid and Softmax\n",
    "            </td>\n",
    "            <td style=\"text-align: center;\"></td>\n",
    "        </tr>\n",
    "        <tr>\n",
    "            <td style=\"text-align: center;\">5</td>\n",
    "            <td style=\"text-align: left;\">Convolutional Neural Networks</td>\n",
    "            <td style=\"text-align: left;\">\n",
    "            Computer vision basics <nr/>\n",
    "            Convolutions <br/>\n",
    "            Convolutional layers <br/>\n",
    "            Pooling layers\n",
    "            </td>\n",
    "            <td style=\"text-align: left;\">\n",
    "            PyTorch for computer vision <br/>\n",
    "            PyTorch image classification\n",
    "            </td>\n",
    "            <td style=\"text-align: center;\">\n",
    "            Homework 02 <br/>\n",
    "            FashionMNIST Classification\n",
    "            </td>\n",
    "        </tr>\n",
    "        <tr>\n",
    "            <td style=\"text-align: center;\">6</td>\n",
    "            <td style=\"text-align: left;\"> Transfer Learning </td>\n",
    "            <td style=\"text-align: left;\">\n",
    "            Motivation <br/>\n",
    "            What is transfer learning? <br/>\n",
    "            Popular architectures\n",
    "            </td>\n",
    "            <td style=\"text-align: left;\">\n",
    "            PyTorch transfer learning <br/>\n",
    "            Fine tuning a pretrained models <br/>\n",
    "            Robust image classification\n",
    "            </td>\n",
    "            <td style=\"text-align: center;\">\n",
    "            Homework 03 <br/>\n",
    "            Activity Recognition    \n",
    "            </td>\n",
    "        </tr>\n",
    "        <tr>\n",
    "            <td style=\"text-align: center;\">7</td>\n",
    "            <td style=\"text-align: left;\"></td>\n",
    "            <td style=\"text-align: left;\">\n",
    "            In-class project\n",
    "            </td>\n",
    "            <td style=\"text-align: left;\">\n",
    "            In-class project\n",
    "            </td>\n",
    "            <td style=\"text-align: center;\"></td>\n",
    "        </tr> \n",
    "        <tr>\n",
    "            <td style=\"text-align: center;\">8</td>\n",
    "            <td style=\"text-align: left;\">Recurrent Neural Networks</td>\n",
    "            <td style=\"text-align: left;\">\n",
    "            Recurrent neurons <br/>\n",
    "            Recurrent layers <br/>\n",
    "            Long term dependencies <br/>\n",
    "            Natural language processing basics\n",
    "            </td>\n",
    "            <td style=\"text-align: left;\">\n",
    "            PyTorch for natural language processing <br/>\n",
    "            Embedding layers <br/>\n",
    "            PyTorch text classification <br/>\n",
    "            </td>\n",
    "            <td style=\"text-align: center;\">\n",
    "            Homework 04 <br/>\n",
    "            Sentiment Analysis\n",
    "            </td>\n",
    "        </tr> \n",
    "    </tbody>\n",
    "</table>"
   ]
  },
  {
   "cell_type": "markdown",
   "metadata": {},
   "source": [
    "---"
   ]
  },
  {
   "cell_type": "markdown",
   "metadata": {},
   "source": [
    "#### Instructors\n",
    "\n",
    "Saeed VARASTEH YAZDI (varastehyazdi@em-lyon.com) - \\[RP\\]\n",
    "\n",
    "\n",
    "#### Teaching Assistant(s)\n",
    "\n",
    "\n",
    "#### Class Website\n",
    "\n",
    "https://emlyon.brightspace.com/\n",
    "\n",
    "#### Prerequisites:\n",
    "\n",
    "- We will be using Python and PyTorch in this class, so you will need to be able to program in python. \n",
    "- You will need familiarity with basic calculus (differentiation, chain rule), linear algebra and basic probability.\n",
    "\n",
    "#### Software requirements\n",
    "\n",
    "We will use Anaconda Python (version>=3.7).\n",
    "\n",
    "torch 1.7.1\n",
    "torchvision 0.8.2\n",
    "\n",
    "#### Grade breakdown\n",
    "\n",
    "The final grade will be calculated using the following weights:\n",
    "\n",
    "- 20% In-Class Contribution\n",
    "- 40% Homework assignments\n",
    "- 40% Final project\n",
    "\n",
    "#### Objectives\n",
    "\n",
    "- Understand some of the theory behind neural networks.\n",
    "- Become familiar with different types of deep neural networks and their applications.\n",
    "- Build your own neural network components and tools.\n"
   ]
  },
  {
   "cell_type": "markdown",
   "metadata": {},
   "source": [
    "---"
   ]
  },
  {
   "cell_type": "markdown",
   "metadata": {},
   "source": [
    "<div style='color:gray;'> \n",
    "References\n",
    "</div>"
   ]
  },
  {
   "cell_type": "markdown",
   "metadata": {},
   "source": [
    "- MIT University - Introduction to Deep Learning\n",
    "- University of Maryland - Introduction to Deep Learning\n",
    "- Technical University of Munich (TUM) - Introduction to Deep Learning\n",
    "- Dive into Deep Learning (https://doi.org/10.48550/arXiv.2106.11342)\n",
    "- Learn Pytorch https://www.learnpytorch.io/"
   ]
  },
  {
   "cell_type": "markdown",
   "metadata": {},
   "source": [
    "---"
   ]
  },
  {
   "cell_type": "code",
   "execution_count": null,
   "metadata": {},
   "outputs": [],
   "source": []
  }
 ],
 "metadata": {
  "kernelspec": {
   "display_name": "Python 3 (ipykernel)",
   "language": "python",
   "name": "python3"
  },
  "language_info": {
   "codemirror_mode": {
    "name": "ipython",
    "version": 3
   },
   "file_extension": ".py",
   "mimetype": "text/x-python",
   "name": "python",
   "nbconvert_exporter": "python",
   "pygments_lexer": "ipython3",
   "version": "3.11.3"
  }
 },
 "nbformat": 4,
 "nbformat_minor": 2
}
