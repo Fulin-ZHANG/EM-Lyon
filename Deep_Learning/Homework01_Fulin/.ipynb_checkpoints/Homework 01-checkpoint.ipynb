{
 "cells": [
  {
   "cell_type": "markdown",
   "metadata": {},
   "source": [
    "<div>\n",
    "    <img src=\"../images/emlyon.png\" style=\"height:60px; float:left; padding-right:10px; margin-top:5px\" />\n",
    "    <span>\n",
    "        <h1 style=\"padding-bottom:5px;\"> Introduction to Deep Learning </h1>\n",
    "        <a href=\"https://masters.em-lyon.com/fr/msc-in-data-science-artificial-intelligence-strategy\">[DSAIS]</a> MSc in Data Science & Artificial Intelligence Strategy <br/>\n",
    "         Paris | © Saeed VARASTEH\n",
    "    </span>\n",
    "</div>"
   ]
  },
  {
   "cell_type": "markdown",
   "metadata": {},
   "source": [
    "<div class=\"alert-info\" style=\"border-bottom: solid 1px lightgray; background-color:#fff4e3;\">\n",
    "    <img src=\"../images/homework.png\" style=\"height:60px; float:left; padding-right:10px;\" />\n",
    "    <span style=\"font-weight:bold; color:#db9425\">\n",
    "        <h4 style=\"padding-top:25px;\"> HOMEWORK 01 </h4>\n",
    "    </span>\n",
    "</div>"
   ]
  },
  {
   "cell_type": "markdown",
   "metadata": {},
   "source": [
    "<a id = \"top\"></a>\n",
    "### Homework 01 - House Price Prediction\n",
    "\n",
    "---"
   ]
  },
  {
   "cell_type": "markdown",
   "metadata": {},
   "source": [
    "You are given __`house.csv`__ file containing the sale prices of several houses.\n",
    "\n",
    "You are going to build a PyTorch model to predict the price of a house based on the features provided in the dataset, such as the number of rooms, type of the property, land size, etc.\n",
    "\n",
    "Here are the steps you need to follow:\n",
    "\n",
    "[__Step 1: Preparing Data__](#step1)\n",
    "\n",
    "1. Import the dataset into a dataframe.\n",
    "2. Fill the missing `Car` values with the mean of the `Car` column.\n",
    "3. Drop the remaining rows with null values.\n",
    "\n",
    "<span style=\"color:gray\">You should be left with 6858 rows of data after this step.</span>\n",
    "\n",
    "4. The dataset contains 3 string/object columns; Drop `Suburb` column and encode the two others using pandas's `get_dummies()`.\n",
    "\n",
    "<span style=\"color:gray\">You should be left with 24 columns in your dataframe.</span>\n",
    "\n",
    "5. Create input (`X`) and output (`y`) __matrices__ using `Price` column as the output feature and the 23 others as input features.\n",
    "\n",
    "<span style=\"color:gray\">Make sure that <b>y</b> has (6858,1) dimension.</span>\n",
    "\n",
    "6. Use the `train_test_split()` function from __sklearn__ to create `X_train`, `X_test`, `y_train`, and `y_test`. Use an 80/20 split and set the `random_state` to 72.\n",
    "7. Use __sklearn__ `MinMaxScaler` to normalize your data. Fit a scaler on `X_train` and use it to transform both `X_train` and `X_test`. Similarly, fit a scaler on `y_train` and use it to transorm `y_train`, and `y_test`.\n",
    "\n",
    "[__Step 2: PyTorch Datasets and DataLoader__](#step2)\n",
    "\n",
    "1. Create a PyTorch `Dataset` with `X_train` and `y_train`.\n",
    "2. Use PyTorch's `random_split()` function to divide your dataset into training and validation. Keep 5000 instances in the training dataset and the remaining 486 for validation.\n",
    "3. Create train and validation `DataLoader`s.\n",
    "\n",
    "[__Step 3: Model Training and Prediction__](#step3)\n",
    "\n",
    "1. Build a PyTorch model with a single `Linear` neuron with23 input features and 1 output feature.\n",
    "2. Train the model on train data and evaluate it on the validation dataset.\n",
    "3. Plot the learning curves.\n",
    "4. Make predictions using your model on the test data set and report the __$R^2$__ score."
   ]
  },
  {
   "cell_type": "markdown",
   "metadata": {},
   "source": [
    "---"
   ]
  },
  {
   "cell_type": "markdown",
   "metadata": {},
   "source": [
    "<a id = \"step1\"></a>\n",
    "\n",
    "### __Step 1: Preparing Data__\n",
    "\n",
    "[Back to top](#top)"
   ]
  },
  {
   "cell_type": "markdown",
   "metadata": {},
   "source": [
    "<a id = \"libraries\"></a>\n",
    "#### Libraries"
   ]
  },
  {
   "cell_type": "code",
   "execution_count": 61,
   "metadata": {},
   "outputs": [],
   "source": [
    "# Libraries\n",
    "\n",
    "import pandas as pd\n",
    "import numpy as np\n",
    "\n",
    "import matplotlib.pyplot as plt\n",
    "\n",
    "from sklearn.model_selection import train_test_split\n",
    "from sklearn.preprocessing import MinMaxScaler\n",
    "from sklearn.metrics import r2_score\n",
    "\n",
    "import torch\n",
    "import torch.nn as nn\n",
    "import torch.optim as optim\n",
    "\n",
    "from torch.utils.data import Dataset\n",
    "from torch.utils.data import random_split\n",
    "from torch.utils.data import DataLoader\n",
    "\n",
    "torch.manual_seed(49)\n",
    "device = \"cpu\""
   ]
  },
  {
   "cell_type": "markdown",
   "metadata": {},
   "source": [
    "#### Import data"
   ]
  },
  {
   "cell_type": "code",
   "execution_count": 62,
   "metadata": {},
   "outputs": [],
   "source": [
    "# Import the data\n",
    "\n",
    "house = pd.read_csv(\"house.csv\")"
   ]
  },
  {
   "cell_type": "code",
   "execution_count": 63,
   "metadata": {},
   "outputs": [
    {
     "data": {
      "text/plain": [
       "62"
      ]
     },
     "execution_count": 63,
     "metadata": {},
     "output_type": "execute_result"
    }
   ],
   "source": [
    "house[\"Car\"].isna().sum()"
   ]
  },
  {
   "cell_type": "code",
   "execution_count": 64,
   "metadata": {},
   "outputs": [
    {
     "data": {
      "text/plain": [
       "0"
      ]
     },
     "execution_count": 64,
     "metadata": {},
     "output_type": "execute_result"
    }
   ],
   "source": [
    "house[\"Car\"].fillna(house[\"Car\"].mean(), inplace=True)\n",
    "house[\"Car\"].isna().sum()"
   ]
  },
  {
   "cell_type": "code",
   "execution_count": 65,
   "metadata": {},
   "outputs": [],
   "source": [
    "house.dropna(inplace=True)"
   ]
  },
  {
   "cell_type": "code",
   "execution_count": 66,
   "metadata": {},
   "outputs": [
    {
     "name": "stdout",
     "output_type": "stream",
     "text": [
      "<class 'pandas.core.frame.DataFrame'>\n",
      "Int64Index: 6858 entries, 1 to 13579\n",
      "Data columns (total 16 columns):\n",
      " #   Column         Non-Null Count  Dtype  \n",
      "---  ------         --------------  -----  \n",
      " 0   Suburb         6858 non-null   object \n",
      " 1   Rooms          6858 non-null   int64  \n",
      " 2   Type           6858 non-null   object \n",
      " 3   Price          6858 non-null   float64\n",
      " 4   Distance       6858 non-null   float64\n",
      " 5   Postcode       6858 non-null   float64\n",
      " 6   Bedroom2       6858 non-null   float64\n",
      " 7   Bathroom       6858 non-null   float64\n",
      " 8   Car            6858 non-null   float64\n",
      " 9   Landsize       6858 non-null   float64\n",
      " 10  BuildingArea   6858 non-null   float64\n",
      " 11  YearBuilt      6858 non-null   float64\n",
      " 12  Lattitude      6858 non-null   float64\n",
      " 13  Longtitude     6858 non-null   float64\n",
      " 14  Regionname     6858 non-null   object \n",
      " 15  Propertycount  6858 non-null   float64\n",
      "dtypes: float64(12), int64(1), object(3)\n",
      "memory usage: 910.8+ KB\n"
     ]
    }
   ],
   "source": [
    "house.info()"
   ]
  },
  {
   "cell_type": "code",
   "execution_count": 67,
   "metadata": {},
   "outputs": [],
   "source": [
    "# Drop the remaining rows with null values.\n",
    "house.drop(\"Suburb\", axis=1, inplace=True)"
   ]
  },
  {
   "cell_type": "markdown",
   "metadata": {},
   "source": [
    "<a id = \"step2\"></a>\n",
    "#### __Step 2: PyTorch Datasets and DataLoader__\n",
    "[Back to top](#top)"
   ]
  },
  {
   "cell_type": "code",
   "execution_count": 68,
   "metadata": {},
   "outputs": [],
   "source": [
    "# The dataset contains 3 string/object columns; Drop `Suburb` column and encode the two others using pandas's `get_dummies()`.\n",
    "house = pd.get_dummies(house, columns=[\"Type\", \"Regionname\"], dummy_na=False)"
   ]
  },
  {
   "cell_type": "code",
   "execution_count": 69,
   "metadata": {},
   "outputs": [
    {
     "data": {
      "text/html": [
       "<div>\n",
       "<style scoped>\n",
       "    .dataframe tbody tr th:only-of-type {\n",
       "        vertical-align: middle;\n",
       "    }\n",
       "\n",
       "    .dataframe tbody tr th {\n",
       "        vertical-align: top;\n",
       "    }\n",
       "\n",
       "    .dataframe thead th {\n",
       "        text-align: right;\n",
       "    }\n",
       "</style>\n",
       "<table border=\"1\" class=\"dataframe\">\n",
       "  <thead>\n",
       "    <tr style=\"text-align: right;\">\n",
       "      <th></th>\n",
       "      <th>Rooms</th>\n",
       "      <th>Price</th>\n",
       "      <th>Distance</th>\n",
       "      <th>Postcode</th>\n",
       "      <th>Bedroom2</th>\n",
       "      <th>Bathroom</th>\n",
       "      <th>Car</th>\n",
       "      <th>Landsize</th>\n",
       "      <th>BuildingArea</th>\n",
       "      <th>YearBuilt</th>\n",
       "      <th>...</th>\n",
       "      <th>Type_t</th>\n",
       "      <th>Type_u</th>\n",
       "      <th>Regionname_Eastern Metropolitan</th>\n",
       "      <th>Regionname_Eastern Victoria</th>\n",
       "      <th>Regionname_Northern Metropolitan</th>\n",
       "      <th>Regionname_Northern Victoria</th>\n",
       "      <th>Regionname_South-Eastern Metropolitan</th>\n",
       "      <th>Regionname_Southern Metropolitan</th>\n",
       "      <th>Regionname_Western Metropolitan</th>\n",
       "      <th>Regionname_Western Victoria</th>\n",
       "    </tr>\n",
       "  </thead>\n",
       "  <tbody>\n",
       "    <tr>\n",
       "      <th>1</th>\n",
       "      <td>2</td>\n",
       "      <td>1035000.0</td>\n",
       "      <td>2.5</td>\n",
       "      <td>3067.0</td>\n",
       "      <td>2.0</td>\n",
       "      <td>1.0</td>\n",
       "      <td>0.0</td>\n",
       "      <td>156.0</td>\n",
       "      <td>79.0</td>\n",
       "      <td>1900.0</td>\n",
       "      <td>...</td>\n",
       "      <td>0</td>\n",
       "      <td>0</td>\n",
       "      <td>0</td>\n",
       "      <td>0</td>\n",
       "      <td>1</td>\n",
       "      <td>0</td>\n",
       "      <td>0</td>\n",
       "      <td>0</td>\n",
       "      <td>0</td>\n",
       "      <td>0</td>\n",
       "    </tr>\n",
       "    <tr>\n",
       "      <th>2</th>\n",
       "      <td>3</td>\n",
       "      <td>1465000.0</td>\n",
       "      <td>2.5</td>\n",
       "      <td>3067.0</td>\n",
       "      <td>3.0</td>\n",
       "      <td>2.0</td>\n",
       "      <td>0.0</td>\n",
       "      <td>134.0</td>\n",
       "      <td>150.0</td>\n",
       "      <td>1900.0</td>\n",
       "      <td>...</td>\n",
       "      <td>0</td>\n",
       "      <td>0</td>\n",
       "      <td>0</td>\n",
       "      <td>0</td>\n",
       "      <td>1</td>\n",
       "      <td>0</td>\n",
       "      <td>0</td>\n",
       "      <td>0</td>\n",
       "      <td>0</td>\n",
       "      <td>0</td>\n",
       "    </tr>\n",
       "    <tr>\n",
       "      <th>4</th>\n",
       "      <td>4</td>\n",
       "      <td>1600000.0</td>\n",
       "      <td>2.5</td>\n",
       "      <td>3067.0</td>\n",
       "      <td>3.0</td>\n",
       "      <td>1.0</td>\n",
       "      <td>2.0</td>\n",
       "      <td>120.0</td>\n",
       "      <td>142.0</td>\n",
       "      <td>2014.0</td>\n",
       "      <td>...</td>\n",
       "      <td>0</td>\n",
       "      <td>0</td>\n",
       "      <td>0</td>\n",
       "      <td>0</td>\n",
       "      <td>1</td>\n",
       "      <td>0</td>\n",
       "      <td>0</td>\n",
       "      <td>0</td>\n",
       "      <td>0</td>\n",
       "      <td>0</td>\n",
       "    </tr>\n",
       "    <tr>\n",
       "      <th>6</th>\n",
       "      <td>3</td>\n",
       "      <td>1876000.0</td>\n",
       "      <td>2.5</td>\n",
       "      <td>3067.0</td>\n",
       "      <td>4.0</td>\n",
       "      <td>2.0</td>\n",
       "      <td>0.0</td>\n",
       "      <td>245.0</td>\n",
       "      <td>210.0</td>\n",
       "      <td>1910.0</td>\n",
       "      <td>...</td>\n",
       "      <td>0</td>\n",
       "      <td>0</td>\n",
       "      <td>0</td>\n",
       "      <td>0</td>\n",
       "      <td>1</td>\n",
       "      <td>0</td>\n",
       "      <td>0</td>\n",
       "      <td>0</td>\n",
       "      <td>0</td>\n",
       "      <td>0</td>\n",
       "    </tr>\n",
       "    <tr>\n",
       "      <th>7</th>\n",
       "      <td>2</td>\n",
       "      <td>1636000.0</td>\n",
       "      <td>2.5</td>\n",
       "      <td>3067.0</td>\n",
       "      <td>2.0</td>\n",
       "      <td>1.0</td>\n",
       "      <td>2.0</td>\n",
       "      <td>256.0</td>\n",
       "      <td>107.0</td>\n",
       "      <td>1890.0</td>\n",
       "      <td>...</td>\n",
       "      <td>0</td>\n",
       "      <td>0</td>\n",
       "      <td>0</td>\n",
       "      <td>0</td>\n",
       "      <td>1</td>\n",
       "      <td>0</td>\n",
       "      <td>0</td>\n",
       "      <td>0</td>\n",
       "      <td>0</td>\n",
       "      <td>0</td>\n",
       "    </tr>\n",
       "    <tr>\n",
       "      <th>...</th>\n",
       "      <td>...</td>\n",
       "      <td>...</td>\n",
       "      <td>...</td>\n",
       "      <td>...</td>\n",
       "      <td>...</td>\n",
       "      <td>...</td>\n",
       "      <td>...</td>\n",
       "      <td>...</td>\n",
       "      <td>...</td>\n",
       "      <td>...</td>\n",
       "      <td>...</td>\n",
       "      <td>...</td>\n",
       "      <td>...</td>\n",
       "      <td>...</td>\n",
       "      <td>...</td>\n",
       "      <td>...</td>\n",
       "      <td>...</td>\n",
       "      <td>...</td>\n",
       "      <td>...</td>\n",
       "      <td>...</td>\n",
       "      <td>...</td>\n",
       "    </tr>\n",
       "    <tr>\n",
       "      <th>13572</th>\n",
       "      <td>2</td>\n",
       "      <td>650000.0</td>\n",
       "      <td>14.5</td>\n",
       "      <td>3087.0</td>\n",
       "      <td>2.0</td>\n",
       "      <td>1.0</td>\n",
       "      <td>1.0</td>\n",
       "      <td>210.0</td>\n",
       "      <td>79.0</td>\n",
       "      <td>2006.0</td>\n",
       "      <td>...</td>\n",
       "      <td>0</td>\n",
       "      <td>0</td>\n",
       "      <td>0</td>\n",
       "      <td>0</td>\n",
       "      <td>1</td>\n",
       "      <td>0</td>\n",
       "      <td>0</td>\n",
       "      <td>0</td>\n",
       "      <td>0</td>\n",
       "      <td>0</td>\n",
       "    </tr>\n",
       "    <tr>\n",
       "      <th>13573</th>\n",
       "      <td>4</td>\n",
       "      <td>635000.0</td>\n",
       "      <td>14.7</td>\n",
       "      <td>3030.0</td>\n",
       "      <td>4.0</td>\n",
       "      <td>2.0</td>\n",
       "      <td>1.0</td>\n",
       "      <td>662.0</td>\n",
       "      <td>172.0</td>\n",
       "      <td>1980.0</td>\n",
       "      <td>...</td>\n",
       "      <td>0</td>\n",
       "      <td>0</td>\n",
       "      <td>0</td>\n",
       "      <td>0</td>\n",
       "      <td>0</td>\n",
       "      <td>0</td>\n",
       "      <td>0</td>\n",
       "      <td>0</td>\n",
       "      <td>1</td>\n",
       "      <td>0</td>\n",
       "    </tr>\n",
       "    <tr>\n",
       "      <th>13576</th>\n",
       "      <td>3</td>\n",
       "      <td>1031000.0</td>\n",
       "      <td>6.8</td>\n",
       "      <td>3016.0</td>\n",
       "      <td>3.0</td>\n",
       "      <td>2.0</td>\n",
       "      <td>2.0</td>\n",
       "      <td>333.0</td>\n",
       "      <td>133.0</td>\n",
       "      <td>1995.0</td>\n",
       "      <td>...</td>\n",
       "      <td>0</td>\n",
       "      <td>0</td>\n",
       "      <td>0</td>\n",
       "      <td>0</td>\n",
       "      <td>0</td>\n",
       "      <td>0</td>\n",
       "      <td>0</td>\n",
       "      <td>0</td>\n",
       "      <td>1</td>\n",
       "      <td>0</td>\n",
       "    </tr>\n",
       "    <tr>\n",
       "      <th>13578</th>\n",
       "      <td>4</td>\n",
       "      <td>2500000.0</td>\n",
       "      <td>6.8</td>\n",
       "      <td>3016.0</td>\n",
       "      <td>4.0</td>\n",
       "      <td>1.0</td>\n",
       "      <td>5.0</td>\n",
       "      <td>866.0</td>\n",
       "      <td>157.0</td>\n",
       "      <td>1920.0</td>\n",
       "      <td>...</td>\n",
       "      <td>0</td>\n",
       "      <td>0</td>\n",
       "      <td>0</td>\n",
       "      <td>0</td>\n",
       "      <td>0</td>\n",
       "      <td>0</td>\n",
       "      <td>0</td>\n",
       "      <td>0</td>\n",
       "      <td>1</td>\n",
       "      <td>0</td>\n",
       "    </tr>\n",
       "    <tr>\n",
       "      <th>13579</th>\n",
       "      <td>4</td>\n",
       "      <td>1285000.0</td>\n",
       "      <td>6.3</td>\n",
       "      <td>3013.0</td>\n",
       "      <td>4.0</td>\n",
       "      <td>1.0</td>\n",
       "      <td>1.0</td>\n",
       "      <td>362.0</td>\n",
       "      <td>112.0</td>\n",
       "      <td>1920.0</td>\n",
       "      <td>...</td>\n",
       "      <td>0</td>\n",
       "      <td>0</td>\n",
       "      <td>0</td>\n",
       "      <td>0</td>\n",
       "      <td>0</td>\n",
       "      <td>0</td>\n",
       "      <td>0</td>\n",
       "      <td>0</td>\n",
       "      <td>1</td>\n",
       "      <td>0</td>\n",
       "    </tr>\n",
       "  </tbody>\n",
       "</table>\n",
       "<p>6858 rows × 24 columns</p>\n",
       "</div>"
      ],
      "text/plain": [
       "       Rooms      Price  Distance  Postcode  Bedroom2  Bathroom  Car  \\\n",
       "1          2  1035000.0       2.5    3067.0       2.0       1.0  0.0   \n",
       "2          3  1465000.0       2.5    3067.0       3.0       2.0  0.0   \n",
       "4          4  1600000.0       2.5    3067.0       3.0       1.0  2.0   \n",
       "6          3  1876000.0       2.5    3067.0       4.0       2.0  0.0   \n",
       "7          2  1636000.0       2.5    3067.0       2.0       1.0  2.0   \n",
       "...      ...        ...       ...       ...       ...       ...  ...   \n",
       "13572      2   650000.0      14.5    3087.0       2.0       1.0  1.0   \n",
       "13573      4   635000.0      14.7    3030.0       4.0       2.0  1.0   \n",
       "13576      3  1031000.0       6.8    3016.0       3.0       2.0  2.0   \n",
       "13578      4  2500000.0       6.8    3016.0       4.0       1.0  5.0   \n",
       "13579      4  1285000.0       6.3    3013.0       4.0       1.0  1.0   \n",
       "\n",
       "       Landsize  BuildingArea  YearBuilt  ...  Type_t  Type_u  \\\n",
       "1         156.0          79.0     1900.0  ...       0       0   \n",
       "2         134.0         150.0     1900.0  ...       0       0   \n",
       "4         120.0         142.0     2014.0  ...       0       0   \n",
       "6         245.0         210.0     1910.0  ...       0       0   \n",
       "7         256.0         107.0     1890.0  ...       0       0   \n",
       "...         ...           ...        ...  ...     ...     ...   \n",
       "13572     210.0          79.0     2006.0  ...       0       0   \n",
       "13573     662.0         172.0     1980.0  ...       0       0   \n",
       "13576     333.0         133.0     1995.0  ...       0       0   \n",
       "13578     866.0         157.0     1920.0  ...       0       0   \n",
       "13579     362.0         112.0     1920.0  ...       0       0   \n",
       "\n",
       "       Regionname_Eastern Metropolitan  Regionname_Eastern Victoria  \\\n",
       "1                                    0                            0   \n",
       "2                                    0                            0   \n",
       "4                                    0                            0   \n",
       "6                                    0                            0   \n",
       "7                                    0                            0   \n",
       "...                                ...                          ...   \n",
       "13572                                0                            0   \n",
       "13573                                0                            0   \n",
       "13576                                0                            0   \n",
       "13578                                0                            0   \n",
       "13579                                0                            0   \n",
       "\n",
       "       Regionname_Northern Metropolitan  Regionname_Northern Victoria  \\\n",
       "1                                     1                             0   \n",
       "2                                     1                             0   \n",
       "4                                     1                             0   \n",
       "6                                     1                             0   \n",
       "7                                     1                             0   \n",
       "...                                 ...                           ...   \n",
       "13572                                 1                             0   \n",
       "13573                                 0                             0   \n",
       "13576                                 0                             0   \n",
       "13578                                 0                             0   \n",
       "13579                                 0                             0   \n",
       "\n",
       "       Regionname_South-Eastern Metropolitan  \\\n",
       "1                                          0   \n",
       "2                                          0   \n",
       "4                                          0   \n",
       "6                                          0   \n",
       "7                                          0   \n",
       "...                                      ...   \n",
       "13572                                      0   \n",
       "13573                                      0   \n",
       "13576                                      0   \n",
       "13578                                      0   \n",
       "13579                                      0   \n",
       "\n",
       "       Regionname_Southern Metropolitan  Regionname_Western Metropolitan  \\\n",
       "1                                     0                                0   \n",
       "2                                     0                                0   \n",
       "4                                     0                                0   \n",
       "6                                     0                                0   \n",
       "7                                     0                                0   \n",
       "...                                 ...                              ...   \n",
       "13572                                 0                                0   \n",
       "13573                                 0                                1   \n",
       "13576                                 0                                1   \n",
       "13578                                 0                                1   \n",
       "13579                                 0                                1   \n",
       "\n",
       "       Regionname_Western Victoria  \n",
       "1                                0  \n",
       "2                                0  \n",
       "4                                0  \n",
       "6                                0  \n",
       "7                                0  \n",
       "...                            ...  \n",
       "13572                            0  \n",
       "13573                            0  \n",
       "13576                            0  \n",
       "13578                            0  \n",
       "13579                            0  \n",
       "\n",
       "[6858 rows x 24 columns]"
      ]
     },
     "execution_count": 69,
     "metadata": {},
     "output_type": "execute_result"
    }
   ],
   "source": [
    "house"
   ]
  },
  {
   "cell_type": "code",
   "execution_count": 70,
   "metadata": {},
   "outputs": [],
   "source": [
    "# Create input (`X`) and output (`y`) __matrices__ using `Price` column as the output feature and the 23 others as input features.\n",
    "\n",
    "X = house.drop([\"Price\"], axis=1)\n",
    "y = house[['Price']]"
   ]
  },
  {
   "cell_type": "code",
   "execution_count": 81,
   "metadata": {},
   "outputs": [
    {
     "data": {
      "text/plain": [
       "(6858, 1)"
      ]
     },
     "execution_count": 81,
     "metadata": {},
     "output_type": "execute_result"
    }
   ],
   "source": [
    "y.shape"
   ]
  },
  {
   "cell_type": "code",
   "execution_count": 71,
   "metadata": {},
   "outputs": [],
   "source": [
    "# Use the `train_test_split()` function from __sklearn__ to create `X_train`, `X_test`, `y_train`, and `y_test`. Use an 80/20 split and set the `random_state` to 72.\n",
    "\n",
    "X_train, X_test, y_train, y_test = train_test_split(X, y, test_size=.2, random_state=72)"
   ]
  },
  {
   "cell_type": "code",
   "execution_count": 72,
   "metadata": {},
   "outputs": [
    {
     "data": {
      "text/plain": [
       "((5486, 23), (1372, 23), (5486, 1), (1372, 1), 23)"
      ]
     },
     "execution_count": 72,
     "metadata": {},
     "output_type": "execute_result"
    }
   ],
   "source": [
    "# Use __sklearn__ `MinMaxScaler` to normalize your data. Fit a scaler on `X_train` and use it to transform both `X_train` and `X_test`. Similarly, fit a scaler on `y_train` and use it to transorm `y_train`, and `y_test`.\n",
    "\n",
    "scaler_X = MinMaxScaler()\n",
    "X_train_scaled = scaler_X.fit_transform(X_train)\n",
    "X_test_scaled = scaler_X.transform(X_test)\n",
    "\n",
    "scaler_y = MinMaxScaler()\n",
    "y_train_scaled = scaler_y.fit_transform(y_train)\n",
    "y_test_scaled = scaler_y.transform(y_test)\n",
    "\n",
    "# Check Dimension\n",
    "X_train_scaled.shape, X_test_scaled.shape, y_train_scaled.shape, y_test_scaled.shape, X_train.shape[1]"
   ]
  },
  {
   "cell_type": "code",
   "execution_count": 73,
   "metadata": {},
   "outputs": [
    {
     "data": {
      "text/plain": [
       "5486"
      ]
     },
     "metadata": {},
     "output_type": "display_data"
    },
    {
     "data": {
      "text/plain": [
       "(tensor([0.1429, 0.1139, 0.1034, 0.2222, 0.0000, 0.1000, 0.0766, 0.0641, 0.7447,\n",
       "         0.4634, 0.5302, 0.4676, 0.0000, 1.0000, 0.0000, 0.0000, 0.0000, 0.0000,\n",
       "         0.0000, 0.0000, 1.0000, 0.0000, 0.0000]),\n",
       " tensor([0.0915]))"
      ]
     },
     "execution_count": 73,
     "metadata": {},
     "output_type": "execute_result"
    }
   ],
   "source": [
    "# Create a PyTorch `Dataset` with `X_train` and `y_train`.\n",
    "\n",
    "class MyData(Dataset):\n",
    "    def __init__(self, data, targets):\n",
    "        self.data = torch.from_numpy(data).float()\n",
    "        self.targets = torch.from_numpy(targets).float()\n",
    "    \n",
    "    def __len__(self):\n",
    "        return self.data.shape[0]\n",
    "    \n",
    "    def __getitem__(self, index):\n",
    "        return (self.data[index], self.targets[index])\n",
    "    \n",
    "train_dataset = MyData(X_train_scaled, y_train_scaled)\n",
    "display(len(train_dataset))\n",
    "train_dataset[7]"
   ]
  },
  {
   "cell_type": "code",
   "execution_count": 74,
   "metadata": {},
   "outputs": [
    {
     "data": {
      "text/plain": [
       "(5000, 486)"
      ]
     },
     "execution_count": 74,
     "metadata": {},
     "output_type": "execute_result"
    }
   ],
   "source": [
    "# Use PyTorch's `random_split()` function to divide your dataset into training and validation. Keep 5000 instances in the training dataset and the remaining 486 for validation.\n",
    "\n",
    "train_dataset, val_dataset = random_split(train_dataset, [5000, 486])\n",
    "len(train_dataset), len(val_dataset)"
   ]
  },
  {
   "cell_type": "code",
   "execution_count": 75,
   "metadata": {
    "scrolled": true
   },
   "outputs": [
    {
     "data": {
      "text/plain": [
       "(20, 4)"
      ]
     },
     "execution_count": 75,
     "metadata": {},
     "output_type": "execute_result"
    }
   ],
   "source": [
    "# Create train and validation `DataLoader`s.\n",
    "\n",
    "train_loader = DataLoader(dataset = train_dataset, batch_size = 250)\n",
    "val_loader = DataLoader(dataset = val_dataset, batch_size = 128)\n",
    "len(train_loader), len(val_loader)"
   ]
  },
  {
   "cell_type": "markdown",
   "metadata": {},
   "source": [
    "<a id = \"step3\"></a>\n",
    "#### __Step 3: Model Training and Prediction__\n",
    "[Back to top](#top)"
   ]
  },
  {
   "cell_type": "code",
   "execution_count": 76,
   "metadata": {},
   "outputs": [],
   "source": [
    "# Build a PyTorch model with a single `Linear` neuron with 23 input features and 1 output feature.\n",
    "class Mymodel(nn.Module):\n",
    "    def __init__(self):\n",
    "        super().__init__()\n",
    "        self.neuron = nn.Linear(23,1)\n",
    "        \n",
    "    def forward(self, x):\n",
    "        out = self.neuron(x)\n",
    "        return out"
   ]
  },
  {
   "cell_type": "code",
   "execution_count": 77,
   "metadata": {},
   "outputs": [
    {
     "data": {
      "text/plain": [
       "OrderedDict([('neuron.weight',\n",
       "              tensor([[ 0.1771, -0.0366, -0.0830, -0.0978,  0.1031, -0.0565,  0.2017,  0.0973,\n",
       "                        0.0073, -0.0045, -0.0305,  0.0156,  0.0259, -0.0185, -0.0392,  0.0131,\n",
       "                        0.1651,  0.0039, -0.0671,  0.0311,  0.0712, -0.0138, -0.0410]])),\n",
       "             ('neuron.bias', tensor([0.0671]))])"
      ]
     },
     "execution_count": 77,
     "metadata": {},
     "output_type": "execute_result"
    }
   ],
   "source": [
    "# Train the model on train data and evaluate it on the validation dataset.\n",
    "# Training Model v.1\n",
    "\n",
    "model = Mymodel().to(device)\n",
    "loss_fn = nn.MSELoss()\n",
    "optimizer = optim.SGD(model.parameters(), lr=0.1)\n",
    "\n",
    "# n_epochs = 1000\n",
    "# n_epochs = 20\n",
    "n_epochs = 10\n",
    "\n",
    "train_losses = []\n",
    "val_losses = []\n",
    "# Training loop\n",
    "# Training iteration\n",
    "for e in range(n_epochs):\n",
    "    \n",
    "    model.train()\n",
    "    loss_train = 0\n",
    "    for x_batch, y_batch in train_loader:\n",
    "        x_batch = x_batch.to(device)\n",
    "        y_batch = y_batch.to(device)\n",
    "        \n",
    "        y_hat = model(x_batch)\n",
    "        loss = loss_fn(y_hat, y_batch)\n",
    "        \n",
    "        loss_train = loss_train + loss.item()\n",
    "        \n",
    "        optimizer.zero_grad()\n",
    "        loss.backward()\n",
    "        optimizer.step()\n",
    "        \n",
    "    loss_train = loss_train / len(train_loader)  # average of the losses for an epoch\n",
    "    train_losses.append(loss_train)\n",
    "    \n",
    "    # Validation Loop\n",
    "    model.eval()\n",
    "    loss_val = 0\n",
    "    \n",
    "    for x_batch, y_batch in val_loader:\n",
    "        x_batch = x_batch.to(device)\n",
    "        y_batch = y_batch.to(device)\n",
    "        \n",
    "        y_hat = model(x_batch)\n",
    "        loss = loss_fn(y_hat, y_batch)\n",
    "        \n",
    "        loss_val = loss_val + loss.item()\n",
    "    \n",
    "    loss_val = loss_val / len(val_loader)\n",
    "    val_losses.append(loss_val)\n",
    "        \n",
    "model.state_dict()\n"
   ]
  },
  {
   "cell_type": "code",
   "execution_count": 78,
   "metadata": {},
   "outputs": [
    {
     "data": {
      "image/png": "[encoded data removed]",
      "text/plain": [
       "<Figure size 640x480 with 1 Axes>"
      ]
     },
     "metadata": {},
     "output_type": "display_data"
    }
   ],
   "source": [
    "# Plot the learning curves.\n",
    "\n",
    "plt.plot(train_losses, label = \"Train\")\n",
    "plt.plot(val_losses, label = \"Validation\")\n",
    "\n",
    "plt.legend()\n",
    "plt.show()"
   ]
  },
  {
   "cell_type": "code",
   "execution_count": 79,
   "metadata": {},
   "outputs": [
    {
     "name": "stdout",
     "output_type": "stream",
     "text": [
      "R^2 score: 0.4977046893256283\n"
     ]
    }
   ],
   "source": [
    "# Make predictions using your model on the test data set and report the __$R^2$__ score.\n",
    "\n",
    "X_test_tensor = torch.tensor(X_test_scaled, dtype=torch.float32)\n",
    "\n",
    "# Turn the model to evaluation\n",
    "model.eval()\n",
    "\n",
    "# To improve the performance and reduce the difficult during the calculation, I won't calculate the gradient this time\n",
    "with torch.no_grad():\n",
    "    # Predict\n",
    "    predictions = model(X_test_tensor.to(device)).cpu()\n",
    "\n",
    "predictions_unscaled = scaler_y.inverse_transform(predictions.numpy())\n",
    "y_test_unscaled = scaler_y.inverse_transform(y_test_scaled)\n",
    "\n",
    "# Compute R^2 score\n",
    "r2_score = r2_score(y_test_unscaled, predictions_unscaled)\n",
    "print(f'R^2 score: {r2_score}')"
   ]
  }
 ],
 "metadata": {
  "kernelspec": {
   "display_name": "Python 3 (ipykernel)",
   "language": "python",
   "name": "python3"
  },
  "language_info": {
   "codemirror_mode": {
    "name": "ipython",
    "version": 3
   },
   "file_extension": ".py",
   "mimetype": "text/x-python",
   "name": "python",
   "nbconvert_exporter": "python",
   "pygments_lexer": "ipython3",
   "version": "3.11.4"
  }
 },
 "nbformat": 4,
 "nbformat_minor": 2
}
