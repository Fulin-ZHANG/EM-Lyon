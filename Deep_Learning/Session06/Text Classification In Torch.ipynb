{
 "cells": [
  {
   "cell_type": "code",
   "execution_count": 2,
   "metadata": {},
   "outputs": [
    {
     "name": "stdout",
     "output_type": "stream",
     "text": [
      "Selected device: cpu\n"
     ]
    }
   ],
   "source": [
    "import numpy as np\n",
    "import pandas as pd\n",
    "import matplotlib.pyplot as plt\n",
    "\n",
    "import torch\n",
    "import torch.nn as nn\n",
    "import torch.optim as optim\n",
    "\n",
    "from torch.utils.data import Dataset\n",
    "from torch.utils.data import DataLoader\n",
    "from torch.utils.data.dataset import random_split\n",
    "\n",
    "np.random.seed(42)\n",
    "torch.manual_seed(42)\n",
    "\n",
    "# if torch.cuda.is_available():\n",
    "#     device = torch.device(\"cuda\")\n",
    "#     print(\"Using CUDA on GPU:\", torch.cuda.get_device_name(0))\n",
    "# elif torch.backends.mps.is_available():  # Only on MacOS\n",
    "#     device = torch.device(\"mps\")\n",
    "#     print(\"Using MPS (Metal Performance Shaders)\")\n",
    "# else:\n",
    "#     device = torch.device(\"cpu\")\n",
    "#     print(\"Using CPU\")\n",
    "\n",
    "\n",
    "device = 'cpu'\n",
    "print(\"Selected device:\", device)"
   ]
  },
  {
   "cell_type": "code",
   "execution_count": 3,
   "metadata": {},
   "outputs": [
    {
     "name": "stdout",
     "output_type": "stream",
     "text": [
      "(5572, 2)\n"
     ]
    },
    {
     "data": {
      "text/html": [
       "<div>\n",
       "<style scoped>\n",
       "    .dataframe tbody tr th:only-of-type {\n",
       "        vertical-align: middle;\n",
       "    }\n",
       "\n",
       "    .dataframe tbody tr th {\n",
       "        vertical-align: top;\n",
       "    }\n",
       "\n",
       "    .dataframe thead th {\n",
       "        text-align: right;\n",
       "    }\n",
       "</style>\n",
       "<table border=\"1\" class=\"dataframe\">\n",
       "  <thead>\n",
       "    <tr style=\"text-align: right;\">\n",
       "      <th></th>\n",
       "      <th>data</th>\n",
       "      <th>label</th>\n",
       "    </tr>\n",
       "  </thead>\n",
       "  <tbody>\n",
       "    <tr>\n",
       "      <th>0</th>\n",
       "      <td>Go until jurong point, crazy.. Available only ...</td>\n",
       "      <td>0</td>\n",
       "    </tr>\n",
       "    <tr>\n",
       "      <th>1</th>\n",
       "      <td>Ok lar... Joking wif u oni...</td>\n",
       "      <td>0</td>\n",
       "    </tr>\n",
       "    <tr>\n",
       "      <th>2</th>\n",
       "      <td>Free entry in 2 a wkly comp to win FA Cup fina...</td>\n",
       "      <td>1</td>\n",
       "    </tr>\n",
       "    <tr>\n",
       "      <th>3</th>\n",
       "      <td>U dun say so early hor... U c already then say...</td>\n",
       "      <td>0</td>\n",
       "    </tr>\n",
       "    <tr>\n",
       "      <th>4</th>\n",
       "      <td>Nah I don't think he goes to usf, he lives aro...</td>\n",
       "      <td>0</td>\n",
       "    </tr>\n",
       "  </tbody>\n",
       "</table>\n",
       "</div>"
      ],
      "text/plain": [
       "                                                data  label\n",
       "0  Go until jurong point, crazy.. Available only ...      0\n",
       "1                      Ok lar... Joking wif u oni...      0\n",
       "2  Free entry in 2 a wkly comp to win FA Cup fina...      1\n",
       "3  U dun say so early hor... U c already then say...      0\n",
       "4  Nah I don't think he goes to usf, he lives aro...      0"
      ]
     },
     "execution_count": 3,
     "metadata": {},
     "output_type": "execute_result"
    }
   ],
   "source": [
    "df = pd.read_csv(\"spams.csv\")\n",
    "print(df.shape)\n",
    "df.head()"
   ]
  },
  {
   "cell_type": "code",
   "execution_count": 4,
   "metadata": {},
   "outputs": [
    {
     "data": {
      "text/plain": [
       "((4457, 2), (1115, 2))"
      ]
     },
     "execution_count": 4,
     "metadata": {},
     "output_type": "execute_result"
    }
   ],
   "source": [
    "# Train / Test split\n",
    "\n",
    "from sklearn.model_selection import train_test_split\n",
    "df_train, df_test = train_test_split(df, test_size=.2)\n",
    "df_train.shape, df_test.shape"
   ]
  },
  {
   "cell_type": "code",
   "execution_count": 5,
   "metadata": {},
   "outputs": [
    {
     "data": {
      "text/html": [
       "<div>\n",
       "<style scoped>\n",
       "    .dataframe tbody tr th:only-of-type {\n",
       "        vertical-align: middle;\n",
       "    }\n",
       "\n",
       "    .dataframe tbody tr th {\n",
       "        vertical-align: top;\n",
       "    }\n",
       "\n",
       "    .dataframe thead th {\n",
       "        text-align: right;\n",
       "    }\n",
       "</style>\n",
       "<table border=\"1\" class=\"dataframe\">\n",
       "  <thead>\n",
       "    <tr style=\"text-align: right;\">\n",
       "      <th></th>\n",
       "      <th>data</th>\n",
       "      <th>label</th>\n",
       "    </tr>\n",
       "  </thead>\n",
       "  <tbody>\n",
       "    <tr>\n",
       "      <th>1978</th>\n",
       "      <td>No I'm in the same boat. Still here at my moms...</td>\n",
       "      <td>0</td>\n",
       "    </tr>\n",
       "    <tr>\n",
       "      <th>3989</th>\n",
       "      <td>(Bank of Granite issues Strong-Buy) EXPLOSIVE ...</td>\n",
       "      <td>1</td>\n",
       "    </tr>\n",
       "    <tr>\n",
       "      <th>3935</th>\n",
       "      <td>They r giving a second chance to rahul dengra.</td>\n",
       "      <td>0</td>\n",
       "    </tr>\n",
       "    <tr>\n",
       "      <th>4078</th>\n",
       "      <td>O i played smash bros  &amp;lt;#&amp;gt;  religiously.</td>\n",
       "      <td>0</td>\n",
       "    </tr>\n",
       "    <tr>\n",
       "      <th>4086</th>\n",
       "      <td>PRIVATE! Your 2003 Account Statement for 07973...</td>\n",
       "      <td>1</td>\n",
       "    </tr>\n",
       "  </tbody>\n",
       "</table>\n",
       "</div>"
      ],
      "text/plain": [
       "                                                   data  label\n",
       "1978  No I'm in the same boat. Still here at my moms...      0\n",
       "3989  (Bank of Granite issues Strong-Buy) EXPLOSIVE ...      1\n",
       "3935     They r giving a second chance to rahul dengra.      0\n",
       "4078     O i played smash bros  &lt;#&gt;  religiously.      0\n",
       "4086  PRIVATE! Your 2003 Account Statement for 07973...      1"
      ]
     },
     "execution_count": 5,
     "metadata": {},
     "output_type": "execute_result"
    }
   ],
   "source": [
    "df_train.head()"
   ]
  },
  {
   "cell_type": "code",
   "execution_count": 6,
   "metadata": {},
   "outputs": [
    {
     "data": {
      "text/plain": [
       "'hi98'"
      ]
     },
     "execution_count": 6,
     "metadata": {},
     "output_type": "execute_result"
    }
   ],
   "source": [
    "import re\n",
    "word = \"$%Hi98\"\n",
    "word = word.lower()\n",
    "\n",
    "# word.replace(x, y)(\"$\",\"\")\n",
    "# Read about re in Python\n",
    "\n",
    "re.sub(\"[^a-z0-9]\",\"\", word)\n",
    "\n",
    "# re.sub(\"[^A-Za-z0-9]\",\"\", word)"
   ]
  },
  {
   "cell_type": "code",
   "execution_count": 7,
   "metadata": {},
   "outputs": [],
   "source": [
    "def clean_word(word):\n",
    "    return re.sub(\"[^a-z0-9]\",\"\", word.lower())"
   ]
  },
  {
   "cell_type": "code",
   "execution_count": 8,
   "metadata": {},
   "outputs": [
    {
     "data": {
      "text/plain": [
       "8376"
      ]
     },
     "execution_count": 8,
     "metadata": {},
     "output_type": "execute_result"
    }
   ],
   "source": [
    "# \n",
    "words = \" \".join(df_train[\"data\"].values).split()\n",
    "words = [clean_word(w) for w in words]\n",
    "words = list(filter(None, words))\n",
    "words = np.unique(words)\n",
    "len(words)"
   ]
  },
  {
   "cell_type": "code",
   "execution_count": 9,
   "metadata": {},
   "outputs": [
    {
     "data": {
      "text/plain": [
       "8377"
      ]
     },
     "execution_count": 9,
     "metadata": {},
     "output_type": "execute_result"
    }
   ],
   "source": [
    "# word2idx dictionary\n",
    "word2idx = {}\n",
    "word2idx[\"\"] = 0\n",
    "for i,w in enumerate(words):\n",
    "    word2idx[w] = i+1\n",
    "\n",
    "len(word2idx)"
   ]
  },
  {
   "cell_type": "code",
   "execution_count": 10,
   "metadata": {},
   "outputs": [],
   "source": [
    "# Convert sent to inds\n",
    "in_ = df_train.iloc[0,0]\n",
    "\n",
    "def sent2inds(in_):\n",
    "    in_ = in_.split()\n",
    "\n",
    "    out_ = []\n",
    "\n",
    "    for w in in_:\n",
    "        w = clean_word(w)\n",
    "        if w != \"\" and w in word2idx.keys():\n",
    "            out_.append(word2idx[w])\n",
    "    return out_"
   ]
  },
  {
   "cell_type": "code",
   "execution_count": 11,
   "metadata": {},
   "outputs": [],
   "source": [
    "df_train[\"data_encoded\"] = df_train[\"data\"].apply(sent2inds)"
   ]
  },
  {
   "cell_type": "code",
   "execution_count": 12,
   "metadata": {},
   "outputs": [
    {
     "data": {
      "text/html": [
       "<div>\n",
       "<style scoped>\n",
       "    .dataframe tbody tr th:only-of-type {\n",
       "        vertical-align: middle;\n",
       "    }\n",
       "\n",
       "    .dataframe tbody tr th {\n",
       "        vertical-align: top;\n",
       "    }\n",
       "\n",
       "    .dataframe thead th {\n",
       "        text-align: right;\n",
       "    }\n",
       "</style>\n",
       "<table border=\"1\" class=\"dataframe\">\n",
       "  <thead>\n",
       "    <tr style=\"text-align: right;\">\n",
       "      <th></th>\n",
       "      <th>data</th>\n",
       "      <th>label</th>\n",
       "      <th>data_encoded</th>\n",
       "    </tr>\n",
       "  </thead>\n",
       "  <tbody>\n",
       "    <tr>\n",
       "      <th>1978</th>\n",
       "      <td>No I'm in the same boat. Still here at my moms...</td>\n",
       "      <td>0</td>\n",
       "      <td>[5136, 3874, 3896, 7305, 6331, 1517, 6953, 363...</td>\n",
       "    </tr>\n",
       "    <tr>\n",
       "      <th>3989</th>\n",
       "      <td>(Bank of Granite issues Strong-Buy) EXPLOSIVE ...</td>\n",
       "      <td>1</td>\n",
       "      <td>[1311, 5268, 3437, 4012, 6998, 2911, 5602, 312...</td>\n",
       "    </tr>\n",
       "    <tr>\n",
       "      <th>3935</th>\n",
       "      <td>They r giving a second chance to rahul dengra.</td>\n",
       "      <td>0</td>\n",
       "      <td>[7333, 5961, 3346, 815, 6411, 1857, 7434, 5970...</td>\n",
       "    </tr>\n",
       "    <tr>\n",
       "      <th>4078</th>\n",
       "      <td>O i played smash bros  &amp;lt;#&amp;gt;  religiously.</td>\n",
       "      <td>0</td>\n",
       "      <td>[5249, 3830, 5647, 6694, 1626, 4555, 6111]</td>\n",
       "    </tr>\n",
       "    <tr>\n",
       "      <th>4086</th>\n",
       "      <td>PRIVATE! Your 2003 Account Statement for 07973...</td>\n",
       "      <td>1</td>\n",
       "      <td>[5835, 8339, 371, 858, 6924, 3129, 42, 6578, 6...</td>\n",
       "    </tr>\n",
       "  </tbody>\n",
       "</table>\n",
       "</div>"
      ],
      "text/plain": [
       "                                                   data  label  \\\n",
       "1978  No I'm in the same boat. Still here at my moms...      0   \n",
       "3989  (Bank of Granite issues Strong-Buy) EXPLOSIVE ...      1   \n",
       "3935     They r giving a second chance to rahul dengra.      0   \n",
       "4078     O i played smash bros  &lt;#&gt;  religiously.      0   \n",
       "4086  PRIVATE! Your 2003 Account Statement for 07973...      1   \n",
       "\n",
       "                                           data_encoded  \n",
       "1978  [5136, 3874, 3896, 7305, 6331, 1517, 6953, 363...  \n",
       "3989  [1311, 5268, 3437, 4012, 6998, 2911, 5602, 312...  \n",
       "3935  [7333, 5961, 3346, 815, 6411, 1857, 7434, 5970...  \n",
       "4078         [5249, 3830, 5647, 6694, 1626, 4555, 6111]  \n",
       "4086  [5835, 8339, 371, 858, 6924, 3129, 42, 6578, 6...  "
      ]
     },
     "execution_count": 12,
     "metadata": {},
     "output_type": "execute_result"
    }
   ],
   "source": [
    "df_train.head()"
   ]
  },
  {
   "cell_type": "code",
   "execution_count": 13,
   "metadata": {},
   "outputs": [],
   "source": [
    "X_train = df_train[\"data_encoded\"].values"
   ]
  },
  {
   "cell_type": "code",
   "execution_count": 14,
   "metadata": {},
   "outputs": [],
   "source": [
    "# 0 padding to have the same lengths inputs"
   ]
  },
  {
   "cell_type": "code",
   "execution_count": 15,
   "metadata": {},
   "outputs": [
    {
     "data": {
      "text/plain": [
       "(4457, 115)"
      ]
     },
     "execution_count": 15,
     "metadata": {},
     "output_type": "execute_result"
    }
   ],
   "source": [
    "from itertools import zip_longest\n",
    "# Go and check documention of this function\n",
    "X_train = np.array(list(zip_longest(*X_train, fillvalue = 0))).T\n",
    "X_train.shape"
   ]
  },
  {
   "cell_type": "code",
   "execution_count": 16,
   "metadata": {},
   "outputs": [
    {
     "data": {
      "text/plain": [
       "(4457,)"
      ]
     },
     "execution_count": 16,
     "metadata": {},
     "output_type": "execute_result"
    }
   ],
   "source": [
    "y_train = df_train[\"label\"].values\n",
    "y_train.shape"
   ]
  },
  {
   "cell_type": "code",
   "execution_count": 17,
   "metadata": {},
   "outputs": [],
   "source": [
    "# Dataset\n",
    "\n",
    "class MyDataset(Dataset):\n",
    "    def __init__(self, data, labels):\n",
    "        self.data = torch.from_numpy(data).long()\n",
    "        self.labels = torch.from_numpy(labels).float()\n",
    "        \n",
    "    def __getitem__(self, index):\n",
    "        return (self.data[index], self.labels[index])\n",
    "\n",
    "    def __len__(self):\n",
    "        return len(self.data)\n",
    "    \n",
    "train_dataset = MyDataset(X_train, y_train)"
   ]
  },
  {
   "cell_type": "code",
   "execution_count": 18,
   "metadata": {},
   "outputs": [
    {
     "data": {
      "text/plain": [
       "(4000, 457)"
      ]
     },
     "execution_count": 18,
     "metadata": {},
     "output_type": "execute_result"
    }
   ],
   "source": [
    "# Train / valid\n",
    "train_dataset, val_dataset = random_split(train_dataset, [4000, 457])\n",
    "\n",
    "len(train_dataset), len(val_dataset) # after train/val split"
   ]
  },
  {
   "cell_type": "code",
   "execution_count": 19,
   "metadata": {},
   "outputs": [],
   "source": [
    "# dataloader\n",
    "train_loader = DataLoader(dataset=train_dataset, batch_size=16)\n",
    "val_loader = DataLoader(dataset=val_dataset, batch_size=16)"
   ]
  },
  {
   "cell_type": "code",
   "execution_count": 21,
   "metadata": {},
   "outputs": [
    {
     "data": {
      "text/plain": [
       "torch.Size([16, 1])"
      ]
     },
     "execution_count": 21,
     "metadata": {},
     "output_type": "execute_result"
    }
   ],
   "source": [
    "# model\n",
    "class MyModel(nn.Module):\n",
    "    def __init__(self):\n",
    "        super().__init__()\n",
    "        \n",
    "        self.emb = nn.Embedding(len(word2idx), 50)\n",
    "        self.rnn = nn.RNN(input_size=50, hidden_size=32, batch_first=True)\n",
    "        self.fc = nn.Linear(32,1)\n",
    "\n",
    "    \n",
    "    def forward(self, x):\n",
    "        \n",
    "        out = self.emb(x)\n",
    "        h0 = torch.zeros(1, x.size(0), 32)\n",
    "        outs, hidden = self.rnn(out)\n",
    "        # out = outs[:,-1,:]\n",
    "        \n",
    "        # out = torch.max(outs, 1)\n",
    "        out, _ = torch.max(outs, 1)\n",
    "\n",
    "        out  = self.fc(out)\n",
    "        return out\n",
    "    \n",
    "tmpModel = MyModel()\n",
    "tmpBatch,_ = next(iter(train_loader))\n",
    "tmpOut = tmpModel(tmpBatch)\n",
    "tmpOut.shape"
   ]
  },
  {
   "cell_type": "code",
   "execution_count": null,
   "metadata": {},
   "outputs": [],
   "source": []
  },
  {
   "cell_type": "code",
   "execution_count": 26,
   "metadata": {},
   "outputs": [
    {
     "name": "stdout",
     "output_type": "stream",
     "text": [
      "OrderedDict([('emb.weight', tensor([[ 0.3688,  1.8552,  0.4729,  ..., -1.4277, -1.1662,  1.0935],\n",
      "        [ 0.9693, -1.6308,  0.4671,  ...,  1.6205, -0.7875,  0.4961],\n",
      "        [ 1.3797,  0.3807,  1.4968,  ...,  0.1529,  0.1963, -1.3197],\n",
      "        ...,\n",
      "        [-1.1947, -0.9787,  1.5151,  ...,  0.0206, -0.5626,  1.1663],\n",
      "        [-1.0670,  1.3358, -0.8704,  ...,  1.8087,  0.6697, -0.7110],\n",
      "        [-0.6183, -0.2372,  0.9144,  ..., -1.6363,  0.0275,  0.3009]])), ('rnn.weight_ih_l0', tensor([[-0.1335, -0.0174,  0.1490,  ..., -0.0217, -0.0640,  0.0276],\n",
      "        [-0.0187, -0.0743, -0.1041,  ...,  0.0411,  0.1066, -0.1645],\n",
      "        [-0.0441, -0.1665,  0.0655,  ..., -0.0879,  0.0217,  0.1455],\n",
      "        ...,\n",
      "        [-0.1363, -0.1621,  0.1652,  ..., -0.0663,  0.0597, -0.0041],\n",
      "        [ 0.1079,  0.1657,  0.1227,  ...,  0.0461,  0.0538,  0.1536],\n",
      "        [-0.1350,  0.1213,  0.0511,  ...,  0.0974, -0.0397, -0.0164]])), ('rnn.weight_hh_l0', tensor([[-0.1440,  0.0655,  0.1081,  ...,  0.0941, -0.1115,  0.0371],\n",
      "        [-0.0356,  0.1482,  0.0587,  ...,  0.1277, -0.1153, -0.1330],\n",
      "        [-0.1080,  0.1412,  0.1146,  ...,  0.0180,  0.0230, -0.0937],\n",
      "        ...,\n",
      "        [ 0.0565,  0.0048,  0.0020,  ...,  0.1080, -0.0617, -0.0194],\n",
      "        [-0.0892,  0.1469, -0.0992,  ..., -0.1289, -0.0637, -0.1113],\n",
      "        [-0.1421,  0.0951, -0.1472,  ..., -0.1216, -0.0897, -0.1530]])), ('rnn.bias_ih_l0', tensor([-0.0759, -0.1175,  0.1118, -0.1599, -0.0806,  0.1509,  0.1288, -0.1692,\n",
      "        -0.0297,  0.1052,  0.0736,  0.1618, -0.0343,  0.1453, -0.1387, -0.1595,\n",
      "         0.1629, -0.0923, -0.0306,  0.0577, -0.1228, -0.0871, -0.0686, -0.0674,\n",
      "        -0.0345, -0.1103,  0.0282, -0.0220, -0.1441,  0.0661, -0.0974,  0.1567])), ('rnn.bias_hh_l0', tensor([-0.0349, -0.0127,  0.0383, -0.1091, -0.0703,  0.0908, -0.1365,  0.0028,\n",
      "        -0.0381,  0.0228,  0.1521,  0.1398, -0.0355, -0.0826,  0.0408,  0.0989,\n",
      "        -0.1111, -0.1508, -0.0804,  0.0021, -0.1231,  0.0264, -0.0327, -0.1544,\n",
      "        -0.0364,  0.1214,  0.1388, -0.1319, -0.0519, -0.0118,  0.1462,  0.1002])), ('fc.weight', tensor([[ 0.1651, -0.0789,  0.1686,  0.1442, -0.1439, -0.1583,  0.0353,  0.1616,\n",
      "          0.1755, -0.0634, -0.0250,  0.1361,  0.0385,  0.0207, -0.1010, -0.0744,\n",
      "          0.1239,  0.1006,  0.0338,  0.0577,  0.0313,  0.1315,  0.0427,  0.1685,\n",
      "          0.0289, -0.0416, -0.1380,  0.1382,  0.1476,  0.1365,  0.1006,  0.1638]])), ('fc.bias', tensor([-0.0814]))])\n",
      "OrderedDict([('emb.weight', tensor([[ 0.3823,  1.8681,  0.4682,  ..., -1.4120, -1.1688,  1.0935],\n",
      "        [ 0.9695, -1.6310,  0.4683,  ...,  1.6207, -0.7875,  0.4955],\n",
      "        [ 1.3806,  0.3807,  1.4973,  ...,  0.1524,  0.1961, -1.3194],\n",
      "        ...,\n",
      "        [-1.1946, -0.9786,  1.5151,  ...,  0.0206, -0.5626,  1.1663],\n",
      "        [-1.0673,  1.3354, -0.8704,  ...,  1.8083,  0.6697, -0.7116],\n",
      "        [-0.6175, -0.2368,  0.9153,  ..., -1.6367,  0.0273,  0.3014]])), ('rnn.weight_ih_l0', tensor([[-0.0544, -0.1012,  0.2574,  ..., -0.2227,  0.1235,  0.2456],\n",
      "        [-0.0420, -0.0656, -0.0519,  ...,  0.0507,  0.0131, -0.0943],\n",
      "        [-0.0293, -0.2265, -0.0790,  ..., -0.2075,  0.1492,  0.1431],\n",
      "        ...,\n",
      "        [-0.0082, -0.3096,  0.1629,  ..., -0.0281, -0.0091, -0.0041],\n",
      "        [ 0.1922,  0.3580,  0.1201,  ...,  0.1220,  0.2377,  0.0503],\n",
      "        [-0.2546,  0.0841,  0.0946,  ...,  0.0674, -0.2010, -0.0756]])), ('rnn.weight_hh_l0', tensor([[-5.7728e-02,  1.5451e-01,  7.4049e-02,  ...,  1.1100e-01,\n",
      "         -2.7222e-01, -6.9125e-02],\n",
      "        [-5.5073e-02,  1.4581e-01,  7.1678e-02,  ...,  8.9289e-02,\n",
      "         -9.9137e-02, -8.4882e-02],\n",
      "        [ 1.0597e-02,  2.9316e-01,  1.4173e-01,  ...,  2.6004e-02,\n",
      "          1.0786e-01, -9.9970e-02],\n",
      "        ...,\n",
      "        [ 2.0982e-02, -1.5986e-02,  2.8626e-04,  ...,  7.4377e-02,\n",
      "         -2.6087e-02, -9.3143e-02],\n",
      "        [ 6.8828e-02,  1.1338e-01, -1.1638e-01,  ..., -9.1890e-02,\n",
      "          2.0450e-02, -1.2195e-01],\n",
      "        [-1.2719e-01,  1.4531e-01, -8.4577e-02,  ..., -7.6754e-02,\n",
      "         -2.3242e-02, -1.5879e-01]])), ('rnn.bias_ih_l0', tensor([-0.7461, -0.0937, -0.2845, -0.9543, -0.0406,  0.1317,  0.1006, -0.5948,\n",
      "         0.0617,  0.1893,  0.1415,  0.2204, -0.0053,  0.1440, -0.0873, -0.0709,\n",
      "        -0.0170, -0.7325, -0.0673, -0.4373, -0.1734, -0.0964, -0.1627, -0.9233,\n",
      "        -0.3850, -0.1189,  0.0631, -0.1853, -0.1580, -0.0188, -0.5271,  0.1570])), ('rnn.bias_hh_l0', tensor([-0.7051,  0.0111, -0.3581, -0.9035, -0.0303,  0.0715, -0.1647, -0.4229,\n",
      "         0.0533,  0.1069,  0.2200,  0.1985, -0.0065, -0.0838,  0.0922,  0.1875,\n",
      "        -0.2910, -0.7910, -0.1171, -0.4928, -0.1737,  0.0171, -0.1267, -1.0103,\n",
      "        -0.3869,  0.1128,  0.1738, -0.2951, -0.0658, -0.0967, -0.2834,  0.1005])), ('fc.weight', tensor([[ 1.6655, -0.1028,  1.0946,  1.9420, -0.3890, -0.4094, -0.1596,  1.3901,\n",
      "          0.0722, -0.2826, -0.2641,  0.0354,  0.1556,  0.0504, -0.4395, -0.3369,\n",
      "         -0.6410,  1.5738, -0.3141,  1.3517, -0.3172,  0.2518,  0.3438,  1.8190,\n",
      "         -1.0400, -0.3300, -0.3275,  0.5328,  0.2107,  0.4109,  0.8478,  0.1931]])), ('fc.bias', tensor([-0.4460]))])\n"
     ]
    }
   ],
   "source": [
    "# model training\n",
    "\n",
    "# Model training\n",
    "\n",
    "model = MyModel().to(device)\n",
    "\n",
    "print(model.state_dict())\n",
    "\n",
    "train_losses = [] # To track the training loss\n",
    "validation_losses = [] # To track the validation loss\n",
    "\n",
    "lr = 1e-1\n",
    "n_epochs = 10\n",
    "\n",
    "loss_fn = nn.BCEWithLogitsLoss()  #####\n",
    "optimizer = optim.SGD(model.parameters(), lr=lr)\n",
    "\n",
    "for epoch in range(n_epochs):\n",
    "    # Training Loop\n",
    "    model.train() \n",
    "    train_loss = 0\n",
    "    \n",
    "    for x_batch, y_batch in train_loader: # The mini batches loop for train\n",
    "            \n",
    "        x_batch = x_batch.to(device)\n",
    "        y_batch = y_batch.to(device).squeeze()\n",
    "        \n",
    "        yhat = model(x_batch)\n",
    "        yhat = yhat.view(-1)\n",
    "        loss = loss_fn(yhat, y_batch)\n",
    "        \n",
    "        train_loss += loss.item()\n",
    "        \n",
    "        optimizer.zero_grad()\n",
    "        loss.backward()    \n",
    "        optimizer.step()\n",
    "        \n",
    "    train_loss /= len(train_loader)\n",
    "    train_losses.append(train_loss) # keep tracking of the losses\n",
    "    \n",
    "    # Validation Loop\n",
    "    model.eval()\n",
    "    validation_loss = 0\n",
    "    \n",
    "    with torch.no_grad():\n",
    "        for x_val, y_val in val_loader: # The mini batches loop for validation\n",
    "\n",
    "            x_val = x_val.to(device)\n",
    "            y_val = y_val.to(device).squeeze()\n",
    "\n",
    "            yhat = model(x_val)\n",
    "            yhat = yhat.view(-1)\n",
    "            val_loss = loss_fn(y_val, yhat)\n",
    "            \n",
    "            validation_loss += val_loss.item()\n",
    "    \n",
    "    validation_loss /= len(val_loader)\n",
    "    validation_losses.append(validation_loss) # keep tracking of the losses\n",
    "    \n",
    "print(model.state_dict())"
   ]
  },
  {
   "cell_type": "code",
   "execution_count": 28,
   "metadata": {},
   "outputs": [
    {
     "ename": "NameError",
     "evalue": "name 'X_test' is not defined",
     "output_type": "error",
     "traceback": [
      "\u001b[0;31m---------------------------------------------------------------------------\u001b[0m",
      "\u001b[0;31mNameError\u001b[0m                                 Traceback (most recent call last)",
      "Cell \u001b[0;32mIn[28], line 9\u001b[0m\n\u001b[1;32m      5\u001b[0m ax[\u001b[38;5;241m0\u001b[39m]\u001b[38;5;241m.\u001b[39mplot(validation_losses,  label\u001b[38;5;241m=\u001b[39m\u001b[38;5;124m\"\u001b[39m\u001b[38;5;124mval loss\u001b[39m\u001b[38;5;124m\"\u001b[39m); \n\u001b[1;32m      6\u001b[0m ax[\u001b[38;5;241m0\u001b[39m]\u001b[38;5;241m.\u001b[39mlegend();\n\u001b[0;32m----> 9\u001b[0m y_pred \u001b[38;5;241m=\u001b[39m model( torch\u001b[38;5;241m.\u001b[39mfrom_numpy(X_test)\u001b[38;5;241m.\u001b[39mfloat()\u001b[38;5;241m.\u001b[39mto(device) )\n\u001b[1;32m     10\u001b[0m y_pred \u001b[38;5;241m=\u001b[39m y_pred\u001b[38;5;241m.\u001b[39mdetach()\u001b[38;5;241m.\u001b[39mnumpy()\n\u001b[1;32m     11\u001b[0m plt\u001b[38;5;241m.\u001b[39mplot(y_test,c\u001b[38;5;241m=\u001b[39m\u001b[38;5;124m'\u001b[39m\u001b[38;5;124mb\u001b[39m\u001b[38;5;124m'\u001b[39m)\n",
      "\u001b[0;31mNameError\u001b[0m: name 'X_test' is not defined"
     ]
    },
    {
     "data": {
      "image/png": "[encoded data removed]",
      "text/plain": [
       "<Figure size 1000x400 with 2 Axes>"
      ]
     },
     "metadata": {},
     "output_type": "display_data"
    }
   ],
   "source": [
    "# # Evauation\n",
    "\n",
    "# fig, ax = plt.subplots(1,2, figsize=(10,4))\n",
    "# ax[0].plot(train_losses,  label=\"train loss\"); \n",
    "# ax[0].plot(validation_losses,  label=\"val loss\"); \n",
    "# ax[0].legend();\n",
    "\n",
    "\n",
    "# y_pred = model( torch.from_numpy(X_test).float().to(device) )\n",
    "# y_pred = y_pred.detach().numpy()\n",
    "# plt.plot(y_test,c='b')\n",
    "# plt.plot(y_pred,c='r')\n",
    "# plt.legend()"
   ]
  },
  {
   "cell_type": "code",
   "execution_count": null,
   "metadata": {},
   "outputs": [],
   "source": []
  }
 ],
 "metadata": {
  "kernelspec": {
   "display_name": "base",
   "language": "python",
   "name": "python3"
  },
  "language_info": {
   "codemirror_mode": {
    "name": "ipython",
    "version": 3
   },
   "file_extension": ".py",
   "mimetype": "text/x-python",
   "name": "python",
   "nbconvert_exporter": "python",
   "pygments_lexer": "ipython3",
   "version": "3.1.0"
  }
 },
 "nbformat": 4,
 "nbformat_minor": 2
}
