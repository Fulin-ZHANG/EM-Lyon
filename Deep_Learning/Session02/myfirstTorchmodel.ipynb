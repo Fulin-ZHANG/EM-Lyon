{
 "cells": [
  {
   "cell_type": "code",
   "execution_count": 40,
   "metadata": {},
   "outputs": [],
   "source": [
    "import numpy as np\n",
    "import matplotlib.pyplot as plt"
   ]
  },
  {
   "cell_type": "code",
   "execution_count": 41,
   "metadata": {},
   "outputs": [
    {
     "data": {
      "text/plain": [
       "<matplotlib.collections.PathCollection at 0x176271e50>"
      ]
     },
     "execution_count": 41,
     "metadata": {},
     "output_type": "execute_result"
    },
    {
     "data": {
      "image/png": "[encoded data removed]",
      "text/plain": [
       "<Figure size 300x300 with 1 Axes>"
      ]
     },
     "metadata": {},
     "output_type": "display_data"
    }
   ],
   "source": [
    "np.random.seed(1)\n",
    "\n",
    "X = np.random.rand(100, 1)\n",
    "y = 2. * X + 1. + np.random.rand(100, 1) * 0.2\n",
    "\n",
    "plt.figure(figsize=(3,3))\n",
    "plt.scatter(X, y)"
   ]
  },
  {
   "cell_type": "code",
   "execution_count": 42,
   "metadata": {},
   "outputs": [
    {
     "data": {
      "text/plain": [
       "(1.1001098965912965, 1.993610941380254)"
      ]
     },
     "execution_count": 42,
     "metadata": {},
     "output_type": "execute_result"
    }
   ],
   "source": [
    "# model y_hat = w1 * X +w0\n",
    "# Gradient Descent to find w1 and w0\n",
    "\n",
    "w0 = .1\n",
    "w1 = .1\n",
    "lr = .1\n",
    "\n",
    "for e in range(1000):\n",
    "    y_hat = w1 * X + w0 # model\n",
    "    error = y_hat - y\n",
    "    loss = .5 * (error**2).mean() # loss\n",
    "    \n",
    "    grad_w1 = (X * error).mean()\n",
    "    grad_w0 = error.mean()\n",
    "    \n",
    "    w1 = w1 - lr * grad_w1\n",
    "    w0 = w0 - lr * grad_w0\n",
    "\n",
    "w0,w1"
   ]
  },
  {
   "cell_type": "code",
   "execution_count": 43,
   "metadata": {},
   "outputs": [
    {
     "data": {
      "text/plain": [
       "<torch._C.Generator at 0x12ddafb10>"
      ]
     },
     "execution_count": 43,
     "metadata": {},
     "output_type": "execute_result"
    }
   ],
   "source": [
    "# Using torch\n",
    "import torch\n",
    "import torch.nn as nn # to create the models\n",
    "import torch.optim as optim # to help us the parameters\n",
    "torch.manual_seed(1)"
   ]
  },
  {
   "cell_type": "code",
   "execution_count": 44,
   "metadata": {},
   "outputs": [],
   "source": [
    "# Converting data\n",
    "X_tensor = torch.from_numpy(X).type(torch.float32)\n",
    "y_tensor = torch.from_numpy(y).type(torch.float32)"
   ]
  },
  {
   "cell_type": "code",
   "execution_count": 45,
   "metadata": {},
   "outputs": [
    {
     "data": {
      "text/plain": [
       "(tensor(1.1001, requires_grad=True), tensor(1.9936, requires_grad=True))"
      ]
     },
     "execution_count": 45,
     "metadata": {},
     "output_type": "execute_result"
    }
   ],
   "source": [
    "# model y_hat = w1 * X +w0\n",
    "# Gradient Descent to find w1 and w0\n",
    "\n",
    "w0 = torch.tensor(.1, requires_grad=True)\n",
    "w1 = torch.tensor(.1, requires_grad=True)\n",
    "\n",
    "optimizer = optim.SGD([w0, w1], lr=.1)\n",
    "for e in range(1000):\n",
    "    y_hat = w1 * X_tensor + w0 # model\n",
    "    error = y_hat - y_tensor\n",
    "    loss = .5 * (error**2).mean() # loss\n",
    "    \n",
    "    optimizer.zero_grad()\n",
    "    loss.backward() # computing the grads\n",
    "    optimizer.step() # update\n",
    "\n",
    "w0,w1"
   ]
  },
  {
   "cell_type": "code",
   "execution_count": 46,
   "metadata": {},
   "outputs": [
    {
     "data": {
      "text/plain": [
       "(tensor(1.0996, requires_grad=True), tensor(1.9947, requires_grad=True))"
      ]
     },
     "execution_count": 46,
     "metadata": {},
     "output_type": "execute_result"
    }
   ],
   "source": [
    "# model y_hat = w1 * X +w0\n",
    "# Gradient Descent to find w1 and w0\n",
    "\n",
    "w0 = torch.tensor(.1, requires_grad=True)\n",
    "w1 = torch.tensor(.1, requires_grad=True)\n",
    "\n",
    "optimizer = optim.SGD([w0, w1], lr=.1)\n",
    "loss_fn = nn.MSELoss(reduction='mean')\n",
    "for e in range(1000):\n",
    "    y_hat = w1 * X_tensor + w0 # model\n",
    "    error = y_hat - y_tensor\n",
    "    loss = loss_fn(y_hat, y_tensor) # loss\n",
    "    \n",
    "    optimizer.zero_grad()\n",
    "    loss.backward() # computing the grads\n",
    "    optimizer.step() # update\n",
    "\n",
    "w0,w1"
   ]
  },
  {
   "cell_type": "code",
   "execution_count": 55,
   "metadata": {},
   "outputs": [
    {
     "name": "stdout",
     "output_type": "stream",
     "text": [
      "OrderedDict([('weight', tensor([[0.1449]])), ('bias', tensor([-0.0040]))])\n",
      "OrderedDict([('weight', tensor([[1.9947]])), ('bias', tensor([1.0996]))])\n"
     ]
    }
   ],
   "source": [
    "model = nn.Linear(1,1) # the first one is the nb of inputs and second is nb of outputs\n",
    "\n",
    "optimizer = optim.SGD( model.parameters(), lr=.1)\n",
    "loss_fn = nn.MSELoss(reduction='mean')\n",
    "print(model.state_dict())\n",
    "for e in range(1000):\n",
    "    y_hat = model(X_tensor) # model\n",
    "    loss = loss_fn(y_hat, y_tensor) # loss\n",
    "    \n",
    "    optimizer.zero_grad()\n",
    "    loss.backward() # computing the grads\n",
    "    optimizer.step() # update\n",
    "\n",
    "print(model.state_dict())"
   ]
  },
  {
   "cell_type": "code",
   "execution_count": 56,
   "metadata": {},
   "outputs": [],
   "source": [
    "# Model definition\n",
    "class MyModel(nn.Module):\n",
    "    def __init__(self, n_inputs, n_outputs):\n",
    "        super().__init__\n",
    "        self.linear = nn.linear(n_inputs, n_outputs)\n",
    "        \n",
    "    def forward(self, x):\n",
    "        out = self.linear(x)\n",
    "        return out"
   ]
  },
  {
   "cell_type": "code",
   "execution_count": 57,
   "metadata": {},
   "outputs": [
    {
     "name": "stdout",
     "output_type": "stream",
     "text": [
      "OrderedDict([('weight', tensor([[0.8742]])), ('bias', tensor([0.3112]))])\n",
      "OrderedDict([('weight', tensor([[1.9947]])), ('bias', tensor([1.0996]))])\n"
     ]
    }
   ],
   "source": [
    "model = nn.Linear(1,1) # the first one is the nb of inputs and second is nb of outputs\n",
    "\n",
    "optimizer = optim.SGD( model.parameters(), lr=.1)\n",
    "loss_fn = nn.MSELoss(reduction='mean')\n",
    "print(model.state_dict())\n",
    "for e in range(1000):\n",
    "    y_hat = model(X_tensor) # sending X_tensor to the forward function of the model\n",
    "    loss = loss_fn(y_hat, y_tensor) # loss\n",
    "    \n",
    "    optimizer.zero_grad()\n",
    "    loss.backward() # computing the grads\n",
    "    optimizer.step() # update\n",
    "\n",
    "print(model.state_dict())"
   ]
  },
  {
   "cell_type": "code",
   "execution_count": null,
   "metadata": {},
   "outputs": [],
   "source": []
  }
 ],
 "metadata": {
  "kernelspec": {
   "display_name": "base",
   "language": "python",
   "name": "python3"
  },
  "language_info": {
   "codemirror_mode": {
    "name": "ipython",
    "version": 3
   },
   "file_extension": ".py",
   "mimetype": "text/x-python",
   "name": "python",
   "nbconvert_exporter": "python",
   "pygments_lexer": "ipython3",
   "version": "3.11.4"
  }
 },
 "nbformat": 4,
 "nbformat_minor": 2
}
