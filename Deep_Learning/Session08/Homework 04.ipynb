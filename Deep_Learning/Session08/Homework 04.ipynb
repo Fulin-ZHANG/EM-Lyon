{
 "cells": [
  {
   "cell_type": "markdown",
   "metadata": {},
   "source": [
    "<div>\n",
    "    <img src=\"images/emlyon.png\" style=\"height:60px; float:left; padding-right:10px; margin-top:5px\" />\n",
    "    <span>\n",
    "        <h1 style=\"padding-bottom:5px;\"> Introduction to Deep Learning </h1>\n",
    "        <a href=\"https://masters.em-lyon.com/fr/msc-in-data-science-artificial-intelligence-strategy\">[DSAIS]</a> MSc in Data Science & Artificial Intelligence Strategy <br/>\n",
    "         Paris | © Saeed VARASTEH\n",
    "    </span>\n",
    "</div>"
   ]
  },
  {
   "cell_type": "markdown",
   "metadata": {},
   "source": [
    "<div class=\"alert-info\" style=\"border-bottom: solid 1px lightgray; background-color:#fff4e3;\">\n",
    "    <img src=\"images/homework.png\" style=\"height:60px; float:left; padding-right:10px;\" />\n",
    "    <span style=\"font-weight:bold; color:#db9425\">\n",
    "        <h4 style=\"padding-top:25px;\"> HOMEWORK 04 </h4>\n",
    "    </span>\n",
    "</div>"
   ]
  },
  {
   "cell_type": "markdown",
   "metadata": {},
   "source": [
    "### Homework 04 - In-Class Competition -  Activity Recognition Task\n",
    "\n",
    "<img src=\"./images/Act.png\" style=\"width:50%\" />\n",
    "\n",
    "You've seen the power of transfer learning in building new models; let's try it again. You are going to build a model to predict what a person is doing from a photo.\n",
    "\n",
    "__Dataset summary:__\n",
    "\n",
    "The dataset we are using contains about 12k+ labeled images. Each image has only one human activity category. The dataset features 15 different classes of human activities, namely: - 'calling', ’clapping’, ’cycling’, ’dancing’, ‘drinking’, ‘eating’, ‘fighting’, ‘hugging’, ‘laughing’, ‘listening_to_music’, ‘running’, ‘sitting’, ‘sleeping’, texting’, and ‘using_laptop’.\n",
    "\n",
    "\n",
    "__Objective:__\n",
    "\n",
    "Your task is to build an image classification model using PyTorch pretrained models that classifies which class of activity a human is performing.\n",
    "\n",
    "Here are the steps you need to follow:\n",
    "\n",
    "__Step 1: Preparing Data__\n",
    "\n",
    "Follow the steps below to create the PyTorch dataset.\n",
    "\n",
    "__Step 2: PyTorch DataLoaders__\n",
    "\n",
    "Using the created datasets, build training and validation DataLoaders.\n",
    "\n",
    "__Step 3: Building the Model__\n",
    "\n",
    "Create your model with the help of one of PyTorch's pretrained models. e.g. `resnet50`.\n",
    "\n",
    "__Step 4: Training and Evaluation__\n",
    "\n",
    "Train your model using the train dataset and validate it on the validation dataset.\n",
    "\n",
    "__Step 5: Predictions__\n",
    "\n",
    "Time to put your trained model to the test. This one's on me!\n",
    "\n",
    "---"
   ]
  },
  {
   "cell_type": "code",
   "execution_count": 1,
   "metadata": {},
   "outputs": [
    {
     "data": {
      "text/plain": [
       "<torch._C.Generator at 0x13c466750>"
      ]
     },
     "execution_count": 1,
     "metadata": {},
     "output_type": "execute_result"
    }
   ],
   "source": [
    "import numpy as np\n",
    "import pandas as pd\n",
    "import matplotlib.pyplot as plt\n",
    "\n",
    "import torch\n",
    "import torch.nn as nn\n",
    "import torch.optim as optim\n",
    "\n",
    "from torch.utils.data import Dataset\n",
    "from torch.utils.data import DataLoader\n",
    "from torch.utils.data.dataset import random_split\n",
    "\n",
    "np.random.seed(72)\n",
    "torch.manual_seed(72)"
   ]
  },
  {
   "cell_type": "markdown",
   "metadata": {},
   "source": [
    "---"
   ]
  },
  {
   "cell_type": "markdown",
   "metadata": {},
   "source": [
    "<div class=\"alert-warning\">\n",
    "Once you know that you have prepared the data as I asked, and that you have a a working model and code, you can switch to Kaggle or Colab to train the model on GPUs.\n",
    "</div>"
   ]
  },
  {
   "cell_type": "code",
   "execution_count": 2,
   "metadata": {},
   "outputs": [
    {
     "data": {
      "text/plain": [
       "'mps'"
      ]
     },
     "execution_count": 2,
     "metadata": {},
     "output_type": "execute_result"
    }
   ],
   "source": [
    "device = \"cuda\" if torch.cuda.is_available() else \"mps\"\n",
    "device"
   ]
  },
  {
   "cell_type": "markdown",
   "metadata": {},
   "source": [
    "---"
   ]
  },
  {
   "cell_type": "markdown",
   "metadata": {},
   "source": [
    "### Data Preparation\n",
    "\n",
    "Let's see what we have!\n",
    "\n",
    "`train_all` a directory contains 12,600 images!\n",
    "\n",
    "`train_labels.csv` a csv files contains a list of image names and their corresponding labels.."
   ]
  },
  {
   "cell_type": "code",
   "execution_count": 3,
   "metadata": {},
   "outputs": [
    {
     "name": "stdout",
     "output_type": "stream",
     "text": [
      "(12600, 2)\n"
     ]
    },
    {
     "data": {
      "text/html": [
       "<div>\n",
       "<style scoped>\n",
       "    .dataframe tbody tr th:only-of-type {\n",
       "        vertical-align: middle;\n",
       "    }\n",
       "\n",
       "    .dataframe tbody tr th {\n",
       "        vertical-align: top;\n",
       "    }\n",
       "\n",
       "    .dataframe thead th {\n",
       "        text-align: right;\n",
       "    }\n",
       "</style>\n",
       "<table border=\"1\" class=\"dataframe\">\n",
       "  <thead>\n",
       "    <tr style=\"text-align: right;\">\n",
       "      <th></th>\n",
       "      <th>filename</th>\n",
       "      <th>label</th>\n",
       "    </tr>\n",
       "  </thead>\n",
       "  <tbody>\n",
       "    <tr>\n",
       "      <th>0</th>\n",
       "      <td>Image_1.jpg</td>\n",
       "      <td>sitting</td>\n",
       "    </tr>\n",
       "    <tr>\n",
       "      <th>1</th>\n",
       "      <td>Image_2.jpg</td>\n",
       "      <td>using_laptop</td>\n",
       "    </tr>\n",
       "    <tr>\n",
       "      <th>2</th>\n",
       "      <td>Image_3.jpg</td>\n",
       "      <td>hugging</td>\n",
       "    </tr>\n",
       "    <tr>\n",
       "      <th>3</th>\n",
       "      <td>Image_4.jpg</td>\n",
       "      <td>sleeping</td>\n",
       "    </tr>\n",
       "    <tr>\n",
       "      <th>4</th>\n",
       "      <td>Image_5.jpg</td>\n",
       "      <td>using_laptop</td>\n",
       "    </tr>\n",
       "  </tbody>\n",
       "</table>\n",
       "</div>"
      ],
      "text/plain": [
       "      filename         label\n",
       "0  Image_1.jpg       sitting\n",
       "1  Image_2.jpg  using_laptop\n",
       "2  Image_3.jpg       hugging\n",
       "3  Image_4.jpg      sleeping\n",
       "4  Image_5.jpg  using_laptop"
      ]
     },
     "execution_count": 3,
     "metadata": {},
     "output_type": "execute_result"
    }
   ],
   "source": [
    "train_files = \"./data/Activities/train_all/\"\n",
    "train_df = pd.read_csv('./data/Activities/train_labels.csv')\n",
    "print(train_df.shape)\n",
    "train_df.head()"
   ]
  },
  {
   "cell_type": "markdown",
   "metadata": {},
   "source": [
    "In order for us to be able to use TorchVision ImageFolder for datasets (which is the most convenient way to handle image datasets), we need to create a directory for each class of images and then move each image into its corresponding directory. \n",
    "\n",
    "Of course we do not want to do this manually!\n",
    "\n",
    "</br>\n",
    "<div class=\"alert-info\">\n",
    "If you do not know how, ask ChatGPT! to write some code to do this for you. (yes! this is the first time I am asking you to use it, and I know you have been using it before!)\n",
    "</div>\n",
    "\n",
    "After this step, you should have a directory called __train__, where inside we have 15 directories named based on each class of activity, and the corresponding images are stored inside."
   ]
  },
  {
   "cell_type": "code",
   "execution_count": 4,
   "metadata": {},
   "outputs": [],
   "source": [
    "# # your code\n",
    "\n",
    "# import os\n",
    "# root_path = \"./data/Activities\"\n",
    "# # # create the folders by the unique value of df['label]\n",
    "# # for label in train_df['label'].unique():\n",
    "# #     os.makedirs(f\"{root_path}/{label}\", exist_ok=True)\n",
    "\n",
    "# # 遍历\"./data/Activities/train_all/\"文件夹下的所有文件，读取文件名可以在df['filename']中找到，然后把他移动到对应的文件夹中\n",
    "\n",
    "# import shutil\n",
    "# for i in range(train_df.shape[0]):\n",
    "#     label = train_df['label'][i]\n",
    "#     filename = train_df['filename'][i]\n",
    "#     shutil.move(f\"{root_path}/train_all/{filename}\", f\"{root_path}/{label}/{filename}\")"
   ]
  },
  {
   "cell_type": "markdown",
   "metadata": {},
   "source": [
    "Let's see if you got it right:"
   ]
  },
  {
   "cell_type": "code",
   "execution_count": 5,
   "metadata": {},
   "outputs": [],
   "source": [
    "from PIL import Image\n",
    "from IPython.display import display"
   ]
  },
  {
   "cell_type": "code",
   "execution_count": 6,
   "metadata": {},
   "outputs": [
    {
     "data": {
      "image/png": "[encoded data removed]",
      "text/plain": [
       "<PIL.JpegImagePlugin.JpegImageFile image mode=RGB size=305x165>"
      ]
     },
     "metadata": {},
     "output_type": "display_data"
    }
   ],
   "source": [
    "img = Image.open('./data/Activities/train/running/Image_614.jpg')\n",
    "display(img)"
   ]
  },
  {
   "cell_type": "markdown",
   "metadata": {},
   "source": [
    "#### Transformations"
   ]
  },
  {
   "cell_type": "markdown",
   "metadata": {},
   "source": [
    "Bring the Torchvision libraries here."
   ]
  },
  {
   "cell_type": "code",
   "execution_count": 7,
   "metadata": {},
   "outputs": [],
   "source": [
    "# your code\n",
    "from torchvision import transforms\n",
    "from torchvision import datasets\n",
    "from torchvision import models"
   ]
  },
  {
   "cell_type": "markdown",
   "metadata": {},
   "source": [
    "Create a TorchVision transformation consisting of (at least) these four operations. \n",
    "\n",
    "- Resize the image to 256. \n",
    "- CenterCrop image to 224. The size needed for __restnet50__ model.\n",
    "- Convert to tensors.\n",
    "- Normalize with: [0.485, 0.456, 0.406], [0.229, 0.224, 0.225]\n",
    "    \n",
    "named it __image_transform__.\n",
    "\n",
    "<span style=\"color:crimson\">Note:</span> If you want to add other transformations, you should create two transformations, one for train and one for validation/test. "
   ]
  },
  {
   "cell_type": "code",
   "execution_count": 8,
   "metadata": {},
   "outputs": [],
   "source": [
    "# your code\n",
    "train_transform = transforms.Compose([\n",
    "    transforms.Resize(256), # 缩放\n",
    "    \n",
    "    # transforms.RandomResizedCrop(224), # 随机获取224*224的图片矩阵\n",
    "    \n",
    "    transforms.CenterCrop(224), # 224 * 224 the size needed bu the model I am going to use\n",
    "    \n",
    "    # transforms.ColorJitter(),\n",
    "    # transforms.RandomRotation(degrees=15),\n",
    "    \n",
    "    transforms.ToTensor(),\n",
    "    transforms.Normalize([0.485, 0.456, 0.406], [0.229, 0.224, 0.225]) # **\n",
    "])"
   ]
  },
  {
   "cell_type": "markdown",
   "metadata": {},
   "source": [
    "### Dataset"
   ]
  },
  {
   "cell_type": "markdown",
   "metadata": {},
   "source": [
    "Now create a dataset named __train_dataset__ using TorchVIsion ImageFolder for your training data."
   ]
  },
  {
   "cell_type": "code",
   "execution_count": 9,
   "metadata": {},
   "outputs": [],
   "source": [
    "# your code\n",
    "train_dataset = datasets.ImageFolder(root=\"./data/Activities/train\", transform=train_transform)"
   ]
  },
  {
   "cell_type": "markdown",
   "metadata": {},
   "source": [
    "Check:"
   ]
  },
  {
   "cell_type": "code",
   "execution_count": 10,
   "metadata": {},
   "outputs": [
    {
     "data": {
      "text/plain": [
       "12600"
      ]
     },
     "execution_count": 10,
     "metadata": {},
     "output_type": "execute_result"
    }
   ],
   "source": [
    "len(train_dataset)"
   ]
  },
  {
   "cell_type": "code",
   "execution_count": 11,
   "metadata": {},
   "outputs": [
    {
     "data": {
      "text/plain": [
       "{'calling': 0,\n",
       " 'clapping': 1,\n",
       " 'cycling': 2,\n",
       " 'dancing': 3,\n",
       " 'drinking': 4,\n",
       " 'eating': 5,\n",
       " 'fighting': 6,\n",
       " 'hugging': 7,\n",
       " 'laughing': 8,\n",
       " 'listening_to_music': 9,\n",
       " 'running': 10,\n",
       " 'sitting': 11,\n",
       " 'sleeping': 12,\n",
       " 'texting': 13,\n",
       " 'using_laptop': 14}"
      ]
     },
     "execution_count": 11,
     "metadata": {},
     "output_type": "execute_result"
    }
   ],
   "source": [
    "categories = train_dataset.class_to_idx\n",
    "categories"
   ]
  },
  {
   "cell_type": "markdown",
   "metadata": {},
   "source": [
    "### Train/Validation Split"
   ]
  },
  {
   "cell_type": "code",
   "execution_count": 12,
   "metadata": {},
   "outputs": [
    {
     "data": {
      "text/plain": [
       "(11000, 1600)"
      ]
     },
     "execution_count": 12,
     "metadata": {},
     "output_type": "execute_result"
    }
   ],
   "source": [
    "train_dataset, val_dataset = random_split(train_dataset, [11000, 1600])\n",
    "\n",
    "len(train_dataset), len(val_dataset)"
   ]
  },
  {
   "cell_type": "markdown",
   "metadata": {},
   "source": [
    "### DataLoaders"
   ]
  },
  {
   "cell_type": "markdown",
   "metadata": {},
   "source": [
    "Using the created datasets, build training and validation DataLoaders."
   ]
  },
  {
   "cell_type": "code",
   "execution_count": 13,
   "metadata": {},
   "outputs": [],
   "source": [
    "# your code\n",
    "train_loader = DataLoader(dataset=train_dataset, batch_size=128)\n",
    "val_loader = DataLoader(dataset=val_dataset, batch_size=128)"
   ]
  },
  {
   "cell_type": "code",
   "execution_count": 14,
   "metadata": {},
   "outputs": [
    {
     "data": {
      "text/plain": [
       "(86, 13)"
      ]
     },
     "execution_count": 14,
     "metadata": {},
     "output_type": "execute_result"
    }
   ],
   "source": [
    "len(train_loader), len(val_loader)"
   ]
  },
  {
   "cell_type": "markdown",
   "metadata": {},
   "source": [
    "Let's check the input, output dimensions:"
   ]
  },
  {
   "cell_type": "code",
   "execution_count": 15,
   "metadata": {},
   "outputs": [
    {
     "data": {
      "text/plain": [
       "(torch.Size([128, 3, 224, 224]), torch.Size([128]))"
      ]
     },
     "execution_count": 15,
     "metadata": {},
     "output_type": "execute_result"
    }
   ],
   "source": [
    "img, label = next(iter(val_loader))\n",
    "img.shape, label.shape"
   ]
  },
  {
   "cell_type": "markdown",
   "metadata": {},
   "source": [
    "### Building a Model"
   ]
  },
  {
   "cell_type": "markdown",
   "metadata": {},
   "source": [
    "Based on what I told you about how we build models in transfer learning (you can also check the corresponding code file), build a classification model using `resnet50` to classify our images.\n",
    "\n",
    "Here are the steps you can follow:\n",
    "\n",
    "- Bring `resnet50` from torchvision models.\n",
    "- Review the model layers and architecture. (It is a very large model, trained to classify 1000 image labels, so it can be used as a powerful feature extractor).\n",
    "- The only part of the model I want you to change is the __fc__ part at the end. Replace it with your own __fc__ classifier head. \n",
    "- Remember to freeze the beginning part of the model. (We will talk about this step more in class)"
   ]
  },
  {
   "cell_type": "code",
   "execution_count": 16,
   "metadata": {},
   "outputs": [],
   "source": [
    "# class ActionClassifier(nn.Module):\n",
    "#     def __init__(self):\n",
    "#         super().__init__()\n",
    "#         pass\n",
    "        \n",
    "#     def forward(self, x):\n",
    "#         pass\n",
    "\n",
    "# class MyResnet50Model(nn.Module):\n",
    "#     def __init__(self):\n",
    "#         super(MyResnet50Model, self).__init__()\n",
    "#         # Load a pretrained resnet50 model\n",
    "#         resnet50_model = models.resnet50(weights=\"DEFAULT\")\n",
    "\n",
    "#         # Remove the last fully connected layer (fc)\n",
    "#         # Note: PyTorch's ResNet model doesn't use an 'avgpool' layer directly before 'fc'.\n",
    "#         # The 'avgpool' operation is integrated into the forward method of the model.\n",
    "#         modules = list(resnet50_model.children())[:-1]  # remove the last fc layer\n",
    "#         self.resnet50_feature_extractor = nn.Sequential(*modules)\n",
    "\n",
    "#         # Create a new fully connected layer (or a set of them) as replacement\n",
    "#         self.fc = nn.Sequential(\n",
    "#             nn.Flatten(),\n",
    "#             nn.Linear(2048, 500),  # Adjust the in_features to match ResNet50's last layer output\n",
    "#             nn.ReLU(),             # Adding a ReLU activation function\n",
    "#             nn.Linear(500, 1)\n",
    "#         )\n",
    "\n",
    "#     def forward(self, x):\n",
    "#         out = self.resnet50_feature_extractor(x)\n",
    "#         out = self.fc(out)\n",
    "#         return out\n",
    "    \n",
    "# tmpModel = MyResnet50Model().to(device)\n",
    "# tmpImg, _ = next(iter(train_loader))\n",
    "# tmpImg = tmpImg.to(device)\n",
    "# tmpOut = tmpModel(tmpImg)\n",
    "# tmpOut.shape\n",
    "\n",
    "\n",
    "\n",
    "# class MyResnet50Model(nn.Module):\n",
    "#     def __init__(self):\n",
    "#         super(MyResnet50Model, self).__init__()\n",
    "#         # Load a pre-trained ResNet-50 model\n",
    "#         resnet50_model = models.resnet50(pretrained=True)  # Ensure 'pretrained=True' is correctly set\n",
    "\n",
    "#         # Retain all layers except the final fully connected layer\n",
    "#         self.features = nn.Sequential(*list(resnet50_model.children())[:-2])\n",
    "        \n",
    "#         # Define the new fully connected layer\n",
    "#         self.fc = nn.Sequential(\n",
    "#             nn.AdaptiveAvgPool2d((1, 1)),\n",
    "#             nn.Flatten(),\n",
    "#             nn.Linear(2048, 500),\n",
    "#             nn.ReLU(),\n",
    "#             nn.Linear(500, 15)\n",
    "#         )\n",
    "        \n",
    "#     def forward(self, x):\n",
    "#         x = self.features(x)\n",
    "#         x = self.fc(x)\n",
    "#         return x\n",
    "\n",
    "# # Example usage\n",
    "# device = torch.device(\"cuda\" if torch.cuda.is_available() else \"mps\")\n",
    "# model = MyResnet50Model().to(device)\n",
    "\n",
    "# # Freezing the features layers weights\n",
    "# for param in model.features.parameters():\n",
    "#     param.requires_grad = False\n",
    "\n",
    "\n",
    "# tmpModel = MyResnet50Model().to(device)\n",
    "# tmpImg, _ = next(iter(train_loader))\n",
    "# tmpImg = tmpImg.to(device)\n",
    "# tmpOut = tmpModel(tmpImg)\n",
    "# tmpOut.shape"
   ]
  },
  {
   "cell_type": "code",
   "execution_count": 17,
   "metadata": {},
   "outputs": [],
   "source": [
    "import torch\n",
    "import torch.nn as nn\n",
    "import torchvision.models as models\n",
    "from torchvision.models.resnet import ResNet50_Weights\n",
    "\n",
    "class MyResnet50Model(nn.Module):\n",
    "    def __init__(self, num_classes=15):  # Adding flexibility for number of classes\n",
    "        super(MyResnet50Model, self).__init__()\n",
    "        # Load a pre-trained ResNet-50 model with updated syntax\n",
    "        resnet50_weights = ResNet50_Weights.DEFAULT\n",
    "        resnet50_model = models.resnet50(weights=resnet50_weights)\n",
    "\n",
    "        # Retain all layers except the final fully connected layer\n",
    "        self.features = nn.Sequential(*list(resnet50_model.children())[:-1])\n",
    "        \n",
    "        # Define the new fully connected layer for 15 classes\n",
    "        self.fc = nn.Sequential(\n",
    "            nn.AdaptiveAvgPool2d((1, 1)),\n",
    "            nn.Flatten(),\n",
    "            nn.Linear(2048, 500),\n",
    "            nn.ReLU(),\n",
    "            nn.Linear(500, num_classes)  # Adjusted for flexibility\n",
    "        )\n",
    "        \n",
    "    def forward(self, x):\n",
    "        x = self.features(x)\n",
    "        x = self.fc(x)\n",
    "        return x\n",
    "\n",
    "# Example usage\n",
    "device = torch.device(\"cuda\" if torch.cuda.is_available() else \"mps\")  # Adjusted for compatibility\n",
    "model = MyResnet50Model().to(device)\n",
    "\n",
    "# Freezing the feature layers' weights\n",
    "for param in model.features.parameters():\n",
    "    param.requires_grad = False\n",
    "\n",
    "# Assuming train_loader is properly defined and contains the preprocessed data\n",
    "# tmpModel, tmpImg, and tmpOut usage remains the same as in your example"
   ]
  },
  {
   "cell_type": "code",
   "execution_count": 18,
   "metadata": {},
   "outputs": [
    {
     "data": {
      "text/plain": [
       "torch.Size([128, 15])"
      ]
     },
     "execution_count": 18,
     "metadata": {},
     "output_type": "execute_result"
    }
   ],
   "source": [
    "tmpModel = MyResnet50Model().to(device)\n",
    "tmpImg, _ = next(iter(train_loader))\n",
    "tmpImg = tmpImg.to(device)\n",
    "tmpOut = tmpModel(tmpImg)\n",
    "tmpOut.shape"
   ]
  },
  {
   "cell_type": "code",
   "execution_count": 19,
   "metadata": {},
   "outputs": [],
   "source": [
    "# # your code\n",
    "# # Freezing the features layers weights\n",
    "# model = MyResnet50Model().to(device)\n",
    "# # print(model)\n",
    "\n",
    "# for params in model.features.parameters():\n",
    "#     # print(params.shape)\n",
    "#     # print(params.requires_grad)\n",
    "#     params.requires_grad = False\n",
    "# print(\"Done\")"
   ]
  },
  {
   "cell_type": "markdown",
   "metadata": {},
   "source": [
    "### Model Training"
   ]
  },
  {
   "cell_type": "markdown",
   "metadata": {},
   "source": [
    "Of course, you know the rest by now! Bring in the accuracy function and the train/validate loop. \n",
    "\n",
    "Train the model and plot the loss and accuracy curves."
   ]
  },
  {
   "cell_type": "code",
   "execution_count": 20,
   "metadata": {},
   "outputs": [],
   "source": [
    "# your code\n",
    "def accuracy_fn(y_true, y_pred):\n",
    "    correct = torch.eq(y_true, y_pred).sum().item() # torch.eq() calculates where two tensors are equal\n",
    "    acc = (correct / len(y_pred)) * 100 \n",
    "    return acc"
   ]
  },
  {
   "cell_type": "code",
   "execution_count": 21,
   "metadata": {},
   "outputs": [
    {
     "name": "stdout",
     "output_type": "stream",
     "text": [
      "Epoch: 1 | Train Loss: 1.36284, Train Acc: 58.95% | Validation Loss: 1.08178, Validation Acc: 66.56%\n",
      "Epoch: 2 | Train Loss: 0.82622, Train Acc: 74.37% | Validation Loss: 1.00365, Validation Acc: 69.56%\n",
      "Epoch: 3 | Train Loss: 0.65247, Train Acc: 80.13% | Validation Loss: 1.00906, Validation Acc: 69.31%\n",
      "Epoch: 4 | Train Loss: 0.52585, Train Acc: 84.31% | Validation Loss: 1.06209, Validation Acc: 67.00%\n",
      "Epoch: 5 | Train Loss: 0.42875, Train Acc: 87.55% | Validation Loss: 1.12579, Validation Acc: 66.94%\n",
      "Epoch: 6 | Train Loss: 0.35167, Train Acc: 90.07% | Validation Loss: 1.24475, Validation Acc: 65.88%\n",
      "Epoch: 7 | Train Loss: 0.29283, Train Acc: 91.84% | Validation Loss: 1.31715, Validation Acc: 65.25%\n",
      "Stopping early at epoch 7 due to no improvement in validation loss.\n",
      "Training completed in 1090.236 seconds on mps\n"
     ]
    }
   ],
   "source": [
    "from timeit import default_timer as timer\n",
    "start_time = timer()  # timer start\n",
    "\n",
    "train_losses = []\n",
    "train_accs = []\n",
    "validation_losses = []\n",
    "validation_accs = []\n",
    "\n",
    "lr = 0.001\n",
    "n_epochs = 10\n",
    "\n",
    "loss_fn = nn.CrossEntropyLoss()  # Use CrossEntropyLoss for multi-class classification\n",
    "optimizer = optim.Adam(model.parameters(), lr=lr)\n",
    "\n",
    "patience = 5\n",
    "patience_counter = 0\n",
    "best_val_loss = float('inf')\n",
    "\n",
    "for epoch in range(n_epochs):\n",
    "    # Training Loop\n",
    "    model.train()\n",
    "    train_loss, train_correct = 0, 0\n",
    "    \n",
    "    for x_batch, y_batch in train_loader:\n",
    "        x_batch = x_batch.to(device)\n",
    "        y_batch = y_batch.to(device).long()  # Ensure labels are long integers\n",
    "        \n",
    "        y_logits = model(x_batch)\n",
    "        loss = loss_fn(y_logits, y_batch)\n",
    "        \n",
    "        train_loss += loss.item()\n",
    "        \n",
    "        optimizer.zero_grad()\n",
    "        loss.backward()\n",
    "        optimizer.step()\n",
    "        \n",
    "        # Convert logits to predicted class indices\n",
    "        y_pred = torch.argmax(y_logits, dim=1)\n",
    "        train_correct += torch.eq(y_batch, y_pred).sum().item()\n",
    "        \n",
    "    train_acc = (train_correct / len(train_loader.dataset)) * 100\n",
    "    train_losses.append(train_loss / len(train_loader))\n",
    "    train_accs.append(train_acc)\n",
    "    \n",
    "    # Validation Loop\n",
    "    model.eval()\n",
    "    validation_loss, validation_correct = 0, 0\n",
    "    \n",
    "    with torch.no_grad():\n",
    "        for x_val, y_val in val_loader:\n",
    "            x_val = x_val.to(device)\n",
    "            y_val = y_val.to(device).long()\n",
    "            \n",
    "            y_logits = model(x_val)\n",
    "            val_loss = loss_fn(y_logits, y_val)\n",
    "            \n",
    "            validation_loss += val_loss.item()\n",
    "            \n",
    "            # Convert logits to predicted class indices for validation set\n",
    "            y_pred = torch.argmax(y_logits, dim=1)\n",
    "            validation_correct += torch.eq(y_val, y_pred).sum().item()\n",
    "        \n",
    "    validation_acc = (validation_correct / len(val_loader.dataset)) * 100\n",
    "    validation_losses.append(validation_loss / len(val_loader))\n",
    "    validation_accs.append(validation_acc)\n",
    "    \n",
    "    # Print out what's happening, every epoch\n",
    "    print(f\"Epoch: {epoch+1} | Train Loss: {train_losses[-1]:.5f}, Train Acc: {train_acc:.2f}% | Validation Loss: {validation_losses[-1]:.5f}, Validation Acc: {validation_acc:.2f}%\")\n",
    "\n",
    "    if validation_losses[-1] < best_val_loss:\n",
    "        best_val_loss = validation_losses[-1]\n",
    "        patience_counter = 0\n",
    "    else:\n",
    "        patience_counter += 1\n",
    "\n",
    "    if patience_counter >= patience:\n",
    "        print(f\"Stopping early at epoch {epoch+1} due to no improvement in validation loss.\")\n",
    "        break\n",
    "\n",
    "end_time = timer()  # timer end\n",
    "total_time = end_time - start_time\n",
    "print(f\"Training completed in {total_time:.3f} seconds on {device}\")"
   ]
  },
  {
   "cell_type": "markdown",
   "metadata": {},
   "source": [
    "Learning curves:"
   ]
  },
  {
   "cell_type": "code",
   "execution_count": 22,
   "metadata": {},
   "outputs": [
    {
     "data": {
      "image/png": "[encoded data removed]",
      "text/plain": [
       "<Figure size 1000x400 with 2 Axes>"
      ]
     },
     "metadata": {},
     "output_type": "display_data"
    }
   ],
   "source": [
    "# your code\n",
    "fig, ax = plt.subplots(1,2, figsize=(10,4))\n",
    "ax[0].plot(train_losses,  label=\"train loss\"); \n",
    "ax[0].plot(validation_losses,  label=\"val loss\"); \n",
    "ax[0].legend();\n",
    "\n",
    "ax[1].plot(train_accs,  label=\"train acc\");\n",
    "ax[1].plot(validation_accs,  label=\"val acc\"); \n",
    "ax[1].legend();"
   ]
  },
  {
   "cell_type": "markdown",
   "metadata": {},
   "source": [
    "---"
   ]
  },
  {
   "cell_type": "markdown",
   "metadata": {},
   "source": [
    "### Making Predications"
   ]
  },
  {
   "cell_type": "markdown",
   "metadata": {},
   "source": [
    "When you are done training your model, simply run the following code. It will save your model as a file named __model.pt__.  Send it to me to test it on the test data,"
   ]
  },
  {
   "cell_type": "code",
   "execution_count": 23,
   "metadata": {},
   "outputs": [],
   "source": [
    "# DO NOT CHANGE\n",
    "img, _ = next(iter(val_loader))\n",
    "img = img.to(device)\n",
    "\n",
    "with torch.no_grad():\n",
    "    model_trace = torch.jit.trace(model, (img))\n",
    "    \n",
    "torch.jit.save(model_trace,\"model.pt\")"
   ]
  },
  {
   "cell_type": "markdown",
   "metadata": {},
   "source": [
    "---"
   ]
  },
  {
   "cell_type": "code",
   "execution_count": null,
   "metadata": {},
   "outputs": [],
   "source": []
  }
 ],
 "metadata": {
  "kernelspec": {
   "display_name": "Python 3 (ipykernel)",
   "language": "python",
   "name": "python3"
  },
  "language_info": {
   "codemirror_mode": {
    "name": "ipython",
    "version": 3
   },
   "file_extension": ".py",
   "mimetype": "text/x-python",
   "name": "python",
   "nbconvert_exporter": "python",
   "pygments_lexer": "ipython3",
   "version": "3.11.5"
  }
 },
 "nbformat": 4,
 "nbformat_minor": 2
}
