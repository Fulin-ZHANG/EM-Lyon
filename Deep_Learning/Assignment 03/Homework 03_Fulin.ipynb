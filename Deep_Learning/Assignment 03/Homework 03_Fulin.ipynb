{
 "cells": [
  {
   "cell_type": "markdown",
   "metadata": {},
   "source": [
    "<div>\n",
    "    <img src=\"images/emlyon.png\" style=\"height:60px; float:left; padding-right:10px; margin-top:5px\" />\n",
    "    <span>\n",
    "        <h1 style=\"padding-bottom:5px;\"> Introduction to Deep Learning </h1>\n",
    "        <a href=\"https://masters.em-lyon.com/fr/msc-in-data-science-artificial-intelligence-strategy\">[DSAIS]</a> MSc in Data Science & Artificial Intelligence Strategy <br/>\n",
    "         Paris | © Saeed VARASTEH\n",
    "    </span>\n",
    "</div>"
   ]
  },
  {
   "cell_type": "markdown",
   "metadata": {},
   "source": [
    "<div class=\"alert-info\" style=\"border-bottom: solid 1px lightgray; background-color:#fff4e3;\">\n",
    "    <img src=\"images/homework.png\" style=\"height:60px; float:left; padding-right:10px;\" />\n",
    "    <span style=\"font-weight:bold; color:#db9425\">\n",
    "        <h4 style=\"padding-top:25px;\"> HOMEWORK 03 </h4>\n",
    "    </span>\n",
    "</div>"
   ]
  },
  {
   "cell_type": "markdown",
   "metadata": {},
   "source": [
    "### Homework 03 - Sentiment Analysis\n",
    "\n",
    "<img style=\"width:20%\" src=\"./images/sentiment-analysis.jpg\" />\n",
    "\n",
    "In this assignment, you'll be working with the Amazon Customer Reviews dataset. This dataset consists of 4 million Amazon customer reviews. You are going to build a sentiment classification model on this dataset.\n",
    "\n",
    "Our goal at this implementation will be to create a multi-layered LSTM model that can accurately classify and distinguish the sentiment of a review.\n",
    "\n",
    "You can run the codes on a GPU to speed up the training process.\n",
    "\n",
    "Here are the steps you need to follow:\n",
    "\n",
    "__Step 1: Data Preprocessing__\n",
    "\n",
    "I helped you with this step! Data loading, preprocessing, and tokenization. \n",
    "\n",
    "Follow my code and do what I have asked you to do. You can use the functions and code we used in class.\n",
    "\n",
    "__Step 2: PyTorch Dataset and DataLoaders__\n",
    "\n",
    "Create the PyTorch datasets and dataloaders as we did in class.\n",
    "\n",
    "__Step 3: Building the Model__\n",
    "\n",
    "Build a multi-layered LSTM model, (be creative), and add any classifier head on top of it.\n",
    "\n",
    "__Step 4: Model Training and Evaluation__\n",
    "\n",
    "Train the model and validate it using the validation set.\n",
    "\n",
    "__Step 5: Model Testing__\n",
    "\n",
    "Compute and report your accuracy on the test dataset."
   ]
  },
  {
   "cell_type": "markdown",
   "metadata": {},
   "source": [
    "<div class=\"alert-danger\">\n",
    "Do not use any online resources to complete this assignment. You have been given everything you need to complete this assignment.\n",
    "</div>"
   ]
  },
  {
   "cell_type": "markdown",
   "metadata": {},
   "source": [
    "---"
   ]
  },
  {
   "cell_type": "code",
   "execution_count": 1,
   "metadata": {},
   "outputs": [
    {
     "data": {
      "text/plain": [
       "<torch._C.Generator at 0x13f766750>"
      ]
     },
     "execution_count": 1,
     "metadata": {},
     "output_type": "execute_result"
    }
   ],
   "source": [
    "import numpy as np\n",
    "import pandas as pd\n",
    "import matplotlib.pyplot as plt\n",
    "\n",
    "import torch\n",
    "import torch.nn as nn\n",
    "import torch.optim as optim\n",
    "\n",
    "from torch.utils.data import Dataset\n",
    "from torch.utils.data import DataLoader\n",
    "from torch.utils.data.dataset import random_split\n",
    "\n",
    "np.random.seed(72) # DO NOT CHANGE THIS\n",
    "torch.manual_seed(72) # DO NOT CHANGE THIS"
   ]
  },
  {
   "cell_type": "markdown",
   "metadata": {},
   "source": [
    "---"
   ]
  },
  {
   "cell_type": "code",
   "execution_count": 2,
   "metadata": {},
   "outputs": [
    {
     "data": {
      "text/plain": [
       "'cpu'"
      ]
     },
     "execution_count": 2,
     "metadata": {},
     "output_type": "execute_result"
    }
   ],
   "source": [
    "# Setup device automatically\n",
    "device = \"cuda\" if torch.cuda.is_available() else \"cpu\"\n",
    "device"
   ]
  },
  {
   "cell_type": "markdown",
   "metadata": {},
   "source": [
    "---"
   ]
  },
  {
   "cell_type": "markdown",
   "metadata": {},
   "source": [
    "### Data"
   ]
  },
  {
   "cell_type": "markdown",
   "metadata": {},
   "source": [
    "#### Getting data\n",
    "\n",
    "As the data is compressed in the bz2 format, we'll use the Python bz2 module to read the data"
   ]
  },
  {
   "cell_type": "code",
   "execution_count": 3,
   "metadata": {},
   "outputs": [
    {
     "name": "stdout",
     "output_type": "stream",
     "text": [
      "Done\n"
     ]
    }
   ],
   "source": [
    "import bz2\n",
    "# Be patient, this step takes a long time to execute.\n",
    "train_file_all = bz2.BZ2File(\"./data/AmazonReviews/train.ft.txt.bz2\").readlines()\n",
    "test_file_all = bz2.BZ2File(\"./data/AmazonReviews/test.ft.txt.bz2\").readlines()\n",
    "\n",
    "print('Done')"
   ]
  },
  {
   "cell_type": "code",
   "execution_count": 4,
   "metadata": {},
   "outputs": [
    {
     "name": "stdout",
     "output_type": "stream",
     "text": [
      "Number of training reivews: 3600000\n",
      "Number of test reviews: 400000\n"
     ]
    }
   ],
   "source": [
    "print(\"Number of training reivews: \" + str(len(train_file_all)))\n",
    "print(\"Number of test reviews: \" + str(len(test_file_all)))"
   ]
  },
  {
   "cell_type": "markdown",
   "metadata": {},
   "source": [
    "This dataset contains a total of 4 million reviews - 3.6 million training and 0.4 million testing. We won't be using the entire dataset to save time."
   ]
  },
  {
   "cell_type": "code",
   "execution_count": 5,
   "metadata": {},
   "outputs": [],
   "source": [
    "import random\n",
    "random.seed(72) # DO NOT CHANGE THIS\n",
    "\n",
    "num_train = 10000 # DO NOT CHANGE THIS\n",
    "num_test = 500 # DO NOT CHANGE THIS\n",
    "\n",
    "train_file = [x.decode(\"utf-8\") for x in random.sample(train_file_all, num_train)]\n",
    "test_file = [x.decode(\"utf-8\") for x in random.sample(test_file_all, num_test)]"
   ]
  },
  {
   "cell_type": "code",
   "execution_count": 6,
   "metadata": {},
   "outputs": [
    {
     "name": "stdout",
     "output_type": "stream",
     "text": [
      "Number of training reivews: 10000\n",
      "Number of test reviews: 500\n"
     ]
    }
   ],
   "source": [
    "print(\"Number of training reivews: \" + str(len(train_file)))\n",
    "print(\"Number of test reviews: \" + str(len(test_file)))"
   ]
  },
  {
   "cell_type": "markdown",
   "metadata": {},
   "source": [
    "Some examples:\n",
    "\n",
    "<img style=\"width:70%\" src=\"data/AmazonReviews/screenshots/one.png\" />"
   ]
  },
  {
   "cell_type": "code",
   "execution_count": 7,
   "metadata": {},
   "outputs": [
    {
     "data": {
      "text/plain": [
       "\"__label__1 Toxins: On the back of this product it states that it has a chemical in it known to the state of California to cause cancer. I wouldn't have purchased it if I had know this. It cost half the price of the product to ship it back to Amazon so it was hardly worth it.\\n\""
      ]
     },
     "execution_count": 7,
     "metadata": {},
     "output_type": "execute_result"
    }
   ],
   "source": [
    "train_file[0]"
   ]
  },
  {
   "cell_type": "code",
   "execution_count": 8,
   "metadata": {},
   "outputs": [
    {
     "data": {
      "text/plain": [
       "'__label__2 Great way to remember some of the best classics: If you played all this games at the arcade, you will surely like this game.Still, new comers might find it not so appealing.\\n'"
      ]
     },
     "execution_count": 8,
     "metadata": {},
     "output_type": "execute_result"
    }
   ],
   "source": [
    "train_file[3]"
   ]
  },
  {
   "cell_type": "markdown",
   "metadata": {},
   "source": [
    "### Data preprocessing"
   ]
  },
  {
   "cell_type": "markdown",
   "metadata": {},
   "source": [
    "#### Extracting labels from sentences\n",
    "\n",
    "As you can see, each sentence starts with a \\_\\_label\\_\\_1/2 and then the review itself. You need to extract these labels from the sentences.\n",
    "\n",
    "__Note:__ Positive reviews are labeled as \\_\\_label\\_\\_2 and negative reviews are labeled as _\\_label\\_\\_1.\n",
    "\n",
    "Create training and test labels where positive labels are converted to 1 and negative labels are converted to 0.\n",
    "\n",
    "Create training and test reviews as review text."
   ]
  },
  {
   "cell_type": "code",
   "execution_count": 9,
   "metadata": {},
   "outputs": [],
   "source": [
    "def extract_text_label(line):\n",
    "    parts = line.split(' ', 1)\n",
    "    label = 1 if parts[0] == \"__label__2\" else 0\n",
    "    text = parts[1]\n",
    "    return label, text"
   ]
  },
  {
   "cell_type": "code",
   "execution_count": 10,
   "metadata": {},
   "outputs": [],
   "source": [
    "train_labels, train_reviews = zip(*[extract_text_label(line) for line in train_file])\n",
    "\n",
    "test_labels, test_reviews = zip(*[extract_text_label(line) for line in test_file])"
   ]
  },
  {
   "cell_type": "markdown",
   "metadata": {},
   "source": [
    "Desired outputs:\n",
    "\n",
    "<img style=\"width:70%\" src=\"data/AmazonReviews/screenshots/two.png\" />"
   ]
  },
  {
   "cell_type": "code",
   "execution_count": 11,
   "metadata": {},
   "outputs": [
    {
     "data": {
      "text/plain": [
       "\"Toxins: On the back of this product it states that it has a chemical in it known to the state of California to cause cancer. I wouldn't have purchased it if I had know this. It cost half the price of the product to ship it back to Amazon so it was hardly worth it.\\n\""
      ]
     },
     "execution_count": 11,
     "metadata": {},
     "output_type": "execute_result"
    }
   ],
   "source": [
    "train_reviews[0]"
   ]
  },
  {
   "cell_type": "code",
   "execution_count": 12,
   "metadata": {},
   "outputs": [
    {
     "data": {
      "text/plain": [
       "0"
      ]
     },
     "execution_count": 12,
     "metadata": {},
     "output_type": "execute_result"
    }
   ],
   "source": [
    "train_labels[0]"
   ]
  },
  {
   "cell_type": "code",
   "execution_count": 13,
   "metadata": {},
   "outputs": [
    {
     "data": {
      "text/plain": [
       "'Great way to remember some of the best classics: If you played all this games at the arcade, you will surely like this game.Still, new comers might find it not so appealing.\\n'"
      ]
     },
     "execution_count": 13,
     "metadata": {},
     "output_type": "execute_result"
    }
   ],
   "source": [
    "train_reviews[3]"
   ]
  },
  {
   "cell_type": "code",
   "execution_count": 14,
   "metadata": {},
   "outputs": [
    {
     "data": {
      "text/plain": [
       "1"
      ]
     },
     "execution_count": 14,
     "metadata": {},
     "output_type": "execute_result"
    }
   ],
   "source": [
    "train_labels[3]"
   ]
  },
  {
   "cell_type": "markdown",
   "metadata": {},
   "source": [
    "#### Tokenization and the Vocabulary\n",
    "\n",
    "Bring the the `clean_word()` function here:"
   ]
  },
  {
   "cell_type": "code",
   "execution_count": 15,
   "metadata": {},
   "outputs": [],
   "source": [
    "import re\n",
    "\n",
    "def clean_word(word):\n",
    "    return re.sub(\"[^a-z0-9]\",\"\", word.lower())\n",
    "    # return re.sub(f'[{string.punctuation}]','', word.lower())"
   ]
  },
  {
   "cell_type": "markdown",
   "metadata": {},
   "source": [
    "Extract all tokens from the __train_reviews__, clean them and save them as __words__ list, but __do not remove duplicates__. "
   ]
  },
  {
   "cell_type": "code",
   "execution_count": 16,
   "metadata": {},
   "outputs": [
    {
     "data": {
      "text/plain": [
       "780429"
      ]
     },
     "execution_count": 16,
     "metadata": {},
     "output_type": "execute_result"
    }
   ],
   "source": [
    "# your code\n",
    "words = \" \".join(train_reviews).split(' ')\n",
    "words = [clean_word(w) for w in words]\n",
    "# words = list(filter(None, words))\n",
    "len(words)"
   ]
  },
  {
   "cell_type": "markdown",
   "metadata": {},
   "source": [
    "Remove tokens from the __words__ that only appear once:\n",
    "\n",
    "There are many ways to do this. I leave it up to you to find a good way.\n",
    "\n",
    "<span style=\"color:crimson\">Tip:</span> Using `Counter` from the `collections` library might help a lot!"
   ]
  },
  {
   "cell_type": "code",
   "execution_count": 17,
   "metadata": {},
   "outputs": [
    {
     "data": {
      "text/plain": [
       "['toxins',\n",
       " 'on',\n",
       " 'the',\n",
       " 'back',\n",
       " 'of',\n",
       " 'this',\n",
       " 'product',\n",
       " 'it',\n",
       " 'states',\n",
       " 'that',\n",
       " 'has',\n",
       " 'a',\n",
       " 'chemical',\n",
       " 'in',\n",
       " 'known',\n",
       " 'to',\n",
       " 'state',\n",
       " 'california',\n",
       " 'cause',\n",
       " 'cancer',\n",
       " 'i',\n",
       " 'wouldnt',\n",
       " 'have',\n",
       " 'purchased',\n",
       " 'if',\n",
       " 'had',\n",
       " 'know',\n",
       " 'cost',\n",
       " 'half',\n",
       " 'price',\n",
       " 'ship',\n",
       " 'amazon',\n",
       " 'so',\n",
       " 'was',\n",
       " 'hardly',\n",
       " 'worth',\n",
       " 'bad',\n",
       " 'tuner',\n",
       " 'you',\n",
       " 'ever',\n",
       " 'plan',\n",
       " 'listen',\n",
       " 'radio',\n",
       " 'dont',\n",
       " 'purchase',\n",
       " 'stereo',\n",
       " 'is',\n",
       " 'analog',\n",
       " 'and',\n",
       " 'difficulty',\n",
       " 'staying',\n",
       " 'selected',\n",
       " 'station',\n",
       " 'also',\n",
       " 'there',\n",
       " 'are',\n",
       " 'no',\n",
       " 'preset',\n",
       " 'stations',\n",
       " 'zero',\n",
       " 'stars',\n",
       " 'for',\n",
       " 'boss',\n",
       " 'but',\n",
       " 'five',\n",
       " 'taking',\n",
       " 'disappointing',\n",
       " 'great',\n",
       " 'emergent',\n",
       " 'readers',\n",
       " 'even',\n",
       " 'students',\n",
       " 'love',\n",
       " 'entire',\n",
       " 'series',\n",
       " 'children',\n",
       " 'who',\n",
       " 'all',\n",
       " 'ages',\n",
       " 'really',\n",
       " 'gets',\n",
       " 'them',\n",
       " 'going',\n",
       " 'they',\n",
       " 'tend',\n",
       " 'find',\n",
       " 'an',\n",
       " 'enjoyment',\n",
       " 'reading',\n",
       " 'way',\n",
       " 'remember',\n",
       " 'some',\n",
       " 'best',\n",
       " 'classics',\n",
       " 'played',\n",
       " 'games',\n",
       " 'at',\n",
       " 'arcade',\n",
       " 'will',\n",
       " 'surely',\n",
       " 'like',\n",
       " 'new',\n",
       " 'might',\n",
       " 'not',\n",
       " 'appealing',\n",
       " 'mother',\n",
       " 'board',\n",
       " 'defective',\n",
       " 'certain',\n",
       " 'damaged',\n",
       " 'by',\n",
       " 'me',\n",
       " 'or',\n",
       " 'when',\n",
       " 'motherboard',\n",
       " 'replaced',\n",
       " 'hp',\n",
       " 'out',\n",
       " 'warranty',\n",
       " 'fix',\n",
       " 'well',\n",
       " 'money',\n",
       " 'found',\n",
       " 'others',\n",
       " 'places',\n",
       " 'lower',\n",
       " 'did',\n",
       " 'guarantee',\n",
       " 'would',\n",
       " 'be',\n",
       " 'maximum',\n",
       " 'laptop',\n",
       " 'working',\n",
       " 'now',\n",
       " 'give',\n",
       " 'item',\n",
       " '4',\n",
       " 'ok',\n",
       " 'though',\n",
       " 'review',\n",
       " 'runs',\n",
       " 'very',\n",
       " 'hot',\n",
       " 'till',\n",
       " 'year',\n",
       " 'old',\n",
       " 'as',\n",
       " 'soon',\n",
       " 'over',\n",
       " 'starting',\n",
       " 'having',\n",
       " 'issues',\n",
       " 'about',\n",
       " '3',\n",
       " 'months',\n",
       " 'shut',\n",
       " 'down',\n",
       " 'its',\n",
       " 'own',\n",
       " 'then',\n",
       " 'refusing',\n",
       " 'boot',\n",
       " 'up',\n",
       " 'occasion',\n",
       " 'finally',\n",
       " 'refused',\n",
       " 'do',\n",
       " 'anything',\n",
       " 'power',\n",
       " 'light',\n",
       " 'comes',\n",
       " 'nothing',\n",
       " 'bought',\n",
       " 'years',\n",
       " 'my',\n",
       " 'most',\n",
       " 'recent',\n",
       " 'after',\n",
       " 'almost',\n",
       " '15',\n",
       " 'buying',\n",
       " 'products',\n",
       " 'two',\n",
       " 'experiences',\n",
       " 'tells',\n",
       " 'disappointment',\n",
       " 'table',\n",
       " 'december',\n",
       " '12',\n",
       " '2006',\n",
       " 'paid',\n",
       " '168',\n",
       " 'disappointed',\n",
       " 'only',\n",
       " 'one',\n",
       " 'month',\n",
       " 'later',\n",
       " 'dropped',\n",
       " '40',\n",
       " '99',\n",
       " 'begs',\n",
       " 'question',\n",
       " 'jacked',\n",
       " 'holidays',\n",
       " 'ill',\n",
       " 'think',\n",
       " 'twice',\n",
       " 'buy',\n",
       " 'during',\n",
       " 'george',\n",
       " 'lucas',\n",
       " 'knows',\n",
       " 'what',\n",
       " 'we',\n",
       " 'want',\n",
       " 'theatrical',\n",
       " 'versions',\n",
       " 'bluray',\n",
       " 'doesnt',\n",
       " 'dedicated',\n",
       " 'include',\n",
       " 'special',\n",
       " 'feature',\n",
       " 'example',\n",
       " 'included',\n",
       " 'older',\n",
       " 'dvd',\n",
       " 'releases',\n",
       " 'refuse',\n",
       " 'any',\n",
       " 'these',\n",
       " 'until',\n",
       " 'original',\n",
       " 'pretty',\n",
       " 'useless',\n",
       " 'returned',\n",
       " 'tried',\n",
       " 'their',\n",
       " 'towel',\n",
       " 'dispenser',\n",
       " 'another',\n",
       " 'big',\n",
       " 'time',\n",
       " 'energy',\n",
       " 'poorly',\n",
       " 'designed',\n",
       " 'constructed',\n",
       " 'sticks',\n",
       " 'fantastic',\n",
       " 'deep',\n",
       " 'robust',\n",
       " 'flavor',\n",
       " 'color',\n",
       " 'with',\n",
       " 'just',\n",
       " 'hint',\n",
       " 'onion',\n",
       " 'make',\n",
       " 'ham',\n",
       " 'sandwich',\n",
       " 'wrapping',\n",
       " 'thin',\n",
       " 'slice',\n",
       " 'baked',\n",
       " 'swiss',\n",
       " 'cheese',\n",
       " 'around',\n",
       " 'title',\n",
       " 'says',\n",
       " 'season',\n",
       " 'political',\n",
       " 'books',\n",
       " 'little',\n",
       " 'more',\n",
       " 'than',\n",
       " 'unsupported',\n",
       " 'opinions',\n",
       " 'absent',\n",
       " 'rigorous',\n",
       " 'intellectualism',\n",
       " 'book',\n",
       " 'welcome',\n",
       " 'relief',\n",
       " 'difference',\n",
       " 'instead',\n",
       " 'arguing',\n",
       " 'his',\n",
       " 'positions',\n",
       " 'from',\n",
       " 'reich',\n",
       " 'uses',\n",
       " 'reason',\n",
       " 'lay',\n",
       " 'beliefs',\n",
       " 'how',\n",
       " 'country',\n",
       " 'could',\n",
       " 'better',\n",
       " 'run',\n",
       " 'whether',\n",
       " 'agree',\n",
       " 'disagree',\n",
       " 'view',\n",
       " 'both',\n",
       " 'parties',\n",
       " 'shifted',\n",
       " 'nation',\n",
       " 'far',\n",
       " 'right',\n",
       " 'lost',\n",
       " 'sight',\n",
       " 'voters',\n",
       " 'makes',\n",
       " 'thoughtprovoking',\n",
       " 'total',\n",
       " 'disaster',\n",
       " 'although',\n",
       " 'realized',\n",
       " 'should',\n",
       " 'use',\n",
       " 'word',\n",
       " 'scots',\n",
       " 'rather',\n",
       " 'ordered',\n",
       " 'anyway',\n",
       " 'arrived',\n",
       " 'bit',\n",
       " 'puzzled',\n",
       " 'see',\n",
       " 'cover',\n",
       " 'while',\n",
       " 'looked',\n",
       " 'picture',\n",
       " 'high',\n",
       " 'mountains',\n",
       " 'covered',\n",
       " 'snow',\n",
       " 'much',\n",
       " 'appalachian',\n",
       " 'thought',\n",
       " 'imagine',\n",
       " 'surprise',\n",
       " 'upon',\n",
       " 'opening',\n",
       " 'discovered',\n",
       " 'text',\n",
       " 'concerned',\n",
       " 'mount',\n",
       " 'everest',\n",
       " 'contacted',\n",
       " 'company',\n",
       " 'through',\n",
       " 'response',\n",
       " 'fine',\n",
       " 'albeit',\n",
       " 'questionable',\n",
       " 'mountain',\n",
       " 'pictured',\n",
       " 'front',\n",
       " 'tell',\n",
       " 'titles',\n",
       " 'chapters',\n",
       " 'etc',\n",
       " 'since',\n",
       " 'emailed',\n",
       " 'promised',\n",
       " 'send',\n",
       " 'correct',\n",
       " 'charge',\n",
       " 'received',\n",
       " 'itin',\n",
       " 'short',\n",
       " 'been',\n",
       " 'unhappy',\n",
       " 'dealing',\n",
       " 'amazoncom',\n",
       " 'before',\n",
       " 'last',\n",
       " 'rest',\n",
       " 'assured',\n",
       " 'waste',\n",
       " 'tiny',\n",
       " '30',\n",
       " 'pages',\n",
       " '5',\n",
       " 'recipes',\n",
       " '6',\n",
       " 'stories',\n",
       " 'india',\n",
       " 'large',\n",
       " 'letters',\n",
       " 'am',\n",
       " 'dissapointed',\n",
       " 'especially',\n",
       " 'because',\n",
       " 'quite',\n",
       " 'expensive',\n",
       " 'every',\n",
       " 'such',\n",
       " 'wonderful',\n",
       " 'difficult',\n",
       " 'transition',\n",
       " 'cant',\n",
       " 'say',\n",
       " 'enough',\n",
       " 'good',\n",
       " 'things',\n",
       " 'exactly',\n",
       " 'kind',\n",
       " 'message',\n",
       " 'young',\n",
       " 'child',\n",
       " 'needs',\n",
       " 'hear',\n",
       " 'parents',\n",
       " 'split',\n",
       " 'he',\n",
       " 'began',\n",
       " 'spending',\n",
       " 'dads',\n",
       " 'house',\n",
       " 'frequently',\n",
       " 'requests',\n",
       " 'im',\n",
       " 'copy',\n",
       " 'him',\n",
       " 'keep',\n",
       " 'place',\n",
       " 'definitely',\n",
       " 'must',\n",
       " 'packed',\n",
       " 'information',\n",
       " 'goto',\n",
       " 'resource',\n",
       " 'kids',\n",
       " 'health',\n",
       " 'mine',\n",
       " 'feel',\n",
       " 'control',\n",
       " 'parent',\n",
       " 'lists',\n",
       " 'options',\n",
       " 'ton',\n",
       " 'conditions',\n",
       " 'baby',\n",
       " 'shower',\n",
       " 'gift',\n",
       " 'different',\n",
       " 'strokes',\n",
       " 'natural',\n",
       " 'history',\n",
       " 'senses',\n",
       " 'probably',\n",
       " 'bookyou',\n",
       " 'expect',\n",
       " 'real',\n",
       " 'guy',\n",
       " 'read',\n",
       " 'truly',\n",
       " 'enjoyed',\n",
       " 'diane',\n",
       " 'wrote',\n",
       " 'unfortunately',\n",
       " 'many',\n",
       " 'loses',\n",
       " 'something',\n",
       " 'wallop',\n",
       " 'your',\n",
       " 'progresses',\n",
       " 'early',\n",
       " 'intense',\n",
       " 'explicit',\n",
       " 'point',\n",
       " 'jogging',\n",
       " 'memory',\n",
       " 'exotic',\n",
       " 'forgotten',\n",
       " 'opinion',\n",
       " 'invested',\n",
       " 'thanks',\n",
       " 'memories',\n",
       " 'first',\n",
       " 'written',\n",
       " 'itll',\n",
       " 'running',\n",
       " 'used',\n",
       " 'effect',\n",
       " 'c',\n",
       " 'course',\n",
       " '',\n",
       " 'complement',\n",
       " 'highly',\n",
       " 'recommended',\n",
       " 'beginners',\n",
       " 'perfect',\n",
       " 'homeowner',\n",
       " 'tinkered',\n",
       " 'small',\n",
       " 'projects',\n",
       " 'helpful',\n",
       " 'develop',\n",
       " 'basic',\n",
       " 'understanding',\n",
       " 'major',\n",
       " 'systems',\n",
       " 'home',\n",
       " 'put',\n",
       " 'together',\n",
       " 'ie',\n",
       " 'plumbing',\n",
       " 'electric',\n",
       " 'wall',\n",
       " 'structure',\n",
       " 'believe',\n",
       " 'starter',\n",
       " 'people',\n",
       " 'getting',\n",
       " 'feet',\n",
       " 'wet',\n",
       " 'need',\n",
       " 'knowledge',\n",
       " 'build',\n",
       " 'confidence',\n",
       " 'order',\n",
       " 'tackle',\n",
       " 'larger',\n",
       " 'project',\n",
       " 'recommend',\n",
       " 'learn',\n",
       " 'heavy',\n",
       " 'reference',\n",
       " 'medical',\n",
       " 'student',\n",
       " 'studying',\n",
       " 'usually',\n",
       " 'end',\n",
       " '1200',\n",
       " 'tiniest',\n",
       " 'possible',\n",
       " 'readable',\n",
       " 'writing',\n",
       " 'covers',\n",
       " 'disease',\n",
       " 'clincal',\n",
       " 'yourself',\n",
       " 'referring',\n",
       " 'lot',\n",
       " 'de',\n",
       " 'bible',\n",
       " 'sure',\n",
       " 'youll',\n",
       " 'directly',\n",
       " 'disjointed',\n",
       " 'chapter',\n",
       " 'authors',\n",
       " 'certainly',\n",
       " 'too',\n",
       " 'bear',\n",
       " 'said',\n",
       " 'still',\n",
       " 'breadth',\n",
       " 'amazing',\n",
       " 'hard',\n",
       " 'argue',\n",
       " 'authority',\n",
       " 'helped',\n",
       " 'choose',\n",
       " 'solid',\n",
       " 'stocks',\n",
       " 'utilize',\n",
       " 'account',\n",
       " 'easy',\n",
       " 'understand',\n",
       " 'shocked',\n",
       " 'cuisinart',\n",
       " 'name',\n",
       " 'owner',\n",
       " 'several',\n",
       " 'surprised',\n",
       " 'doorstep',\n",
       " 'pleasantly',\n",
       " 'everything',\n",
       " 'indicated',\n",
       " 'same',\n",
       " 'quality',\n",
       " 'come',\n",
       " 'flimsy',\n",
       " 'filter',\n",
       " 'holder',\n",
       " 'line',\n",
       " 'took',\n",
       " 'attempts',\n",
       " 'get',\n",
       " 'lid',\n",
       " 'align',\n",
       " 'properly',\n",
       " 'carafe',\n",
       " 'decided',\n",
       " 'try',\n",
       " 'impressions',\n",
       " 'held',\n",
       " 'true',\n",
       " 'three',\n",
       " 'spring',\n",
       " 'mechanism',\n",
       " 'came',\n",
       " 'apart',\n",
       " 'pouring',\n",
       " 'coffee',\n",
       " 'consuming',\n",
       " 'activity',\n",
       " 'dribbles',\n",
       " 'set',\n",
       " 'pour',\n",
       " 'empty',\n",
       " 'making',\n",
       " 'mess',\n",
       " 'ready',\n",
       " 'other',\n",
       " 'insulated',\n",
       " 'models',\n",
       " 'brand',\n",
       " 'boring',\n",
       " 'dull',\n",
       " 'unforgettable',\n",
       " 'story',\n",
       " 'coming',\n",
       " 'novel',\n",
       " 'filled',\n",
       " 'expectation',\n",
       " 'breathtaking',\n",
       " 'descriptions',\n",
       " 'landscape',\n",
       " 'examinations',\n",
       " 'politics',\n",
       " 'painfully',\n",
       " 'detailed',\n",
       " 'events',\n",
       " 'characters',\n",
       " 'lives',\n",
       " 'which',\n",
       " 'seem',\n",
       " 'forge',\n",
       " 'meaning',\n",
       " 'collection',\n",
       " 'wacky',\n",
       " 'gruesome',\n",
       " 'vignettes',\n",
       " 'cutouts',\n",
       " 'subversive',\n",
       " 'plain',\n",
       " 'ideology',\n",
       " 'invention',\n",
       " 'experimentation',\n",
       " 'plot',\n",
       " 'huge',\n",
       " 'fan',\n",
       " 'roses',\n",
       " 'smells',\n",
       " 'addition',\n",
       " 'made',\n",
       " 'masks',\n",
       " 'cleanser',\n",
       " 'toner',\n",
       " 'beautiful',\n",
       " 'smell',\n",
       " 'harsh',\n",
       " 'skin',\n",
       " 'mention',\n",
       " 'author',\n",
       " 'sets',\n",
       " 'storyline',\n",
       " 'fails',\n",
       " 'miserably',\n",
       " 'tedious',\n",
       " 'repetitive',\n",
       " 'denouement',\n",
       " 'she',\n",
       " 'rushes',\n",
       " 'few',\n",
       " 'paragraphs',\n",
       " 'labor',\n",
       " 'lack',\n",
       " 'imagination',\n",
       " 'totally',\n",
       " 'unbelievable',\n",
       " 'expected',\n",
       " 'woman',\n",
       " 'castle',\n",
       " 'her',\n",
       " '20s',\n",
       " 'does',\n",
       " 'loss',\n",
       " 'virginity',\n",
       " 'lamb',\n",
       " 'adds',\n",
       " 'creates',\n",
       " 'mentioned',\n",
       " 'role',\n",
       " 'precious',\n",
       " 'spend',\n",
       " 'yours',\n",
       " 'else',\n",
       " 'got',\n",
       " 'myself',\n",
       " 'obviously',\n",
       " 'saga',\n",
       " 'twilight',\n",
       " 'theaters',\n",
       " 'condition',\n",
       " 'tidy',\n",
       " 'man',\n",
       " 'boyfriend',\n",
       " 'hates',\n",
       " 'watching',\n",
       " 's',\n",
       " 'rc',\n",
       " 'weve',\n",
       " 'owned',\n",
       " 'purchasing',\n",
       " 'long',\n",
       " 'wait',\n",
       " 'lasted',\n",
       " 'fun',\n",
       " 'vehicle',\n",
       " 'cars',\n",
       " 'searched',\n",
       " 'everywhere',\n",
       " 'unavailable',\n",
       " 'shopping',\n",
       " 'cart',\n",
       " 'lightweight',\n",
       " 'super',\n",
       " 'quick',\n",
       " 'surprisingly',\n",
       " 'quiet',\n",
       " 'virtually',\n",
       " 'broke',\n",
       " 'ours',\n",
       " 'recharging',\n",
       " 'plug',\n",
       " 'rough',\n",
       " 'treatment',\n",
       " 'our',\n",
       " 'preschooler',\n",
       " 'into',\n",
       " 'walls',\n",
       " 'furniture',\n",
       " 'simply',\n",
       " 'flips',\n",
       " 'keeps',\n",
       " 'tires',\n",
       " 'soft',\n",
       " 'bouncy',\n",
       " 'car',\n",
       " 'delightfully',\n",
       " 'matter',\n",
       " 'side',\n",
       " 'body',\n",
       " 'loved',\n",
       " 'were',\n",
       " 'ordering',\n",
       " 'warning',\n",
       " 'laughing',\n",
       " 'fast',\n",
       " 'return',\n",
       " 'refund',\n",
       " 'tube',\n",
       " 'concept',\n",
       " 'however',\n",
       " 'luck',\n",
       " 'durability',\n",
       " 'hours',\n",
       " 'seam',\n",
       " 'blew',\n",
       " 'deflated',\n",
       " 'called',\n",
       " 'immediately',\n",
       " 'sent',\n",
       " 'replacement',\n",
       " 'second',\n",
       " '1',\n",
       " 'day',\n",
       " 'given',\n",
       " 'riding',\n",
       " 'customer',\n",
       " 'service',\n",
       " 'nice',\n",
       " 'rig',\n",
       " 'play',\n",
       " 'game',\n",
       " '320mb',\n",
       " 'sound',\n",
       " 'card',\n",
       " 'frame',\n",
       " 'rates',\n",
       " 'graphics',\n",
       " 'complicated',\n",
       " 'sense',\n",
       " 'floating',\n",
       " 'extra',\n",
       " 'strong',\n",
       " 'braking',\n",
       " 'havea',\n",
       " 'seduction',\n",
       " 'nerd',\n",
       " 'actually',\n",
       " 'worse',\n",
       " 'films',\n",
       " 'market',\n",
       " 'fact',\n",
       " 'bottom',\n",
       " 'heap',\n",
       " 'ago',\n",
       " 'beach',\n",
       " 'party',\n",
       " 'stated',\n",
       " 'intelligence',\n",
       " 'moron',\n",
       " 'sit',\n",
       " 'id',\n",
       " 'notch',\n",
       " 'above',\n",
       " 'sequels',\n",
       " 'primarily',\n",
       " 'shows',\n",
       " 'least',\n",
       " 'originality',\n",
       " 'sexual',\n",
       " 'emphasis',\n",
       " 'humor',\n",
       " 'movie',\n",
       " 'average',\n",
       " 'category',\n",
       " 'watch',\n",
       " 'postman',\n",
       " 'dragonfly',\n",
       " 'eight',\n",
       " 'below',\n",
       " 'shallow',\n",
       " 'silliness',\n",
       " 'sweet',\n",
       " 'lovely',\n",
       " 'sisters',\n",
       " 'friends',\n",
       " 'bracelet',\n",
       " 'elegant',\n",
       " 'dangling',\n",
       " 'heart',\n",
       " 'hit',\n",
       " 'spouses',\n",
       " 'toy',\n",
       " 'christmas',\n",
       " 'presents',\n",
       " 'bigger',\n",
       " 'drill',\n",
       " 'bits',\n",
       " 'couldve',\n",
       " 'limit',\n",
       " 'gone',\n",
       " 'started',\n",
       " 'soldiers',\n",
       " 'songs',\n",
       " 'aint',\n",
       " 'fault',\n",
       " 'those',\n",
       " 'sold',\n",
       " 'told',\n",
       " 'laughed',\n",
       " 'loud',\n",
       " 'saw',\n",
       " 'ad',\n",
       " 'master',\n",
       " 'p',\n",
       " 'shoes',\n",
       " 'talking',\n",
       " 'doll',\n",
       " 'u',\n",
       " 'music',\n",
       " 'terrible',\n",
       " 'web',\n",
       " 'cam',\n",
       " 'mac',\n",
       " 'disconnect',\n",
       " 'firewire',\n",
       " 'cable',\n",
       " 'add',\n",
       " 'longer',\n",
       " 'lit',\n",
       " 'area',\n",
       " 'wise',\n",
       " 'camera',\n",
       " 'display',\n",
       " 'poor',\n",
       " 'worst',\n",
       " 'part',\n",
       " 'whole',\n",
       " 'thing',\n",
       " 'orange',\n",
       " 'micro',\n",
       " 'never',\n",
       " 'shop',\n",
       " 'again',\n",
       " 'gross',\n",
       " 'can',\n",
       " 'christianity',\n",
       " 'favor',\n",
       " 'pushing',\n",
       " 'agenda',\n",
       " 'champions',\n",
       " 'gay',\n",
       " 'men',\n",
       " 'married',\n",
       " 'cheating',\n",
       " 'wives',\n",
       " 'relationships',\n",
       " 'scene',\n",
       " 'where',\n",
       " 'character',\n",
       " 'stuff',\n",
       " 'lets',\n",
       " 'f',\n",
       " 'graphic',\n",
       " 'disgusting',\n",
       " 'turned',\n",
       " 'off',\n",
       " 'except',\n",
       " 'liberal',\n",
       " 'propaganda',\n",
       " 'surf',\n",
       " 'instrumental',\n",
       " 'albums',\n",
       " 'song',\n",
       " 'excellent',\n",
       " 'film',\n",
       " 'itself',\n",
       " 'disc',\n",
       " 'awful',\n",
       " 'low',\n",
       " 'nonanamorphic',\n",
       " 'widescreen',\n",
       " 'transfer',\n",
       " 'black',\n",
       " 'bars',\n",
       " 'sides',\n",
       " 'hdtv',\n",
       " '10',\n",
       " 'isnt',\n",
       " 'decent',\n",
       " 'release',\n",
       " 'downtoearth',\n",
       " 'marketing',\n",
       " 'practical',\n",
       " 'driven',\n",
       " 'perspective',\n",
       " 'portraying',\n",
       " 'logical',\n",
       " 'simple',\n",
       " 'model',\n",
       " 'supported',\n",
       " 'cases',\n",
       " 'followed',\n",
       " 'checklist',\n",
       " 'key',\n",
       " 'insights',\n",
       " 'scan',\n",
       " 'lift',\n",
       " 'marketers',\n",
       " 'yoke',\n",
       " 'released',\n",
       " 'lee',\n",
       " 'expertly',\n",
       " 'mindset',\n",
       " 'generations',\n",
       " 'women',\n",
       " 'experience',\n",
       " 'sensible',\n",
       " 'exploration',\n",
       " 'scriptures',\n",
       " 'pauls',\n",
       " 'famous',\n",
       " 'quotes',\n",
       " 'concerning',\n",
       " 'church',\n",
       " 'refreshing',\n",
       " 'revelation',\n",
       " 'theological',\n",
       " 'correctness',\n",
       " 'threads',\n",
       " 'aspect',\n",
       " 'each',\n",
       " 'issue',\n",
       " 'brings',\n",
       " 'unimaginable',\n",
       " 'impact',\n",
       " 'world',\n",
       " 'wide',\n",
       " 'harvest',\n",
       " 'souls',\n",
       " 'gender',\n",
       " ...]"
      ]
     },
     "execution_count": 17,
     "metadata": {},
     "output_type": "execute_result"
    }
   ],
   "source": [
    "# your code\n",
    "from collections import Counter\n",
    "words_counters = Counter(words)\n",
    "words_filtered = [words for words in words_counters if words_counters[words] > 1]\n",
    "words_filtered"
   ]
  },
  {
   "cell_type": "markdown",
   "metadata": {},
   "source": [
    "Remove duplicates from __words__:"
   ]
  },
  {
   "cell_type": "code",
   "execution_count": 18,
   "metadata": {},
   "outputs": [],
   "source": [
    "words_filtered = np.unique(words_filtered)"
   ]
  },
  {
   "cell_type": "markdown",
   "metadata": {},
   "source": [
    "If you have done everything correctly, you should have ~18000 unique words in your vocabulary."
   ]
  },
  {
   "cell_type": "code",
   "execution_count": 19,
   "metadata": {},
   "outputs": [
    {
     "data": {
      "text/plain": [
       "18066"
      ]
     },
     "execution_count": 19,
     "metadata": {},
     "output_type": "execute_result"
    }
   ],
   "source": [
    "len(words_filtered)"
   ]
  },
  {
   "cell_type": "markdown",
   "metadata": {},
   "source": [
    "#### Building word2idx dictionary"
   ]
  },
  {
   "cell_type": "markdown",
   "metadata": {},
   "source": [
    "To account for padding, we add '_PAD' to our vocabulary:"
   ]
  },
  {
   "cell_type": "code",
   "execution_count": 20,
   "metadata": {},
   "outputs": [],
   "source": [
    "word2idx = {}\n",
    "word2idx[\"_PAD\"] = 0"
   ]
  },
  {
   "cell_type": "markdown",
   "metadata": {},
   "source": [
    "Finally, each word in the vocabulary will then be assigned an integer index. Complete __word2idx__ dictionary."
   ]
  },
  {
   "cell_type": "code",
   "execution_count": 21,
   "metadata": {},
   "outputs": [
    {
     "data": {
      "text/plain": [
       "18067"
      ]
     },
     "execution_count": 21,
     "metadata": {},
     "output_type": "execute_result"
    }
   ],
   "source": [
    "# your code\n",
    "for i,w in enumerate(words_filtered):\n",
    "    word2idx[w] = i+1\n",
    "\n",
    "len(word2idx)"
   ]
  },
  {
   "cell_type": "code",
   "execution_count": 22,
   "metadata": {},
   "outputs": [
    {
     "data": {
      "text/plain": [
       "18067"
      ]
     },
     "execution_count": 22,
     "metadata": {},
     "output_type": "execute_result"
    }
   ],
   "source": [
    "len(word2idx)"
   ]
  },
  {
   "cell_type": "markdown",
   "metadata": {},
   "source": [
    "#### Convert sentences\n",
    "\n",
    "Bring the the `sent2inds()` function here:"
   ]
  },
  {
   "cell_type": "code",
   "execution_count": 23,
   "metadata": {},
   "outputs": [],
   "source": [
    "# your code\n",
    "\n",
    "def sent2inds(in_):\n",
    "    in_ = in_.split()\n",
    "\n",
    "    out_ = []\n",
    "\n",
    "    for w in in_:\n",
    "        w = clean_word(w)\n",
    "        if w != \"\" and w in word2idx.keys():\n",
    "            out_.append(word2idx[w])\n",
    "    return out_"
   ]
  },
  {
   "cell_type": "markdown",
   "metadata": {},
   "source": [
    "Convert the words in the reviews to their corresponding indices from the vocabulary:\n",
    "\n",
    "Name the outputs as __train_reviews_encoded__ and __test_reviews_encoded__."
   ]
  },
  {
   "cell_type": "code",
   "execution_count": 24,
   "metadata": {},
   "outputs": [],
   "source": [
    "train_reviews_encoded = pd.Series(train_reviews).apply(sent2inds)\n",
    "# your code\n",
    "\n",
    "test_reviews_encoded = pd.Series(test_reviews).apply(sent2inds)\n",
    "# your code\n"
   ]
  },
  {
   "cell_type": "markdown",
   "metadata": {},
   "source": [
    "Desired outputs:\n",
    "\n",
    "<img style=\"width:70%\" src=\"data/AmazonReviews/screenshots/three.png\" />"
   ]
  },
  {
   "cell_type": "code",
   "execution_count": 25,
   "metadata": {},
   "outputs": [
    {
     "name": "stdout",
     "output_type": "stream",
     "text": [
      "Toxins: On the back of this product it states that it has a chemical in it known to the state of California to cause cancer. I wouldn't have purchased it if I had know this. It cost half the price of the product to ship it back to Amazon so it was hardly worth it.\n",
      "\n"
     ]
    }
   ],
   "source": [
    "print( train_reviews[0] )"
   ]
  },
  {
   "cell_type": "code",
   "execution_count": 26,
   "metadata": {},
   "outputs": [
    {
     "name": "stdout",
     "output_type": "stream",
     "text": [
      "[16456, 11099, 16071, 1478, 11017, 16154, 12362, 8520, 15229, 16066, 8520, 7390, 391, 2899, 8075, 8520, 8977, 16321, 16071, 15224, 11017, 2506, 16321, 2723, 2548, 7924, 17863, 7421, 12576, 8520, 7965, 7924, 7253, 8971, 16154, 8520, 3761, 7265, 16071, 12285, 11017, 16071, 12362, 16321, 14357, 8520, 1478, 16321, 890, 14799, 8520, 17451, 7350, 17857, 8520]\n"
     ]
    }
   ],
   "source": [
    "print( train_reviews_encoded[0] )"
   ]
  },
  {
   "cell_type": "markdown",
   "metadata": {},
   "source": [
    "#### Paddings\n",
    "\n",
    "Fill the records in __train_reviews_encoded__ and __test_reviews_encoded__ with 0s, if needed.\n",
    "\n",
    "We want to fix the input lengths to 200. \n",
    "\n",
    "__If the length is greater than 200, just keep the last 200 tokens, if the length is less than 200, add zeros to the beginning of the token list.__\n",
    "\n",
    "<span style=\"color:crimson\">Tip:</span> You can use the `np.pad()` function to do this.\n",
    "\n",
    "Name the output lists as __X_train__ and __X_test__."
   ]
  },
  {
   "cell_type": "code",
   "execution_count": 27,
   "metadata": {},
   "outputs": [],
   "source": [
    "def pad_sequence(seq, desired_length=200):\n",
    "    \"\"\"\n",
    "    Pads or trims a sequence to a desired length.\n",
    "    \n",
    "    Args:\n",
    "    seq: List of tokens (integers).\n",
    "    desired_length: The length to pad or trim the sequence to.\n",
    "    \n",
    "    Returns:\n",
    "    A new sequence with the desired length.\n",
    "    \"\"\"\n",
    "    current_length = len(seq)\n",
    "    \n",
    "    if current_length > desired_length:\n",
    "        # Keep the last `desired_length` tokens\n",
    "        return seq[-desired_length:]\n",
    "    elif current_length < desired_length:\n",
    "        # Calculate the number of zeros needed to prepend\n",
    "        padding_length = desired_length - current_length\n",
    "        # Pad with zeros at the beginning\n",
    "        return np.pad(seq, (padding_length, 0), mode='constant', constant_values=0).tolist()\n",
    "    else:\n",
    "        # Return the sequence as is if it's already the desired length\n",
    "        return seq\n",
    "\n",
    "X_train = [pad_sequence(review) for review in train_reviews_encoded]\n",
    "# your code\n",
    "\n",
    "X_test = [pad_sequence(review) for review in test_reviews_encoded]\n",
    "# your code\n"
   ]
  },
  {
   "cell_type": "markdown",
   "metadata": {},
   "source": [
    "Desired outputs:\n",
    "\n",
    "<img style=\"width:70%\" src=\"data/AmazonReviews/screenshots/four.png\" />"
   ]
  },
  {
   "cell_type": "code",
   "execution_count": 28,
   "metadata": {},
   "outputs": [
    {
     "name": "stdout",
     "output_type": "stream",
     "text": [
      "[16456, 11099, 16071, 1478, 11017, 16154, 12362, 8520, 15229, 16066, 8520, 7390, 391, 2899, 8075, 8520, 8977, 16321, 16071, 15224, 11017, 2506, 16321, 2723, 2548, 7924, 17863, 7421, 12576, 8520, 7965, 7924, 7253, 8971, 16154, 8520, 3761, 7265, 16071, 12285, 11017, 16071, 12362, 16321, 14357, 8520, 1478, 16321, 890, 14799, 8520, 17451, 7350, 17857, 8520]\n"
     ]
    }
   ],
   "source": [
    "print( train_reviews_encoded[0] )"
   ]
  },
  {
   "cell_type": "code",
   "execution_count": 29,
   "metadata": {},
   "outputs": [
    {
     "name": "stdout",
     "output_type": "stream",
     "text": [
      "[0, 0, 0, 0, 0, 0, 0, 0, 0, 0, 0, 0, 0, 0, 0, 0, 0, 0, 0, 0, 0, 0, 0, 0, 0, 0, 0, 0, 0, 0, 0, 0, 0, 0, 0, 0, 0, 0, 0, 0, 0, 0, 0, 0, 0, 0, 0, 0, 0, 0, 0, 0, 0, 0, 0, 0, 0, 0, 0, 0, 0, 0, 0, 0, 0, 0, 0, 0, 0, 0, 0, 0, 0, 0, 0, 0, 0, 0, 0, 0, 0, 0, 0, 0, 0, 0, 0, 0, 0, 0, 0, 0, 0, 0, 0, 0, 0, 0, 0, 0, 0, 0, 0, 0, 0, 0, 0, 0, 0, 0, 0, 0, 0, 0, 0, 0, 0, 0, 0, 0, 0, 0, 0, 0, 0, 0, 0, 0, 0, 0, 0, 0, 0, 0, 0, 0, 0, 0, 0, 0, 0, 0, 0, 0, 0, 16456, 11099, 16071, 1478, 11017, 16154, 12362, 8520, 15229, 16066, 8520, 7390, 391, 2899, 8075, 8520, 8977, 16321, 16071, 15224, 11017, 2506, 16321, 2723, 2548, 7924, 17863, 7421, 12576, 8520, 7965, 7924, 7253, 8971, 16154, 8520, 3761, 7265, 16071, 12285, 11017, 16071, 12362, 16321, 14357, 8520, 1478, 16321, 890, 14799, 8520, 17451, 7350, 17857, 8520]\n"
     ]
    }
   ],
   "source": [
    "print( X_train[0] )"
   ]
  },
  {
   "cell_type": "markdown",
   "metadata": {},
   "source": [
    "#### To Numpys\n",
    "\n",
    "Convert the lists to Numpy arrays if you have not already done so. \n",
    "\n",
    "Check __X_train__ and __X_test__ dimensions."
   ]
  },
  {
   "cell_type": "code",
   "execution_count": 30,
   "metadata": {},
   "outputs": [
    {
     "data": {
      "text/plain": [
       "(10000, 200)"
      ]
     },
     "execution_count": 30,
     "metadata": {},
     "output_type": "execute_result"
    }
   ],
   "source": [
    "X_train = np.array(X_train)\n",
    "X_train.shape # (10000, 200)"
   ]
  },
  {
   "cell_type": "code",
   "execution_count": 31,
   "metadata": {},
   "outputs": [
    {
     "data": {
      "text/plain": [
       "(500, 200)"
      ]
     },
     "execution_count": 31,
     "metadata": {},
     "output_type": "execute_result"
    }
   ],
   "source": [
    "X_test = np.array(X_test)\n",
    "X_test.shape # (500, 200)"
   ]
  },
  {
   "cell_type": "markdown",
   "metadata": {},
   "source": [
    "#### Labels\n",
    "\n",
    "Converting the labels into numpy arrays."
   ]
  },
  {
   "cell_type": "code",
   "execution_count": 32,
   "metadata": {},
   "outputs": [
    {
     "data": {
      "text/plain": [
       "(10000,)"
      ]
     },
     "execution_count": 32,
     "metadata": {},
     "output_type": "execute_result"
    }
   ],
   "source": [
    "y_train = np.array(train_labels)\n",
    "y_train.shape # (10000,)"
   ]
  },
  {
   "cell_type": "code",
   "execution_count": 33,
   "metadata": {},
   "outputs": [
    {
     "data": {
      "text/plain": [
       "(500,)"
      ]
     },
     "execution_count": 33,
     "metadata": {},
     "output_type": "execute_result"
    }
   ],
   "source": [
    "y_test = np.array(test_labels)\n",
    "y_test.shape # (500,)"
   ]
  },
  {
   "cell_type": "markdown",
   "metadata": {},
   "source": [
    "__Well done! we are ready to train the model!__"
   ]
  },
  {
   "cell_type": "markdown",
   "metadata": {},
   "source": [
    "---"
   ]
  },
  {
   "cell_type": "markdown",
   "metadata": {},
   "source": [
    "### Dataset"
   ]
  },
  {
   "cell_type": "code",
   "execution_count": 34,
   "metadata": {},
   "outputs": [],
   "source": [
    "class MyDataset(Dataset):\n",
    "    def __init__(self, data, labels):\n",
    "        self.data = torch.from_numpy(data).long()\n",
    "        self.labels = torch.from_numpy(labels).float()\n",
    "        \n",
    "    def __getitem__(self, index):\n",
    "        return (self.data[index], self.labels[index])\n",
    "\n",
    "    def __len__(self):\n",
    "        return len(self.data)\n",
    "    \n",
    "train_dataset = MyDataset(X_train, y_train)"
   ]
  },
  {
   "cell_type": "markdown",
   "metadata": {},
   "source": [
    "### Train/Validation Split"
   ]
  },
  {
   "cell_type": "code",
   "execution_count": 35,
   "metadata": {},
   "outputs": [],
   "source": [
    "train_dataset, val_dataset = random_split(train_dataset, [8000, 2000])"
   ]
  },
  {
   "cell_type": "markdown",
   "metadata": {},
   "source": [
    "### DataLoaders"
   ]
  },
  {
   "cell_type": "code",
   "execution_count": 36,
   "metadata": {},
   "outputs": [],
   "source": [
    "train_loader = DataLoader(dataset=train_dataset, batch_size=100)\n",
    "val_loader = DataLoader(dataset=val_dataset, batch_size=100)"
   ]
  },
  {
   "cell_type": "markdown",
   "metadata": {},
   "source": [
    "### Building a Model (Multi-layered RNN)\n",
    "\n",
    "Build a multilayer LSTM with 2 layers and 32 hidden units.\n",
    "\n",
    "<img style=\"width:60%\" src=\"./images/rnn_layered.png\" />"
   ]
  },
  {
   "cell_type": "code",
   "execution_count": 38,
   "metadata": {},
   "outputs": [],
   "source": [
    "# model\n",
    "class MyModel(nn.Module):\n",
    "    def __init__(self):\n",
    "        super().__init__()\n",
    "        \n",
    "        self.emb = nn.Embedding(len(word2idx), 50)\n",
    "        self.rnn = nn.RNN(input_size=50, hidden_size=32, batch_first=True)\n",
    "        self.fc = nn.Linear(32,1)\n",
    "\n",
    "    \n",
    "    def forward(self, x):\n",
    "        \n",
    "        out = self.emb(x)\n",
    "        h0 = torch.zeros(1, x.size(0), 32)\n",
    "        outs, hidden = self.rnn(out)\n",
    "        # out = outs[:,-1,:]\n",
    "        \n",
    "        # out = torch.max(outs, 1)\n",
    "        out, _ = torch.max(outs, 1)\n",
    "\n",
    "        out  = self.fc(out)\n",
    "        return out\n",
    "    \n",
    "\n",
    "# class MyModel(nn.Module):\n",
    "#     def __init__(self):\n",
    "#         super().__init__()\n",
    "        \n",
    "#         self.emb = nn.Embedding(len(word2idx), 50)\n",
    "#         self.rnn = nn.RNN(input_size=50, hidden_size=32, num_layers=2, batch_first=True, bidirectional=True)\n",
    "#         self.fc = nn.Linear(32 * 2, 1)\n",
    "#         self.dropout = nn.Dropout(0.5)\n",
    "\n",
    "#     def forward(self, x):\n",
    "#         out = self.dropout(self.emb(x))\n",
    "#         h0 = torch.zeros(2 * 2, x.size(0), 32)\n",
    "#         outs, hidden = self.rnn(out, h0)\n",
    "#         out, _ = torch.max(outs, 1)\n",
    "#         out = self.dropout(out)\n",
    "#         out = self.fc(out)\n",
    "#         return out"
   ]
  },
  {
   "cell_type": "markdown",
   "metadata": {},
   "source": [
    "Accuracy function:"
   ]
  },
  {
   "cell_type": "code",
   "execution_count": 39,
   "metadata": {},
   "outputs": [],
   "source": [
    "def accuracy_fn(y_true, y_pred):\n",
    "    correct = torch.eq(y_true, y_pred).sum().item()\n",
    "    acc = (correct / len(y_pred)) * 100 \n",
    "    return acc"
   ]
  },
  {
   "cell_type": "markdown",
   "metadata": {},
   "source": [
    "### Model Training"
   ]
  },
  {
   "cell_type": "code",
   "execution_count": 40,
   "metadata": {},
   "outputs": [
    {
     "name": "stdout",
     "output_type": "stream",
     "text": [
      "Epoch: 1 | Loss: 0.71513, Accuracy: 51.21% | val loss: 0.68848, val acc: 58.05%\n",
      "Epoch: 2 | Loss: 0.70278, Accuracy: 51.42% | val loss: 0.68224, val acc: 58.65%\n",
      "Epoch: 3 | Loss: 0.68629, Accuracy: 54.50% | val loss: 0.66133, val acc: 61.70%\n",
      "Epoch: 4 | Loss: 0.65229, Accuracy: 62.34% | val loss: 0.62020, val acc: 63.40%\n",
      "Epoch: 5 | Loss: 0.62252, Accuracy: 65.65% | val loss: 0.58094, val acc: 69.45%\n",
      "Epoch: 6 | Loss: 0.59035, Accuracy: 68.90% | val loss: 0.57001, val acc: 70.10%\n",
      "Epoch: 7 | Loss: 0.55236, Accuracy: 72.12% | val loss: 0.52039, val acc: 74.60%\n",
      "Epoch: 8 | Loss: 0.53058, Accuracy: 73.72% | val loss: 0.50675, val acc: 75.80%\n",
      "Epoch: 9 | Loss: 0.49965, Accuracy: 75.97% | val loss: 0.47097, val acc: 78.45%\n",
      "Epoch: 10 | Loss: 0.47434, Accuracy: 77.03% | val loss: 0.44714, val acc: 79.75%\n",
      "Epoch: 11 | Loss: 0.44015, Accuracy: 79.39% | val loss: 0.42133, val acc: 79.75%\n",
      "Epoch: 12 | Loss: 0.43316, Accuracy: 79.96% | val loss: 0.40503, val acc: 81.50%\n",
      "Epoch: 13 | Loss: 0.40212, Accuracy: 82.04% | val loss: 0.41834, val acc: 81.65%\n",
      "Epoch: 14 | Loss: 0.39215, Accuracy: 82.64% | val loss: 0.38954, val acc: 83.05%\n",
      "Epoch: 15 | Loss: 0.37176, Accuracy: 83.44% | val loss: 0.39850, val acc: 82.35%\n",
      "Epoch: 16 | Loss: 0.35622, Accuracy: 84.61% | val loss: 0.37419, val acc: 83.40%\n",
      "Epoch: 17 | Loss: 0.34737, Accuracy: 85.00% | val loss: 0.36575, val acc: 84.40%\n",
      "Epoch: 18 | Loss: 0.32856, Accuracy: 86.17% | val loss: 0.39168, val acc: 84.20%\n",
      "Epoch: 19 | Loss: 0.31803, Accuracy: 86.96% | val loss: 0.39309, val acc: 84.50%\n",
      "Epoch: 20 | Loss: 0.30679, Accuracy: 86.91% | val loss: 0.39764, val acc: 84.70%\n",
      "Epoch: 21 | Loss: 0.29496, Accuracy: 87.51% | val loss: 0.38730, val acc: 84.50%\n",
      "Epoch: 22 | Loss: 0.28910, Accuracy: 87.88% | val loss: 0.37811, val acc: 85.25%\n",
      "Stopping early at epoch 22 due to no improvement in validation loss.\n",
      "Train time on cpu: 124.672 seconds\n"
     ]
    }
   ],
   "source": [
    "from timeit import default_timer as timer \n",
    "start_time = timer() # timer start\n",
    "\n",
    "model = MyModel().to(device)\n",
    "\n",
    "train_losses = []; train_accs = []\n",
    "validation_losses = []; validation_accs = []\n",
    "\n",
    "lr = 0.001\n",
    "n_epochs = 30\n",
    "\n",
    "loss_fn = nn.BCEWithLogitsLoss()\n",
    "optimizer = optim.Adam(model.parameters(), lr=lr)\n",
    "\n",
    "###\n",
    "patience = 5\n",
    "patience_counter = 0\n",
    "best_val_loss = float('inf')\n",
    "###\n",
    "\n",
    "for epoch in range(n_epochs):\n",
    "    # Training Loop\n",
    "    model.train()\n",
    "    train_loss, train_acc = 0, 0\n",
    "    \n",
    "    for x_batch, y_batch in train_loader: \n",
    "            \n",
    "        x_batch = x_batch.to(device)\n",
    "        y_batch = y_batch.to(device)\n",
    "        \n",
    "        y_logits = model(x_batch).squeeze() # squeeze to remove extra `1` dimensions,\n",
    "        loss = loss_fn(y_logits, y_batch)\n",
    "        \n",
    "        train_loss += loss.item()\n",
    "        \n",
    "        optimizer.zero_grad()\n",
    "        loss.backward()    \n",
    "        optimizer.step()\n",
    "        \n",
    "        y_pred = torch.round(torch.sigmoid(y_logits)) # turn logits -> pred probs -> pred labels\n",
    "        train_acc += accuracy_fn(y_true=y_batch, y_pred=y_pred) \n",
    "        \n",
    "    train_loss /= len(train_loader)\n",
    "    train_losses.append(train_loss)\n",
    "    \n",
    "    train_acc /= len(train_loader)\n",
    "    train_accs.append(train_acc)\n",
    "    \n",
    "    # Validation Loop\n",
    "    model.eval()\n",
    "    validation_loss , validation_acc = 0, 0\n",
    "    \n",
    "    with torch.no_grad():\n",
    "        for x_val, y_val in val_loader:\n",
    "\n",
    "            x_val = x_val.to(device)\n",
    "            y_val = y_val.to(device)\n",
    "\n",
    "            y_logits = model(x_val).squeeze()\n",
    "            val_loss = loss_fn(y_logits, y_val)\n",
    "            \n",
    "            validation_loss += val_loss.item()\n",
    "            \n",
    "            y_pred = torch.round(torch.sigmoid(y_logits)) \n",
    "            validation_acc += accuracy_fn(y_true=y_val, y_pred=y_pred) \n",
    "        \n",
    "    validation_loss /= len(val_loader)\n",
    "    validation_losses.append(validation_loss)\n",
    "    \n",
    "    validation_acc /= len(val_loader)\n",
    "    validation_accs.append(validation_acc)\n",
    "    \n",
    "    # Print out what's happening, every epoch\n",
    "    if (epoch+1) % 1 == 0:\n",
    "        print(f\"Epoch: {epoch+1} | Loss: {train_loss:.5f}, Accuracy: {train_acc:.2f}% | val loss: {validation_loss:.5f}, val acc: {validation_acc:.2f}%\")\n",
    "\n",
    "    ###\n",
    "    if validation_loss < best_val_loss:\n",
    "        best_val_loss = validation_loss\n",
    "        patience_counter = 0\n",
    "    else:\n",
    "        patience_counter += 1\n",
    "\n",
    "    if patience_counter >= patience:\n",
    "        print(f\"Stopping early at epoch {epoch+1} due to no improvement in validation loss.\")\n",
    "        break\n",
    "    ###\n",
    "    \n",
    "end_time = timer() # timer end\n",
    "total_time = end_time - start_time\n",
    "print(f\"Train time on {device}: {total_time:.3f} seconds\")"
   ]
  },
  {
   "cell_type": "markdown",
   "metadata": {},
   "source": [
    "Learning curves:"
   ]
  },
  {
   "cell_type": "code",
   "execution_count": 41,
   "metadata": {},
   "outputs": [
    {
     "data": {
      "image/png": "[encoded data removed]",
      "text/plain": [
       "<Figure size 1000x400 with 2 Axes>"
      ]
     },
     "metadata": {},
     "output_type": "display_data"
    }
   ],
   "source": [
    "fig, ax = plt.subplots(1,2, figsize=(10,4))\n",
    "ax[0].plot(train_losses,  label=\"train loss\"); \n",
    "ax[0].plot(validation_losses,  label=\"val loss\"); \n",
    "ax[0].legend();\n",
    "\n",
    "ax[1].plot(train_accs,  label=\"train acc\");\n",
    "ax[1].plot(validation_accs,  label=\"val acc\"); \n",
    "ax[1].legend();"
   ]
  },
  {
   "cell_type": "markdown",
   "metadata": {},
   "source": [
    "### Making Predications"
   ]
  },
  {
   "cell_type": "code",
   "execution_count": 42,
   "metadata": {},
   "outputs": [],
   "source": [
    "class MyDataset2(Dataset):\n",
    "    def __init__(self, data, labels):\n",
    "        self.data = torch.from_numpy(data).long()\n",
    "        self.labels = torch.from_numpy(labels).float()\n",
    "        \n",
    "    def __getitem__(self, index):\n",
    "        return (self.data[index], self.labels[index])\n",
    "\n",
    "    def __len__(self):\n",
    "        return len(self.data)\n",
    "    \n",
    "test_dataset = MyDataset2(X_test, y_test)"
   ]
  },
  {
   "cell_type": "code",
   "execution_count": 43,
   "metadata": {},
   "outputs": [],
   "source": [
    "test_loader = DataLoader(dataset=test_dataset, batch_size=100, shuffle=False)"
   ]
  },
  {
   "cell_type": "code",
   "execution_count": 44,
   "metadata": {},
   "outputs": [
    {
     "name": "stdout",
     "output_type": "stream",
     "text": [
      "Test accuracy: 85.20%\n"
     ]
    }
   ],
   "source": [
    "# Test Loop\n",
    "model.eval()\n",
    "test_acc = 0\n",
    "\n",
    "# your code\n",
    "\n",
    "with torch.no_grad():\n",
    "    for x_test, y_test in test_loader:\n",
    "\n",
    "        x_test = x_test.to(device)\n",
    "        y_test = y_test.to(device).squeeze()\n",
    "\n",
    "        yhat = model(x_test)\n",
    "        yhat = yhat.view(-1)\n",
    "        yhat = torch.sigmoid(yhat).round()\n",
    "        acc = accuracy_fn(y_test, yhat)\n",
    "        \n",
    "        test_acc += acc\n",
    "        \n",
    "\n",
    "test_acc /= len(test_loader)\n",
    "\n",
    "\n",
    "print(f\"Test accuracy: {test_acc:.2f}%\")"
   ]
  },
  {
   "cell_type": "markdown",
   "metadata": {},
   "source": [
    "---"
   ]
  }
 ],
 "metadata": {
  "kernelspec": {
   "display_name": "Python 3 (ipykernel)",
   "language": "python",
   "name": "python3"
  },
  "language_info": {
   "codemirror_mode": {
    "name": "ipython",
    "version": 3
   },
   "file_extension": ".py",
   "mimetype": "text/x-python",
   "name": "python",
   "nbconvert_exporter": "python",
   "pygments_lexer": "ipython3",
   "version": "3.11.4"
  }
 },
 "nbformat": 4,
 "nbformat_minor": 2
}
