{
 "cells": [
  {
   "cell_type": "markdown",
   "metadata": {},
   "source": [
    "# Practical 1.2 - Classification and Time Series\n",
    "\n",
    "#### Group 8"
   ]
  },
  {
   "cell_type": "code",
   "execution_count": 1,
   "metadata": {},
   "outputs": [],
   "source": [
    "# Libraries\n",
    "\n",
    "import os\n",
    "import pandas as pd\n"
   ]
  },
  {
   "cell_type": "code",
   "execution_count": 2,
   "metadata": {},
   "outputs": [
    {
     "data": {
      "text/html": [
       "<div>\n",
       "<style scoped>\n",
       "    .dataframe tbody tr th:only-of-type {\n",
       "        vertical-align: middle;\n",
       "    }\n",
       "\n",
       "    .dataframe tbody tr th {\n",
       "        vertical-align: top;\n",
       "    }\n",
       "\n",
       "    .dataframe thead th {\n",
       "        text-align: right;\n",
       "    }\n",
       "</style>\n",
       "<table border=\"1\" class=\"dataframe\">\n",
       "  <thead>\n",
       "    <tr style=\"text-align: right;\">\n",
       "      <th></th>\n",
       "      <th>user_id</th>\n",
       "      <th>valence_intensity</th>\n",
       "      <th>fear_intensity</th>\n",
       "      <th>anger_intensity</th>\n",
       "      <th>happiness_intensity</th>\n",
       "      <th>sadness_intensity</th>\n",
       "      <th>sentiment</th>\n",
       "      <th>date</th>\n",
       "    </tr>\n",
       "  </thead>\n",
       "  <tbody>\n",
       "    <tr>\n",
       "      <th>0</th>\n",
       "      <td>18450036</td>\n",
       "      <td>0.596</td>\n",
       "      <td>0.374</td>\n",
       "      <td>0.326000</td>\n",
       "      <td>0.435000</td>\n",
       "      <td>0.321000</td>\n",
       "      <td>1</td>\n",
       "      <td>2021-03-18</td>\n",
       "    </tr>\n",
       "    <tr>\n",
       "      <th>1</th>\n",
       "      <td>72807797</td>\n",
       "      <td>0.474</td>\n",
       "      <td>0.419</td>\n",
       "      <td>0.384000</td>\n",
       "      <td>0.302000</td>\n",
       "      <td>0.405000</td>\n",
       "      <td>-1</td>\n",
       "      <td>2021-03-18</td>\n",
       "    </tr>\n",
       "    <tr>\n",
       "      <th>2</th>\n",
       "      <td>808919345766289412</td>\n",
       "      <td>0.607</td>\n",
       "      <td>0.353</td>\n",
       "      <td>0.372000</td>\n",
       "      <td>0.448000</td>\n",
       "      <td>0.376000</td>\n",
       "      <td>1</td>\n",
       "      <td>2021-03-18</td>\n",
       "    </tr>\n",
       "    <tr>\n",
       "      <th>3</th>\n",
       "      <td>612268746</td>\n",
       "      <td>0.614</td>\n",
       "      <td>0.349</td>\n",
       "      <td>0.389000</td>\n",
       "      <td>0.502000</td>\n",
       "      <td>0.328000</td>\n",
       "      <td>1</td>\n",
       "      <td>2021-03-18</td>\n",
       "    </tr>\n",
       "    <tr>\n",
       "      <th>4</th>\n",
       "      <td>19050000</td>\n",
       "      <td>0.449</td>\n",
       "      <td>0.495</td>\n",
       "      <td>0.424667</td>\n",
       "      <td>0.240333</td>\n",
       "      <td>0.394667</td>\n",
       "      <td>-1</td>\n",
       "      <td>2021-03-18</td>\n",
       "    </tr>\n",
       "  </tbody>\n",
       "</table>\n",
       "</div>"
      ],
      "text/plain": [
       "              user_id  valence_intensity  fear_intensity  anger_intensity  \\\n",
       "0            18450036              0.596           0.374         0.326000   \n",
       "1            72807797              0.474           0.419         0.384000   \n",
       "2  808919345766289412              0.607           0.353         0.372000   \n",
       "3           612268746              0.614           0.349         0.389000   \n",
       "4            19050000              0.449           0.495         0.424667   \n",
       "\n",
       "   happiness_intensity  sadness_intensity  sentiment       date  \n",
       "0             0.435000           0.321000          1 2021-03-18  \n",
       "1             0.302000           0.405000         -1 2021-03-18  \n",
       "2             0.448000           0.376000          1 2021-03-18  \n",
       "3             0.502000           0.328000          1 2021-03-18  \n",
       "4             0.240333           0.394667         -1 2021-03-18  "
      ]
     },
     "execution_count": 2,
     "metadata": {},
     "output_type": "execute_result"
    }
   ],
   "source": [
    "data_folder = './practical1_2_data/daily_sentiments/'\n",
    "\n",
    "# join all files\n",
    "all_files = [os.path.join(data_folder, file) for file in os.listdir(data_folder) if file.endswith('.csv')]\n",
    "\n",
    "df_list = []\n",
    "for file in all_files:\n",
    "    # extract the date time in the file's name\n",
    "    date_str = os.path.basename(file).split('_')[-1].split('.')[0]\n",
    "    date = pd.to_datetime(date_str)\n",
    "    \n",
    "    # read csv\n",
    "    df = pd.read_csv(file)\n",
    "    df['date'] = date\n",
    "    \n",
    "    # append to the list\n",
    "    df_list.append(df)\n",
    "\n",
    "# concat the data\n",
    "all_data = pd.concat(df_list, ignore_index=True)\n",
    "\n",
    "# drop useless column\n",
    "if 'Unnamed: 0' in all_data.columns:\n",
    "    all_data = all_data.drop(columns=['Unnamed: 0'])\n",
    "\n",
    "all_data.head()"
   ]
  },
  {
   "cell_type": "code",
   "execution_count": 3,
   "metadata": {},
   "outputs": [
    {
     "name": "stdout",
     "output_type": "stream",
     "text": [
      "user_id                0\n",
      "valence_intensity      0\n",
      "fear_intensity         0\n",
      "anger_intensity        0\n",
      "happiness_intensity    0\n",
      "sadness_intensity      0\n",
      "sentiment              0\n",
      "date                   0\n",
      "dtype: int64\n"
     ]
    }
   ],
   "source": [
    "# check nan value\n",
    "print(all_data.isnull().sum())"
   ]
  },
  {
   "cell_type": "code",
   "execution_count": 4,
   "metadata": {},
   "outputs": [
    {
     "name": "stdout",
     "output_type": "stream",
     "text": [
      "              user_id  valence_intensity  fear_intensity  anger_intensity  \\\n",
      "0            18450036              0.596           0.374         0.326000   \n",
      "1            72807797              0.474           0.419         0.384000   \n",
      "2  808919345766289412              0.607           0.353         0.372000   \n",
      "3           612268746              0.614           0.349         0.389000   \n",
      "4            19050000              0.449           0.495         0.424667   \n",
      "\n",
      "   happiness_intensity  sadness_intensity  sentiment       date  \n",
      "0             0.435000           0.321000          1 2021-03-18  \n",
      "1             0.302000           0.405000         -1 2021-03-18  \n",
      "2             0.448000           0.376000          1 2021-03-18  \n",
      "3             0.502000           0.328000          1 2021-03-18  \n",
      "4             0.240333           0.394667         -1 2021-03-18  \n"
     ]
    }
   ],
   "source": [
    "# assume all features are numerical\n",
    "numeric_columns = ['valence_intensity', 'fear_intensity', 'anger_intensity', 'happiness_intensity', 'sadness_intensity', 'sentiment']\n",
    "all_data[numeric_columns] = all_data[numeric_columns].apply(pd.to_numeric)\n",
    "\n",
    "print(all_data.head())\n"
   ]
  },
  {
   "cell_type": "code",
   "execution_count": 5,
   "metadata": {},
   "outputs": [
    {
     "name": "stdout",
     "output_type": "stream",
     "text": [
      "              user_id  valence_intensity  fear_intensity  anger_intensity  \\\n",
      "0            18450036              0.596           0.374         0.326000   \n",
      "1            72807797              0.474           0.419         0.384000   \n",
      "2  808919345766289412              0.607           0.353         0.372000   \n",
      "3           612268746              0.614           0.349         0.389000   \n",
      "4            19050000              0.449           0.495         0.424667   \n",
      "\n",
      "   happiness_intensity  sadness_intensity  sentiment       date  \\\n",
      "0             0.435000           0.321000          1 2021-03-18   \n",
      "1             0.302000           0.405000         -1 2021-03-18   \n",
      "2             0.448000           0.376000          1 2021-03-18   \n",
      "3             0.502000           0.328000          1 2021-03-18   \n",
      "4             0.240333           0.394667         -1 2021-03-18   \n",
      "\n",
      "   rolling_mean_valence  rolling_mean_fear  rolling_mean_anger  \\\n",
      "0                 0.596              0.374            0.326000   \n",
      "1                 0.474              0.419            0.384000   \n",
      "2                 0.607              0.353            0.372000   \n",
      "3                 0.614              0.349            0.389000   \n",
      "4                 0.449              0.495            0.424667   \n",
      "\n",
      "   rolling_mean_happiness  rolling_mean_sadness  \n",
      "0                0.435000              0.321000  \n",
      "1                0.302000              0.405000  \n",
      "2                0.448000              0.376000  \n",
      "3                0.502000              0.328000  \n",
      "4                0.240333              0.394667  \n"
     ]
    }
   ],
   "source": [
    "# get rolling mean\n",
    "all_data['rolling_mean_valence'] = all_data.groupby('user_id')['valence_intensity'].transform(lambda x: x.rolling(window=7, min_periods=1).mean())\n",
    "all_data['rolling_mean_fear'] = all_data.groupby('user_id')['fear_intensity'].transform(lambda x: x.rolling(window=7, min_periods=1).mean())\n",
    "all_data['rolling_mean_anger'] = all_data.groupby('user_id')['anger_intensity'].transform(lambda x: x.rolling(window=7, min_periods=1).mean())\n",
    "all_data['rolling_mean_happiness'] = all_data.groupby('user_id')['happiness_intensity'].transform(lambda x: x.rolling(window=7, min_periods=1).mean())\n",
    "all_data['rolling_mean_sadness'] = all_data.groupby('user_id')['sadness_intensity'].transform(lambda x: x.rolling(window=7, min_periods=1).mean())\n",
    "\n",
    "print(all_data.head())"
   ]
  },
  {
   "cell_type": "code",
   "execution_count": 6,
   "metadata": {},
   "outputs": [
    {
     "name": "stdout",
     "output_type": "stream",
     "text": [
      "Training data:\n",
      "                     user_id  valence_intensity  fear_intensity  \\\n",
      "1740156            333254038              0.357           0.544   \n",
      "1740155  1300388039231901702              0.506           0.412   \n",
      "1740154           1714358744              0.256           0.580   \n",
      "1740160            150611056              0.484           0.442   \n",
      "1740153            348183007              0.446           0.355   \n",
      "\n",
      "         anger_intensity  happiness_intensity  sadness_intensity  sentiment  \\\n",
      "1740156            0.578                0.196              0.493         -1   \n",
      "1740155            0.447                0.286              0.376          0   \n",
      "1740154            0.464                0.178              0.698         -1   \n",
      "1740160            0.476                0.332              0.423          0   \n",
      "1740153            0.459                0.340              0.355         -1   \n",
      "\n",
      "              date  rolling_mean_valence  rolling_mean_fear  \\\n",
      "1740156 2021-08-26              0.388000           0.515500   \n",
      "1740155 2021-08-26              0.511286           0.408286   \n",
      "1740154 2021-08-26              0.451476           0.442190   \n",
      "1740160 2021-08-26              0.551714           0.359000   \n",
      "1740153 2021-08-26              0.453143           0.435357   \n",
      "\n",
      "         rolling_mean_anger  rolling_mean_happiness  rolling_mean_sadness  \n",
      "1740156            0.535000                0.168000              0.460500  \n",
      "1740155            0.419000                0.333143              0.400286  \n",
      "1740154            0.479524                0.324190              0.474333  \n",
      "1740160            0.405000                0.381571              0.351429  \n",
      "1740153            0.462857                0.327000              0.429429  \n",
      "Validation data:\n",
      "                     user_id  valence_intensity  fear_intensity  \\\n",
      "1729904  1125993868745265152             0.3240          0.4660   \n",
      "1729905           3220248739             0.4180          0.4990   \n",
      "1729906  1213073532801830914             0.4295          0.4700   \n",
      "1729907            562859285             0.3320          0.5755   \n",
      "1729890            286902528             0.5210          0.3870   \n",
      "\n",
      "         anger_intensity  happiness_intensity  sadness_intensity  sentiment  \\\n",
      "1729904          0.52000              0.27200            0.50800         -1   \n",
      "1729905          0.59300              0.25300            0.51300         -1   \n",
      "1729906          0.50475              0.25975            0.43275         -1   \n",
      "1729907          0.53200              0.16850            0.51700         -1   \n",
      "1729890          0.43000              0.30600            0.36100          1   \n",
      "\n",
      "              date  rolling_mean_valence  rolling_mean_fear  \\\n",
      "1729904 2021-08-27              0.391929           0.450643   \n",
      "1729905 2021-08-27              0.399857           0.488571   \n",
      "1729906 2021-08-27              0.465643           0.417929   \n",
      "1729907 2021-08-27              0.428107           0.485000   \n",
      "1729890 2021-08-27              0.529000           0.409286   \n",
      "\n",
      "         rolling_mean_anger  rolling_mean_happiness  rolling_mean_sadness  \n",
      "1729904            0.490286                0.256929              0.441857  \n",
      "1729905            0.479143                0.254571              0.473000  \n",
      "1729906            0.421821                0.310536              0.392464  \n",
      "1729907            0.463714                0.254357              0.450750  \n",
      "1729890            0.399714                0.321714              0.363000  \n"
     ]
    }
   ],
   "source": [
    "# sort by date\n",
    "all_data = all_data.sort_values(by='date')\n",
    "\n",
    "# get validation set\n",
    "validation_data = all_data[all_data['date'] > all_data['date'].max() - pd.Timedelta(days=5)]\n",
    "\n",
    "# rest for train set\n",
    "training_data = all_data[all_data['date'] <= all_data['date'].max() - pd.Timedelta(days=5)]\n",
    "\n",
    "print(\"Training data:\")\n",
    "print(training_data.tail())\n",
    "print(\"Validation data:\")\n",
    "print(validation_data.head())"
   ]
  },
  {
   "cell_type": "code",
   "execution_count": 13,
   "metadata": {},
   "outputs": [
    {
     "name": "stdout",
     "output_type": "stream",
     "text": [
      "              precision    recall  f1-score   support\n",
      "\n",
      "          -1       0.97      0.04      0.08     18349\n",
      "           0       0.19      1.00      0.32      5212\n",
      "           1       1.00      0.16      0.27      4931\n",
      "\n",
      "    accuracy                           0.24     28492\n",
      "   macro avg       0.72      0.40      0.23     28492\n",
      "weighted avg       0.84      0.24      0.16     28492\n",
      "\n"
     ]
    }
   ],
   "source": [
    "from sklearn.model_selection import train_test_split\n",
    "from sklearn.tree import DecisionTreeClassifier\n",
    "from sklearn.metrics import classification_report\n",
    "\n",
    "# separate features and predictor\n",
    "features = ['valence_intensity', 'fear_intensity', 'anger_intensity', 'happiness_intensity', 'sadness_intensity',\n",
    "            'rolling_mean_valence', 'rolling_mean_fear', 'rolling_mean_anger', 'rolling_mean_happiness', 'rolling_mean_sadness']\n",
    "X_train = training_data[features]\n",
    "y_train = training_data['sentiment']\n",
    "\n",
    "X_valid = validation_data[features]\n",
    "y_valid = validation_data['sentiment']\n",
    "\n",
    "# train tree model\n",
    "clf = DecisionTreeClassifier()\n",
    "clf.fit(X_train, y_train)\n",
    "\n",
    "# prediction on validation set\n",
    "y_pred = clf.predict(X_valid)\n",
    "\n",
    "# evaluation\n",
    "print(classification_report(y_valid, y_pred))"
   ]
  },
  {
   "cell_type": "code",
   "execution_count": 14,
   "metadata": {},
   "outputs": [
    {
     "name": "stdout",
     "output_type": "stream",
     "text": [
      "              precision    recall  f1-score   support\n",
      "\n",
      "          -1       1.00      0.01      0.01     18349\n",
      "           0       0.19      1.00      0.32      5212\n",
      "           1       1.00      0.17      0.29      4931\n",
      "\n",
      "    accuracy                           0.22     28492\n",
      "   macro avg       0.73      0.39      0.21     28492\n",
      "weighted avg       0.85      0.22      0.12     28492\n",
      "\n"
     ]
    }
   ],
   "source": [
    "from sklearn.ensemble import RandomForestClassifier\n",
    "\n",
    "# train rf clf\n",
    "rf_clf = RandomForestClassifier(n_estimators=100, random_state=42)\n",
    "rf_clf.fit(X_train, y_train)\n",
    "\n",
    "# prediction\n",
    "y_pred_rf = rf_clf.predict(X_valid)\n",
    "\n",
    "# evaluation\n",
    "print(classification_report(y_valid, y_pred_rf))"
   ]
  },
  {
   "cell_type": "markdown",
   "metadata": {},
   "source": [
    "## Part 2"
   ]
  },
  {
   "cell_type": "code",
   "execution_count": 7,
   "metadata": {},
   "outputs": [
    {
     "name": "stderr",
     "output_type": "stream",
     "text": [
      "/var/folders/cr/dlw4zhlj7ld9t1grnb2q9hvw0000gn/T/ipykernel_23254/2942409089.py:10: SettingWithCopyWarning: \n",
      "A value is trying to be set on a copy of a slice from a DataFrame.\n",
      "Try using .loc[row_indexer,col_indexer] = value instead\n",
      "\n",
      "See the caveats in the documentation: https://pandas.pydata.org/pandas-docs/stable/user_guide/indexing.html#returning-a-view-versus-a-copy\n",
      "  training_data[features] = scaler.fit_transform(training_data[features])\n"
     ]
    }
   ],
   "source": [
    "from sklearn.ensemble import RandomForestRegressor\n",
    "from sklearn.preprocessing import StandardScaler\n",
    "\n",
    "# define features and predictor\n",
    "features = ['valence_intensity', 'fear_intensity', 'anger_intensity', 'happiness_intensity', 'sadness_intensity',\n",
    "            'rolling_mean_valence', 'rolling_mean_fear', 'rolling_mean_anger', 'rolling_mean_happiness', 'rolling_mean_sadness']\n",
    "\n",
    "# standardization\n",
    "scaler = StandardScaler()\n",
    "training_data[features] = scaler.fit_transform(training_data[features])\n",
    "\n",
    "# regression \n",
    "regressors = {}\n",
    "for feature in features:\n",
    "    X_train = training_data[['date']].apply(lambda x: x.astype('int64') // 10**9).values.reshape(-1, 1)  # use the timestamps as feature\n",
    "    y_train = training_data[feature]\n",
    "    \n",
    "    regressor = RandomForestRegressor(n_estimators=100, random_state=42)\n",
    "    regressor.fit(X_train, y_train)\n",
    "    regressors[feature] = regressor"
   ]
  },
  {
   "cell_type": "code",
   "execution_count": 10,
   "metadata": {},
   "outputs": [
    {
     "name": "stdout",
     "output_type": "stream",
     "text": [
      "              user_id        date  valence_intensity  fear_intensity  \\\n",
      "0  965057311499628544  1630454400           0.439707        0.472883   \n",
      "1           560094127  1630454400           0.439707        0.472883   \n",
      "2  995661949655441408  1630454400           0.439707        0.472883   \n",
      "3  958199801807437824  1630454400           0.439707        0.472883   \n",
      "4           704369491  1630454400           0.439707        0.472883   \n",
      "\n",
      "   anger_intensity  happiness_intensity  sadness_intensity  \\\n",
      "0         0.468737             0.273811           0.436184   \n",
      "1         0.468737             0.273811           0.436184   \n",
      "2         0.468737             0.273811           0.436184   \n",
      "3         0.468737             0.273811           0.436184   \n",
      "4         0.468737             0.273811           0.436184   \n",
      "\n",
      "   rolling_mean_valence  rolling_mean_fear  rolling_mean_anger  \\\n",
      "0              0.446884           0.457906              0.4609   \n",
      "1              0.446884           0.457906              0.4609   \n",
      "2              0.446884           0.457906              0.4609   \n",
      "3              0.446884           0.457906              0.4609   \n",
      "4              0.446884           0.457906              0.4609   \n",
      "\n",
      "   rolling_mean_happiness  rolling_mean_sadness  \n",
      "0                0.284806              0.425135  \n",
      "1                0.284806              0.425135  \n",
      "2                0.284806              0.425135  \n",
      "3                0.284806              0.425135  \n",
      "4                0.284806              0.425135  \n"
     ]
    }
   ],
   "source": [
    "# get all users' ID\n",
    "user_ids = all_data['user_id'].unique()\n",
    "\n",
    "generated_features_list = []\n",
    "\n",
    "# generate the date of 5 days further\n",
    "future_dates = pd.date_range(start=all_data['date'].max() + pd.Timedelta(days=1), periods=5)\n",
    "\n",
    "# generate for every user\n",
    "for date in future_dates:\n",
    "    for user_id in user_ids:\n",
    "        row = {'user_id': user_id, 'date': date}\n",
    "        generated_features_list.append(row)\n",
    "\n",
    "generated_features = pd.DataFrame(generated_features_list)\n",
    "\n",
    "# predict the features\n",
    "generated_features['date'] = generated_features['date'].apply(lambda x: int(x.timestamp()))\n",
    "for feature in features:\n",
    "    regressor = regressors[feature]\n",
    "    X_future = generated_features[['date']].values.reshape(-1, 1)\n",
    "    generated_features[feature] = regressor.predict(X_future)\n",
    "\n",
    "# inverse transformer by standardization\n",
    "generated_features[features] = scaler.inverse_transform(generated_features[features])\n",
    "\n",
    "print(generated_features.head())"
   ]
  },
  {
   "cell_type": "code",
   "execution_count": 15,
   "metadata": {},
   "outputs": [
    {
     "name": "stdout",
     "output_type": "stream",
     "text": [
      "              user_id        date  valence_intensity  fear_intensity  \\\n",
      "0  965057311499628544  1630454400           0.439707        0.472883   \n",
      "1           560094127  1630454400           0.439707        0.472883   \n",
      "2  995661949655441408  1630454400           0.439707        0.472883   \n",
      "3  958199801807437824  1630454400           0.439707        0.472883   \n",
      "4           704369491  1630454400           0.439707        0.472883   \n",
      "\n",
      "   anger_intensity  happiness_intensity  sadness_intensity  \\\n",
      "0         0.468737             0.273811           0.436184   \n",
      "1         0.468737             0.273811           0.436184   \n",
      "2         0.468737             0.273811           0.436184   \n",
      "3         0.468737             0.273811           0.436184   \n",
      "4         0.468737             0.273811           0.436184   \n",
      "\n",
      "   rolling_mean_valence  rolling_mean_fear  rolling_mean_anger  \\\n",
      "0              0.446884           0.457906              0.4609   \n",
      "1              0.446884           0.457906              0.4609   \n",
      "2              0.446884           0.457906              0.4609   \n",
      "3              0.446884           0.457906              0.4609   \n",
      "4              0.446884           0.457906              0.4609   \n",
      "\n",
      "   rolling_mean_happiness  rolling_mean_sadness  predicted_sentiment  \n",
      "0                0.284806              0.425135                    0  \n",
      "1                0.284806              0.425135                    0  \n",
      "2                0.284806              0.425135                    0  \n",
      "3                0.284806              0.425135                    0  \n",
      "4                0.284806              0.425135                    0  \n"
     ]
    }
   ],
   "source": [
    "# predict emotion\n",
    "X_generated = generated_features[features]\n",
    "predicted_sentiments = rf_clf.predict(X_generated)\n",
    "\n",
    "generated_features['predicted_sentiment'] = predicted_sentiments\n",
    "\n",
    "print(generated_features.head())"
   ]
  },
  {
   "cell_type": "code",
   "execution_count": 16,
   "metadata": {},
   "outputs": [
    {
     "name": "stdout",
     "output_type": "stream",
     "text": [
      "分类模型性能评估：\n",
      "              precision    recall  f1-score   support\n",
      "\n",
      "          -1       0.97      0.04      0.08     18349\n",
      "           0       0.19      1.00      0.32      5212\n",
      "           1       1.00      0.16      0.27      4931\n",
      "\n",
      "    accuracy                           0.24     28492\n",
      "   macro avg       0.72      0.40      0.23     28492\n",
      "weighted avg       0.84      0.24      0.16     28492\n",
      "\n"
     ]
    }
   ],
   "source": [
    "# evaluation\n",
    "print(\"evaluation of clf\")\n",
    "y_true = validation_data['sentiment']\n",
    "y_pred = clf.predict(validation_data[features])\n",
    "\n",
    "print(classification_report(y_true, y_pred))"
   ]
  },
  {
   "cell_type": "code",
   "execution_count": null,
   "metadata": {},
   "outputs": [],
   "source": []
  }
 ],
 "metadata": {
  "kernelspec": {
   "display_name": "Python 3",
   "language": "python",
   "name": "python3"
  },
  "language_info": {
   "codemirror_mode": {
    "name": "ipython",
    "version": 3
   },
   "file_extension": ".py",
   "mimetype": "text/x-python",
   "name": "python",
   "nbconvert_exporter": "python",
   "pygments_lexer": "ipython3",
   "version": "3.11.5"
  }
 },
 "nbformat": 4,
 "nbformat_minor": 2
}
